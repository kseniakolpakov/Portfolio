{
 "cells": [
  {
   "cell_type": "markdown",
   "metadata": {
    "toc": true
   },
   "source": [
    "<h1>Содержание<span class=\"tocSkip\"></span></h1>\n",
    "<div class=\"toc\"><ul class=\"toc-item\"><li><span><a href=\"#Подготовка\" data-toc-modified-id=\"Подготовка-1\"><span class=\"toc-item-num\">1&nbsp;&nbsp;</span>Подготовка</a></span></li><li><span><a href=\"#Анализ\" data-toc-modified-id=\"Анализ-2\"><span class=\"toc-item-num\">2&nbsp;&nbsp;</span>Анализ</a></span><ul class=\"toc-item\"><li><span><a href=\"#Создание-признаков\" data-toc-modified-id=\"Создание-признаков-2.1\"><span class=\"toc-item-num\">2.1&nbsp;&nbsp;</span>Создание признаков</a></span></li></ul></li><li><span><a href=\"#Обучение\" data-toc-modified-id=\"Обучение-3\"><span class=\"toc-item-num\">3&nbsp;&nbsp;</span>Обучение</a></span></li><li><span><a href=\"#Тестирование\" data-toc-modified-id=\"Тестирование-4\"><span class=\"toc-item-num\">4&nbsp;&nbsp;</span>Тестирование</a></span></li><li><span><a href=\"#Чек-лист-проверки\" data-toc-modified-id=\"Чек-лист-проверки-5\"><span class=\"toc-item-num\">5&nbsp;&nbsp;</span>Чек-лист проверки</a></span></li></ul></div>"
   ]
  },
  {
   "cell_type": "markdown",
   "metadata": {},
   "source": [
    "#  Прогнозирование заказов такси"
   ]
  },
  {
   "cell_type": "markdown",
   "metadata": {},
   "source": [
    "Компания «Чётенькое такси» собрала исторические данные о заказах такси в аэропортах. Чтобы привлекать больше водителей в период пиковой нагрузки, нужно спрогнозировать количество заказов такси на следующий час. Постройте модель для такого предсказания.\n",
    "\n",
    "Значение метрики *RMSE* на тестовой выборке должно быть не больше 48.\n",
    "\n",
    "Вам нужно:\n",
    "\n",
    "1. Загрузить данные и выполнить их ресемплирование по одному часу.\n",
    "2. Проанализировать данные.\n",
    "3. Обучить разные модели с различными гиперпараметрами. Сделать тестовую выборку размером 10% от исходных данных.\n",
    "4. Проверить данные на тестовой выборке и сделать выводы.\n",
    "\n",
    "\n",
    "Данные лежат в файле `taxi.csv`. Количество заказов находится в столбце `num_orders` (от англ. *number of orders*, «число заказов»)."
   ]
  },
  {
   "cell_type": "markdown",
   "metadata": {},
   "source": [
    "## Подготовка"
   ]
  },
  {
   "cell_type": "code",
   "execution_count": 2,
   "metadata": {},
   "outputs": [],
   "source": [
    "import pandas as pd\n",
    "import numpy as np\n",
    "import matplotlib.pyplot as plt\n",
    "from statsmodels.tsa.seasonal import seasonal_decompose\n",
    "from sklearn.model_selection import train_test_split, cross_val_score, GridSearchCV, TimeSeriesSplit\n",
    "from sklearn.linear_model import LinearRegression\n",
    "from sklearn.metrics import mean_squared_error\n",
    "from sklearn.ensemble import RandomForestRegressor\n",
    "from lightgbm import LGBMRegressor\n",
    "import lightgbm as lgb\n",
    "from sklearn.dummy import DummyRegressor"
   ]
  },
  {
   "cell_type": "code",
   "execution_count": 3,
   "metadata": {},
   "outputs": [],
   "source": [
    "data = pd.read_csv('/datasets/taxi.csv', parse_dates=[0], index_col='datetime')"
   ]
  },
  {
   "cell_type": "code",
   "execution_count": 4,
   "metadata": {},
   "outputs": [
    {
     "data": {
      "text/html": [
       "<div>\n",
       "<style scoped>\n",
       "    .dataframe tbody tr th:only-of-type {\n",
       "        vertical-align: middle;\n",
       "    }\n",
       "\n",
       "    .dataframe tbody tr th {\n",
       "        vertical-align: top;\n",
       "    }\n",
       "\n",
       "    .dataframe thead th {\n",
       "        text-align: right;\n",
       "    }\n",
       "</style>\n",
       "<table border=\"1\" class=\"dataframe\">\n",
       "  <thead>\n",
       "    <tr style=\"text-align: right;\">\n",
       "      <th></th>\n",
       "      <th>num_orders</th>\n",
       "    </tr>\n",
       "    <tr>\n",
       "      <th>datetime</th>\n",
       "      <th></th>\n",
       "    </tr>\n",
       "  </thead>\n",
       "  <tbody>\n",
       "    <tr>\n",
       "      <th>2018-03-01 00:00:00</th>\n",
       "      <td>9</td>\n",
       "    </tr>\n",
       "    <tr>\n",
       "      <th>2018-03-01 00:10:00</th>\n",
       "      <td>14</td>\n",
       "    </tr>\n",
       "    <tr>\n",
       "      <th>2018-03-01 00:20:00</th>\n",
       "      <td>28</td>\n",
       "    </tr>\n",
       "    <tr>\n",
       "      <th>2018-03-01 00:30:00</th>\n",
       "      <td>20</td>\n",
       "    </tr>\n",
       "    <tr>\n",
       "      <th>2018-03-01 00:40:00</th>\n",
       "      <td>32</td>\n",
       "    </tr>\n",
       "  </tbody>\n",
       "</table>\n",
       "</div>"
      ],
      "text/plain": [
       "                     num_orders\n",
       "datetime                       \n",
       "2018-03-01 00:00:00           9\n",
       "2018-03-01 00:10:00          14\n",
       "2018-03-01 00:20:00          28\n",
       "2018-03-01 00:30:00          20\n",
       "2018-03-01 00:40:00          32"
      ]
     },
     "execution_count": 4,
     "metadata": {},
     "output_type": "execute_result"
    }
   ],
   "source": [
    "data.head()"
   ]
  },
  {
   "cell_type": "code",
   "execution_count": 5,
   "metadata": {},
   "outputs": [
    {
     "name": "stdout",
     "output_type": "stream",
     "text": [
      "<class 'pandas.core.frame.DataFrame'>\n",
      "DatetimeIndex: 26496 entries, 2018-03-01 00:00:00 to 2018-08-31 23:50:00\n",
      "Data columns (total 1 columns):\n",
      " #   Column      Non-Null Count  Dtype\n",
      "---  ------      --------------  -----\n",
      " 0   num_orders  26496 non-null  int64\n",
      "dtypes: int64(1)\n",
      "memory usage: 414.0 KB\n"
     ]
    }
   ],
   "source": [
    "data.info()"
   ]
  },
  {
   "cell_type": "markdown",
   "metadata": {},
   "source": [
    "**Вывод:** загрузили датафрейм, он содержит 1 столбца: количество заказов(целое число), а индекс является датой и временем,  количество записей в столбце равно 26496. "
   ]
  },
  {
   "cell_type": "markdown",
   "metadata": {},
   "source": [
    "## Анализ"
   ]
  },
  {
   "cell_type": "markdown",
   "metadata": {},
   "source": [
    "Проверим, расположены ли индексы в порядке возрастания"
   ]
  },
  {
   "cell_type": "code",
   "execution_count": 6,
   "metadata": {},
   "outputs": [
    {
     "data": {
      "text/plain": [
       "True"
      ]
     },
     "execution_count": 6,
     "metadata": {},
     "output_type": "execute_result"
    }
   ],
   "source": [
    "data.index.is_monotonic"
   ]
  },
  {
   "cell_type": "markdown",
   "metadata": {},
   "source": [
    "Произведем рессемплирования по одному часу"
   ]
  },
  {
   "cell_type": "code",
   "execution_count": 7,
   "metadata": {},
   "outputs": [],
   "source": [
    "data = data.resample('1H').sum()"
   ]
  },
  {
   "cell_type": "markdown",
   "metadata": {},
   "source": [
    "Построим график временного ряда"
   ]
  },
  {
   "cell_type": "code",
   "execution_count": 8,
   "metadata": {},
   "outputs": [
    {
     "data": {
      "image/png": "[encoded data removed]",
      "text/plain": [
       "<Figure size 1080x576 with 1 Axes>"
      ]
     },
     "metadata": {
      "needs_background": "light"
     },
     "output_type": "display_data"
    }
   ],
   "source": [
    "data.plot(figsize = (15,8));\n",
    "plt.title('График количества заказов такси по датам')\n",
    "plt.xlabel('Дата заказа')\n",
    "plt.ylabel('Количество заказов')\n",
    "plt.show();"
   ]
  },
  {
   "cell_type": "markdown",
   "metadata": {},
   "source": [
    "Разложим временной ряд на тренды и сезонность"
   ]
  },
  {
   "cell_type": "code",
   "execution_count": 9,
   "metadata": {},
   "outputs": [],
   "source": [
    "decomposed = seasonal_decompose(data)"
   ]
  },
  {
   "cell_type": "code",
   "execution_count": 10,
   "metadata": {},
   "outputs": [
    {
     "data": {
      "image/png": "[encoded data removed]",
      "text/plain": [
       "<Figure size 432x288 with 1 Axes>"
      ]
     },
     "metadata": {
      "needs_background": "light"
     },
     "output_type": "display_data"
    }
   ],
   "source": [
    "decomposed.trend.plot()\n",
    "plt.xlabel('Дата заказа такси')\n",
    "plt.ylabel('Количество заказов')\n",
    "plt.title('График тренда заказов такси')\n",
    "plt.show();"
   ]
  },
  {
   "cell_type": "code",
   "execution_count": 11,
   "metadata": {},
   "outputs": [
    {
     "data": {
      "image/png": "[encoded data removed]",
      "text/plain": [
       "<Figure size 1080x576 with 1 Axes>"
      ]
     },
     "metadata": {
      "needs_background": "light"
     },
     "output_type": "display_data"
    }
   ],
   "source": [
    "decomposed.seasonal.plot(figsize = (15,8))\n",
    "plt.xlabel('Дата заказа такси')\n",
    "plt.ylabel('Количество заказов')\n",
    "plt.title('График сезонности заказов такси')\n",
    "plt.show();"
   ]
  },
  {
   "cell_type": "markdown",
   "metadata": {},
   "source": [
    "Рассмотрим сезонность в большем масштабе: для одного дня - 01.03.2018. "
   ]
  },
  {
   "cell_type": "code",
   "execution_count": 12,
   "metadata": {},
   "outputs": [
    {
     "data": {
      "image/png": "[encoded data removed]",
      "text/plain": [
       "<Figure size 432x288 with 1 Axes>"
      ]
     },
     "metadata": {
      "needs_background": "light"
     },
     "output_type": "display_data"
    }
   ],
   "source": [
    "decomposed.seasonal['2018-03-01 00:00:00': '2018-03-02 00:00:00'].plot(ax=plt.gca())\n",
    "plt.xlabel('Время заказа такси')\n",
    "plt.ylabel('Количество заказов')\n",
    "plt.title('График сезонности заказов такси для 01.03.2018')\n",
    "plt.show();"
   ]
  },
  {
   "cell_type": "markdown",
   "metadata": {},
   "source": [
    "По графикам тренда и сезонности можно заметить, что:\n",
    "1. меньше всего такси заказывают в период с 03.00 до 08.00\n",
    "2. число заказов такси летом выше чем весной. "
   ]
  },
  {
   "cell_type": "markdown",
   "metadata": {},
   "source": [
    "Посчитаем скользящее среднее с размером окна, равным 10"
   ]
  },
  {
   "cell_type": "code",
   "execution_count": 8,
   "metadata": {},
   "outputs": [],
   "source": [
    "data['rolling_mean'] = data.rolling(10).mean()"
   ]
  },
  {
   "cell_type": "code",
   "execution_count": 9,
   "metadata": {},
   "outputs": [
    {
     "data": {
      "image/png": "[encoded data removed]",
      "text/plain": [
       "<Figure size 1080x576 with 1 Axes>"
      ]
     },
     "metadata": {
      "needs_background": "light"
     },
     "output_type": "display_data"
    }
   ],
   "source": [
    "data.plot(figsize = (15,8))\n",
    "plt.xlabel('Дата заказа такси')\n",
    "plt.ylabel('Количество заказов такси')\n",
    "plt.title('График заказов такси и скользящего среднего')\n",
    "plt.show()"
   ]
  },
  {
   "cell_type": "markdown",
   "metadata": {},
   "source": [
    "**Вывод:** изучили исходный набор данных, рассчитали скользящее среднее с размером окна, котрый равен 10. Посмотрели на основные тренды и сезонность."
   ]
  },
  {
   "cell_type": "markdown",
   "metadata": {},
   "source": [
    "<h3>Создание признаков</h3>"
   ]
  },
  {
   "cell_type": "markdown",
   "metadata": {},
   "source": [
    "Добавим такие признаки как час и день недели заказа"
   ]
  },
  {
   "cell_type": "code",
   "execution_count": 10,
   "metadata": {},
   "outputs": [],
   "source": [
    "def make_features(data, max_lag, rolling_mean_size):\n",
    "    data['dayofweek'] = data.index.dayofweek\n",
    "    data['hour'] = data.index.hour\n",
    "    \n",
    "    for lag in range(1, max_lag + 1):\n",
    "        data['lag_{}'.format(lag)] = data['num_orders'].shift(lag)\n",
    "\n",
    "    data['rolling_mean'] = data['num_orders'].shift().rolling(rolling_mean_size).mean()\n",
    "    \n",
    "    return data"
   ]
  },
  {
   "cell_type": "markdown",
   "metadata": {},
   "source": [
    "Создадим признаки с гиперпараметрами max_lag и rolling_mean_size, равными 168 и 168 соответственно. "
   ]
  },
  {
   "cell_type": "code",
   "execution_count": 11,
   "metadata": {},
   "outputs": [
    {
     "data": {
      "text/html": [
       "<div>\n",
       "<style scoped>\n",
       "    .dataframe tbody tr th:only-of-type {\n",
       "        vertical-align: middle;\n",
       "    }\n",
       "\n",
       "    .dataframe tbody tr th {\n",
       "        vertical-align: top;\n",
       "    }\n",
       "\n",
       "    .dataframe thead th {\n",
       "        text-align: right;\n",
       "    }\n",
       "</style>\n",
       "<table border=\"1\" class=\"dataframe\">\n",
       "  <thead>\n",
       "    <tr style=\"text-align: right;\">\n",
       "      <th></th>\n",
       "      <th>num_orders</th>\n",
       "      <th>rolling_mean</th>\n",
       "      <th>dayofweek</th>\n",
       "      <th>hour</th>\n",
       "      <th>lag_1</th>\n",
       "      <th>lag_2</th>\n",
       "      <th>lag_3</th>\n",
       "      <th>lag_4</th>\n",
       "      <th>lag_5</th>\n",
       "      <th>lag_6</th>\n",
       "      <th>...</th>\n",
       "      <th>lag_159</th>\n",
       "      <th>lag_160</th>\n",
       "      <th>lag_161</th>\n",
       "      <th>lag_162</th>\n",
       "      <th>lag_163</th>\n",
       "      <th>lag_164</th>\n",
       "      <th>lag_165</th>\n",
       "      <th>lag_166</th>\n",
       "      <th>lag_167</th>\n",
       "      <th>lag_168</th>\n",
       "    </tr>\n",
       "    <tr>\n",
       "      <th>datetime</th>\n",
       "      <th></th>\n",
       "      <th></th>\n",
       "      <th></th>\n",
       "      <th></th>\n",
       "      <th></th>\n",
       "      <th></th>\n",
       "      <th></th>\n",
       "      <th></th>\n",
       "      <th></th>\n",
       "      <th></th>\n",
       "      <th></th>\n",
       "      <th></th>\n",
       "      <th></th>\n",
       "      <th></th>\n",
       "      <th></th>\n",
       "      <th></th>\n",
       "      <th></th>\n",
       "      <th></th>\n",
       "      <th></th>\n",
       "      <th></th>\n",
       "      <th></th>\n",
       "    </tr>\n",
       "  </thead>\n",
       "  <tbody>\n",
       "    <tr>\n",
       "      <th>2018-03-01 00:00:00</th>\n",
       "      <td>124</td>\n",
       "      <td>NaN</td>\n",
       "      <td>3</td>\n",
       "      <td>0</td>\n",
       "      <td>NaN</td>\n",
       "      <td>NaN</td>\n",
       "      <td>NaN</td>\n",
       "      <td>NaN</td>\n",
       "      <td>NaN</td>\n",
       "      <td>NaN</td>\n",
       "      <td>...</td>\n",
       "      <td>NaN</td>\n",
       "      <td>NaN</td>\n",
       "      <td>NaN</td>\n",
       "      <td>NaN</td>\n",
       "      <td>NaN</td>\n",
       "      <td>NaN</td>\n",
       "      <td>NaN</td>\n",
       "      <td>NaN</td>\n",
       "      <td>NaN</td>\n",
       "      <td>NaN</td>\n",
       "    </tr>\n",
       "    <tr>\n",
       "      <th>2018-03-01 01:00:00</th>\n",
       "      <td>85</td>\n",
       "      <td>NaN</td>\n",
       "      <td>3</td>\n",
       "      <td>1</td>\n",
       "      <td>124.0</td>\n",
       "      <td>NaN</td>\n",
       "      <td>NaN</td>\n",
       "      <td>NaN</td>\n",
       "      <td>NaN</td>\n",
       "      <td>NaN</td>\n",
       "      <td>...</td>\n",
       "      <td>NaN</td>\n",
       "      <td>NaN</td>\n",
       "      <td>NaN</td>\n",
       "      <td>NaN</td>\n",
       "      <td>NaN</td>\n",
       "      <td>NaN</td>\n",
       "      <td>NaN</td>\n",
       "      <td>NaN</td>\n",
       "      <td>NaN</td>\n",
       "      <td>NaN</td>\n",
       "    </tr>\n",
       "    <tr>\n",
       "      <th>2018-03-01 02:00:00</th>\n",
       "      <td>71</td>\n",
       "      <td>NaN</td>\n",
       "      <td>3</td>\n",
       "      <td>2</td>\n",
       "      <td>85.0</td>\n",
       "      <td>124.0</td>\n",
       "      <td>NaN</td>\n",
       "      <td>NaN</td>\n",
       "      <td>NaN</td>\n",
       "      <td>NaN</td>\n",
       "      <td>...</td>\n",
       "      <td>NaN</td>\n",
       "      <td>NaN</td>\n",
       "      <td>NaN</td>\n",
       "      <td>NaN</td>\n",
       "      <td>NaN</td>\n",
       "      <td>NaN</td>\n",
       "      <td>NaN</td>\n",
       "      <td>NaN</td>\n",
       "      <td>NaN</td>\n",
       "      <td>NaN</td>\n",
       "    </tr>\n",
       "    <tr>\n",
       "      <th>2018-03-01 03:00:00</th>\n",
       "      <td>66</td>\n",
       "      <td>NaN</td>\n",
       "      <td>3</td>\n",
       "      <td>3</td>\n",
       "      <td>71.0</td>\n",
       "      <td>85.0</td>\n",
       "      <td>124.0</td>\n",
       "      <td>NaN</td>\n",
       "      <td>NaN</td>\n",
       "      <td>NaN</td>\n",
       "      <td>...</td>\n",
       "      <td>NaN</td>\n",
       "      <td>NaN</td>\n",
       "      <td>NaN</td>\n",
       "      <td>NaN</td>\n",
       "      <td>NaN</td>\n",
       "      <td>NaN</td>\n",
       "      <td>NaN</td>\n",
       "      <td>NaN</td>\n",
       "      <td>NaN</td>\n",
       "      <td>NaN</td>\n",
       "    </tr>\n",
       "    <tr>\n",
       "      <th>2018-03-01 04:00:00</th>\n",
       "      <td>43</td>\n",
       "      <td>NaN</td>\n",
       "      <td>3</td>\n",
       "      <td>4</td>\n",
       "      <td>66.0</td>\n",
       "      <td>71.0</td>\n",
       "      <td>85.0</td>\n",
       "      <td>124.0</td>\n",
       "      <td>NaN</td>\n",
       "      <td>NaN</td>\n",
       "      <td>...</td>\n",
       "      <td>NaN</td>\n",
       "      <td>NaN</td>\n",
       "      <td>NaN</td>\n",
       "      <td>NaN</td>\n",
       "      <td>NaN</td>\n",
       "      <td>NaN</td>\n",
       "      <td>NaN</td>\n",
       "      <td>NaN</td>\n",
       "      <td>NaN</td>\n",
       "      <td>NaN</td>\n",
       "    </tr>\n",
       "    <tr>\n",
       "      <th>...</th>\n",
       "      <td>...</td>\n",
       "      <td>...</td>\n",
       "      <td>...</td>\n",
       "      <td>...</td>\n",
       "      <td>...</td>\n",
       "      <td>...</td>\n",
       "      <td>...</td>\n",
       "      <td>...</td>\n",
       "      <td>...</td>\n",
       "      <td>...</td>\n",
       "      <td>...</td>\n",
       "      <td>...</td>\n",
       "      <td>...</td>\n",
       "      <td>...</td>\n",
       "      <td>...</td>\n",
       "      <td>...</td>\n",
       "      <td>...</td>\n",
       "      <td>...</td>\n",
       "      <td>...</td>\n",
       "      <td>...</td>\n",
       "      <td>...</td>\n",
       "    </tr>\n",
       "    <tr>\n",
       "      <th>2018-08-31 19:00:00</th>\n",
       "      <td>136</td>\n",
       "      <td>154.297619</td>\n",
       "      <td>4</td>\n",
       "      <td>19</td>\n",
       "      <td>207.0</td>\n",
       "      <td>217.0</td>\n",
       "      <td>197.0</td>\n",
       "      <td>116.0</td>\n",
       "      <td>133.0</td>\n",
       "      <td>166.0</td>\n",
       "      <td>...</td>\n",
       "      <td>196.0</td>\n",
       "      <td>187.0</td>\n",
       "      <td>160.0</td>\n",
       "      <td>246.0</td>\n",
       "      <td>273.0</td>\n",
       "      <td>173.0</td>\n",
       "      <td>242.0</td>\n",
       "      <td>166.0</td>\n",
       "      <td>179.0</td>\n",
       "      <td>113.0</td>\n",
       "    </tr>\n",
       "    <tr>\n",
       "      <th>2018-08-31 20:00:00</th>\n",
       "      <td>154</td>\n",
       "      <td>154.434524</td>\n",
       "      <td>4</td>\n",
       "      <td>20</td>\n",
       "      <td>136.0</td>\n",
       "      <td>207.0</td>\n",
       "      <td>217.0</td>\n",
       "      <td>197.0</td>\n",
       "      <td>116.0</td>\n",
       "      <td>133.0</td>\n",
       "      <td>...</td>\n",
       "      <td>118.0</td>\n",
       "      <td>196.0</td>\n",
       "      <td>187.0</td>\n",
       "      <td>160.0</td>\n",
       "      <td>246.0</td>\n",
       "      <td>273.0</td>\n",
       "      <td>173.0</td>\n",
       "      <td>242.0</td>\n",
       "      <td>166.0</td>\n",
       "      <td>179.0</td>\n",
       "    </tr>\n",
       "    <tr>\n",
       "      <th>2018-08-31 21:00:00</th>\n",
       "      <td>159</td>\n",
       "      <td>154.285714</td>\n",
       "      <td>4</td>\n",
       "      <td>21</td>\n",
       "      <td>154.0</td>\n",
       "      <td>136.0</td>\n",
       "      <td>207.0</td>\n",
       "      <td>217.0</td>\n",
       "      <td>197.0</td>\n",
       "      <td>116.0</td>\n",
       "      <td>...</td>\n",
       "      <td>74.0</td>\n",
       "      <td>118.0</td>\n",
       "      <td>196.0</td>\n",
       "      <td>187.0</td>\n",
       "      <td>160.0</td>\n",
       "      <td>246.0</td>\n",
       "      <td>273.0</td>\n",
       "      <td>173.0</td>\n",
       "      <td>242.0</td>\n",
       "      <td>166.0</td>\n",
       "    </tr>\n",
       "    <tr>\n",
       "      <th>2018-08-31 22:00:00</th>\n",
       "      <td>223</td>\n",
       "      <td>154.244048</td>\n",
       "      <td>4</td>\n",
       "      <td>22</td>\n",
       "      <td>159.0</td>\n",
       "      <td>154.0</td>\n",
       "      <td>136.0</td>\n",
       "      <td>207.0</td>\n",
       "      <td>217.0</td>\n",
       "      <td>197.0</td>\n",
       "      <td>...</td>\n",
       "      <td>22.0</td>\n",
       "      <td>74.0</td>\n",
       "      <td>118.0</td>\n",
       "      <td>196.0</td>\n",
       "      <td>187.0</td>\n",
       "      <td>160.0</td>\n",
       "      <td>246.0</td>\n",
       "      <td>273.0</td>\n",
       "      <td>173.0</td>\n",
       "      <td>242.0</td>\n",
       "    </tr>\n",
       "    <tr>\n",
       "      <th>2018-08-31 23:00:00</th>\n",
       "      <td>205</td>\n",
       "      <td>154.130952</td>\n",
       "      <td>4</td>\n",
       "      <td>23</td>\n",
       "      <td>223.0</td>\n",
       "      <td>159.0</td>\n",
       "      <td>154.0</td>\n",
       "      <td>136.0</td>\n",
       "      <td>207.0</td>\n",
       "      <td>217.0</td>\n",
       "      <td>...</td>\n",
       "      <td>108.0</td>\n",
       "      <td>22.0</td>\n",
       "      <td>74.0</td>\n",
       "      <td>118.0</td>\n",
       "      <td>196.0</td>\n",
       "      <td>187.0</td>\n",
       "      <td>160.0</td>\n",
       "      <td>246.0</td>\n",
       "      <td>273.0</td>\n",
       "      <td>173.0</td>\n",
       "    </tr>\n",
       "  </tbody>\n",
       "</table>\n",
       "<p>4416 rows × 172 columns</p>\n",
       "</div>"
      ],
      "text/plain": [
       "                     num_orders  rolling_mean  dayofweek  hour  lag_1  lag_2  \\\n",
       "datetime                                                                       \n",
       "2018-03-01 00:00:00         124           NaN          3     0    NaN    NaN   \n",
       "2018-03-01 01:00:00          85           NaN          3     1  124.0    NaN   \n",
       "2018-03-01 02:00:00          71           NaN          3     2   85.0  124.0   \n",
       "2018-03-01 03:00:00          66           NaN          3     3   71.0   85.0   \n",
       "2018-03-01 04:00:00          43           NaN          3     4   66.0   71.0   \n",
       "...                         ...           ...        ...   ...    ...    ...   \n",
       "2018-08-31 19:00:00         136    154.297619          4    19  207.0  217.0   \n",
       "2018-08-31 20:00:00         154    154.434524          4    20  136.0  207.0   \n",
       "2018-08-31 21:00:00         159    154.285714          4    21  154.0  136.0   \n",
       "2018-08-31 22:00:00         223    154.244048          4    22  159.0  154.0   \n",
       "2018-08-31 23:00:00         205    154.130952          4    23  223.0  159.0   \n",
       "\n",
       "                     lag_3  lag_4  lag_5  lag_6  ...  lag_159  lag_160  \\\n",
       "datetime                                         ...                     \n",
       "2018-03-01 00:00:00    NaN    NaN    NaN    NaN  ...      NaN      NaN   \n",
       "2018-03-01 01:00:00    NaN    NaN    NaN    NaN  ...      NaN      NaN   \n",
       "2018-03-01 02:00:00    NaN    NaN    NaN    NaN  ...      NaN      NaN   \n",
       "2018-03-01 03:00:00  124.0    NaN    NaN    NaN  ...      NaN      NaN   \n",
       "2018-03-01 04:00:00   85.0  124.0    NaN    NaN  ...      NaN      NaN   \n",
       "...                    ...    ...    ...    ...  ...      ...      ...   \n",
       "2018-08-31 19:00:00  197.0  116.0  133.0  166.0  ...    196.0    187.0   \n",
       "2018-08-31 20:00:00  217.0  197.0  116.0  133.0  ...    118.0    196.0   \n",
       "2018-08-31 21:00:00  207.0  217.0  197.0  116.0  ...     74.0    118.0   \n",
       "2018-08-31 22:00:00  136.0  207.0  217.0  197.0  ...     22.0     74.0   \n",
       "2018-08-31 23:00:00  154.0  136.0  207.0  217.0  ...    108.0     22.0   \n",
       "\n",
       "                     lag_161  lag_162  lag_163  lag_164  lag_165  lag_166  \\\n",
       "datetime                                                                    \n",
       "2018-03-01 00:00:00      NaN      NaN      NaN      NaN      NaN      NaN   \n",
       "2018-03-01 01:00:00      NaN      NaN      NaN      NaN      NaN      NaN   \n",
       "2018-03-01 02:00:00      NaN      NaN      NaN      NaN      NaN      NaN   \n",
       "2018-03-01 03:00:00      NaN      NaN      NaN      NaN      NaN      NaN   \n",
       "2018-03-01 04:00:00      NaN      NaN      NaN      NaN      NaN      NaN   \n",
       "...                      ...      ...      ...      ...      ...      ...   \n",
       "2018-08-31 19:00:00    160.0    246.0    273.0    173.0    242.0    166.0   \n",
       "2018-08-31 20:00:00    187.0    160.0    246.0    273.0    173.0    242.0   \n",
       "2018-08-31 21:00:00    196.0    187.0    160.0    246.0    273.0    173.0   \n",
       "2018-08-31 22:00:00    118.0    196.0    187.0    160.0    246.0    273.0   \n",
       "2018-08-31 23:00:00     74.0    118.0    196.0    187.0    160.0    246.0   \n",
       "\n",
       "                     lag_167  lag_168  \n",
       "datetime                               \n",
       "2018-03-01 00:00:00      NaN      NaN  \n",
       "2018-03-01 01:00:00      NaN      NaN  \n",
       "2018-03-01 02:00:00      NaN      NaN  \n",
       "2018-03-01 03:00:00      NaN      NaN  \n",
       "2018-03-01 04:00:00      NaN      NaN  \n",
       "...                      ...      ...  \n",
       "2018-08-31 19:00:00    179.0    113.0  \n",
       "2018-08-31 20:00:00    166.0    179.0  \n",
       "2018-08-31 21:00:00    242.0    166.0  \n",
       "2018-08-31 22:00:00    173.0    242.0  \n",
       "2018-08-31 23:00:00    273.0    173.0  \n",
       "\n",
       "[4416 rows x 172 columns]"
      ]
     },
     "execution_count": 11,
     "metadata": {},
     "output_type": "execute_result"
    }
   ],
   "source": [
    "make_features(data, 168, 168)"
   ]
  },
  {
   "cell_type": "markdown",
   "metadata": {},
   "source": [
    "**Вывод:** подготовили набор данных к дальнейшему построению моделей, добавив следующие признаки: час и день недели заказа; скользящее средние с размером окна, равным 12; отстающие значения, равные 150. "
   ]
  },
  {
   "cell_type": "markdown",
   "metadata": {},
   "source": [
    "## Обучение"
   ]
  },
  {
   "cell_type": "markdown",
   "metadata": {},
   "source": [
    "Разобьем данные на тренировочную и тестовую выборки"
   ]
  },
  {
   "cell_type": "code",
   "execution_count": 12,
   "metadata": {},
   "outputs": [],
   "source": [
    "state = np.random.RandomState(12345)"
   ]
  },
  {
   "cell_type": "code",
   "execution_count": 13,
   "metadata": {},
   "outputs": [],
   "source": [
    "train, test = train_test_split(data, shuffle=False, test_size=0.1)\n",
    "train = train.dropna()"
   ]
  },
  {
   "cell_type": "code",
   "execution_count": 14,
   "metadata": {},
   "outputs": [],
   "source": [
    "features_train = train.drop(columns=['num_orders'])\n",
    "target_train = train['num_orders']\n",
    "\n",
    "features_test = test.drop(columns=['num_orders'])\n",
    "target_test = test['num_orders'] "
   ]
  },
  {
   "cell_type": "markdown",
   "metadata": {},
   "source": [
    "Построим модель линейной регрессии"
   ]
  },
  {
   "cell_type": "code",
   "execution_count": 19,
   "metadata": {},
   "outputs": [],
   "source": [
    "tscv = TimeSeriesSplit(n_splits=5)"
   ]
  },
  {
   "cell_type": "code",
   "execution_count": 20,
   "metadata": {},
   "outputs": [
    {
     "name": "stdout",
     "output_type": "stream",
     "text": [
      "Значение метрики RMSE на валидационной выборке: 22.544638204927345\n"
     ]
    }
   ],
   "source": [
    "model_linear = LinearRegression()\n",
    "rmse = cross_val_score(model_linear, features_train, target_train, cv=tscv, scoring='neg_root_mean_squared_error')\n",
    "print(\"Значение метрики RMSE на валидационной выборке:\", -rmse.mean())"
   ]
  },
  {
   "cell_type": "markdown",
   "metadata": {},
   "source": [
    "Получили, что на валидационной выборке модель линейной регрессии дает метрику RMSE, равную 22.5"
   ]
  },
  {
   "cell_type": "markdown",
   "metadata": {},
   "source": [
    "Преобразуем численные признаки день и день недели в категориальные для построения модели LightGBM"
   ]
  },
  {
   "cell_type": "code",
   "execution_count": 21,
   "metadata": {},
   "outputs": [],
   "source": [
    "train_lgb = train.copy()\n",
    "test_lgb = test.copy()"
   ]
  },
  {
   "cell_type": "code",
   "execution_count": 22,
   "metadata": {},
   "outputs": [],
   "source": [
    "categorical_features = ['dayofweek', 'hour']\n",
    "train_lgb[categorical_features] = train_lgb[categorical_features].astype('category')\n",
    "test_lgb[categorical_features] = test_lgb[categorical_features].astype('category')"
   ]
  },
  {
   "cell_type": "code",
   "execution_count": 23,
   "metadata": {},
   "outputs": [],
   "source": [
    "features_train_lgb = train_lgb.drop(columns=['num_orders'])\n",
    "target_train_lgb = train_lgb['num_orders']\n",
    "\n",
    "features_test_lgb = test_lgb.drop(columns=['num_orders'])\n",
    "target_test_lgb = test_lgb['num_orders'] "
   ]
  },
  {
   "cell_type": "markdown",
   "metadata": {},
   "source": [
    "Построим модель LightGBM"
   ]
  },
  {
   "cell_type": "code",
   "execution_count": 24,
   "metadata": {},
   "outputs": [
    {
     "data": {
      "text/plain": [
       "GridSearchCV(cv=TimeSeriesSplit(gap=0, max_train_size=None, n_splits=5, test_size=None),\n",
       "             estimator=LGBMRegressor(), n_jobs=-1,\n",
       "             param_grid={'max_depth': [10, 15, 20]},\n",
       "             scoring='neg_root_mean_squared_error')"
      ]
     },
     "execution_count": 24,
     "metadata": {},
     "output_type": "execute_result"
    }
   ],
   "source": [
    "model_lgb = lgb.LGBMRegressor()\n",
    "\n",
    "params = {'max_depth': [10, 15, 20],}\n",
    "\n",
    "grid_search = GridSearchCV(estimator=model_lgb, param_grid=params, cv=tscv, n_jobs =-1, verbose=0, scoring='neg_root_mean_squared_error', )\n",
    "\n",
    "grid_search.fit(features_train, target_train)"
   ]
  },
  {
   "cell_type": "code",
   "execution_count": 25,
   "metadata": {},
   "outputs": [
    {
     "name": "stdout",
     "output_type": "stream",
     "text": [
      "Наилучшие параметры для LightGBM: {'max_depth': 10}\n"
     ]
    }
   ],
   "source": [
    "<img src=\"https://emojigraph.org/media/apple/check-mark-button_2705.png\" align=left width=33, heigth=33>\n",
    "<div class=\"alert alert-success\">\n",
    "    <b>v2</b> 👍 </div>print('Наилучшие параметры для LightGBM:', grid_search.best_params_)"
   ]
  },
  {
   "cell_type": "code",
   "execution_count": 26,
   "metadata": {},
   "outputs": [
    {
     "name": "stdout",
     "output_type": "stream",
     "text": [
      "Наилучшая метрика RMSE на валидационной выборке: 23.096570478204875\n"
     ]
    }
   ],
   "source": [
    "print('Наилучшая метрика RMSE на валидационной выборке:', -grid_search.best_score_)"
   ]
  },
  {
   "cell_type": "markdown",
   "metadata": {},
   "source": [
    "Получили, что для модели LightGBM (с максимальной глубиной - 10) метрика RMSE на валидационной выборке равна 23.09"
   ]
  },
  {
   "cell_type": "markdown",
   "metadata": {},
   "source": [
    "Построим модель случайного леса"
   ]
  },
  {
   "cell_type": "code",
   "execution_count": 27,
   "metadata": {},
   "outputs": [
    {
     "name": "stdout",
     "output_type": "stream",
     "text": [
      "Лучшая мера RMSE на тестовой выборке: 23.048970008584423\n",
      "Лучшее глубина дерева 13\n",
      "Лучшее количество деревьев в лесу 50\n"
     ]
    }
   ],
   "source": [
    "best_n_estimators = 0\n",
    "best_depth = 0\n",
    "best_rmse = 1000000\n",
    "best_model = None\n",
    "for n_estimators in range(10, 51, 10):\n",
    "    for depth in range(1, 16):\n",
    "        model_forest = RandomForestRegressor(random_state=state, n_estimators=n_estimators, max_depth=depth)\n",
    "        #model_forest.fit(features_train, target_train)\n",
    "        #predicted_test_forest = model_forest.predict(features_test)\n",
    "        rmse = cross_val_score(model_forest, features_train, target_train, cv=tscv, scoring='neg_root_mean_squared_error')\n",
    "        rmse = -rmse.mean()\n",
    "        if rmse < best_rmse:\n",
    "            best_rmse = rmse\n",
    "            best_depth = depth\n",
    "            best_n_estimators = n_estimators\n",
    "            best_model = model_forest\n",
    "        \n",
    "print(\"Лучшая мера RMSE на тестовой выборке:\", best_rmse)\n",
    "print('Лучшее глубина дерева', best_depth)\n",
    "print('Лучшее количество деревьев в лесу', best_n_estimators)"
   ]
  },
  {
   "cell_type": "markdown",
   "metadata": {},
   "source": [
    "Получили, что для модели случайного леса (с количеством деревьев в лесу - 50, глубиной дерева - 13), метрика RMSE на валидационной выборке равна 23.04"
   ]
  },
  {
   "cell_type": "markdown",
   "metadata": {},
   "source": [
    "Таким образом, наилучшей моделью является модель линейной регресии, наилучшая метрика RMSE на валидационной для этой модели выборке равна 22.5"
   ]
  },
  {
   "cell_type": "markdown",
   "metadata": {},
   "source": [
    "## Тестирование"
   ]
  },
  {
   "cell_type": "markdown",
   "metadata": {},
   "source": [
    "Посмотрим на качество константной модели"
   ]
  },
  {
   "cell_type": "code",
   "execution_count": 18,
   "metadata": {},
   "outputs": [
    {
     "name": "stdout",
     "output_type": "stream",
     "text": [
      "RMSE для константной модели: 83.97941361168559\n"
     ]
    }
   ],
   "source": [
    "model_dummy = DummyRegressor(strategy='mean')\n",
    "model_dummy.fit(features_train, target_train)\n",
    "predictions_dummy = model_dummy.predict(features_test)\n",
    "print('RMSE для константной модели:', mean_squared_error(target_test, predictions_dummy) ** 0.5)"
   ]
  },
  {
   "cell_type": "markdown",
   "metadata": {},
   "source": [
    "Теперь протестируем наилучшую модель на тестовой выборке"
   ]
  },
  {
   "cell_type": "code",
   "execution_count": 17,
   "metadata": {},
   "outputs": [],
   "source": [
    "features_test = features_test.dropna()\n",
    "target_test = target_test.dropna()"
   ]
  },
  {
   "cell_type": "code",
   "execution_count": 30,
   "metadata": {},
   "outputs": [
    {
     "name": "stdout",
     "output_type": "stream",
     "text": [
      "34.52761419038003\n"
     ]
    }
   ],
   "source": [
    "model_linear.fit(features_train, target_train)\n",
    "predictions_test = model_linear.predict(features_test)\n",
    "print(mean_squared_error(target_test, predictions_test) ** 0.5)"
   ]
  },
  {
   "cell_type": "code",
   "execution_count": 31,
   "metadata": {},
   "outputs": [
    {
     "name": "stdout",
     "output_type": "stream",
     "text": [
      "Метрика RMSE для линейной модели на тестовой выборке: 34.52761419038003\n"
     ]
    }
   ],
   "source": [
    "print(\"Метрика RMSE для линейной модели на тестовой выборке:\", mean_squared_error(target_test, predictions_test) ** 0.5)"
   ]
  },
  {
   "cell_type": "markdown",
   "metadata": {},
   "source": [
    "Получили, что для модели линейной регрессии значение метрики RMSE на тестовой выборке равно 34.5, что выше значения этой выборки для константной модели (RMSE которой равно 84)"
   ]
  }
 ],
 "metadata": {
  "ExecuteTimeLog": [
   {
    "duration": 433,
    "start_time": "2023-10-12T09:30:00.888Z"
   },
   {
    "duration": 134,
    "start_time": "2023-10-12T09:30:31.326Z"
   },
   {
    "duration": 12,
    "start_time": "2023-10-12T09:30:44.431Z"
   },
   {
    "duration": 386,
    "start_time": "2023-10-12T18:45:01.758Z"
   },
   {
    "duration": 116,
    "start_time": "2023-10-12T18:45:02.146Z"
   },
   {
    "duration": 13,
    "start_time": "2023-10-12T18:45:02.357Z"
   },
   {
    "duration": 13,
    "start_time": "2023-10-12T18:45:02.875Z"
   },
   {
    "duration": 69,
    "start_time": "2023-10-12T18:49:13.848Z"
   },
   {
    "duration": 744,
    "start_time": "2023-10-12T18:50:33.773Z"
   },
   {
    "duration": 15,
    "start_time": "2023-10-12T18:51:03.908Z"
   },
   {
    "duration": 7,
    "start_time": "2023-10-12T18:51:13.467Z"
   },
   {
    "duration": 60,
    "start_time": "2023-10-12T18:51:22.499Z"
   },
   {
    "duration": 4,
    "start_time": "2023-10-12T18:54:17.412Z"
   },
   {
    "duration": 4,
    "start_time": "2023-10-12T18:54:25.418Z"
   },
   {
    "duration": 4,
    "start_time": "2023-10-12T18:55:48.419Z"
   },
   {
    "duration": 8,
    "start_time": "2023-10-12T18:55:49.379Z"
   },
   {
    "duration": 3,
    "start_time": "2023-10-12T18:56:19.958Z"
   },
   {
    "duration": 9,
    "start_time": "2023-10-12T18:56:20.496Z"
   },
   {
    "duration": 5,
    "start_time": "2023-10-12T18:56:26.592Z"
   },
   {
    "duration": 6,
    "start_time": "2023-10-12T18:56:31.124Z"
   },
   {
    "duration": 9,
    "start_time": "2023-10-12T18:56:45.915Z"
   },
   {
    "duration": 366,
    "start_time": "2023-10-12T18:56:50.654Z"
   },
   {
    "duration": 45,
    "start_time": "2023-10-12T18:56:51.022Z"
   },
   {
    "duration": 14,
    "start_time": "2023-10-12T18:56:51.070Z"
   },
   {
    "duration": 20,
    "start_time": "2023-10-12T18:56:51.086Z"
   },
   {
    "duration": 13,
    "start_time": "2023-10-12T18:56:51.108Z"
   },
   {
    "duration": 20,
    "start_time": "2023-10-12T18:56:51.123Z"
   },
   {
    "duration": 23,
    "start_time": "2023-10-12T18:56:51.145Z"
   },
   {
    "duration": 11,
    "start_time": "2023-10-12T18:56:51.170Z"
   },
   {
    "duration": 16,
    "start_time": "2023-10-12T18:56:51.183Z"
   },
   {
    "duration": 389,
    "start_time": "2023-10-12T18:57:31.335Z"
   },
   {
    "duration": 119,
    "start_time": "2023-10-12T18:57:31.726Z"
   },
   {
    "duration": 0,
    "start_time": "2023-10-12T18:57:31.847Z"
   },
   {
    "duration": 0,
    "start_time": "2023-10-12T18:57:31.848Z"
   },
   {
    "duration": 0,
    "start_time": "2023-10-12T18:57:31.849Z"
   },
   {
    "duration": 0,
    "start_time": "2023-10-12T18:57:31.851Z"
   },
   {
    "duration": 0,
    "start_time": "2023-10-12T18:57:31.852Z"
   },
   {
    "duration": 0,
    "start_time": "2023-10-12T18:57:31.854Z"
   },
   {
    "duration": 50,
    "start_time": "2023-10-12T18:57:47.147Z"
   },
   {
    "duration": 15,
    "start_time": "2023-10-12T18:57:49.002Z"
   },
   {
    "duration": 11,
    "start_time": "2023-10-12T18:57:51.222Z"
   },
   {
    "duration": 5,
    "start_time": "2023-10-12T18:59:27.781Z"
   },
   {
    "duration": 1242,
    "start_time": "2023-10-12T19:00:30.547Z"
   },
   {
    "duration": 5,
    "start_time": "2023-10-12T19:01:44.801Z"
   },
   {
    "duration": 228,
    "start_time": "2023-10-12T19:02:58.667Z"
   },
   {
    "duration": 310,
    "start_time": "2023-10-12T19:03:19.196Z"
   },
   {
    "duration": 275,
    "start_time": "2023-10-12T19:03:25.179Z"
   },
   {
    "duration": 3,
    "start_time": "2023-10-12T19:03:53.567Z"
   },
   {
    "duration": 280,
    "start_time": "2023-10-12T19:04:39.753Z"
   },
   {
    "duration": 941,
    "start_time": "2023-10-13T12:16:16.218Z"
   },
   {
    "duration": 121,
    "start_time": "2023-10-13T12:16:17.162Z"
   },
   {
    "duration": 11,
    "start_time": "2023-10-13T12:16:17.285Z"
   },
   {
    "duration": 12,
    "start_time": "2023-10-13T12:16:17.542Z"
   },
   {
    "duration": 4,
    "start_time": "2023-10-13T12:16:19.580Z"
   },
   {
    "duration": 7,
    "start_time": "2023-10-13T12:16:20.443Z"
   },
   {
    "duration": 335,
    "start_time": "2023-10-13T12:16:21.391Z"
   },
   {
    "duration": 6,
    "start_time": "2023-10-13T12:16:22.749Z"
   },
   {
    "duration": 743,
    "start_time": "2023-10-13T12:16:40.289Z"
   },
   {
    "duration": 839,
    "start_time": "2023-10-13T12:17:14.585Z"
   },
   {
    "duration": 463,
    "start_time": "2023-10-13T12:18:46.337Z"
   },
   {
    "duration": 100,
    "start_time": "2023-10-13T12:19:32.906Z"
   },
   {
    "duration": 10,
    "start_time": "2023-10-13T12:19:56.158Z"
   },
   {
    "duration": 9,
    "start_time": "2023-10-13T12:20:26.065Z"
   },
   {
    "duration": 1237,
    "start_time": "2023-10-13T12:20:37.184Z"
   },
   {
    "duration": 50,
    "start_time": "2023-10-13T12:20:38.423Z"
   },
   {
    "duration": 45,
    "start_time": "2023-10-13T12:20:38.475Z"
   },
   {
    "duration": 136,
    "start_time": "2023-10-13T12:20:38.521Z"
   },
   {
    "duration": 67,
    "start_time": "2023-10-13T12:20:38.659Z"
   },
   {
    "duration": 40,
    "start_time": "2023-10-13T12:20:38.728Z"
   },
   {
    "duration": 364,
    "start_time": "2023-10-13T12:20:38.770Z"
   },
   {
    "duration": 99,
    "start_time": "2023-10-13T12:20:39.136Z"
   },
   {
    "duration": 0,
    "start_time": "2023-10-13T12:20:39.237Z"
   },
   {
    "duration": 0,
    "start_time": "2023-10-13T12:20:39.239Z"
   },
   {
    "duration": 0,
    "start_time": "2023-10-13T12:20:39.240Z"
   },
   {
    "duration": 1161,
    "start_time": "2023-10-13T12:21:04.815Z"
   },
   {
    "duration": 50,
    "start_time": "2023-10-13T12:21:05.978Z"
   },
   {
    "duration": 9,
    "start_time": "2023-10-13T12:21:06.030Z"
   },
   {
    "duration": 91,
    "start_time": "2023-10-13T12:21:06.041Z"
   },
   {
    "duration": 159,
    "start_time": "2023-10-13T12:21:06.134Z"
   },
   {
    "duration": 131,
    "start_time": "2023-10-13T12:21:06.295Z"
   },
   {
    "duration": 387,
    "start_time": "2023-10-13T12:21:06.427Z"
   },
   {
    "duration": 115,
    "start_time": "2023-10-13T12:21:06.816Z"
   },
   {
    "duration": 0,
    "start_time": "2023-10-13T12:21:06.933Z"
   },
   {
    "duration": 0,
    "start_time": "2023-10-13T12:21:06.934Z"
   },
   {
    "duration": 9,
    "start_time": "2023-10-13T12:21:32.944Z"
   },
   {
    "duration": 1121,
    "start_time": "2023-10-13T12:22:04.003Z"
   },
   {
    "duration": 51,
    "start_time": "2023-10-13T12:22:05.126Z"
   },
   {
    "duration": 10,
    "start_time": "2023-10-13T12:22:05.179Z"
   },
   {
    "duration": 19,
    "start_time": "2023-10-13T12:22:05.190Z"
   },
   {
    "duration": 5,
    "start_time": "2023-10-13T12:22:05.212Z"
   },
   {
    "duration": 39,
    "start_time": "2023-10-13T12:22:05.219Z"
   },
   {
    "duration": 180,
    "start_time": "2023-10-13T12:22:05.260Z"
   },
   {
    "duration": 7,
    "start_time": "2023-10-13T12:22:05.443Z"
   },
   {
    "duration": 32,
    "start_time": "2023-10-13T12:22:05.452Z"
   },
   {
    "duration": 340,
    "start_time": "2023-10-13T12:22:05.485Z"
   },
   {
    "duration": 132,
    "start_time": "2023-10-13T12:22:05.828Z"
   },
   {
    "duration": 9,
    "start_time": "2023-10-13T12:22:27.941Z"
   },
   {
    "duration": 8,
    "start_time": "2023-10-13T12:23:14.253Z"
   },
   {
    "duration": 156,
    "start_time": "2023-10-13T12:24:58.686Z"
   },
   {
    "duration": 1199,
    "start_time": "2023-10-13T12:25:14.878Z"
   },
   {
    "duration": 59,
    "start_time": "2023-10-13T12:25:16.080Z"
   },
   {
    "duration": 11,
    "start_time": "2023-10-13T12:25:16.141Z"
   },
   {
    "duration": 22,
    "start_time": "2023-10-13T12:25:16.154Z"
   },
   {
    "duration": 20,
    "start_time": "2023-10-13T12:25:16.178Z"
   },
   {
    "duration": 15,
    "start_time": "2023-10-13T12:25:16.199Z"
   },
   {
    "duration": 290,
    "start_time": "2023-10-13T12:25:16.216Z"
   },
   {
    "duration": 5,
    "start_time": "2023-10-13T12:25:16.508Z"
   },
   {
    "duration": 300,
    "start_time": "2023-10-13T12:25:16.515Z"
   },
   {
    "duration": 112,
    "start_time": "2023-10-13T12:25:16.824Z"
   },
   {
    "duration": 0,
    "start_time": "2023-10-13T12:25:16.938Z"
   },
   {
    "duration": 1163,
    "start_time": "2023-10-13T12:26:38.734Z"
   },
   {
    "duration": 50,
    "start_time": "2023-10-13T12:26:39.899Z"
   },
   {
    "duration": 10,
    "start_time": "2023-10-13T12:26:39.953Z"
   },
   {
    "duration": 41,
    "start_time": "2023-10-13T12:26:39.965Z"
   },
   {
    "duration": 37,
    "start_time": "2023-10-13T12:26:40.008Z"
   },
   {
    "duration": 79,
    "start_time": "2023-10-13T12:26:40.046Z"
   },
   {
    "duration": 368,
    "start_time": "2023-10-13T12:26:40.126Z"
   },
   {
    "duration": 10,
    "start_time": "2023-10-13T12:26:40.495Z"
   },
   {
    "duration": 217,
    "start_time": "2023-10-13T12:26:40.507Z"
   },
   {
    "duration": 218,
    "start_time": "2023-10-13T12:26:40.725Z"
   },
   {
    "duration": 6,
    "start_time": "2023-10-13T12:26:40.945Z"
   },
   {
    "duration": 316,
    "start_time": "2023-10-13T12:26:40.953Z"
   },
   {
    "duration": 361,
    "start_time": "2023-10-13T12:27:18.350Z"
   },
   {
    "duration": 4,
    "start_time": "2023-10-13T12:29:32.561Z"
   },
   {
    "duration": 25,
    "start_time": "2023-10-13T12:29:47.178Z"
   },
   {
    "duration": 14,
    "start_time": "2023-10-13T12:30:01.971Z"
   },
   {
    "duration": 146,
    "start_time": "2023-10-17T11:28:53.485Z"
   },
   {
    "duration": 78,
    "start_time": "2023-10-17T11:29:39.576Z"
   },
   {
    "duration": 2176,
    "start_time": "2023-10-17T11:30:25.137Z"
   },
   {
    "duration": 119,
    "start_time": "2023-10-17T11:30:27.315Z"
   },
   {
    "duration": 14,
    "start_time": "2023-10-17T11:30:27.437Z"
   },
   {
    "duration": 16,
    "start_time": "2023-10-17T11:30:27.453Z"
   },
   {
    "duration": 23,
    "start_time": "2023-10-17T11:30:27.472Z"
   },
   {
    "duration": 16,
    "start_time": "2023-10-17T11:30:27.497Z"
   },
   {
    "duration": 364,
    "start_time": "2023-10-17T11:30:27.514Z"
   },
   {
    "duration": 16,
    "start_time": "2023-10-17T11:30:27.880Z"
   },
   {
    "duration": 249,
    "start_time": "2023-10-17T11:30:27.898Z"
   },
   {
    "duration": 412,
    "start_time": "2023-10-17T11:30:28.148Z"
   },
   {
    "duration": 7,
    "start_time": "2023-10-17T11:30:28.562Z"
   },
   {
    "duration": 398,
    "start_time": "2023-10-17T11:30:28.571Z"
   },
   {
    "duration": 5,
    "start_time": "2023-10-17T11:30:28.971Z"
   },
   {
    "duration": 57,
    "start_time": "2023-10-17T11:30:28.978Z"
   },
   {
    "duration": 18,
    "start_time": "2023-10-17T11:30:29.037Z"
   },
   {
    "duration": 6,
    "start_time": "2023-10-17T11:31:07.902Z"
   },
   {
    "duration": 25,
    "start_time": "2023-10-17T11:31:44.904Z"
   },
   {
    "duration": 5,
    "start_time": "2023-10-17T11:32:31.914Z"
   },
   {
    "duration": 173,
    "start_time": "2023-10-17T11:38:43.270Z"
   },
   {
    "duration": 11,
    "start_time": "2023-10-17T11:38:53.936Z"
   },
   {
    "duration": 73,
    "start_time": "2023-10-17T11:38:58.076Z"
   },
   {
    "duration": 267,
    "start_time": "2023-10-17T11:40:51.174Z"
   },
   {
    "duration": 68,
    "start_time": "2023-10-17T11:41:08.760Z"
   },
   {
    "duration": 128,
    "start_time": "2023-10-17T11:41:12.405Z"
   },
   {
    "duration": 5,
    "start_time": "2023-10-17T11:41:26.106Z"
   },
   {
    "duration": 122,
    "start_time": "2023-10-17T11:41:33.713Z"
   },
   {
    "duration": 2061419,
    "start_time": "2023-10-17T11:41:55.413Z"
   },
   {
    "duration": 0,
    "start_time": "2023-10-17T12:16:16.852Z"
   },
   {
    "duration": 0,
    "start_time": "2023-10-17T12:16:16.854Z"
   },
   {
    "duration": 2205,
    "start_time": "2023-10-17T12:16:37.898Z"
   },
   {
    "duration": 0,
    "start_time": "2023-10-17T12:16:40.106Z"
   },
   {
    "duration": 0,
    "start_time": "2023-10-17T12:16:40.110Z"
   },
   {
    "duration": 0,
    "start_time": "2023-10-17T12:16:40.113Z"
   },
   {
    "duration": 0,
    "start_time": "2023-10-17T12:16:40.115Z"
   },
   {
    "duration": 0,
    "start_time": "2023-10-17T12:16:40.116Z"
   },
   {
    "duration": 0,
    "start_time": "2023-10-17T12:16:40.117Z"
   },
   {
    "duration": 0,
    "start_time": "2023-10-17T12:16:40.119Z"
   },
   {
    "duration": 0,
    "start_time": "2023-10-17T12:16:40.120Z"
   },
   {
    "duration": 0,
    "start_time": "2023-10-17T12:16:40.122Z"
   },
   {
    "duration": 0,
    "start_time": "2023-10-17T12:16:40.123Z"
   },
   {
    "duration": 0,
    "start_time": "2023-10-17T12:16:40.125Z"
   },
   {
    "duration": 0,
    "start_time": "2023-10-17T12:16:40.127Z"
   },
   {
    "duration": 1,
    "start_time": "2023-10-17T12:16:40.128Z"
   },
   {
    "duration": 0,
    "start_time": "2023-10-17T12:16:40.130Z"
   },
   {
    "duration": 0,
    "start_time": "2023-10-17T12:16:40.131Z"
   },
   {
    "duration": 0,
    "start_time": "2023-10-17T12:16:40.148Z"
   },
   {
    "duration": 0,
    "start_time": "2023-10-17T12:16:40.150Z"
   },
   {
    "duration": 0,
    "start_time": "2023-10-17T12:16:40.152Z"
   },
   {
    "duration": 92,
    "start_time": "2023-10-17T12:16:51.228Z"
   },
   {
    "duration": 1608,
    "start_time": "2023-10-17T12:16:56.068Z"
   },
   {
    "duration": 112,
    "start_time": "2023-10-17T12:16:57.678Z"
   },
   {
    "duration": 13,
    "start_time": "2023-10-17T12:16:57.792Z"
   },
   {
    "duration": 31,
    "start_time": "2023-10-17T12:16:57.808Z"
   },
   {
    "duration": 21,
    "start_time": "2023-10-17T12:16:57.842Z"
   },
   {
    "duration": 41,
    "start_time": "2023-10-17T12:16:57.864Z"
   },
   {
    "duration": 387,
    "start_time": "2023-10-17T12:16:57.907Z"
   },
   {
    "duration": 8,
    "start_time": "2023-10-17T12:16:58.296Z"
   },
   {
    "duration": 276,
    "start_time": "2023-10-17T12:16:58.305Z"
   },
   {
    "duration": 444,
    "start_time": "2023-10-17T12:16:58.583Z"
   },
   {
    "duration": 17,
    "start_time": "2023-10-17T12:16:59.030Z"
   },
   {
    "duration": 370,
    "start_time": "2023-10-17T12:16:59.052Z"
   },
   {
    "duration": 4,
    "start_time": "2023-10-17T12:16:59.424Z"
   },
   {
    "duration": 51,
    "start_time": "2023-10-17T12:16:59.430Z"
   },
   {
    "duration": 161,
    "start_time": "2023-10-17T12:16:59.483Z"
   },
   {
    "duration": 0,
    "start_time": "2023-10-17T12:16:59.647Z"
   },
   {
    "duration": 0,
    "start_time": "2023-10-17T12:16:59.649Z"
   },
   {
    "duration": 0,
    "start_time": "2023-10-17T12:16:59.651Z"
   },
   {
    "duration": 0,
    "start_time": "2023-10-17T12:16:59.653Z"
   },
   {
    "duration": 4,
    "start_time": "2023-10-17T12:17:16.675Z"
   },
   {
    "duration": 3,
    "start_time": "2023-10-17T12:17:19.882Z"
   },
   {
    "duration": 17,
    "start_time": "2023-10-17T12:17:20.446Z"
   },
   {
    "duration": 6,
    "start_time": "2023-10-17T12:17:20.992Z"
   },
   {
    "duration": 20,
    "start_time": "2023-10-17T12:17:22.264Z"
   },
   {
    "duration": 13,
    "start_time": "2023-10-17T12:17:32.405Z"
   },
   {
    "duration": 1747,
    "start_time": "2023-10-17T12:17:37.826Z"
   },
   {
    "duration": 53,
    "start_time": "2023-10-17T12:17:39.575Z"
   },
   {
    "duration": 12,
    "start_time": "2023-10-17T12:17:39.630Z"
   },
   {
    "duration": 62,
    "start_time": "2023-10-17T12:17:39.644Z"
   },
   {
    "duration": 4,
    "start_time": "2023-10-17T12:17:39.708Z"
   },
   {
    "duration": 47,
    "start_time": "2023-10-17T12:17:39.714Z"
   },
   {
    "duration": 366,
    "start_time": "2023-10-17T12:17:39.764Z"
   },
   {
    "duration": 22,
    "start_time": "2023-10-17T12:17:40.132Z"
   },
   {
    "duration": 282,
    "start_time": "2023-10-17T12:17:40.156Z"
   },
   {
    "duration": 433,
    "start_time": "2023-10-17T12:17:40.448Z"
   },
   {
    "duration": 8,
    "start_time": "2023-10-17T12:17:40.882Z"
   },
   {
    "duration": 409,
    "start_time": "2023-10-17T12:17:40.893Z"
   },
   {
    "duration": 6,
    "start_time": "2023-10-17T12:17:41.307Z"
   },
   {
    "duration": 58,
    "start_time": "2023-10-17T12:17:41.315Z"
   },
   {
    "duration": 4,
    "start_time": "2023-10-17T12:17:41.375Z"
   },
   {
    "duration": 32,
    "start_time": "2023-10-17T12:17:41.381Z"
   },
   {
    "duration": 7,
    "start_time": "2023-10-17T12:17:41.415Z"
   },
   {
    "duration": 12,
    "start_time": "2023-10-17T12:17:41.424Z"
   },
   {
    "duration": 249,
    "start_time": "2023-10-17T12:17:41.438Z"
   },
   {
    "duration": 54,
    "start_time": "2023-10-17T12:18:06.068Z"
   },
   {
    "duration": 38197,
    "start_time": "2023-10-17T12:18:20.467Z"
   },
   {
    "duration": 14,
    "start_time": "2023-10-17T12:20:03.184Z"
   },
   {
    "duration": 398,
    "start_time": "2023-10-17T12:20:08.487Z"
   },
   {
    "duration": 994,
    "start_time": "2023-10-17T12:20:13.490Z"
   },
   {
    "duration": 1344,
    "start_time": "2023-10-17T12:20:26.974Z"
   },
   {
    "duration": 1326,
    "start_time": "2023-10-17T12:20:37.274Z"
   },
   {
    "duration": 1453,
    "start_time": "2023-10-17T12:20:47.132Z"
   },
   {
    "duration": 544,
    "start_time": "2023-10-17T12:20:54.666Z"
   },
   {
    "duration": 87095,
    "start_time": "2023-10-17T12:20:56.913Z"
   },
   {
    "duration": 1851,
    "start_time": "2023-10-17T15:02:16.533Z"
   },
   {
    "duration": 114,
    "start_time": "2023-10-17T15:02:18.386Z"
   },
   {
    "duration": 13,
    "start_time": "2023-10-17T15:02:18.503Z"
   },
   {
    "duration": 25,
    "start_time": "2023-10-17T15:02:18.519Z"
   },
   {
    "duration": 10,
    "start_time": "2023-10-17T15:02:18.546Z"
   },
   {
    "duration": 13,
    "start_time": "2023-10-17T15:02:18.559Z"
   },
   {
    "duration": 393,
    "start_time": "2023-10-17T15:02:18.575Z"
   },
   {
    "duration": 13,
    "start_time": "2023-10-17T15:02:18.971Z"
   },
   {
    "duration": 279,
    "start_time": "2023-10-17T15:02:18.986Z"
   },
   {
    "duration": 501,
    "start_time": "2023-10-17T15:02:19.280Z"
   },
   {
    "duration": 9,
    "start_time": "2023-10-17T15:02:19.784Z"
   },
   {
    "duration": 430,
    "start_time": "2023-10-17T15:02:19.796Z"
   },
   {
    "duration": 5,
    "start_time": "2023-10-17T15:02:20.227Z"
   },
   {
    "duration": 110,
    "start_time": "2023-10-17T15:02:20.247Z"
   },
   {
    "duration": 5,
    "start_time": "2023-10-17T15:02:20.359Z"
   },
   {
    "duration": 66,
    "start_time": "2023-10-17T15:02:20.365Z"
   },
   {
    "duration": 7,
    "start_time": "2023-10-17T15:02:20.432Z"
   },
   {
    "duration": 58,
    "start_time": "2023-10-17T15:02:20.441Z"
   },
   {
    "duration": 204508,
    "start_time": "2023-10-17T15:02:20.556Z"
   },
   {
    "duration": 1894,
    "start_time": "2023-10-17T15:06:06.292Z"
   },
   {
    "duration": 77,
    "start_time": "2023-10-17T15:06:08.191Z"
   },
   {
    "duration": 15,
    "start_time": "2023-10-17T15:06:08.269Z"
   },
   {
    "duration": 67,
    "start_time": "2023-10-17T15:06:08.286Z"
   },
   {
    "duration": 199,
    "start_time": "2023-10-17T15:06:08.360Z"
   },
   {
    "duration": 31,
    "start_time": "2023-10-17T15:06:08.561Z"
   },
   {
    "duration": 391,
    "start_time": "2023-10-17T15:06:08.594Z"
   },
   {
    "duration": 11,
    "start_time": "2023-10-17T15:06:08.987Z"
   },
   {
    "duration": 311,
    "start_time": "2023-10-17T15:06:09.000Z"
   },
   {
    "duration": 512,
    "start_time": "2023-10-17T15:06:09.313Z"
   },
   {
    "duration": 32,
    "start_time": "2023-10-17T15:06:09.827Z"
   },
   {
    "duration": 425,
    "start_time": "2023-10-17T15:06:09.861Z"
   },
   {
    "duration": 5,
    "start_time": "2023-10-17T15:06:10.288Z"
   },
   {
    "duration": 211,
    "start_time": "2023-10-17T15:06:10.296Z"
   },
   {
    "duration": 4,
    "start_time": "2023-10-17T15:06:10.509Z"
   },
   {
    "duration": 43,
    "start_time": "2023-10-17T15:06:10.516Z"
   },
   {
    "duration": 13,
    "start_time": "2023-10-17T15:06:10.561Z"
   },
   {
    "duration": 4820,
    "start_time": "2023-10-17T15:06:10.576Z"
   },
   {
    "duration": 970222,
    "start_time": "2023-10-17T15:06:15.400Z"
   },
   {
    "duration": 405289,
    "start_time": "2023-10-17T15:22:27.491Z"
   },
   {
    "duration": 13,
    "start_time": "2023-10-17T16:57:48.052Z"
   },
   {
    "duration": 18,
    "start_time": "2023-10-17T16:58:40.737Z"
   },
   {
    "duration": 4287,
    "start_time": "2023-10-17T16:58:42.816Z"
   },
   {
    "duration": 1703,
    "start_time": "2023-10-17T17:38:34.623Z"
   },
   {
    "duration": 70,
    "start_time": "2023-10-17T17:38:36.328Z"
   },
   {
    "duration": 12,
    "start_time": "2023-10-17T17:38:36.403Z"
   },
   {
    "duration": 13,
    "start_time": "2023-10-17T17:38:36.417Z"
   },
   {
    "duration": 6,
    "start_time": "2023-10-17T17:38:36.432Z"
   },
   {
    "duration": 28,
    "start_time": "2023-10-17T17:38:36.439Z"
   },
   {
    "duration": 370,
    "start_time": "2023-10-17T17:38:36.469Z"
   },
   {
    "duration": 14,
    "start_time": "2023-10-17T17:38:36.848Z"
   },
   {
    "duration": 244,
    "start_time": "2023-10-17T17:38:36.867Z"
   },
   {
    "duration": 432,
    "start_time": "2023-10-17T17:38:37.113Z"
   },
   {
    "duration": 15,
    "start_time": "2023-10-17T17:38:37.549Z"
   },
   {
    "duration": 374,
    "start_time": "2023-10-17T17:38:37.566Z"
   },
   {
    "duration": 5,
    "start_time": "2023-10-17T17:38:37.942Z"
   },
   {
    "duration": 182,
    "start_time": "2023-10-17T17:38:37.948Z"
   },
   {
    "duration": 4,
    "start_time": "2023-10-17T17:38:38.132Z"
   },
   {
    "duration": 54,
    "start_time": "2023-10-17T17:38:38.138Z"
   },
   {
    "duration": 14,
    "start_time": "2023-10-17T17:38:38.194Z"
   },
   {
    "duration": 540,
    "start_time": "2023-10-17T17:38:38.210Z"
   },
   {
    "duration": 451208,
    "start_time": "2023-10-17T17:38:38.752Z"
   },
   {
    "duration": 3,
    "start_time": "2023-10-17T17:46:09.962Z"
   },
   {
    "duration": 38,
    "start_time": "2023-10-17T17:46:09.966Z"
   },
   {
    "duration": 179,
    "start_time": "2023-10-17T17:46:10.006Z"
   },
   {
    "duration": 0,
    "start_time": "2023-10-17T17:46:10.187Z"
   },
   {
    "duration": 11,
    "start_time": "2023-10-17T18:23:16.042Z"
   },
   {
    "duration": 11,
    "start_time": "2023-10-17T18:25:15.604Z"
   },
   {
    "duration": 16,
    "start_time": "2023-10-17T18:25:19.322Z"
   },
   {
    "duration": 4,
    "start_time": "2023-10-17T18:25:20.253Z"
   },
   {
    "duration": 375538,
    "start_time": "2023-10-17T18:26:22.927Z"
   },
   {
    "duration": 3221,
    "start_time": "2023-10-17T19:12:15.006Z"
   },
   {
    "duration": 148,
    "start_time": "2023-10-17T19:12:18.229Z"
   },
   {
    "duration": 12,
    "start_time": "2023-10-17T19:12:18.379Z"
   },
   {
    "duration": 26,
    "start_time": "2023-10-17T19:12:18.393Z"
   },
   {
    "duration": 10,
    "start_time": "2023-10-17T19:12:18.422Z"
   },
   {
    "duration": 17,
    "start_time": "2023-10-17T19:12:18.433Z"
   },
   {
    "duration": 372,
    "start_time": "2023-10-17T19:12:18.453Z"
   },
   {
    "duration": 12,
    "start_time": "2023-10-17T19:12:18.828Z"
   },
   {
    "duration": 295,
    "start_time": "2023-10-17T19:12:18.842Z"
   },
   {
    "duration": 430,
    "start_time": "2023-10-17T19:12:19.139Z"
   },
   {
    "duration": 6,
    "start_time": "2023-10-17T19:12:19.572Z"
   },
   {
    "duration": 353,
    "start_time": "2023-10-17T19:12:19.580Z"
   },
   {
    "duration": 5,
    "start_time": "2023-10-17T19:12:19.934Z"
   },
   {
    "duration": 146,
    "start_time": "2023-10-17T19:12:19.956Z"
   },
   {
    "duration": 4,
    "start_time": "2023-10-17T19:12:20.105Z"
   },
   {
    "duration": 52,
    "start_time": "2023-10-17T19:12:20.111Z"
   },
   {
    "duration": 7,
    "start_time": "2023-10-17T19:12:20.166Z"
   },
   {
    "duration": 287,
    "start_time": "2023-10-17T19:12:20.175Z"
   },
   {
    "duration": 49402,
    "start_time": "2023-10-17T19:12:20.465Z"
   },
   {
    "duration": 4,
    "start_time": "2023-10-17T19:13:09.868Z"
   },
   {
    "duration": 173,
    "start_time": "2023-10-17T19:13:09.874Z"
   },
   {
    "duration": 64,
    "start_time": "2023-10-17T19:13:10.049Z"
   },
   {
    "duration": 356191,
    "start_time": "2023-10-17T19:13:10.114Z"
   },
   {
    "duration": 1974,
    "start_time": "2023-10-18T09:46:22.824Z"
   },
   {
    "duration": 132,
    "start_time": "2023-10-18T09:46:24.800Z"
   },
   {
    "duration": 12,
    "start_time": "2023-10-18T09:46:25.154Z"
   },
   {
    "duration": 12,
    "start_time": "2023-10-18T09:46:25.286Z"
   },
   {
    "duration": 7,
    "start_time": "2023-10-18T09:46:28.125Z"
   },
   {
    "duration": 15,
    "start_time": "2023-10-18T09:46:29.256Z"
   },
   {
    "duration": 368,
    "start_time": "2023-10-18T09:47:54.368Z"
   },
   {
    "duration": 338,
    "start_time": "2023-10-18T09:48:02.667Z"
   },
   {
    "duration": 399,
    "start_time": "2023-10-18T09:48:44.187Z"
   },
   {
    "duration": 160,
    "start_time": "2023-10-18T09:50:18.569Z"
   },
   {
    "duration": 21,
    "start_time": "2023-10-18T09:50:24.815Z"
   },
   {
    "duration": 344,
    "start_time": "2023-10-18T09:50:25.822Z"
   },
   {
    "duration": 445,
    "start_time": "2023-10-18T09:50:51.910Z"
   },
   {
    "duration": 10,
    "start_time": "2023-10-18T09:51:33.951Z"
   },
   {
    "duration": 13,
    "start_time": "2023-10-18T09:52:02.318Z"
   },
   {
    "duration": 30,
    "start_time": "2023-10-18T09:52:08.516Z"
   },
   {
    "duration": 236,
    "start_time": "2023-10-18T09:52:20.829Z"
   },
   {
    "duration": 190,
    "start_time": "2023-10-18T10:06:22.971Z"
   },
   {
    "duration": 11,
    "start_time": "2023-10-18T10:07:01.591Z"
   },
   {
    "duration": 8,
    "start_time": "2023-10-18T10:07:18.874Z"
   },
   {
    "duration": 260,
    "start_time": "2023-10-18T10:07:38.093Z"
   },
   {
    "duration": 259,
    "start_time": "2023-10-18T10:07:45.782Z"
   },
   {
    "duration": 475,
    "start_time": "2023-10-18T10:11:48.277Z"
   },
   {
    "duration": 7,
    "start_time": "2023-10-18T10:11:56.491Z"
   },
   {
    "duration": 371,
    "start_time": "2023-10-18T10:11:58.677Z"
   },
   {
    "duration": 85,
    "start_time": "2023-10-18T10:13:03.281Z"
   },
   {
    "duration": 8,
    "start_time": "2023-10-18T10:27:37.815Z"
   },
   {
    "duration": 150,
    "start_time": "2023-10-18T10:32:39.541Z"
   },
   {
    "duration": 29,
    "start_time": "2023-10-18T14:22:53.755Z"
   },
   {
    "duration": 6,
    "start_time": "2023-10-18T14:22:57.419Z"
   },
   {
    "duration": 10,
    "start_time": "2023-10-18T14:22:59.034Z"
   },
   {
    "duration": 28,
    "start_time": "2023-10-18T14:25:07.572Z"
   },
   {
    "duration": 2,
    "start_time": "2023-10-18T14:26:24.999Z"
   },
   {
    "duration": 8,
    "start_time": "2023-10-18T14:26:25.621Z"
   },
   {
    "duration": 12,
    "start_time": "2023-10-18T14:26:26.176Z"
   },
   {
    "duration": 6,
    "start_time": "2023-10-18T14:28:56.362Z"
   },
   {
    "duration": 3,
    "start_time": "2023-10-18T14:33:04.776Z"
   },
   {
    "duration": 1441,
    "start_time": "2023-10-18T14:35:44.045Z"
   },
   {
    "duration": 56,
    "start_time": "2023-10-18T14:35:45.489Z"
   },
   {
    "duration": 10,
    "start_time": "2023-10-18T14:35:45.547Z"
   },
   {
    "duration": 10,
    "start_time": "2023-10-18T14:35:45.559Z"
   },
   {
    "duration": 4,
    "start_time": "2023-10-18T14:35:45.571Z"
   },
   {
    "duration": 37,
    "start_time": "2023-10-18T14:35:45.576Z"
   },
   {
    "duration": 363,
    "start_time": "2023-10-18T14:35:45.615Z"
   },
   {
    "duration": 8,
    "start_time": "2023-10-18T14:35:45.980Z"
   },
   {
    "duration": 285,
    "start_time": "2023-10-18T14:35:45.989Z"
   },
   {
    "duration": 481,
    "start_time": "2023-10-18T14:35:46.278Z"
   },
   {
    "duration": 186,
    "start_time": "2023-10-18T14:35:46.761Z"
   },
   {
    "duration": 5,
    "start_time": "2023-10-18T14:35:46.949Z"
   },
   {
    "duration": 378,
    "start_time": "2023-10-18T14:35:46.956Z"
   },
   {
    "duration": 6,
    "start_time": "2023-10-18T14:35:47.337Z"
   },
   {
    "duration": 188,
    "start_time": "2023-10-18T14:35:47.345Z"
   },
   {
    "duration": 3,
    "start_time": "2023-10-18T14:35:47.534Z"
   },
   {
    "duration": 28,
    "start_time": "2023-10-18T14:35:47.539Z"
   },
   {
    "duration": 7,
    "start_time": "2023-10-18T14:35:47.568Z"
   },
   {
    "duration": 20,
    "start_time": "2023-10-18T14:35:47.577Z"
   },
   {
    "duration": 3135,
    "start_time": "2023-10-18T14:35:47.599Z"
   },
   {
    "duration": 171,
    "start_time": "2023-10-18T14:35:50.737Z"
   },
   {
    "duration": 9110,
    "start_time": "2023-10-18T14:35:50.910Z"
   },
   {
    "duration": 0,
    "start_time": "2023-10-18T14:36:00.022Z"
   },
   {
    "duration": 0,
    "start_time": "2023-10-18T14:36:00.023Z"
   },
   {
    "duration": 0,
    "start_time": "2023-10-18T14:36:00.025Z"
   },
   {
    "duration": 0,
    "start_time": "2023-10-18T14:36:00.026Z"
   },
   {
    "duration": 4,
    "start_time": "2023-10-18T14:38:44.051Z"
   },
   {
    "duration": 1511,
    "start_time": "2023-10-18T14:44:40.229Z"
   },
   {
    "duration": 51,
    "start_time": "2023-10-18T14:44:41.742Z"
   },
   {
    "duration": 10,
    "start_time": "2023-10-18T14:44:41.795Z"
   },
   {
    "duration": 28,
    "start_time": "2023-10-18T14:44:41.807Z"
   },
   {
    "duration": 6,
    "start_time": "2023-10-18T14:44:41.839Z"
   },
   {
    "duration": 28,
    "start_time": "2023-10-18T14:44:41.847Z"
   },
   {
    "duration": 361,
    "start_time": "2023-10-18T14:44:41.877Z"
   },
   {
    "duration": 7,
    "start_time": "2023-10-18T14:44:42.240Z"
   },
   {
    "duration": 226,
    "start_time": "2023-10-18T14:44:42.249Z"
   },
   {
    "duration": 390,
    "start_time": "2023-10-18T14:44:42.477Z"
   },
   {
    "duration": 182,
    "start_time": "2023-10-18T14:44:42.869Z"
   },
   {
    "duration": 5,
    "start_time": "2023-10-18T14:44:43.053Z"
   },
   {
    "duration": 355,
    "start_time": "2023-10-18T14:44:43.059Z"
   },
   {
    "duration": 4,
    "start_time": "2023-10-18T14:44:43.418Z"
   },
   {
    "duration": 160,
    "start_time": "2023-10-18T14:44:43.423Z"
   },
   {
    "duration": 3,
    "start_time": "2023-10-18T14:44:43.585Z"
   },
   {
    "duration": 42,
    "start_time": "2023-10-18T14:44:43.590Z"
   },
   {
    "duration": 15,
    "start_time": "2023-10-18T14:44:43.634Z"
   },
   {
    "duration": 12,
    "start_time": "2023-10-18T14:44:43.651Z"
   },
   {
    "duration": 2252,
    "start_time": "2023-10-18T14:44:43.664Z"
   },
   {
    "duration": 90,
    "start_time": "2023-10-18T14:44:45.918Z"
   },
   {
    "duration": 105,
    "start_time": "2023-10-18T14:44:46.011Z"
   },
   {
    "duration": 16,
    "start_time": "2023-10-18T14:44:46.119Z"
   },
   {
    "duration": 3853493,
    "start_time": "2023-10-18T14:44:46.137Z"
   },
   {
    "duration": 5,
    "start_time": "2023-10-18T15:48:59.633Z"
   },
   {
    "duration": 85,
    "start_time": "2023-10-18T15:48:59.640Z"
   },
   {
    "duration": 962203,
    "start_time": "2023-10-18T15:48:59.727Z"
   },
   {
    "duration": 4,
    "start_time": "2023-10-18T16:05:41.258Z"
   },
   {
    "duration": 8,
    "start_time": "2023-10-18T16:07:21.129Z"
   },
   {
    "duration": 182,
    "start_time": "2023-10-18T16:07:21.806Z"
   },
   {
    "duration": 21,
    "start_time": "2023-10-18T16:07:35.193Z"
   },
   {
    "duration": 433,
    "start_time": "2023-10-18T16:08:41.280Z"
   },
   {
    "duration": 405,
    "start_time": "2023-10-18T16:09:30.705Z"
   },
   {
    "duration": 16,
    "start_time": "2023-10-18T16:09:35.341Z"
   },
   {
    "duration": 13,
    "start_time": "2023-10-18T16:09:48.545Z"
   },
   {
    "duration": 5,
    "start_time": "2023-10-18T16:09:55.382Z"
   },
   {
    "duration": 4,
    "start_time": "2023-10-18T16:12:30.640Z"
   },
   {
    "duration": 3045,
    "start_time": "2023-10-18T17:08:55.828Z"
   },
   {
    "duration": 146,
    "start_time": "2023-10-18T17:08:58.876Z"
   },
   {
    "duration": 11,
    "start_time": "2023-10-18T17:08:59.024Z"
   },
   {
    "duration": 37,
    "start_time": "2023-10-18T17:08:59.037Z"
   },
   {
    "duration": 5,
    "start_time": "2023-10-18T17:08:59.077Z"
   },
   {
    "duration": 10,
    "start_time": "2023-10-18T17:08:59.084Z"
   },
   {
    "duration": 326,
    "start_time": "2023-10-18T17:08:59.096Z"
   },
   {
    "duration": 7,
    "start_time": "2023-10-18T17:08:59.424Z"
   },
   {
    "duration": 217,
    "start_time": "2023-10-18T17:08:59.432Z"
   },
   {
    "duration": 397,
    "start_time": "2023-10-18T17:08:59.652Z"
   },
   {
    "duration": 198,
    "start_time": "2023-10-18T17:09:00.051Z"
   },
   {
    "duration": 10,
    "start_time": "2023-10-18T17:09:00.251Z"
   },
   {
    "duration": 343,
    "start_time": "2023-10-18T17:09:00.263Z"
   },
   {
    "duration": 5,
    "start_time": "2023-10-18T17:09:00.608Z"
   },
   {
    "duration": 209,
    "start_time": "2023-10-18T17:09:00.615Z"
   },
   {
    "duration": 3,
    "start_time": "2023-10-18T17:09:00.826Z"
   },
   {
    "duration": 93,
    "start_time": "2023-10-18T17:09:00.831Z"
   },
   {
    "duration": 64,
    "start_time": "2023-10-18T17:09:00.925Z"
   },
   {
    "duration": 32,
    "start_time": "2023-10-18T17:09:00.992Z"
   },
   {
    "duration": 1832,
    "start_time": "2023-10-18T17:09:01.026Z"
   },
   {
    "duration": 88,
    "start_time": "2023-10-18T17:09:02.860Z"
   },
   {
    "duration": 15,
    "start_time": "2023-10-18T17:09:02.951Z"
   },
   {
    "duration": 21,
    "start_time": "2023-10-18T17:09:02.969Z"
   },
   {
    "duration": 4166466,
    "start_time": "2023-10-18T17:09:02.991Z"
   },
   {
    "duration": 4,
    "start_time": "2023-10-18T18:18:29.458Z"
   },
   {
    "duration": 21,
    "start_time": "2023-10-18T18:18:29.463Z"
   },
   {
    "duration": 927806,
    "start_time": "2023-10-18T18:18:29.486Z"
   },
   {
    "duration": 5,
    "start_time": "2023-10-18T18:33:57.294Z"
   },
   {
    "duration": 10,
    "start_time": "2023-10-18T18:33:57.300Z"
   },
   {
    "duration": 536,
    "start_time": "2023-10-18T18:33:57.311Z"
   },
   {
    "duration": 6,
    "start_time": "2023-10-18T18:33:57.851Z"
   },
   {
    "duration": 1831,
    "start_time": "2023-10-18T20:06:36.686Z"
   },
   {
    "duration": 124,
    "start_time": "2023-10-18T20:06:43.691Z"
   },
   {
    "duration": 116,
    "start_time": "2023-10-18T20:07:07.902Z"
   },
   {
    "duration": 25,
    "start_time": "2023-10-18T20:07:08.864Z"
   },
   {
    "duration": 9,
    "start_time": "2023-10-18T20:07:09.281Z"
   },
   {
    "duration": 7,
    "start_time": "2023-10-18T20:07:12.349Z"
   },
   {
    "duration": 20,
    "start_time": "2023-10-18T20:07:13.236Z"
   },
   {
    "duration": 353,
    "start_time": "2023-10-18T20:07:15.805Z"
   },
   {
    "duration": 9,
    "start_time": "2023-10-18T20:07:19.489Z"
   },
   {
    "duration": 233,
    "start_time": "2023-10-18T20:07:20.267Z"
   },
   {
    "duration": 430,
    "start_time": "2023-10-18T20:07:23.169Z"
   },
   {
    "duration": 179,
    "start_time": "2023-10-18T20:07:26.708Z"
   },
   {
    "duration": 12,
    "start_time": "2023-10-18T20:07:29.348Z"
   },
   {
    "duration": 360,
    "start_time": "2023-10-18T20:07:29.742Z"
   },
   {
    "duration": 3,
    "start_time": "2023-10-18T20:07:33.790Z"
   },
   {
    "duration": 132,
    "start_time": "2023-10-18T20:07:38.471Z"
   },
   {
    "duration": 2,
    "start_time": "2023-10-18T20:07:42.307Z"
   },
   {
    "duration": 49,
    "start_time": "2023-10-18T20:07:44.928Z"
   },
   {
    "duration": 22,
    "start_time": "2023-10-18T20:07:47.438Z"
   },
   {
    "duration": 10,
    "start_time": "2023-10-18T20:08:14.653Z"
   },
   {
    "duration": 6,
    "start_time": "2023-10-18T20:08:34.878Z"
   },
   {
    "duration": 5,
    "start_time": "2023-10-18T20:12:36.818Z"
   },
   {
    "duration": 3,
    "start_time": "2023-10-18T20:13:00.706Z"
   },
   {
    "duration": 49,
    "start_time": "2023-10-18T21:22:59.246Z"
   },
   {
    "duration": 1648,
    "start_time": "2023-10-18T21:23:03.029Z"
   },
   {
    "duration": 121,
    "start_time": "2023-10-18T21:23:07.878Z"
   },
   {
    "duration": 13,
    "start_time": "2023-10-18T21:23:09.766Z"
   },
   {
    "duration": 12,
    "start_time": "2023-10-18T21:23:10.522Z"
   },
   {
    "duration": 5,
    "start_time": "2023-10-18T21:23:13.527Z"
   },
   {
    "duration": 9,
    "start_time": "2023-10-18T21:23:14.431Z"
   },
   {
    "duration": 5,
    "start_time": "2023-10-18T21:23:28.451Z"
   },
   {
    "duration": 355,
    "start_time": "2023-10-18T21:23:29.115Z"
   },
   {
    "duration": 4,
    "start_time": "2023-10-18T21:23:33.126Z"
   },
   {
    "duration": 159,
    "start_time": "2023-10-18T21:23:36.407Z"
   },
   {
    "duration": 4,
    "start_time": "2023-10-18T21:23:41.939Z"
   },
   {
    "duration": 22,
    "start_time": "2023-10-18T21:23:42.417Z"
   },
   {
    "duration": 7,
    "start_time": "2023-10-18T21:23:44.102Z"
   },
   {
    "duration": 5,
    "start_time": "2023-10-18T21:23:47.137Z"
   },
   {
    "duration": 88,
    "start_time": "2023-10-18T21:24:19.611Z"
   },
   {
    "duration": 6,
    "start_time": "2023-10-18T21:25:07.727Z"
   },
   {
    "duration": 5,
    "start_time": "2023-10-18T21:25:10.339Z"
   }
  ],
  "kernelspec": {
   "display_name": "Python 3 (ipykernel)",
   "language": "python",
   "name": "python3"
  },
  "language_info": {
   "codemirror_mode": {
    "name": "ipython",
    "version": 3
   },
   "file_extension": ".py",
   "mimetype": "text/x-python",
   "name": "python",
   "nbconvert_exporter": "python",
   "pygments_lexer": "ipython3",
   "version": "3.9.17"
  },
  "toc": {
   "base_numbering": 1,
   "nav_menu": {},
   "number_sections": true,
   "sideBar": true,
   "skip_h1_title": true,
   "title_cell": "Содержание",
   "title_sidebar": "Contents",
   "toc_cell": true,
   "toc_position": {
    "height": "calc(100% - 180px)",
    "left": "10px",
    "top": "150px",
    "width": "165px"
   },
   "toc_section_display": true,
   "toc_window_display": true
  }
 },
 "nbformat": 4,
 "nbformat_minor": 2
}
