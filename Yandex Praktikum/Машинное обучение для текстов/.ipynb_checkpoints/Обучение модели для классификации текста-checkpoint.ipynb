{
 "cells": [
  {
   "cell_type": "markdown",
   "metadata": {
    "toc": true
   },
   "source": [
    "<h1>Содержание<span class=\"tocSkip\"></span></h1>\n",
    "<div class=\"toc\"><ul class=\"toc-item\"><li><span><a href=\"#Подготовка\" data-toc-modified-id=\"Подготовка-1\"><span class=\"toc-item-num\">1&nbsp;&nbsp;</span>Подготовка</a></span></li><li><span><a href=\"#Обучение\" data-toc-modified-id=\"Обучение-2\"><span class=\"toc-item-num\">2&nbsp;&nbsp;</span>Обучение</a></span></li><li><span><a href=\"#Выводы\" data-toc-modified-id=\"Выводы-3\"><span class=\"toc-item-num\">3&nbsp;&nbsp;</span>Выводы</a></span></li><li><span><a href=\"#Чек-лист-проверки\" data-toc-modified-id=\"Чек-лист-проверки-4\"><span class=\"toc-item-num\">4&nbsp;&nbsp;</span>Чек-лист проверки</a></span></li></ul></div>"
   ]
  },
  {
   "cell_type": "markdown",
   "metadata": {},
   "source": [
    "# Проект для «Викишоп»"
   ]
  },
  {
   "cell_type": "markdown",
   "metadata": {},
   "source": [
    "Интернет-магазин «Викишоп» запускает новый сервис. Теперь пользователи могут редактировать и дополнять описания товаров, как в вики-сообществах. То есть клиенты предлагают свои правки и комментируют изменения других. Магазину нужен инструмент, который будет искать токсичные комментарии и отправлять их на модерацию. \n",
    "\n",
    "Обучите модель классифицировать комментарии на позитивные и негативные. В вашем распоряжении набор данных с разметкой о токсичности правок.\n",
    "\n",
    "Постройте модель со значением метрики качества *F1* не меньше 0.75. \n",
    "\n",
    "**Инструкция по выполнению проекта**\n",
    "\n",
    "1. Загрузите и подготовьте данные.\n",
    "2. Обучите разные модели. \n",
    "3. Сделайте выводы.\n",
    "\n",
    "Для выполнения проекта применять *BERT* необязательно, но вы можете попробовать.\n",
    "\n",
    "**Описание данных**\n",
    "\n",
    "Данные находятся в файле `toxic_comments.csv`. Столбец *text* в нём содержит текст комментария, а *toxic* — целевой признак."
   ]
  },
  {
   "cell_type": "markdown",
   "metadata": {},
   "source": [
    "## Подготовка"
   ]
  },
  {
   "cell_type": "code",
   "execution_count": 1,
   "metadata": {},
   "outputs": [],
   "source": [
    "import pandas as pd\n",
    "import numpy as np\n",
    "import matplotlib.pyplot as plt\n",
    "import re\n",
    "import nltk\n",
    "from pymystem3 import Mystem\n",
    "from nltk.corpus import stopwords as nltk_stopwords\n",
    "from sklearn.feature_extraction.text import TfidfVectorizer\n",
    "from sklearn.pipeline import Pipeline\n",
    "from sklearn.linear_model import LogisticRegression\n",
    "from sklearn.model_selection import GridSearchCV, train_test_split\n",
    "from sklearn.ensemble import RandomForestClassifier\n",
    "from catboost import CatBoostClassifier\n",
    "from nltk.tokenize import word_tokenize \n",
    "from nltk.stem import WordNetLemmatizer \n",
    "from nltk.corpus import wordnet\n",
    "from sklearn.metrics import f1_score"
   ]
  },
  {
   "cell_type": "code",
   "execution_count": 2,
   "metadata": {},
   "outputs": [],
   "source": [
    "import warnings\n",
    "warnings.filterwarnings('ignore')"
   ]
  },
  {
   "cell_type": "code",
   "execution_count": 3,
   "metadata": {},
   "outputs": [],
   "source": [
    "data = pd.read_csv('/datasets/toxic_comments.csv', index_col=0)"
   ]
  },
  {
   "cell_type": "code",
   "execution_count": 4,
   "metadata": {},
   "outputs": [
    {
     "data": {
      "text/html": [
       "<div>\n",
       "<style scoped>\n",
       "    .dataframe tbody tr th:only-of-type {\n",
       "        vertical-align: middle;\n",
       "    }\n",
       "\n",
       "    .dataframe tbody tr th {\n",
       "        vertical-align: top;\n",
       "    }\n",
       "\n",
       "    .dataframe thead th {\n",
       "        text-align: right;\n",
       "    }\n",
       "</style>\n",
       "<table border=\"1\" class=\"dataframe\">\n",
       "  <thead>\n",
       "    <tr style=\"text-align: right;\">\n",
       "      <th></th>\n",
       "      <th>text</th>\n",
       "      <th>toxic</th>\n",
       "    </tr>\n",
       "  </thead>\n",
       "  <tbody>\n",
       "    <tr>\n",
       "      <th>0</th>\n",
       "      <td>Explanation\\nWhy the edits made under my usern...</td>\n",
       "      <td>0</td>\n",
       "    </tr>\n",
       "    <tr>\n",
       "      <th>1</th>\n",
       "      <td>D'aww! He matches this background colour I'm s...</td>\n",
       "      <td>0</td>\n",
       "    </tr>\n",
       "    <tr>\n",
       "      <th>2</th>\n",
       "      <td>Hey man, I'm really not trying to edit war. It...</td>\n",
       "      <td>0</td>\n",
       "    </tr>\n",
       "    <tr>\n",
       "      <th>3</th>\n",
       "      <td>\"\\nMore\\nI can't make any real suggestions on ...</td>\n",
       "      <td>0</td>\n",
       "    </tr>\n",
       "    <tr>\n",
       "      <th>4</th>\n",
       "      <td>You, sir, are my hero. Any chance you remember...</td>\n",
       "      <td>0</td>\n",
       "    </tr>\n",
       "  </tbody>\n",
       "</table>\n",
       "</div>"
      ],
      "text/plain": [
       "                                                text  toxic\n",
       "0  Explanation\\nWhy the edits made under my usern...      0\n",
       "1  D'aww! He matches this background colour I'm s...      0\n",
       "2  Hey man, I'm really not trying to edit war. It...      0\n",
       "3  \"\\nMore\\nI can't make any real suggestions on ...      0\n",
       "4  You, sir, are my hero. Any chance you remember...      0"
      ]
     },
     "execution_count": 4,
     "metadata": {},
     "output_type": "execute_result"
    }
   ],
   "source": [
    "data.head()"
   ]
  },
  {
   "cell_type": "code",
   "execution_count": 5,
   "metadata": {},
   "outputs": [
    {
     "name": "stdout",
     "output_type": "stream",
     "text": [
      "<class 'pandas.core.frame.DataFrame'>\n",
      "Int64Index: 159292 entries, 0 to 159450\n",
      "Data columns (total 2 columns):\n",
      " #   Column  Non-Null Count   Dtype \n",
      "---  ------  --------------   ----- \n",
      " 0   text    159292 non-null  object\n",
      " 1   toxic   159292 non-null  int64 \n",
      "dtypes: int64(1), object(1)\n",
      "memory usage: 3.6+ MB\n"
     ]
    }
   ],
   "source": [
    "data.info()"
   ]
  },
  {
   "cell_type": "markdown",
   "metadata": {},
   "source": [
    "Проверим набор данных на пропуски"
   ]
  },
  {
   "cell_type": "code",
   "execution_count": 6,
   "metadata": {},
   "outputs": [
    {
     "data": {
      "text/plain": [
       "text     0\n",
       "toxic    0\n",
       "dtype: int64"
      ]
     },
     "execution_count": 6,
     "metadata": {},
     "output_type": "execute_result"
    }
   ],
   "source": [
    "data.isna().sum()"
   ]
  },
  {
   "cell_type": "markdown",
   "metadata": {},
   "source": [
    "Проверим набор данных на наличие явных дубликатов"
   ]
  },
  {
   "cell_type": "code",
   "execution_count": 7,
   "metadata": {},
   "outputs": [
    {
     "data": {
      "text/plain": [
       "0"
      ]
     },
     "execution_count": 7,
     "metadata": {},
     "output_type": "execute_result"
    }
   ],
   "source": [
    "data.duplicated().sum()"
   ]
  },
  {
   "cell_type": "code",
   "execution_count": 8,
   "metadata": {
    "scrolled": true
   },
   "outputs": [
    {
     "data": {
      "image/png": "[encoded data removed]",
      "text/plain": [
       "<Figure size 432x288 with 1 Axes>"
      ]
     },
     "metadata": {
      "needs_background": "light"
     },
     "output_type": "display_data"
    }
   ],
   "source": [
    "data['toxic'].hist()\n",
    "plt.xlabel('Тип комментария')\n",
    "plt.ylabel('Количество комментариев')\n",
    "plt.title('Распределение типа комментария')\n",
    "plt.show();"
   ]
  },
  {
   "cell_type": "markdown",
   "metadata": {},
   "source": [
    "**Вывод:** Исходный набор данных содержит 159292 записей. Явные дубликаты и пропуски отсутсвуют. Количество нетоксичных комментариев превосходит количество токсичных примерно в 7 раз. "
   ]
  },
  {
   "cell_type": "markdown",
   "metadata": {},
   "source": [
    "Подготовим данные к дальнейшему построению моделей машинного обучения:"
   ]
  },
  {
   "cell_type": "markdown",
   "metadata": {},
   "source": [
    "1. Загрузим список стоп-слов"
   ]
  },
  {
   "cell_type": "code",
   "execution_count": 9,
   "metadata": {},
   "outputs": [
    {
     "name": "stderr",
     "output_type": "stream",
     "text": [
      "[nltk_data] Downloading package stopwords to /home/jovyan/nltk_data...\n",
      "[nltk_data]   Package stopwords is already up-to-date!\n"
     ]
    }
   ],
   "source": [
    "nltk.download('stopwords')\n",
    "stopwords = set(nltk_stopwords.words('english'))"
   ]
  },
  {
   "cell_type": "markdown",
   "metadata": {},
   "source": [
    "Лемматизируем комментарии"
   ]
  },
  {
   "cell_type": "code",
   "execution_count": 11,
   "metadata": {},
   "outputs": [
    {
     "name": "stderr",
     "output_type": "stream",
     "text": [
      "[nltk_data] Downloading package wordnet to /home/jovyan/nltk_data...\n",
      "[nltk_data]   Package wordnet is already up-to-date!\n"
     ]
    },
    {
     "data": {
      "text/plain": [
       "True"
      ]
     },
     "execution_count": 11,
     "metadata": {},
     "output_type": "execute_result"
    }
   ],
   "source": [
    "nltk.download('wordnet')"
   ]
  },
  {
   "cell_type": "code",
   "execution_count": 12,
   "metadata": {},
   "outputs": [],
   "source": [
    "def get_wordnet_pos(word):\n",
    "    tag = nltk.pos_tag([word])[0][1][0].upper()\n",
    "    tag_dict = {\"J\": wordnet.ADJ,\n",
    "                \"N\": wordnet.NOUN,\n",
    "                \"V\": wordnet.VERB,\n",
    "                \"R\": wordnet.ADV}\n",
    "    return tag_dict.get(tag, wordnet.NOUN)"
   ]
  },
  {
   "cell_type": "code",
   "execution_count": 13,
   "metadata": {},
   "outputs": [],
   "source": [
    "lemmatizer = WordNetLemmatizer()"
   ]
  },
  {
   "cell_type": "code",
   "execution_count": 14,
   "metadata": {},
   "outputs": [],
   "source": [
    "def lemmatize(text):\n",
    "    text = re.sub(r'[^a-zA-z ]', ' ', text)\n",
    "    text = text.lower()\n",
    "    token = nltk.word_tokenize(text)\n",
    "    text = [word for word in token if word not in stopwords]\n",
    "    text = [lemmatizer.lemmatize(word, get_wordnet_pos(word)) for word in text]\n",
    "    text = ' '.join(text)\n",
    "    return text"
   ]
  },
  {
   "cell_type": "code",
   "execution_count": 15,
   "metadata": {},
   "outputs": [],
   "source": [
    "data['lemmatized'] = data['text'].apply(lemmatize)"
   ]
  },
  {
   "cell_type": "code",
   "execution_count": 19,
   "metadata": {},
   "outputs": [
    {
     "data": {
      "text/html": [
       "<div>\n",
       "<style scoped>\n",
       "    .dataframe tbody tr th:only-of-type {\n",
       "        vertical-align: middle;\n",
       "    }\n",
       "\n",
       "    .dataframe tbody tr th {\n",
       "        vertical-align: top;\n",
       "    }\n",
       "\n",
       "    .dataframe thead th {\n",
       "        text-align: right;\n",
       "    }\n",
       "</style>\n",
       "<table border=\"1\" class=\"dataframe\">\n",
       "  <thead>\n",
       "    <tr style=\"text-align: right;\">\n",
       "      <th></th>\n",
       "      <th>text</th>\n",
       "      <th>toxic</th>\n",
       "      <th>lemmatized</th>\n",
       "    </tr>\n",
       "  </thead>\n",
       "  <tbody>\n",
       "    <tr>\n",
       "      <th>0</th>\n",
       "      <td>Explanation\\nWhy the edits made under my usern...</td>\n",
       "      <td>0</td>\n",
       "      <td>explanation edits make username hardcore metal...</td>\n",
       "    </tr>\n",
       "    <tr>\n",
       "      <th>1</th>\n",
       "      <td>D'aww! He matches this background colour I'm s...</td>\n",
       "      <td>0</td>\n",
       "      <td>aww match background colour seemingly stuck th...</td>\n",
       "    </tr>\n",
       "    <tr>\n",
       "      <th>2</th>\n",
       "      <td>Hey man, I'm really not trying to edit war. It...</td>\n",
       "      <td>0</td>\n",
       "      <td>hey man really try edit war guy constantly rem...</td>\n",
       "    </tr>\n",
       "    <tr>\n",
       "      <th>3</th>\n",
       "      <td>\"\\nMore\\nI can't make any real suggestions on ...</td>\n",
       "      <td>0</td>\n",
       "      <td>make real suggestion improvement wonder sectio...</td>\n",
       "    </tr>\n",
       "    <tr>\n",
       "      <th>4</th>\n",
       "      <td>You, sir, are my hero. Any chance you remember...</td>\n",
       "      <td>0</td>\n",
       "      <td>sir hero chance remember page</td>\n",
       "    </tr>\n",
       "  </tbody>\n",
       "</table>\n",
       "</div>"
      ],
      "text/plain": [
       "                                                text  toxic  \\\n",
       "0  Explanation\\nWhy the edits made under my usern...      0   \n",
       "1  D'aww! He matches this background colour I'm s...      0   \n",
       "2  Hey man, I'm really not trying to edit war. It...      0   \n",
       "3  \"\\nMore\\nI can't make any real suggestions on ...      0   \n",
       "4  You, sir, are my hero. Any chance you remember...      0   \n",
       "\n",
       "                                          lemmatized  \n",
       "0  explanation edits make username hardcore metal...  \n",
       "1  aww match background colour seemingly stuck th...  \n",
       "2  hey man really try edit war guy constantly rem...  \n",
       "3  make real suggestion improvement wonder sectio...  \n",
       "4                      sir hero chance remember page  "
      ]
     },
     "execution_count": 19,
     "metadata": {},
     "output_type": "execute_result"
    }
   ],
   "source": [
    "data.head()"
   ]
  },
  {
   "cell_type": "markdown",
   "metadata": {},
   "source": [
    "## Обучение"
   ]
  },
  {
   "cell_type": "markdown",
   "metadata": {},
   "source": [
    "Разобьем данные на выборки"
   ]
  },
  {
   "cell_type": "code",
   "execution_count": 20,
   "metadata": {},
   "outputs": [],
   "source": [
    "state = np.random.RandomState(12345)"
   ]
  },
  {
   "cell_type": "code",
   "execution_count": 21,
   "metadata": {},
   "outputs": [],
   "source": [
    "features = data.drop(columns=['toxic'])\n",
    "target = data['toxic']\n",
    "features_train, features_test, target_train, target_test = train_test_split(features, target, test_size=0.2, stratify = target)"
   ]
  },
  {
   "cell_type": "code",
   "execution_count": 22,
   "metadata": {},
   "outputs": [
    {
     "name": "stdout",
     "output_type": "stream",
     "text": [
      "(127433, 2) (127433,)\n"
     ]
    }
   ],
   "source": [
    "print(features_train.shape, target_train.shape)"
   ]
  },
  {
   "cell_type": "code",
   "execution_count": 23,
   "metadata": {},
   "outputs": [
    {
     "name": "stdout",
     "output_type": "stream",
     "text": [
      "(31859, 2) (31859,)\n"
     ]
    }
   ],
   "source": [
    "print(features_test.shape, target_test.shape)"
   ]
  },
  {
   "cell_type": "markdown",
   "metadata": {},
   "source": [
    "Построим пайплайн обучения"
   ]
  },
  {
   "cell_type": "code",
   "execution_count": 24,
   "metadata": {},
   "outputs": [],
   "source": [
    "def train(model, params):\n",
    "    pipeline = Pipeline([\n",
    "        ('tfidf', TfidfVectorizer(min_df = 1)),\n",
    "        ('model', model)])\n",
    "    grid_search = GridSearchCV(estimator=pipeline, param_grid=params, cv=3, n_jobs =-1, verbose=0, scoring='f1')\n",
    "    grid_search.fit(features_train['lemmatized'], target_train)\n",
    "    print('Наилучшая мера f1:', grid_search.best_score_)\n",
    "    print('Наилучшие параметры:', grid_search.best_params_)\n",
    "    return grid_search\n"
   ]
  },
  {
   "cell_type": "markdown",
   "metadata": {},
   "source": [
    "Построим модель логистической регрессии"
   ]
  },
  {
   "cell_type": "code",
   "execution_count": 25,
   "metadata": {},
   "outputs": [
    {
     "name": "stdout",
     "output_type": "stream",
     "text": [
      "Наилучшая мера f1: 0.7746190204185761\n",
      "Наилучшие параметры: {'model__C': 10, 'model__class_weight': 'None', 'model__penalty': 'l2'}\n"
     ]
    }
   ],
   "source": [
    "model_lr = train(LogisticRegression(), {\"model__penalty\" : ['l2'], \"model__class_weight\" : ['None', 'balanced'], \"model__C\" : [0.1, 1, 10]})"
   ]
  },
  {
   "cell_type": "markdown",
   "metadata": {},
   "source": [
    "Построим модель случайного леса "
   ]
  },
  {
   "cell_type": "code",
   "execution_count": 26,
   "metadata": {},
   "outputs": [
    {
     "name": "stdout",
     "output_type": "stream",
     "text": [
      "Наилучшая мера f1: 0.0\n",
      "Наилучшие параметры: {'model__criterion': 'gini', 'model__max_depth': 6, 'model__n_estimators': 30}\n"
     ]
    }
   ],
   "source": [
    "model_rf = train(RandomForestClassifier(), {'model__criterion':['gini','entropy'], \"model__n_estimators\" : [30, 40, 50, 60], \"model__max_depth\" : [6, 8, 10, 12]})"
   ]
  },
  {
   "cell_type": "markdown",
   "metadata": {},
   "source": [
    "Построим модель CatBoost"
   ]
  },
  {
   "cell_type": "code",
   "execution_count": 27,
   "metadata": {},
   "outputs": [
    {
     "name": "stdout",
     "output_type": "stream",
     "text": [
      "Наилучшая мера f1: 0.5326295547673792\n",
      "Наилучшие параметры: {'model__depth': 6, 'model__iterations': 60, 'model__learning_rate': 0.03}\n"
     ]
    }
   ],
   "source": [
    "model_cat = train(CatBoostClassifier(logging_level='Silent'), {\"model__iterations\" : [10, 60], \"model__learning_rate\" : [0.01, 0.02, 0.03], \"model__depth\" : [1, 6]})"
   ]
  },
  {
   "cell_type": "markdown",
   "metadata": {},
   "source": [
    "**Вывод:** наилучшей оказалась модель  логистической регрессии, для нее значение метрики F1 равно 0.77. Протестируем данную модель на тестовой выборке."
   ]
  },
  {
   "cell_type": "code",
   "execution_count": 28,
   "metadata": {},
   "outputs": [
    {
     "name": "stdout",
     "output_type": "stream",
     "text": [
      "Значение метрики F1 на тестовой выборке для модели логистической регресии: 0.7797537619699042\n"
     ]
    }
   ],
   "source": [
    "predictions_lr = model_lr.predict(features_test['lemmatized'])\n",
    "print('Значение метрики F1 на тестовой выборке для модели логистической регресии:', f1_score(target_test, predictions_lr))"
   ]
  },
  {
   "cell_type": "markdown",
   "metadata": {},
   "source": [
    "## Выводы"
   ]
  },
  {
   "cell_type": "markdown",
   "metadata": {},
   "source": [
    "В ходе работы познакомились с набором данных, который содержит 159292 комментария. Лемматизировали данные комментарии, посмотрели на колиечство токсичных и нетоксичных комментариев. Построили различные модели машинного обучения с различными гиперпараметрами: логистическую регрессию, случайный лес и CatBoost. Наилучшей оказалась модель логистической регрессии, значение меры f1 на тестовой выборке для которой равно 0.78."
   ]
  }
 ],
 "metadata": {
  "ExecuteTimeLog": [
   {
    "duration": 417,
    "start_time": "2023-10-23T13:44:34.874Z"
   },
   {
    "duration": 3881,
    "start_time": "2023-10-23T13:45:33.203Z"
   },
   {
    "duration": 15,
    "start_time": "2023-10-23T13:45:39.456Z"
   },
   {
    "duration": 55,
    "start_time": "2023-10-23T18:33:46.085Z"
   },
   {
    "duration": 443,
    "start_time": "2023-10-24T07:27:42.903Z"
   },
   {
    "duration": 2480,
    "start_time": "2023-10-24T07:27:43.349Z"
   },
   {
    "duration": 14,
    "start_time": "2023-10-24T07:27:45.832Z"
   },
   {
    "duration": 2335,
    "start_time": "2023-10-24T07:27:45.847Z"
   },
   {
    "duration": 61,
    "start_time": "2023-10-24T07:27:57.452Z"
   },
   {
    "duration": 5,
    "start_time": "2023-10-24T07:28:01.755Z"
   },
   {
    "duration": 3,
    "start_time": "2023-10-24T07:28:05.304Z"
   },
   {
    "duration": 14,
    "start_time": "2023-10-24T07:28:18.964Z"
   },
   {
    "duration": 27,
    "start_time": "2023-10-24T07:29:21.172Z"
   },
   {
    "duration": 223,
    "start_time": "2023-10-24T07:29:34.338Z"
   },
   {
    "duration": 33,
    "start_time": "2023-10-24T07:31:47.191Z"
   },
   {
    "duration": 0,
    "start_time": "2023-10-24T07:34:00.687Z"
   },
   {
    "duration": 634,
    "start_time": "2023-10-24T07:34:02.321Z"
   },
   {
    "duration": 161,
    "start_time": "2023-10-24T07:35:21.242Z"
   },
   {
    "duration": 915,
    "start_time": "2023-10-24T07:37:39.039Z"
   },
   {
    "duration": 208,
    "start_time": "2023-10-24T07:38:28.196Z"
   },
   {
    "duration": 5,
    "start_time": "2023-10-24T07:38:38.055Z"
   },
   {
    "duration": 4,
    "start_time": "2023-10-24T07:41:33.462Z"
   },
   {
    "duration": 1557,
    "start_time": "2023-10-24T07:41:38.970Z"
   },
   {
    "duration": 3,
    "start_time": "2023-10-24T07:41:54.568Z"
   },
   {
    "duration": 1702,
    "start_time": "2023-10-24T12:11:21.226Z"
   },
   {
    "duration": 864,
    "start_time": "2023-10-24T12:11:22.930Z"
   },
   {
    "duration": 11,
    "start_time": "2023-10-24T12:11:23.796Z"
   },
   {
    "duration": 46,
    "start_time": "2023-10-24T12:11:23.809Z"
   },
   {
    "duration": 29,
    "start_time": "2023-10-24T12:11:23.956Z"
   },
   {
    "duration": 222,
    "start_time": "2023-10-24T12:11:26.069Z"
   },
   {
    "duration": 164,
    "start_time": "2023-10-24T12:11:26.682Z"
   },
   {
    "duration": 208,
    "start_time": "2023-10-24T12:11:29.202Z"
   },
   {
    "duration": 28,
    "start_time": "2023-10-24T12:11:29.823Z"
   },
   {
    "duration": 4,
    "start_time": "2023-10-24T12:11:31.471Z"
   },
   {
    "duration": 1877,
    "start_time": "2023-10-25T17:29:22.936Z"
   },
   {
    "duration": 2437,
    "start_time": "2023-10-25T17:29:24.815Z"
   },
   {
    "duration": 11,
    "start_time": "2023-10-25T17:29:27.254Z"
   },
   {
    "duration": 40,
    "start_time": "2023-10-25T17:29:27.267Z"
   },
   {
    "duration": 27,
    "start_time": "2023-10-25T17:29:33.851Z"
   },
   {
    "duration": 234,
    "start_time": "2023-10-25T17:29:34.985Z"
   },
   {
    "duration": 159,
    "start_time": "2023-10-25T17:29:35.712Z"
   },
   {
    "duration": 130,
    "start_time": "2023-10-25T17:29:39.477Z"
   },
   {
    "duration": 25,
    "start_time": "2023-10-25T17:29:40.020Z"
   },
   {
    "duration": 2,
    "start_time": "2023-10-25T17:29:41.494Z"
   },
   {
    "duration": 229360,
    "start_time": "2023-10-25T17:29:44.631Z"
   },
   {
    "duration": 0,
    "start_time": "2023-10-25T17:33:33.993Z"
   },
   {
    "duration": 13,
    "start_time": "2023-10-25T17:33:38.233Z"
   },
   {
    "duration": 3,
    "start_time": "2023-10-25T17:33:42.082Z"
   },
   {
    "duration": 2,
    "start_time": "2023-10-25T17:33:46.948Z"
   },
   {
    "duration": 3,
    "start_time": "2023-10-25T17:33:49.795Z"
   },
   {
    "duration": 406,
    "start_time": "2023-10-25T17:33:55.206Z"
   },
   {
    "duration": 4,
    "start_time": "2023-10-25T17:34:05.408Z"
   },
   {
    "duration": 1631,
    "start_time": "2023-10-25T17:35:09.869Z"
   },
   {
    "duration": 889,
    "start_time": "2023-10-25T17:35:11.502Z"
   },
   {
    "duration": 10,
    "start_time": "2023-10-25T17:35:12.393Z"
   },
   {
    "duration": 30,
    "start_time": "2023-10-25T17:35:12.421Z"
   },
   {
    "duration": 27,
    "start_time": "2023-10-25T17:35:17.001Z"
   },
   {
    "duration": 231,
    "start_time": "2023-10-25T17:35:18.944Z"
   },
   {
    "duration": 156,
    "start_time": "2023-10-25T17:35:20.080Z"
   },
   {
    "duration": 245,
    "start_time": "2023-10-25T17:35:23.178Z"
   },
   {
    "duration": 2,
    "start_time": "2023-10-25T17:35:28.174Z"
   },
   {
    "duration": 4,
    "start_time": "2023-10-25T17:35:30.883Z"
   },
   {
    "duration": 71833,
    "start_time": "2023-10-25T17:35:34.290Z"
   },
   {
    "duration": 10,
    "start_time": "2023-10-25T17:36:46.125Z"
   },
   {
    "duration": 3,
    "start_time": "2023-10-25T17:37:23.539Z"
   },
   {
    "duration": 1860,
    "start_time": "2023-10-25T17:41:42.092Z"
   },
   {
    "duration": 987,
    "start_time": "2023-10-25T17:41:43.954Z"
   },
   {
    "duration": 11,
    "start_time": "2023-10-25T17:41:44.944Z"
   },
   {
    "duration": 34,
    "start_time": "2023-10-25T17:41:44.957Z"
   },
   {
    "duration": 27,
    "start_time": "2023-10-25T17:41:44.993Z"
   },
   {
    "duration": 241,
    "start_time": "2023-10-25T17:41:45.085Z"
   },
   {
    "duration": 154,
    "start_time": "2023-10-25T17:41:45.996Z"
   },
   {
    "duration": 194,
    "start_time": "2023-10-25T17:41:47.853Z"
   },
   {
    "duration": 3,
    "start_time": "2023-10-25T17:41:52.296Z"
   },
   {
    "duration": 437,
    "start_time": "2023-10-25T17:41:52.974Z"
   },
   {
    "duration": 7,
    "start_time": "2023-10-25T17:41:53.964Z"
   },
   {
    "duration": 2,
    "start_time": "2023-10-25T17:42:13.669Z"
   },
   {
    "duration": 4,
    "start_time": "2023-10-25T17:42:14.140Z"
   },
   {
    "duration": 70761,
    "start_time": "2023-10-25T17:42:14.738Z"
   },
   {
    "duration": 7,
    "start_time": "2023-10-25T17:43:25.501Z"
   },
   {
    "duration": 4,
    "start_time": "2023-10-25T17:44:59.381Z"
   },
   {
    "duration": 67,
    "start_time": "2023-10-25T17:44:59.996Z"
   },
   {
    "duration": 7,
    "start_time": "2023-10-25T17:45:17.123Z"
   },
   {
    "duration": 3,
    "start_time": "2023-10-25T17:45:43.335Z"
   },
   {
    "duration": 4,
    "start_time": "2023-10-25T17:45:58.460Z"
   },
   {
    "duration": 5,
    "start_time": "2023-10-25T17:46:13.623Z"
   },
   {
    "duration": 4,
    "start_time": "2023-10-25T17:46:19.599Z"
   },
   {
    "duration": 23,
    "start_time": "2023-10-25T17:46:22.496Z"
   },
   {
    "duration": 4,
    "start_time": "2023-10-25T17:46:46.364Z"
   },
   {
    "duration": 15,
    "start_time": "2023-10-25T17:46:51.700Z"
   },
   {
    "duration": 4,
    "start_time": "2023-10-25T17:47:07.985Z"
   },
   {
    "duration": 192,
    "start_time": "2023-10-25T17:47:08.945Z"
   },
   {
    "duration": 175,
    "start_time": "2023-10-25T17:47:28.768Z"
   },
   {
    "duration": 4,
    "start_time": "2023-10-25T17:48:27.265Z"
   },
   {
    "duration": 185,
    "start_time": "2023-10-25T17:48:32.727Z"
   },
   {
    "duration": 1808,
    "start_time": "2023-10-25T17:49:23.070Z"
   },
   {
    "duration": 3,
    "start_time": "2023-10-25T17:49:24.880Z"
   },
   {
    "duration": 946,
    "start_time": "2023-10-25T17:49:24.884Z"
   },
   {
    "duration": 12,
    "start_time": "2023-10-25T17:49:25.832Z"
   },
   {
    "duration": 37,
    "start_time": "2023-10-25T17:49:25.848Z"
   },
   {
    "duration": 28,
    "start_time": "2023-10-25T17:49:25.887Z"
   },
   {
    "duration": 240,
    "start_time": "2023-10-25T17:49:25.917Z"
   },
   {
    "duration": 180,
    "start_time": "2023-10-25T17:49:26.159Z"
   },
   {
    "duration": 147,
    "start_time": "2023-10-25T17:49:26.341Z"
   },
   {
    "duration": 3,
    "start_time": "2023-10-25T17:49:26.489Z"
   },
   {
    "duration": 10,
    "start_time": "2023-10-25T17:49:26.494Z"
   },
   {
    "duration": 76784,
    "start_time": "2023-10-25T17:49:26.506Z"
   },
   {
    "duration": 8,
    "start_time": "2023-10-25T17:50:43.292Z"
   },
   {
    "duration": 6,
    "start_time": "2023-10-25T17:50:43.303Z"
   },
   {
    "duration": 202,
    "start_time": "2023-10-25T17:50:43.311Z"
   },
   {
    "duration": 0,
    "start_time": "2023-10-25T17:50:43.517Z"
   },
   {
    "duration": 0,
    "start_time": "2023-10-25T17:50:43.518Z"
   },
   {
    "duration": 0,
    "start_time": "2023-10-25T17:50:43.519Z"
   },
   {
    "duration": 0,
    "start_time": "2023-10-25T17:50:43.521Z"
   },
   {
    "duration": 0,
    "start_time": "2023-10-25T17:50:43.522Z"
   },
   {
    "duration": 0,
    "start_time": "2023-10-25T17:50:43.523Z"
   },
   {
    "duration": 104,
    "start_time": "2023-10-25T17:52:02.432Z"
   },
   {
    "duration": 4,
    "start_time": "2023-10-25T17:52:03.135Z"
   },
   {
    "duration": 4,
    "start_time": "2023-10-25T17:52:04.328Z"
   },
   {
    "duration": 4,
    "start_time": "2023-10-25T17:52:06.091Z"
   },
   {
    "duration": 176,
    "start_time": "2023-10-25T17:52:07.190Z"
   },
   {
    "duration": 119,
    "start_time": "2023-10-25T17:52:30.975Z"
   },
   {
    "duration": 45,
    "start_time": "2023-10-25T17:52:48.189Z"
   },
   {
    "duration": 13,
    "start_time": "2023-10-25T17:53:25.937Z"
   },
   {
    "duration": 251,
    "start_time": "2023-10-25T17:53:33.278Z"
   },
   {
    "duration": 4,
    "start_time": "2023-10-25T17:54:11.013Z"
   },
   {
    "duration": 424507,
    "start_time": "2023-10-25T17:54:11.564Z"
   },
   {
    "duration": 368616,
    "start_time": "2023-10-25T18:01:16.078Z"
   },
   {
    "duration": 44,
    "start_time": "2023-10-25T18:08:20.572Z"
   },
   {
    "duration": 49,
    "start_time": "2023-10-25T18:09:16.965Z"
   },
   {
    "duration": 9,
    "start_time": "2023-10-25T18:09:31.123Z"
   },
   {
    "duration": 63799,
    "start_time": "2023-10-25T18:10:39.834Z"
   },
   {
    "duration": 238677,
    "start_time": "2023-10-25T18:13:15.828Z"
   },
   {
    "duration": 755673,
    "start_time": "2023-10-25T18:18:26.193Z"
   },
   {
    "duration": 530657,
    "start_time": "2023-10-25T18:31:47.160Z"
   },
   {
    "duration": 2398531,
    "start_time": "2023-10-25T18:40:44.840Z"
   },
   {
    "duration": 5,
    "start_time": "2023-10-25T19:22:04.707Z"
   },
   {
    "duration": 897,
    "start_time": "2023-10-25T19:22:08.388Z"
   },
   {
    "duration": 897,
    "start_time": "2023-10-25T19:22:18.088Z"
   },
   {
    "duration": 988,
    "start_time": "2023-10-25T19:22:38.141Z"
   },
   {
    "duration": 923,
    "start_time": "2023-10-25T19:22:47.236Z"
   },
   {
    "duration": 910,
    "start_time": "2023-10-25T19:23:09.013Z"
   },
   {
    "duration": 2262,
    "start_time": "2023-10-26T07:31:36.698Z"
   },
   {
    "duration": 2,
    "start_time": "2023-10-26T07:31:38.964Z"
   },
   {
    "duration": 2393,
    "start_time": "2023-10-26T07:31:42.233Z"
   },
   {
    "duration": 12,
    "start_time": "2023-10-26T07:31:44.628Z"
   },
   {
    "duration": 35,
    "start_time": "2023-10-26T07:31:44.641Z"
   },
   {
    "duration": 46,
    "start_time": "2023-10-26T07:31:44.678Z"
   },
   {
    "duration": 228,
    "start_time": "2023-10-26T07:31:44.726Z"
   },
   {
    "duration": 172,
    "start_time": "2023-10-26T07:31:44.956Z"
   },
   {
    "duration": 207,
    "start_time": "2023-10-26T07:31:47.669Z"
   },
   {
    "duration": 3,
    "start_time": "2023-10-26T07:31:49.121Z"
   },
   {
    "duration": 2,
    "start_time": "2023-10-26T07:31:52.240Z"
   },
   {
    "duration": 4,
    "start_time": "2023-10-26T07:31:52.780Z"
   },
   {
    "duration": 541,
    "start_time": "2023-10-26T07:31:53.985Z"
   },
   {
    "duration": 5,
    "start_time": "2023-10-26T07:32:03.274Z"
   },
   {
    "duration": 618,
    "start_time": "2023-10-26T07:32:04.171Z"
   },
   {
    "duration": 4,
    "start_time": "2023-10-26T07:32:38.377Z"
   },
   {
    "duration": 379,
    "start_time": "2023-10-26T07:32:43.195Z"
   },
   {
    "duration": 256,
    "start_time": "2023-10-26T07:33:31.818Z"
   },
   {
    "duration": 585664,
    "start_time": "2023-10-26T07:33:37.094Z"
   },
   {
    "duration": 0,
    "start_time": "2023-10-26T07:43:22.759Z"
   },
   {
    "duration": 7,
    "start_time": "2023-10-26T07:43:29.404Z"
   },
   {
    "duration": 1821,
    "start_time": "2023-10-26T07:46:47.482Z"
   },
   {
    "duration": 2,
    "start_time": "2023-10-26T07:46:49.305Z"
   },
   {
    "duration": 1166,
    "start_time": "2023-10-26T07:46:49.309Z"
   },
   {
    "duration": 10,
    "start_time": "2023-10-26T07:46:50.477Z"
   },
   {
    "duration": 35,
    "start_time": "2023-10-26T07:46:50.635Z"
   },
   {
    "duration": 30,
    "start_time": "2023-10-26T07:46:52.070Z"
   },
   {
    "duration": 228,
    "start_time": "2023-10-26T07:46:52.831Z"
   },
   {
    "duration": 168,
    "start_time": "2023-10-26T07:46:53.107Z"
   },
   {
    "duration": 135,
    "start_time": "2023-10-26T07:46:55.348Z"
   },
   {
    "duration": 123,
    "start_time": "2023-10-26T07:46:56.596Z"
   },
   {
    "duration": 299,
    "start_time": "2023-10-26T07:47:01.566Z"
   },
   {
    "duration": 4,
    "start_time": "2023-10-26T07:47:05.155Z"
   },
   {
    "duration": 3,
    "start_time": "2023-10-26T07:47:05.917Z"
   },
   {
    "duration": 4,
    "start_time": "2023-10-26T07:47:06.998Z"
   },
   {
    "duration": 715249,
    "start_time": "2023-10-26T07:47:08.848Z"
   },
   {
    "duration": 8,
    "start_time": "2023-10-26T07:59:04.099Z"
   },
   {
    "duration": 155,
    "start_time": "2023-10-26T08:00:22.657Z"
   },
   {
    "duration": 10,
    "start_time": "2023-10-26T08:01:55.932Z"
   },
   {
    "duration": 7,
    "start_time": "2023-10-26T08:02:16.345Z"
   },
   {
    "duration": 3,
    "start_time": "2023-10-26T08:02:21.477Z"
   },
   {
    "duration": 92,
    "start_time": "2023-10-26T08:02:21.959Z"
   },
   {
    "duration": 3,
    "start_time": "2023-10-26T08:02:23.197Z"
   },
   {
    "duration": 3,
    "start_time": "2023-10-26T08:02:23.847Z"
   },
   {
    "duration": 4,
    "start_time": "2023-10-26T08:02:26.435Z"
   },
   {
    "duration": 627071,
    "start_time": "2023-10-26T08:02:29.556Z"
   },
   {
    "duration": 488452,
    "start_time": "2023-10-26T08:14:06.356Z"
   },
   {
    "duration": 2195862,
    "start_time": "2023-10-26T08:26:06.030Z"
   },
   {
    "duration": 882,
    "start_time": "2023-10-26T09:06:39.079Z"
   }
  ],
  "kernelspec": {
   "display_name": "Python 3 (ipykernel)",
   "language": "python",
   "name": "python3"
  },
  "language_info": {
   "codemirror_mode": {
    "name": "ipython",
    "version": 3
   },
   "file_extension": ".py",
   "mimetype": "text/x-python",
   "name": "python",
   "nbconvert_exporter": "python",
   "pygments_lexer": "ipython3",
   "version": "3.9.17"
  },
  "toc": {
   "base_numbering": 1,
   "nav_menu": {},
   "number_sections": true,
   "sideBar": true,
   "skip_h1_title": true,
   "title_cell": "Содержание",
   "title_sidebar": "Contents",
   "toc_cell": true,
   "toc_position": {
    "height": "calc(100% - 180px)",
    "left": "10px",
    "top": "150px",
    "width": "302.388px"
   },
   "toc_section_display": true,
   "toc_window_display": true
  }
 },
 "nbformat": 4,
 "nbformat_minor": 2
}
