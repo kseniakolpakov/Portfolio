{
 "cells": [
  {
   "cell_type": "markdown",
   "metadata": {
    "toc": true
   },
   "source": [
    "<h1>Содержание<span class=\"tocSkip\"></span></h1>\n",
    "<div class=\"toc\"><ul class=\"toc-item\"><li><span><a href=\"#Подготовка-данных\" data-toc-modified-id=\"Подготовка-данных-1\"><span class=\"toc-item-num\">1&nbsp;&nbsp;</span>Подготовка данных</a></span><ul class=\"toc-item\"><li><span><a href=\"#Проведем-предобработку-данных\" data-toc-modified-id=\"Проведем-предобработку-данных-1.1\"><span class=\"toc-item-num\">1.1&nbsp;&nbsp;</span>Проведем предобработку данных</a></span></li></ul></li><li><span><a href=\"#Анализ-данных\" data-toc-modified-id=\"Анализ-данных-2\"><span class=\"toc-item-num\">2&nbsp;&nbsp;</span>Анализ данных</a></span><ul class=\"toc-item\"><li><span><a href=\"#Изменения-концентрации-металлов-на-различных-этапах\" data-toc-modified-id=\"Изменения-концентрации-металлов-на-различных-этапах-2.1\"><span class=\"toc-item-num\">2.1&nbsp;&nbsp;</span>Изменения концентрации металлов на различных этапах</a></span></li><li><span><a href=\"#Удаление-выбросов\" data-toc-modified-id=\"Удаление-выбросов-2.2\"><span class=\"toc-item-num\">2.2&nbsp;&nbsp;</span>Удаление выбросов</a></span></li><li><span><a href=\"#Распределения-размеров-гранул\" data-toc-modified-id=\"Распределения-размеров-гранул-2.3\"><span class=\"toc-item-num\">2.3&nbsp;&nbsp;</span>Распределения размеров гранул</a></span></li><li><span><a href=\"#Суммарная-концентрация-металлов\" data-toc-modified-id=\"Суммарная-концентрация-металлов-2.4\"><span class=\"toc-item-num\">2.4&nbsp;&nbsp;</span>Суммарная концентрация металлов</a></span></li></ul></li><li><span><a href=\"#Модель\" data-toc-modified-id=\"Модель-3\"><span class=\"toc-item-num\">3&nbsp;&nbsp;</span>Модель</a></span></li></ul></div>"
   ]
  },
  {
   "cell_type": "markdown",
   "metadata": {},
   "source": [
    "# Восстановление золота из руды"
   ]
  },
  {
   "cell_type": "markdown",
   "metadata": {},
   "source": [
    "Подготовьте прототип модели машинного обучения для «Цифры». Компания разрабатывает решения для эффективной работы промышленных предприятий.\n",
    "\n",
    "Модель должна предсказать коэффициент восстановления золота из золотосодержащей руды. Используйте данные с параметрами добычи и очистки. \n",
    "\n",
    "Модель поможет оптимизировать производство, чтобы не запускать предприятие с убыточными характеристиками.\n",
    "\n",
    "Вам нужно:\n",
    "\n",
    "1. Подготовить данные;\n",
    "2. Провести исследовательский анализ данных;\n",
    "3. Построить и обучить модель.\n",
    "\n",
    "Чтобы выполнить проект, обращайтесь к библиотекам *pandas*, *matplotlib* и *sklearn.* Вам поможет их документация."
   ]
  },
  {
   "cell_type": "markdown",
   "metadata": {},
   "source": [
    "## Подготовка данных"
   ]
  },
  {
   "cell_type": "code",
   "execution_count": 1,
   "metadata": {},
   "outputs": [],
   "source": [
    "import pandas as pd\n",
    "import numpy as np\n",
    "import seaborn as sns\n",
    "import matplotlib.pyplot as plt\n",
    "from sklearn.metrics import mean_absolute_error\n",
    "from sklearn.preprocessing import StandardScaler\n",
    "from sklearn.linear_model import LinearRegression\n",
    "from sklearn.tree import DecisionTreeRegressor\n",
    "from sklearn.ensemble import RandomForestRegressor\n",
    "from sklearn.model_selection import cross_val_score\n",
    "from sklearn.dummy import DummyRegressor"
   ]
  },
  {
   "cell_type": "code",
   "execution_count": 2,
   "metadata": {},
   "outputs": [],
   "source": [
    "import warnings\n",
    "warnings.filterwarnings(\"ignore\")"
   ]
  },
  {
   "cell_type": "markdown",
   "metadata": {},
   "source": [
    "Загрузим все необходимые для анализа данные"
   ]
  },
  {
   "cell_type": "code",
   "execution_count": 3,
   "metadata": {},
   "outputs": [],
   "source": [
    "data_train = pd.read_csv('/datasets/gold_industry_train.csv')"
   ]
  },
  {
   "cell_type": "code",
   "execution_count": 4,
   "metadata": {},
   "outputs": [
    {
     "data": {
      "text/html": [
       "<div>\n",
       "<style scoped>\n",
       "    .dataframe tbody tr th:only-of-type {\n",
       "        vertical-align: middle;\n",
       "    }\n",
       "\n",
       "    .dataframe tbody tr th {\n",
       "        vertical-align: top;\n",
       "    }\n",
       "\n",
       "    .dataframe thead th {\n",
       "        text-align: right;\n",
       "    }\n",
       "</style>\n",
       "<table border=\"1\" class=\"dataframe\">\n",
       "  <thead>\n",
       "    <tr style=\"text-align: right;\">\n",
       "      <th></th>\n",
       "      <th>date</th>\n",
       "      <th>rougher.input.feed_au</th>\n",
       "      <th>rougher.input.feed_ag</th>\n",
       "      <th>rougher.input.feed_pb</th>\n",
       "      <th>rougher.input.feed_sol</th>\n",
       "      <th>rougher.input.feed_rate</th>\n",
       "      <th>rougher.input.feed_size</th>\n",
       "      <th>rougher.input.floatbank10_sulfate</th>\n",
       "      <th>rougher.input.floatbank10_xanthate</th>\n",
       "      <th>rougher.state.floatbank10_a_air</th>\n",
       "      <th>...</th>\n",
       "      <th>secondary_cleaner.output.tail_sol</th>\n",
       "      <th>final.output.concentrate_au</th>\n",
       "      <th>final.output.concentrate_ag</th>\n",
       "      <th>final.output.concentrate_pb</th>\n",
       "      <th>final.output.concentrate_sol</th>\n",
       "      <th>final.output.recovery</th>\n",
       "      <th>final.output.tail_au</th>\n",
       "      <th>final.output.tail_ag</th>\n",
       "      <th>final.output.tail_pb</th>\n",
       "      <th>final.output.tail_sol</th>\n",
       "    </tr>\n",
       "  </thead>\n",
       "  <tbody>\n",
       "    <tr>\n",
       "      <th>0</th>\n",
       "      <td>2016-01-15 00:00:00</td>\n",
       "      <td>6.486150</td>\n",
       "      <td>6.100378</td>\n",
       "      <td>2.284912</td>\n",
       "      <td>36.808594</td>\n",
       "      <td>523.546326</td>\n",
       "      <td>55.486599</td>\n",
       "      <td>11.986616</td>\n",
       "      <td>6.007990</td>\n",
       "      <td>999.706909</td>\n",
       "      <td>...</td>\n",
       "      <td>8.764648</td>\n",
       "      <td>42.192020</td>\n",
       "      <td>6.055403</td>\n",
       "      <td>9.889648</td>\n",
       "      <td>5.507324</td>\n",
       "      <td>70.541216</td>\n",
       "      <td>2.143149</td>\n",
       "      <td>10.411962</td>\n",
       "      <td>0.895447</td>\n",
       "      <td>16.904297</td>\n",
       "    </tr>\n",
       "    <tr>\n",
       "      <th>1</th>\n",
       "      <td>2016-01-15 01:00:00</td>\n",
       "      <td>6.478583</td>\n",
       "      <td>6.161113</td>\n",
       "      <td>2.266033</td>\n",
       "      <td>35.753385</td>\n",
       "      <td>525.290581</td>\n",
       "      <td>57.278666</td>\n",
       "      <td>11.971193</td>\n",
       "      <td>6.005766</td>\n",
       "      <td>1000.286398</td>\n",
       "      <td>...</td>\n",
       "      <td>9.001494</td>\n",
       "      <td>42.701629</td>\n",
       "      <td>6.029369</td>\n",
       "      <td>9.968944</td>\n",
       "      <td>5.257781</td>\n",
       "      <td>69.266198</td>\n",
       "      <td>2.224930</td>\n",
       "      <td>10.462676</td>\n",
       "      <td>0.927452</td>\n",
       "      <td>16.634514</td>\n",
       "    </tr>\n",
       "    <tr>\n",
       "      <th>2</th>\n",
       "      <td>2016-01-15 02:00:00</td>\n",
       "      <td>6.362222</td>\n",
       "      <td>6.116455</td>\n",
       "      <td>2.159622</td>\n",
       "      <td>35.971630</td>\n",
       "      <td>530.026610</td>\n",
       "      <td>57.510649</td>\n",
       "      <td>11.920603</td>\n",
       "      <td>6.197377</td>\n",
       "      <td>999.719565</td>\n",
       "      <td>...</td>\n",
       "      <td>8.842896</td>\n",
       "      <td>42.657501</td>\n",
       "      <td>6.055926</td>\n",
       "      <td>10.213995</td>\n",
       "      <td>5.383759</td>\n",
       "      <td>68.116445</td>\n",
       "      <td>2.257889</td>\n",
       "      <td>10.507046</td>\n",
       "      <td>0.953716</td>\n",
       "      <td>16.208849</td>\n",
       "    </tr>\n",
       "    <tr>\n",
       "      <th>3</th>\n",
       "      <td>2016-01-15 03:00:00</td>\n",
       "      <td>6.118189</td>\n",
       "      <td>6.043309</td>\n",
       "      <td>2.037807</td>\n",
       "      <td>36.862241</td>\n",
       "      <td>542.590390</td>\n",
       "      <td>57.792734</td>\n",
       "      <td>11.630094</td>\n",
       "      <td>6.203177</td>\n",
       "      <td>999.814770</td>\n",
       "      <td>...</td>\n",
       "      <td>9.122857</td>\n",
       "      <td>42.689819</td>\n",
       "      <td>6.047977</td>\n",
       "      <td>9.977019</td>\n",
       "      <td>4.858634</td>\n",
       "      <td>68.347543</td>\n",
       "      <td>2.146849</td>\n",
       "      <td>10.422762</td>\n",
       "      <td>0.883763</td>\n",
       "      <td>16.532835</td>\n",
       "    </tr>\n",
       "    <tr>\n",
       "      <th>4</th>\n",
       "      <td>2016-01-15 04:00:00</td>\n",
       "      <td>5.663707</td>\n",
       "      <td>6.060915</td>\n",
       "      <td>1.786875</td>\n",
       "      <td>34.347666</td>\n",
       "      <td>540.531893</td>\n",
       "      <td>56.047189</td>\n",
       "      <td>10.957755</td>\n",
       "      <td>6.198826</td>\n",
       "      <td>999.678690</td>\n",
       "      <td>...</td>\n",
       "      <td>8.871028</td>\n",
       "      <td>42.774141</td>\n",
       "      <td>6.148599</td>\n",
       "      <td>10.142511</td>\n",
       "      <td>4.939416</td>\n",
       "      <td>66.927016</td>\n",
       "      <td>2.055292</td>\n",
       "      <td>10.360302</td>\n",
       "      <td>0.792826</td>\n",
       "      <td>16.525686</td>\n",
       "    </tr>\n",
       "  </tbody>\n",
       "</table>\n",
       "<p>5 rows × 87 columns</p>\n",
       "</div>"
      ],
      "text/plain": [
       "                  date  rougher.input.feed_au  rougher.input.feed_ag  \\\n",
       "0  2016-01-15 00:00:00               6.486150               6.100378   \n",
       "1  2016-01-15 01:00:00               6.478583               6.161113   \n",
       "2  2016-01-15 02:00:00               6.362222               6.116455   \n",
       "3  2016-01-15 03:00:00               6.118189               6.043309   \n",
       "4  2016-01-15 04:00:00               5.663707               6.060915   \n",
       "\n",
       "   rougher.input.feed_pb  rougher.input.feed_sol  rougher.input.feed_rate  \\\n",
       "0               2.284912               36.808594               523.546326   \n",
       "1               2.266033               35.753385               525.290581   \n",
       "2               2.159622               35.971630               530.026610   \n",
       "3               2.037807               36.862241               542.590390   \n",
       "4               1.786875               34.347666               540.531893   \n",
       "\n",
       "   rougher.input.feed_size  rougher.input.floatbank10_sulfate  \\\n",
       "0                55.486599                          11.986616   \n",
       "1                57.278666                          11.971193   \n",
       "2                57.510649                          11.920603   \n",
       "3                57.792734                          11.630094   \n",
       "4                56.047189                          10.957755   \n",
       "\n",
       "   rougher.input.floatbank10_xanthate  rougher.state.floatbank10_a_air  ...  \\\n",
       "0                            6.007990                       999.706909  ...   \n",
       "1                            6.005766                      1000.286398  ...   \n",
       "2                            6.197377                       999.719565  ...   \n",
       "3                            6.203177                       999.814770  ...   \n",
       "4                            6.198826                       999.678690  ...   \n",
       "\n",
       "   secondary_cleaner.output.tail_sol  final.output.concentrate_au  \\\n",
       "0                           8.764648                    42.192020   \n",
       "1                           9.001494                    42.701629   \n",
       "2                           8.842896                    42.657501   \n",
       "3                           9.122857                    42.689819   \n",
       "4                           8.871028                    42.774141   \n",
       "\n",
       "   final.output.concentrate_ag  final.output.concentrate_pb  \\\n",
       "0                     6.055403                     9.889648   \n",
       "1                     6.029369                     9.968944   \n",
       "2                     6.055926                    10.213995   \n",
       "3                     6.047977                     9.977019   \n",
       "4                     6.148599                    10.142511   \n",
       "\n",
       "   final.output.concentrate_sol  final.output.recovery  final.output.tail_au  \\\n",
       "0                      5.507324              70.541216              2.143149   \n",
       "1                      5.257781              69.266198              2.224930   \n",
       "2                      5.383759              68.116445              2.257889   \n",
       "3                      4.858634              68.347543              2.146849   \n",
       "4                      4.939416              66.927016              2.055292   \n",
       "\n",
       "   final.output.tail_ag  final.output.tail_pb  final.output.tail_sol  \n",
       "0             10.411962              0.895447              16.904297  \n",
       "1             10.462676              0.927452              16.634514  \n",
       "2             10.507046              0.953716              16.208849  \n",
       "3             10.422762              0.883763              16.532835  \n",
       "4             10.360302              0.792826              16.525686  \n",
       "\n",
       "[5 rows x 87 columns]"
      ]
     },
     "execution_count": 4,
     "metadata": {},
     "output_type": "execute_result"
    }
   ],
   "source": [
    "data_train.head()"
   ]
  },
  {
   "cell_type": "code",
   "execution_count": 5,
   "metadata": {},
   "outputs": [
    {
     "name": "stdout",
     "output_type": "stream",
     "text": [
      "<class 'pandas.core.frame.DataFrame'>\n",
      "RangeIndex: 14579 entries, 0 to 14578\n",
      "Data columns (total 87 columns):\n",
      " #   Column                                              Non-Null Count  Dtype  \n",
      "---  ------                                              --------------  -----  \n",
      " 0   date                                                14579 non-null  object \n",
      " 1   rougher.input.feed_au                               14579 non-null  float64\n",
      " 2   rougher.input.feed_ag                               14579 non-null  float64\n",
      " 3   rougher.input.feed_pb                               14507 non-null  float64\n",
      " 4   rougher.input.feed_sol                              14502 non-null  float64\n",
      " 5   rougher.input.feed_rate                             14572 non-null  float64\n",
      " 6   rougher.input.feed_size                             14478 non-null  float64\n",
      " 7   rougher.input.floatbank10_sulfate                   14548 non-null  float64\n",
      " 8   rougher.input.floatbank10_xanthate                  14572 non-null  float64\n",
      " 9   rougher.state.floatbank10_a_air                     14579 non-null  float64\n",
      " 10  rougher.state.floatbank10_a_level                   14579 non-null  float64\n",
      " 11  rougher.state.floatbank10_b_air                     14579 non-null  float64\n",
      " 12  rougher.state.floatbank10_b_level                   14579 non-null  float64\n",
      " 13  rougher.state.floatbank10_c_air                     14579 non-null  float64\n",
      " 14  rougher.state.floatbank10_c_level                   14579 non-null  float64\n",
      " 15  rougher.state.floatbank10_d_air                     14579 non-null  float64\n",
      " 16  rougher.state.floatbank10_d_level                   14579 non-null  float64\n",
      " 17  rougher.state.floatbank10_e_air                     14150 non-null  float64\n",
      " 18  rougher.state.floatbank10_e_level                   14579 non-null  float64\n",
      " 19  rougher.state.floatbank10_f_air                     14579 non-null  float64\n",
      " 20  rougher.state.floatbank10_f_level                   14579 non-null  float64\n",
      " 21  rougher.input.floatbank11_sulfate                   14543 non-null  float64\n",
      " 22  rougher.input.floatbank11_xanthate                  14172 non-null  float64\n",
      " 23  rougher.calculation.sulfate_to_au_concentrate       14578 non-null  float64\n",
      " 24  rougher.calculation.floatbank10_sulfate_to_au_feed  14578 non-null  float64\n",
      " 25  rougher.calculation.floatbank11_sulfate_to_au_feed  14578 non-null  float64\n",
      " 26  rougher.calculation.au_pb_ratio                     14579 non-null  float64\n",
      " 27  rougher.output.concentrate_au                       14579 non-null  float64\n",
      " 28  rougher.output.concentrate_ag                       14579 non-null  float64\n",
      " 29  rougher.output.concentrate_pb                       14579 non-null  float64\n",
      " 30  rougher.output.concentrate_sol                      14561 non-null  float64\n",
      " 31  rougher.output.recovery                             14579 non-null  float64\n",
      " 32  rougher.output.tail_au                              14579 non-null  float64\n",
      " 33  rougher.output.tail_ag                              14578 non-null  float64\n",
      " 34  rougher.output.tail_pb                              14579 non-null  float64\n",
      " 35  rougher.output.tail_sol                             14579 non-null  float64\n",
      " 36  primary_cleaner.input.sulfate                       14556 non-null  float64\n",
      " 37  primary_cleaner.input.depressant                    14551 non-null  float64\n",
      " 38  primary_cleaner.input.feed_size                     14579 non-null  float64\n",
      " 39  primary_cleaner.input.xanthate                      14518 non-null  float64\n",
      " 40  primary_cleaner.state.floatbank8_a_air              14576 non-null  float64\n",
      " 41  primary_cleaner.state.floatbank8_a_level            14579 non-null  float64\n",
      " 42  primary_cleaner.state.floatbank8_b_air              14576 non-null  float64\n",
      " 43  primary_cleaner.state.floatbank8_b_level            14579 non-null  float64\n",
      " 44  primary_cleaner.state.floatbank8_c_air              14579 non-null  float64\n",
      " 45  primary_cleaner.state.floatbank8_c_level            14579 non-null  float64\n",
      " 46  primary_cleaner.state.floatbank8_d_air              14578 non-null  float64\n",
      " 47  primary_cleaner.state.floatbank8_d_level            14579 non-null  float64\n",
      " 48  primary_cleaner.output.concentrate_au               14579 non-null  float64\n",
      " 49  primary_cleaner.output.concentrate_ag               14579 non-null  float64\n",
      " 50  primary_cleaner.output.concentrate_pb               14491 non-null  float64\n",
      " 51  primary_cleaner.output.concentrate_sol              14314 non-null  float64\n",
      " 52  primary_cleaner.output.tail_au                      14579 non-null  float64\n",
      " 53  primary_cleaner.output.tail_ag                      14575 non-null  float64\n",
      " 54  primary_cleaner.output.tail_pb                      14573 non-null  float64\n",
      " 55  primary_cleaner.output.tail_sol                     14534 non-null  float64\n",
      " 56  secondary_cleaner.state.floatbank2_a_air            14485 non-null  float64\n",
      " 57  secondary_cleaner.state.floatbank2_a_level          14579 non-null  float64\n",
      " 58  secondary_cleaner.state.floatbank2_b_air            14557 non-null  float64\n",
      " 59  secondary_cleaner.state.floatbank2_b_level          14579 non-null  float64\n",
      " 60  secondary_cleaner.state.floatbank3_a_air            14567 non-null  float64\n",
      " 61  secondary_cleaner.state.floatbank3_a_level          14579 non-null  float64\n",
      " 62  secondary_cleaner.state.floatbank3_b_air            14579 non-null  float64\n",
      " 63  secondary_cleaner.state.floatbank3_b_level          14579 non-null  float64\n",
      " 64  secondary_cleaner.state.floatbank4_a_air            14574 non-null  float64\n",
      " 65  secondary_cleaner.state.floatbank4_a_level          14579 non-null  float64\n",
      " 66  secondary_cleaner.state.floatbank4_b_air            14579 non-null  float64\n",
      " 67  secondary_cleaner.state.floatbank4_b_level          14579 non-null  float64\n",
      " 68  secondary_cleaner.state.floatbank5_a_air            14579 non-null  float64\n",
      " 69  secondary_cleaner.state.floatbank5_a_level          14579 non-null  float64\n",
      " 70  secondary_cleaner.state.floatbank5_b_air            14579 non-null  float64\n",
      " 71  secondary_cleaner.state.floatbank5_b_level          14579 non-null  float64\n",
      " 72  secondary_cleaner.state.floatbank6_a_air            14578 non-null  float64\n",
      " 73  secondary_cleaner.state.floatbank6_a_level          14579 non-null  float64\n",
      " 74  secondary_cleaner.output.tail_au                    14579 non-null  float64\n",
      " 75  secondary_cleaner.output.tail_ag                    14578 non-null  float64\n",
      " 76  secondary_cleaner.output.tail_pb                    14575 non-null  float64\n",
      " 77  secondary_cleaner.output.tail_sol                   13659 non-null  float64\n",
      " 78  final.output.concentrate_au                         14579 non-null  float64\n",
      " 79  final.output.concentrate_ag                         14578 non-null  float64\n",
      " 80  final.output.concentrate_pb                         14578 non-null  float64\n",
      " 81  final.output.concentrate_sol                        14387 non-null  float64\n",
      " 82  final.output.recovery                               14579 non-null  float64\n",
      " 83  final.output.tail_au                                14579 non-null  float64\n",
      " 84  final.output.tail_ag                                14578 non-null  float64\n",
      " 85  final.output.tail_pb                                14504 non-null  float64\n",
      " 86  final.output.tail_sol                               14574 non-null  float64\n",
      "dtypes: float64(86), object(1)\n",
      "memory usage: 9.7+ MB\n"
     ]
    }
   ],
   "source": [
    "data_train.info()"
   ]
  },
  {
   "cell_type": "markdown",
   "metadata": {},
   "source": [
    "Тренировочный набор данных содержит в себе 87 столбцов, так же можно заметить, что в данном датафрейме содержатся пропуски, все признаки - численные"
   ]
  },
  {
   "cell_type": "code",
   "execution_count": 6,
   "metadata": {},
   "outputs": [],
   "source": [
    "data_test = pd.read_csv('/datasets/gold_industry_test.csv')"
   ]
  },
  {
   "cell_type": "code",
   "execution_count": 7,
   "metadata": {},
   "outputs": [
    {
     "data": {
      "text/html": [
       "<div>\n",
       "<style scoped>\n",
       "    .dataframe tbody tr th:only-of-type {\n",
       "        vertical-align: middle;\n",
       "    }\n",
       "\n",
       "    .dataframe tbody tr th {\n",
       "        vertical-align: top;\n",
       "    }\n",
       "\n",
       "    .dataframe thead th {\n",
       "        text-align: right;\n",
       "    }\n",
       "</style>\n",
       "<table border=\"1\" class=\"dataframe\">\n",
       "  <thead>\n",
       "    <tr style=\"text-align: right;\">\n",
       "      <th></th>\n",
       "      <th>date</th>\n",
       "      <th>rougher.input.feed_au</th>\n",
       "      <th>rougher.input.feed_ag</th>\n",
       "      <th>rougher.input.feed_pb</th>\n",
       "      <th>rougher.input.feed_sol</th>\n",
       "      <th>rougher.input.feed_rate</th>\n",
       "      <th>rougher.input.feed_size</th>\n",
       "      <th>rougher.input.floatbank10_sulfate</th>\n",
       "      <th>rougher.input.floatbank10_xanthate</th>\n",
       "      <th>rougher.state.floatbank10_a_air</th>\n",
       "      <th>...</th>\n",
       "      <th>secondary_cleaner.state.floatbank4_a_air</th>\n",
       "      <th>secondary_cleaner.state.floatbank4_a_level</th>\n",
       "      <th>secondary_cleaner.state.floatbank4_b_air</th>\n",
       "      <th>secondary_cleaner.state.floatbank4_b_level</th>\n",
       "      <th>secondary_cleaner.state.floatbank5_a_air</th>\n",
       "      <th>secondary_cleaner.state.floatbank5_a_level</th>\n",
       "      <th>secondary_cleaner.state.floatbank5_b_air</th>\n",
       "      <th>secondary_cleaner.state.floatbank5_b_level</th>\n",
       "      <th>secondary_cleaner.state.floatbank6_a_air</th>\n",
       "      <th>secondary_cleaner.state.floatbank6_a_level</th>\n",
       "    </tr>\n",
       "  </thead>\n",
       "  <tbody>\n",
       "    <tr>\n",
       "      <th>0</th>\n",
       "      <td>2017-12-09 14:59:59</td>\n",
       "      <td>4.365491</td>\n",
       "      <td>6.158718</td>\n",
       "      <td>3.875727</td>\n",
       "      <td>39.135119</td>\n",
       "      <td>555.820208</td>\n",
       "      <td>94.544358</td>\n",
       "      <td>6.146982</td>\n",
       "      <td>9.308612</td>\n",
       "      <td>1196.238112</td>\n",
       "      <td>...</td>\n",
       "      <td>23.018622</td>\n",
       "      <td>-500.492702</td>\n",
       "      <td>20.020205</td>\n",
       "      <td>-500.220296</td>\n",
       "      <td>17.963512</td>\n",
       "      <td>-499.939490</td>\n",
       "      <td>12.990306</td>\n",
       "      <td>-500.080993</td>\n",
       "      <td>19.990336</td>\n",
       "      <td>-499.191575</td>\n",
       "    </tr>\n",
       "    <tr>\n",
       "      <th>1</th>\n",
       "      <td>2017-12-09 15:59:59</td>\n",
       "      <td>4.362781</td>\n",
       "      <td>6.048130</td>\n",
       "      <td>3.902537</td>\n",
       "      <td>39.713906</td>\n",
       "      <td>544.731687</td>\n",
       "      <td>123.742430</td>\n",
       "      <td>6.210119</td>\n",
       "      <td>9.297709</td>\n",
       "      <td>1201.904177</td>\n",
       "      <td>...</td>\n",
       "      <td>23.024963</td>\n",
       "      <td>-501.153409</td>\n",
       "      <td>20.054122</td>\n",
       "      <td>-500.314711</td>\n",
       "      <td>17.979515</td>\n",
       "      <td>-499.272871</td>\n",
       "      <td>12.992404</td>\n",
       "      <td>-499.976268</td>\n",
       "      <td>20.013986</td>\n",
       "      <td>-500.625471</td>\n",
       "    </tr>\n",
       "    <tr>\n",
       "      <th>2</th>\n",
       "      <td>2017-12-09 16:59:59</td>\n",
       "      <td>5.081681</td>\n",
       "      <td>6.082745</td>\n",
       "      <td>4.564078</td>\n",
       "      <td>37.208683</td>\n",
       "      <td>558.155110</td>\n",
       "      <td>82.610855</td>\n",
       "      <td>7.363824</td>\n",
       "      <td>9.003562</td>\n",
       "      <td>1200.826926</td>\n",
       "      <td>...</td>\n",
       "      <td>22.993827</td>\n",
       "      <td>-501.559663</td>\n",
       "      <td>20.029144</td>\n",
       "      <td>-500.000662</td>\n",
       "      <td>18.012723</td>\n",
       "      <td>-500.024764</td>\n",
       "      <td>13.016445</td>\n",
       "      <td>-500.058432</td>\n",
       "      <td>19.973767</td>\n",
       "      <td>-501.394155</td>\n",
       "    </tr>\n",
       "    <tr>\n",
       "      <th>3</th>\n",
       "      <td>2017-12-09 17:59:59</td>\n",
       "      <td>5.145949</td>\n",
       "      <td>6.084374</td>\n",
       "      <td>4.768124</td>\n",
       "      <td>36.808874</td>\n",
       "      <td>539.713765</td>\n",
       "      <td>77.984784</td>\n",
       "      <td>6.927072</td>\n",
       "      <td>8.955597</td>\n",
       "      <td>1199.292489</td>\n",
       "      <td>...</td>\n",
       "      <td>23.032807</td>\n",
       "      <td>-501.287889</td>\n",
       "      <td>19.977466</td>\n",
       "      <td>-500.159903</td>\n",
       "      <td>17.980463</td>\n",
       "      <td>-500.504602</td>\n",
       "      <td>12.949071</td>\n",
       "      <td>-500.009937</td>\n",
       "      <td>20.010332</td>\n",
       "      <td>-508.337973</td>\n",
       "    </tr>\n",
       "    <tr>\n",
       "      <th>4</th>\n",
       "      <td>2017-12-09 18:59:59</td>\n",
       "      <td>5.735249</td>\n",
       "      <td>6.165220</td>\n",
       "      <td>4.512346</td>\n",
       "      <td>37.810642</td>\n",
       "      <td>558.713584</td>\n",
       "      <td>86.434874</td>\n",
       "      <td>7.823471</td>\n",
       "      <td>7.490356</td>\n",
       "      <td>1198.005449</td>\n",
       "      <td>...</td>\n",
       "      <td>23.001911</td>\n",
       "      <td>-499.947838</td>\n",
       "      <td>20.023735</td>\n",
       "      <td>-499.713680</td>\n",
       "      <td>17.990955</td>\n",
       "      <td>-500.334769</td>\n",
       "      <td>13.007523</td>\n",
       "      <td>-499.968459</td>\n",
       "      <td>19.995999</td>\n",
       "      <td>-499.788805</td>\n",
       "    </tr>\n",
       "  </tbody>\n",
       "</table>\n",
       "<p>5 rows × 53 columns</p>\n",
       "</div>"
      ],
      "text/plain": [
       "                  date  rougher.input.feed_au  rougher.input.feed_ag  \\\n",
       "0  2017-12-09 14:59:59               4.365491               6.158718   \n",
       "1  2017-12-09 15:59:59               4.362781               6.048130   \n",
       "2  2017-12-09 16:59:59               5.081681               6.082745   \n",
       "3  2017-12-09 17:59:59               5.145949               6.084374   \n",
       "4  2017-12-09 18:59:59               5.735249               6.165220   \n",
       "\n",
       "   rougher.input.feed_pb  rougher.input.feed_sol  rougher.input.feed_rate  \\\n",
       "0               3.875727               39.135119               555.820208   \n",
       "1               3.902537               39.713906               544.731687   \n",
       "2               4.564078               37.208683               558.155110   \n",
       "3               4.768124               36.808874               539.713765   \n",
       "4               4.512346               37.810642               558.713584   \n",
       "\n",
       "   rougher.input.feed_size  rougher.input.floatbank10_sulfate  \\\n",
       "0                94.544358                           6.146982   \n",
       "1               123.742430                           6.210119   \n",
       "2                82.610855                           7.363824   \n",
       "3                77.984784                           6.927072   \n",
       "4                86.434874                           7.823471   \n",
       "\n",
       "   rougher.input.floatbank10_xanthate  rougher.state.floatbank10_a_air  ...  \\\n",
       "0                            9.308612                      1196.238112  ...   \n",
       "1                            9.297709                      1201.904177  ...   \n",
       "2                            9.003562                      1200.826926  ...   \n",
       "3                            8.955597                      1199.292489  ...   \n",
       "4                            7.490356                      1198.005449  ...   \n",
       "\n",
       "   secondary_cleaner.state.floatbank4_a_air  \\\n",
       "0                                 23.018622   \n",
       "1                                 23.024963   \n",
       "2                                 22.993827   \n",
       "3                                 23.032807   \n",
       "4                                 23.001911   \n",
       "\n",
       "   secondary_cleaner.state.floatbank4_a_level  \\\n",
       "0                                 -500.492702   \n",
       "1                                 -501.153409   \n",
       "2                                 -501.559663   \n",
       "3                                 -501.287889   \n",
       "4                                 -499.947838   \n",
       "\n",
       "   secondary_cleaner.state.floatbank4_b_air  \\\n",
       "0                                 20.020205   \n",
       "1                                 20.054122   \n",
       "2                                 20.029144   \n",
       "3                                 19.977466   \n",
       "4                                 20.023735   \n",
       "\n",
       "   secondary_cleaner.state.floatbank4_b_level  \\\n",
       "0                                 -500.220296   \n",
       "1                                 -500.314711   \n",
       "2                                 -500.000662   \n",
       "3                                 -500.159903   \n",
       "4                                 -499.713680   \n",
       "\n",
       "   secondary_cleaner.state.floatbank5_a_air  \\\n",
       "0                                 17.963512   \n",
       "1                                 17.979515   \n",
       "2                                 18.012723   \n",
       "3                                 17.980463   \n",
       "4                                 17.990955   \n",
       "\n",
       "   secondary_cleaner.state.floatbank5_a_level  \\\n",
       "0                                 -499.939490   \n",
       "1                                 -499.272871   \n",
       "2                                 -500.024764   \n",
       "3                                 -500.504602   \n",
       "4                                 -500.334769   \n",
       "\n",
       "   secondary_cleaner.state.floatbank5_b_air  \\\n",
       "0                                 12.990306   \n",
       "1                                 12.992404   \n",
       "2                                 13.016445   \n",
       "3                                 12.949071   \n",
       "4                                 13.007523   \n",
       "\n",
       "   secondary_cleaner.state.floatbank5_b_level  \\\n",
       "0                                 -500.080993   \n",
       "1                                 -499.976268   \n",
       "2                                 -500.058432   \n",
       "3                                 -500.009937   \n",
       "4                                 -499.968459   \n",
       "\n",
       "   secondary_cleaner.state.floatbank6_a_air  \\\n",
       "0                                 19.990336   \n",
       "1                                 20.013986   \n",
       "2                                 19.973767   \n",
       "3                                 20.010332   \n",
       "4                                 19.995999   \n",
       "\n",
       "   secondary_cleaner.state.floatbank6_a_level  \n",
       "0                                 -499.191575  \n",
       "1                                 -500.625471  \n",
       "2                                 -501.394155  \n",
       "3                                 -508.337973  \n",
       "4                                 -499.788805  \n",
       "\n",
       "[5 rows x 53 columns]"
      ]
     },
     "execution_count": 7,
     "metadata": {},
     "output_type": "execute_result"
    }
   ],
   "source": [
    "data_test.head()"
   ]
  },
  {
   "cell_type": "code",
   "execution_count": 8,
   "metadata": {},
   "outputs": [
    {
     "name": "stdout",
     "output_type": "stream",
     "text": [
      "<class 'pandas.core.frame.DataFrame'>\n",
      "RangeIndex: 4860 entries, 0 to 4859\n",
      "Data columns (total 53 columns):\n",
      " #   Column                                      Non-Null Count  Dtype  \n",
      "---  ------                                      --------------  -----  \n",
      " 0   date                                        4860 non-null   object \n",
      " 1   rougher.input.feed_au                       4860 non-null   float64\n",
      " 2   rougher.input.feed_ag                       4860 non-null   float64\n",
      " 3   rougher.input.feed_pb                       4832 non-null   float64\n",
      " 4   rougher.input.feed_sol                      4838 non-null   float64\n",
      " 5   rougher.input.feed_rate                     4856 non-null   float64\n",
      " 6   rougher.input.feed_size                     4816 non-null   float64\n",
      " 7   rougher.input.floatbank10_sulfate           4857 non-null   float64\n",
      " 8   rougher.input.floatbank10_xanthate          4859 non-null   float64\n",
      " 9   rougher.state.floatbank10_a_air             4859 non-null   float64\n",
      " 10  rougher.state.floatbank10_a_level           4859 non-null   float64\n",
      " 11  rougher.state.floatbank10_b_air             4859 non-null   float64\n",
      " 12  rougher.state.floatbank10_b_level           4859 non-null   float64\n",
      " 13  rougher.state.floatbank10_c_air             4859 non-null   float64\n",
      " 14  rougher.state.floatbank10_c_level           4859 non-null   float64\n",
      " 15  rougher.state.floatbank10_d_air             4860 non-null   float64\n",
      " 16  rougher.state.floatbank10_d_level           4860 non-null   float64\n",
      " 17  rougher.state.floatbank10_e_air             4853 non-null   float64\n",
      " 18  rougher.state.floatbank10_e_level           4860 non-null   float64\n",
      " 19  rougher.state.floatbank10_f_air             4860 non-null   float64\n",
      " 20  rougher.state.floatbank10_f_level           4860 non-null   float64\n",
      " 21  rougher.input.floatbank11_sulfate           4852 non-null   float64\n",
      " 22  rougher.input.floatbank11_xanthate          4814 non-null   float64\n",
      " 23  primary_cleaner.input.sulfate               4859 non-null   float64\n",
      " 24  primary_cleaner.input.depressant            4851 non-null   float64\n",
      " 25  primary_cleaner.input.feed_size             4860 non-null   float64\n",
      " 26  primary_cleaner.input.xanthate              4817 non-null   float64\n",
      " 27  primary_cleaner.state.floatbank8_a_air      4859 non-null   float64\n",
      " 28  primary_cleaner.state.floatbank8_a_level    4859 non-null   float64\n",
      " 29  primary_cleaner.state.floatbank8_b_air      4859 non-null   float64\n",
      " 30  primary_cleaner.state.floatbank8_b_level    4859 non-null   float64\n",
      " 31  primary_cleaner.state.floatbank8_c_air      4858 non-null   float64\n",
      " 32  primary_cleaner.state.floatbank8_c_level    4859 non-null   float64\n",
      " 33  primary_cleaner.state.floatbank8_d_air      4858 non-null   float64\n",
      " 34  primary_cleaner.state.floatbank8_d_level    4859 non-null   float64\n",
      " 35  secondary_cleaner.state.floatbank2_a_air    4734 non-null   float64\n",
      " 36  secondary_cleaner.state.floatbank2_a_level  4859 non-null   float64\n",
      " 37  secondary_cleaner.state.floatbank2_b_air    4859 non-null   float64\n",
      " 38  secondary_cleaner.state.floatbank2_b_level  4859 non-null   float64\n",
      " 39  secondary_cleaner.state.floatbank3_a_air    4859 non-null   float64\n",
      " 40  secondary_cleaner.state.floatbank3_a_level  4859 non-null   float64\n",
      " 41  secondary_cleaner.state.floatbank3_b_air    4859 non-null   float64\n",
      " 42  secondary_cleaner.state.floatbank3_b_level  4859 non-null   float64\n",
      " 43  secondary_cleaner.state.floatbank4_a_air    4859 non-null   float64\n",
      " 44  secondary_cleaner.state.floatbank4_a_level  4859 non-null   float64\n",
      " 45  secondary_cleaner.state.floatbank4_b_air    4859 non-null   float64\n",
      " 46  secondary_cleaner.state.floatbank4_b_level  4859 non-null   float64\n",
      " 47  secondary_cleaner.state.floatbank5_a_air    4859 non-null   float64\n",
      " 48  secondary_cleaner.state.floatbank5_a_level  4859 non-null   float64\n",
      " 49  secondary_cleaner.state.floatbank5_b_air    4859 non-null   float64\n",
      " 50  secondary_cleaner.state.floatbank5_b_level  4859 non-null   float64\n",
      " 51  secondary_cleaner.state.floatbank6_a_air    4859 non-null   float64\n",
      " 52  secondary_cleaner.state.floatbank6_a_level  4859 non-null   float64\n",
      "dtypes: float64(52), object(1)\n",
      "memory usage: 2.0+ MB\n"
     ]
    }
   ],
   "source": [
    "data_test.info()"
   ]
  },
  {
   "cell_type": "markdown",
   "metadata": {},
   "source": [
    "Тестовый набор данных содержит в себе 53 столбцов, в данном датафрейме также содержатся пропуски и все признаки - численные"
   ]
  },
  {
   "cell_type": "code",
   "execution_count": 9,
   "metadata": {},
   "outputs": [],
   "source": [
    "data_full = pd.read_csv('/datasets/gold_industry_full.csv')"
   ]
  },
  {
   "cell_type": "code",
   "execution_count": 10,
   "metadata": {},
   "outputs": [
    {
     "data": {
      "text/html": [
       "<div>\n",
       "<style scoped>\n",
       "    .dataframe tbody tr th:only-of-type {\n",
       "        vertical-align: middle;\n",
       "    }\n",
       "\n",
       "    .dataframe tbody tr th {\n",
       "        vertical-align: top;\n",
       "    }\n",
       "\n",
       "    .dataframe thead th {\n",
       "        text-align: right;\n",
       "    }\n",
       "</style>\n",
       "<table border=\"1\" class=\"dataframe\">\n",
       "  <thead>\n",
       "    <tr style=\"text-align: right;\">\n",
       "      <th></th>\n",
       "      <th>date</th>\n",
       "      <th>rougher.input.feed_au</th>\n",
       "      <th>rougher.input.feed_ag</th>\n",
       "      <th>rougher.input.feed_pb</th>\n",
       "      <th>rougher.input.feed_sol</th>\n",
       "      <th>rougher.input.feed_rate</th>\n",
       "      <th>rougher.input.feed_size</th>\n",
       "      <th>rougher.input.floatbank10_sulfate</th>\n",
       "      <th>rougher.input.floatbank10_xanthate</th>\n",
       "      <th>rougher.state.floatbank10_a_air</th>\n",
       "      <th>...</th>\n",
       "      <th>secondary_cleaner.output.tail_sol</th>\n",
       "      <th>final.output.concentrate_au</th>\n",
       "      <th>final.output.concentrate_ag</th>\n",
       "      <th>final.output.concentrate_pb</th>\n",
       "      <th>final.output.concentrate_sol</th>\n",
       "      <th>final.output.recovery</th>\n",
       "      <th>final.output.tail_au</th>\n",
       "      <th>final.output.tail_ag</th>\n",
       "      <th>final.output.tail_pb</th>\n",
       "      <th>final.output.tail_sol</th>\n",
       "    </tr>\n",
       "  </thead>\n",
       "  <tbody>\n",
       "    <tr>\n",
       "      <th>0</th>\n",
       "      <td>2016-01-15 00:00:00</td>\n",
       "      <td>6.486150</td>\n",
       "      <td>6.100378</td>\n",
       "      <td>2.284912</td>\n",
       "      <td>36.808594</td>\n",
       "      <td>523.546326</td>\n",
       "      <td>55.486599</td>\n",
       "      <td>11.986616</td>\n",
       "      <td>6.007990</td>\n",
       "      <td>999.706909</td>\n",
       "      <td>...</td>\n",
       "      <td>8.764648</td>\n",
       "      <td>42.192020</td>\n",
       "      <td>6.055403</td>\n",
       "      <td>9.889648</td>\n",
       "      <td>5.507324</td>\n",
       "      <td>70.541216</td>\n",
       "      <td>2.143149</td>\n",
       "      <td>10.411962</td>\n",
       "      <td>0.895447</td>\n",
       "      <td>16.904297</td>\n",
       "    </tr>\n",
       "    <tr>\n",
       "      <th>1</th>\n",
       "      <td>2016-01-15 01:00:00</td>\n",
       "      <td>6.478583</td>\n",
       "      <td>6.161113</td>\n",
       "      <td>2.266033</td>\n",
       "      <td>35.753385</td>\n",
       "      <td>525.290581</td>\n",
       "      <td>57.278666</td>\n",
       "      <td>11.971193</td>\n",
       "      <td>6.005766</td>\n",
       "      <td>1000.286398</td>\n",
       "      <td>...</td>\n",
       "      <td>9.001494</td>\n",
       "      <td>42.701629</td>\n",
       "      <td>6.029369</td>\n",
       "      <td>9.968944</td>\n",
       "      <td>5.257781</td>\n",
       "      <td>69.266198</td>\n",
       "      <td>2.224930</td>\n",
       "      <td>10.462676</td>\n",
       "      <td>0.927452</td>\n",
       "      <td>16.634514</td>\n",
       "    </tr>\n",
       "    <tr>\n",
       "      <th>2</th>\n",
       "      <td>2016-01-15 02:00:00</td>\n",
       "      <td>6.362222</td>\n",
       "      <td>6.116455</td>\n",
       "      <td>2.159622</td>\n",
       "      <td>35.971630</td>\n",
       "      <td>530.026610</td>\n",
       "      <td>57.510649</td>\n",
       "      <td>11.920603</td>\n",
       "      <td>6.197377</td>\n",
       "      <td>999.719565</td>\n",
       "      <td>...</td>\n",
       "      <td>8.842896</td>\n",
       "      <td>42.657501</td>\n",
       "      <td>6.055926</td>\n",
       "      <td>10.213995</td>\n",
       "      <td>5.383759</td>\n",
       "      <td>68.116445</td>\n",
       "      <td>2.257889</td>\n",
       "      <td>10.507046</td>\n",
       "      <td>0.953716</td>\n",
       "      <td>16.208849</td>\n",
       "    </tr>\n",
       "    <tr>\n",
       "      <th>3</th>\n",
       "      <td>2016-01-15 03:00:00</td>\n",
       "      <td>6.118189</td>\n",
       "      <td>6.043309</td>\n",
       "      <td>2.037807</td>\n",
       "      <td>36.862241</td>\n",
       "      <td>542.590390</td>\n",
       "      <td>57.792734</td>\n",
       "      <td>11.630094</td>\n",
       "      <td>6.203177</td>\n",
       "      <td>999.814770</td>\n",
       "      <td>...</td>\n",
       "      <td>9.122857</td>\n",
       "      <td>42.689819</td>\n",
       "      <td>6.047977</td>\n",
       "      <td>9.977019</td>\n",
       "      <td>4.858634</td>\n",
       "      <td>68.347543</td>\n",
       "      <td>2.146849</td>\n",
       "      <td>10.422762</td>\n",
       "      <td>0.883763</td>\n",
       "      <td>16.532835</td>\n",
       "    </tr>\n",
       "    <tr>\n",
       "      <th>4</th>\n",
       "      <td>2016-01-15 04:00:00</td>\n",
       "      <td>5.663707</td>\n",
       "      <td>6.060915</td>\n",
       "      <td>1.786875</td>\n",
       "      <td>34.347666</td>\n",
       "      <td>540.531893</td>\n",
       "      <td>56.047189</td>\n",
       "      <td>10.957755</td>\n",
       "      <td>6.198826</td>\n",
       "      <td>999.678690</td>\n",
       "      <td>...</td>\n",
       "      <td>8.871028</td>\n",
       "      <td>42.774141</td>\n",
       "      <td>6.148599</td>\n",
       "      <td>10.142511</td>\n",
       "      <td>4.939416</td>\n",
       "      <td>66.927016</td>\n",
       "      <td>2.055292</td>\n",
       "      <td>10.360302</td>\n",
       "      <td>0.792826</td>\n",
       "      <td>16.525686</td>\n",
       "    </tr>\n",
       "  </tbody>\n",
       "</table>\n",
       "<p>5 rows × 87 columns</p>\n",
       "</div>"
      ],
      "text/plain": [
       "                  date  rougher.input.feed_au  rougher.input.feed_ag  \\\n",
       "0  2016-01-15 00:00:00               6.486150               6.100378   \n",
       "1  2016-01-15 01:00:00               6.478583               6.161113   \n",
       "2  2016-01-15 02:00:00               6.362222               6.116455   \n",
       "3  2016-01-15 03:00:00               6.118189               6.043309   \n",
       "4  2016-01-15 04:00:00               5.663707               6.060915   \n",
       "\n",
       "   rougher.input.feed_pb  rougher.input.feed_sol  rougher.input.feed_rate  \\\n",
       "0               2.284912               36.808594               523.546326   \n",
       "1               2.266033               35.753385               525.290581   \n",
       "2               2.159622               35.971630               530.026610   \n",
       "3               2.037807               36.862241               542.590390   \n",
       "4               1.786875               34.347666               540.531893   \n",
       "\n",
       "   rougher.input.feed_size  rougher.input.floatbank10_sulfate  \\\n",
       "0                55.486599                          11.986616   \n",
       "1                57.278666                          11.971193   \n",
       "2                57.510649                          11.920603   \n",
       "3                57.792734                          11.630094   \n",
       "4                56.047189                          10.957755   \n",
       "\n",
       "   rougher.input.floatbank10_xanthate  rougher.state.floatbank10_a_air  ...  \\\n",
       "0                            6.007990                       999.706909  ...   \n",
       "1                            6.005766                      1000.286398  ...   \n",
       "2                            6.197377                       999.719565  ...   \n",
       "3                            6.203177                       999.814770  ...   \n",
       "4                            6.198826                       999.678690  ...   \n",
       "\n",
       "   secondary_cleaner.output.tail_sol  final.output.concentrate_au  \\\n",
       "0                           8.764648                    42.192020   \n",
       "1                           9.001494                    42.701629   \n",
       "2                           8.842896                    42.657501   \n",
       "3                           9.122857                    42.689819   \n",
       "4                           8.871028                    42.774141   \n",
       "\n",
       "   final.output.concentrate_ag  final.output.concentrate_pb  \\\n",
       "0                     6.055403                     9.889648   \n",
       "1                     6.029369                     9.968944   \n",
       "2                     6.055926                    10.213995   \n",
       "3                     6.047977                     9.977019   \n",
       "4                     6.148599                    10.142511   \n",
       "\n",
       "   final.output.concentrate_sol  final.output.recovery  final.output.tail_au  \\\n",
       "0                      5.507324              70.541216              2.143149   \n",
       "1                      5.257781              69.266198              2.224930   \n",
       "2                      5.383759              68.116445              2.257889   \n",
       "3                      4.858634              68.347543              2.146849   \n",
       "4                      4.939416              66.927016              2.055292   \n",
       "\n",
       "   final.output.tail_ag  final.output.tail_pb  final.output.tail_sol  \n",
       "0             10.411962              0.895447              16.904297  \n",
       "1             10.462676              0.927452              16.634514  \n",
       "2             10.507046              0.953716              16.208849  \n",
       "3             10.422762              0.883763              16.532835  \n",
       "4             10.360302              0.792826              16.525686  \n",
       "\n",
       "[5 rows x 87 columns]"
      ]
     },
     "execution_count": 10,
     "metadata": {},
     "output_type": "execute_result"
    }
   ],
   "source": [
    "data_full.head()"
   ]
  },
  {
   "cell_type": "code",
   "execution_count": 11,
   "metadata": {},
   "outputs": [
    {
     "name": "stdout",
     "output_type": "stream",
     "text": [
      "<class 'pandas.core.frame.DataFrame'>\n",
      "RangeIndex: 19439 entries, 0 to 19438\n",
      "Data columns (total 87 columns):\n",
      " #   Column                                              Non-Null Count  Dtype  \n",
      "---  ------                                              --------------  -----  \n",
      " 0   date                                                19439 non-null  object \n",
      " 1   rougher.input.feed_au                               19439 non-null  float64\n",
      " 2   rougher.input.feed_ag                               19439 non-null  float64\n",
      " 3   rougher.input.feed_pb                               19339 non-null  float64\n",
      " 4   rougher.input.feed_sol                              19340 non-null  float64\n",
      " 5   rougher.input.feed_rate                             19428 non-null  float64\n",
      " 6   rougher.input.feed_size                             19294 non-null  float64\n",
      " 7   rougher.input.floatbank10_sulfate                   19405 non-null  float64\n",
      " 8   rougher.input.floatbank10_xanthate                  19431 non-null  float64\n",
      " 9   rougher.state.floatbank10_a_air                     19438 non-null  float64\n",
      " 10  rougher.state.floatbank10_a_level                   19438 non-null  float64\n",
      " 11  rougher.state.floatbank10_b_air                     19438 non-null  float64\n",
      " 12  rougher.state.floatbank10_b_level                   19438 non-null  float64\n",
      " 13  rougher.state.floatbank10_c_air                     19438 non-null  float64\n",
      " 14  rougher.state.floatbank10_c_level                   19438 non-null  float64\n",
      " 15  rougher.state.floatbank10_d_air                     19439 non-null  float64\n",
      " 16  rougher.state.floatbank10_d_level                   19439 non-null  float64\n",
      " 17  rougher.state.floatbank10_e_air                     19003 non-null  float64\n",
      " 18  rougher.state.floatbank10_e_level                   19439 non-null  float64\n",
      " 19  rougher.state.floatbank10_f_air                     19439 non-null  float64\n",
      " 20  rougher.state.floatbank10_f_level                   19439 non-null  float64\n",
      " 21  rougher.input.floatbank11_sulfate                   19395 non-null  float64\n",
      " 22  rougher.input.floatbank11_xanthate                  18986 non-null  float64\n",
      " 23  rougher.calculation.sulfate_to_au_concentrate       19437 non-null  float64\n",
      " 24  rougher.calculation.floatbank10_sulfate_to_au_feed  19437 non-null  float64\n",
      " 25  rougher.calculation.floatbank11_sulfate_to_au_feed  19437 non-null  float64\n",
      " 26  rougher.calculation.au_pb_ratio                     19439 non-null  float64\n",
      " 27  rougher.output.concentrate_au                       19439 non-null  float64\n",
      " 28  rougher.output.concentrate_ag                       19439 non-null  float64\n",
      " 29  rougher.output.concentrate_pb                       19439 non-null  float64\n",
      " 30  rougher.output.concentrate_sol                      19416 non-null  float64\n",
      " 31  rougher.output.recovery                             19439 non-null  float64\n",
      " 32  rougher.output.tail_au                              19439 non-null  float64\n",
      " 33  rougher.output.tail_ag                              19438 non-null  float64\n",
      " 34  rougher.output.tail_pb                              19439 non-null  float64\n",
      " 35  rougher.output.tail_sol                             19439 non-null  float64\n",
      " 36  primary_cleaner.input.sulfate                       19415 non-null  float64\n",
      " 37  primary_cleaner.input.depressant                    19402 non-null  float64\n",
      " 38  primary_cleaner.input.feed_size                     19439 non-null  float64\n",
      " 39  primary_cleaner.input.xanthate                      19335 non-null  float64\n",
      " 40  primary_cleaner.state.floatbank8_a_air              19435 non-null  float64\n",
      " 41  primary_cleaner.state.floatbank8_a_level            19438 non-null  float64\n",
      " 42  primary_cleaner.state.floatbank8_b_air              19435 non-null  float64\n",
      " 43  primary_cleaner.state.floatbank8_b_level            19438 non-null  float64\n",
      " 44  primary_cleaner.state.floatbank8_c_air              19437 non-null  float64\n",
      " 45  primary_cleaner.state.floatbank8_c_level            19438 non-null  float64\n",
      " 46  primary_cleaner.state.floatbank8_d_air              19436 non-null  float64\n",
      " 47  primary_cleaner.state.floatbank8_d_level            19438 non-null  float64\n",
      " 48  primary_cleaner.output.concentrate_au               19439 non-null  float64\n",
      " 49  primary_cleaner.output.concentrate_ag               19439 non-null  float64\n",
      " 50  primary_cleaner.output.concentrate_pb               19323 non-null  float64\n",
      " 51  primary_cleaner.output.concentrate_sol              19069 non-null  float64\n",
      " 52  primary_cleaner.output.tail_au                      19439 non-null  float64\n",
      " 53  primary_cleaner.output.tail_ag                      19435 non-null  float64\n",
      " 54  primary_cleaner.output.tail_pb                      19418 non-null  float64\n",
      " 55  primary_cleaner.output.tail_sol                     19377 non-null  float64\n",
      " 56  secondary_cleaner.state.floatbank2_a_air            19219 non-null  float64\n",
      " 57  secondary_cleaner.state.floatbank2_a_level          19438 non-null  float64\n",
      " 58  secondary_cleaner.state.floatbank2_b_air            19416 non-null  float64\n",
      " 59  secondary_cleaner.state.floatbank2_b_level          19438 non-null  float64\n",
      " 60  secondary_cleaner.state.floatbank3_a_air            19426 non-null  float64\n",
      " 61  secondary_cleaner.state.floatbank3_a_level          19438 non-null  float64\n",
      " 62  secondary_cleaner.state.floatbank3_b_air            19438 non-null  float64\n",
      " 63  secondary_cleaner.state.floatbank3_b_level          19438 non-null  float64\n",
      " 64  secondary_cleaner.state.floatbank4_a_air            19433 non-null  float64\n",
      " 65  secondary_cleaner.state.floatbank4_a_level          19438 non-null  float64\n",
      " 66  secondary_cleaner.state.floatbank4_b_air            19438 non-null  float64\n",
      " 67  secondary_cleaner.state.floatbank4_b_level          19438 non-null  float64\n",
      " 68  secondary_cleaner.state.floatbank5_a_air            19438 non-null  float64\n",
      " 69  secondary_cleaner.state.floatbank5_a_level          19438 non-null  float64\n",
      " 70  secondary_cleaner.state.floatbank5_b_air            19438 non-null  float64\n",
      " 71  secondary_cleaner.state.floatbank5_b_level          19438 non-null  float64\n",
      " 72  secondary_cleaner.state.floatbank6_a_air            19437 non-null  float64\n",
      " 73  secondary_cleaner.state.floatbank6_a_level          19438 non-null  float64\n",
      " 74  secondary_cleaner.output.tail_au                    19439 non-null  float64\n",
      " 75  secondary_cleaner.output.tail_ag                    19437 non-null  float64\n",
      " 76  secondary_cleaner.output.tail_pb                    19427 non-null  float64\n",
      " 77  secondary_cleaner.output.tail_sol                   17691 non-null  float64\n",
      " 78  final.output.concentrate_au                         19439 non-null  float64\n",
      " 79  final.output.concentrate_ag                         19438 non-null  float64\n",
      " 80  final.output.concentrate_pb                         19438 non-null  float64\n",
      " 81  final.output.concentrate_sol                        19228 non-null  float64\n",
      " 82  final.output.recovery                               19439 non-null  float64\n",
      " 83  final.output.tail_au                                19439 non-null  float64\n",
      " 84  final.output.tail_ag                                19438 non-null  float64\n",
      " 85  final.output.tail_pb                                19338 non-null  float64\n",
      " 86  final.output.tail_sol                               19433 non-null  float64\n",
      "dtypes: float64(86), object(1)\n",
      "memory usage: 12.9+ MB\n"
     ]
    }
   ],
   "source": [
    "data_full.info()"
   ]
  },
  {
   "cell_type": "markdown",
   "metadata": {},
   "source": [
    "Полный набор данных состоит из 87 колонок и, аналогично, содержит пропуси и только численные признаки"
   ]
  },
  {
   "cell_type": "markdown",
   "metadata": {},
   "source": [
    "Проверим, что эффективность обогащения рассчитана правильно. Вычислите её на обучающей выборке для признака rougher.output.recovery. Найдите MAE между вашими расчётами и значением признака. Опишите выводы."
   ]
  },
  {
   "cell_type": "code",
   "execution_count": 12,
   "metadata": {},
   "outputs": [
    {
     "name": "stdout",
     "output_type": "stream",
     "text": [
      "9.83758577644259e-15\n"
     ]
    }
   ],
   "source": [
    "c = data_train['rougher.output.concentrate_au'] \n",
    "f = data_train['rougher.input.feed_au']\n",
    "t = data_train['rougher.output.tail_au']\n",
    "recovery_train = (c * (f - t)) / (f * (c - t)) * 100\n",
    "print(mean_absolute_error(data_train['rougher.output.recovery'], recovery_train))"
   ]
  },
  {
   "cell_type": "markdown",
   "metadata": {},
   "source": [
    "Значение средней абсолютной ошибкой между расчитанной эффективность обогащения и её реальным значением стремится к нулю. Тогда, данная эффективность расчитана верно. "
   ]
  },
  {
   "cell_type": "markdown",
   "metadata": {},
   "source": [
    "Проанализируем признаки, недоступные в тестовой выборке"
   ]
  },
  {
   "cell_type": "code",
   "execution_count": 13,
   "metadata": {},
   "outputs": [
    {
     "name": "stdout",
     "output_type": "stream",
     "text": [
      "{'secondary_cleaner.output.tail_pb', 'rougher.output.tail_au', 'secondary_cleaner.output.tail_au', 'rougher.output.concentrate_sol', 'final.output.tail_ag', 'final.output.tail_sol', 'rougher.calculation.floatbank11_sulfate_to_au_feed', 'rougher.output.recovery', 'secondary_cleaner.output.tail_ag', 'primary_cleaner.output.concentrate_ag', 'final.output.concentrate_au', 'final.output.concentrate_ag', 'primary_cleaner.output.tail_au', 'rougher.output.tail_ag', 'final.output.tail_pb', 'rougher.output.tail_pb', 'final.output.concentrate_pb', 'rougher.calculation.sulfate_to_au_concentrate', 'rougher.calculation.au_pb_ratio', 'final.output.concentrate_sol', 'rougher.output.concentrate_ag', 'secondary_cleaner.output.tail_sol', 'rougher.calculation.floatbank10_sulfate_to_au_feed', 'primary_cleaner.output.tail_pb', 'primary_cleaner.output.tail_sol', 'final.output.tail_au', 'rougher.output.concentrate_pb', 'primary_cleaner.output.concentrate_sol', 'final.output.recovery', 'rougher.output.tail_sol', 'primary_cleaner.output.concentrate_pb', 'primary_cleaner.output.tail_ag', 'rougher.output.concentrate_au', 'primary_cleaner.output.concentrate_au'}\n"
     ]
    }
   ],
   "source": [
    "difference = set(data_train.columns) - set(data_test.columns)\n",
    "print(difference)"
   ]
  },
  {
   "cell_type": "markdown",
   "metadata": {},
   "source": [
    "Можно заметить, что в тестовом датафрейме отсутсвуют доли элементов в черновом и финальном концентратах, содержание золота в концентрате, соотношения золота и свинца. Добавим их к тестовому набору данных целевые признаки"
   ]
  },
  {
   "cell_type": "code",
   "execution_count": 14,
   "metadata": {},
   "outputs": [],
   "source": [
    "data_target = data_full[['date', 'rougher.output.recovery', 'final.output.recovery']]"
   ]
  },
  {
   "cell_type": "code",
   "execution_count": 15,
   "metadata": {},
   "outputs": [],
   "source": [
    "data_test = data_test.merge(data_target, how='left', on='date')"
   ]
  },
  {
   "cell_type": "code",
   "execution_count": 16,
   "metadata": {},
   "outputs": [],
   "source": [
    "difference_final = set(data_train.columns) - set(data_test.columns)"
   ]
  },
  {
   "cell_type": "markdown",
   "metadata": {},
   "source": [
    "<h3>Проведем предобработку данных</h3>"
   ]
  },
  {
   "cell_type": "markdown",
   "metadata": {},
   "source": [
    "Посмотрим на количество пропусках в датафреймах"
   ]
  },
  {
   "cell_type": "code",
   "execution_count": 17,
   "metadata": {
    "scrolled": true
   },
   "outputs": [
    {
     "data": {
      "text/html": [
       "<style  type=\"text/css\" >\n",
       "#T_5bed3_row0_col0{\n",
       "            background-color:  #b40426;\n",
       "            color:  #f1f1f1;\n",
       "        }#T_5bed3_row1_col0{\n",
       "            background-color:  #8fb1fe;\n",
       "            color:  #000000;\n",
       "        }#T_5bed3_row2_col0{\n",
       "            background-color:  #8badfd;\n",
       "            color:  #000000;\n",
       "        }#T_5bed3_row3_col0{\n",
       "            background-color:  #80a3fa;\n",
       "            color:  #000000;\n",
       "        }#T_5bed3_row4_col0,#T_5bed3_row5_col0{\n",
       "            background-color:  #6180e9;\n",
       "            color:  #000000;\n",
       "        }#T_5bed3_row6_col0{\n",
       "            background-color:  #516ddb;\n",
       "            color:  #000000;\n",
       "        }#T_5bed3_row7_col0{\n",
       "            background-color:  #4f69d9;\n",
       "            color:  #000000;\n",
       "        }#T_5bed3_row8_col0,#T_5bed3_row9_col0,#T_5bed3_row10_col0,#T_5bed3_row11_col0{\n",
       "            background-color:  #4b64d5;\n",
       "            color:  #f1f1f1;\n",
       "        }#T_5bed3_row12_col0{\n",
       "            background-color:  #445acc;\n",
       "            color:  #f1f1f1;\n",
       "        }#T_5bed3_row13_col0,#T_5bed3_row14_col0,#T_5bed3_row15_col0{\n",
       "            background-color:  #4055c8;\n",
       "            color:  #f1f1f1;\n",
       "        }#T_5bed3_row16_col0,#T_5bed3_row17_col0,#T_5bed3_row18_col0,#T_5bed3_row19_col0,#T_5bed3_row20_col0,#T_5bed3_row21_col0,#T_5bed3_row22_col0{\n",
       "            background-color:  #3d50c3;\n",
       "            color:  #f1f1f1;\n",
       "        }#T_5bed3_row23_col0,#T_5bed3_row24_col0,#T_5bed3_row25_col0,#T_5bed3_row26_col0,#T_5bed3_row27_col0,#T_5bed3_row28_col0,#T_5bed3_row29_col0,#T_5bed3_row30_col0,#T_5bed3_row31_col0,#T_5bed3_row32_col0,#T_5bed3_row33_col0,#T_5bed3_row34_col0,#T_5bed3_row35_col0,#T_5bed3_row36_col0,#T_5bed3_row37_col0,#T_5bed3_row38_col0,#T_5bed3_row39_col0,#T_5bed3_row40_col0,#T_5bed3_row41_col0,#T_5bed3_row42_col0,#T_5bed3_row43_col0,#T_5bed3_row44_col0,#T_5bed3_row45_col0,#T_5bed3_row46_col0,#T_5bed3_row47_col0,#T_5bed3_row48_col0,#T_5bed3_row49_col0,#T_5bed3_row50_col0,#T_5bed3_row51_col0,#T_5bed3_row52_col0,#T_5bed3_row53_col0,#T_5bed3_row54_col0,#T_5bed3_row55_col0,#T_5bed3_row56_col0,#T_5bed3_row57_col0,#T_5bed3_row58_col0,#T_5bed3_row59_col0,#T_5bed3_row60_col0,#T_5bed3_row61_col0,#T_5bed3_row62_col0,#T_5bed3_row63_col0,#T_5bed3_row64_col0,#T_5bed3_row65_col0,#T_5bed3_row66_col0,#T_5bed3_row67_col0,#T_5bed3_row68_col0,#T_5bed3_row69_col0,#T_5bed3_row70_col0,#T_5bed3_row71_col0,#T_5bed3_row72_col0,#T_5bed3_row73_col0,#T_5bed3_row74_col0,#T_5bed3_row75_col0,#T_5bed3_row76_col0,#T_5bed3_row77_col0,#T_5bed3_row78_col0,#T_5bed3_row79_col0,#T_5bed3_row80_col0,#T_5bed3_row81_col0,#T_5bed3_row82_col0,#T_5bed3_row83_col0,#T_5bed3_row84_col0,#T_5bed3_row85_col0,#T_5bed3_row86_col0{\n",
       "            background-color:  #3b4cc0;\n",
       "            color:  #f1f1f1;\n",
       "        }</style><table id=\"T_5bed3_\" ><thead>    <tr>        <th class=\"blank level0\" ></th>        <th class=\"col_heading level0 col0\" >0</th>    </tr></thead><tbody>\n",
       "                <tr>\n",
       "                        <th id=\"T_5bed3_level0_row0\" class=\"row_heading level0 row0\" >secondary_cleaner.output.tail_sol</th>\n",
       "                        <td id=\"T_5bed3_row0_col0\" class=\"data row0 col0\" >9.000000</td>\n",
       "            </tr>\n",
       "            <tr>\n",
       "                        <th id=\"T_5bed3_level0_row1\" class=\"row_heading level0 row1\" >rougher.input.floatbank11_xanthate</th>\n",
       "                        <td id=\"T_5bed3_row1_col0\" class=\"data row1 col0\" >2.300000</td>\n",
       "            </tr>\n",
       "            <tr>\n",
       "                        <th id=\"T_5bed3_level0_row2\" class=\"row_heading level0 row2\" >rougher.state.floatbank10_e_air</th>\n",
       "                        <td id=\"T_5bed3_row2_col0\" class=\"data row2 col0\" >2.200000</td>\n",
       "            </tr>\n",
       "            <tr>\n",
       "                        <th id=\"T_5bed3_level0_row3\" class=\"row_heading level0 row3\" >primary_cleaner.output.concentrate_sol</th>\n",
       "                        <td id=\"T_5bed3_row3_col0\" class=\"data row3 col0\" >1.900000</td>\n",
       "            </tr>\n",
       "            <tr>\n",
       "                        <th id=\"T_5bed3_level0_row4\" class=\"row_heading level0 row4\" >secondary_cleaner.state.floatbank2_a_air</th>\n",
       "                        <td id=\"T_5bed3_row4_col0\" class=\"data row4 col0\" >1.100000</td>\n",
       "            </tr>\n",
       "            <tr>\n",
       "                        <th id=\"T_5bed3_level0_row5\" class=\"row_heading level0 row5\" >final.output.concentrate_sol</th>\n",
       "                        <td id=\"T_5bed3_row5_col0\" class=\"data row5 col0\" >1.100000</td>\n",
       "            </tr>\n",
       "            <tr>\n",
       "                        <th id=\"T_5bed3_level0_row6\" class=\"row_heading level0 row6\" >rougher.input.feed_size</th>\n",
       "                        <td id=\"T_5bed3_row6_col0\" class=\"data row6 col0\" >0.700000</td>\n",
       "            </tr>\n",
       "            <tr>\n",
       "                        <th id=\"T_5bed3_level0_row7\" class=\"row_heading level0 row7\" >primary_cleaner.output.concentrate_pb</th>\n",
       "                        <td id=\"T_5bed3_row7_col0\" class=\"data row7 col0\" >0.600000</td>\n",
       "            </tr>\n",
       "            <tr>\n",
       "                        <th id=\"T_5bed3_level0_row8\" class=\"row_heading level0 row8\" >primary_cleaner.input.xanthate</th>\n",
       "                        <td id=\"T_5bed3_row8_col0\" class=\"data row8 col0\" >0.500000</td>\n",
       "            </tr>\n",
       "            <tr>\n",
       "                        <th id=\"T_5bed3_level0_row9\" class=\"row_heading level0 row9\" >final.output.tail_pb</th>\n",
       "                        <td id=\"T_5bed3_row9_col0\" class=\"data row9 col0\" >0.500000</td>\n",
       "            </tr>\n",
       "            <tr>\n",
       "                        <th id=\"T_5bed3_level0_row10\" class=\"row_heading level0 row10\" >rougher.input.feed_pb</th>\n",
       "                        <td id=\"T_5bed3_row10_col0\" class=\"data row10 col0\" >0.500000</td>\n",
       "            </tr>\n",
       "            <tr>\n",
       "                        <th id=\"T_5bed3_level0_row11\" class=\"row_heading level0 row11\" >rougher.input.feed_sol</th>\n",
       "                        <td id=\"T_5bed3_row11_col0\" class=\"data row11 col0\" >0.500000</td>\n",
       "            </tr>\n",
       "            <tr>\n",
       "                        <th id=\"T_5bed3_level0_row12\" class=\"row_heading level0 row12\" >primary_cleaner.output.tail_sol</th>\n",
       "                        <td id=\"T_5bed3_row12_col0\" class=\"data row12 col0\" >0.300000</td>\n",
       "            </tr>\n",
       "            <tr>\n",
       "                        <th id=\"T_5bed3_level0_row13\" class=\"row_heading level0 row13\" >rougher.input.floatbank11_sulfate</th>\n",
       "                        <td id=\"T_5bed3_row13_col0\" class=\"data row13 col0\" >0.200000</td>\n",
       "            </tr>\n",
       "            <tr>\n",
       "                        <th id=\"T_5bed3_level0_row14\" class=\"row_heading level0 row14\" >primary_cleaner.input.depressant</th>\n",
       "                        <td id=\"T_5bed3_row14_col0\" class=\"data row14 col0\" >0.200000</td>\n",
       "            </tr>\n",
       "            <tr>\n",
       "                        <th id=\"T_5bed3_level0_row15\" class=\"row_heading level0 row15\" >rougher.input.floatbank10_sulfate</th>\n",
       "                        <td id=\"T_5bed3_row15_col0\" class=\"data row15 col0\" >0.200000</td>\n",
       "            </tr>\n",
       "            <tr>\n",
       "                        <th id=\"T_5bed3_level0_row16\" class=\"row_heading level0 row16\" >primary_cleaner.input.sulfate</th>\n",
       "                        <td id=\"T_5bed3_row16_col0\" class=\"data row16 col0\" >0.100000</td>\n",
       "            </tr>\n",
       "            <tr>\n",
       "                        <th id=\"T_5bed3_level0_row17\" class=\"row_heading level0 row17\" >rougher.output.concentrate_sol</th>\n",
       "                        <td id=\"T_5bed3_row17_col0\" class=\"data row17 col0\" >0.100000</td>\n",
       "            </tr>\n",
       "            <tr>\n",
       "                        <th id=\"T_5bed3_level0_row18\" class=\"row_heading level0 row18\" >secondary_cleaner.state.floatbank2_b_air</th>\n",
       "                        <td id=\"T_5bed3_row18_col0\" class=\"data row18 col0\" >0.100000</td>\n",
       "            </tr>\n",
       "            <tr>\n",
       "                        <th id=\"T_5bed3_level0_row19\" class=\"row_heading level0 row19\" >primary_cleaner.output.tail_pb</th>\n",
       "                        <td id=\"T_5bed3_row19_col0\" class=\"data row19 col0\" >0.100000</td>\n",
       "            </tr>\n",
       "            <tr>\n",
       "                        <th id=\"T_5bed3_level0_row20\" class=\"row_heading level0 row20\" >secondary_cleaner.state.floatbank3_a_air</th>\n",
       "                        <td id=\"T_5bed3_row20_col0\" class=\"data row20 col0\" >0.100000</td>\n",
       "            </tr>\n",
       "            <tr>\n",
       "                        <th id=\"T_5bed3_level0_row21\" class=\"row_heading level0 row21\" >secondary_cleaner.output.tail_pb</th>\n",
       "                        <td id=\"T_5bed3_row21_col0\" class=\"data row21 col0\" >0.100000</td>\n",
       "            </tr>\n",
       "            <tr>\n",
       "                        <th id=\"T_5bed3_level0_row22\" class=\"row_heading level0 row22\" >rougher.input.feed_rate</th>\n",
       "                        <td id=\"T_5bed3_row22_col0\" class=\"data row22 col0\" >0.100000</td>\n",
       "            </tr>\n",
       "            <tr>\n",
       "                        <th id=\"T_5bed3_level0_row23\" class=\"row_heading level0 row23\" >rougher.input.floatbank10_xanthate</th>\n",
       "                        <td id=\"T_5bed3_row23_col0\" class=\"data row23 col0\" >0.000000</td>\n",
       "            </tr>\n",
       "            <tr>\n",
       "                        <th id=\"T_5bed3_level0_row24\" class=\"row_heading level0 row24\" >secondary_cleaner.state.floatbank4_a_air</th>\n",
       "                        <td id=\"T_5bed3_row24_col0\" class=\"data row24 col0\" >0.000000</td>\n",
       "            </tr>\n",
       "            <tr>\n",
       "                        <th id=\"T_5bed3_level0_row25\" class=\"row_heading level0 row25\" >final.output.tail_sol</th>\n",
       "                        <td id=\"T_5bed3_row25_col0\" class=\"data row25 col0\" >0.000000</td>\n",
       "            </tr>\n",
       "            <tr>\n",
       "                        <th id=\"T_5bed3_level0_row26\" class=\"row_heading level0 row26\" >primary_cleaner.output.tail_ag</th>\n",
       "                        <td id=\"T_5bed3_row26_col0\" class=\"data row26 col0\" >0.000000</td>\n",
       "            </tr>\n",
       "            <tr>\n",
       "                        <th id=\"T_5bed3_level0_row27\" class=\"row_heading level0 row27\" >primary_cleaner.state.floatbank8_b_air</th>\n",
       "                        <td id=\"T_5bed3_row27_col0\" class=\"data row27 col0\" >0.000000</td>\n",
       "            </tr>\n",
       "            <tr>\n",
       "                        <th id=\"T_5bed3_level0_row28\" class=\"row_heading level0 row28\" >primary_cleaner.state.floatbank8_a_air</th>\n",
       "                        <td id=\"T_5bed3_row28_col0\" class=\"data row28 col0\" >0.000000</td>\n",
       "            </tr>\n",
       "            <tr>\n",
       "                        <th id=\"T_5bed3_level0_row29\" class=\"row_heading level0 row29\" >primary_cleaner.state.floatbank8_d_air</th>\n",
       "                        <td id=\"T_5bed3_row29_col0\" class=\"data row29 col0\" >0.000000</td>\n",
       "            </tr>\n",
       "            <tr>\n",
       "                        <th id=\"T_5bed3_level0_row30\" class=\"row_heading level0 row30\" >rougher.calculation.sulfate_to_au_concentrate</th>\n",
       "                        <td id=\"T_5bed3_row30_col0\" class=\"data row30 col0\" >0.000000</td>\n",
       "            </tr>\n",
       "            <tr>\n",
       "                        <th id=\"T_5bed3_level0_row31\" class=\"row_heading level0 row31\" >secondary_cleaner.output.tail_ag</th>\n",
       "                        <td id=\"T_5bed3_row31_col0\" class=\"data row31 col0\" >0.000000</td>\n",
       "            </tr>\n",
       "            <tr>\n",
       "                        <th id=\"T_5bed3_level0_row32\" class=\"row_heading level0 row32\" >primary_cleaner.state.floatbank8_c_air</th>\n",
       "                        <td id=\"T_5bed3_row32_col0\" class=\"data row32 col0\" >0.000000</td>\n",
       "            </tr>\n",
       "            <tr>\n",
       "                        <th id=\"T_5bed3_level0_row33\" class=\"row_heading level0 row33\" >secondary_cleaner.state.floatbank6_a_air</th>\n",
       "                        <td id=\"T_5bed3_row33_col0\" class=\"data row33 col0\" >0.000000</td>\n",
       "            </tr>\n",
       "            <tr>\n",
       "                        <th id=\"T_5bed3_level0_row34\" class=\"row_heading level0 row34\" >rougher.calculation.floatbank11_sulfate_to_au_feed</th>\n",
       "                        <td id=\"T_5bed3_row34_col0\" class=\"data row34 col0\" >0.000000</td>\n",
       "            </tr>\n",
       "            <tr>\n",
       "                        <th id=\"T_5bed3_level0_row35\" class=\"row_heading level0 row35\" >rougher.calculation.floatbank10_sulfate_to_au_feed</th>\n",
       "                        <td id=\"T_5bed3_row35_col0\" class=\"data row35 col0\" >0.000000</td>\n",
       "            </tr>\n",
       "            <tr>\n",
       "                        <th id=\"T_5bed3_level0_row36\" class=\"row_heading level0 row36\" >secondary_cleaner.state.floatbank3_b_air</th>\n",
       "                        <td id=\"T_5bed3_row36_col0\" class=\"data row36 col0\" >0.000000</td>\n",
       "            </tr>\n",
       "            <tr>\n",
       "                        <th id=\"T_5bed3_level0_row37\" class=\"row_heading level0 row37\" >final.output.tail_ag</th>\n",
       "                        <td id=\"T_5bed3_row37_col0\" class=\"data row37 col0\" >0.000000</td>\n",
       "            </tr>\n",
       "            <tr>\n",
       "                        <th id=\"T_5bed3_level0_row38\" class=\"row_heading level0 row38\" >final.output.concentrate_pb</th>\n",
       "                        <td id=\"T_5bed3_row38_col0\" class=\"data row38 col0\" >0.000000</td>\n",
       "            </tr>\n",
       "            <tr>\n",
       "                        <th id=\"T_5bed3_level0_row39\" class=\"row_heading level0 row39\" >final.output.concentrate_ag</th>\n",
       "                        <td id=\"T_5bed3_row39_col0\" class=\"data row39 col0\" >0.000000</td>\n",
       "            </tr>\n",
       "            <tr>\n",
       "                        <th id=\"T_5bed3_level0_row40\" class=\"row_heading level0 row40\" >secondary_cleaner.state.floatbank4_b_level</th>\n",
       "                        <td id=\"T_5bed3_row40_col0\" class=\"data row40 col0\" >0.000000</td>\n",
       "            </tr>\n",
       "            <tr>\n",
       "                        <th id=\"T_5bed3_level0_row41\" class=\"row_heading level0 row41\" >secondary_cleaner.state.floatbank4_b_air</th>\n",
       "                        <td id=\"T_5bed3_row41_col0\" class=\"data row41 col0\" >0.000000</td>\n",
       "            </tr>\n",
       "            <tr>\n",
       "                        <th id=\"T_5bed3_level0_row42\" class=\"row_heading level0 row42\" >secondary_cleaner.state.floatbank2_a_level</th>\n",
       "                        <td id=\"T_5bed3_row42_col0\" class=\"data row42 col0\" >0.000000</td>\n",
       "            </tr>\n",
       "            <tr>\n",
       "                        <th id=\"T_5bed3_level0_row43\" class=\"row_heading level0 row43\" >secondary_cleaner.state.floatbank6_a_level</th>\n",
       "                        <td id=\"T_5bed3_row43_col0\" class=\"data row43 col0\" >0.000000</td>\n",
       "            </tr>\n",
       "            <tr>\n",
       "                        <th id=\"T_5bed3_level0_row44\" class=\"row_heading level0 row44\" >secondary_cleaner.state.floatbank3_a_level</th>\n",
       "                        <td id=\"T_5bed3_row44_col0\" class=\"data row44 col0\" >0.000000</td>\n",
       "            </tr>\n",
       "            <tr>\n",
       "                        <th id=\"T_5bed3_level0_row45\" class=\"row_heading level0 row45\" >secondary_cleaner.state.floatbank4_a_level</th>\n",
       "                        <td id=\"T_5bed3_row45_col0\" class=\"data row45 col0\" >0.000000</td>\n",
       "            </tr>\n",
       "            <tr>\n",
       "                        <th id=\"T_5bed3_level0_row46\" class=\"row_heading level0 row46\" >secondary_cleaner.state.floatbank2_b_level</th>\n",
       "                        <td id=\"T_5bed3_row46_col0\" class=\"data row46 col0\" >0.000000</td>\n",
       "            </tr>\n",
       "            <tr>\n",
       "                        <th id=\"T_5bed3_level0_row47\" class=\"row_heading level0 row47\" >secondary_cleaner.state.floatbank5_a_air</th>\n",
       "                        <td id=\"T_5bed3_row47_col0\" class=\"data row47 col0\" >0.000000</td>\n",
       "            </tr>\n",
       "            <tr>\n",
       "                        <th id=\"T_5bed3_level0_row48\" class=\"row_heading level0 row48\" >secondary_cleaner.state.floatbank5_b_level</th>\n",
       "                        <td id=\"T_5bed3_row48_col0\" class=\"data row48 col0\" >0.000000</td>\n",
       "            </tr>\n",
       "            <tr>\n",
       "                        <th id=\"T_5bed3_level0_row49\" class=\"row_heading level0 row49\" >secondary_cleaner.state.floatbank5_b_air</th>\n",
       "                        <td id=\"T_5bed3_row49_col0\" class=\"data row49 col0\" >0.000000</td>\n",
       "            </tr>\n",
       "            <tr>\n",
       "                        <th id=\"T_5bed3_level0_row50\" class=\"row_heading level0 row50\" >secondary_cleaner.state.floatbank3_b_level</th>\n",
       "                        <td id=\"T_5bed3_row50_col0\" class=\"data row50 col0\" >0.000000</td>\n",
       "            </tr>\n",
       "            <tr>\n",
       "                        <th id=\"T_5bed3_level0_row51\" class=\"row_heading level0 row51\" >secondary_cleaner.state.floatbank5_a_level</th>\n",
       "                        <td id=\"T_5bed3_row51_col0\" class=\"data row51 col0\" >0.000000</td>\n",
       "            </tr>\n",
       "            <tr>\n",
       "                        <th id=\"T_5bed3_level0_row52\" class=\"row_heading level0 row52\" >primary_cleaner.state.floatbank8_b_level</th>\n",
       "                        <td id=\"T_5bed3_row52_col0\" class=\"data row52 col0\" >0.000000</td>\n",
       "            </tr>\n",
       "            <tr>\n",
       "                        <th id=\"T_5bed3_level0_row53\" class=\"row_heading level0 row53\" >rougher.state.floatbank10_a_level</th>\n",
       "                        <td id=\"T_5bed3_row53_col0\" class=\"data row53 col0\" >0.000000</td>\n",
       "            </tr>\n",
       "            <tr>\n",
       "                        <th id=\"T_5bed3_level0_row54\" class=\"row_heading level0 row54\" >primary_cleaner.state.floatbank8_d_level</th>\n",
       "                        <td id=\"T_5bed3_row54_col0\" class=\"data row54 col0\" >0.000000</td>\n",
       "            </tr>\n",
       "            <tr>\n",
       "                        <th id=\"T_5bed3_level0_row55\" class=\"row_heading level0 row55\" >primary_cleaner.state.floatbank8_c_level</th>\n",
       "                        <td id=\"T_5bed3_row55_col0\" class=\"data row55 col0\" >0.000000</td>\n",
       "            </tr>\n",
       "            <tr>\n",
       "                        <th id=\"T_5bed3_level0_row56\" class=\"row_heading level0 row56\" >rougher.state.floatbank10_a_air</th>\n",
       "                        <td id=\"T_5bed3_row56_col0\" class=\"data row56 col0\" >0.000000</td>\n",
       "            </tr>\n",
       "            <tr>\n",
       "                        <th id=\"T_5bed3_level0_row57\" class=\"row_heading level0 row57\" >primary_cleaner.state.floatbank8_a_level</th>\n",
       "                        <td id=\"T_5bed3_row57_col0\" class=\"data row57 col0\" >0.000000</td>\n",
       "            </tr>\n",
       "            <tr>\n",
       "                        <th id=\"T_5bed3_level0_row58\" class=\"row_heading level0 row58\" >rougher.state.floatbank10_c_level</th>\n",
       "                        <td id=\"T_5bed3_row58_col0\" class=\"data row58 col0\" >0.000000</td>\n",
       "            </tr>\n",
       "            <tr>\n",
       "                        <th id=\"T_5bed3_level0_row59\" class=\"row_heading level0 row59\" >rougher.state.floatbank10_c_air</th>\n",
       "                        <td id=\"T_5bed3_row59_col0\" class=\"data row59 col0\" >0.000000</td>\n",
       "            </tr>\n",
       "            <tr>\n",
       "                        <th id=\"T_5bed3_level0_row60\" class=\"row_heading level0 row60\" >rougher.output.tail_ag</th>\n",
       "                        <td id=\"T_5bed3_row60_col0\" class=\"data row60 col0\" >0.000000</td>\n",
       "            </tr>\n",
       "            <tr>\n",
       "                        <th id=\"T_5bed3_level0_row61\" class=\"row_heading level0 row61\" >rougher.state.floatbank10_b_air</th>\n",
       "                        <td id=\"T_5bed3_row61_col0\" class=\"data row61 col0\" >0.000000</td>\n",
       "            </tr>\n",
       "            <tr>\n",
       "                        <th id=\"T_5bed3_level0_row62\" class=\"row_heading level0 row62\" >rougher.state.floatbank10_b_level</th>\n",
       "                        <td id=\"T_5bed3_row62_col0\" class=\"data row62 col0\" >0.000000</td>\n",
       "            </tr>\n",
       "            <tr>\n",
       "                        <th id=\"T_5bed3_level0_row63\" class=\"row_heading level0 row63\" >final.output.concentrate_au</th>\n",
       "                        <td id=\"T_5bed3_row63_col0\" class=\"data row63 col0\" >0.000000</td>\n",
       "            </tr>\n",
       "            <tr>\n",
       "                        <th id=\"T_5bed3_level0_row64\" class=\"row_heading level0 row64\" >secondary_cleaner.output.tail_au</th>\n",
       "                        <td id=\"T_5bed3_row64_col0\" class=\"data row64 col0\" >0.000000</td>\n",
       "            </tr>\n",
       "            <tr>\n",
       "                        <th id=\"T_5bed3_level0_row65\" class=\"row_heading level0 row65\" >rougher.state.floatbank10_d_air</th>\n",
       "                        <td id=\"T_5bed3_row65_col0\" class=\"data row65 col0\" >0.000000</td>\n",
       "            </tr>\n",
       "            <tr>\n",
       "                        <th id=\"T_5bed3_level0_row66\" class=\"row_heading level0 row66\" >primary_cleaner.output.tail_au</th>\n",
       "                        <td id=\"T_5bed3_row66_col0\" class=\"data row66 col0\" >0.000000</td>\n",
       "            </tr>\n",
       "            <tr>\n",
       "                        <th id=\"T_5bed3_level0_row67\" class=\"row_heading level0 row67\" >rougher.state.floatbank10_e_level</th>\n",
       "                        <td id=\"T_5bed3_row67_col0\" class=\"data row67 col0\" >0.000000</td>\n",
       "            </tr>\n",
       "            <tr>\n",
       "                        <th id=\"T_5bed3_level0_row68\" class=\"row_heading level0 row68\" >final.output.recovery</th>\n",
       "                        <td id=\"T_5bed3_row68_col0\" class=\"data row68 col0\" >0.000000</td>\n",
       "            </tr>\n",
       "            <tr>\n",
       "                        <th id=\"T_5bed3_level0_row69\" class=\"row_heading level0 row69\" >final.output.tail_au</th>\n",
       "                        <td id=\"T_5bed3_row69_col0\" class=\"data row69 col0\" >0.000000</td>\n",
       "            </tr>\n",
       "            <tr>\n",
       "                        <th id=\"T_5bed3_level0_row70\" class=\"row_heading level0 row70\" >rougher.input.feed_ag</th>\n",
       "                        <td id=\"T_5bed3_row70_col0\" class=\"data row70 col0\" >0.000000</td>\n",
       "            </tr>\n",
       "            <tr>\n",
       "                        <th id=\"T_5bed3_level0_row71\" class=\"row_heading level0 row71\" >rougher.state.floatbank10_d_level</th>\n",
       "                        <td id=\"T_5bed3_row71_col0\" class=\"data row71 col0\" >0.000000</td>\n",
       "            </tr>\n",
       "            <tr>\n",
       "                        <th id=\"T_5bed3_level0_row72\" class=\"row_heading level0 row72\" >rougher.state.floatbank10_f_level</th>\n",
       "                        <td id=\"T_5bed3_row72_col0\" class=\"data row72 col0\" >0.000000</td>\n",
       "            </tr>\n",
       "            <tr>\n",
       "                        <th id=\"T_5bed3_level0_row73\" class=\"row_heading level0 row73\" >rougher.state.floatbank10_f_air</th>\n",
       "                        <td id=\"T_5bed3_row73_col0\" class=\"data row73 col0\" >0.000000</td>\n",
       "            </tr>\n",
       "            <tr>\n",
       "                        <th id=\"T_5bed3_level0_row74\" class=\"row_heading level0 row74\" >primary_cleaner.output.concentrate_ag</th>\n",
       "                        <td id=\"T_5bed3_row74_col0\" class=\"data row74 col0\" >0.000000</td>\n",
       "            </tr>\n",
       "            <tr>\n",
       "                        <th id=\"T_5bed3_level0_row75\" class=\"row_heading level0 row75\" >rougher.calculation.au_pb_ratio</th>\n",
       "                        <td id=\"T_5bed3_row75_col0\" class=\"data row75 col0\" >0.000000</td>\n",
       "            </tr>\n",
       "            <tr>\n",
       "                        <th id=\"T_5bed3_level0_row76\" class=\"row_heading level0 row76\" >rougher.output.concentrate_au</th>\n",
       "                        <td id=\"T_5bed3_row76_col0\" class=\"data row76 col0\" >0.000000</td>\n",
       "            </tr>\n",
       "            <tr>\n",
       "                        <th id=\"T_5bed3_level0_row77\" class=\"row_heading level0 row77\" >rougher.output.concentrate_ag</th>\n",
       "                        <td id=\"T_5bed3_row77_col0\" class=\"data row77 col0\" >0.000000</td>\n",
       "            </tr>\n",
       "            <tr>\n",
       "                        <th id=\"T_5bed3_level0_row78\" class=\"row_heading level0 row78\" >rougher.output.concentrate_pb</th>\n",
       "                        <td id=\"T_5bed3_row78_col0\" class=\"data row78 col0\" >0.000000</td>\n",
       "            </tr>\n",
       "            <tr>\n",
       "                        <th id=\"T_5bed3_level0_row79\" class=\"row_heading level0 row79\" >rougher.output.recovery</th>\n",
       "                        <td id=\"T_5bed3_row79_col0\" class=\"data row79 col0\" >0.000000</td>\n",
       "            </tr>\n",
       "            <tr>\n",
       "                        <th id=\"T_5bed3_level0_row80\" class=\"row_heading level0 row80\" >rougher.output.tail_au</th>\n",
       "                        <td id=\"T_5bed3_row80_col0\" class=\"data row80 col0\" >0.000000</td>\n",
       "            </tr>\n",
       "            <tr>\n",
       "                        <th id=\"T_5bed3_level0_row81\" class=\"row_heading level0 row81\" >rougher.output.tail_pb</th>\n",
       "                        <td id=\"T_5bed3_row81_col0\" class=\"data row81 col0\" >0.000000</td>\n",
       "            </tr>\n",
       "            <tr>\n",
       "                        <th id=\"T_5bed3_level0_row82\" class=\"row_heading level0 row82\" >rougher.output.tail_sol</th>\n",
       "                        <td id=\"T_5bed3_row82_col0\" class=\"data row82 col0\" >0.000000</td>\n",
       "            </tr>\n",
       "            <tr>\n",
       "                        <th id=\"T_5bed3_level0_row83\" class=\"row_heading level0 row83\" >primary_cleaner.input.feed_size</th>\n",
       "                        <td id=\"T_5bed3_row83_col0\" class=\"data row83 col0\" >0.000000</td>\n",
       "            </tr>\n",
       "            <tr>\n",
       "                        <th id=\"T_5bed3_level0_row84\" class=\"row_heading level0 row84\" >rougher.input.feed_au</th>\n",
       "                        <td id=\"T_5bed3_row84_col0\" class=\"data row84 col0\" >0.000000</td>\n",
       "            </tr>\n",
       "            <tr>\n",
       "                        <th id=\"T_5bed3_level0_row85\" class=\"row_heading level0 row85\" >primary_cleaner.output.concentrate_au</th>\n",
       "                        <td id=\"T_5bed3_row85_col0\" class=\"data row85 col0\" >0.000000</td>\n",
       "            </tr>\n",
       "            <tr>\n",
       "                        <th id=\"T_5bed3_level0_row86\" class=\"row_heading level0 row86\" >date</th>\n",
       "                        <td id=\"T_5bed3_row86_col0\" class=\"data row86 col0\" >0.000000</td>\n",
       "            </tr>\n",
       "    </tbody></table>"
      ],
      "text/plain": [
       "<pandas.io.formats.style.Styler at 0x7fec22397700>"
      ]
     },
     "execution_count": 17,
     "metadata": {},
     "output_type": "execute_result"
    }
   ],
   "source": [
    "# Посмотрим на долю пропусков в полном датафрейме\n",
    "pd.DataFrame(round(data_full.isna().mean().sort_values(ascending=False)*100,1)).style.background_gradient('coolwarm')"
   ]
  },
  {
   "cell_type": "markdown",
   "metadata": {},
   "source": [
    "Так как доля пропусков в каждом столбце не превышает 10%, удалим пропущенные значения"
   ]
  },
  {
   "cell_type": "code",
   "execution_count": 18,
   "metadata": {},
   "outputs": [],
   "source": [
    "data_full = data_full.dropna()"
   ]
  },
  {
   "cell_type": "code",
   "execution_count": 19,
   "metadata": {},
   "outputs": [
    {
     "data": {
      "text/html": [
       "<style  type=\"text/css\" >\n",
       "#T_40820_row0_col0{\n",
       "            background-color:  #b40426;\n",
       "            color:  #f1f1f1;\n",
       "        }#T_40820_row1_col0{\n",
       "            background-color:  #d2dbe8;\n",
       "            color:  #000000;\n",
       "        }#T_40820_row2_col0{\n",
       "            background-color:  #cdd9ec;\n",
       "            color:  #000000;\n",
       "        }#T_40820_row3_col0{\n",
       "            background-color:  #9abbff;\n",
       "            color:  #000000;\n",
       "        }#T_40820_row4_col0{\n",
       "            background-color:  #7da0f9;\n",
       "            color:  #000000;\n",
       "        }#T_40820_row5_col0{\n",
       "            background-color:  #5d7ce6;\n",
       "            color:  #000000;\n",
       "        }#T_40820_row6_col0,#T_40820_row7_col0{\n",
       "            background-color:  #5875e1;\n",
       "            color:  #000000;\n",
       "        }#T_40820_row8_col0,#T_40820_row9_col0,#T_40820_row10_col0{\n",
       "            background-color:  #536edd;\n",
       "            color:  #000000;\n",
       "        }#T_40820_row11_col0{\n",
       "            background-color:  #4e68d8;\n",
       "            color:  #000000;\n",
       "        }#T_40820_row12_col0{\n",
       "            background-color:  #4961d2;\n",
       "            color:  #f1f1f1;\n",
       "        }#T_40820_row13_col0,#T_40820_row14_col0,#T_40820_row15_col0,#T_40820_row16_col0,#T_40820_row17_col0{\n",
       "            background-color:  #445acc;\n",
       "            color:  #f1f1f1;\n",
       "        }#T_40820_row18_col0,#T_40820_row19_col0{\n",
       "            background-color:  #3f53c6;\n",
       "            color:  #f1f1f1;\n",
       "        }#T_40820_row20_col0,#T_40820_row21_col0,#T_40820_row22_col0,#T_40820_row23_col0,#T_40820_row24_col0,#T_40820_row25_col0,#T_40820_row26_col0,#T_40820_row27_col0,#T_40820_row28_col0,#T_40820_row29_col0,#T_40820_row30_col0,#T_40820_row31_col0,#T_40820_row32_col0,#T_40820_row33_col0,#T_40820_row34_col0,#T_40820_row35_col0,#T_40820_row36_col0,#T_40820_row37_col0,#T_40820_row38_col0,#T_40820_row39_col0,#T_40820_row40_col0,#T_40820_row41_col0,#T_40820_row42_col0,#T_40820_row43_col0,#T_40820_row44_col0,#T_40820_row45_col0,#T_40820_row46_col0,#T_40820_row47_col0,#T_40820_row48_col0,#T_40820_row49_col0,#T_40820_row50_col0,#T_40820_row51_col0,#T_40820_row52_col0,#T_40820_row53_col0,#T_40820_row54_col0,#T_40820_row55_col0,#T_40820_row56_col0,#T_40820_row57_col0,#T_40820_row58_col0,#T_40820_row59_col0,#T_40820_row60_col0,#T_40820_row61_col0,#T_40820_row62_col0,#T_40820_row63_col0,#T_40820_row64_col0,#T_40820_row65_col0,#T_40820_row66_col0,#T_40820_row67_col0,#T_40820_row68_col0,#T_40820_row69_col0,#T_40820_row70_col0,#T_40820_row71_col0,#T_40820_row72_col0,#T_40820_row73_col0,#T_40820_row74_col0,#T_40820_row75_col0,#T_40820_row76_col0,#T_40820_row77_col0,#T_40820_row78_col0,#T_40820_row79_col0,#T_40820_row80_col0,#T_40820_row81_col0,#T_40820_row82_col0,#T_40820_row83_col0,#T_40820_row84_col0,#T_40820_row85_col0,#T_40820_row86_col0{\n",
       "            background-color:  #3b4cc0;\n",
       "            color:  #f1f1f1;\n",
       "        }</style><table id=\"T_40820_\" ><thead>    <tr>        <th class=\"blank level0\" ></th>        <th class=\"col_heading level0 col0\" >0</th>    </tr></thead><tbody>\n",
       "                <tr>\n",
       "                        <th id=\"T_40820_level0_row0\" class=\"row_heading level0 row0\" >secondary_cleaner.output.tail_sol</th>\n",
       "                        <td id=\"T_40820_row0_col0\" class=\"data row0 col0\" >6.300000</td>\n",
       "            </tr>\n",
       "            <tr>\n",
       "                        <th id=\"T_40820_level0_row1\" class=\"row_heading level0 row1\" >rougher.state.floatbank10_e_air</th>\n",
       "                        <td id=\"T_40820_row1_col0\" class=\"data row1 col0\" >2.900000</td>\n",
       "            </tr>\n",
       "            <tr>\n",
       "                        <th id=\"T_40820_level0_row2\" class=\"row_heading level0 row2\" >rougher.input.floatbank11_xanthate</th>\n",
       "                        <td id=\"T_40820_row2_col0\" class=\"data row2 col0\" >2.800000</td>\n",
       "            </tr>\n",
       "            <tr>\n",
       "                        <th id=\"T_40820_level0_row3\" class=\"row_heading level0 row3\" >primary_cleaner.output.concentrate_sol</th>\n",
       "                        <td id=\"T_40820_row3_col0\" class=\"data row3 col0\" >1.800000</td>\n",
       "            </tr>\n",
       "            <tr>\n",
       "                        <th id=\"T_40820_level0_row4\" class=\"row_heading level0 row4\" >final.output.concentrate_sol</th>\n",
       "                        <td id=\"T_40820_row4_col0\" class=\"data row4 col0\" >1.300000</td>\n",
       "            </tr>\n",
       "            <tr>\n",
       "                        <th id=\"T_40820_level0_row5\" class=\"row_heading level0 row5\" >rougher.input.feed_size</th>\n",
       "                        <td id=\"T_40820_row5_col0\" class=\"data row5 col0\" >0.700000</td>\n",
       "            </tr>\n",
       "            <tr>\n",
       "                        <th id=\"T_40820_level0_row6\" class=\"row_heading level0 row6\" >secondary_cleaner.state.floatbank2_a_air</th>\n",
       "                        <td id=\"T_40820_row6_col0\" class=\"data row6 col0\" >0.600000</td>\n",
       "            </tr>\n",
       "            <tr>\n",
       "                        <th id=\"T_40820_level0_row7\" class=\"row_heading level0 row7\" >primary_cleaner.output.concentrate_pb</th>\n",
       "                        <td id=\"T_40820_row7_col0\" class=\"data row7 col0\" >0.600000</td>\n",
       "            </tr>\n",
       "            <tr>\n",
       "                        <th id=\"T_40820_level0_row8\" class=\"row_heading level0 row8\" >rougher.input.feed_sol</th>\n",
       "                        <td id=\"T_40820_row8_col0\" class=\"data row8 col0\" >0.500000</td>\n",
       "            </tr>\n",
       "            <tr>\n",
       "                        <th id=\"T_40820_level0_row9\" class=\"row_heading level0 row9\" >final.output.tail_pb</th>\n",
       "                        <td id=\"T_40820_row9_col0\" class=\"data row9 col0\" >0.500000</td>\n",
       "            </tr>\n",
       "            <tr>\n",
       "                        <th id=\"T_40820_level0_row10\" class=\"row_heading level0 row10\" >rougher.input.feed_pb</th>\n",
       "                        <td id=\"T_40820_row10_col0\" class=\"data row10 col0\" >0.500000</td>\n",
       "            </tr>\n",
       "            <tr>\n",
       "                        <th id=\"T_40820_level0_row11\" class=\"row_heading level0 row11\" >primary_cleaner.input.xanthate</th>\n",
       "                        <td id=\"T_40820_row11_col0\" class=\"data row11 col0\" >0.400000</td>\n",
       "            </tr>\n",
       "            <tr>\n",
       "                        <th id=\"T_40820_level0_row12\" class=\"row_heading level0 row12\" >primary_cleaner.output.tail_sol</th>\n",
       "                        <td id=\"T_40820_row12_col0\" class=\"data row12 col0\" >0.300000</td>\n",
       "            </tr>\n",
       "            <tr>\n",
       "                        <th id=\"T_40820_level0_row13\" class=\"row_heading level0 row13\" >rougher.input.floatbank11_sulfate</th>\n",
       "                        <td id=\"T_40820_row13_col0\" class=\"data row13 col0\" >0.200000</td>\n",
       "            </tr>\n",
       "            <tr>\n",
       "                        <th id=\"T_40820_level0_row14\" class=\"row_heading level0 row14\" >rougher.input.floatbank10_sulfate</th>\n",
       "                        <td id=\"T_40820_row14_col0\" class=\"data row14 col0\" >0.200000</td>\n",
       "            </tr>\n",
       "            <tr>\n",
       "                        <th id=\"T_40820_level0_row15\" class=\"row_heading level0 row15\" >primary_cleaner.input.depressant</th>\n",
       "                        <td id=\"T_40820_row15_col0\" class=\"data row15 col0\" >0.200000</td>\n",
       "            </tr>\n",
       "            <tr>\n",
       "                        <th id=\"T_40820_level0_row16\" class=\"row_heading level0 row16\" >primary_cleaner.input.sulfate</th>\n",
       "                        <td id=\"T_40820_row16_col0\" class=\"data row16 col0\" >0.200000</td>\n",
       "            </tr>\n",
       "            <tr>\n",
       "                        <th id=\"T_40820_level0_row17\" class=\"row_heading level0 row17\" >secondary_cleaner.state.floatbank2_b_air</th>\n",
       "                        <td id=\"T_40820_row17_col0\" class=\"data row17 col0\" >0.200000</td>\n",
       "            </tr>\n",
       "            <tr>\n",
       "                        <th id=\"T_40820_level0_row18\" class=\"row_heading level0 row18\" >rougher.output.concentrate_sol</th>\n",
       "                        <td id=\"T_40820_row18_col0\" class=\"data row18 col0\" >0.100000</td>\n",
       "            </tr>\n",
       "            <tr>\n",
       "                        <th id=\"T_40820_level0_row19\" class=\"row_heading level0 row19\" >secondary_cleaner.state.floatbank3_a_air</th>\n",
       "                        <td id=\"T_40820_row19_col0\" class=\"data row19 col0\" >0.100000</td>\n",
       "            </tr>\n",
       "            <tr>\n",
       "                        <th id=\"T_40820_level0_row20\" class=\"row_heading level0 row20\" >rougher.input.floatbank10_xanthate</th>\n",
       "                        <td id=\"T_40820_row20_col0\" class=\"data row20 col0\" >0.000000</td>\n",
       "            </tr>\n",
       "            <tr>\n",
       "                        <th id=\"T_40820_level0_row21\" class=\"row_heading level0 row21\" >rougher.input.feed_rate</th>\n",
       "                        <td id=\"T_40820_row21_col0\" class=\"data row21 col0\" >0.000000</td>\n",
       "            </tr>\n",
       "            <tr>\n",
       "                        <th id=\"T_40820_level0_row22\" class=\"row_heading level0 row22\" >primary_cleaner.output.tail_pb</th>\n",
       "                        <td id=\"T_40820_row22_col0\" class=\"data row22 col0\" >0.000000</td>\n",
       "            </tr>\n",
       "            <tr>\n",
       "                        <th id=\"T_40820_level0_row23\" class=\"row_heading level0 row23\" >secondary_cleaner.state.floatbank4_a_air</th>\n",
       "                        <td id=\"T_40820_row23_col0\" class=\"data row23 col0\" >0.000000</td>\n",
       "            </tr>\n",
       "            <tr>\n",
       "                        <th id=\"T_40820_level0_row24\" class=\"row_heading level0 row24\" >final.output.tail_sol</th>\n",
       "                        <td id=\"T_40820_row24_col0\" class=\"data row24 col0\" >0.000000</td>\n",
       "            </tr>\n",
       "            <tr>\n",
       "                        <th id=\"T_40820_level0_row25\" class=\"row_heading level0 row25\" >primary_cleaner.output.tail_ag</th>\n",
       "                        <td id=\"T_40820_row25_col0\" class=\"data row25 col0\" >0.000000</td>\n",
       "            </tr>\n",
       "            <tr>\n",
       "                        <th id=\"T_40820_level0_row26\" class=\"row_heading level0 row26\" >secondary_cleaner.output.tail_pb</th>\n",
       "                        <td id=\"T_40820_row26_col0\" class=\"data row26 col0\" >0.000000</td>\n",
       "            </tr>\n",
       "            <tr>\n",
       "                        <th id=\"T_40820_level0_row27\" class=\"row_heading level0 row27\" >primary_cleaner.state.floatbank8_a_air</th>\n",
       "                        <td id=\"T_40820_row27_col0\" class=\"data row27 col0\" >0.000000</td>\n",
       "            </tr>\n",
       "            <tr>\n",
       "                        <th id=\"T_40820_level0_row28\" class=\"row_heading level0 row28\" >primary_cleaner.state.floatbank8_b_air</th>\n",
       "                        <td id=\"T_40820_row28_col0\" class=\"data row28 col0\" >0.000000</td>\n",
       "            </tr>\n",
       "            <tr>\n",
       "                        <th id=\"T_40820_level0_row29\" class=\"row_heading level0 row29\" >secondary_cleaner.output.tail_ag</th>\n",
       "                        <td id=\"T_40820_row29_col0\" class=\"data row29 col0\" >0.000000</td>\n",
       "            </tr>\n",
       "            <tr>\n",
       "                        <th id=\"T_40820_level0_row30\" class=\"row_heading level0 row30\" >final.output.tail_ag</th>\n",
       "                        <td id=\"T_40820_row30_col0\" class=\"data row30 col0\" >0.000000</td>\n",
       "            </tr>\n",
       "            <tr>\n",
       "                        <th id=\"T_40820_level0_row31\" class=\"row_heading level0 row31\" >final.output.concentrate_pb</th>\n",
       "                        <td id=\"T_40820_row31_col0\" class=\"data row31 col0\" >0.000000</td>\n",
       "            </tr>\n",
       "            <tr>\n",
       "                        <th id=\"T_40820_level0_row32\" class=\"row_heading level0 row32\" >final.output.concentrate_ag</th>\n",
       "                        <td id=\"T_40820_row32_col0\" class=\"data row32 col0\" >0.000000</td>\n",
       "            </tr>\n",
       "            <tr>\n",
       "                        <th id=\"T_40820_level0_row33\" class=\"row_heading level0 row33\" >primary_cleaner.state.floatbank8_d_air</th>\n",
       "                        <td id=\"T_40820_row33_col0\" class=\"data row33 col0\" >0.000000</td>\n",
       "            </tr>\n",
       "            <tr>\n",
       "                        <th id=\"T_40820_level0_row34\" class=\"row_heading level0 row34\" >rougher.calculation.floatbank11_sulfate_to_au_feed</th>\n",
       "                        <td id=\"T_40820_row34_col0\" class=\"data row34 col0\" >0.000000</td>\n",
       "            </tr>\n",
       "            <tr>\n",
       "                        <th id=\"T_40820_level0_row35\" class=\"row_heading level0 row35\" >secondary_cleaner.state.floatbank6_a_air</th>\n",
       "                        <td id=\"T_40820_row35_col0\" class=\"data row35 col0\" >0.000000</td>\n",
       "            </tr>\n",
       "            <tr>\n",
       "                        <th id=\"T_40820_level0_row36\" class=\"row_heading level0 row36\" >rougher.calculation.floatbank10_sulfate_to_au_feed</th>\n",
       "                        <td id=\"T_40820_row36_col0\" class=\"data row36 col0\" >0.000000</td>\n",
       "            </tr>\n",
       "            <tr>\n",
       "                        <th id=\"T_40820_level0_row37\" class=\"row_heading level0 row37\" >rougher.output.tail_ag</th>\n",
       "                        <td id=\"T_40820_row37_col0\" class=\"data row37 col0\" >0.000000</td>\n",
       "            </tr>\n",
       "            <tr>\n",
       "                        <th id=\"T_40820_level0_row38\" class=\"row_heading level0 row38\" >rougher.calculation.sulfate_to_au_concentrate</th>\n",
       "                        <td id=\"T_40820_row38_col0\" class=\"data row38 col0\" >0.000000</td>\n",
       "            </tr>\n",
       "            <tr>\n",
       "                        <th id=\"T_40820_level0_row39\" class=\"row_heading level0 row39\" >secondary_cleaner.state.floatbank4_b_air</th>\n",
       "                        <td id=\"T_40820_row39_col0\" class=\"data row39 col0\" >0.000000</td>\n",
       "            </tr>\n",
       "            <tr>\n",
       "                        <th id=\"T_40820_level0_row40\" class=\"row_heading level0 row40\" >secondary_cleaner.state.floatbank5_a_level</th>\n",
       "                        <td id=\"T_40820_row40_col0\" class=\"data row40 col0\" >0.000000</td>\n",
       "            </tr>\n",
       "            <tr>\n",
       "                        <th id=\"T_40820_level0_row41\" class=\"row_heading level0 row41\" >secondary_cleaner.state.floatbank2_a_level</th>\n",
       "                        <td id=\"T_40820_row41_col0\" class=\"data row41 col0\" >0.000000</td>\n",
       "            </tr>\n",
       "            <tr>\n",
       "                        <th id=\"T_40820_level0_row42\" class=\"row_heading level0 row42\" >final.output.tail_au</th>\n",
       "                        <td id=\"T_40820_row42_col0\" class=\"data row42 col0\" >0.000000</td>\n",
       "            </tr>\n",
       "            <tr>\n",
       "                        <th id=\"T_40820_level0_row43\" class=\"row_heading level0 row43\" >final.output.recovery</th>\n",
       "                        <td id=\"T_40820_row43_col0\" class=\"data row43 col0\" >0.000000</td>\n",
       "            </tr>\n",
       "            <tr>\n",
       "                        <th id=\"T_40820_level0_row44\" class=\"row_heading level0 row44\" >secondary_cleaner.state.floatbank5_b_air</th>\n",
       "                        <td id=\"T_40820_row44_col0\" class=\"data row44 col0\" >0.000000</td>\n",
       "            </tr>\n",
       "            <tr>\n",
       "                        <th id=\"T_40820_level0_row45\" class=\"row_heading level0 row45\" >secondary_cleaner.state.floatbank2_b_level</th>\n",
       "                        <td id=\"T_40820_row45_col0\" class=\"data row45 col0\" >0.000000</td>\n",
       "            </tr>\n",
       "            <tr>\n",
       "                        <th id=\"T_40820_level0_row46\" class=\"row_heading level0 row46\" >secondary_cleaner.state.floatbank3_a_level</th>\n",
       "                        <td id=\"T_40820_row46_col0\" class=\"data row46 col0\" >0.000000</td>\n",
       "            </tr>\n",
       "            <tr>\n",
       "                        <th id=\"T_40820_level0_row47\" class=\"row_heading level0 row47\" >secondary_cleaner.output.tail_au</th>\n",
       "                        <td id=\"T_40820_row47_col0\" class=\"data row47 col0\" >0.000000</td>\n",
       "            </tr>\n",
       "            <tr>\n",
       "                        <th id=\"T_40820_level0_row48\" class=\"row_heading level0 row48\" >secondary_cleaner.state.floatbank3_b_air</th>\n",
       "                        <td id=\"T_40820_row48_col0\" class=\"data row48 col0\" >0.000000</td>\n",
       "            </tr>\n",
       "            <tr>\n",
       "                        <th id=\"T_40820_level0_row49\" class=\"row_heading level0 row49\" >secondary_cleaner.state.floatbank3_b_level</th>\n",
       "                        <td id=\"T_40820_row49_col0\" class=\"data row49 col0\" >0.000000</td>\n",
       "            </tr>\n",
       "            <tr>\n",
       "                        <th id=\"T_40820_level0_row50\" class=\"row_heading level0 row50\" >secondary_cleaner.state.floatbank5_a_air</th>\n",
       "                        <td id=\"T_40820_row50_col0\" class=\"data row50 col0\" >0.000000</td>\n",
       "            </tr>\n",
       "            <tr>\n",
       "                        <th id=\"T_40820_level0_row51\" class=\"row_heading level0 row51\" >final.output.concentrate_au</th>\n",
       "                        <td id=\"T_40820_row51_col0\" class=\"data row51 col0\" >0.000000</td>\n",
       "            </tr>\n",
       "            <tr>\n",
       "                        <th id=\"T_40820_level0_row52\" class=\"row_heading level0 row52\" >secondary_cleaner.state.floatbank6_a_level</th>\n",
       "                        <td id=\"T_40820_row52_col0\" class=\"data row52 col0\" >0.000000</td>\n",
       "            </tr>\n",
       "            <tr>\n",
       "                        <th id=\"T_40820_level0_row53\" class=\"row_heading level0 row53\" >secondary_cleaner.state.floatbank4_a_level</th>\n",
       "                        <td id=\"T_40820_row53_col0\" class=\"data row53 col0\" >0.000000</td>\n",
       "            </tr>\n",
       "            <tr>\n",
       "                        <th id=\"T_40820_level0_row54\" class=\"row_heading level0 row54\" >secondary_cleaner.state.floatbank4_b_level</th>\n",
       "                        <td id=\"T_40820_row54_col0\" class=\"data row54 col0\" >0.000000</td>\n",
       "            </tr>\n",
       "            <tr>\n",
       "                        <th id=\"T_40820_level0_row55\" class=\"row_heading level0 row55\" >secondary_cleaner.state.floatbank5_b_level</th>\n",
       "                        <td id=\"T_40820_row55_col0\" class=\"data row55 col0\" >0.000000</td>\n",
       "            </tr>\n",
       "            <tr>\n",
       "                        <th id=\"T_40820_level0_row56\" class=\"row_heading level0 row56\" >date</th>\n",
       "                        <td id=\"T_40820_row56_col0\" class=\"data row56 col0\" >0.000000</td>\n",
       "            </tr>\n",
       "            <tr>\n",
       "                        <th id=\"T_40820_level0_row57\" class=\"row_heading level0 row57\" >primary_cleaner.output.tail_au</th>\n",
       "                        <td id=\"T_40820_row57_col0\" class=\"data row57 col0\" >0.000000</td>\n",
       "            </tr>\n",
       "            <tr>\n",
       "                        <th id=\"T_40820_level0_row58\" class=\"row_heading level0 row58\" >primary_cleaner.output.concentrate_ag</th>\n",
       "                        <td id=\"T_40820_row58_col0\" class=\"data row58 col0\" >0.000000</td>\n",
       "            </tr>\n",
       "            <tr>\n",
       "                        <th id=\"T_40820_level0_row59\" class=\"row_heading level0 row59\" >rougher.input.feed_ag</th>\n",
       "                        <td id=\"T_40820_row59_col0\" class=\"data row59 col0\" >0.000000</td>\n",
       "            </tr>\n",
       "            <tr>\n",
       "                        <th id=\"T_40820_level0_row60\" class=\"row_heading level0 row60\" >rougher.state.floatbank10_a_air</th>\n",
       "                        <td id=\"T_40820_row60_col0\" class=\"data row60 col0\" >0.000000</td>\n",
       "            </tr>\n",
       "            <tr>\n",
       "                        <th id=\"T_40820_level0_row61\" class=\"row_heading level0 row61\" >rougher.state.floatbank10_a_level</th>\n",
       "                        <td id=\"T_40820_row61_col0\" class=\"data row61 col0\" >0.000000</td>\n",
       "            </tr>\n",
       "            <tr>\n",
       "                        <th id=\"T_40820_level0_row62\" class=\"row_heading level0 row62\" >rougher.state.floatbank10_b_air</th>\n",
       "                        <td id=\"T_40820_row62_col0\" class=\"data row62 col0\" >0.000000</td>\n",
       "            </tr>\n",
       "            <tr>\n",
       "                        <th id=\"T_40820_level0_row63\" class=\"row_heading level0 row63\" >rougher.state.floatbank10_b_level</th>\n",
       "                        <td id=\"T_40820_row63_col0\" class=\"data row63 col0\" >0.000000</td>\n",
       "            </tr>\n",
       "            <tr>\n",
       "                        <th id=\"T_40820_level0_row64\" class=\"row_heading level0 row64\" >rougher.state.floatbank10_c_air</th>\n",
       "                        <td id=\"T_40820_row64_col0\" class=\"data row64 col0\" >0.000000</td>\n",
       "            </tr>\n",
       "            <tr>\n",
       "                        <th id=\"T_40820_level0_row65\" class=\"row_heading level0 row65\" >rougher.state.floatbank10_c_level</th>\n",
       "                        <td id=\"T_40820_row65_col0\" class=\"data row65 col0\" >0.000000</td>\n",
       "            </tr>\n",
       "            <tr>\n",
       "                        <th id=\"T_40820_level0_row66\" class=\"row_heading level0 row66\" >rougher.state.floatbank10_d_air</th>\n",
       "                        <td id=\"T_40820_row66_col0\" class=\"data row66 col0\" >0.000000</td>\n",
       "            </tr>\n",
       "            <tr>\n",
       "                        <th id=\"T_40820_level0_row67\" class=\"row_heading level0 row67\" >rougher.state.floatbank10_d_level</th>\n",
       "                        <td id=\"T_40820_row67_col0\" class=\"data row67 col0\" >0.000000</td>\n",
       "            </tr>\n",
       "            <tr>\n",
       "                        <th id=\"T_40820_level0_row68\" class=\"row_heading level0 row68\" >rougher.state.floatbank10_e_level</th>\n",
       "                        <td id=\"T_40820_row68_col0\" class=\"data row68 col0\" >0.000000</td>\n",
       "            </tr>\n",
       "            <tr>\n",
       "                        <th id=\"T_40820_level0_row69\" class=\"row_heading level0 row69\" >rougher.state.floatbank10_f_air</th>\n",
       "                        <td id=\"T_40820_row69_col0\" class=\"data row69 col0\" >0.000000</td>\n",
       "            </tr>\n",
       "            <tr>\n",
       "                        <th id=\"T_40820_level0_row70\" class=\"row_heading level0 row70\" >rougher.state.floatbank10_f_level</th>\n",
       "                        <td id=\"T_40820_row70_col0\" class=\"data row70 col0\" >0.000000</td>\n",
       "            </tr>\n",
       "            <tr>\n",
       "                        <th id=\"T_40820_level0_row71\" class=\"row_heading level0 row71\" >rougher.calculation.au_pb_ratio</th>\n",
       "                        <td id=\"T_40820_row71_col0\" class=\"data row71 col0\" >0.000000</td>\n",
       "            </tr>\n",
       "            <tr>\n",
       "                        <th id=\"T_40820_level0_row72\" class=\"row_heading level0 row72\" >rougher.output.concentrate_au</th>\n",
       "                        <td id=\"T_40820_row72_col0\" class=\"data row72 col0\" >0.000000</td>\n",
       "            </tr>\n",
       "            <tr>\n",
       "                        <th id=\"T_40820_level0_row73\" class=\"row_heading level0 row73\" >rougher.output.concentrate_ag</th>\n",
       "                        <td id=\"T_40820_row73_col0\" class=\"data row73 col0\" >0.000000</td>\n",
       "            </tr>\n",
       "            <tr>\n",
       "                        <th id=\"T_40820_level0_row74\" class=\"row_heading level0 row74\" >rougher.output.concentrate_pb</th>\n",
       "                        <td id=\"T_40820_row74_col0\" class=\"data row74 col0\" >0.000000</td>\n",
       "            </tr>\n",
       "            <tr>\n",
       "                        <th id=\"T_40820_level0_row75\" class=\"row_heading level0 row75\" >rougher.output.recovery</th>\n",
       "                        <td id=\"T_40820_row75_col0\" class=\"data row75 col0\" >0.000000</td>\n",
       "            </tr>\n",
       "            <tr>\n",
       "                        <th id=\"T_40820_level0_row76\" class=\"row_heading level0 row76\" >rougher.output.tail_au</th>\n",
       "                        <td id=\"T_40820_row76_col0\" class=\"data row76 col0\" >0.000000</td>\n",
       "            </tr>\n",
       "            <tr>\n",
       "                        <th id=\"T_40820_level0_row77\" class=\"row_heading level0 row77\" >rougher.output.tail_pb</th>\n",
       "                        <td id=\"T_40820_row77_col0\" class=\"data row77 col0\" >0.000000</td>\n",
       "            </tr>\n",
       "            <tr>\n",
       "                        <th id=\"T_40820_level0_row78\" class=\"row_heading level0 row78\" >rougher.output.tail_sol</th>\n",
       "                        <td id=\"T_40820_row78_col0\" class=\"data row78 col0\" >0.000000</td>\n",
       "            </tr>\n",
       "            <tr>\n",
       "                        <th id=\"T_40820_level0_row79\" class=\"row_heading level0 row79\" >primary_cleaner.input.feed_size</th>\n",
       "                        <td id=\"T_40820_row79_col0\" class=\"data row79 col0\" >0.000000</td>\n",
       "            </tr>\n",
       "            <tr>\n",
       "                        <th id=\"T_40820_level0_row80\" class=\"row_heading level0 row80\" >primary_cleaner.state.floatbank8_a_level</th>\n",
       "                        <td id=\"T_40820_row80_col0\" class=\"data row80 col0\" >0.000000</td>\n",
       "            </tr>\n",
       "            <tr>\n",
       "                        <th id=\"T_40820_level0_row81\" class=\"row_heading level0 row81\" >rougher.input.feed_au</th>\n",
       "                        <td id=\"T_40820_row81_col0\" class=\"data row81 col0\" >0.000000</td>\n",
       "            </tr>\n",
       "            <tr>\n",
       "                        <th id=\"T_40820_level0_row82\" class=\"row_heading level0 row82\" >primary_cleaner.state.floatbank8_c_air</th>\n",
       "                        <td id=\"T_40820_row82_col0\" class=\"data row82 col0\" >0.000000</td>\n",
       "            </tr>\n",
       "            <tr>\n",
       "                        <th id=\"T_40820_level0_row83\" class=\"row_heading level0 row83\" >primary_cleaner.state.floatbank8_c_level</th>\n",
       "                        <td id=\"T_40820_row83_col0\" class=\"data row83 col0\" >0.000000</td>\n",
       "            </tr>\n",
       "            <tr>\n",
       "                        <th id=\"T_40820_level0_row84\" class=\"row_heading level0 row84\" >primary_cleaner.state.floatbank8_d_level</th>\n",
       "                        <td id=\"T_40820_row84_col0\" class=\"data row84 col0\" >0.000000</td>\n",
       "            </tr>\n",
       "            <tr>\n",
       "                        <th id=\"T_40820_level0_row85\" class=\"row_heading level0 row85\" >primary_cleaner.output.concentrate_au</th>\n",
       "                        <td id=\"T_40820_row85_col0\" class=\"data row85 col0\" >0.000000</td>\n",
       "            </tr>\n",
       "            <tr>\n",
       "                        <th id=\"T_40820_level0_row86\" class=\"row_heading level0 row86\" >primary_cleaner.state.floatbank8_b_level</th>\n",
       "                        <td id=\"T_40820_row86_col0\" class=\"data row86 col0\" >0.000000</td>\n",
       "            </tr>\n",
       "    </tbody></table>"
      ],
      "text/plain": [
       "<pandas.io.formats.style.Styler at 0x7fec221c84c0>"
      ]
     },
     "execution_count": 19,
     "metadata": {},
     "output_type": "execute_result"
    }
   ],
   "source": [
    "# Аналогичным образом, поступим с обучающим и тестовым наборами данных\n",
    "pd.DataFrame(round(data_train.isna().mean().sort_values(ascending=False)*100,1)).style.background_gradient('coolwarm')"
   ]
  },
  {
   "cell_type": "code",
   "execution_count": 20,
   "metadata": {},
   "outputs": [],
   "source": [
    "data_train = data_train.dropna()"
   ]
  },
  {
   "cell_type": "code",
   "execution_count": 21,
   "metadata": {},
   "outputs": [
    {
     "data": {
      "text/html": [
       "<style  type=\"text/css\" >\n",
       "#T_56cd5_row0_col0{\n",
       "            background-color:  #b40426;\n",
       "            color:  #f1f1f1;\n",
       "        }#T_56cd5_row1_col0,#T_56cd5_row2_col0,#T_56cd5_row3_col0{\n",
       "            background-color:  #aec9fc;\n",
       "            color:  #000000;\n",
       "        }#T_56cd5_row4_col0{\n",
       "            background-color:  #86a9fc;\n",
       "            color:  #000000;\n",
       "        }#T_56cd5_row5_col0{\n",
       "            background-color:  #799cf8;\n",
       "            color:  #000000;\n",
       "        }#T_56cd5_row6_col0,#T_56cd5_row7_col0{\n",
       "            background-color:  #516ddb;\n",
       "            color:  #000000;\n",
       "        }#T_56cd5_row8_col0,#T_56cd5_row9_col0,#T_56cd5_row10_col0{\n",
       "            background-color:  #455cce;\n",
       "            color:  #f1f1f1;\n",
       "        }#T_56cd5_row11_col0,#T_56cd5_row12_col0,#T_56cd5_row13_col0,#T_56cd5_row14_col0,#T_56cd5_row15_col0,#T_56cd5_row16_col0,#T_56cd5_row17_col0,#T_56cd5_row18_col0,#T_56cd5_row19_col0,#T_56cd5_row20_col0,#T_56cd5_row21_col0,#T_56cd5_row22_col0,#T_56cd5_row23_col0,#T_56cd5_row24_col0,#T_56cd5_row25_col0,#T_56cd5_row26_col0,#T_56cd5_row27_col0,#T_56cd5_row28_col0,#T_56cd5_row29_col0,#T_56cd5_row30_col0,#T_56cd5_row31_col0,#T_56cd5_row32_col0,#T_56cd5_row33_col0,#T_56cd5_row34_col0,#T_56cd5_row35_col0,#T_56cd5_row36_col0,#T_56cd5_row37_col0,#T_56cd5_row38_col0,#T_56cd5_row39_col0,#T_56cd5_row40_col0,#T_56cd5_row41_col0,#T_56cd5_row42_col0,#T_56cd5_row43_col0,#T_56cd5_row44_col0,#T_56cd5_row45_col0,#T_56cd5_row46_col0,#T_56cd5_row47_col0,#T_56cd5_row48_col0,#T_56cd5_row49_col0,#T_56cd5_row50_col0,#T_56cd5_row51_col0,#T_56cd5_row52_col0,#T_56cd5_row53_col0,#T_56cd5_row54_col0{\n",
       "            background-color:  #3b4cc0;\n",
       "            color:  #f1f1f1;\n",
       "        }</style><table id=\"T_56cd5_\" ><thead>    <tr>        <th class=\"blank level0\" ></th>        <th class=\"col_heading level0 col0\" >0</th>    </tr></thead><tbody>\n",
       "                <tr>\n",
       "                        <th id=\"T_56cd5_level0_row0\" class=\"row_heading level0 row0\" >secondary_cleaner.state.floatbank2_a_air</th>\n",
       "                        <td id=\"T_56cd5_row0_col0\" class=\"data row0 col0\" >2.600000</td>\n",
       "            </tr>\n",
       "            <tr>\n",
       "                        <th id=\"T_56cd5_level0_row1\" class=\"row_heading level0 row1\" >rougher.input.floatbank11_xanthate</th>\n",
       "                        <td id=\"T_56cd5_row1_col0\" class=\"data row1 col0\" >0.900000</td>\n",
       "            </tr>\n",
       "            <tr>\n",
       "                        <th id=\"T_56cd5_level0_row2\" class=\"row_heading level0 row2\" >rougher.input.feed_size</th>\n",
       "                        <td id=\"T_56cd5_row2_col0\" class=\"data row2 col0\" >0.900000</td>\n",
       "            </tr>\n",
       "            <tr>\n",
       "                        <th id=\"T_56cd5_level0_row3\" class=\"row_heading level0 row3\" >primary_cleaner.input.xanthate</th>\n",
       "                        <td id=\"T_56cd5_row3_col0\" class=\"data row3 col0\" >0.900000</td>\n",
       "            </tr>\n",
       "            <tr>\n",
       "                        <th id=\"T_56cd5_level0_row4\" class=\"row_heading level0 row4\" >rougher.input.feed_pb</th>\n",
       "                        <td id=\"T_56cd5_row4_col0\" class=\"data row4 col0\" >0.600000</td>\n",
       "            </tr>\n",
       "            <tr>\n",
       "                        <th id=\"T_56cd5_level0_row5\" class=\"row_heading level0 row5\" >rougher.input.feed_sol</th>\n",
       "                        <td id=\"T_56cd5_row5_col0\" class=\"data row5 col0\" >0.500000</td>\n",
       "            </tr>\n",
       "            <tr>\n",
       "                        <th id=\"T_56cd5_level0_row6\" class=\"row_heading level0 row6\" >primary_cleaner.input.depressant</th>\n",
       "                        <td id=\"T_56cd5_row6_col0\" class=\"data row6 col0\" >0.200000</td>\n",
       "            </tr>\n",
       "            <tr>\n",
       "                        <th id=\"T_56cd5_level0_row7\" class=\"row_heading level0 row7\" >rougher.input.floatbank11_sulfate</th>\n",
       "                        <td id=\"T_56cd5_row7_col0\" class=\"data row7 col0\" >0.200000</td>\n",
       "            </tr>\n",
       "            <tr>\n",
       "                        <th id=\"T_56cd5_level0_row8\" class=\"row_heading level0 row8\" >rougher.state.floatbank10_e_air</th>\n",
       "                        <td id=\"T_56cd5_row8_col0\" class=\"data row8 col0\" >0.100000</td>\n",
       "            </tr>\n",
       "            <tr>\n",
       "                        <th id=\"T_56cd5_level0_row9\" class=\"row_heading level0 row9\" >rougher.input.feed_rate</th>\n",
       "                        <td id=\"T_56cd5_row9_col0\" class=\"data row9 col0\" >0.100000</td>\n",
       "            </tr>\n",
       "            <tr>\n",
       "                        <th id=\"T_56cd5_level0_row10\" class=\"row_heading level0 row10\" >rougher.input.floatbank10_sulfate</th>\n",
       "                        <td id=\"T_56cd5_row10_col0\" class=\"data row10 col0\" >0.100000</td>\n",
       "            </tr>\n",
       "            <tr>\n",
       "                        <th id=\"T_56cd5_level0_row11\" class=\"row_heading level0 row11\" >primary_cleaner.state.floatbank8_c_air</th>\n",
       "                        <td id=\"T_56cd5_row11_col0\" class=\"data row11 col0\" >0.000000</td>\n",
       "            </tr>\n",
       "            <tr>\n",
       "                        <th id=\"T_56cd5_level0_row12\" class=\"row_heading level0 row12\" >primary_cleaner.state.floatbank8_d_air</th>\n",
       "                        <td id=\"T_56cd5_row12_col0\" class=\"data row12 col0\" >0.000000</td>\n",
       "            </tr>\n",
       "            <tr>\n",
       "                        <th id=\"T_56cd5_level0_row13\" class=\"row_heading level0 row13\" >primary_cleaner.state.floatbank8_a_level</th>\n",
       "                        <td id=\"T_56cd5_row13_col0\" class=\"data row13 col0\" >0.000000</td>\n",
       "            </tr>\n",
       "            <tr>\n",
       "                        <th id=\"T_56cd5_level0_row14\" class=\"row_heading level0 row14\" >primary_cleaner.state.floatbank8_b_air</th>\n",
       "                        <td id=\"T_56cd5_row14_col0\" class=\"data row14 col0\" >0.000000</td>\n",
       "            </tr>\n",
       "            <tr>\n",
       "                        <th id=\"T_56cd5_level0_row15\" class=\"row_heading level0 row15\" >primary_cleaner.state.floatbank8_b_level</th>\n",
       "                        <td id=\"T_56cd5_row15_col0\" class=\"data row15 col0\" >0.000000</td>\n",
       "            </tr>\n",
       "            <tr>\n",
       "                        <th id=\"T_56cd5_level0_row16\" class=\"row_heading level0 row16\" >primary_cleaner.state.floatbank8_c_level</th>\n",
       "                        <td id=\"T_56cd5_row16_col0\" class=\"data row16 col0\" >0.000000</td>\n",
       "            </tr>\n",
       "            <tr>\n",
       "                        <th id=\"T_56cd5_level0_row17\" class=\"row_heading level0 row17\" >secondary_cleaner.state.floatbank4_a_air</th>\n",
       "                        <td id=\"T_56cd5_row17_col0\" class=\"data row17 col0\" >0.000000</td>\n",
       "            </tr>\n",
       "            <tr>\n",
       "                        <th id=\"T_56cd5_level0_row18\" class=\"row_heading level0 row18\" >primary_cleaner.state.floatbank8_d_level</th>\n",
       "                        <td id=\"T_56cd5_row18_col0\" class=\"data row18 col0\" >0.000000</td>\n",
       "            </tr>\n",
       "            <tr>\n",
       "                        <th id=\"T_56cd5_level0_row19\" class=\"row_heading level0 row19\" >secondary_cleaner.state.floatbank2_a_level</th>\n",
       "                        <td id=\"T_56cd5_row19_col0\" class=\"data row19 col0\" >0.000000</td>\n",
       "            </tr>\n",
       "            <tr>\n",
       "                        <th id=\"T_56cd5_level0_row20\" class=\"row_heading level0 row20\" >secondary_cleaner.state.floatbank4_b_level</th>\n",
       "                        <td id=\"T_56cd5_row20_col0\" class=\"data row20 col0\" >0.000000</td>\n",
       "            </tr>\n",
       "            <tr>\n",
       "                        <th id=\"T_56cd5_level0_row21\" class=\"row_heading level0 row21\" >secondary_cleaner.state.floatbank2_b_level</th>\n",
       "                        <td id=\"T_56cd5_row21_col0\" class=\"data row21 col0\" >0.000000</td>\n",
       "            </tr>\n",
       "            <tr>\n",
       "                        <th id=\"T_56cd5_level0_row22\" class=\"row_heading level0 row22\" >secondary_cleaner.state.floatbank3_a_air</th>\n",
       "                        <td id=\"T_56cd5_row22_col0\" class=\"data row22 col0\" >0.000000</td>\n",
       "            </tr>\n",
       "            <tr>\n",
       "                        <th id=\"T_56cd5_level0_row23\" class=\"row_heading level0 row23\" >secondary_cleaner.state.floatbank3_a_level</th>\n",
       "                        <td id=\"T_56cd5_row23_col0\" class=\"data row23 col0\" >0.000000</td>\n",
       "            </tr>\n",
       "            <tr>\n",
       "                        <th id=\"T_56cd5_level0_row24\" class=\"row_heading level0 row24\" >secondary_cleaner.state.floatbank3_b_air</th>\n",
       "                        <td id=\"T_56cd5_row24_col0\" class=\"data row24 col0\" >0.000000</td>\n",
       "            </tr>\n",
       "            <tr>\n",
       "                        <th id=\"T_56cd5_level0_row25\" class=\"row_heading level0 row25\" >secondary_cleaner.state.floatbank3_b_level</th>\n",
       "                        <td id=\"T_56cd5_row25_col0\" class=\"data row25 col0\" >0.000000</td>\n",
       "            </tr>\n",
       "            <tr>\n",
       "                        <th id=\"T_56cd5_level0_row26\" class=\"row_heading level0 row26\" >secondary_cleaner.state.floatbank2_b_air</th>\n",
       "                        <td id=\"T_56cd5_row26_col0\" class=\"data row26 col0\" >0.000000</td>\n",
       "            </tr>\n",
       "            <tr>\n",
       "                        <th id=\"T_56cd5_level0_row27\" class=\"row_heading level0 row27\" >primary_cleaner.state.floatbank8_a_air</th>\n",
       "                        <td id=\"T_56cd5_row27_col0\" class=\"data row27 col0\" >0.000000</td>\n",
       "            </tr>\n",
       "            <tr>\n",
       "                        <th id=\"T_56cd5_level0_row28\" class=\"row_heading level0 row28\" >secondary_cleaner.state.floatbank5_a_air</th>\n",
       "                        <td id=\"T_56cd5_row28_col0\" class=\"data row28 col0\" >0.000000</td>\n",
       "            </tr>\n",
       "            <tr>\n",
       "                        <th id=\"T_56cd5_level0_row29\" class=\"row_heading level0 row29\" >primary_cleaner.input.sulfate</th>\n",
       "                        <td id=\"T_56cd5_row29_col0\" class=\"data row29 col0\" >0.000000</td>\n",
       "            </tr>\n",
       "            <tr>\n",
       "                        <th id=\"T_56cd5_level0_row30\" class=\"row_heading level0 row30\" >rougher.input.floatbank10_xanthate</th>\n",
       "                        <td id=\"T_56cd5_row30_col0\" class=\"data row30 col0\" >0.000000</td>\n",
       "            </tr>\n",
       "            <tr>\n",
       "                        <th id=\"T_56cd5_level0_row31\" class=\"row_heading level0 row31\" >rougher.state.floatbank10_a_air</th>\n",
       "                        <td id=\"T_56cd5_row31_col0\" class=\"data row31 col0\" >0.000000</td>\n",
       "            </tr>\n",
       "            <tr>\n",
       "                        <th id=\"T_56cd5_level0_row32\" class=\"row_heading level0 row32\" >rougher.state.floatbank10_a_level</th>\n",
       "                        <td id=\"T_56cd5_row32_col0\" class=\"data row32 col0\" >0.000000</td>\n",
       "            </tr>\n",
       "            <tr>\n",
       "                        <th id=\"T_56cd5_level0_row33\" class=\"row_heading level0 row33\" >rougher.state.floatbank10_b_air</th>\n",
       "                        <td id=\"T_56cd5_row33_col0\" class=\"data row33 col0\" >0.000000</td>\n",
       "            </tr>\n",
       "            <tr>\n",
       "                        <th id=\"T_56cd5_level0_row34\" class=\"row_heading level0 row34\" >rougher.state.floatbank10_b_level</th>\n",
       "                        <td id=\"T_56cd5_row34_col0\" class=\"data row34 col0\" >0.000000</td>\n",
       "            </tr>\n",
       "            <tr>\n",
       "                        <th id=\"T_56cd5_level0_row35\" class=\"row_heading level0 row35\" >rougher.state.floatbank10_c_air</th>\n",
       "                        <td id=\"T_56cd5_row35_col0\" class=\"data row35 col0\" >0.000000</td>\n",
       "            </tr>\n",
       "            <tr>\n",
       "                        <th id=\"T_56cd5_level0_row36\" class=\"row_heading level0 row36\" >rougher.state.floatbank10_c_level</th>\n",
       "                        <td id=\"T_56cd5_row36_col0\" class=\"data row36 col0\" >0.000000</td>\n",
       "            </tr>\n",
       "            <tr>\n",
       "                        <th id=\"T_56cd5_level0_row37\" class=\"row_heading level0 row37\" >secondary_cleaner.state.floatbank6_a_level</th>\n",
       "                        <td id=\"T_56cd5_row37_col0\" class=\"data row37 col0\" >0.000000</td>\n",
       "            </tr>\n",
       "            <tr>\n",
       "                        <th id=\"T_56cd5_level0_row38\" class=\"row_heading level0 row38\" >secondary_cleaner.state.floatbank6_a_air</th>\n",
       "                        <td id=\"T_56cd5_row38_col0\" class=\"data row38 col0\" >0.000000</td>\n",
       "            </tr>\n",
       "            <tr>\n",
       "                        <th id=\"T_56cd5_level0_row39\" class=\"row_heading level0 row39\" >secondary_cleaner.state.floatbank5_b_level</th>\n",
       "                        <td id=\"T_56cd5_row39_col0\" class=\"data row39 col0\" >0.000000</td>\n",
       "            </tr>\n",
       "            <tr>\n",
       "                        <th id=\"T_56cd5_level0_row40\" class=\"row_heading level0 row40\" >secondary_cleaner.state.floatbank5_b_air</th>\n",
       "                        <td id=\"T_56cd5_row40_col0\" class=\"data row40 col0\" >0.000000</td>\n",
       "            </tr>\n",
       "            <tr>\n",
       "                        <th id=\"T_56cd5_level0_row41\" class=\"row_heading level0 row41\" >secondary_cleaner.state.floatbank5_a_level</th>\n",
       "                        <td id=\"T_56cd5_row41_col0\" class=\"data row41 col0\" >0.000000</td>\n",
       "            </tr>\n",
       "            <tr>\n",
       "                        <th id=\"T_56cd5_level0_row42\" class=\"row_heading level0 row42\" >secondary_cleaner.state.floatbank4_b_air</th>\n",
       "                        <td id=\"T_56cd5_row42_col0\" class=\"data row42 col0\" >0.000000</td>\n",
       "            </tr>\n",
       "            <tr>\n",
       "                        <th id=\"T_56cd5_level0_row43\" class=\"row_heading level0 row43\" >secondary_cleaner.state.floatbank4_a_level</th>\n",
       "                        <td id=\"T_56cd5_row43_col0\" class=\"data row43 col0\" >0.000000</td>\n",
       "            </tr>\n",
       "            <tr>\n",
       "                        <th id=\"T_56cd5_level0_row44\" class=\"row_heading level0 row44\" >rougher.output.recovery</th>\n",
       "                        <td id=\"T_56cd5_row44_col0\" class=\"data row44 col0\" >0.000000</td>\n",
       "            </tr>\n",
       "            <tr>\n",
       "                        <th id=\"T_56cd5_level0_row45\" class=\"row_heading level0 row45\" >date</th>\n",
       "                        <td id=\"T_56cd5_row45_col0\" class=\"data row45 col0\" >0.000000</td>\n",
       "            </tr>\n",
       "            <tr>\n",
       "                        <th id=\"T_56cd5_level0_row46\" class=\"row_heading level0 row46\" >rougher.input.feed_au</th>\n",
       "                        <td id=\"T_56cd5_row46_col0\" class=\"data row46 col0\" >0.000000</td>\n",
       "            </tr>\n",
       "            <tr>\n",
       "                        <th id=\"T_56cd5_level0_row47\" class=\"row_heading level0 row47\" >primary_cleaner.input.feed_size</th>\n",
       "                        <td id=\"T_56cd5_row47_col0\" class=\"data row47 col0\" >0.000000</td>\n",
       "            </tr>\n",
       "            <tr>\n",
       "                        <th id=\"T_56cd5_level0_row48\" class=\"row_heading level0 row48\" >rougher.state.floatbank10_f_level</th>\n",
       "                        <td id=\"T_56cd5_row48_col0\" class=\"data row48 col0\" >0.000000</td>\n",
       "            </tr>\n",
       "            <tr>\n",
       "                        <th id=\"T_56cd5_level0_row49\" class=\"row_heading level0 row49\" >rougher.state.floatbank10_f_air</th>\n",
       "                        <td id=\"T_56cd5_row49_col0\" class=\"data row49 col0\" >0.000000</td>\n",
       "            </tr>\n",
       "            <tr>\n",
       "                        <th id=\"T_56cd5_level0_row50\" class=\"row_heading level0 row50\" >rougher.state.floatbank10_e_level</th>\n",
       "                        <td id=\"T_56cd5_row50_col0\" class=\"data row50 col0\" >0.000000</td>\n",
       "            </tr>\n",
       "            <tr>\n",
       "                        <th id=\"T_56cd5_level0_row51\" class=\"row_heading level0 row51\" >rougher.state.floatbank10_d_level</th>\n",
       "                        <td id=\"T_56cd5_row51_col0\" class=\"data row51 col0\" >0.000000</td>\n",
       "            </tr>\n",
       "            <tr>\n",
       "                        <th id=\"T_56cd5_level0_row52\" class=\"row_heading level0 row52\" >rougher.state.floatbank10_d_air</th>\n",
       "                        <td id=\"T_56cd5_row52_col0\" class=\"data row52 col0\" >0.000000</td>\n",
       "            </tr>\n",
       "            <tr>\n",
       "                        <th id=\"T_56cd5_level0_row53\" class=\"row_heading level0 row53\" >rougher.input.feed_ag</th>\n",
       "                        <td id=\"T_56cd5_row53_col0\" class=\"data row53 col0\" >0.000000</td>\n",
       "            </tr>\n",
       "            <tr>\n",
       "                        <th id=\"T_56cd5_level0_row54\" class=\"row_heading level0 row54\" >final.output.recovery</th>\n",
       "                        <td id=\"T_56cd5_row54_col0\" class=\"data row54 col0\" >0.000000</td>\n",
       "            </tr>\n",
       "    </tbody></table>"
      ],
      "text/plain": [
       "<pandas.io.formats.style.Styler at 0x7fec2241e610>"
      ]
     },
     "execution_count": 21,
     "metadata": {},
     "output_type": "execute_result"
    }
   ],
   "source": [
    "pd.DataFrame(round(data_test.isna().mean().sort_values(ascending=False)*100,1)).style.background_gradient('coolwarm')"
   ]
  },
  {
   "cell_type": "code",
   "execution_count": 22,
   "metadata": {},
   "outputs": [],
   "source": [
    "data_test = data_test.dropna()"
   ]
  },
  {
   "cell_type": "markdown",
   "metadata": {},
   "source": [
    "Обновим индексы в датасетах"
   ]
  },
  {
   "cell_type": "code",
   "execution_count": 23,
   "metadata": {},
   "outputs": [],
   "source": [
    "data_full = data_full.reset_index(drop=True)\n",
    "data_train = data_train.reset_index(drop=True)\n",
    "data_test = data_test.reset_index(drop=True)"
   ]
  },
  {
   "cell_type": "markdown",
   "metadata": {},
   "source": [
    "Проверим датафреймы на явные дубликаты"
   ]
  },
  {
   "cell_type": "code",
   "execution_count": 24,
   "metadata": {},
   "outputs": [
    {
     "data": {
      "text/plain": [
       "0"
      ]
     },
     "execution_count": 24,
     "metadata": {},
     "output_type": "execute_result"
    }
   ],
   "source": [
    "data_full.duplicated().sum()"
   ]
  },
  {
   "cell_type": "code",
   "execution_count": 25,
   "metadata": {},
   "outputs": [
    {
     "data": {
      "text/plain": [
       "0"
      ]
     },
     "execution_count": 25,
     "metadata": {},
     "output_type": "execute_result"
    }
   ],
   "source": [
    "data_train.duplicated().sum()"
   ]
  },
  {
   "cell_type": "code",
   "execution_count": 26,
   "metadata": {},
   "outputs": [
    {
     "data": {
      "text/plain": [
       "0"
      ]
     },
     "execution_count": 26,
     "metadata": {},
     "output_type": "execute_result"
    }
   ],
   "source": [
    "data_test.duplicated().sum()"
   ]
  },
  {
   "cell_type": "markdown",
   "metadata": {},
   "source": [
    "Явные дубликаты отсутсвуют. Можно приступить к анализу данных"
   ]
  },
  {
   "cell_type": "markdown",
   "metadata": {},
   "source": [
    "## Анализ данных"
   ]
  },
  {
   "cell_type": "markdown",
   "metadata": {},
   "source": [
    "<h3>Изменения концентрации металлов на различных этапах</h3>"
   ]
  },
  {
   "cell_type": "markdown",
   "metadata": {},
   "source": [
    "Посмотрим, как меняется концентрация металлов (Au, Ag, Pb) на различных этапах: в сырье, в черновом концентрате, в концентрате после первой очистки и в финальном концентрате."
   ]
  },
  {
   "cell_type": "markdown",
   "metadata": {},
   "source": [
    "Для золота"
   ]
  },
  {
   "cell_type": "code",
   "execution_count": 27,
   "metadata": {},
   "outputs": [
    {
     "data": {
      "image/png": "[encoded data removed]",
      "text/plain": [
       "<Figure size 864x360 with 1 Axes>"
      ]
     },
     "metadata": {
      "needs_background": "light"
     },
     "output_type": "display_data"
    }
   ],
   "source": [
    "cols = ['rougher.input.feed_au', 'rougher.output.concentrate_au', 'primary_cleaner.output.concentrate_au', 'final.output.concentrate_au']\n",
    "for col in cols:\n",
    "    data_full[col].plot(kind='hist', bins=50, alpha=0.5, figsize=(12,5))\n",
    "plt.title('Изменение концентрации золота на различных этапах')\n",
    "plt.xlabel('Концентрация золота, %')\n",
    "plt.ylabel('Частота')\n",
    "plt.legend()\n",
    "plt.show()"
   ]
  },
  {
   "cell_type": "markdown",
   "metadata": {},
   "source": [
    "**Вывод:** можно заметить, что для каждого признака образуются выбросы (значения, близкие к нулю). Концентрация золота на этапе исходного сырья варьируется в основном от 7 до 11, после флотации - от 18 до 23, после первичной отчистки - от 30 до 35, а финальный концентрат - от 44 до 46. Таким образом, концентрация золота возрастает. "
   ]
  },
  {
   "cell_type": "markdown",
   "metadata": {},
   "source": [
    "Для серебра"
   ]
  },
  {
   "cell_type": "code",
   "execution_count": 28,
   "metadata": {},
   "outputs": [
    {
     "data": {
      "image/png": "[encoded data removed]",
      "text/plain": [
       "<Figure size 864x360 with 1 Axes>"
      ]
     },
     "metadata": {
      "needs_background": "light"
     },
     "output_type": "display_data"
    }
   ],
   "source": [
    "cols = ['rougher.input.feed_ag', 'rougher.output.concentrate_ag', 'primary_cleaner.output.concentrate_ag', 'final.output.concentrate_ag']\n",
    "for col in cols:\n",
    "    data_full[col].plot(kind='hist', bins=50, alpha=0.5, figsize=(12,5))\n",
    "plt.title('Изменение концентрации серебра на различных этапах')\n",
    "plt.xlabel('Концентрация серебра, %')\n",
    "plt.ylabel('Частота')\n",
    "plt.legend()\n",
    "plt.show()"
   ]
  },
  {
   "cell_type": "markdown",
   "metadata": {},
   "source": [
    "**Вывод:**  для каждого признака образуются выбросы (значения, близкие к нулю), аналогично концентрату золота. Концентрация серебра на этапе исходного сырья варьируется в основном от 7 до 11, после флотации - от 10 до 15, после первичной отчистки - от 6 до 11, а финальный концентрат - от 3 до 6. Конуентрация серебра, в свою очередь, начинает снижаться. "
   ]
  },
  {
   "cell_type": "markdown",
   "metadata": {},
   "source": [
    "Для свинца"
   ]
  },
  {
   "cell_type": "code",
   "execution_count": 29,
   "metadata": {},
   "outputs": [
    {
     "data": {
      "image/png": "[encoded data removed]",
      "text/plain": [
       "<Figure size 864x360 with 1 Axes>"
      ]
     },
     "metadata": {
      "needs_background": "light"
     },
     "output_type": "display_data"
    }
   ],
   "source": [
    "cols = ['rougher.input.feed_pb', 'rougher.output.concentrate_pb', 'primary_cleaner.output.concentrate_pb', 'final.output.concentrate_pb']\n",
    "for col in cols:\n",
    "    data_full[col].plot(kind='hist', bins=50, alpha=0.5, figsize=(12,5))\n",
    "plt.title('Изменение концентрации свинца на различных этапах')\n",
    "plt.xlabel('Концентрация свинца, %')\n",
    "plt.ylabel('Частота')\n",
    "plt.legend()\n",
    "plt.show()"
   ]
  },
  {
   "cell_type": "markdown",
   "metadata": {},
   "source": [
    "**Вывод:** для каждого признака образуются выбросы (значения, близкие к нулю). Концентрация свинца на этапе исходного сырья варьируется в основном от 2.5 до 4.5, после флотации - от 7 до 9, после первичной отчистки - от 9 до 11, а финальный концентрат - от 9 до 11. Конуентрация свинца увеличивается."
   ]
  },
  {
   "cell_type": "markdown",
   "metadata": {},
   "source": [
    "<h3>Удаление выбросов</h3>"
   ]
  },
  {
   "cell_type": "markdown",
   "metadata": {},
   "source": [
    "Посмотрим на выбросы для концентрации золота"
   ]
  },
  {
   "cell_type": "code",
   "execution_count": 30,
   "metadata": {},
   "outputs": [
    {
     "data": {
      "image/png": "[encoded data removed]",
      "text/plain": [
       "<Figure size 432x288 with 1 Axes>"
      ]
     },
     "metadata": {
      "needs_background": "light"
     },
     "output_type": "display_data"
    }
   ],
   "source": [
    "data_full.boxplot(column=['rougher.input.feed_au'])\n",
    "plt.title('Ящих с усами для концентрации золота на этапе исходного сырья')\n",
    "plt.ylabel('Концентрация золота на этапе исходного сырья', fontsize=8)\n",
    "plt.show();"
   ]
  },
  {
   "cell_type": "code",
   "execution_count": 31,
   "metadata": {},
   "outputs": [
    {
     "data": {
      "image/png": "[encoded data removed]",
      "text/plain": [
       "<Figure size 432x288 with 1 Axes>"
      ]
     },
     "metadata": {
      "needs_background": "light"
     },
     "output_type": "display_data"
    }
   ],
   "source": [
    "data_full.boxplot(column=['rougher.output.concentrate_au'])\n",
    "plt.title('Ящих с усами для концентрации золота после флотации')\n",
    "plt.ylabel('Концентрация золота после флотации')\n",
    "plt.show()"
   ]
  },
  {
   "cell_type": "code",
   "execution_count": 32,
   "metadata": {},
   "outputs": [
    {
     "data": {
      "image/png": "[encoded data removed]",
      "text/plain": [
       "<Figure size 432x288 with 1 Axes>"
      ]
     },
     "metadata": {
      "needs_background": "light"
     },
     "output_type": "display_data"
    }
   ],
   "source": [
    "data_full.boxplot(column=['primary_cleaner.output.concentrate_au'])\n",
    "plt.title('Ящих с усами для концентрации золота после первичной отчистки')\n",
    "plt.ylabel('Концентрация золота после первичной отчистки', fontsize=8)\n",
    "plt.show()"
   ]
  },
  {
   "cell_type": "code",
   "execution_count": 33,
   "metadata": {},
   "outputs": [
    {
     "data": {
      "image/png": "[encoded data removed]",
      "text/plain": [
       "<Figure size 432x288 with 1 Axes>"
      ]
     },
     "metadata": {
      "needs_background": "light"
     },
     "output_type": "display_data"
    }
   ],
   "source": [
    "data_full.boxplot(column=['final.output.concentrate_au'])\n",
    "plt.title('Ящих с усами для финального концентрата золота')\n",
    "plt.ylabel('Финальная концентрация золота')\n",
    "plt.show()"
   ]
  },
  {
   "cell_type": "code",
   "execution_count": 34,
   "metadata": {},
   "outputs": [],
   "source": [
    "data_full = data_full[data_full['rougher.input.feed_au'] >= 1.5]\n",
    "data_train = data_train[data_train['rougher.input.feed_au'] >= 1.5]\n",
    "data_full = data_full[(data_full['rougher.output.concentrate_au'] > 1.5)]\n",
    "data_train = data_train[(data_train['rougher.output.concentrate_au'] > 1.5)]\n",
    "data_full = data_full[(data_full['primary_cleaner.output.concentrate_au'] > 1.5)]\n",
    "data_train = data_train[(data_train['primary_cleaner.output.concentrate_au'] > 1.5)]\n",
    "data_full = data_full[(data_full['final.output.concentrate_au'] > 1.5)]\n",
    "data_train = data_train[(data_train['final.output.concentrate_au'] > 1.5)]"
   ]
  },
  {
   "cell_type": "markdown",
   "metadata": {},
   "source": [
    "Посмотрим на выбросы для концентрации серебра"
   ]
  },
  {
   "cell_type": "code",
   "execution_count": 35,
   "metadata": {},
   "outputs": [
    {
     "data": {
      "image/png": "[encoded data removed]",
      "text/plain": [
       "<Figure size 432x288 with 1 Axes>"
      ]
     },
     "metadata": {
      "needs_background": "light"
     },
     "output_type": "display_data"
    }
   ],
   "source": [
    "data_train.boxplot(column=['rougher.input.feed_ag'])\n",
    "plt.title('Ящих с усами для концентрации серебра на этапе исходного сырья')\n",
    "plt.ylabel('Концентрация серебра на этапе исходного сырья', fontsize=8)\n",
    "plt.show();"
   ]
  },
  {
   "cell_type": "code",
   "execution_count": 36,
   "metadata": {},
   "outputs": [
    {
     "data": {
      "image/png": "[encoded data removed]",
      "text/plain": [
       "<Figure size 432x288 with 1 Axes>"
      ]
     },
     "metadata": {
      "needs_background": "light"
     },
     "output_type": "display_data"
    }
   ],
   "source": [
    "data_train.boxplot(column=['rougher.output.concentrate_ag'])\n",
    "plt.title('Ящих с усами для концентрации серебра после флотации')\n",
    "plt.ylabel('Концентрация серебра после флотации')\n",
    "plt.show()"
   ]
  },
  {
   "cell_type": "code",
   "execution_count": 37,
   "metadata": {},
   "outputs": [
    {
     "data": {
      "image/png": "[encoded data removed]",
      "text/plain": [
       "<Figure size 432x288 with 1 Axes>"
      ]
     },
     "metadata": {
      "needs_background": "light"
     },
     "output_type": "display_data"
    }
   ],
   "source": [
    "data_train.boxplot(column=['primary_cleaner.output.concentrate_ag'])\n",
    "plt.title('Ящих с усами для концентрации серебра после первичной отчистки')\n",
    "plt.ylabel('Концентрация серебра после первичной отчистки', fontsize=8)\n",
    "plt.show()"
   ]
  },
  {
   "cell_type": "code",
   "execution_count": 38,
   "metadata": {},
   "outputs": [
    {
     "data": {
      "image/png": "[encoded data removed]",
      "text/plain": [
       "<Figure size 432x288 with 1 Axes>"
      ]
     },
     "metadata": {
      "needs_background": "light"
     },
     "output_type": "display_data"
    }
   ],
   "source": [
    "data_train.boxplot(column=['final.output.concentrate_ag'])\n",
    "plt.title('Ящих с усами для финального концентрата серебра')\n",
    "plt.ylabel('Финальная концентрация серебра')\n",
    "plt.show()"
   ]
  },
  {
   "cell_type": "code",
   "execution_count": 39,
   "metadata": {},
   "outputs": [],
   "source": [
    "# Удалим выбросы из полного и тренировочного наборов данных\n",
    "data_full = data_full[data_full['rougher.input.feed_ag'] >= 1.5]\n",
    "data_train = data_train[data_train['rougher.input.feed_ag'] >= 1.5]\n",
    "data_full = data_full[(data_full['rougher.output.concentrate_ag'] > 1.5)]\n",
    "data_train = data_train[(data_train['rougher.output.concentrate_ag'] > 1.5)]\n",
    "data_full = data_full[(data_full['primary_cleaner.output.concentrate_ag'] > 1.5)]\n",
    "data_train = data_train[(data_train['primary_cleaner.output.concentrate_ag'] > 1.5)]\n",
    "data_full = data_full[(data_full['final.output.concentrate_ag'] > 1.5)]\n",
    "data_train = data_train[(data_train['final.output.concentrate_ag'] > 1.5)]"
   ]
  },
  {
   "cell_type": "markdown",
   "metadata": {},
   "source": [
    "Посмотрим на выбросы для концентрации свинца"
   ]
  },
  {
   "cell_type": "code",
   "execution_count": 40,
   "metadata": {},
   "outputs": [
    {
     "data": {
      "image/png": "[encoded data removed]",
      "text/plain": [
       "<Figure size 432x288 with 1 Axes>"
      ]
     },
     "metadata": {
      "needs_background": "light"
     },
     "output_type": "display_data"
    }
   ],
   "source": [
    "data_train.boxplot(column=['rougher.input.feed_pb'])\n",
    "plt.title('Ящих с усами для концентрации свинца на этапе исходного сырья')\n",
    "plt.ylabel('Концентрация свинца на этапе исходного сырья', fontsize=8)\n",
    "plt.show();"
   ]
  },
  {
   "cell_type": "code",
   "execution_count": 41,
   "metadata": {},
   "outputs": [
    {
     "data": {
      "image/png": "[encoded data removed]",
      "text/plain": [
       "<Figure size 432x288 with 1 Axes>"
      ]
     },
     "metadata": {
      "needs_background": "light"
     },
     "output_type": "display_data"
    }
   ],
   "source": [
    "data_train.boxplot(column=['rougher.output.concentrate_pb'])\n",
    "plt.title('Ящих с усами для концентрации свинца после флотации')\n",
    "plt.ylabel('Концентрация свинца после флотации')\n",
    "plt.show()"
   ]
  },
  {
   "cell_type": "code",
   "execution_count": 42,
   "metadata": {},
   "outputs": [
    {
     "data": {
      "image/png": "[encoded data removed]",
      "text/plain": [
       "<Figure size 432x288 with 1 Axes>"
      ]
     },
     "metadata": {
      "needs_background": "light"
     },
     "output_type": "display_data"
    }
   ],
   "source": [
    "data_train.boxplot(column=['primary_cleaner.output.concentrate_pb'])\n",
    "plt.title('Ящих с усами для концентрации свинца после первичной отчистки')\n",
    "plt.ylabel('Концентрация свинца после первичной отчистки', fontsize=8)\n",
    "plt.show()"
   ]
  },
  {
   "cell_type": "code",
   "execution_count": 43,
   "metadata": {},
   "outputs": [
    {
     "data": {
      "image/png": "[encoded data removed]",
      "text/plain": [
       "<Figure size 432x288 with 1 Axes>"
      ]
     },
     "metadata": {
      "needs_background": "light"
     },
     "output_type": "display_data"
    }
   ],
   "source": [
    "data_train.boxplot(column=['final.output.concentrate_pb'])\n",
    "plt.title('Ящих с усами для финального концентрата свинца')\n",
    "plt.ylabel('Финальная концентрация свинца')\n",
    "plt.show()"
   ]
  },
  {
   "cell_type": "code",
   "execution_count": 44,
   "metadata": {},
   "outputs": [],
   "source": [
    "# Удалим выбросы из полного и тренировочного наборов данных\n",
    "data_full = data_full[data_full['rougher.input.feed_pb'] >= 1.5]\n",
    "data_train = data_train[data_train['rougher.input.feed_pb'] >= 1.5]\n",
    "data_full = data_full[(data_full['rougher.output.concentrate_pb'] > 1.5)]\n",
    "data_train = data_train[(data_train['rougher.output.concentrate_pb'] > 1.5)]\n",
    "data_full = data_full[(data_full['primary_cleaner.output.concentrate_pb'] > 1.5)]\n",
    "data_train = data_train[(data_train['primary_cleaner.output.concentrate_pb'] > 1.5)]\n",
    "data_full = data_full[(data_full['final.output.concentrate_pb'] > 1.5)]\n",
    "data_train = data_train[(data_train['final.output.concentrate_pb'] > 1.5)]"
   ]
  },
  {
   "cell_type": "markdown",
   "metadata": {},
   "source": [
    "<h3>Распределения размеров гранул</h3>"
   ]
  },
  {
   "cell_type": "markdown",
   "metadata": {},
   "source": [
    "Сравним распределения размеров гранул исходного сырья на обучающей и тестовой выборках. "
   ]
  },
  {
   "cell_type": "code",
   "execution_count": 45,
   "metadata": {},
   "outputs": [
    {
     "data": {
      "image/png": "[encoded data removed]",
      "text/plain": [
       "<Figure size 432x288 with 1 Axes>"
      ]
     },
     "metadata": {
      "needs_background": "light"
     },
     "output_type": "display_data"
    }
   ],
   "source": [
    "sns.histplot(data=data_train['rougher.input.feed_size'], stat='density', bins=50, alpha=0.5, color='green')\n",
    "sns.histplot(data=data_test['rougher.input.feed_size'], stat='density', bins=50, alpha=0.5, color='red')\n",
    "sns.set(rc={\"figure.figsize\":(8, 5)})\n",
    "plt.legend(labels=['Тестовая выборка', 'Тренировочная выборка'])\n",
    "plt.title('Распределения размеров гранул исходного сырья на обучающей и тестовой выборках на этапе флотации')\n",
    "plt.ylabel('Плотность');\n",
    "plt.xlabel('Размер гранул');"
   ]
  },
  {
   "cell_type": "markdown",
   "metadata": {},
   "source": [
    "<h3>Суммарная концентрация металлов</h3>"
   ]
  },
  {
   "cell_type": "markdown",
   "metadata": {},
   "source": [
    "Исследуем суммарную концентрацию металлов на разных стадиях: в сырье, в черновом концентрате, в концентрате после первой очистки и в финальном концентрате."
   ]
  },
  {
   "cell_type": "code",
   "execution_count": 46,
   "metadata": {},
   "outputs": [
    {
     "data": {
      "image/png": "[encoded data removed]",
      "text/plain": [
       "<Figure size 576x360 with 1 Axes>"
      ]
     },
     "metadata": {},
     "output_type": "display_data"
    }
   ],
   "source": [
    "#В сырье\n",
    "(data_full['rougher.input.feed_au'] + data_full['rougher.input.feed_ag'] + data_full['rougher.input.feed_pb']).hist(bins=50)\n",
    "plt.xlabel('Суммарная концентрация металлов в сырье')\n",
    "plt.ylabel('Количество наблюдений')\n",
    "plt.show();"
   ]
  },
  {
   "cell_type": "code",
   "execution_count": 47,
   "metadata": {},
   "outputs": [
    {
     "data": {
      "image/png": "[encoded data removed]",
      "text/plain": [
       "<Figure size 576x360 with 1 Axes>"
      ]
     },
     "metadata": {},
     "output_type": "display_data"
    }
   ],
   "source": [
    "# В черновом концентрате\n",
    "(data_full['rougher.input.feed_au'] + data_full['rougher.input.feed_ag'] + data_full['rougher.output.concentrate_pb']).hist(bins=50)\n",
    "plt.xlabel('Суммарная концентрация металлов в черновом концентрате')\n",
    "plt.ylabel('Количество наблюдений')\n",
    "plt.show()"
   ]
  },
  {
   "cell_type": "code",
   "execution_count": 48,
   "metadata": {},
   "outputs": [
    {
     "data": {
      "image/png": "[encoded data removed]",
      "text/plain": [
       "<Figure size 576x360 with 1 Axes>"
      ]
     },
     "metadata": {},
     "output_type": "display_data"
    }
   ],
   "source": [
    "# В концентрате после первой очистки\n",
    "(data_full['primary_cleaner.output.concentrate_au'] + data_full['primary_cleaner.output.concentrate_ag'] + data_full['primary_cleaner.output.concentrate_pb']).hist(bins=50)\n",
    "plt.xlabel('Суммарная концентрация металлов после первой отчистки')\n",
    "plt.ylabel('Количество наблюдений')\n",
    "plt.show()"
   ]
  },
  {
   "cell_type": "code",
   "execution_count": 49,
   "metadata": {},
   "outputs": [
    {
     "data": {
      "image/png": "[encoded data removed]",
      "text/plain": [
       "<Figure size 576x360 with 1 Axes>"
      ]
     },
     "metadata": {},
     "output_type": "display_data"
    }
   ],
   "source": [
    "# В финальном концентрате\n",
    "(data_full['final.output.concentrate_au'] + data_full['final.output.concentrate_ag'] + data_full['final.output.concentrate_pb']).hist(bins=50)\n",
    "plt.xlabel('Суммарная концентрация металлов в финальном концентрате')\n",
    "plt.ylabel('Количество наблюдений')\n",
    "plt.show()"
   ]
  },
  {
   "cell_type": "markdown",
   "metadata": {},
   "source": [
    "**Вывод:** суммарная концентрация веществ достигает: в сырье - 16-26, в черновом концентрате - 21-29, в концентрате после первой очистки - 51-53, в финальном концентрате - 59-61.5\n",
    "Можно заметить, что финальная концентрация больше исходной в 2.3-3.6 раз. "
   ]
  },
  {
   "cell_type": "markdown",
   "metadata": {},
   "source": [
    "## Модель"
   ]
  },
  {
   "cell_type": "markdown",
   "metadata": {},
   "source": [
    "Напишем функцию для вычисления sMAPE"
   ]
  },
  {
   "cell_type": "code",
   "execution_count": 50,
   "metadata": {},
   "outputs": [],
   "source": [
    "def smape(true_values, predicted_values):\n",
    "    res = abs(true_values - predicted_values) / ((abs(true_values) + abs(predicted_values)) / 2) * 100\n",
    "    #res = res.fillna(value=0)\n",
    "    res = sum(res) / len(res)\n",
    "    return res"
   ]
  },
  {
   "cell_type": "code",
   "execution_count": 51,
   "metadata": {},
   "outputs": [],
   "source": [
    "def smape_scorer(estimator, X, y):\n",
    "    return smape(estimator.predict(X), y)"
   ]
  },
  {
   "cell_type": "code",
   "execution_count": 52,
   "metadata": {},
   "outputs": [],
   "source": [
    "#Вычислим итоговое sMAPE\n",
    "def smape_final(rougher, final):\n",
    "    return 0.25 * rougher + 0.75 * final"
   ]
  },
  {
   "cell_type": "markdown",
   "metadata": {},
   "source": [
    "Подготовим данные для построения модели"
   ]
  },
  {
   "cell_type": "code",
   "execution_count": 53,
   "metadata": {},
   "outputs": [],
   "source": [
    "# Удалим столбец с датой, так как он не нужен для построения моделей\n",
    "data_train = data_train.drop(columns=['date'])\n",
    "data_test = data_test.drop(columns=['date'])"
   ]
  },
  {
   "cell_type": "code",
   "execution_count": 54,
   "metadata": {},
   "outputs": [],
   "source": [
    "# Удалим из тренировочной выборке те признаки, которых нет в тестовой\n",
    "data_train = data_train.drop(columns=difference_final)"
   ]
  },
  {
   "cell_type": "code",
   "execution_count": 55,
   "metadata": {},
   "outputs": [],
   "source": [
    "#Обновим индексы в наборах данных\n",
    "data_full = data_full.reset_index(drop=True)\n",
    "data_train = data_train.reset_index(drop=True)\n",
    "data_test = data_test.reset_index(drop=True)"
   ]
  },
  {
   "cell_type": "code",
   "execution_count": 56,
   "metadata": {},
   "outputs": [],
   "source": [
    "# Определим target и features\n",
    "features_train_rougher = data_train.filter(regex='^rougher',axis=1)\n",
    "features_train_rougher = features_train_rougher.drop(columns=['rougher.output.recovery'])\n",
    "features_train_final = data_train.drop(columns=['rougher.output.recovery', 'final.output.recovery'])\n",
    "target_train_rougher = data_train['rougher.output.recovery']\n",
    "target_train_final = data_train['final.output.recovery']"
   ]
  },
  {
   "cell_type": "code",
   "execution_count": 57,
   "metadata": {},
   "outputs": [],
   "source": [
    "state = np.random.RandomState(12345)"
   ]
  },
  {
   "cell_type": "code",
   "execution_count": 58,
   "metadata": {},
   "outputs": [],
   "source": [
    "# Произведем масштабирование признаков\n",
    "scaler_r = StandardScaler()\n",
    "scaler_r.fit(features_train_rougher) \n",
    "features_train_rougher = scaler_r.transform(features_train_rougher)"
   ]
  },
  {
   "cell_type": "code",
   "execution_count": 59,
   "metadata": {},
   "outputs": [],
   "source": [
    "scaler_f = StandardScaler()\n",
    "scaler_f.fit(features_train_final) \n",
    "features_train_final = scaler_f.transform(features_train_final)"
   ]
  },
  {
   "cell_type": "markdown",
   "metadata": {},
   "source": [
    "Построим модель линейной регрессии"
   ]
  },
  {
   "cell_type": "code",
   "execution_count": 60,
   "metadata": {},
   "outputs": [
    {
     "name": "stdout",
     "output_type": "stream",
     "text": [
      "Метрика sMAPE: 8.345377621566465\n"
     ]
    }
   ],
   "source": [
    "model_linear = LinearRegression()\n",
    "scores_rougher = cross_val_score(model_linear, features_train_rougher, target_train_rougher, scoring=smape_scorer)\n",
    "rougher_score = np.array(scores_rougher).mean()\n",
    "scores_final = cross_val_score(model_linear, features_train_final, target_train_final, scoring=smape_scorer)\n",
    "final_score = np.array(scores_final).mean()\n",
    "print('Метрика sMAPE:', abs(smape_final(rougher_score, final_score)))"
   ]
  },
  {
   "cell_type": "markdown",
   "metadata": {},
   "source": [
    "Построим модель дерева принятия решений"
   ]
  },
  {
   "cell_type": "code",
   "execution_count": 61,
   "metadata": {},
   "outputs": [],
   "source": [
    "best_model_tree = None\n",
    "best_smape_tree = 10000\n",
    "best_depth_tree = 0\n",
    "for depth in range(1, 16):\n",
    "    model = DecisionTreeRegressor(random_state=state, max_depth=depth)\n",
    "    scores_rougher = cross_val_score(model, features_train_rougher, target_train_rougher, scoring=smape_scorer)\n",
    "    scores_final = cross_val_score(model, features_train_final, target_train_final, scoring=smape_scorer)\n",
    "    score_rougher = np.array(scores_rougher).mean()\n",
    "    score_final = np.array(scores_final).mean()\n",
    "    score = abs(smape_final(score_rougher, score_final))\n",
    "    if score < best_smape_tree:\n",
    "        best_model_tree = model\n",
    "        best_smape_tree = score\n",
    "        best_depth_tree = depth"
   ]
  },
  {
   "cell_type": "code",
   "execution_count": 62,
   "metadata": {},
   "outputs": [
    {
     "name": "stdout",
     "output_type": "stream",
     "text": [
      "Метрика sMAPE: 7.604047815015989\n",
      "Лучшая глубина дерева 2\n"
     ]
    }
   ],
   "source": [
    "print('Метрика sMAPE:', best_smape_tree)\n",
    "print('Лучшая глубина дерева', best_depth_tree)"
   ]
  },
  {
   "cell_type": "markdown",
   "metadata": {},
   "source": [
    "Построим модель случйного леса"
   ]
  },
  {
   "cell_type": "code",
   "execution_count": 63,
   "metadata": {},
   "outputs": [],
   "source": [
    "best_model_forest = None\n",
    "best_est_forest = 0\n",
    "best_depth_forest = 0 \n",
    "best_res_forest = 10000\n",
    "for depth in range(1, 6):\n",
    "    for est in range(1, 41, 10):\n",
    "        model = RandomForestRegressor(random_state=state, n_estimators=est, max_depth=depth)\n",
    "        score_rougher = cross_val_score(model, features_train_rougher, target_train_rougher, scoring=smape_scorer)\n",
    "        score_rougher = np.array(score_rougher).mean()\n",
    "        score_final = cross_val_score(model, features_train_final, target_train_final, scoring=smape_scorer)\n",
    "        score_final = np.array(score_final).mean()\n",
    "        score = abs(smape_final(score_rougher, score_final))\n",
    "        if score < best_res_forest:\n",
    "            best_model_forest = model\n",
    "            best_est_forest = est\n",
    "            best_depth_forest = depth\n",
    "            best_res_forest = score"
   ]
  },
  {
   "cell_type": "code",
   "execution_count": 64,
   "metadata": {},
   "outputs": [
    {
     "name": "stdout",
     "output_type": "stream",
     "text": [
      "Лучшая глубина леса: 11\n",
      "Лучшая глубина дерева в лесу: 2\n",
      "Лучшая метрика sMAPE: 7.399283546741981\n"
     ]
    }
   ],
   "source": [
    "print('Лучшая глубина леса:', best_est_forest)\n",
    "print('Лучшая глубина дерева в лесу:', best_depth_forest)\n",
    "print('Лучшая метрика sMAPE:', best_res_forest)"
   ]
  },
  {
   "cell_type": "markdown",
   "metadata": {},
   "source": [
    "Таким образом, получили, что лучшая модель - модель случайного леса принятия решения (с глубиной дерева - 2, глубиной леса -11). Проверим данную модель на тестовой выборке."
   ]
  },
  {
   "cell_type": "code",
   "execution_count": 65,
   "metadata": {},
   "outputs": [],
   "source": [
    "features_test_rougher = data_test.filter(regex='^rougher',axis=1)\n",
    "features_test_rougher = features_test_rougher.drop(columns=['rougher.output.recovery'])\n",
    "features_test_final = data_test.drop(columns=['rougher.output.recovery', 'final.output.recovery'])\n",
    "target_test_rougher = data_test['rougher.output.recovery']\n",
    "target_test_final = data_test['final.output.recovery']"
   ]
  },
  {
   "cell_type": "code",
   "execution_count": 66,
   "metadata": {},
   "outputs": [],
   "source": [
    "# Произведем масштабирование признаков для тестовой выборки\n",
    "features_test_rougher = scaler_r.transform(features_test_rougher)"
   ]
  },
  {
   "cell_type": "code",
   "execution_count": 67,
   "metadata": {},
   "outputs": [],
   "source": [
    "features_test_final = scaler_f.transform(features_test_final)"
   ]
  },
  {
   "cell_type": "code",
   "execution_count": 68,
   "metadata": {},
   "outputs": [
    {
     "name": "stdout",
     "output_type": "stream",
     "text": [
      "Итоговое значение метрики sMAPE: 7.343746922423792\n"
     ]
    }
   ],
   "source": [
    "model_rougher = RandomForestRegressor(random_state=state, n_estimators=11, max_depth=2)\n",
    "model_final = RandomForestRegressor(random_state=state, n_estimators=11, max_depth=2)\n",
    "\n",
    "model_rougher.fit(features_train_rougher, target_train_rougher)\n",
    "model_final.fit(features_train_final, target_train_final)\n",
    "\n",
    "test_predictions_rougher = model_rougher.predict(features_test_rougher)\n",
    "test_predictions_final = model_final.predict(features_test_final)\n",
    "\n",
    "smape_rougher = smape(target_test_rougher, test_predictions_rougher)\n",
    "final_smape = smape(target_test_final, test_predictions_final)\n",
    "print('Итоговое значение метрики sMAPE:', smape_final(smape_rougher, final_smape))"
   ]
  },
  {
   "cell_type": "markdown",
   "metadata": {},
   "source": [
    "Проверим модель на адекватность"
   ]
  },
  {
   "cell_type": "code",
   "execution_count": 69,
   "metadata": {},
   "outputs": [],
   "source": [
    "dummy_rougher = DummyRegressor(strategy=\"mean\")\n",
    "dummy_final = DummyRegressor(strategy=\"mean\")\n",
    "\n",
    "dummy_rougher.fit(features_train_rougher, target_train_rougher)\n",
    "dummy_final.fit(features_train_final, target_train_final)\n",
    "\n",
    "dummy_predicted_rougher = dummy_rougher.predict(features_train_rougher)\n",
    "dummy_predicted_final = dummy_final.predict(features_train_final)\n",
    "\n",
    "smape_r = smape(target_train_rougher, dummy_predicted_rougher)\n",
    "smape_f = smape(target_train_final, dummy_predicted_final)\n"
   ]
  },
  {
   "cell_type": "code",
   "execution_count": 70,
   "metadata": {},
   "outputs": [
    {
     "name": "stdout",
     "output_type": "stream",
     "text": [
      "7.9668345854541975\n"
     ]
    }
   ],
   "source": [
    "print(smape_final(smape_r, smape_f))"
   ]
  },
  {
   "cell_type": "markdown",
   "metadata": {},
   "source": [
    "Метрика sMAPE итоговой модели оказалась ниже метрики sMAPE для случайной модели. "
   ]
  },
  {
   "cell_type": "markdown",
   "metadata": {},
   "source": [
    "**Вывод:** в результате работы была проведена подготовка данных (удалены пропущенные значения, выбросы), посмотрели, как изменяется концентрация металлов золота, серебра и свинца, а также суммарная концентрация металлов,  на различных этапах производства. Были построены модель предсказания эффективности обогащения чернового концентрата и эффективности обогащения финального концентрата. Наиболее удачной оказалась модель случайного леса, с глубиной дерева, равной 2, а количеством деревьев в лесу - 11. Метрика sMAPE(симметричное среднее абсолютное процентное отклонение) финальной модели равна 7.3%. "
   ]
  }
 ],
 "metadata": {
  "ExecuteTimeLog": [
   {
    "duration": 444,
    "start_time": "2023-08-30T07:34:34.439Z"
   },
   {
    "duration": 1259,
    "start_time": "2023-08-30T07:35:02.288Z"
   },
   {
    "duration": 29,
    "start_time": "2023-08-30T07:35:03.549Z"
   },
   {
    "duration": 12,
    "start_time": "2023-08-30T07:35:21.630Z"
   },
   {
    "duration": 13,
    "start_time": "2023-08-30T07:35:48.745Z"
   },
   {
    "duration": 11,
    "start_time": "2023-08-30T07:36:00.788Z"
   },
   {
    "duration": 392,
    "start_time": "2023-08-30T07:36:34.335Z"
   },
   {
    "duration": 20,
    "start_time": "2023-08-30T07:36:47.379Z"
   },
   {
    "duration": 7,
    "start_time": "2023-08-30T07:37:09.395Z"
   },
   {
    "duration": 1646,
    "start_time": "2023-08-30T07:37:53.193Z"
   },
   {
    "duration": 20,
    "start_time": "2023-08-30T07:38:05.456Z"
   },
   {
    "duration": 306,
    "start_time": "2023-08-30T07:39:09.043Z"
   },
   {
    "duration": 20,
    "start_time": "2023-08-30T07:39:09.608Z"
   },
   {
    "duration": 92,
    "start_time": "2023-08-30T07:39:10.414Z"
   },
   {
    "duration": 22,
    "start_time": "2023-08-30T07:39:11.082Z"
   },
   {
    "duration": 405,
    "start_time": "2023-08-30T07:39:13.382Z"
   },
   {
    "duration": 20,
    "start_time": "2023-08-30T07:39:13.987Z"
   },
   {
    "duration": 25,
    "start_time": "2023-08-30T07:39:36.598Z"
   },
   {
    "duration": 740,
    "start_time": "2023-08-30T07:40:44.229Z"
   },
   {
    "duration": 103,
    "start_time": "2023-08-30T07:50:11.642Z"
   },
   {
    "duration": 7,
    "start_time": "2023-08-30T07:50:19.230Z"
   },
   {
    "duration": 4,
    "start_time": "2023-08-30T11:04:38.684Z"
   },
   {
    "duration": 325,
    "start_time": "2023-08-30T11:04:39.484Z"
   },
   {
    "duration": 21,
    "start_time": "2023-08-30T11:04:39.904Z"
   },
   {
    "duration": 86,
    "start_time": "2023-08-30T11:04:40.327Z"
   },
   {
    "duration": 21,
    "start_time": "2023-08-30T11:04:41.140Z"
   },
   {
    "duration": 425,
    "start_time": "2023-08-30T11:04:41.869Z"
   },
   {
    "duration": 26,
    "start_time": "2023-08-30T11:04:42.347Z"
   },
   {
    "duration": 10,
    "start_time": "2023-08-30T11:04:43.275Z"
   },
   {
    "duration": 6,
    "start_time": "2023-08-30T11:04:52.284Z"
   },
   {
    "duration": 11,
    "start_time": "2023-08-30T11:05:02.624Z"
   },
   {
    "duration": 11,
    "start_time": "2023-08-30T11:05:10.897Z"
   },
   {
    "duration": 5,
    "start_time": "2023-08-30T11:06:30.187Z"
   },
   {
    "duration": 5,
    "start_time": "2023-08-30T11:06:38.586Z"
   },
   {
    "duration": 9,
    "start_time": "2023-08-30T11:07:02.639Z"
   },
   {
    "duration": 10,
    "start_time": "2023-08-30T11:07:07.735Z"
   },
   {
    "duration": 21,
    "start_time": "2023-08-30T11:08:09.974Z"
   },
   {
    "duration": 17,
    "start_time": "2023-08-30T11:08:55.662Z"
   },
   {
    "duration": 330,
    "start_time": "2023-08-30T11:09:09.657Z"
   },
   {
    "duration": 9,
    "start_time": "2023-08-30T11:10:04.497Z"
   },
   {
    "duration": 4,
    "start_time": "2023-08-30T11:10:13.187Z"
   },
   {
    "duration": 543,
    "start_time": "2023-08-30T11:13:05.087Z"
   },
   {
    "duration": 31,
    "start_time": "2023-08-30T11:14:16.059Z"
   },
   {
    "duration": 5,
    "start_time": "2023-08-30T11:15:31.655Z"
   },
   {
    "duration": 22,
    "start_time": "2023-08-30T11:16:23.374Z"
   },
   {
    "duration": 30,
    "start_time": "2023-08-30T11:16:58.448Z"
   },
   {
    "duration": 19,
    "start_time": "2023-08-30T11:17:13.910Z"
   },
   {
    "duration": 7,
    "start_time": "2023-08-30T11:17:27.134Z"
   },
   {
    "duration": 12,
    "start_time": "2023-08-30T11:17:41.608Z"
   },
   {
    "duration": 5,
    "start_time": "2023-08-30T11:18:19.607Z"
   },
   {
    "duration": 15,
    "start_time": "2023-08-30T11:19:53.728Z"
   },
   {
    "duration": 4,
    "start_time": "2023-08-30T11:19:54.224Z"
   },
   {
    "duration": 147,
    "start_time": "2023-08-30T11:21:48.395Z"
   },
   {
    "duration": 32,
    "start_time": "2023-08-30T11:21:58.947Z"
   },
   {
    "duration": 78,
    "start_time": "2023-08-30T11:22:00.913Z"
   },
   {
    "duration": 15,
    "start_time": "2023-08-30T11:23:08.119Z"
   },
   {
    "duration": 13,
    "start_time": "2023-08-30T11:23:21.524Z"
   },
   {
    "duration": 17,
    "start_time": "2023-08-30T11:23:33.091Z"
   },
   {
    "duration": 1592,
    "start_time": "2023-08-30T11:30:36.670Z"
   },
   {
    "duration": 19,
    "start_time": "2023-08-30T11:31:32.273Z"
   },
   {
    "duration": 196,
    "start_time": "2023-08-30T11:31:57.098Z"
   },
   {
    "duration": 147,
    "start_time": "2023-08-30T13:13:13.055Z"
   },
   {
    "duration": 2,
    "start_time": "2023-08-30T13:14:33.758Z"
   },
   {
    "duration": 129,
    "start_time": "2023-08-30T13:14:56.140Z"
   },
   {
    "duration": 138,
    "start_time": "2023-08-30T13:15:38.173Z"
   },
   {
    "duration": 2,
    "start_time": "2023-08-30T13:17:49.728Z"
   },
   {
    "duration": 121,
    "start_time": "2023-08-30T13:17:52.526Z"
   },
   {
    "duration": 239,
    "start_time": "2023-08-30T13:18:05.832Z"
   },
   {
    "duration": 122,
    "start_time": "2023-08-30T13:18:07.509Z"
   },
   {
    "duration": 141,
    "start_time": "2023-08-30T13:18:51.585Z"
   },
   {
    "duration": 89,
    "start_time": "2023-08-30T13:20:11.401Z"
   },
   {
    "duration": 116,
    "start_time": "2023-08-30T13:21:13.010Z"
   },
   {
    "duration": 133,
    "start_time": "2023-08-30T13:21:13.489Z"
   },
   {
    "duration": 141,
    "start_time": "2023-08-30T13:21:15.824Z"
   },
   {
    "duration": 119,
    "start_time": "2023-08-30T13:21:18.731Z"
   },
   {
    "duration": 129,
    "start_time": "2023-08-30T13:21:20.733Z"
   },
   {
    "duration": 125,
    "start_time": "2023-08-30T13:21:23.609Z"
   },
   {
    "duration": 136,
    "start_time": "2023-08-30T13:21:24.061Z"
   },
   {
    "duration": 2060,
    "start_time": "2023-08-30T13:27:25.851Z"
   },
   {
    "duration": 237,
    "start_time": "2023-08-30T13:27:34.836Z"
   },
   {
    "duration": 426,
    "start_time": "2023-08-30T13:28:27.164Z"
   },
   {
    "duration": 353,
    "start_time": "2023-08-30T13:28:41.411Z"
   },
   {
    "duration": 346,
    "start_time": "2023-08-30T13:28:54.884Z"
   },
   {
    "duration": 467,
    "start_time": "2023-08-30T13:29:32.517Z"
   },
   {
    "duration": 472,
    "start_time": "2023-08-30T13:30:01.637Z"
   },
   {
    "duration": 586,
    "start_time": "2023-08-30T13:30:24.902Z"
   },
   {
    "duration": 479,
    "start_time": "2023-08-30T13:30:44.115Z"
   },
   {
    "duration": 627,
    "start_time": "2023-08-30T13:30:48.659Z"
   },
   {
    "duration": 701,
    "start_time": "2023-08-30T13:30:56.899Z"
   },
   {
    "duration": 803,
    "start_time": "2023-08-30T13:31:07.702Z"
   },
   {
    "duration": 647,
    "start_time": "2023-08-30T13:31:17.023Z"
   },
   {
    "duration": 143,
    "start_time": "2023-08-30T13:32:48.301Z"
   },
   {
    "duration": 153,
    "start_time": "2023-08-30T13:32:54.055Z"
   },
   {
    "duration": 157,
    "start_time": "2023-08-30T13:33:08.061Z"
   },
   {
    "duration": 333,
    "start_time": "2023-08-30T13:33:58.894Z"
   },
   {
    "duration": 236,
    "start_time": "2023-08-30T13:34:24.566Z"
   },
   {
    "duration": 218,
    "start_time": "2023-08-30T13:35:02.005Z"
   },
   {
    "duration": 244,
    "start_time": "2023-08-30T13:35:49.908Z"
   },
   {
    "duration": 241,
    "start_time": "2023-08-30T13:36:14.909Z"
   },
   {
    "duration": 239,
    "start_time": "2023-08-30T13:36:46.291Z"
   },
   {
    "duration": 15,
    "start_time": "2023-08-30T13:38:56.992Z"
   },
   {
    "duration": 285,
    "start_time": "2023-08-30T13:39:14.093Z"
   },
   {
    "duration": 119,
    "start_time": "2023-08-30T13:40:01.192Z"
   },
   {
    "duration": 118,
    "start_time": "2023-08-30T13:40:04.691Z"
   },
   {
    "duration": 116,
    "start_time": "2023-08-30T13:40:35.234Z"
   },
   {
    "duration": 128,
    "start_time": "2023-08-30T13:40:41.730Z"
   },
   {
    "duration": 134,
    "start_time": "2023-08-30T13:40:51.944Z"
   },
   {
    "duration": 116,
    "start_time": "2023-08-31T11:20:11.579Z"
   },
   {
    "duration": 4,
    "start_time": "2023-08-31T11:21:41.962Z"
   },
   {
    "duration": 1653,
    "start_time": "2023-08-31T11:22:42.375Z"
   },
   {
    "duration": 1306,
    "start_time": "2023-08-31T11:22:44.031Z"
   },
   {
    "duration": 27,
    "start_time": "2023-08-31T11:22:45.339Z"
   },
   {
    "duration": 1455,
    "start_time": "2023-08-31T11:23:14.640Z"
   },
   {
    "duration": 298,
    "start_time": "2023-08-31T11:23:16.097Z"
   },
   {
    "duration": 23,
    "start_time": "2023-08-31T11:23:16.397Z"
   },
   {
    "duration": 27,
    "start_time": "2023-08-31T11:23:16.422Z"
   },
   {
    "duration": 365,
    "start_time": "2023-08-31T11:23:16.451Z"
   },
   {
    "duration": 21,
    "start_time": "2023-08-31T11:23:16.817Z"
   },
   {
    "duration": 29,
    "start_time": "2023-08-31T11:23:16.840Z"
   },
   {
    "duration": 1643,
    "start_time": "2023-08-31T11:23:16.872Z"
   },
   {
    "duration": 20,
    "start_time": "2023-08-31T11:23:18.517Z"
   },
   {
    "duration": 22,
    "start_time": "2023-08-31T11:23:18.540Z"
   },
   {
    "duration": 8,
    "start_time": "2023-08-31T11:23:18.564Z"
   },
   {
    "duration": 20,
    "start_time": "2023-08-31T11:23:18.574Z"
   },
   {
    "duration": 54,
    "start_time": "2023-08-31T11:23:18.595Z"
   },
   {
    "duration": 77,
    "start_time": "2023-08-31T11:23:18.651Z"
   },
   {
    "duration": 3,
    "start_time": "2023-08-31T11:23:18.729Z"
   },
   {
    "duration": 33,
    "start_time": "2023-08-31T11:23:18.734Z"
   },
   {
    "duration": 40,
    "start_time": "2023-08-31T11:23:18.769Z"
   },
   {
    "duration": 25,
    "start_time": "2023-08-31T11:23:18.810Z"
   },
   {
    "duration": 16,
    "start_time": "2023-08-31T11:23:18.837Z"
   },
   {
    "duration": 15,
    "start_time": "2023-08-31T11:23:18.855Z"
   },
   {
    "duration": 33,
    "start_time": "2023-08-31T11:23:18.872Z"
   },
   {
    "duration": 128,
    "start_time": "2023-08-31T11:23:18.907Z"
   },
   {
    "duration": 83,
    "start_time": "2023-08-31T11:23:19.037Z"
   },
   {
    "duration": 21,
    "start_time": "2023-08-31T11:23:19.122Z"
   },
   {
    "duration": 681,
    "start_time": "2023-08-31T11:23:19.145Z"
   },
   {
    "duration": 723,
    "start_time": "2023-08-31T11:23:19.828Z"
   },
   {
    "duration": 659,
    "start_time": "2023-08-31T11:23:20.553Z"
   },
   {
    "duration": 115,
    "start_time": "2023-08-31T11:23:21.215Z"
   },
   {
    "duration": 241,
    "start_time": "2023-08-31T11:23:21.332Z"
   },
   {
    "duration": 362,
    "start_time": "2023-08-31T11:23:21.574Z"
   },
   {
    "duration": 3,
    "start_time": "2023-08-31T11:23:21.938Z"
   },
   {
    "duration": 107,
    "start_time": "2023-08-31T11:23:21.943Z"
   },
   {
    "duration": 97,
    "start_time": "2023-08-31T11:30:56.563Z"
   },
   {
    "duration": 1305,
    "start_time": "2023-08-31T11:31:04.518Z"
   },
   {
    "duration": 303,
    "start_time": "2023-08-31T11:31:05.825Z"
   },
   {
    "duration": 25,
    "start_time": "2023-08-31T11:31:06.130Z"
   },
   {
    "duration": 25,
    "start_time": "2023-08-31T11:31:06.166Z"
   },
   {
    "duration": 89,
    "start_time": "2023-08-31T11:31:06.193Z"
   },
   {
    "duration": 22,
    "start_time": "2023-08-31T11:31:06.284Z"
   },
   {
    "duration": 24,
    "start_time": "2023-08-31T11:31:06.308Z"
   },
   {
    "duration": 358,
    "start_time": "2023-08-31T11:31:06.334Z"
   },
   {
    "duration": 21,
    "start_time": "2023-08-31T11:31:06.694Z"
   },
   {
    "duration": 46,
    "start_time": "2023-08-31T11:31:06.717Z"
   },
   {
    "duration": 7,
    "start_time": "2023-08-31T11:31:06.765Z"
   },
   {
    "duration": 10,
    "start_time": "2023-08-31T11:31:06.774Z"
   },
   {
    "duration": 25,
    "start_time": "2023-08-31T11:31:06.786Z"
   },
   {
    "duration": 73,
    "start_time": "2023-08-31T11:31:06.813Z"
   },
   {
    "duration": 3,
    "start_time": "2023-08-31T11:31:06.887Z"
   },
   {
    "duration": 23,
    "start_time": "2023-08-31T11:31:06.891Z"
   },
   {
    "duration": 20,
    "start_time": "2023-08-31T11:31:06.916Z"
   },
   {
    "duration": 37,
    "start_time": "2023-08-31T11:31:06.938Z"
   },
   {
    "duration": 18,
    "start_time": "2023-08-31T11:31:06.977Z"
   },
   {
    "duration": 12,
    "start_time": "2023-08-31T11:31:06.997Z"
   },
   {
    "duration": 19,
    "start_time": "2023-08-31T11:31:07.011Z"
   },
   {
    "duration": 151,
    "start_time": "2023-08-31T11:31:07.031Z"
   },
   {
    "duration": 72,
    "start_time": "2023-08-31T11:31:07.183Z"
   },
   {
    "duration": 31,
    "start_time": "2023-08-31T11:31:07.256Z"
   },
   {
    "duration": 77,
    "start_time": "2023-08-31T11:31:07.289Z"
   },
   {
    "duration": 0,
    "start_time": "2023-08-31T11:31:07.367Z"
   },
   {
    "duration": 0,
    "start_time": "2023-08-31T11:31:07.369Z"
   },
   {
    "duration": 0,
    "start_time": "2023-08-31T11:31:07.370Z"
   },
   {
    "duration": 0,
    "start_time": "2023-08-31T11:31:07.371Z"
   },
   {
    "duration": 0,
    "start_time": "2023-08-31T11:31:07.372Z"
   },
   {
    "duration": 0,
    "start_time": "2023-08-31T11:31:07.373Z"
   },
   {
    "duration": 0,
    "start_time": "2023-08-31T11:31:07.374Z"
   },
   {
    "duration": 732,
    "start_time": "2023-08-31T11:31:19.529Z"
   },
   {
    "duration": 752,
    "start_time": "2023-08-31T11:31:33.018Z"
   },
   {
    "duration": 680,
    "start_time": "2023-08-31T11:32:45.955Z"
   },
   {
    "duration": 757,
    "start_time": "2023-08-31T11:32:53.269Z"
   },
   {
    "duration": 616,
    "start_time": "2023-08-31T11:40:49.991Z"
   },
   {
    "duration": 701,
    "start_time": "2023-08-31T11:41:35.085Z"
   },
   {
    "duration": 113,
    "start_time": "2023-08-31T11:55:38.259Z"
   },
   {
    "duration": 113,
    "start_time": "2023-08-31T11:55:40.678Z"
   },
   {
    "duration": 244,
    "start_time": "2023-08-31T11:55:43.402Z"
   },
   {
    "duration": 131,
    "start_time": "2023-08-31T11:55:45.857Z"
   },
   {
    "duration": 112,
    "start_time": "2023-08-31T11:55:56.582Z"
   },
   {
    "duration": 121,
    "start_time": "2023-08-31T11:56:04.002Z"
   },
   {
    "duration": 102,
    "start_time": "2023-08-31T11:56:07.622Z"
   },
   {
    "duration": 109,
    "start_time": "2023-08-31T11:56:10.860Z"
   },
   {
    "duration": 106,
    "start_time": "2023-08-31T11:57:06.274Z"
   },
   {
    "duration": 115,
    "start_time": "2023-08-31T11:57:18.748Z"
   },
   {
    "duration": 128,
    "start_time": "2023-08-31T11:59:32.084Z"
   },
   {
    "duration": 129,
    "start_time": "2023-08-31T12:01:01.930Z"
   },
   {
    "duration": 117,
    "start_time": "2023-08-31T12:01:10.076Z"
   },
   {
    "duration": 39,
    "start_time": "2023-08-31T12:05:18.516Z"
   },
   {
    "duration": 97,
    "start_time": "2023-08-31T12:05:26.372Z"
   },
   {
    "duration": 30,
    "start_time": "2023-08-31T12:05:42.550Z"
   },
   {
    "duration": 99,
    "start_time": "2023-08-31T12:05:43.075Z"
   },
   {
    "duration": 29,
    "start_time": "2023-08-31T12:05:49.078Z"
   },
   {
    "duration": 211,
    "start_time": "2023-08-31T12:05:50.019Z"
   },
   {
    "duration": 31,
    "start_time": "2023-08-31T12:06:04.710Z"
   },
   {
    "duration": 107,
    "start_time": "2023-08-31T12:06:05.228Z"
   },
   {
    "duration": 119,
    "start_time": "2023-08-31T12:06:15.003Z"
   },
   {
    "duration": 31,
    "start_time": "2023-08-31T12:06:28.990Z"
   },
   {
    "duration": 106,
    "start_time": "2023-08-31T12:06:29.496Z"
   },
   {
    "duration": 97,
    "start_time": "2023-08-31T12:06:38.752Z"
   },
   {
    "duration": 26,
    "start_time": "2023-08-31T12:06:47.659Z"
   },
   {
    "duration": 94,
    "start_time": "2023-08-31T12:06:48.213Z"
   },
   {
    "duration": 93,
    "start_time": "2023-08-31T12:06:57.059Z"
   },
   {
    "duration": 95,
    "start_time": "2023-08-31T12:07:04.420Z"
   },
   {
    "duration": 93,
    "start_time": "2023-08-31T12:07:06.945Z"
   },
   {
    "duration": 94,
    "start_time": "2023-08-31T12:07:09.026Z"
   },
   {
    "duration": 115,
    "start_time": "2023-08-31T12:07:12.078Z"
   },
   {
    "duration": 16,
    "start_time": "2023-08-31T12:08:27.609Z"
   },
   {
    "duration": 103,
    "start_time": "2023-08-31T12:08:34.572Z"
   },
   {
    "duration": 101,
    "start_time": "2023-08-31T12:08:41.337Z"
   },
   {
    "duration": 111,
    "start_time": "2023-08-31T12:08:57.058Z"
   },
   {
    "duration": 221,
    "start_time": "2023-08-31T12:08:57.809Z"
   },
   {
    "duration": 108,
    "start_time": "2023-08-31T12:08:59.755Z"
   },
   {
    "duration": 102,
    "start_time": "2023-08-31T12:09:01.780Z"
   },
   {
    "duration": 20,
    "start_time": "2023-08-31T12:12:31.178Z"
   },
   {
    "duration": 98,
    "start_time": "2023-08-31T12:13:21.152Z"
   },
   {
    "duration": 103,
    "start_time": "2023-08-31T12:13:36.254Z"
   },
   {
    "duration": 113,
    "start_time": "2023-08-31T12:13:41.508Z"
   },
   {
    "duration": 97,
    "start_time": "2023-08-31T12:13:49.504Z"
   },
   {
    "duration": 104,
    "start_time": "2023-08-31T12:14:17.432Z"
   },
   {
    "duration": 11,
    "start_time": "2023-08-31T12:14:21.772Z"
   },
   {
    "duration": 104,
    "start_time": "2023-08-31T12:14:22.416Z"
   },
   {
    "duration": 112,
    "start_time": "2023-08-31T12:14:23.034Z"
   },
   {
    "duration": 105,
    "start_time": "2023-08-31T12:14:25.114Z"
   },
   {
    "duration": 92,
    "start_time": "2023-08-31T12:14:26.179Z"
   },
   {
    "duration": 11,
    "start_time": "2023-08-31T12:14:38.442Z"
   },
   {
    "duration": 113,
    "start_time": "2023-08-31T12:14:41.895Z"
   },
   {
    "duration": 386,
    "start_time": "2023-08-31T12:14:44.030Z"
   },
   {
    "duration": 239,
    "start_time": "2023-08-31T12:14:49.049Z"
   },
   {
    "duration": 180,
    "start_time": "2023-08-31T12:14:58.423Z"
   },
   {
    "duration": 177,
    "start_time": "2023-08-31T12:15:03.240Z"
   },
   {
    "duration": 135,
    "start_time": "2023-08-31T12:15:12.322Z"
   },
   {
    "duration": 180,
    "start_time": "2023-08-31T12:15:31.150Z"
   },
   {
    "duration": 248,
    "start_time": "2023-08-31T12:16:07.380Z"
   },
   {
    "duration": 197,
    "start_time": "2023-08-31T12:16:20.282Z"
   },
   {
    "duration": 195,
    "start_time": "2023-08-31T12:16:30.498Z"
   },
   {
    "duration": 299,
    "start_time": "2023-08-31T12:16:35.814Z"
   },
   {
    "duration": 184,
    "start_time": "2023-08-31T12:16:41.133Z"
   },
   {
    "duration": 146,
    "start_time": "2023-08-31T12:16:53.747Z"
   },
   {
    "duration": 1465,
    "start_time": "2023-08-31T14:03:50.778Z"
   },
   {
    "duration": 345,
    "start_time": "2023-08-31T14:03:52.246Z"
   },
   {
    "duration": 30,
    "start_time": "2023-08-31T14:03:52.593Z"
   },
   {
    "duration": 41,
    "start_time": "2023-08-31T14:03:52.626Z"
   },
   {
    "duration": 78,
    "start_time": "2023-08-31T14:03:52.670Z"
   },
   {
    "duration": 28,
    "start_time": "2023-08-31T14:03:52.750Z"
   },
   {
    "duration": 33,
    "start_time": "2023-08-31T14:03:52.780Z"
   },
   {
    "duration": 466,
    "start_time": "2023-08-31T14:03:52.816Z"
   },
   {
    "duration": 22,
    "start_time": "2023-08-31T14:03:53.284Z"
   },
   {
    "duration": 21,
    "start_time": "2023-08-31T14:03:53.309Z"
   },
   {
    "duration": 35,
    "start_time": "2023-08-31T14:03:53.332Z"
   },
   {
    "duration": 5,
    "start_time": "2023-08-31T14:03:53.369Z"
   },
   {
    "duration": 26,
    "start_time": "2023-08-31T14:03:53.376Z"
   },
   {
    "duration": 83,
    "start_time": "2023-08-31T14:03:53.404Z"
   },
   {
    "duration": 3,
    "start_time": "2023-08-31T14:03:53.490Z"
   },
   {
    "duration": 33,
    "start_time": "2023-08-31T14:03:53.495Z"
   },
   {
    "duration": 45,
    "start_time": "2023-08-31T14:03:53.531Z"
   },
   {
    "duration": 36,
    "start_time": "2023-08-31T14:03:53.578Z"
   },
   {
    "duration": 24,
    "start_time": "2023-08-31T14:03:53.617Z"
   },
   {
    "duration": 29,
    "start_time": "2023-08-31T14:03:53.644Z"
   },
   {
    "duration": 16,
    "start_time": "2023-08-31T14:03:53.675Z"
   },
   {
    "duration": 163,
    "start_time": "2023-08-31T14:03:53.693Z"
   },
   {
    "duration": 126,
    "start_time": "2023-08-31T14:03:53.859Z"
   },
   {
    "duration": 32,
    "start_time": "2023-08-31T14:03:53.988Z"
   },
   {
    "duration": 846,
    "start_time": "2023-08-31T14:03:54.022Z"
   },
   {
    "duration": 852,
    "start_time": "2023-08-31T14:03:54.870Z"
   },
   {
    "duration": 771,
    "start_time": "2023-08-31T14:03:55.724Z"
   },
   {
    "duration": 131,
    "start_time": "2023-08-31T14:03:56.499Z"
   },
   {
    "duration": 140,
    "start_time": "2023-08-31T14:03:56.632Z"
   },
   {
    "duration": 121,
    "start_time": "2023-08-31T14:03:56.774Z"
   },
   {
    "duration": 245,
    "start_time": "2023-08-31T14:03:56.897Z"
   },
   {
    "duration": 51,
    "start_time": "2023-08-31T14:03:57.145Z"
   },
   {
    "duration": 129,
    "start_time": "2023-08-31T14:03:57.198Z"
   },
   {
    "duration": 148,
    "start_time": "2023-08-31T14:03:57.330Z"
   },
   {
    "duration": 112,
    "start_time": "2023-08-31T14:03:57.480Z"
   },
   {
    "duration": 126,
    "start_time": "2023-08-31T14:03:57.594Z"
   },
   {
    "duration": 19,
    "start_time": "2023-08-31T14:03:57.723Z"
   },
   {
    "duration": 132,
    "start_time": "2023-08-31T14:03:57.744Z"
   },
   {
    "duration": 113,
    "start_time": "2023-08-31T14:03:57.879Z"
   },
   {
    "duration": 137,
    "start_time": "2023-08-31T14:03:57.994Z"
   },
   {
    "duration": 118,
    "start_time": "2023-08-31T14:03:58.133Z"
   },
   {
    "duration": 31,
    "start_time": "2023-08-31T14:03:58.253Z"
   },
   {
    "duration": 172,
    "start_time": "2023-08-31T14:03:58.286Z"
   },
   {
    "duration": 212,
    "start_time": "2023-08-31T14:03:58.460Z"
   },
   {
    "duration": 153,
    "start_time": "2023-08-31T14:03:58.675Z"
   },
   {
    "duration": 311,
    "start_time": "2023-08-31T14:03:58.830Z"
   },
   {
    "duration": 4,
    "start_time": "2023-08-31T14:03:59.144Z"
   },
   {
    "duration": 114,
    "start_time": "2023-08-31T14:03:59.150Z"
   },
   {
    "duration": 189,
    "start_time": "2023-08-31T14:05:20.981Z"
   },
   {
    "duration": 1407,
    "start_time": "2023-08-31T14:06:11.094Z"
   },
   {
    "duration": 309,
    "start_time": "2023-08-31T14:06:12.503Z"
   },
   {
    "duration": 29,
    "start_time": "2023-08-31T14:06:12.814Z"
   },
   {
    "duration": 29,
    "start_time": "2023-08-31T14:06:12.846Z"
   },
   {
    "duration": 75,
    "start_time": "2023-08-31T14:06:12.877Z"
   },
   {
    "duration": 25,
    "start_time": "2023-08-31T14:06:12.954Z"
   },
   {
    "duration": 17,
    "start_time": "2023-08-31T14:06:12.981Z"
   },
   {
    "duration": 375,
    "start_time": "2023-08-31T14:06:12.999Z"
   },
   {
    "duration": 22,
    "start_time": "2023-08-31T14:06:13.376Z"
   },
   {
    "duration": 23,
    "start_time": "2023-08-31T14:06:13.400Z"
   },
   {
    "duration": 7,
    "start_time": "2023-08-31T14:06:13.425Z"
   },
   {
    "duration": 9,
    "start_time": "2023-08-31T14:06:13.433Z"
   },
   {
    "duration": 24,
    "start_time": "2023-08-31T14:06:13.468Z"
   },
   {
    "duration": 78,
    "start_time": "2023-08-31T14:06:13.494Z"
   },
   {
    "duration": 2,
    "start_time": "2023-08-31T14:06:13.574Z"
   },
   {
    "duration": 25,
    "start_time": "2023-08-31T14:06:13.578Z"
   },
   {
    "duration": 22,
    "start_time": "2023-08-31T14:06:13.605Z"
   },
   {
    "duration": 55,
    "start_time": "2023-08-31T14:06:13.629Z"
   },
   {
    "duration": 16,
    "start_time": "2023-08-31T14:06:13.686Z"
   },
   {
    "duration": 16,
    "start_time": "2023-08-31T14:06:13.704Z"
   },
   {
    "duration": 22,
    "start_time": "2023-08-31T14:06:13.722Z"
   },
   {
    "duration": 161,
    "start_time": "2023-08-31T14:06:13.745Z"
   },
   {
    "duration": 97,
    "start_time": "2023-08-31T14:06:13.908Z"
   },
   {
    "duration": 28,
    "start_time": "2023-08-31T14:06:14.007Z"
   },
   {
    "duration": 727,
    "start_time": "2023-08-31T14:06:14.037Z"
   },
   {
    "duration": 773,
    "start_time": "2023-08-31T14:06:14.766Z"
   },
   {
    "duration": 710,
    "start_time": "2023-08-31T14:06:15.540Z"
   },
   {
    "duration": 149,
    "start_time": "2023-08-31T14:06:16.255Z"
   },
   {
    "duration": 114,
    "start_time": "2023-08-31T14:06:16.407Z"
   },
   {
    "duration": 115,
    "start_time": "2023-08-31T14:06:16.522Z"
   },
   {
    "duration": 337,
    "start_time": "2023-08-31T14:06:16.639Z"
   },
   {
    "duration": 42,
    "start_time": "2023-08-31T14:06:16.979Z"
   },
   {
    "duration": 161,
    "start_time": "2023-08-31T14:06:17.024Z"
   },
   {
    "duration": 125,
    "start_time": "2023-08-31T14:06:17.187Z"
   },
   {
    "duration": 103,
    "start_time": "2023-08-31T14:06:17.313Z"
   },
   {
    "duration": 132,
    "start_time": "2023-08-31T14:06:17.418Z"
   },
   {
    "duration": 30,
    "start_time": "2023-08-31T14:06:17.551Z"
   },
   {
    "duration": 115,
    "start_time": "2023-08-31T14:06:17.583Z"
   },
   {
    "duration": 125,
    "start_time": "2023-08-31T14:06:17.701Z"
   },
   {
    "duration": 132,
    "start_time": "2023-08-31T14:06:17.828Z"
   },
   {
    "duration": 118,
    "start_time": "2023-08-31T14:06:17.967Z"
   },
   {
    "duration": 21,
    "start_time": "2023-08-31T14:06:18.087Z"
   },
   {
    "duration": 257,
    "start_time": "2023-08-31T14:06:18.109Z"
   },
   {
    "duration": 211,
    "start_time": "2023-08-31T14:06:18.368Z"
   },
   {
    "duration": 267,
    "start_time": "2023-08-31T14:06:18.581Z"
   },
   {
    "duration": 275,
    "start_time": "2023-08-31T14:06:18.851Z"
   },
   {
    "duration": 7,
    "start_time": "2023-08-31T14:06:19.127Z"
   },
   {
    "duration": 112,
    "start_time": "2023-08-31T14:06:19.136Z"
   },
   {
    "duration": 187,
    "start_time": "2023-08-31T14:06:36.543Z"
   },
   {
    "duration": 1835,
    "start_time": "2023-08-31T14:07:39.166Z"
   },
   {
    "duration": 300,
    "start_time": "2023-08-31T14:07:41.003Z"
   },
   {
    "duration": 34,
    "start_time": "2023-08-31T14:07:41.305Z"
   },
   {
    "duration": 32,
    "start_time": "2023-08-31T14:07:41.341Z"
   },
   {
    "duration": 80,
    "start_time": "2023-08-31T14:07:41.376Z"
   },
   {
    "duration": 30,
    "start_time": "2023-08-31T14:07:41.458Z"
   },
   {
    "duration": 31,
    "start_time": "2023-08-31T14:07:41.490Z"
   },
   {
    "duration": 384,
    "start_time": "2023-08-31T14:07:41.523Z"
   },
   {
    "duration": 25,
    "start_time": "2023-08-31T14:07:41.909Z"
   },
   {
    "duration": 37,
    "start_time": "2023-08-31T14:07:41.936Z"
   },
   {
    "duration": 9,
    "start_time": "2023-08-31T14:07:41.975Z"
   },
   {
    "duration": 15,
    "start_time": "2023-08-31T14:07:41.986Z"
   },
   {
    "duration": 26,
    "start_time": "2023-08-31T14:07:42.003Z"
   },
   {
    "duration": 90,
    "start_time": "2023-08-31T14:07:42.033Z"
   },
   {
    "duration": 4,
    "start_time": "2023-08-31T14:07:42.126Z"
   },
   {
    "duration": 41,
    "start_time": "2023-08-31T14:07:42.132Z"
   },
   {
    "duration": 25,
    "start_time": "2023-08-31T14:07:42.175Z"
   },
   {
    "duration": 28,
    "start_time": "2023-08-31T14:07:42.202Z"
   },
   {
    "duration": 53,
    "start_time": "2023-08-31T14:07:42.232Z"
   },
   {
    "duration": 8,
    "start_time": "2023-08-31T14:07:42.288Z"
   },
   {
    "duration": 15,
    "start_time": "2023-08-31T14:07:42.298Z"
   },
   {
    "duration": 182,
    "start_time": "2023-08-31T14:07:42.315Z"
   },
   {
    "duration": 82,
    "start_time": "2023-08-31T14:07:42.499Z"
   },
   {
    "duration": 24,
    "start_time": "2023-08-31T14:07:42.583Z"
   },
   {
    "duration": 821,
    "start_time": "2023-08-31T14:07:42.608Z"
   },
   {
    "duration": 862,
    "start_time": "2023-08-31T14:07:43.431Z"
   },
   {
    "duration": 702,
    "start_time": "2023-08-31T14:07:44.296Z"
   },
   {
    "duration": 133,
    "start_time": "2023-08-31T14:07:45.000Z"
   },
   {
    "duration": 138,
    "start_time": "2023-08-31T14:07:45.134Z"
   },
   {
    "duration": 122,
    "start_time": "2023-08-31T14:07:45.274Z"
   },
   {
    "duration": 247,
    "start_time": "2023-08-31T14:07:45.397Z"
   },
   {
    "duration": 55,
    "start_time": "2023-08-31T14:07:45.646Z"
   },
   {
    "duration": 112,
    "start_time": "2023-08-31T14:07:45.704Z"
   },
   {
    "duration": 120,
    "start_time": "2023-08-31T14:07:45.818Z"
   },
   {
    "duration": 100,
    "start_time": "2023-08-31T14:07:45.940Z"
   },
   {
    "duration": 128,
    "start_time": "2023-08-31T14:07:46.043Z"
   },
   {
    "duration": 23,
    "start_time": "2023-08-31T14:07:46.173Z"
   },
   {
    "duration": 131,
    "start_time": "2023-08-31T14:07:46.198Z"
   },
   {
    "duration": 113,
    "start_time": "2023-08-31T14:07:46.331Z"
   },
   {
    "duration": 126,
    "start_time": "2023-08-31T14:07:46.447Z"
   },
   {
    "duration": 110,
    "start_time": "2023-08-31T14:07:46.577Z"
   },
   {
    "duration": 31,
    "start_time": "2023-08-31T14:07:46.689Z"
   },
   {
    "duration": 227,
    "start_time": "2023-08-31T14:07:46.721Z"
   },
   {
    "duration": 205,
    "start_time": "2023-08-31T14:07:46.949Z"
   },
   {
    "duration": 297,
    "start_time": "2023-08-31T14:07:47.156Z"
   },
   {
    "duration": 189,
    "start_time": "2023-08-31T14:07:47.455Z"
   },
   {
    "duration": 4,
    "start_time": "2023-08-31T14:07:47.645Z"
   },
   {
    "duration": 113,
    "start_time": "2023-08-31T14:07:47.650Z"
   },
   {
    "duration": 5,
    "start_time": "2023-08-31T14:15:44.402Z"
   },
   {
    "duration": 147,
    "start_time": "2023-08-31T14:16:55.339Z"
   },
   {
    "duration": 138,
    "start_time": "2023-08-31T14:18:38.178Z"
   },
   {
    "duration": 157,
    "start_time": "2023-08-31T14:20:10.216Z"
   },
   {
    "duration": 157,
    "start_time": "2023-08-31T14:20:18.393Z"
   },
   {
    "duration": 191,
    "start_time": "2023-08-31T14:20:29.335Z"
   },
   {
    "duration": 197,
    "start_time": "2023-08-31T14:21:00.050Z"
   },
   {
    "duration": 194,
    "start_time": "2023-08-31T14:21:40.602Z"
   },
   {
    "duration": 175,
    "start_time": "2023-08-31T14:22:14.511Z"
   },
   {
    "duration": 3,
    "start_time": "2023-08-31T14:37:19.502Z"
   },
   {
    "duration": 22,
    "start_time": "2023-08-31T14:41:54.236Z"
   },
   {
    "duration": 6,
    "start_time": "2023-08-31T14:42:32.548Z"
   },
   {
    "duration": 4,
    "start_time": "2023-08-31T14:42:53.371Z"
   },
   {
    "duration": 4,
    "start_time": "2023-08-31T14:42:57.528Z"
   },
   {
    "duration": 6,
    "start_time": "2023-08-31T14:43:06.884Z"
   },
   {
    "duration": 7,
    "start_time": "2023-08-31T14:45:06.399Z"
   },
   {
    "duration": 4,
    "start_time": "2023-08-31T14:45:55.862Z"
   },
   {
    "duration": 18,
    "start_time": "2023-08-31T14:47:27.028Z"
   },
   {
    "duration": 1351,
    "start_time": "2023-08-31T14:48:11.741Z"
   },
   {
    "duration": 1425,
    "start_time": "2023-08-31T14:48:38.139Z"
   },
   {
    "duration": 305,
    "start_time": "2023-08-31T14:48:39.566Z"
   },
   {
    "duration": 25,
    "start_time": "2023-08-31T14:48:39.873Z"
   },
   {
    "duration": 18,
    "start_time": "2023-08-31T14:48:39.900Z"
   },
   {
    "duration": 93,
    "start_time": "2023-08-31T14:48:39.920Z"
   },
   {
    "duration": 27,
    "start_time": "2023-08-31T14:48:40.017Z"
   },
   {
    "duration": 53,
    "start_time": "2023-08-31T14:48:40.046Z"
   },
   {
    "duration": 398,
    "start_time": "2023-08-31T14:48:40.101Z"
   },
   {
    "duration": 21,
    "start_time": "2023-08-31T14:48:40.501Z"
   },
   {
    "duration": 63,
    "start_time": "2023-08-31T14:48:40.525Z"
   },
   {
    "duration": 8,
    "start_time": "2023-08-31T14:48:40.590Z"
   },
   {
    "duration": 11,
    "start_time": "2023-08-31T14:48:40.600Z"
   },
   {
    "duration": 39,
    "start_time": "2023-08-31T14:48:40.613Z"
   },
   {
    "duration": 80,
    "start_time": "2023-08-31T14:48:40.654Z"
   },
   {
    "duration": 17,
    "start_time": "2023-08-31T14:48:40.736Z"
   },
   {
    "duration": 34,
    "start_time": "2023-08-31T14:48:40.755Z"
   },
   {
    "duration": 27,
    "start_time": "2023-08-31T14:48:40.790Z"
   },
   {
    "duration": 18,
    "start_time": "2023-08-31T14:48:40.820Z"
   },
   {
    "duration": 12,
    "start_time": "2023-08-31T14:48:40.868Z"
   },
   {
    "duration": 19,
    "start_time": "2023-08-31T14:48:40.882Z"
   },
   {
    "duration": 151,
    "start_time": "2023-08-31T14:48:40.902Z"
   },
   {
    "duration": 82,
    "start_time": "2023-08-31T14:48:41.055Z"
   },
   {
    "duration": 34,
    "start_time": "2023-08-31T14:48:41.140Z"
   },
   {
    "duration": 706,
    "start_time": "2023-08-31T14:48:41.176Z"
   },
   {
    "duration": 811,
    "start_time": "2023-08-31T14:48:41.885Z"
   },
   {
    "duration": 724,
    "start_time": "2023-08-31T14:48:42.698Z"
   },
   {
    "duration": 142,
    "start_time": "2023-08-31T14:48:43.424Z"
   },
   {
    "duration": 116,
    "start_time": "2023-08-31T14:48:43.570Z"
   },
   {
    "duration": 126,
    "start_time": "2023-08-31T14:48:43.688Z"
   },
   {
    "duration": 289,
    "start_time": "2023-08-31T14:48:43.815Z"
   },
   {
    "duration": 64,
    "start_time": "2023-08-31T14:48:44.106Z"
   },
   {
    "duration": 112,
    "start_time": "2023-08-31T14:48:44.172Z"
   },
   {
    "duration": 122,
    "start_time": "2023-08-31T14:48:44.286Z"
   },
   {
    "duration": 105,
    "start_time": "2023-08-31T14:48:44.410Z"
   },
   {
    "duration": 124,
    "start_time": "2023-08-31T14:48:44.517Z"
   },
   {
    "duration": 25,
    "start_time": "2023-08-31T14:48:44.643Z"
   },
   {
    "duration": 119,
    "start_time": "2023-08-31T14:48:44.670Z"
   },
   {
    "duration": 114,
    "start_time": "2023-08-31T14:48:44.790Z"
   },
   {
    "duration": 141,
    "start_time": "2023-08-31T14:48:44.905Z"
   },
   {
    "duration": 120,
    "start_time": "2023-08-31T14:48:45.048Z"
   },
   {
    "duration": 28,
    "start_time": "2023-08-31T14:48:45.171Z"
   },
   {
    "duration": 231,
    "start_time": "2023-08-31T14:48:45.201Z"
   },
   {
    "duration": 218,
    "start_time": "2023-08-31T14:48:45.435Z"
   },
   {
    "duration": 296,
    "start_time": "2023-08-31T14:48:45.655Z"
   },
   {
    "duration": 203,
    "start_time": "2023-08-31T14:48:45.953Z"
   },
   {
    "duration": 213,
    "start_time": "2023-08-31T14:48:46.158Z"
   },
   {
    "duration": 211,
    "start_time": "2023-08-31T14:48:46.373Z"
   },
   {
    "duration": 214,
    "start_time": "2023-08-31T14:48:46.586Z"
   },
   {
    "duration": 195,
    "start_time": "2023-08-31T14:48:46.802Z"
   },
   {
    "duration": 4,
    "start_time": "2023-08-31T14:48:46.999Z"
   },
   {
    "duration": 7,
    "start_time": "2023-08-31T14:48:47.004Z"
   },
   {
    "duration": 12,
    "start_time": "2023-08-31T14:48:47.013Z"
   },
   {
    "duration": 11,
    "start_time": "2023-08-31T14:48:47.028Z"
   },
   {
    "duration": 133,
    "start_time": "2023-08-31T14:48:47.041Z"
   },
   {
    "duration": 1346,
    "start_time": "2023-08-31T14:49:35.853Z"
   },
   {
    "duration": 15,
    "start_time": "2023-08-31T14:49:59.092Z"
   },
   {
    "duration": 15,
    "start_time": "2023-08-31T14:50:07.794Z"
   },
   {
    "duration": 1363,
    "start_time": "2023-08-31T14:50:21.245Z"
   },
   {
    "duration": 309,
    "start_time": "2023-08-31T14:50:22.610Z"
   },
   {
    "duration": 27,
    "start_time": "2023-08-31T14:50:22.920Z"
   },
   {
    "duration": 30,
    "start_time": "2023-08-31T14:50:22.949Z"
   },
   {
    "duration": 77,
    "start_time": "2023-08-31T14:50:22.981Z"
   },
   {
    "duration": 25,
    "start_time": "2023-08-31T14:50:23.060Z"
   },
   {
    "duration": 43,
    "start_time": "2023-08-31T14:50:23.086Z"
   },
   {
    "duration": 395,
    "start_time": "2023-08-31T14:50:23.130Z"
   },
   {
    "duration": 21,
    "start_time": "2023-08-31T14:50:23.527Z"
   },
   {
    "duration": 34,
    "start_time": "2023-08-31T14:50:23.550Z"
   },
   {
    "duration": 10,
    "start_time": "2023-08-31T14:50:23.586Z"
   },
   {
    "duration": 26,
    "start_time": "2023-08-31T14:50:23.598Z"
   },
   {
    "duration": 50,
    "start_time": "2023-08-31T14:50:23.626Z"
   },
   {
    "duration": 1583,
    "start_time": "2023-08-31T14:50:23.678Z"
   },
   {
    "duration": 0,
    "start_time": "2023-08-31T14:50:25.264Z"
   },
   {
    "duration": 0,
    "start_time": "2023-08-31T14:50:25.265Z"
   },
   {
    "duration": 0,
    "start_time": "2023-08-31T14:50:25.266Z"
   },
   {
    "duration": 0,
    "start_time": "2023-08-31T14:50:25.267Z"
   },
   {
    "duration": 0,
    "start_time": "2023-08-31T14:50:25.269Z"
   },
   {
    "duration": 0,
    "start_time": "2023-08-31T14:50:25.269Z"
   },
   {
    "duration": 0,
    "start_time": "2023-08-31T14:50:25.270Z"
   },
   {
    "duration": 0,
    "start_time": "2023-08-31T14:50:25.271Z"
   },
   {
    "duration": 0,
    "start_time": "2023-08-31T14:50:25.273Z"
   },
   {
    "duration": 0,
    "start_time": "2023-08-31T14:50:25.275Z"
   },
   {
    "duration": 0,
    "start_time": "2023-08-31T14:50:25.275Z"
   },
   {
    "duration": 0,
    "start_time": "2023-08-31T14:50:25.277Z"
   },
   {
    "duration": 0,
    "start_time": "2023-08-31T14:50:25.278Z"
   },
   {
    "duration": 0,
    "start_time": "2023-08-31T14:50:25.278Z"
   },
   {
    "duration": 0,
    "start_time": "2023-08-31T14:50:25.280Z"
   },
   {
    "duration": 0,
    "start_time": "2023-08-31T14:50:25.280Z"
   },
   {
    "duration": 0,
    "start_time": "2023-08-31T14:50:25.282Z"
   },
   {
    "duration": 0,
    "start_time": "2023-08-31T14:50:25.283Z"
   },
   {
    "duration": 0,
    "start_time": "2023-08-31T14:50:25.284Z"
   },
   {
    "duration": 0,
    "start_time": "2023-08-31T14:50:25.285Z"
   },
   {
    "duration": 0,
    "start_time": "2023-08-31T14:50:25.286Z"
   },
   {
    "duration": 0,
    "start_time": "2023-08-31T14:50:25.287Z"
   },
   {
    "duration": 0,
    "start_time": "2023-08-31T14:50:25.288Z"
   },
   {
    "duration": 0,
    "start_time": "2023-08-31T14:50:25.289Z"
   },
   {
    "duration": 0,
    "start_time": "2023-08-31T14:50:25.290Z"
   },
   {
    "duration": 0,
    "start_time": "2023-08-31T14:50:25.290Z"
   },
   {
    "duration": 0,
    "start_time": "2023-08-31T14:50:25.292Z"
   },
   {
    "duration": 0,
    "start_time": "2023-08-31T14:50:25.293Z"
   },
   {
    "duration": 0,
    "start_time": "2023-08-31T14:50:25.294Z"
   },
   {
    "duration": 0,
    "start_time": "2023-08-31T14:50:25.295Z"
   },
   {
    "duration": 0,
    "start_time": "2023-08-31T14:50:25.297Z"
   },
   {
    "duration": 0,
    "start_time": "2023-08-31T14:50:25.298Z"
   },
   {
    "duration": 0,
    "start_time": "2023-08-31T14:50:25.299Z"
   },
   {
    "duration": 0,
    "start_time": "2023-08-31T14:50:25.301Z"
   },
   {
    "duration": 0,
    "start_time": "2023-08-31T14:50:25.302Z"
   },
   {
    "duration": 0,
    "start_time": "2023-08-31T14:50:25.303Z"
   },
   {
    "duration": 0,
    "start_time": "2023-08-31T14:50:25.304Z"
   },
   {
    "duration": 0,
    "start_time": "2023-08-31T14:50:25.305Z"
   },
   {
    "duration": 0,
    "start_time": "2023-08-31T14:50:25.306Z"
   },
   {
    "duration": 0,
    "start_time": "2023-08-31T14:50:25.307Z"
   },
   {
    "duration": 0,
    "start_time": "2023-08-31T14:50:25.368Z"
   },
   {
    "duration": 4,
    "start_time": "2023-08-31T14:50:54.438Z"
   },
   {
    "duration": 1516,
    "start_time": "2023-08-31T14:51:32.830Z"
   },
   {
    "duration": 309,
    "start_time": "2023-08-31T14:51:34.348Z"
   },
   {
    "duration": 29,
    "start_time": "2023-08-31T14:51:34.659Z"
   },
   {
    "duration": 17,
    "start_time": "2023-08-31T14:51:34.690Z"
   },
   {
    "duration": 86,
    "start_time": "2023-08-31T14:51:34.709Z"
   },
   {
    "duration": 21,
    "start_time": "2023-08-31T14:51:34.797Z"
   },
   {
    "duration": 14,
    "start_time": "2023-08-31T14:51:34.820Z"
   },
   {
    "duration": 401,
    "start_time": "2023-08-31T14:51:34.835Z"
   },
   {
    "duration": 30,
    "start_time": "2023-08-31T14:51:35.239Z"
   },
   {
    "duration": 36,
    "start_time": "2023-08-31T14:51:35.271Z"
   },
   {
    "duration": 7,
    "start_time": "2023-08-31T14:51:35.309Z"
   },
   {
    "duration": 20,
    "start_time": "2023-08-31T14:51:35.317Z"
   },
   {
    "duration": 17,
    "start_time": "2023-08-31T14:51:35.339Z"
   },
   {
    "duration": 70,
    "start_time": "2023-08-31T14:51:35.359Z"
   },
   {
    "duration": 18,
    "start_time": "2023-08-31T14:51:35.430Z"
   },
   {
    "duration": 28,
    "start_time": "2023-08-31T14:51:35.450Z"
   },
   {
    "duration": 14,
    "start_time": "2023-08-31T14:51:35.479Z"
   },
   {
    "duration": 19,
    "start_time": "2023-08-31T14:51:35.495Z"
   },
   {
    "duration": 7,
    "start_time": "2023-08-31T14:51:35.516Z"
   },
   {
    "duration": 43,
    "start_time": "2023-08-31T14:51:35.525Z"
   },
   {
    "duration": 145,
    "start_time": "2023-08-31T14:51:35.570Z"
   },
   {
    "duration": 80,
    "start_time": "2023-08-31T14:51:35.717Z"
   },
   {
    "duration": 23,
    "start_time": "2023-08-31T14:51:35.799Z"
   },
   {
    "duration": 753,
    "start_time": "2023-08-31T14:51:35.824Z"
   },
   {
    "duration": 791,
    "start_time": "2023-08-31T14:51:36.579Z"
   },
   {
    "duration": 723,
    "start_time": "2023-08-31T14:51:37.373Z"
   },
   {
    "duration": 120,
    "start_time": "2023-08-31T14:51:38.099Z"
   },
   {
    "duration": 114,
    "start_time": "2023-08-31T14:51:38.221Z"
   },
   {
    "duration": 111,
    "start_time": "2023-08-31T14:51:38.337Z"
   },
   {
    "duration": 243,
    "start_time": "2023-08-31T14:51:38.449Z"
   },
   {
    "duration": 45,
    "start_time": "2023-08-31T14:51:38.694Z"
   },
   {
    "duration": 112,
    "start_time": "2023-08-31T14:51:38.741Z"
   },
   {
    "duration": 142,
    "start_time": "2023-08-31T14:51:38.855Z"
   },
   {
    "duration": 95,
    "start_time": "2023-08-31T14:51:38.999Z"
   },
   {
    "duration": 117,
    "start_time": "2023-08-31T14:51:39.096Z"
   },
   {
    "duration": 21,
    "start_time": "2023-08-31T14:51:39.214Z"
   },
   {
    "duration": 116,
    "start_time": "2023-08-31T14:51:39.237Z"
   },
   {
    "duration": 105,
    "start_time": "2023-08-31T14:51:39.355Z"
   },
   {
    "duration": 119,
    "start_time": "2023-08-31T14:51:39.466Z"
   },
   {
    "duration": 103,
    "start_time": "2023-08-31T14:51:39.587Z"
   },
   {
    "duration": 26,
    "start_time": "2023-08-31T14:51:39.694Z"
   },
   {
    "duration": 205,
    "start_time": "2023-08-31T14:51:39.722Z"
   },
   {
    "duration": 202,
    "start_time": "2023-08-31T14:51:39.929Z"
   },
   {
    "duration": 291,
    "start_time": "2023-08-31T14:51:40.133Z"
   },
   {
    "duration": 197,
    "start_time": "2023-08-31T14:51:40.426Z"
   },
   {
    "duration": 216,
    "start_time": "2023-08-31T14:51:40.625Z"
   },
   {
    "duration": 216,
    "start_time": "2023-08-31T14:51:40.844Z"
   },
   {
    "duration": 207,
    "start_time": "2023-08-31T14:51:41.062Z"
   },
   {
    "duration": 196,
    "start_time": "2023-08-31T14:51:41.271Z"
   },
   {
    "duration": 4,
    "start_time": "2023-08-31T14:51:41.469Z"
   },
   {
    "duration": 18,
    "start_time": "2023-08-31T14:51:41.474Z"
   },
   {
    "duration": 10,
    "start_time": "2023-08-31T14:51:41.494Z"
   },
   {
    "duration": 9,
    "start_time": "2023-08-31T14:51:41.506Z"
   },
   {
    "duration": 11,
    "start_time": "2023-08-31T14:51:41.517Z"
   },
   {
    "duration": 110,
    "start_time": "2023-08-31T14:53:50.567Z"
   },
   {
    "duration": 3,
    "start_time": "2023-08-31T14:54:01.689Z"
   },
   {
    "duration": 12,
    "start_time": "2023-08-31T14:54:07.805Z"
   },
   {
    "duration": 1656,
    "start_time": "2023-09-01T08:28:54.247Z"
   },
   {
    "duration": 902,
    "start_time": "2023-09-01T08:28:55.905Z"
   },
   {
    "duration": 27,
    "start_time": "2023-09-01T08:28:56.808Z"
   },
   {
    "duration": 21,
    "start_time": "2023-09-01T08:28:56.837Z"
   },
   {
    "duration": 154,
    "start_time": "2023-09-01T08:28:56.859Z"
   },
   {
    "duration": 21,
    "start_time": "2023-09-01T08:28:57.015Z"
   },
   {
    "duration": 17,
    "start_time": "2023-09-01T08:28:57.037Z"
   },
   {
    "duration": 1156,
    "start_time": "2023-09-01T08:28:57.056Z"
   },
   {
    "duration": 22,
    "start_time": "2023-09-01T08:28:58.214Z"
   },
   {
    "duration": 18,
    "start_time": "2023-09-01T08:28:58.239Z"
   },
   {
    "duration": 7,
    "start_time": "2023-09-01T08:28:58.259Z"
   },
   {
    "duration": 5,
    "start_time": "2023-09-01T08:28:58.268Z"
   },
   {
    "duration": 8,
    "start_time": "2023-09-01T08:28:58.274Z"
   },
   {
    "duration": 87,
    "start_time": "2023-09-01T08:28:58.284Z"
   },
   {
    "duration": 16,
    "start_time": "2023-09-01T08:28:58.373Z"
   },
   {
    "duration": 36,
    "start_time": "2023-09-01T08:28:58.391Z"
   },
   {
    "duration": 14,
    "start_time": "2023-09-01T08:28:58.429Z"
   },
   {
    "duration": 18,
    "start_time": "2023-09-01T08:28:58.445Z"
   },
   {
    "duration": 7,
    "start_time": "2023-09-01T08:28:58.466Z"
   },
   {
    "duration": 48,
    "start_time": "2023-09-01T08:28:58.474Z"
   },
   {
    "duration": 155,
    "start_time": "2023-09-01T08:28:58.524Z"
   },
   {
    "duration": 86,
    "start_time": "2023-09-01T08:28:58.681Z"
   },
   {
    "duration": 22,
    "start_time": "2023-09-01T08:28:58.768Z"
   },
   {
    "duration": 718,
    "start_time": "2023-09-01T08:28:58.791Z"
   },
   {
    "duration": 763,
    "start_time": "2023-09-01T08:28:59.510Z"
   },
   {
    "duration": 700,
    "start_time": "2023-09-01T08:29:00.275Z"
   },
   {
    "duration": 139,
    "start_time": "2023-09-01T08:29:00.977Z"
   },
   {
    "duration": 132,
    "start_time": "2023-09-01T08:29:01.122Z"
   },
   {
    "duration": 114,
    "start_time": "2023-09-01T08:29:01.258Z"
   },
   {
    "duration": 243,
    "start_time": "2023-09-01T08:29:01.373Z"
   },
   {
    "duration": 39,
    "start_time": "2023-09-01T08:29:01.618Z"
   },
   {
    "duration": 138,
    "start_time": "2023-09-01T08:29:01.659Z"
   },
   {
    "duration": 141,
    "start_time": "2023-09-01T08:29:01.799Z"
   },
   {
    "duration": 103,
    "start_time": "2023-09-01T08:29:01.942Z"
   },
   {
    "duration": 129,
    "start_time": "2023-09-01T08:29:02.047Z"
   },
   {
    "duration": 32,
    "start_time": "2023-09-01T08:29:02.178Z"
   },
   {
    "duration": 168,
    "start_time": "2023-09-01T08:29:02.212Z"
   },
   {
    "duration": 138,
    "start_time": "2023-09-01T08:29:02.383Z"
   },
   {
    "duration": 167,
    "start_time": "2023-09-01T08:29:02.523Z"
   },
   {
    "duration": 113,
    "start_time": "2023-09-01T08:29:02.692Z"
   },
   {
    "duration": 25,
    "start_time": "2023-09-01T08:29:02.810Z"
   },
   {
    "duration": 227,
    "start_time": "2023-09-01T08:29:02.837Z"
   },
   {
    "duration": 222,
    "start_time": "2023-09-01T08:29:03.067Z"
   },
   {
    "duration": 272,
    "start_time": "2023-09-01T08:29:03.291Z"
   },
   {
    "duration": 194,
    "start_time": "2023-09-01T08:29:03.565Z"
   },
   {
    "duration": 214,
    "start_time": "2023-09-01T08:29:03.760Z"
   },
   {
    "duration": 208,
    "start_time": "2023-09-01T08:29:03.976Z"
   },
   {
    "duration": 205,
    "start_time": "2023-09-01T08:29:04.185Z"
   },
   {
    "duration": 195,
    "start_time": "2023-09-01T08:29:04.392Z"
   },
   {
    "duration": 4,
    "start_time": "2023-09-01T08:29:04.589Z"
   },
   {
    "duration": 15,
    "start_time": "2023-09-01T08:29:04.595Z"
   },
   {
    "duration": 8,
    "start_time": "2023-09-01T08:29:04.612Z"
   },
   {
    "duration": 12,
    "start_time": "2023-09-01T08:29:04.622Z"
   },
   {
    "duration": 10,
    "start_time": "2023-09-01T08:29:04.636Z"
   },
   {
    "duration": 17,
    "start_time": "2023-09-01T08:29:04.647Z"
   },
   {
    "duration": 27,
    "start_time": "2023-09-01T08:34:33.074Z"
   },
   {
    "duration": 127,
    "start_time": "2023-09-01T08:37:00.471Z"
   },
   {
    "duration": 111,
    "start_time": "2023-09-01T08:37:29.897Z"
   },
   {
    "duration": 25,
    "start_time": "2023-09-01T08:37:37.993Z"
   },
   {
    "duration": 185,
    "start_time": "2023-09-01T08:39:10.928Z"
   },
   {
    "duration": 833,
    "start_time": "2023-09-01T08:39:29.477Z"
   },
   {
    "duration": 101,
    "start_time": "2023-09-01T08:39:30.410Z"
   },
   {
    "duration": 1293,
    "start_time": "2023-09-01T08:39:44.820Z"
   },
   {
    "duration": 1158,
    "start_time": "2023-09-01T08:40:28.959Z"
   },
   {
    "duration": 1390,
    "start_time": "2023-09-01T08:40:30.120Z"
   },
   {
    "duration": 885,
    "start_time": "2023-09-01T08:41:01.232Z"
   },
   {
    "duration": 1435,
    "start_time": "2023-09-01T08:41:49.135Z"
   },
   {
    "duration": 338,
    "start_time": "2023-09-01T08:41:50.572Z"
   },
   {
    "duration": 28,
    "start_time": "2023-09-01T08:41:50.911Z"
   },
   {
    "duration": 16,
    "start_time": "2023-09-01T08:41:50.942Z"
   },
   {
    "duration": 95,
    "start_time": "2023-09-01T08:41:50.960Z"
   },
   {
    "duration": 22,
    "start_time": "2023-09-01T08:41:51.056Z"
   },
   {
    "duration": 16,
    "start_time": "2023-09-01T08:41:51.080Z"
   },
   {
    "duration": 411,
    "start_time": "2023-09-01T08:41:51.110Z"
   },
   {
    "duration": 22,
    "start_time": "2023-09-01T08:41:51.523Z"
   },
   {
    "duration": 19,
    "start_time": "2023-09-01T08:41:51.549Z"
   },
   {
    "duration": 9,
    "start_time": "2023-09-01T08:41:51.570Z"
   },
   {
    "duration": 4,
    "start_time": "2023-09-01T08:41:51.609Z"
   },
   {
    "duration": 8,
    "start_time": "2023-09-01T08:41:51.615Z"
   },
   {
    "duration": 60,
    "start_time": "2023-09-01T08:41:51.624Z"
   },
   {
    "duration": 37,
    "start_time": "2023-09-01T08:41:51.686Z"
   },
   {
    "duration": 21,
    "start_time": "2023-09-01T08:41:51.725Z"
   },
   {
    "duration": 12,
    "start_time": "2023-09-01T08:41:51.748Z"
   },
   {
    "duration": 17,
    "start_time": "2023-09-01T08:41:51.762Z"
   },
   {
    "duration": 7,
    "start_time": "2023-09-01T08:41:51.808Z"
   },
   {
    "duration": 14,
    "start_time": "2023-09-01T08:41:51.817Z"
   },
   {
    "duration": 160,
    "start_time": "2023-09-01T08:41:51.833Z"
   },
   {
    "duration": 79,
    "start_time": "2023-09-01T08:41:51.995Z"
   },
   {
    "duration": 21,
    "start_time": "2023-09-01T08:41:52.076Z"
   },
   {
    "duration": 852,
    "start_time": "2023-09-01T08:41:52.099Z"
   },
   {
    "duration": 689,
    "start_time": "2023-09-01T08:41:52.953Z"
   },
   {
    "duration": 713,
    "start_time": "2023-09-01T08:41:53.644Z"
   },
   {
    "duration": 136,
    "start_time": "2023-09-01T08:41:54.359Z"
   },
   {
    "duration": 123,
    "start_time": "2023-09-01T08:41:54.499Z"
   },
   {
    "duration": 251,
    "start_time": "2023-09-01T08:41:54.623Z"
   },
   {
    "duration": 117,
    "start_time": "2023-09-01T08:41:54.875Z"
   },
   {
    "duration": 47,
    "start_time": "2023-09-01T08:41:54.994Z"
   },
   {
    "duration": 121,
    "start_time": "2023-09-01T08:41:55.043Z"
   },
   {
    "duration": 137,
    "start_time": "2023-09-01T08:41:55.166Z"
   },
   {
    "duration": 108,
    "start_time": "2023-09-01T08:41:55.310Z"
   },
   {
    "duration": 115,
    "start_time": "2023-09-01T08:41:55.420Z"
   },
   {
    "duration": 19,
    "start_time": "2023-09-01T08:41:55.536Z"
   },
   {
    "duration": 123,
    "start_time": "2023-09-01T08:41:55.557Z"
   },
   {
    "duration": 103,
    "start_time": "2023-09-01T08:41:55.682Z"
   },
   {
    "duration": 124,
    "start_time": "2023-09-01T08:41:55.787Z"
   },
   {
    "duration": 111,
    "start_time": "2023-09-01T08:41:55.913Z"
   },
   {
    "duration": 26,
    "start_time": "2023-09-01T08:41:56.026Z"
   },
   {
    "duration": 219,
    "start_time": "2023-09-01T08:41:56.054Z"
   },
   {
    "duration": 203,
    "start_time": "2023-09-01T08:41:56.275Z"
   },
   {
    "duration": 280,
    "start_time": "2023-09-01T08:41:56.480Z"
   },
   {
    "duration": 197,
    "start_time": "2023-09-01T08:41:56.762Z"
   },
   {
    "duration": 222,
    "start_time": "2023-09-01T08:41:56.961Z"
   },
   {
    "duration": 203,
    "start_time": "2023-09-01T08:41:57.184Z"
   },
   {
    "duration": 202,
    "start_time": "2023-09-01T08:41:57.389Z"
   },
   {
    "duration": 195,
    "start_time": "2023-09-01T08:41:57.592Z"
   },
   {
    "duration": 4,
    "start_time": "2023-09-01T08:41:57.789Z"
   },
   {
    "duration": 15,
    "start_time": "2023-09-01T08:41:57.794Z"
   },
   {
    "duration": 7,
    "start_time": "2023-09-01T08:41:57.811Z"
   },
   {
    "duration": 7,
    "start_time": "2023-09-01T08:41:57.820Z"
   },
   {
    "duration": 5,
    "start_time": "2023-09-01T08:41:57.828Z"
   },
   {
    "duration": 13,
    "start_time": "2023-09-01T08:41:57.835Z"
   },
   {
    "duration": 862,
    "start_time": "2023-09-01T08:41:57.850Z"
   },
   {
    "duration": 1097,
    "start_time": "2023-09-01T08:41:58.714Z"
   },
   {
    "duration": 1441,
    "start_time": "2023-09-01T08:43:21.628Z"
   },
   {
    "duration": 332,
    "start_time": "2023-09-01T08:43:23.071Z"
   },
   {
    "duration": 28,
    "start_time": "2023-09-01T08:43:23.404Z"
   },
   {
    "duration": 19,
    "start_time": "2023-09-01T08:43:23.434Z"
   },
   {
    "duration": 92,
    "start_time": "2023-09-01T08:43:23.455Z"
   },
   {
    "duration": 22,
    "start_time": "2023-09-01T08:43:23.550Z"
   },
   {
    "duration": 17,
    "start_time": "2023-09-01T08:43:23.574Z"
   },
   {
    "duration": 418,
    "start_time": "2023-09-01T08:43:23.593Z"
   },
   {
    "duration": 21,
    "start_time": "2023-09-01T08:43:24.013Z"
   },
   {
    "duration": 53,
    "start_time": "2023-09-01T08:43:24.037Z"
   },
   {
    "duration": 7,
    "start_time": "2023-09-01T08:43:24.092Z"
   },
   {
    "duration": 37,
    "start_time": "2023-09-01T08:43:24.100Z"
   },
   {
    "duration": 14,
    "start_time": "2023-09-01T08:43:24.139Z"
   },
   {
    "duration": 90,
    "start_time": "2023-09-01T08:43:24.154Z"
   },
   {
    "duration": 18,
    "start_time": "2023-09-01T08:43:24.246Z"
   },
   {
    "duration": 24,
    "start_time": "2023-09-01T08:43:24.265Z"
   },
   {
    "duration": 31,
    "start_time": "2023-09-01T08:43:24.291Z"
   },
   {
    "duration": 17,
    "start_time": "2023-09-01T08:43:24.323Z"
   },
   {
    "duration": 19,
    "start_time": "2023-09-01T08:43:24.342Z"
   },
   {
    "duration": 36,
    "start_time": "2023-09-01T08:43:24.363Z"
   },
   {
    "duration": 147,
    "start_time": "2023-09-01T08:43:24.401Z"
   },
   {
    "duration": 86,
    "start_time": "2023-09-01T08:43:24.550Z"
   },
   {
    "duration": 23,
    "start_time": "2023-09-01T08:43:24.637Z"
   },
   {
    "duration": 860,
    "start_time": "2023-09-01T08:43:24.661Z"
   },
   {
    "duration": 717,
    "start_time": "2023-09-01T08:43:25.523Z"
   },
   {
    "duration": 744,
    "start_time": "2023-09-01T08:43:26.242Z"
   },
   {
    "duration": 138,
    "start_time": "2023-09-01T08:43:26.988Z"
   },
   {
    "duration": 136,
    "start_time": "2023-09-01T08:43:27.131Z"
   },
   {
    "duration": 256,
    "start_time": "2023-09-01T08:43:27.268Z"
   },
   {
    "duration": 122,
    "start_time": "2023-09-01T08:43:27.526Z"
   },
   {
    "duration": 41,
    "start_time": "2023-09-01T08:43:27.650Z"
   },
   {
    "duration": 136,
    "start_time": "2023-09-01T08:43:27.692Z"
   },
   {
    "duration": 135,
    "start_time": "2023-09-01T08:43:27.830Z"
   },
   {
    "duration": 113,
    "start_time": "2023-09-01T08:43:27.967Z"
   },
   {
    "duration": 127,
    "start_time": "2023-09-01T08:43:28.082Z"
   },
   {
    "duration": 23,
    "start_time": "2023-09-01T08:43:28.212Z"
   },
   {
    "duration": 144,
    "start_time": "2023-09-01T08:43:28.236Z"
   },
   {
    "duration": 115,
    "start_time": "2023-09-01T08:43:28.382Z"
   },
   {
    "duration": 130,
    "start_time": "2023-09-01T08:43:28.499Z"
   },
   {
    "duration": 116,
    "start_time": "2023-09-01T08:43:28.630Z"
   },
   {
    "duration": 25,
    "start_time": "2023-09-01T08:43:28.748Z"
   },
   {
    "duration": 217,
    "start_time": "2023-09-01T08:43:28.776Z"
   },
   {
    "duration": 218,
    "start_time": "2023-09-01T08:43:28.995Z"
   },
   {
    "duration": 282,
    "start_time": "2023-09-01T08:43:29.215Z"
   },
   {
    "duration": 197,
    "start_time": "2023-09-01T08:43:29.499Z"
   },
   {
    "duration": 238,
    "start_time": "2023-09-01T08:43:29.698Z"
   },
   {
    "duration": 251,
    "start_time": "2023-09-01T08:43:29.938Z"
   },
   {
    "duration": 222,
    "start_time": "2023-09-01T08:43:30.191Z"
   },
   {
    "duration": 204,
    "start_time": "2023-09-01T08:43:30.415Z"
   },
   {
    "duration": 4,
    "start_time": "2023-09-01T08:43:30.620Z"
   },
   {
    "duration": 27,
    "start_time": "2023-09-01T08:43:30.626Z"
   },
   {
    "duration": 31,
    "start_time": "2023-09-01T08:43:30.654Z"
   },
   {
    "duration": 25,
    "start_time": "2023-09-01T08:43:30.687Z"
   },
   {
    "duration": 52,
    "start_time": "2023-09-01T08:43:30.714Z"
   },
   {
    "duration": 76,
    "start_time": "2023-09-01T08:43:30.768Z"
   },
   {
    "duration": 966,
    "start_time": "2023-09-01T08:43:30.845Z"
   },
   {
    "duration": 1299,
    "start_time": "2023-09-01T08:43:31.815Z"
   },
   {
    "duration": 1168,
    "start_time": "2023-09-01T08:47:09.741Z"
   },
   {
    "duration": 882,
    "start_time": "2023-09-01T08:47:20.426Z"
   },
   {
    "duration": 1706,
    "start_time": "2023-09-01T08:50:55.005Z"
   },
   {
    "duration": 3,
    "start_time": "2023-09-01T08:53:08.315Z"
   },
   {
    "duration": 1944,
    "start_time": "2023-09-01T08:53:23.073Z"
   },
   {
    "duration": 59,
    "start_time": "2023-09-01T08:54:04.543Z"
   },
   {
    "duration": 2480,
    "start_time": "2023-09-01T08:54:13.130Z"
   },
   {
    "duration": 31,
    "start_time": "2023-09-01T08:55:16.343Z"
   },
   {
    "duration": 17,
    "start_time": "2023-09-01T09:00:52.678Z"
   },
   {
    "duration": 17,
    "start_time": "2023-09-01T09:00:59.680Z"
   },
   {
    "duration": 11,
    "start_time": "2023-09-01T09:01:11.506Z"
   },
   {
    "duration": 1481,
    "start_time": "2023-09-01T09:22:20.593Z"
   },
   {
    "duration": 337,
    "start_time": "2023-09-01T09:22:22.076Z"
   },
   {
    "duration": 37,
    "start_time": "2023-09-01T09:22:22.415Z"
   },
   {
    "duration": 34,
    "start_time": "2023-09-01T09:22:22.456Z"
   },
   {
    "duration": 108,
    "start_time": "2023-09-01T09:22:22.492Z"
   },
   {
    "duration": 34,
    "start_time": "2023-09-01T09:22:22.602Z"
   },
   {
    "duration": 22,
    "start_time": "2023-09-01T09:22:22.638Z"
   },
   {
    "duration": 447,
    "start_time": "2023-09-01T09:22:22.663Z"
   },
   {
    "duration": 25,
    "start_time": "2023-09-01T09:22:23.111Z"
   },
   {
    "duration": 19,
    "start_time": "2023-09-01T09:22:23.141Z"
   },
   {
    "duration": 8,
    "start_time": "2023-09-01T09:22:23.163Z"
   },
   {
    "duration": 36,
    "start_time": "2023-09-01T09:22:23.173Z"
   },
   {
    "duration": 16,
    "start_time": "2023-09-01T09:22:23.212Z"
   },
   {
    "duration": 82,
    "start_time": "2023-09-01T09:22:23.230Z"
   },
   {
    "duration": 16,
    "start_time": "2023-09-01T09:22:23.313Z"
   },
   {
    "duration": 21,
    "start_time": "2023-09-01T09:22:23.331Z"
   },
   {
    "duration": 14,
    "start_time": "2023-09-01T09:22:23.353Z"
   },
   {
    "duration": 43,
    "start_time": "2023-09-01T09:22:23.369Z"
   },
   {
    "duration": 7,
    "start_time": "2023-09-01T09:22:23.414Z"
   },
   {
    "duration": 22,
    "start_time": "2023-09-01T09:22:23.423Z"
   },
   {
    "duration": 155,
    "start_time": "2023-09-01T09:22:23.447Z"
   },
   {
    "duration": 84,
    "start_time": "2023-09-01T09:22:23.609Z"
   },
   {
    "duration": 33,
    "start_time": "2023-09-01T09:22:23.695Z"
   },
   {
    "duration": 805,
    "start_time": "2023-09-01T09:22:23.730Z"
   },
   {
    "duration": 710,
    "start_time": "2023-09-01T09:22:24.537Z"
   },
   {
    "duration": 749,
    "start_time": "2023-09-01T09:22:25.249Z"
   },
   {
    "duration": 129,
    "start_time": "2023-09-01T09:22:26.000Z"
   },
   {
    "duration": 271,
    "start_time": "2023-09-01T09:22:26.134Z"
   },
   {
    "duration": 112,
    "start_time": "2023-09-01T09:22:26.408Z"
   },
   {
    "duration": 130,
    "start_time": "2023-09-01T09:22:26.522Z"
   },
   {
    "duration": 42,
    "start_time": "2023-09-01T09:22:26.653Z"
   },
   {
    "duration": 132,
    "start_time": "2023-09-01T09:22:26.697Z"
   },
   {
    "duration": 128,
    "start_time": "2023-09-01T09:22:26.831Z"
   },
   {
    "duration": 113,
    "start_time": "2023-09-01T09:22:26.961Z"
   },
   {
    "duration": 129,
    "start_time": "2023-09-01T09:22:27.075Z"
   },
   {
    "duration": 23,
    "start_time": "2023-09-01T09:22:27.210Z"
   },
   {
    "duration": 134,
    "start_time": "2023-09-01T09:22:27.234Z"
   },
   {
    "duration": 111,
    "start_time": "2023-09-01T09:22:27.370Z"
   },
   {
    "duration": 128,
    "start_time": "2023-09-01T09:22:27.483Z"
   },
   {
    "duration": 105,
    "start_time": "2023-09-01T09:22:27.613Z"
   },
   {
    "duration": 25,
    "start_time": "2023-09-01T09:22:27.720Z"
   },
   {
    "duration": 214,
    "start_time": "2023-09-01T09:22:27.746Z"
   },
   {
    "duration": 300,
    "start_time": "2023-09-01T09:22:27.962Z"
   },
   {
    "duration": 206,
    "start_time": "2023-09-01T09:22:28.264Z"
   },
   {
    "duration": 280,
    "start_time": "2023-09-01T09:22:28.472Z"
   },
   {
    "duration": 261,
    "start_time": "2023-09-01T09:22:28.754Z"
   },
   {
    "duration": 220,
    "start_time": "2023-09-01T09:22:29.017Z"
   },
   {
    "duration": 210,
    "start_time": "2023-09-01T09:22:29.240Z"
   },
   {
    "duration": 195,
    "start_time": "2023-09-01T09:22:29.453Z"
   },
   {
    "duration": 4,
    "start_time": "2023-09-01T09:22:29.650Z"
   },
   {
    "duration": 18,
    "start_time": "2023-09-01T09:22:29.656Z"
   },
   {
    "duration": 25,
    "start_time": "2023-09-01T09:22:29.675Z"
   },
   {
    "duration": 16,
    "start_time": "2023-09-01T09:22:29.702Z"
   },
   {
    "duration": 13,
    "start_time": "2023-09-01T09:22:29.720Z"
   },
   {
    "duration": 29,
    "start_time": "2023-09-01T09:22:29.735Z"
   },
   {
    "duration": 1399,
    "start_time": "2023-09-01T09:22:29.766Z"
   },
   {
    "duration": 0,
    "start_time": "2023-09-01T09:22:31.168Z"
   },
   {
    "duration": 0,
    "start_time": "2023-09-01T09:22:31.170Z"
   },
   {
    "duration": 2084,
    "start_time": "2023-09-01T09:22:56.129Z"
   },
   {
    "duration": 5205,
    "start_time": "2023-09-01T09:23:00.984Z"
   },
   {
    "duration": 97135,
    "start_time": "2023-09-01T09:28:31.100Z"
   },
   {
    "duration": 3,
    "start_time": "2023-09-01T09:30:08.238Z"
   },
   {
    "duration": 2101,
    "start_time": "2023-09-01T09:32:05.111Z"
   },
   {
    "duration": 2031,
    "start_time": "2023-09-01T09:32:34.986Z"
   },
   {
    "duration": 4,
    "start_time": "2023-09-01T09:34:56.022Z"
   },
   {
    "duration": 1963,
    "start_time": "2023-09-01T09:34:58.948Z"
   },
   {
    "duration": 1934,
    "start_time": "2023-09-01T09:36:15.576Z"
   },
   {
    "duration": 65522,
    "start_time": "2023-09-01T09:37:40.982Z"
   },
   {
    "duration": 321234,
    "start_time": "2023-09-01T09:39:02.243Z"
   },
   {
    "duration": 4,
    "start_time": "2023-09-01T09:44:38.374Z"
   },
   {
    "duration": 6158,
    "start_time": "2023-09-01T09:47:06.062Z"
   },
   {
    "duration": 7,
    "start_time": "2023-09-01T09:48:14.785Z"
   },
   {
    "duration": 6138,
    "start_time": "2023-09-01T09:48:20.184Z"
   },
   {
    "duration": 1642,
    "start_time": "2023-09-01T09:48:34.000Z"
   },
   {
    "duration": 2132,
    "start_time": "2023-09-01T09:49:28.682Z"
   },
   {
    "duration": 1502,
    "start_time": "2023-09-01T09:49:42.068Z"
   },
   {
    "duration": 358,
    "start_time": "2023-09-01T09:49:43.572Z"
   },
   {
    "duration": 27,
    "start_time": "2023-09-01T09:49:43.932Z"
   },
   {
    "duration": 19,
    "start_time": "2023-09-01T09:49:43.960Z"
   },
   {
    "duration": 103,
    "start_time": "2023-09-01T09:49:43.980Z"
   },
   {
    "duration": 38,
    "start_time": "2023-09-01T09:49:44.085Z"
   },
   {
    "duration": 14,
    "start_time": "2023-09-01T09:49:44.125Z"
   },
   {
    "duration": 454,
    "start_time": "2023-09-01T09:49:44.140Z"
   },
   {
    "duration": 30,
    "start_time": "2023-09-01T09:49:44.595Z"
   },
   {
    "duration": 33,
    "start_time": "2023-09-01T09:49:44.628Z"
   },
   {
    "duration": 10,
    "start_time": "2023-09-01T09:49:44.663Z"
   },
   {
    "duration": 26,
    "start_time": "2023-09-01T09:49:44.675Z"
   },
   {
    "duration": 17,
    "start_time": "2023-09-01T09:49:44.702Z"
   },
   {
    "duration": 69,
    "start_time": "2023-09-01T09:49:44.721Z"
   },
   {
    "duration": 18,
    "start_time": "2023-09-01T09:49:44.791Z"
   },
   {
    "duration": 22,
    "start_time": "2023-09-01T09:49:44.821Z"
   },
   {
    "duration": 14,
    "start_time": "2023-09-01T09:49:44.844Z"
   },
   {
    "duration": 17,
    "start_time": "2023-09-01T09:49:44.859Z"
   },
   {
    "duration": 8,
    "start_time": "2023-09-01T09:49:44.878Z"
   },
   {
    "duration": 36,
    "start_time": "2023-09-01T09:49:44.887Z"
   },
   {
    "duration": 154,
    "start_time": "2023-09-01T09:49:44.925Z"
   },
   {
    "duration": 87,
    "start_time": "2023-09-01T09:49:45.081Z"
   },
   {
    "duration": 23,
    "start_time": "2023-09-01T09:49:45.170Z"
   },
   {
    "duration": 866,
    "start_time": "2023-09-01T09:49:45.195Z"
   },
   {
    "duration": 738,
    "start_time": "2023-09-01T09:49:46.063Z"
   },
   {
    "duration": 778,
    "start_time": "2023-09-01T09:49:46.803Z"
   },
   {
    "duration": 143,
    "start_time": "2023-09-01T09:49:47.583Z"
   },
   {
    "duration": 262,
    "start_time": "2023-09-01T09:49:47.731Z"
   },
   {
    "duration": 131,
    "start_time": "2023-09-01T09:49:47.995Z"
   },
   {
    "duration": 121,
    "start_time": "2023-09-01T09:49:48.128Z"
   },
   {
    "duration": 40,
    "start_time": "2023-09-01T09:49:48.251Z"
   },
   {
    "duration": 132,
    "start_time": "2023-09-01T09:49:48.293Z"
   },
   {
    "duration": 139,
    "start_time": "2023-09-01T09:49:48.426Z"
   },
   {
    "duration": 127,
    "start_time": "2023-09-01T09:49:48.567Z"
   },
   {
    "duration": 155,
    "start_time": "2023-09-01T09:49:48.697Z"
   },
   {
    "duration": 23,
    "start_time": "2023-09-01T09:49:48.854Z"
   },
   {
    "duration": 161,
    "start_time": "2023-09-01T09:49:48.879Z"
   },
   {
    "duration": 117,
    "start_time": "2023-09-01T09:49:49.042Z"
   },
   {
    "duration": 132,
    "start_time": "2023-09-01T09:49:49.161Z"
   },
   {
    "duration": 117,
    "start_time": "2023-09-01T09:49:49.294Z"
   },
   {
    "duration": 31,
    "start_time": "2023-09-01T09:49:49.413Z"
   },
   {
    "duration": 246,
    "start_time": "2023-09-01T09:49:49.446Z"
   },
   {
    "duration": 327,
    "start_time": "2023-09-01T09:49:49.694Z"
   },
   {
    "duration": 216,
    "start_time": "2023-09-01T09:49:50.025Z"
   },
   {
    "duration": 209,
    "start_time": "2023-09-01T09:49:50.243Z"
   },
   {
    "duration": 266,
    "start_time": "2023-09-01T09:49:50.454Z"
   },
   {
    "duration": 225,
    "start_time": "2023-09-01T09:49:50.722Z"
   },
   {
    "duration": 223,
    "start_time": "2023-09-01T09:49:50.949Z"
   },
   {
    "duration": 214,
    "start_time": "2023-09-01T09:49:51.175Z"
   },
   {
    "duration": 4,
    "start_time": "2023-09-01T09:49:51.391Z"
   },
   {
    "duration": 30,
    "start_time": "2023-09-01T09:49:51.397Z"
   },
   {
    "duration": 5,
    "start_time": "2023-09-01T09:49:51.429Z"
   },
   {
    "duration": 10,
    "start_time": "2023-09-01T09:49:51.436Z"
   },
   {
    "duration": 11,
    "start_time": "2023-09-01T09:49:51.448Z"
   },
   {
    "duration": 5,
    "start_time": "2023-09-01T09:49:51.460Z"
   },
   {
    "duration": 22,
    "start_time": "2023-09-01T09:49:51.467Z"
   },
   {
    "duration": 1638,
    "start_time": "2023-09-01T09:49:51.491Z"
   },
   {
    "duration": 1734,
    "start_time": "2023-09-01T09:49:53.131Z"
   },
   {
    "duration": 67209,
    "start_time": "2023-09-01T09:49:54.867Z"
   },
   {
    "duration": 11,
    "start_time": "2023-09-01T09:51:02.078Z"
   },
   {
    "duration": 0,
    "start_time": "2023-09-01T09:51:02.090Z"
   },
   {
    "duration": 2833,
    "start_time": "2023-09-01T09:51:06.084Z"
   },
   {
    "duration": 2564,
    "start_time": "2023-09-01T09:52:34.552Z"
   },
   {
    "duration": 5529,
    "start_time": "2023-09-01T09:52:51.173Z"
   },
   {
    "duration": 1682,
    "start_time": "2023-09-01T09:53:00.656Z"
   },
   {
    "duration": 3433,
    "start_time": "2023-09-01T09:53:22.479Z"
   },
   {
    "duration": 1504,
    "start_time": "2023-09-01T09:53:33.088Z"
   },
   {
    "duration": 357,
    "start_time": "2023-09-01T09:53:34.594Z"
   },
   {
    "duration": 26,
    "start_time": "2023-09-01T09:53:34.953Z"
   },
   {
    "duration": 39,
    "start_time": "2023-09-01T09:53:34.982Z"
   },
   {
    "duration": 87,
    "start_time": "2023-09-01T09:53:35.023Z"
   },
   {
    "duration": 26,
    "start_time": "2023-09-01T09:53:35.120Z"
   },
   {
    "duration": 15,
    "start_time": "2023-09-01T09:53:35.148Z"
   },
   {
    "duration": 480,
    "start_time": "2023-09-01T09:53:35.166Z"
   },
   {
    "duration": 22,
    "start_time": "2023-09-01T09:53:35.648Z"
   },
   {
    "duration": 63,
    "start_time": "2023-09-01T09:53:35.674Z"
   },
   {
    "duration": 23,
    "start_time": "2023-09-01T09:53:35.739Z"
   },
   {
    "duration": 18,
    "start_time": "2023-09-01T09:53:35.764Z"
   },
   {
    "duration": 18,
    "start_time": "2023-09-01T09:53:35.784Z"
   },
   {
    "duration": 87,
    "start_time": "2023-09-01T09:53:35.804Z"
   },
   {
    "duration": 15,
    "start_time": "2023-09-01T09:53:35.893Z"
   },
   {
    "duration": 32,
    "start_time": "2023-09-01T09:53:35.913Z"
   },
   {
    "duration": 14,
    "start_time": "2023-09-01T09:53:35.947Z"
   },
   {
    "duration": 19,
    "start_time": "2023-09-01T09:53:35.963Z"
   },
   {
    "duration": 35,
    "start_time": "2023-09-01T09:53:35.984Z"
   },
   {
    "duration": 15,
    "start_time": "2023-09-01T09:53:36.021Z"
   },
   {
    "duration": 148,
    "start_time": "2023-09-01T09:53:36.038Z"
   },
   {
    "duration": 86,
    "start_time": "2023-09-01T09:53:36.187Z"
   },
   {
    "duration": 43,
    "start_time": "2023-09-01T09:53:36.275Z"
   },
   {
    "duration": 847,
    "start_time": "2023-09-01T09:53:36.321Z"
   },
   {
    "duration": 764,
    "start_time": "2023-09-01T09:53:37.170Z"
   },
   {
    "duration": 750,
    "start_time": "2023-09-01T09:53:37.936Z"
   },
   {
    "duration": 144,
    "start_time": "2023-09-01T09:53:38.688Z"
   },
   {
    "duration": 258,
    "start_time": "2023-09-01T09:53:38.837Z"
   },
   {
    "duration": 126,
    "start_time": "2023-09-01T09:53:39.098Z"
   },
   {
    "duration": 119,
    "start_time": "2023-09-01T09:53:39.226Z"
   },
   {
    "duration": 41,
    "start_time": "2023-09-01T09:53:39.347Z"
   },
   {
    "duration": 122,
    "start_time": "2023-09-01T09:53:39.389Z"
   },
   {
    "duration": 127,
    "start_time": "2023-09-01T09:53:39.518Z"
   },
   {
    "duration": 113,
    "start_time": "2023-09-01T09:53:39.647Z"
   },
   {
    "duration": 124,
    "start_time": "2023-09-01T09:53:39.762Z"
   },
   {
    "duration": 34,
    "start_time": "2023-09-01T09:53:39.888Z"
   },
   {
    "duration": 131,
    "start_time": "2023-09-01T09:53:39.924Z"
   },
   {
    "duration": 115,
    "start_time": "2023-09-01T09:53:40.057Z"
   },
   {
    "duration": 129,
    "start_time": "2023-09-01T09:53:40.174Z"
   },
   {
    "duration": 121,
    "start_time": "2023-09-01T09:53:40.305Z"
   },
   {
    "duration": 26,
    "start_time": "2023-09-01T09:53:40.428Z"
   },
   {
    "duration": 236,
    "start_time": "2023-09-01T09:53:40.456Z"
   },
   {
    "duration": 304,
    "start_time": "2023-09-01T09:53:40.694Z"
   },
   {
    "duration": 210,
    "start_time": "2023-09-01T09:53:40.999Z"
   },
   {
    "duration": 208,
    "start_time": "2023-09-01T09:53:41.213Z"
   },
   {
    "duration": 214,
    "start_time": "2023-09-01T09:53:41.423Z"
   },
   {
    "duration": 213,
    "start_time": "2023-09-01T09:53:41.639Z"
   },
   {
    "duration": 213,
    "start_time": "2023-09-01T09:53:41.854Z"
   },
   {
    "duration": 202,
    "start_time": "2023-09-01T09:53:42.069Z"
   },
   {
    "duration": 4,
    "start_time": "2023-09-01T09:53:42.273Z"
   },
   {
    "duration": 12,
    "start_time": "2023-09-01T09:53:42.279Z"
   },
   {
    "duration": 7,
    "start_time": "2023-09-01T09:53:42.293Z"
   },
   {
    "duration": 11,
    "start_time": "2023-09-01T09:53:42.302Z"
   },
   {
    "duration": 16,
    "start_time": "2023-09-01T09:53:42.314Z"
   },
   {
    "duration": 6,
    "start_time": "2023-09-01T09:53:42.332Z"
   },
   {
    "duration": 13,
    "start_time": "2023-09-01T09:53:42.339Z"
   },
   {
    "duration": 2870,
    "start_time": "2023-09-01T09:53:42.354Z"
   },
   {
    "duration": 1784,
    "start_time": "2023-09-01T09:53:45.311Z"
   },
   {
    "duration": 136,
    "start_time": "2023-09-01T09:53:47.096Z"
   },
   {
    "duration": 2400,
    "start_time": "2023-09-01T09:53:55.720Z"
   },
   {
    "duration": 5437,
    "start_time": "2023-09-01T09:54:09.796Z"
   },
   {
    "duration": 9309,
    "start_time": "2023-09-01T09:55:15.039Z"
   },
   {
    "duration": 5505,
    "start_time": "2023-09-01T09:56:20.363Z"
   },
   {
    "duration": 1510,
    "start_time": "2023-09-01T09:56:51.964Z"
   },
   {
    "duration": 368,
    "start_time": "2023-09-01T09:56:53.476Z"
   },
   {
    "duration": 27,
    "start_time": "2023-09-01T09:56:53.846Z"
   },
   {
    "duration": 38,
    "start_time": "2023-09-01T09:56:53.875Z"
   },
   {
    "duration": 88,
    "start_time": "2023-09-01T09:56:53.916Z"
   },
   {
    "duration": 33,
    "start_time": "2023-09-01T09:56:54.005Z"
   },
   {
    "duration": 15,
    "start_time": "2023-09-01T09:56:54.039Z"
   },
   {
    "duration": 440,
    "start_time": "2023-09-01T09:56:54.056Z"
   },
   {
    "duration": 28,
    "start_time": "2023-09-01T09:56:54.498Z"
   },
   {
    "duration": 20,
    "start_time": "2023-09-01T09:56:54.528Z"
   },
   {
    "duration": 10,
    "start_time": "2023-09-01T09:56:54.550Z"
   },
   {
    "duration": 4,
    "start_time": "2023-09-01T09:56:54.562Z"
   },
   {
    "duration": 5,
    "start_time": "2023-09-01T09:56:54.567Z"
   },
   {
    "duration": 76,
    "start_time": "2023-09-01T09:56:54.610Z"
   },
   {
    "duration": 35,
    "start_time": "2023-09-01T09:56:54.688Z"
   },
   {
    "duration": 24,
    "start_time": "2023-09-01T09:56:54.724Z"
   },
   {
    "duration": 15,
    "start_time": "2023-09-01T09:56:54.749Z"
   },
   {
    "duration": 17,
    "start_time": "2023-09-01T09:56:54.766Z"
   },
   {
    "duration": 32,
    "start_time": "2023-09-01T09:56:54.785Z"
   },
   {
    "duration": 17,
    "start_time": "2023-09-01T09:56:54.819Z"
   },
   {
    "duration": 164,
    "start_time": "2023-09-01T09:56:54.838Z"
   },
   {
    "duration": 92,
    "start_time": "2023-09-01T09:56:55.004Z"
   },
   {
    "duration": 33,
    "start_time": "2023-09-01T09:56:55.098Z"
   },
   {
    "duration": 890,
    "start_time": "2023-09-01T09:56:55.133Z"
   },
   {
    "duration": 722,
    "start_time": "2023-09-01T09:56:56.025Z"
   },
   {
    "duration": 749,
    "start_time": "2023-09-01T09:56:56.750Z"
   },
   {
    "duration": 128,
    "start_time": "2023-09-01T09:56:57.501Z"
   },
   {
    "duration": 292,
    "start_time": "2023-09-01T09:56:57.631Z"
   },
   {
    "duration": 113,
    "start_time": "2023-09-01T09:56:57.925Z"
   },
   {
    "duration": 119,
    "start_time": "2023-09-01T09:56:58.040Z"
   },
   {
    "duration": 63,
    "start_time": "2023-09-01T09:56:58.161Z"
   },
   {
    "duration": 107,
    "start_time": "2023-09-01T09:56:58.226Z"
   },
   {
    "duration": 128,
    "start_time": "2023-09-01T09:56:58.335Z"
   },
   {
    "duration": 115,
    "start_time": "2023-09-01T09:56:58.465Z"
   },
   {
    "duration": 142,
    "start_time": "2023-09-01T09:56:58.582Z"
   },
   {
    "duration": 21,
    "start_time": "2023-09-01T09:56:58.726Z"
   },
   {
    "duration": 119,
    "start_time": "2023-09-01T09:56:58.749Z"
   },
   {
    "duration": 114,
    "start_time": "2023-09-01T09:56:58.870Z"
   },
   {
    "duration": 141,
    "start_time": "2023-09-01T09:56:58.986Z"
   },
   {
    "duration": 113,
    "start_time": "2023-09-01T09:56:59.129Z"
   },
   {
    "duration": 25,
    "start_time": "2023-09-01T09:56:59.246Z"
   },
   {
    "duration": 222,
    "start_time": "2023-09-01T09:56:59.273Z"
   },
   {
    "duration": 325,
    "start_time": "2023-09-01T09:56:59.497Z"
   },
   {
    "duration": 201,
    "start_time": "2023-09-01T09:56:59.824Z"
   },
   {
    "duration": 206,
    "start_time": "2023-09-01T09:57:00.027Z"
   },
   {
    "duration": 222,
    "start_time": "2023-09-01T09:57:00.235Z"
   },
   {
    "duration": 218,
    "start_time": "2023-09-01T09:57:00.459Z"
   },
   {
    "duration": 218,
    "start_time": "2023-09-01T09:57:00.678Z"
   },
   {
    "duration": 204,
    "start_time": "2023-09-01T09:57:00.898Z"
   },
   {
    "duration": 7,
    "start_time": "2023-09-01T09:57:01.103Z"
   },
   {
    "duration": 24,
    "start_time": "2023-09-01T09:57:01.112Z"
   },
   {
    "duration": 49,
    "start_time": "2023-09-01T09:57:01.138Z"
   },
   {
    "duration": 38,
    "start_time": "2023-09-01T09:57:01.189Z"
   },
   {
    "duration": 24,
    "start_time": "2023-09-01T09:57:01.229Z"
   },
   {
    "duration": 16,
    "start_time": "2023-09-01T09:57:01.255Z"
   },
   {
    "duration": 72,
    "start_time": "2023-09-01T09:57:01.272Z"
   },
   {
    "duration": 3270,
    "start_time": "2023-09-01T09:57:01.345Z"
   },
   {
    "duration": 371,
    "start_time": "2023-09-01T09:57:04.617Z"
   },
   {
    "duration": 0,
    "start_time": "2023-09-01T09:57:04.990Z"
   },
   {
    "duration": 0,
    "start_time": "2023-09-01T09:57:04.992Z"
   },
   {
    "duration": 1,
    "start_time": "2023-09-01T09:57:04.993Z"
   },
   {
    "duration": 152,
    "start_time": "2023-09-01T09:57:23.342Z"
   },
   {
    "duration": 5684,
    "start_time": "2023-09-01T09:57:29.220Z"
   },
   {
    "duration": 9366,
    "start_time": "2023-09-01T09:57:44.879Z"
   },
   {
    "duration": 4,
    "start_time": "2023-09-01T09:58:02.953Z"
   },
   {
    "duration": 151111,
    "start_time": "2023-09-01T09:59:07.467Z"
   },
   {
    "duration": 1496,
    "start_time": "2023-09-01T10:01:47.681Z"
   },
   {
    "duration": 366,
    "start_time": "2023-09-01T10:01:49.179Z"
   },
   {
    "duration": 26,
    "start_time": "2023-09-01T10:01:49.547Z"
   },
   {
    "duration": 18,
    "start_time": "2023-09-01T10:01:49.575Z"
   },
   {
    "duration": 91,
    "start_time": "2023-09-01T10:01:49.610Z"
   },
   {
    "duration": 34,
    "start_time": "2023-09-01T10:01:49.703Z"
   },
   {
    "duration": 14,
    "start_time": "2023-09-01T10:01:49.738Z"
   },
   {
    "duration": 460,
    "start_time": "2023-09-01T10:01:49.753Z"
   },
   {
    "duration": 23,
    "start_time": "2023-09-01T10:01:50.224Z"
   },
   {
    "duration": 47,
    "start_time": "2023-09-01T10:01:50.250Z"
   },
   {
    "duration": 7,
    "start_time": "2023-09-01T10:01:50.298Z"
   },
   {
    "duration": 14,
    "start_time": "2023-09-01T10:01:50.307Z"
   },
   {
    "duration": 6,
    "start_time": "2023-09-01T10:01:50.323Z"
   },
   {
    "duration": 66,
    "start_time": "2023-09-01T10:01:50.330Z"
   },
   {
    "duration": 32,
    "start_time": "2023-09-01T10:01:50.398Z"
   },
   {
    "duration": 24,
    "start_time": "2023-09-01T10:01:50.432Z"
   },
   {
    "duration": 15,
    "start_time": "2023-09-01T10:01:50.459Z"
   },
   {
    "duration": 48,
    "start_time": "2023-09-01T10:01:50.476Z"
   },
   {
    "duration": 8,
    "start_time": "2023-09-01T10:01:50.526Z"
   },
   {
    "duration": 17,
    "start_time": "2023-09-01T10:01:50.536Z"
   },
   {
    "duration": 165,
    "start_time": "2023-09-01T10:01:50.556Z"
   },
   {
    "duration": 76,
    "start_time": "2023-09-01T10:01:50.723Z"
   },
   {
    "duration": 38,
    "start_time": "2023-09-01T10:01:50.800Z"
   },
   {
    "duration": 832,
    "start_time": "2023-09-01T10:01:50.840Z"
   },
   {
    "duration": 716,
    "start_time": "2023-09-01T10:01:51.673Z"
   },
   {
    "duration": 804,
    "start_time": "2023-09-01T10:01:52.390Z"
   },
   {
    "duration": 138,
    "start_time": "2023-09-01T10:01:53.196Z"
   },
   {
    "duration": 263,
    "start_time": "2023-09-01T10:01:53.338Z"
   },
   {
    "duration": 118,
    "start_time": "2023-09-01T10:01:53.608Z"
   },
   {
    "duration": 121,
    "start_time": "2023-09-01T10:01:53.728Z"
   },
   {
    "duration": 43,
    "start_time": "2023-09-01T10:01:53.850Z"
   },
   {
    "duration": 128,
    "start_time": "2023-09-01T10:01:53.895Z"
   },
   {
    "duration": 130,
    "start_time": "2023-09-01T10:01:54.026Z"
   },
   {
    "duration": 105,
    "start_time": "2023-09-01T10:01:54.158Z"
   },
   {
    "duration": 126,
    "start_time": "2023-09-01T10:01:54.265Z"
   },
   {
    "duration": 32,
    "start_time": "2023-09-01T10:01:54.392Z"
   },
   {
    "duration": 119,
    "start_time": "2023-09-01T10:01:54.425Z"
   },
   {
    "duration": 120,
    "start_time": "2023-09-01T10:01:54.546Z"
   },
   {
    "duration": 125,
    "start_time": "2023-09-01T10:01:54.668Z"
   },
   {
    "duration": 117,
    "start_time": "2023-09-01T10:01:54.795Z"
   },
   {
    "duration": 26,
    "start_time": "2023-09-01T10:01:54.925Z"
   },
   {
    "duration": 257,
    "start_time": "2023-09-01T10:01:54.952Z"
   },
   {
    "duration": 335,
    "start_time": "2023-09-01T10:01:55.217Z"
   },
   {
    "duration": 206,
    "start_time": "2023-09-01T10:01:55.554Z"
   },
   {
    "duration": 212,
    "start_time": "2023-09-01T10:01:55.762Z"
   },
   {
    "duration": 238,
    "start_time": "2023-09-01T10:01:55.975Z"
   },
   {
    "duration": 222,
    "start_time": "2023-09-01T10:01:56.218Z"
   },
   {
    "duration": 228,
    "start_time": "2023-09-01T10:01:56.442Z"
   },
   {
    "duration": 197,
    "start_time": "2023-09-01T10:01:56.672Z"
   },
   {
    "duration": 3,
    "start_time": "2023-09-01T10:01:56.871Z"
   },
   {
    "duration": 14,
    "start_time": "2023-09-01T10:01:56.876Z"
   },
   {
    "duration": 14,
    "start_time": "2023-09-01T10:01:56.892Z"
   },
   {
    "duration": 26,
    "start_time": "2023-09-01T10:01:56.908Z"
   },
   {
    "duration": 25,
    "start_time": "2023-09-01T10:01:56.936Z"
   },
   {
    "duration": 36,
    "start_time": "2023-09-01T10:01:56.963Z"
   },
   {
    "duration": 40,
    "start_time": "2023-09-01T10:01:57.001Z"
   },
   {
    "duration": 2082,
    "start_time": "2023-09-01T10:01:57.043Z"
   },
   {
    "duration": 5507,
    "start_time": "2023-09-01T10:01:59.128Z"
   },
   {
    "duration": 9087,
    "start_time": "2023-09-01T10:02:04.636Z"
   },
   {
    "duration": 3,
    "start_time": "2023-09-01T10:02:13.725Z"
   },
   {
    "duration": 63556,
    "start_time": "2023-09-01T10:02:13.730Z"
   },
   {
    "duration": 3,
    "start_time": "2023-09-01T10:03:17.287Z"
   },
   {
    "duration": 52504,
    "start_time": "2023-09-01T10:05:12.725Z"
   },
   {
    "duration": 108,
    "start_time": "2023-09-01T10:06:24.792Z"
   },
   {
    "duration": 116,
    "start_time": "2023-09-01T10:06:45.270Z"
   },
   {
    "duration": 24020,
    "start_time": "2023-09-01T10:12:33.526Z"
   },
   {
    "duration": 63220,
    "start_time": "2023-09-01T10:13:56.243Z"
   },
   {
    "duration": 11,
    "start_time": "2023-09-01T10:15:07.248Z"
   },
   {
    "duration": 3,
    "start_time": "2023-09-01T10:15:20.924Z"
   },
   {
    "duration": 4,
    "start_time": "2023-09-01T10:15:51.491Z"
   },
   {
    "duration": 4,
    "start_time": "2023-09-01T10:15:56.578Z"
   },
   {
    "duration": 4,
    "start_time": "2023-09-01T10:17:58.708Z"
   },
   {
    "duration": 10725,
    "start_time": "2023-09-01T10:19:55.180Z"
   },
   {
    "duration": 17115,
    "start_time": "2023-09-01T10:20:53.860Z"
   },
   {
    "duration": 4,
    "start_time": "2023-09-01T10:22:22.800Z"
   },
   {
    "duration": 4,
    "start_time": "2023-09-01T10:24:06.176Z"
   },
   {
    "duration": 1780,
    "start_time": "2023-09-01T10:27:50.428Z"
   },
   {
    "duration": 7,
    "start_time": "2023-09-01T10:27:52.213Z"
   },
   {
    "duration": 438,
    "start_time": "2023-09-01T10:27:52.222Z"
   },
   {
    "duration": 36,
    "start_time": "2023-09-01T10:27:52.663Z"
   },
   {
    "duration": 27,
    "start_time": "2023-09-01T10:27:52.712Z"
   },
   {
    "duration": 141,
    "start_time": "2023-09-01T10:27:52.748Z"
   },
   {
    "duration": 44,
    "start_time": "2023-09-01T10:27:52.891Z"
   },
   {
    "duration": 26,
    "start_time": "2023-09-01T10:27:52.939Z"
   },
   {
    "duration": 525,
    "start_time": "2023-09-01T10:27:52.967Z"
   },
   {
    "duration": 39,
    "start_time": "2023-09-01T10:27:53.496Z"
   },
   {
    "duration": 27,
    "start_time": "2023-09-01T10:27:53.537Z"
   },
   {
    "duration": 10,
    "start_time": "2023-09-01T10:27:53.566Z"
   },
   {
    "duration": 35,
    "start_time": "2023-09-01T10:27:53.579Z"
   },
   {
    "duration": 17,
    "start_time": "2023-09-01T10:27:53.616Z"
   },
   {
    "duration": 78,
    "start_time": "2023-09-01T10:27:53.635Z"
   },
   {
    "duration": 22,
    "start_time": "2023-09-01T10:27:53.717Z"
   },
   {
    "duration": 25,
    "start_time": "2023-09-01T10:27:53.741Z"
   },
   {
    "duration": 14,
    "start_time": "2023-09-01T10:27:53.769Z"
   },
   {
    "duration": 33,
    "start_time": "2023-09-01T10:27:53.811Z"
   },
   {
    "duration": 8,
    "start_time": "2023-09-01T10:27:53.846Z"
   },
   {
    "duration": 29,
    "start_time": "2023-09-01T10:27:53.856Z"
   },
   {
    "duration": 190,
    "start_time": "2023-09-01T10:27:53.887Z"
   },
   {
    "duration": 93,
    "start_time": "2023-09-01T10:27:54.079Z"
   },
   {
    "duration": 24,
    "start_time": "2023-09-01T10:27:54.174Z"
   },
   {
    "duration": 964,
    "start_time": "2023-09-01T10:27:54.199Z"
   },
   {
    "duration": 816,
    "start_time": "2023-09-01T10:27:55.164Z"
   },
   {
    "duration": 845,
    "start_time": "2023-09-01T10:27:55.982Z"
   },
   {
    "duration": 150,
    "start_time": "2023-09-01T10:27:56.833Z"
   },
   {
    "duration": 277,
    "start_time": "2023-09-01T10:27:56.986Z"
   },
   {
    "duration": 166,
    "start_time": "2023-09-01T10:27:57.265Z"
   },
   {
    "duration": 135,
    "start_time": "2023-09-01T10:27:57.433Z"
   },
   {
    "duration": 57,
    "start_time": "2023-09-01T10:27:57.571Z"
   },
   {
    "duration": 141,
    "start_time": "2023-09-01T10:27:57.631Z"
   },
   {
    "duration": 145,
    "start_time": "2023-09-01T10:27:57.774Z"
   },
   {
    "duration": 107,
    "start_time": "2023-09-01T10:27:57.929Z"
   },
   {
    "duration": 140,
    "start_time": "2023-09-01T10:27:58.038Z"
   },
   {
    "duration": 32,
    "start_time": "2023-09-01T10:27:58.179Z"
   },
   {
    "duration": 132,
    "start_time": "2023-09-01T10:27:58.213Z"
   },
   {
    "duration": 134,
    "start_time": "2023-09-01T10:27:58.347Z"
   },
   {
    "duration": 158,
    "start_time": "2023-09-01T10:27:58.483Z"
   },
   {
    "duration": 117,
    "start_time": "2023-09-01T10:27:58.644Z"
   },
   {
    "duration": 25,
    "start_time": "2023-09-01T10:27:58.762Z"
   },
   {
    "duration": 253,
    "start_time": "2023-09-01T10:27:58.788Z"
   },
   {
    "duration": 225,
    "start_time": "2023-09-01T10:27:59.047Z"
   },
   {
    "duration": 320,
    "start_time": "2023-09-01T10:27:59.274Z"
   },
   {
    "duration": 239,
    "start_time": "2023-09-01T10:27:59.596Z"
   },
   {
    "duration": 253,
    "start_time": "2023-09-01T10:27:59.837Z"
   },
   {
    "duration": 244,
    "start_time": "2023-09-01T10:28:00.092Z"
   },
   {
    "duration": 238,
    "start_time": "2023-09-01T10:28:00.338Z"
   },
   {
    "duration": 214,
    "start_time": "2023-09-01T10:28:00.578Z"
   },
   {
    "duration": 3,
    "start_time": "2023-09-01T10:28:00.794Z"
   },
   {
    "duration": 108,
    "start_time": "2023-09-01T10:28:00.812Z"
   },
   {
    "duration": 37,
    "start_time": "2023-09-01T10:28:00.922Z"
   },
   {
    "duration": 60,
    "start_time": "2023-09-01T10:28:00.961Z"
   },
   {
    "duration": 50,
    "start_time": "2023-09-01T10:28:01.023Z"
   },
   {
    "duration": 53,
    "start_time": "2023-09-01T10:28:01.075Z"
   },
   {
    "duration": 77,
    "start_time": "2023-09-01T10:28:01.130Z"
   },
   {
    "duration": 4403,
    "start_time": "2023-09-01T10:28:01.221Z"
   },
   {
    "duration": 293,
    "start_time": "2023-09-01T10:28:05.627Z"
   },
   {
    "duration": 0,
    "start_time": "2023-09-01T10:28:05.925Z"
   },
   {
    "duration": 0,
    "start_time": "2023-09-01T10:28:05.926Z"
   },
   {
    "duration": 0,
    "start_time": "2023-09-01T10:28:05.928Z"
   },
   {
    "duration": 0,
    "start_time": "2023-09-01T10:28:05.929Z"
   },
   {
    "duration": 0,
    "start_time": "2023-09-01T10:28:05.930Z"
   },
   {
    "duration": 0,
    "start_time": "2023-09-01T10:28:05.931Z"
   },
   {
    "duration": 0,
    "start_time": "2023-09-01T10:28:05.933Z"
   },
   {
    "duration": 0,
    "start_time": "2023-09-01T10:28:05.934Z"
   },
   {
    "duration": 0,
    "start_time": "2023-09-01T10:28:05.935Z"
   },
   {
    "duration": 167,
    "start_time": "2023-09-01T10:28:20.664Z"
   },
   {
    "duration": 11142,
    "start_time": "2023-09-01T10:28:29.099Z"
   },
   {
    "duration": 11485,
    "start_time": "2023-09-01T10:28:49.348Z"
   },
   {
    "duration": 4,
    "start_time": "2023-09-01T10:29:00.835Z"
   },
   {
    "duration": 137,
    "start_time": "2023-09-01T10:29:00.842Z"
   },
   {
    "duration": 112,
    "start_time": "2023-09-01T10:29:00.981Z"
   },
   {
    "duration": 1637,
    "start_time": "2023-09-01T10:29:51.068Z"
   },
   {
    "duration": 10,
    "start_time": "2023-09-01T10:29:52.707Z"
   },
   {
    "duration": 416,
    "start_time": "2023-09-01T10:29:52.722Z"
   },
   {
    "duration": 35,
    "start_time": "2023-09-01T10:29:53.140Z"
   },
   {
    "duration": 33,
    "start_time": "2023-09-01T10:29:53.176Z"
   },
   {
    "duration": 119,
    "start_time": "2023-09-01T10:29:53.212Z"
   },
   {
    "duration": 22,
    "start_time": "2023-09-01T10:29:53.333Z"
   },
   {
    "duration": 20,
    "start_time": "2023-09-01T10:29:53.357Z"
   },
   {
    "duration": 494,
    "start_time": "2023-09-01T10:29:53.379Z"
   },
   {
    "duration": 22,
    "start_time": "2023-09-01T10:29:53.876Z"
   },
   {
    "duration": 30,
    "start_time": "2023-09-01T10:29:53.909Z"
   },
   {
    "duration": 8,
    "start_time": "2023-09-01T10:29:53.941Z"
   },
   {
    "duration": 4,
    "start_time": "2023-09-01T10:29:53.951Z"
   },
   {
    "duration": 9,
    "start_time": "2023-09-01T10:29:53.957Z"
   },
   {
    "duration": 90,
    "start_time": "2023-09-01T10:29:53.967Z"
   },
   {
    "duration": 15,
    "start_time": "2023-09-01T10:29:54.060Z"
   },
   {
    "duration": 48,
    "start_time": "2023-09-01T10:29:54.077Z"
   },
   {
    "duration": 14,
    "start_time": "2023-09-01T10:29:54.127Z"
   },
   {
    "duration": 18,
    "start_time": "2023-09-01T10:29:54.142Z"
   },
   {
    "duration": 7,
    "start_time": "2023-09-01T10:29:54.163Z"
   },
   {
    "duration": 49,
    "start_time": "2023-09-01T10:29:54.172Z"
   },
   {
    "duration": 150,
    "start_time": "2023-09-01T10:29:54.224Z"
   },
   {
    "duration": 93,
    "start_time": "2023-09-01T10:29:54.376Z"
   },
   {
    "duration": 26,
    "start_time": "2023-09-01T10:29:54.471Z"
   },
   {
    "duration": 931,
    "start_time": "2023-09-01T10:29:54.499Z"
   },
   {
    "duration": 784,
    "start_time": "2023-09-01T10:29:55.432Z"
   },
   {
    "duration": 821,
    "start_time": "2023-09-01T10:29:56.222Z"
   },
   {
    "duration": 183,
    "start_time": "2023-09-01T10:29:57.049Z"
   },
   {
    "duration": 310,
    "start_time": "2023-09-01T10:29:57.234Z"
   },
   {
    "duration": 130,
    "start_time": "2023-09-01T10:29:57.546Z"
   },
   {
    "duration": 130,
    "start_time": "2023-09-01T10:29:57.678Z"
   },
   {
    "duration": 48,
    "start_time": "2023-09-01T10:29:57.812Z"
   },
   {
    "duration": 120,
    "start_time": "2023-09-01T10:29:57.862Z"
   },
   {
    "duration": 148,
    "start_time": "2023-09-01T10:29:57.984Z"
   },
   {
    "duration": 115,
    "start_time": "2023-09-01T10:29:58.135Z"
   },
   {
    "duration": 158,
    "start_time": "2023-09-01T10:29:58.252Z"
   },
   {
    "duration": 31,
    "start_time": "2023-09-01T10:29:58.414Z"
   },
   {
    "duration": 137,
    "start_time": "2023-09-01T10:29:58.447Z"
   },
   {
    "duration": 127,
    "start_time": "2023-09-01T10:29:58.587Z"
   },
   {
    "duration": 131,
    "start_time": "2023-09-01T10:29:58.721Z"
   },
   {
    "duration": 115,
    "start_time": "2023-09-01T10:29:58.855Z"
   },
   {
    "duration": 25,
    "start_time": "2023-09-01T10:29:58.973Z"
   },
   {
    "duration": 228,
    "start_time": "2023-09-01T10:29:59.014Z"
   },
   {
    "duration": 227,
    "start_time": "2023-09-01T10:29:59.244Z"
   },
   {
    "duration": 333,
    "start_time": "2023-09-01T10:29:59.473Z"
   },
   {
    "duration": 214,
    "start_time": "2023-09-01T10:29:59.811Z"
   },
   {
    "duration": 249,
    "start_time": "2023-09-01T10:30:00.029Z"
   },
   {
    "duration": 283,
    "start_time": "2023-09-01T10:30:00.280Z"
   },
   {
    "duration": 235,
    "start_time": "2023-09-01T10:30:00.566Z"
   },
   {
    "duration": 217,
    "start_time": "2023-09-01T10:30:00.809Z"
   },
   {
    "duration": 4,
    "start_time": "2023-09-01T10:30:01.028Z"
   },
   {
    "duration": 102,
    "start_time": "2023-09-01T10:30:01.034Z"
   },
   {
    "duration": 63,
    "start_time": "2023-09-01T10:30:01.138Z"
   },
   {
    "duration": 69,
    "start_time": "2023-09-01T10:30:01.203Z"
   },
   {
    "duration": 106,
    "start_time": "2023-09-01T10:30:01.274Z"
   },
   {
    "duration": 62,
    "start_time": "2023-09-01T10:30:01.383Z"
   },
   {
    "duration": 79,
    "start_time": "2023-09-01T10:30:01.447Z"
   },
   {
    "duration": 3698,
    "start_time": "2023-09-01T10:30:01.527Z"
   },
   {
    "duration": 11200,
    "start_time": "2023-09-01T10:30:05.227Z"
   },
   {
    "duration": 4,
    "start_time": "2023-09-01T10:30:16.429Z"
   },
   {
    "duration": 11694,
    "start_time": "2023-09-01T10:30:16.435Z"
   },
   {
    "duration": 5,
    "start_time": "2023-09-01T10:30:28.131Z"
   },
   {
    "duration": 5,
    "start_time": "2023-09-01T10:30:28.138Z"
   },
   {
    "duration": 227270,
    "start_time": "2023-09-01T10:30:28.145Z"
   },
   {
    "duration": 12,
    "start_time": "2023-09-01T10:34:15.417Z"
   },
   {
    "duration": 1698,
    "start_time": "2023-09-01T10:34:50.206Z"
   },
   {
    "duration": 8,
    "start_time": "2023-09-01T10:34:51.906Z"
   },
   {
    "duration": 396,
    "start_time": "2023-09-01T10:34:51.921Z"
   },
   {
    "duration": 29,
    "start_time": "2023-09-01T10:34:52.325Z"
   },
   {
    "duration": 22,
    "start_time": "2023-09-01T10:34:52.356Z"
   },
   {
    "duration": 131,
    "start_time": "2023-09-01T10:34:52.379Z"
   },
   {
    "duration": 31,
    "start_time": "2023-09-01T10:34:52.514Z"
   },
   {
    "duration": 23,
    "start_time": "2023-09-01T10:34:52.547Z"
   },
   {
    "duration": 572,
    "start_time": "2023-09-01T10:34:52.573Z"
   },
   {
    "duration": 23,
    "start_time": "2023-09-01T10:34:53.148Z"
   },
   {
    "duration": 50,
    "start_time": "2023-09-01T10:34:53.174Z"
   },
   {
    "duration": 11,
    "start_time": "2023-09-01T10:34:53.226Z"
   },
   {
    "duration": 5,
    "start_time": "2023-09-01T10:34:53.239Z"
   },
   {
    "duration": 5,
    "start_time": "2023-09-01T10:34:53.246Z"
   },
   {
    "duration": 95,
    "start_time": "2023-09-01T10:34:53.253Z"
   },
   {
    "duration": 16,
    "start_time": "2023-09-01T10:34:53.350Z"
   },
   {
    "duration": 23,
    "start_time": "2023-09-01T10:34:53.368Z"
   },
   {
    "duration": 19,
    "start_time": "2023-09-01T10:34:53.412Z"
   },
   {
    "duration": 18,
    "start_time": "2023-09-01T10:34:53.434Z"
   },
   {
    "duration": 7,
    "start_time": "2023-09-01T10:34:53.455Z"
   },
   {
    "duration": 16,
    "start_time": "2023-09-01T10:34:53.464Z"
   },
   {
    "duration": 157,
    "start_time": "2023-09-01T10:34:53.511Z"
   },
   {
    "duration": 95,
    "start_time": "2023-09-01T10:34:53.670Z"
   },
   {
    "duration": 44,
    "start_time": "2023-09-01T10:34:53.767Z"
   },
   {
    "duration": 944,
    "start_time": "2023-09-01T10:34:53.813Z"
   },
   {
    "duration": 840,
    "start_time": "2023-09-01T10:34:54.760Z"
   },
   {
    "duration": 841,
    "start_time": "2023-09-01T10:34:55.609Z"
   },
   {
    "duration": 187,
    "start_time": "2023-09-01T10:34:56.456Z"
   },
   {
    "duration": 302,
    "start_time": "2023-09-01T10:34:56.645Z"
   },
   {
    "duration": 174,
    "start_time": "2023-09-01T10:34:56.950Z"
   },
   {
    "duration": 143,
    "start_time": "2023-09-01T10:34:57.126Z"
   },
   {
    "duration": 60,
    "start_time": "2023-09-01T10:34:57.271Z"
   },
   {
    "duration": 119,
    "start_time": "2023-09-01T10:34:57.333Z"
   },
   {
    "duration": 156,
    "start_time": "2023-09-01T10:34:57.454Z"
   },
   {
    "duration": 127,
    "start_time": "2023-09-01T10:34:57.612Z"
   },
   {
    "duration": 165,
    "start_time": "2023-09-01T10:34:57.741Z"
   },
   {
    "duration": 33,
    "start_time": "2023-09-01T10:34:57.908Z"
   },
   {
    "duration": 129,
    "start_time": "2023-09-01T10:34:57.944Z"
   },
   {
    "duration": 145,
    "start_time": "2023-09-01T10:34:58.076Z"
   },
   {
    "duration": 141,
    "start_time": "2023-09-01T10:34:58.224Z"
   },
   {
    "duration": 127,
    "start_time": "2023-09-01T10:34:58.367Z"
   },
   {
    "duration": 49,
    "start_time": "2023-09-01T10:34:58.496Z"
   },
   {
    "duration": 318,
    "start_time": "2023-09-01T10:34:58.547Z"
   },
   {
    "duration": 275,
    "start_time": "2023-09-01T10:34:58.868Z"
   },
   {
    "duration": 334,
    "start_time": "2023-09-01T10:34:59.145Z"
   },
   {
    "duration": 239,
    "start_time": "2023-09-01T10:34:59.482Z"
   },
   {
    "duration": 230,
    "start_time": "2023-09-01T10:34:59.723Z"
   },
   {
    "duration": 249,
    "start_time": "2023-09-01T10:34:59.955Z"
   },
   {
    "duration": 242,
    "start_time": "2023-09-01T10:35:00.212Z"
   },
   {
    "duration": 226,
    "start_time": "2023-09-01T10:35:00.457Z"
   },
   {
    "duration": 4,
    "start_time": "2023-09-01T10:35:00.685Z"
   },
   {
    "duration": 54,
    "start_time": "2023-09-01T10:35:00.691Z"
   },
   {
    "duration": 81,
    "start_time": "2023-09-01T10:35:00.747Z"
   },
   {
    "duration": 42,
    "start_time": "2023-09-01T10:35:00.830Z"
   },
   {
    "duration": 26,
    "start_time": "2023-09-01T10:35:00.874Z"
   },
   {
    "duration": 51,
    "start_time": "2023-09-01T10:35:00.902Z"
   },
   {
    "duration": 42,
    "start_time": "2023-09-01T10:35:00.956Z"
   },
   {
    "duration": 3539,
    "start_time": "2023-09-01T10:35:01.001Z"
   },
   {
    "duration": 11936,
    "start_time": "2023-09-01T10:35:04.640Z"
   },
   {
    "duration": 5,
    "start_time": "2023-09-01T10:35:16.579Z"
   },
   {
    "duration": 13045,
    "start_time": "2023-09-01T10:35:16.586Z"
   },
   {
    "duration": 10,
    "start_time": "2023-09-01T10:35:29.633Z"
   },
   {
    "duration": 5,
    "start_time": "2023-09-01T10:35:29.646Z"
   },
   {
    "duration": 68684,
    "start_time": "2023-09-01T10:35:29.653Z"
   },
   {
    "duration": 4,
    "start_time": "2023-09-01T10:36:38.339Z"
   },
   {
    "duration": 69394,
    "start_time": "2023-09-01T10:36:38.345Z"
   },
   {
    "duration": 5,
    "start_time": "2023-09-01T10:37:47.741Z"
   },
   {
    "duration": 35,
    "start_time": "2023-09-01T10:37:47.747Z"
   },
   {
    "duration": 6509,
    "start_time": "2023-09-01T10:38:45.563Z"
   },
   {
    "duration": 11863,
    "start_time": "2023-09-01T10:38:55.372Z"
   },
   {
    "duration": 1694,
    "start_time": "2023-09-01T10:39:10.803Z"
   },
   {
    "duration": 4,
    "start_time": "2023-09-01T10:39:12.500Z"
   },
   {
    "duration": 518,
    "start_time": "2023-09-01T10:39:12.506Z"
   },
   {
    "duration": 40,
    "start_time": "2023-09-01T10:39:13.029Z"
   },
   {
    "duration": 18,
    "start_time": "2023-09-01T10:39:13.071Z"
   },
   {
    "duration": 113,
    "start_time": "2023-09-01T10:39:13.091Z"
   },
   {
    "duration": 35,
    "start_time": "2023-09-01T10:39:13.206Z"
   },
   {
    "duration": 14,
    "start_time": "2023-09-01T10:39:13.244Z"
   },
   {
    "duration": 509,
    "start_time": "2023-09-01T10:39:13.260Z"
   },
   {
    "duration": 28,
    "start_time": "2023-09-01T10:39:13.773Z"
   },
   {
    "duration": 39,
    "start_time": "2023-09-01T10:39:13.809Z"
   },
   {
    "duration": 10,
    "start_time": "2023-09-01T10:39:13.851Z"
   },
   {
    "duration": 4,
    "start_time": "2023-09-01T10:39:13.863Z"
   },
   {
    "duration": 5,
    "start_time": "2023-09-01T10:39:13.868Z"
   },
   {
    "duration": 101,
    "start_time": "2023-09-01T10:39:13.875Z"
   },
   {
    "duration": 17,
    "start_time": "2023-09-01T10:39:13.979Z"
   },
   {
    "duration": 38,
    "start_time": "2023-09-01T10:39:13.998Z"
   },
   {
    "duration": 18,
    "start_time": "2023-09-01T10:39:14.038Z"
   },
   {
    "duration": 23,
    "start_time": "2023-09-01T10:39:14.058Z"
   },
   {
    "duration": 40,
    "start_time": "2023-09-01T10:39:14.083Z"
   },
   {
    "duration": 16,
    "start_time": "2023-09-01T10:39:14.130Z"
   },
   {
    "duration": 173,
    "start_time": "2023-09-01T10:39:14.148Z"
   },
   {
    "duration": 90,
    "start_time": "2023-09-01T10:39:14.323Z"
   },
   {
    "duration": 31,
    "start_time": "2023-09-01T10:39:14.415Z"
   },
   {
    "duration": 1010,
    "start_time": "2023-09-01T10:39:14.448Z"
   },
   {
    "duration": 787,
    "start_time": "2023-09-01T10:39:15.461Z"
   },
   {
    "duration": 984,
    "start_time": "2023-09-01T10:39:16.250Z"
   },
   {
    "duration": 165,
    "start_time": "2023-09-01T10:39:17.241Z"
   },
   {
    "duration": 313,
    "start_time": "2023-09-01T10:39:17.412Z"
   },
   {
    "duration": 144,
    "start_time": "2023-09-01T10:39:17.727Z"
   },
   {
    "duration": 136,
    "start_time": "2023-09-01T10:39:17.873Z"
   },
   {
    "duration": 44,
    "start_time": "2023-09-01T10:39:18.015Z"
   },
   {
    "duration": 161,
    "start_time": "2023-09-01T10:39:18.062Z"
   },
   {
    "duration": 136,
    "start_time": "2023-09-01T10:39:18.233Z"
   },
   {
    "duration": 129,
    "start_time": "2023-09-01T10:39:18.371Z"
   },
   {
    "duration": 163,
    "start_time": "2023-09-01T10:39:18.502Z"
   },
   {
    "duration": 27,
    "start_time": "2023-09-01T10:39:18.667Z"
   },
   {
    "duration": 165,
    "start_time": "2023-09-01T10:39:18.697Z"
   },
   {
    "duration": 124,
    "start_time": "2023-09-01T10:39:18.864Z"
   },
   {
    "duration": 181,
    "start_time": "2023-09-01T10:39:18.990Z"
   },
   {
    "duration": 138,
    "start_time": "2023-09-01T10:39:19.173Z"
   },
   {
    "duration": 40,
    "start_time": "2023-09-01T10:39:19.317Z"
   },
   {
    "duration": 297,
    "start_time": "2023-09-01T10:39:19.360Z"
   },
   {
    "duration": 238,
    "start_time": "2023-09-01T10:39:19.659Z"
   },
   {
    "duration": 354,
    "start_time": "2023-09-01T10:39:19.899Z"
   },
   {
    "duration": 278,
    "start_time": "2023-09-01T10:39:20.255Z"
   },
   {
    "duration": 308,
    "start_time": "2023-09-01T10:39:20.536Z"
   },
   {
    "duration": 294,
    "start_time": "2023-09-01T10:39:20.846Z"
   },
   {
    "duration": 302,
    "start_time": "2023-09-01T10:39:21.142Z"
   },
   {
    "duration": 281,
    "start_time": "2023-09-01T10:39:21.446Z"
   },
   {
    "duration": 8,
    "start_time": "2023-09-01T10:39:21.738Z"
   },
   {
    "duration": 15,
    "start_time": "2023-09-01T10:39:21.749Z"
   },
   {
    "duration": 10,
    "start_time": "2023-09-01T10:39:21.766Z"
   },
   {
    "duration": 9,
    "start_time": "2023-09-01T10:39:21.778Z"
   },
   {
    "duration": 14,
    "start_time": "2023-09-01T10:39:21.788Z"
   },
   {
    "duration": 16,
    "start_time": "2023-09-01T10:39:21.804Z"
   },
   {
    "duration": 23,
    "start_time": "2023-09-01T10:39:21.829Z"
   },
   {
    "duration": 7089,
    "start_time": "2023-09-01T10:39:21.854Z"
   },
   {
    "duration": 11830,
    "start_time": "2023-09-01T10:39:29.012Z"
   },
   {
    "duration": 6,
    "start_time": "2023-09-01T10:39:40.844Z"
   },
   {
    "duration": 11816,
    "start_time": "2023-09-01T10:39:40.853Z"
   },
   {
    "duration": 5,
    "start_time": "2023-09-01T10:39:52.672Z"
   },
   {
    "duration": 9,
    "start_time": "2023-09-01T10:39:52.679Z"
   },
   {
    "duration": 66651,
    "start_time": "2023-09-01T10:39:52.690Z"
   },
   {
    "duration": 4,
    "start_time": "2023-09-01T10:40:59.343Z"
   },
   {
    "duration": 1552,
    "start_time": "2023-09-01T10:42:05.728Z"
   },
   {
    "duration": 3,
    "start_time": "2023-09-01T10:42:07.282Z"
   },
   {
    "duration": 454,
    "start_time": "2023-09-01T10:42:07.286Z"
   },
   {
    "duration": 26,
    "start_time": "2023-09-01T10:42:07.742Z"
   },
   {
    "duration": 28,
    "start_time": "2023-09-01T10:42:07.769Z"
   },
   {
    "duration": 100,
    "start_time": "2023-09-01T10:42:07.799Z"
   },
   {
    "duration": 33,
    "start_time": "2023-09-01T10:42:07.900Z"
   },
   {
    "duration": 14,
    "start_time": "2023-09-01T10:42:07.934Z"
   },
   {
    "duration": 502,
    "start_time": "2023-09-01T10:42:07.949Z"
   },
   {
    "duration": 31,
    "start_time": "2023-09-01T10:42:08.455Z"
   },
   {
    "duration": 44,
    "start_time": "2023-09-01T10:42:08.488Z"
   },
   {
    "duration": 7,
    "start_time": "2023-09-01T10:42:08.534Z"
   },
   {
    "duration": 17,
    "start_time": "2023-09-01T10:42:08.543Z"
   },
   {
    "duration": 4,
    "start_time": "2023-09-01T10:42:08.562Z"
   },
   {
    "duration": 93,
    "start_time": "2023-09-01T10:42:08.568Z"
   },
   {
    "duration": 16,
    "start_time": "2023-09-01T10:42:08.664Z"
   },
   {
    "duration": 52,
    "start_time": "2023-09-01T10:42:08.682Z"
   },
   {
    "duration": 16,
    "start_time": "2023-09-01T10:42:08.736Z"
   },
   {
    "duration": 22,
    "start_time": "2023-09-01T10:42:08.755Z"
   },
   {
    "duration": 37,
    "start_time": "2023-09-01T10:42:08.779Z"
   },
   {
    "duration": 16,
    "start_time": "2023-09-01T10:42:08.818Z"
   },
   {
    "duration": 159,
    "start_time": "2023-09-01T10:42:08.835Z"
   },
   {
    "duration": 98,
    "start_time": "2023-09-01T10:42:08.996Z"
   },
   {
    "duration": 38,
    "start_time": "2023-09-01T10:42:09.096Z"
   },
   {
    "duration": 852,
    "start_time": "2023-09-01T10:42:09.136Z"
   },
   {
    "duration": 772,
    "start_time": "2023-09-01T10:42:09.991Z"
   },
   {
    "duration": 769,
    "start_time": "2023-09-01T10:42:10.765Z"
   },
   {
    "duration": 136,
    "start_time": "2023-09-01T10:42:11.538Z"
   },
   {
    "duration": 263,
    "start_time": "2023-09-01T10:42:11.676Z"
   },
   {
    "duration": 127,
    "start_time": "2023-09-01T10:42:11.941Z"
   },
   {
    "duration": 129,
    "start_time": "2023-09-01T10:42:12.070Z"
   },
   {
    "duration": 49,
    "start_time": "2023-09-01T10:42:12.200Z"
   },
   {
    "duration": 133,
    "start_time": "2023-09-01T10:42:12.251Z"
   },
   {
    "duration": 157,
    "start_time": "2023-09-01T10:42:12.385Z"
   },
   {
    "duration": 151,
    "start_time": "2023-09-01T10:42:12.545Z"
   },
   {
    "duration": 161,
    "start_time": "2023-09-01T10:42:12.698Z"
   },
   {
    "duration": 26,
    "start_time": "2023-09-01T10:42:12.861Z"
   },
   {
    "duration": 144,
    "start_time": "2023-09-01T10:42:12.890Z"
   },
   {
    "duration": 117,
    "start_time": "2023-09-01T10:42:13.036Z"
   },
   {
    "duration": 130,
    "start_time": "2023-09-01T10:42:13.154Z"
   },
   {
    "duration": 117,
    "start_time": "2023-09-01T10:42:13.285Z"
   },
   {
    "duration": 39,
    "start_time": "2023-09-01T10:42:13.404Z"
   },
   {
    "duration": 218,
    "start_time": "2023-09-01T10:42:13.445Z"
   },
   {
    "duration": 215,
    "start_time": "2023-09-01T10:42:13.665Z"
   },
   {
    "duration": 305,
    "start_time": "2023-09-01T10:42:13.882Z"
   },
   {
    "duration": 212,
    "start_time": "2023-09-01T10:42:14.189Z"
   },
   {
    "duration": 259,
    "start_time": "2023-09-01T10:42:14.403Z"
   },
   {
    "duration": 232,
    "start_time": "2023-09-01T10:42:14.664Z"
   },
   {
    "duration": 235,
    "start_time": "2023-09-01T10:42:14.898Z"
   },
   {
    "duration": 234,
    "start_time": "2023-09-01T10:42:15.135Z"
   },
   {
    "duration": 5,
    "start_time": "2023-09-01T10:42:15.371Z"
   },
   {
    "duration": 17,
    "start_time": "2023-09-01T10:42:15.378Z"
   },
   {
    "duration": 33,
    "start_time": "2023-09-01T10:42:15.397Z"
   },
   {
    "duration": 15,
    "start_time": "2023-09-01T10:42:15.432Z"
   },
   {
    "duration": 26,
    "start_time": "2023-09-01T10:42:15.449Z"
   },
   {
    "duration": 12,
    "start_time": "2023-09-01T10:42:15.478Z"
   },
   {
    "duration": 36,
    "start_time": "2023-09-01T10:42:15.492Z"
   },
   {
    "duration": 2679,
    "start_time": "2023-09-01T10:42:15.530Z"
   },
   {
    "duration": 11123,
    "start_time": "2023-09-01T10:42:18.214Z"
   },
   {
    "duration": 5,
    "start_time": "2023-09-01T10:42:29.339Z"
   },
   {
    "duration": 11973,
    "start_time": "2023-09-01T10:42:29.347Z"
   },
   {
    "duration": 6,
    "start_time": "2023-09-01T10:42:41.322Z"
   },
   {
    "duration": 4,
    "start_time": "2023-09-01T10:42:41.334Z"
   },
   {
    "duration": 66882,
    "start_time": "2023-09-01T10:42:41.340Z"
   },
   {
    "duration": 9,
    "start_time": "2023-09-01T10:43:48.230Z"
   },
   {
    "duration": 67070,
    "start_time": "2023-09-01T10:43:48.241Z"
   },
   {
    "duration": 9,
    "start_time": "2023-09-01T10:44:55.319Z"
   },
   {
    "duration": 13,
    "start_time": "2023-09-01T10:44:55.330Z"
   },
   {
    "duration": 1530,
    "start_time": "2023-09-01T10:59:06.939Z"
   },
   {
    "duration": 3,
    "start_time": "2023-09-01T10:59:08.472Z"
   },
   {
    "duration": 386,
    "start_time": "2023-09-01T10:59:08.477Z"
   },
   {
    "duration": 28,
    "start_time": "2023-09-01T10:59:08.865Z"
   },
   {
    "duration": 35,
    "start_time": "2023-09-01T10:59:08.895Z"
   },
   {
    "duration": 92,
    "start_time": "2023-09-01T10:59:08.932Z"
   },
   {
    "duration": 28,
    "start_time": "2023-09-01T10:59:09.025Z"
   },
   {
    "duration": 13,
    "start_time": "2023-09-01T10:59:09.055Z"
   },
   {
    "duration": 462,
    "start_time": "2023-09-01T10:59:09.070Z"
   },
   {
    "duration": 21,
    "start_time": "2023-09-01T10:59:09.535Z"
   },
   {
    "duration": 24,
    "start_time": "2023-09-01T10:59:09.558Z"
   },
   {
    "duration": 30,
    "start_time": "2023-09-01T10:59:09.584Z"
   },
   {
    "duration": 4,
    "start_time": "2023-09-01T10:59:09.616Z"
   },
   {
    "duration": 12,
    "start_time": "2023-09-01T10:59:09.622Z"
   },
   {
    "duration": 100,
    "start_time": "2023-09-01T10:59:09.636Z"
   },
   {
    "duration": 21,
    "start_time": "2023-09-01T10:59:09.739Z"
   },
   {
    "duration": 52,
    "start_time": "2023-09-01T10:59:09.762Z"
   },
   {
    "duration": 15,
    "start_time": "2023-09-01T10:59:09.821Z"
   },
   {
    "duration": 16,
    "start_time": "2023-09-01T10:59:09.838Z"
   },
   {
    "duration": 7,
    "start_time": "2023-09-01T10:59:09.856Z"
   },
   {
    "duration": 16,
    "start_time": "2023-09-01T10:59:09.864Z"
   },
   {
    "duration": 181,
    "start_time": "2023-09-01T10:59:09.882Z"
   },
   {
    "duration": 93,
    "start_time": "2023-09-01T10:59:10.065Z"
   },
   {
    "duration": 24,
    "start_time": "2023-09-01T10:59:10.160Z"
   },
   {
    "duration": 893,
    "start_time": "2023-09-01T10:59:10.186Z"
   },
   {
    "duration": 820,
    "start_time": "2023-09-01T10:59:11.081Z"
   },
   {
    "duration": 915,
    "start_time": "2023-09-01T10:59:11.903Z"
   },
   {
    "duration": 168,
    "start_time": "2023-09-01T10:59:12.827Z"
   },
   {
    "duration": 276,
    "start_time": "2023-09-01T10:59:12.998Z"
   },
   {
    "duration": 129,
    "start_time": "2023-09-01T10:59:13.276Z"
   },
   {
    "duration": 125,
    "start_time": "2023-09-01T10:59:13.409Z"
   },
   {
    "duration": 41,
    "start_time": "2023-09-01T10:59:13.535Z"
   },
   {
    "duration": 146,
    "start_time": "2023-09-01T10:59:13.578Z"
   },
   {
    "duration": 124,
    "start_time": "2023-09-01T10:59:13.726Z"
   },
   {
    "duration": 112,
    "start_time": "2023-09-01T10:59:13.852Z"
   },
   {
    "duration": 131,
    "start_time": "2023-09-01T10:59:13.966Z"
   },
   {
    "duration": 40,
    "start_time": "2023-09-01T10:59:14.099Z"
   },
   {
    "duration": 124,
    "start_time": "2023-09-01T10:59:14.141Z"
   },
   {
    "duration": 110,
    "start_time": "2023-09-01T10:59:14.267Z"
   },
   {
    "duration": 146,
    "start_time": "2023-09-01T10:59:14.379Z"
   },
   {
    "duration": 114,
    "start_time": "2023-09-01T10:59:14.527Z"
   },
   {
    "duration": 27,
    "start_time": "2023-09-01T10:59:14.643Z"
   },
   {
    "duration": 271,
    "start_time": "2023-09-01T10:59:14.672Z"
   },
   {
    "duration": 250,
    "start_time": "2023-09-01T10:59:14.946Z"
   },
   {
    "duration": 333,
    "start_time": "2023-09-01T10:59:15.198Z"
   },
   {
    "duration": 203,
    "start_time": "2023-09-01T10:59:15.532Z"
   },
   {
    "duration": 232,
    "start_time": "2023-09-01T10:59:15.737Z"
   },
   {
    "duration": 221,
    "start_time": "2023-09-01T10:59:15.971Z"
   },
   {
    "duration": 228,
    "start_time": "2023-09-01T10:59:16.194Z"
   },
   {
    "duration": 196,
    "start_time": "2023-09-01T10:59:16.427Z"
   },
   {
    "duration": 4,
    "start_time": "2023-09-01T10:59:16.626Z"
   },
   {
    "duration": 7,
    "start_time": "2023-09-01T10:59:16.634Z"
   },
   {
    "duration": 4,
    "start_time": "2023-09-01T10:59:16.643Z"
   },
   {
    "duration": 10,
    "start_time": "2023-09-01T10:59:16.649Z"
   },
   {
    "duration": 18,
    "start_time": "2023-09-01T10:59:16.661Z"
   },
   {
    "duration": 9,
    "start_time": "2023-09-01T10:59:16.681Z"
   },
   {
    "duration": 148,
    "start_time": "2023-09-01T10:59:16.692Z"
   },
   {
    "duration": 0,
    "start_time": "2023-09-01T10:59:16.841Z"
   },
   {
    "duration": 0,
    "start_time": "2023-09-01T10:59:16.843Z"
   },
   {
    "duration": 0,
    "start_time": "2023-09-01T10:59:16.844Z"
   },
   {
    "duration": 0,
    "start_time": "2023-09-01T10:59:16.845Z"
   },
   {
    "duration": 0,
    "start_time": "2023-09-01T10:59:16.846Z"
   },
   {
    "duration": 0,
    "start_time": "2023-09-01T10:59:16.847Z"
   },
   {
    "duration": 0,
    "start_time": "2023-09-01T10:59:16.848Z"
   },
   {
    "duration": 0,
    "start_time": "2023-09-01T10:59:16.849Z"
   },
   {
    "duration": 0,
    "start_time": "2023-09-01T10:59:16.850Z"
   },
   {
    "duration": 0,
    "start_time": "2023-09-01T10:59:16.851Z"
   },
   {
    "duration": 0,
    "start_time": "2023-09-01T10:59:16.853Z"
   },
   {
    "duration": 4,
    "start_time": "2023-09-01T11:00:20.273Z"
   },
   {
    "duration": 22,
    "start_time": "2023-09-01T11:01:39.634Z"
   },
   {
    "duration": 9,
    "start_time": "2023-09-01T11:01:52.740Z"
   },
   {
    "duration": 21,
    "start_time": "2023-09-01T11:02:02.603Z"
   },
   {
    "duration": 4388,
    "start_time": "2023-09-01T11:02:04.928Z"
   },
   {
    "duration": 7210,
    "start_time": "2023-09-01T11:02:16.962Z"
   },
   {
    "duration": 4,
    "start_time": "2023-09-01T11:02:26.524Z"
   },
   {
    "duration": 18153,
    "start_time": "2023-09-01T11:02:29.304Z"
   },
   {
    "duration": 4,
    "start_time": "2023-09-01T11:02:47.526Z"
   },
   {
    "duration": 4,
    "start_time": "2023-09-01T11:02:47.978Z"
   },
   {
    "duration": 12299,
    "start_time": "2023-09-01T11:03:04.648Z"
   },
   {
    "duration": 45267,
    "start_time": "2023-09-01T11:03:19.543Z"
   },
   {
    "duration": 5,
    "start_time": "2023-09-01T11:04:04.816Z"
   },
   {
    "duration": 106913,
    "start_time": "2023-09-01T11:04:10.718Z"
   },
   {
    "duration": 5,
    "start_time": "2023-09-01T11:05:57.633Z"
   },
   {
    "duration": 19,
    "start_time": "2023-09-01T11:05:57.640Z"
   },
   {
    "duration": 1800,
    "start_time": "2023-09-01T11:11:15.517Z"
   },
   {
    "duration": 4,
    "start_time": "2023-09-01T11:11:17.327Z"
   },
   {
    "duration": 397,
    "start_time": "2023-09-01T11:11:17.333Z"
   },
   {
    "duration": 26,
    "start_time": "2023-09-01T11:11:17.732Z"
   },
   {
    "duration": 18,
    "start_time": "2023-09-01T11:11:17.761Z"
   },
   {
    "duration": 108,
    "start_time": "2023-09-01T11:11:17.781Z"
   },
   {
    "duration": 44,
    "start_time": "2023-09-01T11:11:17.891Z"
   },
   {
    "duration": 20,
    "start_time": "2023-09-01T11:11:17.937Z"
   },
   {
    "duration": 517,
    "start_time": "2023-09-01T11:11:17.959Z"
   },
   {
    "duration": 36,
    "start_time": "2023-09-01T11:11:18.480Z"
   },
   {
    "duration": 29,
    "start_time": "2023-09-01T11:11:18.520Z"
   },
   {
    "duration": 9,
    "start_time": "2023-09-01T11:11:18.551Z"
   },
   {
    "duration": 4,
    "start_time": "2023-09-01T11:11:18.562Z"
   },
   {
    "duration": 4,
    "start_time": "2023-09-01T11:11:18.571Z"
   },
   {
    "duration": 92,
    "start_time": "2023-09-01T11:11:18.577Z"
   },
   {
    "duration": 19,
    "start_time": "2023-09-01T11:11:18.672Z"
   },
   {
    "duration": 39,
    "start_time": "2023-09-01T11:11:18.694Z"
   },
   {
    "duration": 14,
    "start_time": "2023-09-01T11:11:18.735Z"
   },
   {
    "duration": 19,
    "start_time": "2023-09-01T11:11:18.751Z"
   },
   {
    "duration": 44,
    "start_time": "2023-09-01T11:11:18.773Z"
   },
   {
    "duration": 20,
    "start_time": "2023-09-01T11:11:18.819Z"
   },
   {
    "duration": 151,
    "start_time": "2023-09-01T11:11:18.841Z"
   },
   {
    "duration": 128,
    "start_time": "2023-09-01T11:11:18.995Z"
   },
   {
    "duration": 33,
    "start_time": "2023-09-01T11:11:19.127Z"
   },
   {
    "duration": 860,
    "start_time": "2023-09-01T11:11:19.162Z"
   },
   {
    "duration": 779,
    "start_time": "2023-09-01T11:11:20.024Z"
   },
   {
    "duration": 790,
    "start_time": "2023-09-01T11:11:20.806Z"
   },
   {
    "duration": 143,
    "start_time": "2023-09-01T11:11:21.598Z"
   },
   {
    "duration": 299,
    "start_time": "2023-09-01T11:11:21.742Z"
   },
   {
    "duration": 128,
    "start_time": "2023-09-01T11:11:22.043Z"
   },
   {
    "duration": 136,
    "start_time": "2023-09-01T11:11:22.173Z"
   },
   {
    "duration": 44,
    "start_time": "2023-09-01T11:11:22.322Z"
   },
   {
    "duration": 159,
    "start_time": "2023-09-01T11:11:22.368Z"
   },
   {
    "duration": 210,
    "start_time": "2023-09-01T11:11:22.529Z"
   },
   {
    "duration": 131,
    "start_time": "2023-09-01T11:11:22.742Z"
   },
   {
    "duration": 154,
    "start_time": "2023-09-01T11:11:22.875Z"
   },
   {
    "duration": 22,
    "start_time": "2023-09-01T11:11:23.033Z"
   },
   {
    "duration": 166,
    "start_time": "2023-09-01T11:11:23.057Z"
   },
   {
    "duration": 128,
    "start_time": "2023-09-01T11:11:23.225Z"
   },
   {
    "duration": 145,
    "start_time": "2023-09-01T11:11:23.358Z"
   },
   {
    "duration": 129,
    "start_time": "2023-09-01T11:11:23.509Z"
   },
   {
    "duration": 25,
    "start_time": "2023-09-01T11:11:23.640Z"
   },
   {
    "duration": 282,
    "start_time": "2023-09-01T11:11:23.667Z"
   },
   {
    "duration": 464,
    "start_time": "2023-09-01T11:11:23.951Z"
   },
   {
    "duration": 324,
    "start_time": "2023-09-01T11:11:24.419Z"
   },
   {
    "duration": 243,
    "start_time": "2023-09-01T11:11:24.745Z"
   },
   {
    "duration": 248,
    "start_time": "2023-09-01T11:11:24.989Z"
   },
   {
    "duration": 264,
    "start_time": "2023-09-01T11:11:25.238Z"
   },
   {
    "duration": 231,
    "start_time": "2023-09-01T11:11:25.505Z"
   },
   {
    "duration": 218,
    "start_time": "2023-09-01T11:11:25.738Z"
   },
   {
    "duration": 4,
    "start_time": "2023-09-01T11:11:25.959Z"
   },
   {
    "duration": 119,
    "start_time": "2023-09-01T11:11:25.965Z"
   },
   {
    "duration": 5,
    "start_time": "2023-09-01T11:11:26.087Z"
   },
   {
    "duration": 11,
    "start_time": "2023-09-01T11:11:26.094Z"
   },
   {
    "duration": 27,
    "start_time": "2023-09-01T11:11:26.107Z"
   },
   {
    "duration": 9,
    "start_time": "2023-09-01T11:11:26.137Z"
   },
   {
    "duration": 15,
    "start_time": "2023-09-01T11:11:26.148Z"
   },
   {
    "duration": 24,
    "start_time": "2023-09-01T11:11:26.165Z"
   },
   {
    "duration": 47,
    "start_time": "2023-09-01T11:11:26.191Z"
   },
   {
    "duration": 7309,
    "start_time": "2023-09-01T11:11:26.239Z"
   },
   {
    "duration": 7313,
    "start_time": "2023-09-01T11:11:33.617Z"
   },
   {
    "duration": 7,
    "start_time": "2023-09-01T11:11:40.932Z"
   },
   {
    "duration": 18182,
    "start_time": "2023-09-01T11:11:40.940Z"
   },
   {
    "duration": 4,
    "start_time": "2023-09-01T11:11:59.127Z"
   },
   {
    "duration": 7,
    "start_time": "2023-09-01T11:11:59.133Z"
   },
   {
    "duration": 44515,
    "start_time": "2023-09-01T11:11:59.142Z"
   },
   {
    "duration": 5,
    "start_time": "2023-09-01T11:12:43.659Z"
   },
   {
    "duration": 103341,
    "start_time": "2023-09-01T11:12:43.666Z"
   },
   {
    "duration": 12,
    "start_time": "2023-09-01T11:14:27.010Z"
   },
   {
    "duration": 4,
    "start_time": "2023-09-01T11:14:27.026Z"
   },
   {
    "duration": 1608,
    "start_time": "2023-09-01T11:14:55.161Z"
   },
   {
    "duration": 3,
    "start_time": "2023-09-01T11:14:56.771Z"
   },
   {
    "duration": 413,
    "start_time": "2023-09-01T11:14:56.776Z"
   },
   {
    "duration": 38,
    "start_time": "2023-09-01T11:14:57.191Z"
   },
   {
    "duration": 19,
    "start_time": "2023-09-01T11:14:57.233Z"
   },
   {
    "duration": 99,
    "start_time": "2023-09-01T11:14:57.254Z"
   },
   {
    "duration": 23,
    "start_time": "2023-09-01T11:14:57.355Z"
   },
   {
    "duration": 38,
    "start_time": "2023-09-01T11:14:57.379Z"
   },
   {
    "duration": 469,
    "start_time": "2023-09-01T11:14:57.425Z"
   },
   {
    "duration": 34,
    "start_time": "2023-09-01T11:14:57.896Z"
   },
   {
    "duration": 19,
    "start_time": "2023-09-01T11:14:57.932Z"
   },
   {
    "duration": 8,
    "start_time": "2023-09-01T11:14:57.953Z"
   },
   {
    "duration": 4,
    "start_time": "2023-09-01T11:14:57.963Z"
   },
   {
    "duration": 43,
    "start_time": "2023-09-01T11:14:57.970Z"
   },
   {
    "duration": 79,
    "start_time": "2023-09-01T11:14:58.015Z"
   },
   {
    "duration": 33,
    "start_time": "2023-09-01T11:14:58.096Z"
   },
   {
    "duration": 24,
    "start_time": "2023-09-01T11:14:58.132Z"
   },
   {
    "duration": 14,
    "start_time": "2023-09-01T11:14:58.158Z"
   },
   {
    "duration": 50,
    "start_time": "2023-09-01T11:14:58.174Z"
   },
   {
    "duration": 7,
    "start_time": "2023-09-01T11:14:58.226Z"
   },
   {
    "duration": 15,
    "start_time": "2023-09-01T11:14:58.235Z"
   },
   {
    "duration": 173,
    "start_time": "2023-09-01T11:14:58.252Z"
   },
   {
    "duration": 74,
    "start_time": "2023-09-01T11:14:58.427Z"
   },
   {
    "duration": 32,
    "start_time": "2023-09-01T11:14:58.503Z"
   },
   {
    "duration": 861,
    "start_time": "2023-09-01T11:14:58.536Z"
   },
   {
    "duration": 794,
    "start_time": "2023-09-01T11:14:59.399Z"
   },
   {
    "duration": 783,
    "start_time": "2023-09-01T11:15:00.195Z"
   },
   {
    "duration": 148,
    "start_time": "2023-09-01T11:15:00.981Z"
   },
   {
    "duration": 284,
    "start_time": "2023-09-01T11:15:01.131Z"
   },
   {
    "duration": 123,
    "start_time": "2023-09-01T11:15:01.419Z"
   },
   {
    "duration": 150,
    "start_time": "2023-09-01T11:15:01.544Z"
   },
   {
    "duration": 50,
    "start_time": "2023-09-01T11:15:01.696Z"
   },
   {
    "duration": 137,
    "start_time": "2023-09-01T11:15:01.749Z"
   },
   {
    "duration": 147,
    "start_time": "2023-09-01T11:15:01.888Z"
   },
   {
    "duration": 117,
    "start_time": "2023-09-01T11:15:02.037Z"
   },
   {
    "duration": 145,
    "start_time": "2023-09-01T11:15:02.156Z"
   },
   {
    "duration": 30,
    "start_time": "2023-09-01T11:15:02.303Z"
   },
   {
    "duration": 187,
    "start_time": "2023-09-01T11:15:02.335Z"
   },
   {
    "duration": 154,
    "start_time": "2023-09-01T11:15:02.524Z"
   },
   {
    "duration": 169,
    "start_time": "2023-09-01T11:15:02.680Z"
   },
   {
    "duration": 118,
    "start_time": "2023-09-01T11:15:02.853Z"
   },
   {
    "duration": 26,
    "start_time": "2023-09-01T11:15:02.974Z"
   },
   {
    "duration": 244,
    "start_time": "2023-09-01T11:15:03.016Z"
   },
   {
    "duration": 324,
    "start_time": "2023-09-01T11:15:03.262Z"
   },
   {
    "duration": 202,
    "start_time": "2023-09-01T11:15:03.588Z"
   },
   {
    "duration": 205,
    "start_time": "2023-09-01T11:15:03.792Z"
   },
   {
    "duration": 230,
    "start_time": "2023-09-01T11:15:03.999Z"
   },
   {
    "duration": 222,
    "start_time": "2023-09-01T11:15:04.231Z"
   },
   {
    "duration": 226,
    "start_time": "2023-09-01T11:15:04.456Z"
   },
   {
    "duration": 208,
    "start_time": "2023-09-01T11:15:04.683Z"
   },
   {
    "duration": 3,
    "start_time": "2023-09-01T11:15:04.893Z"
   },
   {
    "duration": 4,
    "start_time": "2023-09-01T11:15:04.917Z"
   },
   {
    "duration": 19,
    "start_time": "2023-09-01T11:15:04.923Z"
   },
   {
    "duration": 17,
    "start_time": "2023-09-01T11:15:04.944Z"
   },
   {
    "duration": 12,
    "start_time": "2023-09-01T11:15:04.963Z"
   },
   {
    "duration": 10,
    "start_time": "2023-09-01T11:15:04.977Z"
   },
   {
    "duration": 14,
    "start_time": "2023-09-01T11:15:04.989Z"
   },
   {
    "duration": 23,
    "start_time": "2023-09-01T11:15:05.005Z"
   },
   {
    "duration": 22,
    "start_time": "2023-09-01T11:15:05.030Z"
   },
   {
    "duration": 4471,
    "start_time": "2023-09-01T11:15:05.054Z"
   },
   {
    "duration": 7175,
    "start_time": "2023-09-01T11:15:09.529Z"
   },
   {
    "duration": 7,
    "start_time": "2023-09-01T11:15:16.706Z"
   },
   {
    "duration": 7808,
    "start_time": "2023-09-01T11:15:16.720Z"
   },
   {
    "duration": 0,
    "start_time": "2023-09-01T11:15:24.531Z"
   },
   {
    "duration": 0,
    "start_time": "2023-09-01T11:15:24.532Z"
   },
   {
    "duration": 0,
    "start_time": "2023-09-01T11:15:24.533Z"
   },
   {
    "duration": 0,
    "start_time": "2023-09-01T11:15:24.534Z"
   },
   {
    "duration": 0,
    "start_time": "2023-09-01T11:15:24.535Z"
   },
   {
    "duration": 0,
    "start_time": "2023-09-01T11:15:24.536Z"
   },
   {
    "duration": 0,
    "start_time": "2023-09-01T11:15:24.537Z"
   },
   {
    "duration": 9891,
    "start_time": "2023-09-01T11:17:47.764Z"
   },
   {
    "duration": 25179,
    "start_time": "2023-09-01T11:18:09.672Z"
   },
   {
    "duration": 5,
    "start_time": "2023-09-01T11:18:36.635Z"
   },
   {
    "duration": 294,
    "start_time": "2023-09-01T11:20:49.285Z"
   },
   {
    "duration": 6,
    "start_time": "2023-09-01T11:20:49.935Z"
   },
   {
    "duration": 315,
    "start_time": "2023-09-01T11:21:45.127Z"
   },
   {
    "duration": 248,
    "start_time": "2023-09-01T11:22:23.726Z"
   },
   {
    "duration": 251,
    "start_time": "2023-09-01T11:23:28.003Z"
   },
   {
    "duration": 1477,
    "start_time": "2023-09-01T11:23:40.073Z"
   },
   {
    "duration": 3,
    "start_time": "2023-09-01T11:23:41.552Z"
   },
   {
    "duration": 372,
    "start_time": "2023-09-01T11:23:41.558Z"
   },
   {
    "duration": 28,
    "start_time": "2023-09-01T11:23:41.932Z"
   },
   {
    "duration": 20,
    "start_time": "2023-09-01T11:23:41.962Z"
   },
   {
    "duration": 100,
    "start_time": "2023-09-01T11:23:41.984Z"
   },
   {
    "duration": 45,
    "start_time": "2023-09-01T11:23:42.087Z"
   },
   {
    "duration": 15,
    "start_time": "2023-09-01T11:23:42.134Z"
   },
   {
    "duration": 517,
    "start_time": "2023-09-01T11:23:42.150Z"
   },
   {
    "duration": 49,
    "start_time": "2023-09-01T11:23:42.670Z"
   },
   {
    "duration": 35,
    "start_time": "2023-09-01T11:23:42.722Z"
   },
   {
    "duration": 10,
    "start_time": "2023-09-01T11:23:42.759Z"
   },
   {
    "duration": 4,
    "start_time": "2023-09-01T11:23:42.771Z"
   },
   {
    "duration": 24,
    "start_time": "2023-09-01T11:23:42.778Z"
   },
   {
    "duration": 120,
    "start_time": "2023-09-01T11:23:42.804Z"
   },
   {
    "duration": 19,
    "start_time": "2023-09-01T11:23:42.926Z"
   },
   {
    "duration": 25,
    "start_time": "2023-09-01T11:23:42.947Z"
   },
   {
    "duration": 47,
    "start_time": "2023-09-01T11:23:42.974Z"
   },
   {
    "duration": 19,
    "start_time": "2023-09-01T11:23:43.025Z"
   },
   {
    "duration": 7,
    "start_time": "2023-09-01T11:23:43.046Z"
   },
   {
    "duration": 17,
    "start_time": "2023-09-01T11:23:43.055Z"
   },
   {
    "duration": 184,
    "start_time": "2023-09-01T11:23:43.074Z"
   },
   {
    "duration": 91,
    "start_time": "2023-09-01T11:23:43.260Z"
   },
   {
    "duration": 23,
    "start_time": "2023-09-01T11:23:43.353Z"
   },
   {
    "duration": 868,
    "start_time": "2023-09-01T11:23:43.378Z"
   },
   {
    "duration": 744,
    "start_time": "2023-09-01T11:23:44.248Z"
   },
   {
    "duration": 808,
    "start_time": "2023-09-01T11:23:44.994Z"
   },
   {
    "duration": 138,
    "start_time": "2023-09-01T11:23:45.809Z"
   },
   {
    "duration": 280,
    "start_time": "2023-09-01T11:23:45.949Z"
   },
   {
    "duration": 130,
    "start_time": "2023-09-01T11:23:46.231Z"
   },
   {
    "duration": 134,
    "start_time": "2023-09-01T11:23:46.363Z"
   },
   {
    "duration": 53,
    "start_time": "2023-09-01T11:23:46.499Z"
   },
   {
    "duration": 125,
    "start_time": "2023-09-01T11:23:46.554Z"
   },
   {
    "duration": 145,
    "start_time": "2023-09-01T11:23:46.680Z"
   },
   {
    "duration": 104,
    "start_time": "2023-09-01T11:23:46.827Z"
   },
   {
    "duration": 137,
    "start_time": "2023-09-01T11:23:46.933Z"
   },
   {
    "duration": 22,
    "start_time": "2023-09-01T11:23:47.072Z"
   },
   {
    "duration": 136,
    "start_time": "2023-09-01T11:23:47.096Z"
   },
   {
    "duration": 121,
    "start_time": "2023-09-01T11:23:47.234Z"
   },
   {
    "duration": 121,
    "start_time": "2023-09-01T11:23:47.357Z"
   },
   {
    "duration": 116,
    "start_time": "2023-09-01T11:23:47.481Z"
   },
   {
    "duration": 37,
    "start_time": "2023-09-01T11:23:47.599Z"
   },
   {
    "duration": 222,
    "start_time": "2023-09-01T11:23:47.638Z"
   },
   {
    "duration": 223,
    "start_time": "2023-09-01T11:23:47.862Z"
   },
   {
    "duration": 306,
    "start_time": "2023-09-01T11:23:48.087Z"
   },
   {
    "duration": 212,
    "start_time": "2023-09-01T11:23:48.394Z"
   },
   {
    "duration": 234,
    "start_time": "2023-09-01T11:23:48.607Z"
   },
   {
    "duration": 225,
    "start_time": "2023-09-01T11:23:48.843Z"
   },
   {
    "duration": 218,
    "start_time": "2023-09-01T11:23:49.070Z"
   },
   {
    "duration": 210,
    "start_time": "2023-09-01T11:23:49.289Z"
   },
   {
    "duration": 18,
    "start_time": "2023-09-01T11:23:49.500Z"
   },
   {
    "duration": 8,
    "start_time": "2023-09-01T11:23:49.520Z"
   },
   {
    "duration": 5,
    "start_time": "2023-09-01T11:23:49.530Z"
   },
   {
    "duration": 20,
    "start_time": "2023-09-01T11:23:49.536Z"
   },
   {
    "duration": 8,
    "start_time": "2023-09-01T11:23:49.559Z"
   },
   {
    "duration": 8,
    "start_time": "2023-09-01T11:23:49.569Z"
   },
   {
    "duration": 10,
    "start_time": "2023-09-01T11:23:49.580Z"
   },
   {
    "duration": 15,
    "start_time": "2023-09-01T11:23:49.592Z"
   },
   {
    "duration": 20,
    "start_time": "2023-09-01T11:23:49.609Z"
   },
   {
    "duration": 3286,
    "start_time": "2023-09-01T11:23:49.631Z"
   },
   {
    "duration": 24966,
    "start_time": "2023-09-01T11:23:52.920Z"
   },
   {
    "duration": 4,
    "start_time": "2023-09-01T11:24:17.888Z"
   },
   {
    "duration": 365,
    "start_time": "2023-09-01T11:24:17.894Z"
   },
   {
    "duration": 0,
    "start_time": "2023-09-01T11:24:18.261Z"
   },
   {
    "duration": 0,
    "start_time": "2023-09-01T11:24:18.262Z"
   },
   {
    "duration": 0,
    "start_time": "2023-09-01T11:24:18.263Z"
   },
   {
    "duration": 0,
    "start_time": "2023-09-01T11:24:18.263Z"
   },
   {
    "duration": 152034,
    "start_time": "2023-09-01T11:24:33.017Z"
   },
   {
    "duration": 5,
    "start_time": "2023-09-01T11:27:05.054Z"
   },
   {
    "duration": 150278,
    "start_time": "2023-09-01T11:30:14.815Z"
   },
   {
    "duration": 20,
    "start_time": "2023-09-01T11:34:57.343Z"
   },
   {
    "duration": 27,
    "start_time": "2023-09-01T11:35:20.125Z"
   },
   {
    "duration": 1553,
    "start_time": "2023-09-01T11:35:30.000Z"
   },
   {
    "duration": 1615,
    "start_time": "2023-09-01T11:37:36.131Z"
   },
   {
    "duration": 3,
    "start_time": "2023-09-01T11:37:37.748Z"
   },
   {
    "duration": 413,
    "start_time": "2023-09-01T11:37:37.753Z"
   },
   {
    "duration": 28,
    "start_time": "2023-09-01T11:37:38.168Z"
   },
   {
    "duration": 27,
    "start_time": "2023-09-01T11:37:38.208Z"
   },
   {
    "duration": 127,
    "start_time": "2023-09-01T11:37:38.237Z"
   },
   {
    "duration": 44,
    "start_time": "2023-09-01T11:37:38.366Z"
   },
   {
    "duration": 28,
    "start_time": "2023-09-01T11:37:38.417Z"
   },
   {
    "duration": 472,
    "start_time": "2023-09-01T11:37:38.449Z"
   },
   {
    "duration": 23,
    "start_time": "2023-09-01T11:37:38.929Z"
   },
   {
    "duration": 24,
    "start_time": "2023-09-01T11:37:38.954Z"
   },
   {
    "duration": 8,
    "start_time": "2023-09-01T11:37:38.980Z"
   },
   {
    "duration": 27,
    "start_time": "2023-09-01T11:37:38.990Z"
   },
   {
    "duration": 10,
    "start_time": "2023-09-01T11:37:39.019Z"
   },
   {
    "duration": 90,
    "start_time": "2023-09-01T11:37:39.030Z"
   },
   {
    "duration": 20,
    "start_time": "2023-09-01T11:37:39.127Z"
   },
   {
    "duration": 31,
    "start_time": "2023-09-01T11:37:39.149Z"
   },
   {
    "duration": 17,
    "start_time": "2023-09-01T11:37:39.182Z"
   },
   {
    "duration": 25,
    "start_time": "2023-09-01T11:37:39.211Z"
   },
   {
    "duration": 10,
    "start_time": "2023-09-01T11:37:39.238Z"
   },
   {
    "duration": 15,
    "start_time": "2023-09-01T11:37:39.250Z"
   },
   {
    "duration": 189,
    "start_time": "2023-09-01T11:37:39.267Z"
   },
   {
    "duration": 104,
    "start_time": "2023-09-01T11:37:39.458Z"
   },
   {
    "duration": 27,
    "start_time": "2023-09-01T11:37:39.564Z"
   },
   {
    "duration": 1026,
    "start_time": "2023-09-01T11:37:39.593Z"
   },
   {
    "duration": 791,
    "start_time": "2023-09-01T11:37:40.622Z"
   },
   {
    "duration": 802,
    "start_time": "2023-09-01T11:37:41.419Z"
   },
   {
    "duration": 133,
    "start_time": "2023-09-01T11:37:42.231Z"
   },
   {
    "duration": 338,
    "start_time": "2023-09-01T11:37:42.366Z"
   },
   {
    "duration": 167,
    "start_time": "2023-09-01T11:37:42.711Z"
   },
   {
    "duration": 151,
    "start_time": "2023-09-01T11:37:42.880Z"
   },
   {
    "duration": 41,
    "start_time": "2023-09-01T11:37:43.033Z"
   },
   {
    "duration": 133,
    "start_time": "2023-09-01T11:37:43.076Z"
   },
   {
    "duration": 133,
    "start_time": "2023-09-01T11:37:43.211Z"
   },
   {
    "duration": 116,
    "start_time": "2023-09-01T11:37:43.347Z"
   },
   {
    "duration": 194,
    "start_time": "2023-09-01T11:37:43.465Z"
   },
   {
    "duration": 26,
    "start_time": "2023-09-01T11:37:43.661Z"
   },
   {
    "duration": 139,
    "start_time": "2023-09-01T11:37:43.690Z"
   },
   {
    "duration": 115,
    "start_time": "2023-09-01T11:37:43.831Z"
   },
   {
    "duration": 128,
    "start_time": "2023-09-01T11:37:43.948Z"
   },
   {
    "duration": 124,
    "start_time": "2023-09-01T11:37:44.079Z"
   },
   {
    "duration": 37,
    "start_time": "2023-09-01T11:37:44.209Z"
   },
   {
    "duration": 233,
    "start_time": "2023-09-01T11:37:44.248Z"
   },
   {
    "duration": 237,
    "start_time": "2023-09-01T11:37:44.484Z"
   },
   {
    "duration": 304,
    "start_time": "2023-09-01T11:37:44.723Z"
   },
   {
    "duration": 241,
    "start_time": "2023-09-01T11:37:45.029Z"
   },
   {
    "duration": 281,
    "start_time": "2023-09-01T11:37:45.272Z"
   },
   {
    "duration": 258,
    "start_time": "2023-09-01T11:37:45.555Z"
   },
   {
    "duration": 245,
    "start_time": "2023-09-01T11:37:45.818Z"
   },
   {
    "duration": 203,
    "start_time": "2023-09-01T11:37:46.065Z"
   },
   {
    "duration": 4,
    "start_time": "2023-09-01T11:37:46.270Z"
   },
   {
    "duration": 7,
    "start_time": "2023-09-01T11:37:46.275Z"
   },
   {
    "duration": 27,
    "start_time": "2023-09-01T11:37:46.284Z"
   },
   {
    "duration": 20,
    "start_time": "2023-09-01T11:37:46.313Z"
   },
   {
    "duration": 6,
    "start_time": "2023-09-01T11:37:46.335Z"
   },
   {
    "duration": 7,
    "start_time": "2023-09-01T11:37:46.343Z"
   },
   {
    "duration": 136,
    "start_time": "2023-09-01T11:37:46.352Z"
   },
   {
    "duration": 0,
    "start_time": "2023-09-01T11:37:46.490Z"
   },
   {
    "duration": 0,
    "start_time": "2023-09-01T11:37:46.491Z"
   },
   {
    "duration": 0,
    "start_time": "2023-09-01T11:37:46.493Z"
   },
   {
    "duration": 0,
    "start_time": "2023-09-01T11:37:46.509Z"
   },
   {
    "duration": 0,
    "start_time": "2023-09-01T11:37:46.510Z"
   },
   {
    "duration": 0,
    "start_time": "2023-09-01T11:37:46.511Z"
   },
   {
    "duration": 0,
    "start_time": "2023-09-01T11:37:46.512Z"
   },
   {
    "duration": 27,
    "start_time": "2023-09-01T11:38:43.099Z"
   },
   {
    "duration": 16,
    "start_time": "2023-09-01T11:39:08.468Z"
   },
   {
    "duration": 1512,
    "start_time": "2023-09-01T11:39:29.227Z"
   },
   {
    "duration": 3,
    "start_time": "2023-09-01T11:39:30.741Z"
   },
   {
    "duration": 434,
    "start_time": "2023-09-01T11:39:30.745Z"
   },
   {
    "duration": 45,
    "start_time": "2023-09-01T11:39:31.182Z"
   },
   {
    "duration": 18,
    "start_time": "2023-09-01T11:39:31.229Z"
   },
   {
    "duration": 121,
    "start_time": "2023-09-01T11:39:31.249Z"
   },
   {
    "duration": 26,
    "start_time": "2023-09-01T11:39:31.372Z"
   },
   {
    "duration": 64,
    "start_time": "2023-09-01T11:39:31.400Z"
   },
   {
    "duration": 506,
    "start_time": "2023-09-01T11:39:31.466Z"
   },
   {
    "duration": 21,
    "start_time": "2023-09-01T11:39:31.975Z"
   },
   {
    "duration": 38,
    "start_time": "2023-09-01T11:39:31.998Z"
   },
   {
    "duration": 9,
    "start_time": "2023-09-01T11:39:32.039Z"
   },
   {
    "duration": 16,
    "start_time": "2023-09-01T11:39:32.050Z"
   },
   {
    "duration": 162,
    "start_time": "2023-09-01T11:39:32.068Z"
   },
   {
    "duration": 0,
    "start_time": "2023-09-01T11:39:32.233Z"
   },
   {
    "duration": 0,
    "start_time": "2023-09-01T11:39:32.234Z"
   },
   {
    "duration": 0,
    "start_time": "2023-09-01T11:39:32.236Z"
   },
   {
    "duration": 0,
    "start_time": "2023-09-01T11:39:32.237Z"
   },
   {
    "duration": 0,
    "start_time": "2023-09-01T11:39:32.238Z"
   },
   {
    "duration": 0,
    "start_time": "2023-09-01T11:39:32.239Z"
   },
   {
    "duration": 0,
    "start_time": "2023-09-01T11:39:32.240Z"
   },
   {
    "duration": 0,
    "start_time": "2023-09-01T11:39:32.242Z"
   },
   {
    "duration": 0,
    "start_time": "2023-09-01T11:39:32.244Z"
   },
   {
    "duration": 0,
    "start_time": "2023-09-01T11:39:32.245Z"
   },
   {
    "duration": 0,
    "start_time": "2023-09-01T11:39:32.247Z"
   },
   {
    "duration": 0,
    "start_time": "2023-09-01T11:39:32.248Z"
   },
   {
    "duration": 0,
    "start_time": "2023-09-01T11:39:32.249Z"
   },
   {
    "duration": 0,
    "start_time": "2023-09-01T11:39:32.251Z"
   },
   {
    "duration": 0,
    "start_time": "2023-09-01T11:39:32.253Z"
   },
   {
    "duration": 0,
    "start_time": "2023-09-01T11:39:32.261Z"
   },
   {
    "duration": 0,
    "start_time": "2023-09-01T11:39:32.263Z"
   },
   {
    "duration": 0,
    "start_time": "2023-09-01T11:39:32.264Z"
   },
   {
    "duration": 0,
    "start_time": "2023-09-01T11:39:32.265Z"
   },
   {
    "duration": 0,
    "start_time": "2023-09-01T11:39:32.311Z"
   },
   {
    "duration": 0,
    "start_time": "2023-09-01T11:39:32.312Z"
   },
   {
    "duration": 0,
    "start_time": "2023-09-01T11:39:32.317Z"
   },
   {
    "duration": 0,
    "start_time": "2023-09-01T11:39:32.318Z"
   },
   {
    "duration": 0,
    "start_time": "2023-09-01T11:39:32.319Z"
   },
   {
    "duration": 0,
    "start_time": "2023-09-01T11:39:32.319Z"
   },
   {
    "duration": 0,
    "start_time": "2023-09-01T11:39:32.320Z"
   },
   {
    "duration": 0,
    "start_time": "2023-09-01T11:39:32.323Z"
   },
   {
    "duration": 0,
    "start_time": "2023-09-01T11:39:32.325Z"
   },
   {
    "duration": 0,
    "start_time": "2023-09-01T11:39:32.326Z"
   },
   {
    "duration": 0,
    "start_time": "2023-09-01T11:39:32.328Z"
   },
   {
    "duration": 0,
    "start_time": "2023-09-01T11:39:32.329Z"
   },
   {
    "duration": 0,
    "start_time": "2023-09-01T11:39:32.330Z"
   },
   {
    "duration": 0,
    "start_time": "2023-09-01T11:39:32.331Z"
   },
   {
    "duration": 0,
    "start_time": "2023-09-01T11:39:32.331Z"
   },
   {
    "duration": 0,
    "start_time": "2023-09-01T11:39:32.332Z"
   },
   {
    "duration": 0,
    "start_time": "2023-09-01T11:39:32.333Z"
   },
   {
    "duration": 0,
    "start_time": "2023-09-01T11:39:32.333Z"
   },
   {
    "duration": 0,
    "start_time": "2023-09-01T11:39:32.340Z"
   },
   {
    "duration": 0,
    "start_time": "2023-09-01T11:39:32.341Z"
   },
   {
    "duration": 0,
    "start_time": "2023-09-01T11:39:32.345Z"
   },
   {
    "duration": 0,
    "start_time": "2023-09-01T11:39:32.346Z"
   },
   {
    "duration": 0,
    "start_time": "2023-09-01T11:39:32.347Z"
   },
   {
    "duration": 0,
    "start_time": "2023-09-01T11:39:32.348Z"
   },
   {
    "duration": 1,
    "start_time": "2023-09-01T11:39:32.349Z"
   },
   {
    "duration": 0,
    "start_time": "2023-09-01T11:39:32.351Z"
   },
   {
    "duration": 0,
    "start_time": "2023-09-01T11:39:32.353Z"
   },
   {
    "duration": 0,
    "start_time": "2023-09-01T11:39:32.354Z"
   },
   {
    "duration": 0,
    "start_time": "2023-09-01T11:39:32.355Z"
   },
   {
    "duration": 0,
    "start_time": "2023-09-01T11:39:32.357Z"
   },
   {
    "duration": 0,
    "start_time": "2023-09-01T11:39:32.358Z"
   },
   {
    "duration": 9,
    "start_time": "2023-09-01T11:40:46.438Z"
   },
   {
    "duration": 14,
    "start_time": "2023-09-01T11:41:14.747Z"
   },
   {
    "duration": 7,
    "start_time": "2023-09-01T11:41:33.216Z"
   },
   {
    "duration": 1528,
    "start_time": "2023-09-01T11:41:43.477Z"
   },
   {
    "duration": 4,
    "start_time": "2023-09-01T11:41:45.008Z"
   },
   {
    "duration": 456,
    "start_time": "2023-09-01T11:41:45.014Z"
   },
   {
    "duration": 26,
    "start_time": "2023-09-01T11:41:45.472Z"
   },
   {
    "duration": 36,
    "start_time": "2023-09-01T11:41:45.500Z"
   },
   {
    "duration": 92,
    "start_time": "2023-09-01T11:41:45.538Z"
   },
   {
    "duration": 23,
    "start_time": "2023-09-01T11:41:45.632Z"
   },
   {
    "duration": 16,
    "start_time": "2023-09-01T11:41:45.657Z"
   },
   {
    "duration": 477,
    "start_time": "2023-09-01T11:41:45.675Z"
   },
   {
    "duration": 24,
    "start_time": "2023-09-01T11:41:46.155Z"
   },
   {
    "duration": 39,
    "start_time": "2023-09-01T11:41:46.181Z"
   },
   {
    "duration": 9,
    "start_time": "2023-09-01T11:41:46.221Z"
   },
   {
    "duration": 3,
    "start_time": "2023-09-01T11:41:46.232Z"
   },
   {
    "duration": 6,
    "start_time": "2023-09-01T11:41:46.237Z"
   },
   {
    "duration": 16,
    "start_time": "2023-09-01T11:41:46.244Z"
   },
   {
    "duration": 104,
    "start_time": "2023-09-01T11:41:46.263Z"
   },
   {
    "duration": 17,
    "start_time": "2023-09-01T11:41:46.369Z"
   },
   {
    "duration": 43,
    "start_time": "2023-09-01T11:41:46.388Z"
   },
   {
    "duration": 14,
    "start_time": "2023-09-01T11:41:46.433Z"
   },
   {
    "duration": 17,
    "start_time": "2023-09-01T11:41:46.448Z"
   },
   {
    "duration": 12,
    "start_time": "2023-09-01T11:41:46.467Z"
   },
   {
    "duration": 42,
    "start_time": "2023-09-01T11:41:46.481Z"
   },
   {
    "duration": 156,
    "start_time": "2023-09-01T11:41:46.525Z"
   },
   {
    "duration": 87,
    "start_time": "2023-09-01T11:41:46.683Z"
   },
   {
    "duration": 24,
    "start_time": "2023-09-01T11:41:46.772Z"
   },
   {
    "duration": 847,
    "start_time": "2023-09-01T11:41:46.811Z"
   },
   {
    "duration": 734,
    "start_time": "2023-09-01T11:41:47.659Z"
   },
   {
    "duration": 833,
    "start_time": "2023-09-01T11:41:48.397Z"
   },
   {
    "duration": 132,
    "start_time": "2023-09-01T11:41:49.232Z"
   },
   {
    "duration": 267,
    "start_time": "2023-09-01T11:41:49.366Z"
   },
   {
    "duration": 124,
    "start_time": "2023-09-01T11:41:49.635Z"
   },
   {
    "duration": 126,
    "start_time": "2023-09-01T11:41:49.761Z"
   },
   {
    "duration": 55,
    "start_time": "2023-09-01T11:41:49.889Z"
   },
   {
    "duration": 124,
    "start_time": "2023-09-01T11:41:49.946Z"
   },
   {
    "duration": 153,
    "start_time": "2023-09-01T11:41:50.072Z"
   },
   {
    "duration": 113,
    "start_time": "2023-09-01T11:41:50.227Z"
   },
   {
    "duration": 130,
    "start_time": "2023-09-01T11:41:50.342Z"
   },
   {
    "duration": 21,
    "start_time": "2023-09-01T11:41:50.474Z"
   },
   {
    "duration": 156,
    "start_time": "2023-09-01T11:41:50.497Z"
   },
   {
    "duration": 120,
    "start_time": "2023-09-01T11:41:50.655Z"
   },
   {
    "duration": 148,
    "start_time": "2023-09-01T11:41:50.777Z"
   },
   {
    "duration": 114,
    "start_time": "2023-09-01T11:41:50.927Z"
   },
   {
    "duration": 32,
    "start_time": "2023-09-01T11:41:51.043Z"
   },
   {
    "duration": 328,
    "start_time": "2023-09-01T11:41:51.078Z"
   },
   {
    "duration": 231,
    "start_time": "2023-09-01T11:41:51.408Z"
   },
   {
    "duration": 300,
    "start_time": "2023-09-01T11:41:51.640Z"
   },
   {
    "duration": 231,
    "start_time": "2023-09-01T11:41:51.942Z"
   },
   {
    "duration": 234,
    "start_time": "2023-09-01T11:41:52.175Z"
   },
   {
    "duration": 279,
    "start_time": "2023-09-01T11:41:52.411Z"
   },
   {
    "duration": 236,
    "start_time": "2023-09-01T11:41:52.693Z"
   },
   {
    "duration": 203,
    "start_time": "2023-09-01T11:41:52.931Z"
   },
   {
    "duration": 3,
    "start_time": "2023-09-01T11:41:53.136Z"
   },
   {
    "duration": 5,
    "start_time": "2023-09-01T11:41:53.140Z"
   },
   {
    "duration": 5,
    "start_time": "2023-09-01T11:41:53.146Z"
   },
   {
    "duration": 8,
    "start_time": "2023-09-01T11:41:53.153Z"
   },
   {
    "duration": 7,
    "start_time": "2023-09-01T11:41:53.162Z"
   },
   {
    "duration": 10,
    "start_time": "2023-09-01T11:41:53.170Z"
   },
   {
    "duration": 164,
    "start_time": "2023-09-01T11:41:53.181Z"
   },
   {
    "duration": 0,
    "start_time": "2023-09-01T11:41:53.347Z"
   },
   {
    "duration": 0,
    "start_time": "2023-09-01T11:41:53.348Z"
   },
   {
    "duration": 0,
    "start_time": "2023-09-01T11:41:53.349Z"
   },
   {
    "duration": 0,
    "start_time": "2023-09-01T11:41:53.350Z"
   },
   {
    "duration": 0,
    "start_time": "2023-09-01T11:41:53.352Z"
   },
   {
    "duration": 0,
    "start_time": "2023-09-01T11:41:53.353Z"
   },
   {
    "duration": 0,
    "start_time": "2023-09-01T11:41:53.353Z"
   },
   {
    "duration": 9,
    "start_time": "2023-09-01T11:42:16.004Z"
   },
   {
    "duration": 4,
    "start_time": "2023-09-01T11:42:30.056Z"
   },
   {
    "duration": 3,
    "start_time": "2023-09-01T11:43:25.550Z"
   },
   {
    "duration": 1596,
    "start_time": "2023-09-01T11:43:46.573Z"
   },
   {
    "duration": 3,
    "start_time": "2023-09-01T11:43:48.171Z"
   },
   {
    "duration": 452,
    "start_time": "2023-09-01T11:43:48.176Z"
   },
   {
    "duration": 29,
    "start_time": "2023-09-01T11:43:48.631Z"
   },
   {
    "duration": 18,
    "start_time": "2023-09-01T11:43:48.662Z"
   },
   {
    "duration": 104,
    "start_time": "2023-09-01T11:43:48.682Z"
   },
   {
    "duration": 32,
    "start_time": "2023-09-01T11:43:48.789Z"
   },
   {
    "duration": 19,
    "start_time": "2023-09-01T11:43:48.824Z"
   },
   {
    "duration": 538,
    "start_time": "2023-09-01T11:43:48.845Z"
   },
   {
    "duration": 22,
    "start_time": "2023-09-01T11:43:49.385Z"
   },
   {
    "duration": 34,
    "start_time": "2023-09-01T11:43:49.408Z"
   },
   {
    "duration": 8,
    "start_time": "2023-09-01T11:43:49.444Z"
   },
   {
    "duration": 6,
    "start_time": "2023-09-01T11:43:49.453Z"
   },
   {
    "duration": 5,
    "start_time": "2023-09-01T11:43:49.462Z"
   },
   {
    "duration": 44,
    "start_time": "2023-09-01T11:43:49.469Z"
   },
   {
    "duration": 41,
    "start_time": "2023-09-01T11:43:49.516Z"
   },
   {
    "duration": 104,
    "start_time": "2023-09-01T11:43:49.559Z"
   },
   {
    "duration": 16,
    "start_time": "2023-09-01T11:43:49.665Z"
   },
   {
    "duration": 43,
    "start_time": "2023-09-01T11:43:49.682Z"
   },
   {
    "duration": 18,
    "start_time": "2023-09-01T11:43:49.726Z"
   },
   {
    "duration": 18,
    "start_time": "2023-09-01T11:43:49.746Z"
   },
   {
    "duration": 8,
    "start_time": "2023-09-01T11:43:49.766Z"
   },
   {
    "duration": 46,
    "start_time": "2023-09-01T11:43:49.775Z"
   },
   {
    "duration": 166,
    "start_time": "2023-09-01T11:43:49.824Z"
   },
   {
    "duration": 95,
    "start_time": "2023-09-01T11:43:49.992Z"
   },
   {
    "duration": 46,
    "start_time": "2023-09-01T11:43:50.089Z"
   },
   {
    "duration": 961,
    "start_time": "2023-09-01T11:43:50.140Z"
   },
   {
    "duration": 836,
    "start_time": "2023-09-01T11:43:51.109Z"
   },
   {
    "duration": 939,
    "start_time": "2023-09-01T11:43:51.947Z"
   },
   {
    "duration": 157,
    "start_time": "2023-09-01T11:43:52.888Z"
   },
   {
    "duration": 287,
    "start_time": "2023-09-01T11:43:53.047Z"
   },
   {
    "duration": 121,
    "start_time": "2023-09-01T11:43:53.338Z"
   },
   {
    "duration": 145,
    "start_time": "2023-09-01T11:43:53.460Z"
   },
   {
    "duration": 49,
    "start_time": "2023-09-01T11:43:53.607Z"
   },
   {
    "duration": 138,
    "start_time": "2023-09-01T11:43:53.658Z"
   },
   {
    "duration": 152,
    "start_time": "2023-09-01T11:43:53.798Z"
   },
   {
    "duration": 113,
    "start_time": "2023-09-01T11:43:53.952Z"
   },
   {
    "duration": 132,
    "start_time": "2023-09-01T11:43:54.067Z"
   },
   {
    "duration": 31,
    "start_time": "2023-09-01T11:43:54.202Z"
   },
   {
    "duration": 156,
    "start_time": "2023-09-01T11:43:54.235Z"
   },
   {
    "duration": 164,
    "start_time": "2023-09-01T11:43:54.395Z"
   },
   {
    "duration": 180,
    "start_time": "2023-09-01T11:43:54.570Z"
   },
   {
    "duration": 143,
    "start_time": "2023-09-01T11:43:54.752Z"
   },
   {
    "duration": 32,
    "start_time": "2023-09-01T11:43:54.897Z"
   },
   {
    "duration": 250,
    "start_time": "2023-09-01T11:43:54.931Z"
   },
   {
    "duration": 372,
    "start_time": "2023-09-01T11:43:55.183Z"
   },
   {
    "duration": 228,
    "start_time": "2023-09-01T11:43:55.558Z"
   },
   {
    "duration": 216,
    "start_time": "2023-09-01T11:43:55.787Z"
   },
   {
    "duration": 258,
    "start_time": "2023-09-01T11:43:56.014Z"
   },
   {
    "duration": 233,
    "start_time": "2023-09-01T11:43:56.274Z"
   },
   {
    "duration": 241,
    "start_time": "2023-09-01T11:43:56.509Z"
   },
   {
    "duration": 217,
    "start_time": "2023-09-01T11:43:56.752Z"
   },
   {
    "duration": 3,
    "start_time": "2023-09-01T11:43:56.971Z"
   },
   {
    "duration": 8,
    "start_time": "2023-09-01T11:43:56.975Z"
   },
   {
    "duration": 7,
    "start_time": "2023-09-01T11:43:56.985Z"
   },
   {
    "duration": 20,
    "start_time": "2023-09-01T11:43:56.994Z"
   },
   {
    "duration": 5,
    "start_time": "2023-09-01T11:43:57.017Z"
   },
   {
    "duration": 7,
    "start_time": "2023-09-01T11:43:57.024Z"
   },
   {
    "duration": 8,
    "start_time": "2023-09-01T11:43:57.041Z"
   },
   {
    "duration": 17,
    "start_time": "2023-09-01T11:43:57.051Z"
   },
   {
    "duration": 15,
    "start_time": "2023-09-01T11:43:57.070Z"
   },
   {
    "duration": 11,
    "start_time": "2023-09-01T11:43:57.088Z"
   },
   {
    "duration": 2631,
    "start_time": "2023-09-01T11:43:57.101Z"
   },
   {
    "duration": 17672,
    "start_time": "2023-09-01T11:43:59.737Z"
   },
   {
    "duration": 7,
    "start_time": "2023-09-01T11:44:17.412Z"
   },
   {
    "duration": 633,
    "start_time": "2023-09-01T11:44:17.423Z"
   },
   {
    "duration": 14641,
    "start_time": "2023-09-01T11:44:53.135Z"
   },
   {
    "duration": 101599,
    "start_time": "2023-09-01T11:45:09.752Z"
   },
   {
    "duration": 3,
    "start_time": "2023-09-01T11:46:51.353Z"
   },
   {
    "duration": 43,
    "start_time": "2023-09-01T11:48:35.388Z"
   },
   {
    "duration": 16,
    "start_time": "2023-09-01T11:48:51.288Z"
   },
   {
    "duration": 221,
    "start_time": "2023-09-01T11:49:01.344Z"
   },
   {
    "duration": 222,
    "start_time": "2023-09-01T11:49:49.233Z"
   },
   {
    "duration": 272,
    "start_time": "2023-09-01T11:50:19.173Z"
   },
   {
    "duration": 18,
    "start_time": "2023-09-01T11:50:39.722Z"
   },
   {
    "duration": 222,
    "start_time": "2023-09-01T11:50:57.803Z"
   },
   {
    "duration": 205,
    "start_time": "2023-09-01T11:51:08.268Z"
   },
   {
    "duration": 207,
    "start_time": "2023-09-01T11:51:49.536Z"
   },
   {
    "duration": 8,
    "start_time": "2023-09-01T11:52:26.511Z"
   },
   {
    "duration": 210,
    "start_time": "2023-09-01T11:52:35.679Z"
   },
   {
    "duration": 3979,
    "start_time": "2023-09-01T12:18:01.718Z"
   },
   {
    "duration": 3,
    "start_time": "2023-09-01T12:18:05.699Z"
   },
   {
    "duration": 935,
    "start_time": "2023-09-01T12:18:05.704Z"
   },
   {
    "duration": 33,
    "start_time": "2023-09-01T12:18:06.641Z"
   },
   {
    "duration": 39,
    "start_time": "2023-09-01T12:18:06.676Z"
   },
   {
    "duration": 143,
    "start_time": "2023-09-01T12:18:06.716Z"
   },
   {
    "duration": 22,
    "start_time": "2023-09-01T12:18:06.861Z"
   },
   {
    "duration": 14,
    "start_time": "2023-09-01T12:18:06.885Z"
   },
   {
    "duration": 1227,
    "start_time": "2023-09-01T12:18:06.901Z"
   },
   {
    "duration": 24,
    "start_time": "2023-09-01T12:18:08.132Z"
   },
   {
    "duration": 39,
    "start_time": "2023-09-01T12:18:08.158Z"
   },
   {
    "duration": 34,
    "start_time": "2023-09-01T12:18:08.199Z"
   },
   {
    "duration": 29,
    "start_time": "2023-09-01T12:18:08.235Z"
   },
   {
    "duration": 27,
    "start_time": "2023-09-01T12:18:08.266Z"
   },
   {
    "duration": 33,
    "start_time": "2023-09-01T12:18:08.295Z"
   },
   {
    "duration": 17,
    "start_time": "2023-09-01T12:18:08.329Z"
   },
   {
    "duration": 86,
    "start_time": "2023-09-01T12:18:08.348Z"
   },
   {
    "duration": 20,
    "start_time": "2023-09-01T12:18:08.435Z"
   },
   {
    "duration": 46,
    "start_time": "2023-09-01T12:18:08.457Z"
   },
   {
    "duration": 15,
    "start_time": "2023-09-01T12:18:08.505Z"
   },
   {
    "duration": 31,
    "start_time": "2023-09-01T12:18:08.522Z"
   },
   {
    "duration": 9,
    "start_time": "2023-09-01T12:18:08.555Z"
   },
   {
    "duration": 36,
    "start_time": "2023-09-01T12:18:08.565Z"
   },
   {
    "duration": 159,
    "start_time": "2023-09-01T12:18:08.603Z"
   },
   {
    "duration": 88,
    "start_time": "2023-09-01T12:18:08.764Z"
   },
   {
    "duration": 90,
    "start_time": "2023-09-01T12:18:08.854Z"
   },
   {
    "duration": 1204,
    "start_time": "2023-09-01T12:18:08.946Z"
   },
   {
    "duration": 1066,
    "start_time": "2023-09-01T12:18:10.154Z"
   },
   {
    "duration": 1057,
    "start_time": "2023-09-01T12:18:11.222Z"
   },
   {
    "duration": 268,
    "start_time": "2023-09-01T12:18:12.281Z"
   },
   {
    "duration": 276,
    "start_time": "2023-09-01T12:18:12.551Z"
   },
   {
    "duration": 217,
    "start_time": "2023-09-01T12:18:12.828Z"
   },
   {
    "duration": 278,
    "start_time": "2023-09-01T12:18:13.047Z"
   },
   {
    "duration": 44,
    "start_time": "2023-09-01T12:18:13.327Z"
   },
   {
    "duration": 256,
    "start_time": "2023-09-01T12:18:13.373Z"
   },
   {
    "duration": 226,
    "start_time": "2023-09-01T12:18:13.631Z"
   },
   {
    "duration": 373,
    "start_time": "2023-09-01T12:18:13.859Z"
   },
   {
    "duration": 236,
    "start_time": "2023-09-01T12:18:14.233Z"
   },
   {
    "duration": 33,
    "start_time": "2023-09-01T12:18:14.471Z"
   },
   {
    "duration": 270,
    "start_time": "2023-09-01T12:18:14.506Z"
   },
   {
    "duration": 265,
    "start_time": "2023-09-01T12:18:14.778Z"
   },
   {
    "duration": 209,
    "start_time": "2023-09-01T12:18:15.045Z"
   },
   {
    "duration": 271,
    "start_time": "2023-09-01T12:18:15.256Z"
   },
   {
    "duration": 26,
    "start_time": "2023-09-01T12:18:15.529Z"
   },
   {
    "duration": 4,
    "start_time": "2023-09-01T12:18:23.318Z"
   },
   {
    "duration": 3,
    "start_time": "2023-09-01T12:20:31.631Z"
   },
   {
    "duration": 121,
    "start_time": "2023-09-01T12:20:36.822Z"
   },
   {
    "duration": 5,
    "start_time": "2023-09-01T12:20:40.255Z"
   },
   {
    "duration": 5,
    "start_time": "2023-09-01T12:20:40.751Z"
   },
   {
    "duration": 3456,
    "start_time": "2023-09-01T12:21:30.067Z"
   },
   {
    "duration": 3,
    "start_time": "2023-09-01T12:21:33.525Z"
   },
   {
    "duration": 380,
    "start_time": "2023-09-01T12:21:33.531Z"
   },
   {
    "duration": 32,
    "start_time": "2023-09-01T12:21:33.913Z"
   },
   {
    "duration": 19,
    "start_time": "2023-09-01T12:21:33.947Z"
   },
   {
    "duration": 91,
    "start_time": "2023-09-01T12:21:33.968Z"
   },
   {
    "duration": 23,
    "start_time": "2023-09-01T12:21:34.060Z"
   },
   {
    "duration": 14,
    "start_time": "2023-09-01T12:21:34.101Z"
   },
   {
    "duration": 426,
    "start_time": "2023-09-01T12:21:34.117Z"
   },
   {
    "duration": 32,
    "start_time": "2023-09-01T12:21:34.545Z"
   },
   {
    "duration": 40,
    "start_time": "2023-09-01T12:21:34.579Z"
   },
   {
    "duration": 14,
    "start_time": "2023-09-01T12:21:34.621Z"
   },
   {
    "duration": 6,
    "start_time": "2023-09-01T12:21:34.640Z"
   },
   {
    "duration": 30,
    "start_time": "2023-09-01T12:21:34.648Z"
   },
   {
    "duration": 22,
    "start_time": "2023-09-01T12:21:34.680Z"
   },
   {
    "duration": 12,
    "start_time": "2023-09-01T12:21:34.704Z"
   },
   {
    "duration": 91,
    "start_time": "2023-09-01T12:21:34.719Z"
   },
   {
    "duration": 18,
    "start_time": "2023-09-01T12:21:34.812Z"
   },
   {
    "duration": 24,
    "start_time": "2023-09-01T12:21:34.832Z"
   },
   {
    "duration": 14,
    "start_time": "2023-09-01T12:21:34.858Z"
   },
   {
    "duration": 48,
    "start_time": "2023-09-01T12:21:34.873Z"
   },
   {
    "duration": 10,
    "start_time": "2023-09-01T12:21:34.922Z"
   },
   {
    "duration": 16,
    "start_time": "2023-09-01T12:21:34.934Z"
   },
   {
    "duration": 167,
    "start_time": "2023-09-01T12:21:34.952Z"
   },
   {
    "duration": 84,
    "start_time": "2023-09-01T12:21:35.120Z"
   },
   {
    "duration": 23,
    "start_time": "2023-09-01T12:21:35.206Z"
   },
   {
    "duration": 1174,
    "start_time": "2023-09-01T12:21:35.231Z"
   },
   {
    "duration": 1025,
    "start_time": "2023-09-01T12:21:36.406Z"
   },
   {
    "duration": 1168,
    "start_time": "2023-09-01T12:21:37.433Z"
   },
   {
    "duration": 266,
    "start_time": "2023-09-01T12:21:38.603Z"
   },
   {
    "duration": 268,
    "start_time": "2023-09-01T12:21:38.871Z"
   },
   {
    "duration": 224,
    "start_time": "2023-09-01T12:21:39.141Z"
   },
   {
    "duration": 278,
    "start_time": "2023-09-01T12:21:39.367Z"
   },
   {
    "duration": 55,
    "start_time": "2023-09-01T12:21:39.646Z"
   },
   {
    "duration": 231,
    "start_time": "2023-09-01T12:21:39.703Z"
   },
   {
    "duration": 232,
    "start_time": "2023-09-01T12:21:39.935Z"
   },
   {
    "duration": 369,
    "start_time": "2023-09-01T12:21:40.169Z"
   },
   {
    "duration": 219,
    "start_time": "2023-09-01T12:21:40.540Z"
   },
   {
    "duration": 49,
    "start_time": "2023-09-01T12:21:40.762Z"
   },
   {
    "duration": 237,
    "start_time": "2023-09-01T12:21:40.815Z"
   },
   {
    "duration": 257,
    "start_time": "2023-09-01T12:21:41.055Z"
   },
   {
    "duration": 236,
    "start_time": "2023-09-01T12:21:41.314Z"
   },
   {
    "duration": 258,
    "start_time": "2023-09-01T12:21:41.552Z"
   },
   {
    "duration": 25,
    "start_time": "2023-09-01T12:21:41.812Z"
   },
   {
    "duration": 32,
    "start_time": "2023-09-01T12:21:41.839Z"
   },
   {
    "duration": 384,
    "start_time": "2023-09-01T12:21:41.873Z"
   },
   {
    "duration": 383,
    "start_time": "2023-09-01T12:21:42.259Z"
   },
   {
    "duration": 364,
    "start_time": "2023-09-01T12:21:42.644Z"
   },
   {
    "duration": 358,
    "start_time": "2023-09-01T12:21:43.010Z"
   },
   {
    "duration": 383,
    "start_time": "2023-09-01T12:21:43.370Z"
   },
   {
    "duration": 383,
    "start_time": "2023-09-01T12:21:43.754Z"
   },
   {
    "duration": 400,
    "start_time": "2023-09-01T12:21:44.139Z"
   },
   {
    "duration": 392,
    "start_time": "2023-09-01T12:21:44.542Z"
   },
   {
    "duration": 3,
    "start_time": "2023-09-01T12:21:44.936Z"
   },
   {
    "duration": 13,
    "start_time": "2023-09-01T12:21:44.942Z"
   },
   {
    "duration": 24,
    "start_time": "2023-09-01T12:21:44.957Z"
   },
   {
    "duration": 116,
    "start_time": "2023-09-01T12:21:44.983Z"
   },
   {
    "duration": 28,
    "start_time": "2023-09-01T12:21:45.101Z"
   },
   {
    "duration": 23,
    "start_time": "2023-09-01T12:21:45.131Z"
   },
   {
    "duration": 18,
    "start_time": "2023-09-01T12:21:45.155Z"
   },
   {
    "duration": 29,
    "start_time": "2023-09-01T12:22:21.090Z"
   },
   {
    "duration": 29,
    "start_time": "2023-09-01T12:22:30.119Z"
   },
   {
    "duration": 31,
    "start_time": "2023-09-01T12:24:03.886Z"
   },
   {
    "duration": 1533,
    "start_time": "2023-09-01T21:03:20.813Z"
   },
   {
    "duration": 3,
    "start_time": "2023-09-01T21:03:22.348Z"
   },
   {
    "duration": 948,
    "start_time": "2023-09-01T21:03:22.353Z"
   },
   {
    "duration": 28,
    "start_time": "2023-09-01T21:03:23.303Z"
   },
   {
    "duration": 19,
    "start_time": "2023-09-01T21:03:23.332Z"
   },
   {
    "duration": 151,
    "start_time": "2023-09-01T21:03:23.449Z"
   },
   {
    "duration": 22,
    "start_time": "2023-09-01T21:03:24.058Z"
   },
   {
    "duration": 15,
    "start_time": "2023-09-01T21:03:24.625Z"
   },
   {
    "duration": 1165,
    "start_time": "2023-09-01T21:03:26.067Z"
   },
   {
    "duration": 20,
    "start_time": "2023-09-01T21:03:27.234Z"
   },
   {
    "duration": 17,
    "start_time": "2023-09-01T21:03:32.088Z"
   },
   {
    "duration": 8,
    "start_time": "2023-09-01T21:03:50.682Z"
   },
   {
    "duration": 71,
    "start_time": "2023-09-01T21:04:24.777Z"
   },
   {
    "duration": 113,
    "start_time": "2023-09-01T21:11:18.990Z"
   },
   {
    "duration": 58,
    "start_time": "2023-09-01T21:12:01.279Z"
   },
   {
    "duration": 4,
    "start_time": "2023-09-01T21:12:32.143Z"
   },
   {
    "duration": 5,
    "start_time": "2023-09-01T21:12:34.119Z"
   },
   {
    "duration": 13,
    "start_time": "2023-09-01T21:12:34.577Z"
   },
   {
    "duration": 4,
    "start_time": "2023-09-01T21:12:35.368Z"
   },
   {
    "duration": 58,
    "start_time": "2023-09-01T21:12:37.079Z"
   },
   {
    "duration": 15,
    "start_time": "2023-09-01T21:12:38.199Z"
   },
   {
    "duration": 21,
    "start_time": "2023-09-01T21:12:38.472Z"
   },
   {
    "duration": 14,
    "start_time": "2023-09-01T21:12:38.726Z"
   },
   {
    "duration": 17,
    "start_time": "2023-09-01T21:12:39.014Z"
   },
   {
    "duration": 9,
    "start_time": "2023-09-01T21:12:39.269Z"
   },
   {
    "duration": 13,
    "start_time": "2023-09-01T21:12:40.577Z"
   },
   {
    "duration": 140,
    "start_time": "2023-09-01T21:12:41.847Z"
   },
   {
    "duration": 78,
    "start_time": "2023-09-01T21:12:42.112Z"
   },
   {
    "duration": 23,
    "start_time": "2023-09-01T21:12:42.677Z"
   },
   {
    "duration": 782,
    "start_time": "2023-09-01T21:12:48.333Z"
   },
   {
    "duration": 115,
    "start_time": "2023-09-01T21:13:38.569Z"
   },
   {
    "duration": 15,
    "start_time": "2023-09-01T21:13:48.473Z"
   },
   {
    "duration": 16,
    "start_time": "2023-09-01T21:14:20.595Z"
   },
   {
    "duration": 21,
    "start_time": "2023-09-01T21:14:35.977Z"
   },
   {
    "duration": 16067,
    "start_time": "2023-09-01T21:15:31.047Z"
   },
   {
    "duration": 13,
    "start_time": "2023-09-01T21:16:10.920Z"
   },
   {
    "duration": 9,
    "start_time": "2023-09-01T21:16:24.576Z"
   },
   {
    "duration": 15,
    "start_time": "2023-09-01T21:16:33.313Z"
   },
   {
    "duration": 22,
    "start_time": "2023-09-01T21:16:42.673Z"
   },
   {
    "duration": 189,
    "start_time": "2023-09-01T21:17:30.744Z"
   },
   {
    "duration": 393,
    "start_time": "2023-09-01T21:17:53.927Z"
   },
   {
    "duration": 882,
    "start_time": "2023-09-01T21:18:33.522Z"
   },
   {
    "duration": 379,
    "start_time": "2023-09-01T21:18:43.240Z"
   },
   {
    "duration": 498,
    "start_time": "2023-09-01T21:19:01.346Z"
   },
   {
    "duration": 629,
    "start_time": "2023-09-01T21:20:02.582Z"
   },
   {
    "duration": 511,
    "start_time": "2023-09-01T21:20:12.276Z"
   },
   {
    "duration": 531,
    "start_time": "2023-09-01T21:20:20.504Z"
   },
   {
    "duration": 532,
    "start_time": "2023-09-01T21:20:51.281Z"
   },
   {
    "duration": 628,
    "start_time": "2023-09-01T21:22:05.001Z"
   },
   {
    "duration": 534,
    "start_time": "2023-09-01T21:22:18.138Z"
   },
   {
    "duration": 535,
    "start_time": "2023-09-01T21:22:30.292Z"
   },
   {
    "duration": 478,
    "start_time": "2023-09-01T21:22:54.937Z"
   },
   {
    "duration": 670,
    "start_time": "2023-09-01T21:22:57.875Z"
   },
   {
    "duration": 537,
    "start_time": "2023-09-01T21:23:01.670Z"
   },
   {
    "duration": 175,
    "start_time": "2023-09-01T21:24:57.330Z"
   },
   {
    "duration": 129,
    "start_time": "2023-09-01T21:25:44.215Z"
   },
   {
    "duration": 106,
    "start_time": "2023-09-01T21:25:48.423Z"
   },
   {
    "duration": 109,
    "start_time": "2023-09-01T21:25:50.806Z"
   },
   {
    "duration": 106,
    "start_time": "2023-09-01T21:25:51.771Z"
   },
   {
    "duration": 36,
    "start_time": "2023-09-01T21:28:07.747Z"
   },
   {
    "duration": 226,
    "start_time": "2023-09-01T21:28:28.788Z"
   },
   {
    "duration": 120,
    "start_time": "2023-09-01T21:29:07.140Z"
   },
   {
    "duration": 69,
    "start_time": "2023-09-01T21:29:15.378Z"
   },
   {
    "duration": 234,
    "start_time": "2023-09-01T21:29:19.535Z"
   },
   {
    "duration": 30,
    "start_time": "2023-09-01T21:30:34.172Z"
   },
   {
    "duration": 29,
    "start_time": "2023-09-01T21:31:07.721Z"
   },
   {
    "duration": 4,
    "start_time": "2023-09-01T21:31:12.530Z"
   },
   {
    "duration": 1674,
    "start_time": "2023-09-02T10:20:59.310Z"
   },
   {
    "duration": 4,
    "start_time": "2023-09-02T10:23:17.521Z"
   },
   {
    "duration": 2,
    "start_time": "2023-09-02T10:23:18.066Z"
   },
   {
    "duration": 972,
    "start_time": "2023-09-02T10:23:18.923Z"
   },
   {
    "duration": 35,
    "start_time": "2023-09-02T10:23:19.898Z"
   },
   {
    "duration": 29,
    "start_time": "2023-09-02T10:23:19.935Z"
   },
   {
    "duration": 179,
    "start_time": "2023-09-02T10:23:19.966Z"
   },
   {
    "duration": 23,
    "start_time": "2023-09-02T10:23:20.147Z"
   },
   {
    "duration": 16,
    "start_time": "2023-09-02T10:23:20.275Z"
   },
   {
    "duration": 1234,
    "start_time": "2023-09-02T10:23:20.707Z"
   },
   {
    "duration": 26,
    "start_time": "2023-09-02T10:23:21.943Z"
   },
   {
    "duration": 24,
    "start_time": "2023-09-02T10:23:21.971Z"
   },
   {
    "duration": 20,
    "start_time": "2023-09-02T10:23:22.000Z"
   },
   {
    "duration": 4,
    "start_time": "2023-09-02T10:23:22.813Z"
   },
   {
    "duration": 5,
    "start_time": "2023-09-02T10:23:24.252Z"
   },
   {
    "duration": 13,
    "start_time": "2023-09-02T10:23:24.467Z"
   },
   {
    "duration": 3,
    "start_time": "2023-09-02T10:23:24.919Z"
   },
   {
    "duration": 68,
    "start_time": "2023-09-02T10:23:25.686Z"
   },
   {
    "duration": 18,
    "start_time": "2023-09-02T10:23:26.424Z"
   },
   {
    "duration": 28,
    "start_time": "2023-09-02T10:23:26.687Z"
   },
   {
    "duration": 20,
    "start_time": "2023-09-02T10:23:26.949Z"
   },
   {
    "duration": 19,
    "start_time": "2023-09-02T10:23:27.215Z"
   },
   {
    "duration": 10,
    "start_time": "2023-09-02T10:23:27.482Z"
   },
   {
    "duration": 14,
    "start_time": "2023-09-02T10:23:28.282Z"
   },
   {
    "duration": 156,
    "start_time": "2023-09-02T10:23:29.279Z"
   },
   {
    "duration": 89,
    "start_time": "2023-09-02T10:23:29.533Z"
   },
   {
    "duration": 24,
    "start_time": "2023-09-02T10:23:29.831Z"
   },
   {
    "duration": 729,
    "start_time": "2023-09-02T10:23:34.065Z"
   },
   {
    "duration": 638,
    "start_time": "2023-09-02T10:23:38.029Z"
   },
   {
    "duration": 628,
    "start_time": "2023-09-02T10:23:40.797Z"
   },
   {
    "duration": 24,
    "start_time": "2023-09-02T10:25:23.591Z"
   },
   {
    "duration": 597,
    "start_time": "2023-09-02T10:25:45.079Z"
   },
   {
    "duration": 768,
    "start_time": "2023-09-02T10:25:51.637Z"
   },
   {
    "duration": 689,
    "start_time": "2023-09-02T10:25:58.084Z"
   },
   {
    "duration": 629,
    "start_time": "2023-09-02T10:26:08.175Z"
   },
   {
    "duration": 604,
    "start_time": "2023-09-02T10:26:20.704Z"
   },
   {
    "duration": 766,
    "start_time": "2023-09-02T10:26:27.979Z"
   },
   {
    "duration": 605,
    "start_time": "2023-09-02T10:26:38.873Z"
   },
   {
    "duration": 643,
    "start_time": "2023-09-02T10:26:48.116Z"
   },
   {
    "duration": 142,
    "start_time": "2023-09-02T10:27:02.682Z"
   },
   {
    "duration": 125,
    "start_time": "2023-09-02T10:27:03.629Z"
   },
   {
    "duration": 324,
    "start_time": "2023-09-02T10:27:04.436Z"
   },
   {
    "duration": 165,
    "start_time": "2023-09-02T10:27:04.881Z"
   },
   {
    "duration": 40,
    "start_time": "2023-09-02T10:27:05.842Z"
   },
   {
    "duration": 130,
    "start_time": "2023-09-02T10:27:11.032Z"
   },
   {
    "duration": 113,
    "start_time": "2023-09-02T10:27:11.824Z"
   },
   {
    "duration": 150,
    "start_time": "2023-09-02T10:27:12.387Z"
   },
   {
    "duration": 140,
    "start_time": "2023-09-02T10:27:13.013Z"
   },
   {
    "duration": 37,
    "start_time": "2023-09-02T10:27:13.584Z"
   },
   {
    "duration": 137,
    "start_time": "2023-09-02T10:27:15.894Z"
   },
   {
    "duration": 147,
    "start_time": "2023-09-02T10:27:18.893Z"
   },
   {
    "duration": 129,
    "start_time": "2023-09-02T10:27:19.622Z"
   },
   {
    "duration": 134,
    "start_time": "2023-09-02T10:27:20.179Z"
   },
   {
    "duration": 37,
    "start_time": "2023-09-02T10:27:20.928Z"
   },
   {
    "duration": 348,
    "start_time": "2023-09-02T10:27:29.575Z"
   },
   {
    "duration": 217,
    "start_time": "2023-09-02T10:27:41.148Z"
   },
   {
    "duration": 346,
    "start_time": "2023-09-02T10:27:43.585Z"
   },
   {
    "duration": 182,
    "start_time": "2023-09-02T10:28:02.283Z"
   },
   {
    "duration": 230,
    "start_time": "2023-09-02T10:28:20.087Z"
   },
   {
    "duration": 255,
    "start_time": "2023-09-02T10:28:33.483Z"
   },
   {
    "duration": 226,
    "start_time": "2023-09-02T10:28:39.318Z"
   },
   {
    "duration": 334,
    "start_time": "2023-09-02T10:29:20.506Z"
   },
   {
    "duration": 295,
    "start_time": "2023-09-02T10:32:22.668Z"
   },
   {
    "duration": 16,
    "start_time": "2023-09-02T10:32:42.877Z"
   },
   {
    "duration": 293,
    "start_time": "2023-09-02T10:32:56.598Z"
   },
   {
    "duration": 721,
    "start_time": "2023-09-02T10:34:11.097Z"
   },
   {
    "duration": 295,
    "start_time": "2023-09-02T10:34:19.937Z"
   },
   {
    "duration": 304,
    "start_time": "2023-09-02T10:35:55.274Z"
   },
   {
    "duration": 429,
    "start_time": "2023-09-02T10:36:00.414Z"
   },
   {
    "duration": 313,
    "start_time": "2023-09-02T10:36:06.937Z"
   },
   {
    "duration": 319,
    "start_time": "2023-09-02T10:36:43.144Z"
   },
   {
    "duration": 335,
    "start_time": "2023-09-02T10:37:08.095Z"
   },
   {
    "duration": 348,
    "start_time": "2023-09-02T10:37:37.459Z"
   },
   {
    "duration": 317,
    "start_time": "2023-09-02T10:38:28.671Z"
   },
   {
    "duration": 490,
    "start_time": "2023-09-02T10:38:44.937Z"
   },
   {
    "duration": 345,
    "start_time": "2023-09-02T10:38:54.375Z"
   },
   {
    "duration": 344,
    "start_time": "2023-09-02T10:40:47.620Z"
   },
   {
    "duration": 351,
    "start_time": "2023-09-02T10:40:57.530Z"
   },
   {
    "duration": 358,
    "start_time": "2023-09-02T10:41:00.184Z"
   },
   {
    "duration": 499,
    "start_time": "2023-09-02T10:41:09.077Z"
   },
   {
    "duration": 375,
    "start_time": "2023-09-02T10:41:16.424Z"
   },
   {
    "duration": 373,
    "start_time": "2023-09-02T10:41:23.068Z"
   },
   {
    "duration": 435,
    "start_time": "2023-09-02T10:41:30.177Z"
   },
   {
    "duration": 390,
    "start_time": "2023-09-02T10:41:42.135Z"
   },
   {
    "duration": 388,
    "start_time": "2023-09-02T10:41:49.747Z"
   },
   {
    "duration": 555,
    "start_time": "2023-09-02T10:41:54.120Z"
   },
   {
    "duration": 363,
    "start_time": "2023-09-02T10:41:58.985Z"
   },
   {
    "duration": 395,
    "start_time": "2023-09-02T10:42:08.485Z"
   },
   {
    "duration": 395,
    "start_time": "2023-09-02T10:42:22.031Z"
   },
   {
    "duration": 366,
    "start_time": "2023-09-02T10:42:26.718Z"
   },
   {
    "duration": 507,
    "start_time": "2023-09-02T10:42:36.024Z"
   },
   {
    "duration": 419,
    "start_time": "2023-09-02T10:42:39.117Z"
   },
   {
    "duration": 254,
    "start_time": "2023-09-02T10:42:42.128Z"
   },
   {
    "duration": 410,
    "start_time": "2023-09-02T10:42:42.882Z"
   },
   {
    "duration": 386,
    "start_time": "2023-09-02T10:42:52.291Z"
   },
   {
    "duration": 392,
    "start_time": "2023-09-02T10:43:03.589Z"
   },
   {
    "duration": 513,
    "start_time": "2023-09-02T10:43:33.169Z"
   },
   {
    "duration": 430,
    "start_time": "2023-09-02T10:43:46.035Z"
   },
   {
    "duration": 369,
    "start_time": "2023-09-02T10:44:03.479Z"
   },
   {
    "duration": 18,
    "start_time": "2023-09-02T10:45:41.285Z"
   },
   {
    "duration": 23,
    "start_time": "2023-09-02T10:46:00.707Z"
   },
   {
    "duration": 362,
    "start_time": "2023-09-02T10:46:06.076Z"
   },
   {
    "duration": 442,
    "start_time": "2023-09-02T10:47:28.443Z"
   },
   {
    "duration": 444,
    "start_time": "2023-09-02T10:48:33.398Z"
   },
   {
    "duration": 552,
    "start_time": "2023-09-02T10:49:11.786Z"
   },
   {
    "duration": 462,
    "start_time": "2023-09-02T10:49:53.898Z"
   },
   {
    "duration": 5,
    "start_time": "2023-09-02T10:55:05.138Z"
   },
   {
    "duration": 15,
    "start_time": "2023-09-02T11:06:30.892Z"
   },
   {
    "duration": 246,
    "start_time": "2023-09-02T11:06:36.480Z"
   },
   {
    "duration": 234,
    "start_time": "2023-09-02T11:06:47.540Z"
   },
   {
    "duration": 250,
    "start_time": "2023-09-02T11:06:52.896Z"
   },
   {
    "duration": 225,
    "start_time": "2023-09-02T11:06:55.729Z"
   },
   {
    "duration": 13,
    "start_time": "2023-09-02T11:07:06.797Z"
   },
   {
    "duration": 3,
    "start_time": "2023-09-02T11:07:07.291Z"
   },
   {
    "duration": 2,
    "start_time": "2023-09-02T11:07:07.744Z"
   },
   {
    "duration": 8,
    "start_time": "2023-09-02T11:07:10.437Z"
   },
   {
    "duration": 5,
    "start_time": "2023-09-02T11:07:10.934Z"
   },
   {
    "duration": 10,
    "start_time": "2023-09-02T11:07:11.372Z"
   },
   {
    "duration": 12,
    "start_time": "2023-09-02T11:07:16.314Z"
   },
   {
    "duration": 8,
    "start_time": "2023-09-02T11:07:21.298Z"
   },
   {
    "duration": 11,
    "start_time": "2023-09-02T11:07:21.751Z"
   },
   {
    "duration": 20,
    "start_time": "2023-09-02T11:07:22.146Z"
   },
   {
    "duration": 4107,
    "start_time": "2023-09-02T11:07:24.518Z"
   },
   {
    "duration": 39056,
    "start_time": "2023-09-02T11:07:36.330Z"
   },
   {
    "duration": 3,
    "start_time": "2023-09-02T11:08:15.388Z"
   },
   {
    "duration": 222998,
    "start_time": "2023-09-02T11:13:01.055Z"
   },
   {
    "duration": 10,
    "start_time": "2023-09-02T11:16:44.054Z"
   },
   {
    "duration": 0,
    "start_time": "2023-09-02T11:16:44.066Z"
   },
   {
    "duration": 4,
    "start_time": "2023-09-02T11:17:06.530Z"
   },
   {
    "duration": 3,
    "start_time": "2023-09-02T11:17:15.496Z"
   },
   {
    "duration": 3,
    "start_time": "2023-09-02T11:17:25.460Z"
   },
   {
    "duration": 340,
    "start_time": "2023-09-02T11:18:11.938Z"
   },
   {
    "duration": 326,
    "start_time": "2023-09-02T11:18:22.227Z"
   },
   {
    "duration": 320,
    "start_time": "2023-09-02T11:18:43.035Z"
   },
   {
    "duration": 606,
    "start_time": "2023-09-02T11:18:48.951Z"
   },
   {
    "duration": 1253,
    "start_time": "2023-09-02T11:18:54.128Z"
   },
   {
    "duration": 1648,
    "start_time": "2023-09-02T11:20:14.335Z"
   },
   {
    "duration": 2,
    "start_time": "2023-09-02T11:20:15.986Z"
   },
   {
    "duration": 372,
    "start_time": "2023-09-02T11:20:15.990Z"
   },
   {
    "duration": 25,
    "start_time": "2023-09-02T11:20:16.364Z"
   },
   {
    "duration": 44,
    "start_time": "2023-09-02T11:20:16.391Z"
   },
   {
    "duration": 157,
    "start_time": "2023-09-02T11:20:16.437Z"
   },
   {
    "duration": 37,
    "start_time": "2023-09-02T11:20:16.596Z"
   },
   {
    "duration": 14,
    "start_time": "2023-09-02T11:20:16.635Z"
   },
   {
    "duration": 462,
    "start_time": "2023-09-02T11:20:16.650Z"
   },
   {
    "duration": 25,
    "start_time": "2023-09-02T11:20:17.124Z"
   },
   {
    "duration": 31,
    "start_time": "2023-09-02T11:20:17.151Z"
   },
   {
    "duration": 33,
    "start_time": "2023-09-02T11:20:17.184Z"
   },
   {
    "duration": 6,
    "start_time": "2023-09-02T11:20:17.225Z"
   },
   {
    "duration": 10,
    "start_time": "2023-09-02T11:20:17.234Z"
   },
   {
    "duration": 18,
    "start_time": "2023-09-02T11:20:17.246Z"
   },
   {
    "duration": 6,
    "start_time": "2023-09-02T11:20:17.266Z"
   },
   {
    "duration": 87,
    "start_time": "2023-09-02T11:20:17.274Z"
   },
   {
    "duration": 20,
    "start_time": "2023-09-02T11:20:17.363Z"
   },
   {
    "duration": 52,
    "start_time": "2023-09-02T11:20:17.385Z"
   },
   {
    "duration": 15,
    "start_time": "2023-09-02T11:20:17.439Z"
   },
   {
    "duration": 55,
    "start_time": "2023-09-02T11:20:17.455Z"
   },
   {
    "duration": 15,
    "start_time": "2023-09-02T11:20:17.515Z"
   },
   {
    "duration": 30,
    "start_time": "2023-09-02T11:20:17.532Z"
   },
   {
    "duration": 379,
    "start_time": "2023-09-02T11:20:17.564Z"
   },
   {
    "duration": 200,
    "start_time": "2023-09-02T11:20:17.946Z"
   },
   {
    "duration": 93,
    "start_time": "2023-09-02T11:20:18.148Z"
   },
   {
    "duration": 1676,
    "start_time": "2023-09-02T11:20:18.243Z"
   },
   {
    "duration": 804,
    "start_time": "2023-09-02T11:20:19.925Z"
   },
   {
    "duration": 613,
    "start_time": "2023-09-02T11:20:20.733Z"
   },
   {
    "duration": 132,
    "start_time": "2023-09-02T11:20:21.348Z"
   },
   {
    "duration": 144,
    "start_time": "2023-09-02T11:20:21.482Z"
   },
   {
    "duration": 131,
    "start_time": "2023-09-02T11:20:21.627Z"
   },
   {
    "duration": 135,
    "start_time": "2023-09-02T11:20:21.760Z"
   },
   {
    "duration": 42,
    "start_time": "2023-09-02T11:20:21.897Z"
   },
   {
    "duration": 256,
    "start_time": "2023-09-02T11:20:21.941Z"
   },
   {
    "duration": 136,
    "start_time": "2023-09-02T11:20:22.201Z"
   },
   {
    "duration": 132,
    "start_time": "2023-09-02T11:20:22.339Z"
   },
   {
    "duration": 154,
    "start_time": "2023-09-02T11:20:22.473Z"
   },
   {
    "duration": 30,
    "start_time": "2023-09-02T11:20:22.630Z"
   },
   {
    "duration": 162,
    "start_time": "2023-09-02T11:20:22.662Z"
   },
   {
    "duration": 118,
    "start_time": "2023-09-02T11:20:22.826Z"
   },
   {
    "duration": 144,
    "start_time": "2023-09-02T11:20:22.946Z"
   },
   {
    "duration": 151,
    "start_time": "2023-09-02T11:20:23.092Z"
   },
   {
    "duration": 30,
    "start_time": "2023-09-02T11:20:23.245Z"
   },
   {
    "duration": 417,
    "start_time": "2023-09-02T11:20:23.277Z"
   },
   {
    "duration": 576,
    "start_time": "2023-09-02T11:20:23.697Z"
   },
   {
    "duration": 31,
    "start_time": "2023-09-02T11:20:24.275Z"
   },
   {
    "duration": 272,
    "start_time": "2023-09-02T11:20:24.308Z"
   },
   {
    "duration": 286,
    "start_time": "2023-09-02T11:20:24.583Z"
   },
   {
    "duration": 283,
    "start_time": "2023-09-02T11:20:24.871Z"
   },
   {
    "duration": 262,
    "start_time": "2023-09-02T11:20:25.156Z"
   },
   {
    "duration": 5,
    "start_time": "2023-09-02T11:20:25.420Z"
   },
   {
    "duration": 36,
    "start_time": "2023-09-02T11:20:25.430Z"
   },
   {
    "duration": 42,
    "start_time": "2023-09-02T11:20:25.468Z"
   },
   {
    "duration": 14,
    "start_time": "2023-09-02T11:20:25.516Z"
   },
   {
    "duration": 22,
    "start_time": "2023-09-02T11:20:25.532Z"
   },
   {
    "duration": 24,
    "start_time": "2023-09-02T11:20:25.556Z"
   },
   {
    "duration": 42,
    "start_time": "2023-09-02T11:20:25.582Z"
   },
   {
    "duration": 22,
    "start_time": "2023-09-02T11:20:25.626Z"
   },
   {
    "duration": 15,
    "start_time": "2023-09-02T11:20:25.652Z"
   },
   {
    "duration": 20,
    "start_time": "2023-09-02T11:20:25.669Z"
   },
   {
    "duration": 4126,
    "start_time": "2023-09-02T11:20:25.691Z"
   },
   {
    "duration": 40331,
    "start_time": "2023-09-02T11:20:29.829Z"
   },
   {
    "duration": 4,
    "start_time": "2023-09-02T11:21:10.162Z"
   },
   {
    "duration": 370,
    "start_time": "2023-09-02T11:21:10.168Z"
   },
   {
    "duration": 19721,
    "start_time": "2023-09-02T11:21:10.540Z"
   },
   {
    "duration": 8,
    "start_time": "2023-09-02T11:21:30.262Z"
   },
   {
    "duration": 52,
    "start_time": "2023-09-02T11:21:30.271Z"
   },
   {
    "duration": 17,
    "start_time": "2023-09-02T11:21:30.325Z"
   },
   {
    "duration": 486,
    "start_time": "2023-09-02T11:21:30.345Z"
   },
   {
    "duration": 132,
    "start_time": "2023-09-02T11:26:20.248Z"
   },
   {
    "duration": 17,
    "start_time": "2023-09-02T11:26:50.892Z"
   },
   {
    "duration": 4,
    "start_time": "2023-09-02T11:27:04.161Z"
   },
   {
    "duration": 13,
    "start_time": "2023-09-02T11:27:15.621Z"
   },
   {
    "duration": 3,
    "start_time": "2023-09-02T11:28:13.445Z"
   },
   {
    "duration": 3189,
    "start_time": "2023-09-02T11:28:58.097Z"
   },
   {
    "duration": 225142,
    "start_time": "2023-09-02T11:29:08.150Z"
   },
   {
    "duration": 3,
    "start_time": "2023-09-02T11:32:55.442Z"
   },
   {
    "duration": 1645,
    "start_time": "2023-09-02T11:33:03.482Z"
   },
   {
    "duration": 3,
    "start_time": "2023-09-02T11:33:05.129Z"
   },
   {
    "duration": 381,
    "start_time": "2023-09-02T11:33:05.134Z"
   },
   {
    "duration": 32,
    "start_time": "2023-09-02T11:33:05.520Z"
   },
   {
    "duration": 44,
    "start_time": "2023-09-02T11:33:05.553Z"
   },
   {
    "duration": 95,
    "start_time": "2023-09-02T11:33:05.599Z"
   },
   {
    "duration": 30,
    "start_time": "2023-09-02T11:33:05.696Z"
   },
   {
    "duration": 30,
    "start_time": "2023-09-02T11:33:05.728Z"
   },
   {
    "duration": 463,
    "start_time": "2023-09-02T11:33:05.760Z"
   },
   {
    "duration": 25,
    "start_time": "2023-09-02T11:33:06.226Z"
   },
   {
    "duration": 32,
    "start_time": "2023-09-02T11:33:06.253Z"
   },
   {
    "duration": 54,
    "start_time": "2023-09-02T11:33:06.287Z"
   },
   {
    "duration": 35,
    "start_time": "2023-09-02T11:33:06.343Z"
   },
   {
    "duration": 36,
    "start_time": "2023-09-02T11:33:06.380Z"
   },
   {
    "duration": 35,
    "start_time": "2023-09-02T11:33:06.421Z"
   },
   {
    "duration": 71,
    "start_time": "2023-09-02T11:33:06.458Z"
   },
   {
    "duration": 148,
    "start_time": "2023-09-02T11:33:06.531Z"
   },
   {
    "duration": 17,
    "start_time": "2023-09-02T11:33:06.681Z"
   },
   {
    "duration": 60,
    "start_time": "2023-09-02T11:33:06.700Z"
   },
   {
    "duration": 59,
    "start_time": "2023-09-02T11:33:06.762Z"
   },
   {
    "duration": 23,
    "start_time": "2023-09-02T11:33:06.822Z"
   },
   {
    "duration": 41,
    "start_time": "2023-09-02T11:33:06.847Z"
   },
   {
    "duration": 40,
    "start_time": "2023-09-02T11:33:06.890Z"
   },
   {
    "duration": 194,
    "start_time": "2023-09-02T11:33:06.931Z"
   },
   {
    "duration": 70,
    "start_time": "2023-09-02T11:33:07.127Z"
   },
   {
    "duration": 38,
    "start_time": "2023-09-02T11:33:07.199Z"
   },
   {
    "duration": 742,
    "start_time": "2023-09-02T11:33:07.239Z"
   },
   {
    "duration": 607,
    "start_time": "2023-09-02T11:33:07.986Z"
   },
   {
    "duration": 661,
    "start_time": "2023-09-02T11:33:08.595Z"
   },
   {
    "duration": 151,
    "start_time": "2023-09-02T11:33:09.258Z"
   },
   {
    "duration": 134,
    "start_time": "2023-09-02T11:33:09.417Z"
   },
   {
    "duration": 127,
    "start_time": "2023-09-02T11:33:09.553Z"
   },
   {
    "duration": 141,
    "start_time": "2023-09-02T11:33:09.682Z"
   },
   {
    "duration": 41,
    "start_time": "2023-09-02T11:33:09.825Z"
   },
   {
    "duration": 262,
    "start_time": "2023-09-02T11:33:09.868Z"
   },
   {
    "duration": 114,
    "start_time": "2023-09-02T11:33:10.132Z"
   },
   {
    "duration": 133,
    "start_time": "2023-09-02T11:33:10.248Z"
   },
   {
    "duration": 144,
    "start_time": "2023-09-02T11:33:10.383Z"
   },
   {
    "duration": 33,
    "start_time": "2023-09-02T11:33:10.530Z"
   },
   {
    "duration": 152,
    "start_time": "2023-09-02T11:33:10.565Z"
   },
   {
    "duration": 116,
    "start_time": "2023-09-02T11:33:10.720Z"
   },
   {
    "duration": 142,
    "start_time": "2023-09-02T11:33:10.838Z"
   },
   {
    "duration": 150,
    "start_time": "2023-09-02T11:33:10.982Z"
   },
   {
    "duration": 30,
    "start_time": "2023-09-02T11:33:11.134Z"
   },
   {
    "duration": 400,
    "start_time": "2023-09-02T11:33:11.165Z"
   },
   {
    "duration": 595,
    "start_time": "2023-09-02T11:33:11.567Z"
   },
   {
    "duration": 11,
    "start_time": "2023-09-02T11:33:12.165Z"
   },
   {
    "duration": 273,
    "start_time": "2023-09-02T11:33:12.178Z"
   },
   {
    "duration": 259,
    "start_time": "2023-09-02T11:33:12.453Z"
   },
   {
    "duration": 244,
    "start_time": "2023-09-02T11:33:12.714Z"
   },
   {
    "duration": 237,
    "start_time": "2023-09-02T11:33:12.960Z"
   },
   {
    "duration": 7,
    "start_time": "2023-09-02T11:33:13.201Z"
   },
   {
    "duration": 14,
    "start_time": "2023-09-02T11:33:13.218Z"
   },
   {
    "duration": 28,
    "start_time": "2023-09-02T11:33:13.234Z"
   },
   {
    "duration": 20,
    "start_time": "2023-09-02T11:33:13.264Z"
   },
   {
    "duration": 30,
    "start_time": "2023-09-02T11:33:13.286Z"
   },
   {
    "duration": 17,
    "start_time": "2023-09-02T11:33:13.326Z"
   },
   {
    "duration": 13,
    "start_time": "2023-09-02T11:33:13.345Z"
   },
   {
    "duration": 13,
    "start_time": "2023-09-02T11:33:13.360Z"
   },
   {
    "duration": 15,
    "start_time": "2023-09-02T11:33:13.375Z"
   },
   {
    "duration": 28,
    "start_time": "2023-09-02T11:33:13.391Z"
   },
   {
    "duration": 3802,
    "start_time": "2023-09-02T11:33:13.421Z"
   },
   {
    "duration": 39211,
    "start_time": "2023-09-02T11:33:17.300Z"
   },
   {
    "duration": 5,
    "start_time": "2023-09-02T11:33:56.517Z"
   },
   {
    "duration": 223270,
    "start_time": "2023-09-02T11:33:56.524Z"
   },
   {
    "duration": 24,
    "start_time": "2023-09-02T11:37:39.796Z"
   },
   {
    "duration": 7,
    "start_time": "2023-09-02T11:37:39.830Z"
   },
   {
    "duration": 27,
    "start_time": "2023-09-02T11:37:39.838Z"
   },
   {
    "duration": 11,
    "start_time": "2023-09-02T11:37:39.867Z"
   },
   {
    "duration": 607,
    "start_time": "2023-09-02T11:37:39.880Z"
   },
   {
    "duration": 0,
    "start_time": "2023-09-02T11:37:40.490Z"
   },
   {
    "duration": 0,
    "start_time": "2023-09-02T11:37:40.491Z"
   },
   {
    "duration": 219,
    "start_time": "2023-09-02T11:38:26.196Z"
   },
   {
    "duration": 3,
    "start_time": "2023-09-02T11:38:55.951Z"
   },
   {
    "duration": 223381,
    "start_time": "2023-09-02T11:39:48.767Z"
   },
   {
    "duration": 4,
    "start_time": "2023-09-02T11:43:32.150Z"
   },
   {
    "duration": 243,
    "start_time": "2023-09-02T11:43:32.155Z"
   },
   {
    "duration": 212,
    "start_time": "2023-09-02T11:44:30.569Z"
   },
   {
    "duration": 210,
    "start_time": "2023-09-02T11:45:47.468Z"
   },
   {
    "duration": 1644,
    "start_time": "2023-09-02T11:46:35.303Z"
   },
   {
    "duration": 2,
    "start_time": "2023-09-02T11:46:36.949Z"
   },
   {
    "duration": 380,
    "start_time": "2023-09-02T11:46:36.953Z"
   },
   {
    "duration": 36,
    "start_time": "2023-09-02T11:46:37.336Z"
   },
   {
    "duration": 28,
    "start_time": "2023-09-02T11:46:37.374Z"
   },
   {
    "duration": 106,
    "start_time": "2023-09-02T11:46:37.408Z"
   },
   {
    "duration": 29,
    "start_time": "2023-09-02T11:46:37.516Z"
   },
   {
    "duration": 43,
    "start_time": "2023-09-02T11:46:37.547Z"
   },
   {
    "duration": 738,
    "start_time": "2023-09-02T11:46:37.593Z"
   },
   {
    "duration": 99,
    "start_time": "2023-09-02T11:46:38.334Z"
   },
   {
    "duration": 75,
    "start_time": "2023-09-02T11:46:38.436Z"
   },
   {
    "duration": 10,
    "start_time": "2023-09-02T11:46:38.517Z"
   },
   {
    "duration": 14,
    "start_time": "2023-09-02T11:46:38.529Z"
   },
   {
    "duration": 8,
    "start_time": "2023-09-02T11:46:38.546Z"
   },
   {
    "duration": 60,
    "start_time": "2023-09-02T11:46:38.556Z"
   },
   {
    "duration": 60,
    "start_time": "2023-09-02T11:46:38.618Z"
   },
   {
    "duration": 142,
    "start_time": "2023-09-02T11:46:38.705Z"
   },
   {
    "duration": 69,
    "start_time": "2023-09-02T11:46:38.849Z"
   },
   {
    "duration": 87,
    "start_time": "2023-09-02T11:46:38.920Z"
   },
   {
    "duration": 18,
    "start_time": "2023-09-02T11:46:39.014Z"
   },
   {
    "duration": 73,
    "start_time": "2023-09-02T11:46:39.034Z"
   },
   {
    "duration": 12,
    "start_time": "2023-09-02T11:46:39.112Z"
   },
   {
    "duration": 19,
    "start_time": "2023-09-02T11:46:39.127Z"
   },
   {
    "duration": 385,
    "start_time": "2023-09-02T11:46:39.148Z"
   },
   {
    "duration": 199,
    "start_time": "2023-09-02T11:46:39.537Z"
   },
   {
    "duration": 91,
    "start_time": "2023-09-02T11:46:39.738Z"
   },
   {
    "duration": 993,
    "start_time": "2023-09-02T11:46:39.835Z"
   },
   {
    "duration": 641,
    "start_time": "2023-09-02T11:46:40.834Z"
   },
   {
    "duration": 663,
    "start_time": "2023-09-02T11:46:41.477Z"
   },
   {
    "duration": 141,
    "start_time": "2023-09-02T11:46:42.142Z"
   },
   {
    "duration": 144,
    "start_time": "2023-09-02T11:46:42.285Z"
   },
   {
    "duration": 119,
    "start_time": "2023-09-02T11:46:42.431Z"
   },
   {
    "duration": 138,
    "start_time": "2023-09-02T11:46:42.552Z"
   },
   {
    "duration": 58,
    "start_time": "2023-09-02T11:46:42.691Z"
   },
   {
    "duration": 281,
    "start_time": "2023-09-02T11:46:42.751Z"
   },
   {
    "duration": 119,
    "start_time": "2023-09-02T11:46:43.034Z"
   },
   {
    "duration": 131,
    "start_time": "2023-09-02T11:46:43.155Z"
   },
   {
    "duration": 145,
    "start_time": "2023-09-02T11:46:43.287Z"
   },
   {
    "duration": 31,
    "start_time": "2023-09-02T11:46:43.434Z"
   },
   {
    "duration": 151,
    "start_time": "2023-09-02T11:46:43.467Z"
   },
   {
    "duration": 118,
    "start_time": "2023-09-02T11:46:43.627Z"
   },
   {
    "duration": 131,
    "start_time": "2023-09-02T11:46:43.747Z"
   },
   {
    "duration": 152,
    "start_time": "2023-09-02T11:46:43.880Z"
   },
   {
    "duration": 31,
    "start_time": "2023-09-02T11:46:44.033Z"
   },
   {
    "duration": 425,
    "start_time": "2023-09-02T11:46:44.065Z"
   },
   {
    "duration": 628,
    "start_time": "2023-09-02T11:46:44.492Z"
   },
   {
    "duration": 13,
    "start_time": "2023-09-02T11:46:45.129Z"
   },
   {
    "duration": 300,
    "start_time": "2023-09-02T11:46:45.144Z"
   },
   {
    "duration": 243,
    "start_time": "2023-09-02T11:46:45.446Z"
   },
   {
    "duration": 422,
    "start_time": "2023-09-02T11:46:45.691Z"
   },
   {
    "duration": 252,
    "start_time": "2023-09-02T11:46:46.115Z"
   },
   {
    "duration": 3,
    "start_time": "2023-09-02T11:46:46.369Z"
   },
   {
    "duration": 84,
    "start_time": "2023-09-02T11:46:46.374Z"
   },
   {
    "duration": 30,
    "start_time": "2023-09-02T11:46:46.459Z"
   },
   {
    "duration": 43,
    "start_time": "2023-09-02T11:46:46.491Z"
   },
   {
    "duration": 33,
    "start_time": "2023-09-02T11:46:46.536Z"
   },
   {
    "duration": 27,
    "start_time": "2023-09-02T11:46:46.571Z"
   },
   {
    "duration": 22,
    "start_time": "2023-09-02T11:46:46.599Z"
   },
   {
    "duration": 18,
    "start_time": "2023-09-02T11:46:46.623Z"
   },
   {
    "duration": 16,
    "start_time": "2023-09-02T11:46:46.643Z"
   },
   {
    "duration": 23,
    "start_time": "2023-09-02T11:46:46.661Z"
   },
   {
    "duration": 2435,
    "start_time": "2023-09-02T11:46:46.685Z"
   },
   {
    "duration": 39122,
    "start_time": "2023-09-02T11:46:49.132Z"
   },
   {
    "duration": 4,
    "start_time": "2023-09-02T11:47:28.256Z"
   },
   {
    "duration": 225827,
    "start_time": "2023-09-02T11:47:28.261Z"
   },
   {
    "duration": 22,
    "start_time": "2023-09-02T11:51:14.090Z"
   },
   {
    "duration": 15,
    "start_time": "2023-09-02T11:51:14.115Z"
   },
   {
    "duration": 11,
    "start_time": "2023-09-02T11:51:14.133Z"
   },
   {
    "duration": 12,
    "start_time": "2023-09-02T11:51:14.147Z"
   },
   {
    "duration": 249,
    "start_time": "2023-09-02T11:51:14.161Z"
   },
   {
    "duration": 13,
    "start_time": "2023-09-02T11:51:14.420Z"
   },
   {
    "duration": 11,
    "start_time": "2023-09-02T11:51:14.434Z"
   },
   {
    "duration": 7,
    "start_time": "2023-09-02T11:52:16.678Z"
   },
   {
    "duration": 11,
    "start_time": "2023-09-02T11:52:18.225Z"
   },
   {
    "duration": 11,
    "start_time": "2023-09-02T11:52:19.229Z"
   },
   {
    "duration": 1449,
    "start_time": "2023-09-02T11:52:53.878Z"
   },
   {
    "duration": 10,
    "start_time": "2023-09-02T11:53:05.626Z"
   },
   {
    "duration": 4,
    "start_time": "2023-09-02T11:53:06.121Z"
   },
   {
    "duration": 1741,
    "start_time": "2023-09-03T11:28:29.213Z"
   },
   {
    "duration": 7,
    "start_time": "2023-09-03T11:28:30.957Z"
   },
   {
    "duration": 1382,
    "start_time": "2023-09-03T11:28:30.966Z"
   },
   {
    "duration": 37,
    "start_time": "2023-09-03T11:28:32.355Z"
   },
   {
    "duration": 20,
    "start_time": "2023-09-03T11:28:32.394Z"
   },
   {
    "duration": 244,
    "start_time": "2023-09-03T11:28:32.416Z"
   },
   {
    "duration": 36,
    "start_time": "2023-09-03T11:28:32.662Z"
   },
   {
    "duration": 12,
    "start_time": "2023-09-03T11:28:32.700Z"
   },
   {
    "duration": 1435,
    "start_time": "2023-09-03T11:28:32.714Z"
   },
   {
    "duration": 37,
    "start_time": "2023-09-03T11:28:34.156Z"
   },
   {
    "duration": 26,
    "start_time": "2023-09-03T11:28:34.196Z"
   },
   {
    "duration": 9,
    "start_time": "2023-09-03T11:28:34.224Z"
   },
   {
    "duration": 4,
    "start_time": "2023-09-03T11:28:35.278Z"
   },
   {
    "duration": 4,
    "start_time": "2023-09-03T11:28:38.414Z"
   },
   {
    "duration": 12,
    "start_time": "2023-09-03T11:28:39.020Z"
   },
   {
    "duration": 2,
    "start_time": "2023-09-03T11:28:40.287Z"
   },
   {
    "duration": 54,
    "start_time": "2023-09-03T11:28:42.279Z"
   },
   {
    "duration": 15,
    "start_time": "2023-09-03T11:28:43.930Z"
   },
   {
    "duration": 20,
    "start_time": "2023-09-03T11:28:44.389Z"
   },
   {
    "duration": 16,
    "start_time": "2023-09-03T11:28:44.965Z"
   },
   {
    "duration": 15,
    "start_time": "2023-09-03T11:28:45.520Z"
   },
   {
    "duration": 9,
    "start_time": "2023-09-03T11:28:45.985Z"
   },
   {
    "duration": 18,
    "start_time": "2023-09-03T11:28:47.368Z"
   },
   {
    "duration": 137,
    "start_time": "2023-09-03T11:28:48.673Z"
   },
   {
    "duration": 75,
    "start_time": "2023-09-03T11:28:48.931Z"
   },
   {
    "duration": 24,
    "start_time": "2023-09-03T11:28:49.277Z"
   },
   {
    "duration": 585,
    "start_time": "2023-09-03T11:28:53.125Z"
   },
   {
    "duration": 522,
    "start_time": "2023-09-03T11:28:55.478Z"
   },
   {
    "duration": 571,
    "start_time": "2023-09-03T11:28:57.200Z"
   },
   {
    "duration": 142,
    "start_time": "2023-09-03T11:29:03.210Z"
   },
   {
    "duration": 120,
    "start_time": "2023-09-03T11:30:55.384Z"
   },
   {
    "duration": 117,
    "start_time": "2023-09-03T11:31:34.124Z"
   },
   {
    "duration": 110,
    "start_time": "2023-09-03T11:32:09.324Z"
   },
   {
    "duration": 209,
    "start_time": "2023-09-03T11:32:13.973Z"
   },
   {
    "duration": 117,
    "start_time": "2023-09-03T11:37:08.875Z"
   },
   {
    "duration": 135,
    "start_time": "2023-09-03T11:37:21.442Z"
   },
   {
    "duration": 134,
    "start_time": "2023-09-03T11:37:25.678Z"
   },
   {
    "duration": 116,
    "start_time": "2023-09-03T11:37:48.902Z"
   },
   {
    "duration": 136,
    "start_time": "2023-09-03T11:37:54.373Z"
   },
   {
    "duration": 114,
    "start_time": "2023-09-03T11:38:13.436Z"
   },
   {
    "duration": 144,
    "start_time": "2023-09-03T11:38:25.937Z"
   },
   {
    "duration": 119,
    "start_time": "2023-09-03T11:39:03.550Z"
   },
   {
    "duration": 109,
    "start_time": "2023-09-03T11:39:07.692Z"
   },
   {
    "duration": 45,
    "start_time": "2023-09-03T11:39:30.846Z"
   },
   {
    "duration": 113,
    "start_time": "2023-09-03T11:39:31.819Z"
   },
   {
    "duration": 113,
    "start_time": "2023-09-03T11:39:59.463Z"
   },
   {
    "duration": 134,
    "start_time": "2023-09-03T11:40:22.928Z"
   },
   {
    "duration": 129,
    "start_time": "2023-09-03T11:40:49.816Z"
   },
   {
    "duration": 188,
    "start_time": "2023-09-03T11:40:59.508Z"
   },
   {
    "duration": 25,
    "start_time": "2023-09-03T11:41:58.489Z"
   },
   {
    "duration": 116,
    "start_time": "2023-09-03T11:41:59.424Z"
   },
   {
    "duration": 124,
    "start_time": "2023-09-03T11:42:08.376Z"
   },
   {
    "duration": 124,
    "start_time": "2023-09-03T11:42:26.445Z"
   },
   {
    "duration": 121,
    "start_time": "2023-09-03T11:42:49.287Z"
   },
   {
    "duration": 110,
    "start_time": "2023-09-03T11:43:08.825Z"
   },
   {
    "duration": 32,
    "start_time": "2023-09-03T11:43:27.955Z"
   },
   {
    "duration": 368,
    "start_time": "2023-09-03T11:46:39.823Z"
   },
   {
    "duration": 359,
    "start_time": "2023-09-03T11:46:59.303Z"
   },
   {
    "duration": 422,
    "start_time": "2023-09-03T11:47:04.984Z"
   },
   {
    "duration": 362,
    "start_time": "2023-09-03T11:47:37.397Z"
   },
   {
    "duration": 345,
    "start_time": "2023-09-03T11:47:41.168Z"
   },
   {
    "duration": 370,
    "start_time": "2023-09-03T11:49:06.803Z"
   },
   {
    "duration": 393,
    "start_time": "2023-09-03T11:49:17.915Z"
   },
   {
    "duration": 375,
    "start_time": "2023-09-03T11:49:47.363Z"
   },
   {
    "duration": 560,
    "start_time": "2023-09-03T11:49:56.316Z"
   },
   {
    "duration": 191,
    "start_time": "2023-09-03T11:53:32.760Z"
   },
   {
    "duration": 192,
    "start_time": "2023-09-03T11:53:34.342Z"
   },
   {
    "duration": 213,
    "start_time": "2023-09-03T11:55:00.706Z"
   },
   {
    "duration": 201,
    "start_time": "2023-09-03T11:55:22.405Z"
   },
   {
    "duration": 213,
    "start_time": "2023-09-03T11:55:33.577Z"
   },
   {
    "duration": 197,
    "start_time": "2023-09-03T11:55:48.440Z"
   },
   {
    "duration": 3,
    "start_time": "2023-09-03T12:00:20.379Z"
   },
   {
    "duration": 3,
    "start_time": "2023-09-03T12:00:20.740Z"
   },
   {
    "duration": 4,
    "start_time": "2023-09-03T12:00:21.156Z"
   },
   {
    "duration": 7,
    "start_time": "2023-09-03T12:00:23.096Z"
   },
   {
    "duration": 4,
    "start_time": "2023-09-03T12:00:23.776Z"
   },
   {
    "duration": 12,
    "start_time": "2023-09-03T12:00:24.249Z"
   },
   {
    "duration": 8,
    "start_time": "2023-09-03T12:00:25.572Z"
   },
   {
    "duration": 2,
    "start_time": "2023-09-03T12:00:26.778Z"
   },
   {
    "duration": 8,
    "start_time": "2023-09-03T12:00:27.304Z"
   },
   {
    "duration": 13,
    "start_time": "2023-09-03T12:00:28.195Z"
   },
   {
    "duration": 123,
    "start_time": "2023-09-03T12:00:38.591Z"
   },
   {
    "duration": 6,
    "start_time": "2023-09-03T12:00:44.513Z"
   },
   {
    "duration": 15,
    "start_time": "2023-09-03T12:00:46.673Z"
   },
   {
    "duration": 5,
    "start_time": "2023-09-03T12:00:51.340Z"
   },
   {
    "duration": 7,
    "start_time": "2023-09-03T12:01:53.925Z"
   },
   {
    "duration": 28,
    "start_time": "2023-09-03T12:01:54.450Z"
   },
   {
    "duration": 4,
    "start_time": "2023-09-03T12:02:04.927Z"
   },
   {
    "duration": 4,
    "start_time": "2023-09-03T12:02:12.707Z"
   },
   {
    "duration": 3,
    "start_time": "2023-09-03T12:02:43.543Z"
   },
   {
    "duration": 6,
    "start_time": "2023-09-03T12:04:45.848Z"
   },
   {
    "duration": 1372,
    "start_time": "2023-09-03T12:12:36.593Z"
   },
   {
    "duration": 3,
    "start_time": "2023-09-03T12:12:37.969Z"
   },
   {
    "duration": 321,
    "start_time": "2023-09-03T12:12:37.974Z"
   },
   {
    "duration": 22,
    "start_time": "2023-09-03T12:12:38.296Z"
   },
   {
    "duration": 16,
    "start_time": "2023-09-03T12:12:38.320Z"
   },
   {
    "duration": 75,
    "start_time": "2023-09-03T12:12:38.357Z"
   },
   {
    "duration": 20,
    "start_time": "2023-09-03T12:12:38.434Z"
   },
   {
    "duration": 32,
    "start_time": "2023-09-03T12:12:38.456Z"
   },
   {
    "duration": 374,
    "start_time": "2023-09-03T12:12:38.490Z"
   },
   {
    "duration": 19,
    "start_time": "2023-09-03T12:12:38.866Z"
   },
   {
    "duration": 15,
    "start_time": "2023-09-03T12:12:38.886Z"
   },
   {
    "duration": 6,
    "start_time": "2023-09-03T12:12:38.903Z"
   },
   {
    "duration": 8,
    "start_time": "2023-09-03T12:12:38.910Z"
   },
   {
    "duration": 6,
    "start_time": "2023-09-03T12:12:38.920Z"
   },
   {
    "duration": 32,
    "start_time": "2023-09-03T12:12:38.928Z"
   },
   {
    "duration": 4,
    "start_time": "2023-09-03T12:12:38.962Z"
   },
   {
    "duration": 54,
    "start_time": "2023-09-03T12:12:38.968Z"
   },
   {
    "duration": 35,
    "start_time": "2023-09-03T12:12:39.024Z"
   },
   {
    "duration": 22,
    "start_time": "2023-09-03T12:12:39.062Z"
   },
   {
    "duration": 13,
    "start_time": "2023-09-03T12:12:39.086Z"
   },
   {
    "duration": 16,
    "start_time": "2023-09-03T12:12:39.100Z"
   },
   {
    "duration": 9,
    "start_time": "2023-09-03T12:12:39.117Z"
   },
   {
    "duration": 34,
    "start_time": "2023-09-03T12:12:39.128Z"
   },
   {
    "duration": 173,
    "start_time": "2023-09-03T12:12:39.164Z"
   },
   {
    "duration": 74,
    "start_time": "2023-09-03T12:12:39.338Z"
   },
   {
    "duration": 20,
    "start_time": "2023-09-03T12:12:39.414Z"
   },
   {
    "duration": 1031,
    "start_time": "2023-09-03T12:12:39.435Z"
   },
   {
    "duration": 1173,
    "start_time": "2023-09-03T12:12:40.477Z"
   },
   {
    "duration": 565,
    "start_time": "2023-09-03T12:12:41.652Z"
   },
   {
    "duration": 149,
    "start_time": "2023-09-03T12:12:42.219Z"
   },
   {
    "duration": 129,
    "start_time": "2023-09-03T12:12:42.370Z"
   },
   {
    "duration": 127,
    "start_time": "2023-09-03T12:12:42.501Z"
   },
   {
    "duration": 118,
    "start_time": "2023-09-03T12:12:42.629Z"
   },
   {
    "duration": 40,
    "start_time": "2023-09-03T12:12:42.749Z"
   },
   {
    "duration": 228,
    "start_time": "2023-09-03T12:12:42.790Z"
   },
   {
    "duration": 105,
    "start_time": "2023-09-03T12:12:43.020Z"
   },
   {
    "duration": 133,
    "start_time": "2023-09-03T12:12:43.126Z"
   },
   {
    "duration": 116,
    "start_time": "2023-09-03T12:12:43.262Z"
   },
   {
    "duration": 25,
    "start_time": "2023-09-03T12:12:43.380Z"
   },
   {
    "duration": 124,
    "start_time": "2023-09-03T12:12:43.407Z"
   },
   {
    "duration": 111,
    "start_time": "2023-09-03T12:12:43.536Z"
   },
   {
    "duration": 121,
    "start_time": "2023-09-03T12:12:43.649Z"
   },
   {
    "duration": 130,
    "start_time": "2023-09-03T12:12:43.772Z"
   },
   {
    "duration": 25,
    "start_time": "2023-09-03T12:12:43.903Z"
   },
   {
    "duration": 315,
    "start_time": "2023-09-03T12:12:43.929Z"
   },
   {
    "duration": 200,
    "start_time": "2023-09-03T12:12:44.245Z"
   },
   {
    "duration": 290,
    "start_time": "2023-09-03T12:12:44.446Z"
   },
   {
    "duration": 195,
    "start_time": "2023-09-03T12:12:44.738Z"
   },
   {
    "duration": 190,
    "start_time": "2023-09-03T12:12:44.935Z"
   },
   {
    "duration": 3,
    "start_time": "2023-09-03T12:12:45.126Z"
   },
   {
    "duration": 13,
    "start_time": "2023-09-03T12:12:45.131Z"
   },
   {
    "duration": 15,
    "start_time": "2023-09-03T12:12:45.146Z"
   },
   {
    "duration": 12,
    "start_time": "2023-09-03T12:12:45.163Z"
   },
   {
    "duration": 16,
    "start_time": "2023-09-03T12:12:45.176Z"
   },
   {
    "duration": 10,
    "start_time": "2023-09-03T12:12:45.193Z"
   },
   {
    "duration": 7,
    "start_time": "2023-09-03T12:12:45.204Z"
   },
   {
    "duration": 14,
    "start_time": "2023-09-03T12:12:45.212Z"
   },
   {
    "duration": 18,
    "start_time": "2023-09-03T12:12:45.227Z"
   },
   {
    "duration": 23,
    "start_time": "2023-09-03T12:12:45.246Z"
   },
   {
    "duration": 2592,
    "start_time": "2023-09-03T12:12:45.271Z"
   },
   {
    "duration": 33992,
    "start_time": "2023-09-03T12:12:47.871Z"
   },
   {
    "duration": 4,
    "start_time": "2023-09-03T12:13:21.868Z"
   },
   {
    "duration": 186336,
    "start_time": "2023-09-03T12:13:21.873Z"
   },
   {
    "duration": 3,
    "start_time": "2023-09-03T12:16:28.210Z"
   },
   {
    "duration": 10,
    "start_time": "2023-09-03T12:16:28.215Z"
   },
   {
    "duration": 13,
    "start_time": "2023-09-03T12:16:28.227Z"
   },
   {
    "duration": 18,
    "start_time": "2023-09-03T12:16:28.241Z"
   },
   {
    "duration": 1124,
    "start_time": "2023-09-03T12:16:28.260Z"
   },
   {
    "duration": 8,
    "start_time": "2023-09-03T12:16:29.386Z"
   },
   {
    "duration": 3,
    "start_time": "2023-09-03T12:16:29.395Z"
   }
  ],
  "kernelspec": {
   "display_name": "Python 3 (ipykernel)",
   "language": "python",
   "name": "python3"
  },
  "language_info": {
   "codemirror_mode": {
    "name": "ipython",
    "version": 3
   },
   "file_extension": ".py",
   "mimetype": "text/x-python",
   "name": "python",
   "nbconvert_exporter": "python",
   "pygments_lexer": "ipython3",
   "version": "3.9.17"
  },
  "toc": {
   "base_numbering": 1,
   "nav_menu": {},
   "number_sections": true,
   "sideBar": true,
   "skip_h1_title": true,
   "title_cell": "Содержание",
   "title_sidebar": "Contents",
   "toc_cell": true,
   "toc_position": {
    "height": "calc(100% - 180px)",
    "left": "10px",
    "top": "150px",
    "width": "165px"
   },
   "toc_section_display": true,
   "toc_window_display": true
  }
 },
 "nbformat": 4,
 "nbformat_minor": 2
}
