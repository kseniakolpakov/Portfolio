{
 "cells": [
  {
   "cell_type": "markdown",
   "metadata": {},
   "source": [
    "# Определение стоимости автомобилей"
   ]
  },
  {
   "cell_type": "markdown",
   "metadata": {},
   "source": [
    "Сервис по продаже автомобилей с пробегом «Не бит, не крашен» разрабатывает приложение для привлечения новых клиентов. В нём можно быстро узнать рыночную стоимость своего автомобиля. В вашем распоряжении исторические данные: технические характеристики, комплектации и цены автомобилей. Вам нужно построить модель для определения стоимости. \n",
    "\n",
    "Заказчику важны:\n",
    "\n",
    "- качество предсказания;\n",
    "- скорость предсказания;\n",
    "- время обучения."
   ]
  },
  {
   "cell_type": "markdown",
   "metadata": {},
   "source": [
    "## Подготовка данных"
   ]
  },
  {
   "cell_type": "code",
   "execution_count": 1,
   "metadata": {},
   "outputs": [],
   "source": [
    "import pandas as pd\n",
    "import numpy as np\n",
    "import matplotlib.pyplot as plt\n",
    "from sklearn.model_selection import train_test_split, GridSearchCV, cross_val_score\n",
    "from sklearn.preprocessing import OneHotEncoder, StandardScaler\n",
    "from sklearn.metrics import mean_squared_error\n",
    "from lightgbm import LGBMRegressor\n",
    "import lightgbm as lgb\n",
    "from sklearn.linear_model import LinearRegression, Lasso\n"
   ]
  },
  {
   "cell_type": "code",
   "execution_count": 2,
   "metadata": {
    "scrolled": true
   },
   "outputs": [
    {
     "data": {
      "text/plain": [
       "'1.3.1'"
      ]
     },
     "execution_count": 2,
     "metadata": {},
     "output_type": "execute_result"
    }
   ],
   "source": [
    "import sklearn\n",
    "sklearn.__version__"
   ]
  },
  {
   "cell_type": "code",
   "execution_count": 3,
   "metadata": {},
   "outputs": [
    {
     "name": "stdout",
     "output_type": "stream",
     "text": [
      "Requirement already satisfied: scikit-learn in /opt/conda/lib/python3.9/site-packages (1.3.1)\n",
      "Requirement already satisfied: joblib>=1.1.1 in /opt/conda/lib/python3.9/site-packages (from scikit-learn) (1.3.2)\n",
      "Requirement already satisfied: scipy>=1.5.0 in /opt/conda/lib/python3.9/site-packages (from scikit-learn) (1.9.1)\n",
      "Requirement already satisfied: threadpoolctl>=2.0.0 in /opt/conda/lib/python3.9/site-packages (from scikit-learn) (3.1.0)\n",
      "Requirement already satisfied: numpy<2.0,>=1.17.3 in /opt/conda/lib/python3.9/site-packages (from scikit-learn) (1.21.1)\n"
     ]
    }
   ],
   "source": [
    "!pip install scikit-learn --upgrade"
   ]
  },
  {
   "cell_type": "code",
   "execution_count": 4,
   "metadata": {},
   "outputs": [],
   "source": [
    "import warnings\n",
    "warnings.filterwarnings('ignore')"
   ]
  },
  {
   "cell_type": "code",
   "execution_count": 5,
   "metadata": {},
   "outputs": [],
   "source": [
    "data = pd.read_csv('/datasets/autos.csv')"
   ]
  },
  {
   "cell_type": "code",
   "execution_count": 6,
   "metadata": {},
   "outputs": [
    {
     "data": {
      "text/html": [
       "<div>\n",
       "<style scoped>\n",
       "    .dataframe tbody tr th:only-of-type {\n",
       "        vertical-align: middle;\n",
       "    }\n",
       "\n",
       "    .dataframe tbody tr th {\n",
       "        vertical-align: top;\n",
       "    }\n",
       "\n",
       "    .dataframe thead th {\n",
       "        text-align: right;\n",
       "    }\n",
       "</style>\n",
       "<table border=\"1\" class=\"dataframe\">\n",
       "  <thead>\n",
       "    <tr style=\"text-align: right;\">\n",
       "      <th></th>\n",
       "      <th>DateCrawled</th>\n",
       "      <th>Price</th>\n",
       "      <th>VehicleType</th>\n",
       "      <th>RegistrationYear</th>\n",
       "      <th>Gearbox</th>\n",
       "      <th>Power</th>\n",
       "      <th>Model</th>\n",
       "      <th>Kilometer</th>\n",
       "      <th>RegistrationMonth</th>\n",
       "      <th>FuelType</th>\n",
       "      <th>Brand</th>\n",
       "      <th>Repaired</th>\n",
       "      <th>DateCreated</th>\n",
       "      <th>NumberOfPictures</th>\n",
       "      <th>PostalCode</th>\n",
       "      <th>LastSeen</th>\n",
       "    </tr>\n",
       "  </thead>\n",
       "  <tbody>\n",
       "    <tr>\n",
       "      <th>0</th>\n",
       "      <td>2016-03-24 11:52:17</td>\n",
       "      <td>480</td>\n",
       "      <td>NaN</td>\n",
       "      <td>1993</td>\n",
       "      <td>manual</td>\n",
       "      <td>0</td>\n",
       "      <td>golf</td>\n",
       "      <td>150000</td>\n",
       "      <td>0</td>\n",
       "      <td>petrol</td>\n",
       "      <td>volkswagen</td>\n",
       "      <td>NaN</td>\n",
       "      <td>2016-03-24 00:00:00</td>\n",
       "      <td>0</td>\n",
       "      <td>70435</td>\n",
       "      <td>2016-04-07 03:16:57</td>\n",
       "    </tr>\n",
       "    <tr>\n",
       "      <th>1</th>\n",
       "      <td>2016-03-24 10:58:45</td>\n",
       "      <td>18300</td>\n",
       "      <td>coupe</td>\n",
       "      <td>2011</td>\n",
       "      <td>manual</td>\n",
       "      <td>190</td>\n",
       "      <td>NaN</td>\n",
       "      <td>125000</td>\n",
       "      <td>5</td>\n",
       "      <td>gasoline</td>\n",
       "      <td>audi</td>\n",
       "      <td>yes</td>\n",
       "      <td>2016-03-24 00:00:00</td>\n",
       "      <td>0</td>\n",
       "      <td>66954</td>\n",
       "      <td>2016-04-07 01:46:50</td>\n",
       "    </tr>\n",
       "    <tr>\n",
       "      <th>2</th>\n",
       "      <td>2016-03-14 12:52:21</td>\n",
       "      <td>9800</td>\n",
       "      <td>suv</td>\n",
       "      <td>2004</td>\n",
       "      <td>auto</td>\n",
       "      <td>163</td>\n",
       "      <td>grand</td>\n",
       "      <td>125000</td>\n",
       "      <td>8</td>\n",
       "      <td>gasoline</td>\n",
       "      <td>jeep</td>\n",
       "      <td>NaN</td>\n",
       "      <td>2016-03-14 00:00:00</td>\n",
       "      <td>0</td>\n",
       "      <td>90480</td>\n",
       "      <td>2016-04-05 12:47:46</td>\n",
       "    </tr>\n",
       "    <tr>\n",
       "      <th>3</th>\n",
       "      <td>2016-03-17 16:54:04</td>\n",
       "      <td>1500</td>\n",
       "      <td>small</td>\n",
       "      <td>2001</td>\n",
       "      <td>manual</td>\n",
       "      <td>75</td>\n",
       "      <td>golf</td>\n",
       "      <td>150000</td>\n",
       "      <td>6</td>\n",
       "      <td>petrol</td>\n",
       "      <td>volkswagen</td>\n",
       "      <td>no</td>\n",
       "      <td>2016-03-17 00:00:00</td>\n",
       "      <td>0</td>\n",
       "      <td>91074</td>\n",
       "      <td>2016-03-17 17:40:17</td>\n",
       "    </tr>\n",
       "    <tr>\n",
       "      <th>4</th>\n",
       "      <td>2016-03-31 17:25:20</td>\n",
       "      <td>3600</td>\n",
       "      <td>small</td>\n",
       "      <td>2008</td>\n",
       "      <td>manual</td>\n",
       "      <td>69</td>\n",
       "      <td>fabia</td>\n",
       "      <td>90000</td>\n",
       "      <td>7</td>\n",
       "      <td>gasoline</td>\n",
       "      <td>skoda</td>\n",
       "      <td>no</td>\n",
       "      <td>2016-03-31 00:00:00</td>\n",
       "      <td>0</td>\n",
       "      <td>60437</td>\n",
       "      <td>2016-04-06 10:17:21</td>\n",
       "    </tr>\n",
       "  </tbody>\n",
       "</table>\n",
       "</div>"
      ],
      "text/plain": [
       "           DateCrawled  Price VehicleType  RegistrationYear Gearbox  Power  \\\n",
       "0  2016-03-24 11:52:17    480         NaN              1993  manual      0   \n",
       "1  2016-03-24 10:58:45  18300       coupe              2011  manual    190   \n",
       "2  2016-03-14 12:52:21   9800         suv              2004    auto    163   \n",
       "3  2016-03-17 16:54:04   1500       small              2001  manual     75   \n",
       "4  2016-03-31 17:25:20   3600       small              2008  manual     69   \n",
       "\n",
       "   Model  Kilometer  RegistrationMonth  FuelType       Brand Repaired  \\\n",
       "0   golf     150000                  0    petrol  volkswagen      NaN   \n",
       "1    NaN     125000                  5  gasoline        audi      yes   \n",
       "2  grand     125000                  8  gasoline        jeep      NaN   \n",
       "3   golf     150000                  6    petrol  volkswagen       no   \n",
       "4  fabia      90000                  7  gasoline       skoda       no   \n",
       "\n",
       "           DateCreated  NumberOfPictures  PostalCode             LastSeen  \n",
       "0  2016-03-24 00:00:00                 0       70435  2016-04-07 03:16:57  \n",
       "1  2016-03-24 00:00:00                 0       66954  2016-04-07 01:46:50  \n",
       "2  2016-03-14 00:00:00                 0       90480  2016-04-05 12:47:46  \n",
       "3  2016-03-17 00:00:00                 0       91074  2016-03-17 17:40:17  \n",
       "4  2016-03-31 00:00:00                 0       60437  2016-04-06 10:17:21  "
      ]
     },
     "execution_count": 6,
     "metadata": {},
     "output_type": "execute_result"
    }
   ],
   "source": [
    "data.head()"
   ]
  },
  {
   "cell_type": "code",
   "execution_count": 7,
   "metadata": {},
   "outputs": [
    {
     "name": "stdout",
     "output_type": "stream",
     "text": [
      "<class 'pandas.core.frame.DataFrame'>\n",
      "RangeIndex: 354369 entries, 0 to 354368\n",
      "Data columns (total 16 columns):\n",
      " #   Column             Non-Null Count   Dtype \n",
      "---  ------             --------------   ----- \n",
      " 0   DateCrawled        354369 non-null  object\n",
      " 1   Price              354369 non-null  int64 \n",
      " 2   VehicleType        316879 non-null  object\n",
      " 3   RegistrationYear   354369 non-null  int64 \n",
      " 4   Gearbox            334536 non-null  object\n",
      " 5   Power              354369 non-null  int64 \n",
      " 6   Model              334664 non-null  object\n",
      " 7   Kilometer          354369 non-null  int64 \n",
      " 8   RegistrationMonth  354369 non-null  int64 \n",
      " 9   FuelType           321474 non-null  object\n",
      " 10  Brand              354369 non-null  object\n",
      " 11  Repaired           283215 non-null  object\n",
      " 12  DateCreated        354369 non-null  object\n",
      " 13  NumberOfPictures   354369 non-null  int64 \n",
      " 14  PostalCode         354369 non-null  int64 \n",
      " 15  LastSeen           354369 non-null  object\n",
      "dtypes: int64(7), object(9)\n",
      "memory usage: 43.3+ MB\n"
     ]
    }
   ],
   "source": [
    "data.info()"
   ]
  },
  {
   "cell_type": "markdown",
   "metadata": {},
   "source": [
    "<h3> Работа с пропусками </h3>"
   ]
  },
  {
   "cell_type": "markdown",
   "metadata": {},
   "source": [
    "Посмотрим на количество пропусков в датафрейме. "
   ]
  },
  {
   "cell_type": "code",
   "execution_count": 8,
   "metadata": {},
   "outputs": [
    {
     "data": {
      "text/plain": [
       "Repaired             71154\n",
       "VehicleType          37490\n",
       "FuelType             32895\n",
       "Gearbox              19833\n",
       "Model                19705\n",
       "DateCrawled              0\n",
       "Price                    0\n",
       "RegistrationYear         0\n",
       "Power                    0\n",
       "Kilometer                0\n",
       "RegistrationMonth        0\n",
       "Brand                    0\n",
       "DateCreated              0\n",
       "NumberOfPictures         0\n",
       "PostalCode               0\n",
       "LastSeen                 0\n",
       "dtype: int64"
      ]
     },
     "execution_count": 8,
     "metadata": {},
     "output_type": "execute_result"
    }
   ],
   "source": [
    "data.isna().sum().sort_values(ascending=False)"
   ]
  },
  {
   "cell_type": "markdown",
   "metadata": {},
   "source": [
    "Пропуски присутсвуют в столбцах VehicleType, Gearbox, Model, FuelType, Repaired - в данных столбцах хранятся категориальные признаки. Посмотрим на долю пропусков в этих столбцах"
   ]
  },
  {
   "cell_type": "code",
   "execution_count": 9,
   "metadata": {},
   "outputs": [
    {
     "data": {
      "text/html": [
       "<style  type=\"text/css\" >\n",
       "#T_679b7_row0_col0{\n",
       "            background-color:  #b40426;\n",
       "            color:  #f1f1f1;\n",
       "        }#T_679b7_row1_col0{\n",
       "            background-color:  #aec9fc;\n",
       "            color:  #000000;\n",
       "        }#T_679b7_row2_col0{\n",
       "            background-color:  #8fb1fe;\n",
       "            color:  #000000;\n",
       "        }#T_679b7_row3_col0,#T_679b7_row4_col0{\n",
       "            background-color:  #3b4cc0;\n",
       "            color:  #f1f1f1;\n",
       "        }</style><table id=\"T_679b7_\" ><thead>    <tr>        <th class=\"blank level0\" ></th>        <th class=\"col_heading level0 col0\" >0</th>    </tr></thead><tbody>\n",
       "                <tr>\n",
       "                        <th id=\"T_679b7_level0_row0\" class=\"row_heading level0 row0\" >Repaired</th>\n",
       "                        <td id=\"T_679b7_row0_col0\" class=\"data row0 col0\" >20.100000</td>\n",
       "            </tr>\n",
       "            <tr>\n",
       "                        <th id=\"T_679b7_level0_row1\" class=\"row_heading level0 row1\" >VehicleType</th>\n",
       "                        <td id=\"T_679b7_row1_col0\" class=\"data row1 col0\" >10.600000</td>\n",
       "            </tr>\n",
       "            <tr>\n",
       "                        <th id=\"T_679b7_level0_row2\" class=\"row_heading level0 row2\" >FuelType</th>\n",
       "                        <td id=\"T_679b7_row2_col0\" class=\"data row2 col0\" >9.300000</td>\n",
       "            </tr>\n",
       "            <tr>\n",
       "                        <th id=\"T_679b7_level0_row3\" class=\"row_heading level0 row3\" >Gearbox</th>\n",
       "                        <td id=\"T_679b7_row3_col0\" class=\"data row3 col0\" >5.600000</td>\n",
       "            </tr>\n",
       "            <tr>\n",
       "                        <th id=\"T_679b7_level0_row4\" class=\"row_heading level0 row4\" >Model</th>\n",
       "                        <td id=\"T_679b7_row4_col0\" class=\"data row4 col0\" >5.600000</td>\n",
       "            </tr>\n",
       "    </tbody></table>"
      ],
      "text/plain": [
       "<pandas.io.formats.style.Styler at 0x7fa18e0868b0>"
      ]
     },
     "execution_count": 9,
     "metadata": {},
     "output_type": "execute_result"
    }
   ],
   "source": [
    "pd.DataFrame(round(data.isna().mean().sort_values(ascending=False)*100,1)).head(5).style.background_gradient('coolwarm')"
   ]
  },
  {
   "cell_type": "markdown",
   "metadata": {},
   "source": [
    "Доля пропусков в столбцах Gearbox и Model, равна 5.6, она является незначительной, поэтому просто удалим пропущенные значения в этих столбцах"
   ]
  },
  {
   "cell_type": "code",
   "execution_count": 10,
   "metadata": {},
   "outputs": [],
   "source": [
    "data = data.dropna(subset=['Gearbox', 'Model'])"
   ]
  },
  {
   "cell_type": "markdown",
   "metadata": {},
   "source": [
    "Признаки VehicleType и FuelType одинаковы для одних и тех же моделей. Заполним пропуски в данных столбцах значением, встречающимся чаще других"
   ]
  },
  {
   "cell_type": "code",
   "execution_count": 11,
   "metadata": {},
   "outputs": [],
   "source": [
    "data['VehicleType'] = data['VehicleType'].fillna(data.groupby('Model')['VehicleType'].transform(lambda x: x.value_counts().idxmax()))"
   ]
  },
  {
   "cell_type": "code",
   "execution_count": 12,
   "metadata": {},
   "outputs": [],
   "source": [
    "data['FuelType'] = data['FuelType'].fillna(data.groupby('Model')['FuelType'].transform(lambda x: x.value_counts().idxmax()))"
   ]
  },
  {
   "cell_type": "markdown",
   "metadata": {},
   "source": [
    "Для признака Repaired пропущенные значения заполним символом '-', так как неизвестно, была машина в ремонте или нет. "
   ]
  },
  {
   "cell_type": "code",
   "execution_count": 13,
   "metadata": {},
   "outputs": [],
   "source": [
    "data['Repaired'] = data['Repaired'].fillna('-')"
   ]
  },
  {
   "cell_type": "code",
   "execution_count": 14,
   "metadata": {
    "scrolled": true
   },
   "outputs": [
    {
     "data": {
      "text/plain": [
       "DateCrawled          0\n",
       "Price                0\n",
       "VehicleType          0\n",
       "RegistrationYear     0\n",
       "Gearbox              0\n",
       "Power                0\n",
       "Model                0\n",
       "Kilometer            0\n",
       "RegistrationMonth    0\n",
       "FuelType             0\n",
       "Brand                0\n",
       "Repaired             0\n",
       "DateCreated          0\n",
       "NumberOfPictures     0\n",
       "PostalCode           0\n",
       "LastSeen             0\n",
       "dtype: int64"
      ]
     },
     "execution_count": 14,
     "metadata": {},
     "output_type": "execute_result"
    }
   ],
   "source": [
    "#Проверим количество пропусков в датафрейме\n",
    "data.isna().sum().sort_values(ascending=False)"
   ]
  },
  {
   "cell_type": "code",
   "execution_count": 15,
   "metadata": {},
   "outputs": [
    {
     "data": {
      "text/html": [
       "<div>\n",
       "<style scoped>\n",
       "    .dataframe tbody tr th:only-of-type {\n",
       "        vertical-align: middle;\n",
       "    }\n",
       "\n",
       "    .dataframe tbody tr th {\n",
       "        vertical-align: top;\n",
       "    }\n",
       "\n",
       "    .dataframe thead th {\n",
       "        text-align: right;\n",
       "    }\n",
       "</style>\n",
       "<table border=\"1\" class=\"dataframe\">\n",
       "  <thead>\n",
       "    <tr style=\"text-align: right;\">\n",
       "      <th></th>\n",
       "      <th>DateCrawled</th>\n",
       "      <th>Price</th>\n",
       "      <th>VehicleType</th>\n",
       "      <th>RegistrationYear</th>\n",
       "      <th>Gearbox</th>\n",
       "      <th>Power</th>\n",
       "      <th>Model</th>\n",
       "      <th>Kilometer</th>\n",
       "      <th>RegistrationMonth</th>\n",
       "      <th>FuelType</th>\n",
       "      <th>Brand</th>\n",
       "      <th>Repaired</th>\n",
       "      <th>DateCreated</th>\n",
       "      <th>NumberOfPictures</th>\n",
       "      <th>PostalCode</th>\n",
       "      <th>LastSeen</th>\n",
       "    </tr>\n",
       "  </thead>\n",
       "  <tbody>\n",
       "    <tr>\n",
       "      <th>0</th>\n",
       "      <td>2016-03-24 11:52:17</td>\n",
       "      <td>480</td>\n",
       "      <td>sedan</td>\n",
       "      <td>1993</td>\n",
       "      <td>manual</td>\n",
       "      <td>0</td>\n",
       "      <td>golf</td>\n",
       "      <td>150000</td>\n",
       "      <td>0</td>\n",
       "      <td>petrol</td>\n",
       "      <td>volkswagen</td>\n",
       "      <td>-</td>\n",
       "      <td>2016-03-24 00:00:00</td>\n",
       "      <td>0</td>\n",
       "      <td>70435</td>\n",
       "      <td>2016-04-07 03:16:57</td>\n",
       "    </tr>\n",
       "    <tr>\n",
       "      <th>2</th>\n",
       "      <td>2016-03-14 12:52:21</td>\n",
       "      <td>9800</td>\n",
       "      <td>suv</td>\n",
       "      <td>2004</td>\n",
       "      <td>auto</td>\n",
       "      <td>163</td>\n",
       "      <td>grand</td>\n",
       "      <td>125000</td>\n",
       "      <td>8</td>\n",
       "      <td>gasoline</td>\n",
       "      <td>jeep</td>\n",
       "      <td>-</td>\n",
       "      <td>2016-03-14 00:00:00</td>\n",
       "      <td>0</td>\n",
       "      <td>90480</td>\n",
       "      <td>2016-04-05 12:47:46</td>\n",
       "    </tr>\n",
       "    <tr>\n",
       "      <th>3</th>\n",
       "      <td>2016-03-17 16:54:04</td>\n",
       "      <td>1500</td>\n",
       "      <td>small</td>\n",
       "      <td>2001</td>\n",
       "      <td>manual</td>\n",
       "      <td>75</td>\n",
       "      <td>golf</td>\n",
       "      <td>150000</td>\n",
       "      <td>6</td>\n",
       "      <td>petrol</td>\n",
       "      <td>volkswagen</td>\n",
       "      <td>no</td>\n",
       "      <td>2016-03-17 00:00:00</td>\n",
       "      <td>0</td>\n",
       "      <td>91074</td>\n",
       "      <td>2016-03-17 17:40:17</td>\n",
       "    </tr>\n",
       "    <tr>\n",
       "      <th>4</th>\n",
       "      <td>2016-03-31 17:25:20</td>\n",
       "      <td>3600</td>\n",
       "      <td>small</td>\n",
       "      <td>2008</td>\n",
       "      <td>manual</td>\n",
       "      <td>69</td>\n",
       "      <td>fabia</td>\n",
       "      <td>90000</td>\n",
       "      <td>7</td>\n",
       "      <td>gasoline</td>\n",
       "      <td>skoda</td>\n",
       "      <td>no</td>\n",
       "      <td>2016-03-31 00:00:00</td>\n",
       "      <td>0</td>\n",
       "      <td>60437</td>\n",
       "      <td>2016-04-06 10:17:21</td>\n",
       "    </tr>\n",
       "    <tr>\n",
       "      <th>5</th>\n",
       "      <td>2016-04-04 17:36:23</td>\n",
       "      <td>650</td>\n",
       "      <td>sedan</td>\n",
       "      <td>1995</td>\n",
       "      <td>manual</td>\n",
       "      <td>102</td>\n",
       "      <td>3er</td>\n",
       "      <td>150000</td>\n",
       "      <td>10</td>\n",
       "      <td>petrol</td>\n",
       "      <td>bmw</td>\n",
       "      <td>yes</td>\n",
       "      <td>2016-04-04 00:00:00</td>\n",
       "      <td>0</td>\n",
       "      <td>33775</td>\n",
       "      <td>2016-04-06 19:17:07</td>\n",
       "    </tr>\n",
       "  </tbody>\n",
       "</table>\n",
       "</div>"
      ],
      "text/plain": [
       "           DateCrawled  Price VehicleType  RegistrationYear Gearbox  Power  \\\n",
       "0  2016-03-24 11:52:17    480       sedan              1993  manual      0   \n",
       "2  2016-03-14 12:52:21   9800         suv              2004    auto    163   \n",
       "3  2016-03-17 16:54:04   1500       small              2001  manual     75   \n",
       "4  2016-03-31 17:25:20   3600       small              2008  manual     69   \n",
       "5  2016-04-04 17:36:23    650       sedan              1995  manual    102   \n",
       "\n",
       "   Model  Kilometer  RegistrationMonth  FuelType       Brand Repaired  \\\n",
       "0   golf     150000                  0    petrol  volkswagen        -   \n",
       "2  grand     125000                  8  gasoline        jeep        -   \n",
       "3   golf     150000                  6    petrol  volkswagen       no   \n",
       "4  fabia      90000                  7  gasoline       skoda       no   \n",
       "5    3er     150000                 10    petrol         bmw      yes   \n",
       "\n",
       "           DateCreated  NumberOfPictures  PostalCode             LastSeen  \n",
       "0  2016-03-24 00:00:00                 0       70435  2016-04-07 03:16:57  \n",
       "2  2016-03-14 00:00:00                 0       90480  2016-04-05 12:47:46  \n",
       "3  2016-03-17 00:00:00                 0       91074  2016-03-17 17:40:17  \n",
       "4  2016-03-31 00:00:00                 0       60437  2016-04-06 10:17:21  \n",
       "5  2016-04-04 00:00:00                 0       33775  2016-04-06 19:17:07  "
      ]
     },
     "execution_count": 15,
     "metadata": {},
     "output_type": "execute_result"
    }
   ],
   "source": [
    "data.head()"
   ]
  },
  {
   "cell_type": "markdown",
   "metadata": {},
   "source": [
    "<h3> Проверка на явные дубликаты </h3>"
   ]
  },
  {
   "cell_type": "code",
   "execution_count": 16,
   "metadata": {},
   "outputs": [
    {
     "data": {
      "text/plain": [
       "4"
      ]
     },
     "execution_count": 16,
     "metadata": {},
     "output_type": "execute_result"
    }
   ],
   "source": [
    "data.duplicated().sum()"
   ]
  },
  {
   "cell_type": "code",
   "execution_count": 17,
   "metadata": {},
   "outputs": [],
   "source": [
    "#Удалим явные дубликаты\n",
    "data = data.drop_duplicates()"
   ]
  },
  {
   "cell_type": "markdown",
   "metadata": {},
   "source": [
    "<h3> Обработка аномалий </h3>"
   ]
  },
  {
   "cell_type": "markdown",
   "metadata": {},
   "source": [
    "Посмотрим на гистограмму расперделения цены автомобиля"
   ]
  },
  {
   "cell_type": "code",
   "execution_count": 18,
   "metadata": {},
   "outputs": [
    {
     "data": {
      "image/png": "[encoded data removed]",
      "text/plain": [
       "<Figure size 432x360 with 1 Axes>"
      ]
     },
     "metadata": {
      "needs_background": "light"
     },
     "output_type": "display_data"
    }
   ],
   "source": [
    "data['Price'].hist(figsize=(6,5))\n",
    "plt.title('Расперделение цены')\n",
    "plt.xlabel('Цена автомобиля')\n",
    "plt.ylabel('Количество анкет')\n",
    "plt.show();"
   ]
  },
  {
   "cell_type": "code",
   "execution_count": 19,
   "metadata": {},
   "outputs": [
    {
     "data": {
      "text/plain": [
       "7156"
      ]
     },
     "execution_count": 19,
     "metadata": {},
     "output_type": "execute_result"
    }
   ],
   "source": [
    "# Посмотрим на число анкет, признак уены которых равен 0.\n",
    "len(data[data['Price'] == 0])"
   ]
  },
  {
   "cell_type": "code",
   "execution_count": 20,
   "metadata": {},
   "outputs": [],
   "source": [
    "# Это явные аномальные значения, отфильтруем датафрейм, отобрав анкеты, в которых цена автомобиля не равна 0. \n",
    "data = data[data['Price'] != 0]"
   ]
  },
  {
   "cell_type": "markdown",
   "metadata": {},
   "source": [
    "Посмотрим на уникальные годы регистрации автомобилей"
   ]
  },
  {
   "cell_type": "code",
   "execution_count": 21,
   "metadata": {},
   "outputs": [
    {
     "data": {
      "text/plain": [
       "array([1993, 2004, 2001, 2008, 1995, 2014, 1998, 2005, 2011, 2007, 2009,\n",
       "       2002, 2018, 1997, 1990, 2017, 1981, 2003, 2016, 1991, 1984, 2006,\n",
       "       1999, 2012, 2010, 2000, 1992, 2013, 1994, 1996, 1989, 2015, 1985,\n",
       "       1982, 1983, 1973, 1969, 1971, 1987, 1988, 1980, 1986, 1965, 1970,\n",
       "       1945, 1974, 1955, 1978, 1976, 1979, 1972, 1977, 1966, 1975, 1968,\n",
       "       1963, 1961, 1967, 1960, 1500, 1964, 1910, 2019, 1937, 1951, 1953,\n",
       "       1954, 1959, 1958, 1956, 2900, 5911, 1962, 1400, 1950, 4000, 1932,\n",
       "       1952, 3700, 5000, 1942, 6500, 1957, 1923, 1930, 1929, 1943, 1934,\n",
       "       1938, 1935, 1936, 1000, 6000, 1928, 1931, 4500, 1602, 1927, 7100,\n",
       "       1933, 8200, 1947, 1600])"
      ]
     },
     "execution_count": 21,
     "metadata": {},
     "output_type": "execute_result"
    }
   ],
   "source": [
    "data['RegistrationYear'].unique()"
   ]
  },
  {
   "cell_type": "code",
   "execution_count": 22,
   "metadata": {},
   "outputs": [],
   "source": [
    "#Удалим из набора данных значения года регистрации автомобиля больше 2023 и меньше 1955\n",
    "data = data[(data['RegistrationYear'] <=2023) & (data['RegistrationYear'] >= 1955)]"
   ]
  },
  {
   "cell_type": "markdown",
   "metadata": {},
   "source": [
    "Посмотрим на гистограмму распределения мощности автомобиля"
   ]
  },
  {
   "cell_type": "code",
   "execution_count": 23,
   "metadata": {},
   "outputs": [
    {
     "data": {
      "image/png": "[encoded data removed]",
      "text/plain": [
       "<Figure size 432x360 with 1 Axes>"
      ]
     },
     "metadata": {
      "needs_background": "light"
     },
     "output_type": "display_data"
    }
   ],
   "source": [
    "data['Power'].hist(figsize=(6,5), bins=150)\n",
    "plt.xlim((0, 2000))\n",
    "plt.title('Расперделение мощности')\n",
    "plt.xlabel('Мощность автомобиля')\n",
    "plt.ylabel('Количество анкет')\n",
    "plt.show();"
   ]
  },
  {
   "cell_type": "code",
   "execution_count": 24,
   "metadata": {},
   "outputs": [],
   "source": [
    "# Удалим записи, в которых мощность больше 1000, равна 0\n",
    "data = data[data['Power'] < 1000]\n",
    "data = data[data['Power'] != 0]"
   ]
  },
  {
   "cell_type": "markdown",
   "metadata": {},
   "source": [
    "<h3>Удаление неинформативных столбцов </h3>"
   ]
  },
  {
   "cell_type": "code",
   "execution_count": 25,
   "metadata": {},
   "outputs": [],
   "source": [
    "# Перечисленные ниже столбцы не несут важной информации по сравнению с другими признаками, удалим их из датафрейма\n",
    "cols_to_drop = ['DateCrawled', 'NumberOfPictures', 'LastSeen', 'PostalCode']"
   ]
  },
  {
   "cell_type": "code",
   "execution_count": 26,
   "metadata": {},
   "outputs": [],
   "source": [
    "data = data.drop(columns=cols_to_drop)"
   ]
  },
  {
   "cell_type": "code",
   "execution_count": 27,
   "metadata": {},
   "outputs": [],
   "source": [
    "# Обновим индексы\n",
    "data = data.reset_index(drop=True)"
   ]
  },
  {
   "cell_type": "code",
   "execution_count": 28,
   "metadata": {},
   "outputs": [
    {
     "data": {
      "text/html": [
       "<div>\n",
       "<style scoped>\n",
       "    .dataframe tbody tr th:only-of-type {\n",
       "        vertical-align: middle;\n",
       "    }\n",
       "\n",
       "    .dataframe tbody tr th {\n",
       "        vertical-align: top;\n",
       "    }\n",
       "\n",
       "    .dataframe thead th {\n",
       "        text-align: right;\n",
       "    }\n",
       "</style>\n",
       "<table border=\"1\" class=\"dataframe\">\n",
       "  <thead>\n",
       "    <tr style=\"text-align: right;\">\n",
       "      <th></th>\n",
       "      <th>Price</th>\n",
       "      <th>VehicleType</th>\n",
       "      <th>RegistrationYear</th>\n",
       "      <th>Gearbox</th>\n",
       "      <th>Power</th>\n",
       "      <th>Model</th>\n",
       "      <th>Kilometer</th>\n",
       "      <th>RegistrationMonth</th>\n",
       "      <th>FuelType</th>\n",
       "      <th>Brand</th>\n",
       "      <th>Repaired</th>\n",
       "      <th>DateCreated</th>\n",
       "    </tr>\n",
       "  </thead>\n",
       "  <tbody>\n",
       "    <tr>\n",
       "      <th>0</th>\n",
       "      <td>9800</td>\n",
       "      <td>suv</td>\n",
       "      <td>2004</td>\n",
       "      <td>auto</td>\n",
       "      <td>163</td>\n",
       "      <td>grand</td>\n",
       "      <td>125000</td>\n",
       "      <td>8</td>\n",
       "      <td>gasoline</td>\n",
       "      <td>jeep</td>\n",
       "      <td>-</td>\n",
       "      <td>2016-03-14 00:00:00</td>\n",
       "    </tr>\n",
       "    <tr>\n",
       "      <th>1</th>\n",
       "      <td>1500</td>\n",
       "      <td>small</td>\n",
       "      <td>2001</td>\n",
       "      <td>manual</td>\n",
       "      <td>75</td>\n",
       "      <td>golf</td>\n",
       "      <td>150000</td>\n",
       "      <td>6</td>\n",
       "      <td>petrol</td>\n",
       "      <td>volkswagen</td>\n",
       "      <td>no</td>\n",
       "      <td>2016-03-17 00:00:00</td>\n",
       "    </tr>\n",
       "    <tr>\n",
       "      <th>2</th>\n",
       "      <td>3600</td>\n",
       "      <td>small</td>\n",
       "      <td>2008</td>\n",
       "      <td>manual</td>\n",
       "      <td>69</td>\n",
       "      <td>fabia</td>\n",
       "      <td>90000</td>\n",
       "      <td>7</td>\n",
       "      <td>gasoline</td>\n",
       "      <td>skoda</td>\n",
       "      <td>no</td>\n",
       "      <td>2016-03-31 00:00:00</td>\n",
       "    </tr>\n",
       "    <tr>\n",
       "      <th>3</th>\n",
       "      <td>650</td>\n",
       "      <td>sedan</td>\n",
       "      <td>1995</td>\n",
       "      <td>manual</td>\n",
       "      <td>102</td>\n",
       "      <td>3er</td>\n",
       "      <td>150000</td>\n",
       "      <td>10</td>\n",
       "      <td>petrol</td>\n",
       "      <td>bmw</td>\n",
       "      <td>yes</td>\n",
       "      <td>2016-04-04 00:00:00</td>\n",
       "    </tr>\n",
       "    <tr>\n",
       "      <th>4</th>\n",
       "      <td>2200</td>\n",
       "      <td>convertible</td>\n",
       "      <td>2004</td>\n",
       "      <td>manual</td>\n",
       "      <td>109</td>\n",
       "      <td>2_reihe</td>\n",
       "      <td>150000</td>\n",
       "      <td>8</td>\n",
       "      <td>petrol</td>\n",
       "      <td>peugeot</td>\n",
       "      <td>no</td>\n",
       "      <td>2016-04-01 00:00:00</td>\n",
       "    </tr>\n",
       "  </tbody>\n",
       "</table>\n",
       "</div>"
      ],
      "text/plain": [
       "   Price  VehicleType  RegistrationYear Gearbox  Power    Model  Kilometer  \\\n",
       "0   9800          suv              2004    auto    163    grand     125000   \n",
       "1   1500        small              2001  manual     75     golf     150000   \n",
       "2   3600        small              2008  manual     69    fabia      90000   \n",
       "3    650        sedan              1995  manual    102      3er     150000   \n",
       "4   2200  convertible              2004  manual    109  2_reihe     150000   \n",
       "\n",
       "   RegistrationMonth  FuelType       Brand Repaired          DateCreated  \n",
       "0                  8  gasoline        jeep        -  2016-03-14 00:00:00  \n",
       "1                  6    petrol  volkswagen       no  2016-03-17 00:00:00  \n",
       "2                  7  gasoline       skoda       no  2016-03-31 00:00:00  \n",
       "3                 10    petrol         bmw      yes  2016-04-04 00:00:00  \n",
       "4                  8    petrol     peugeot       no  2016-04-01 00:00:00  "
      ]
     },
     "execution_count": 28,
     "metadata": {},
     "output_type": "execute_result"
    }
   ],
   "source": [
    "data.head()"
   ]
  },
  {
   "cell_type": "markdown",
   "metadata": {},
   "source": [
    "**Вывод:** на этапе обработки данных удалили явные дубликаты, пропущенные значения; заполнили пропуски там, где это возможно; обработали аномалии и удалили неинформативные столбцы. "
   ]
  },
  {
   "cell_type": "markdown",
   "metadata": {},
   "source": [
    "## Обучение моделей"
   ]
  },
  {
   "cell_type": "markdown",
   "metadata": {},
   "source": [
    "<h3> Подготовка признаков </h3>"
   ]
  },
  {
   "cell_type": "markdown",
   "metadata": {},
   "source": [
    "Определим целевой признак и признаки для дальнейшего построения модели "
   ]
  },
  {
   "cell_type": "code",
   "execution_count": 29,
   "metadata": {},
   "outputs": [],
   "source": [
    "features = data.drop(columns=['Price'])\n",
    "target = data['Price']"
   ]
  },
  {
   "cell_type": "markdown",
   "metadata": {},
   "source": [
    "Разобьем выборку на тренировочную, тестовую валидационную. "
   ]
  },
  {
   "cell_type": "code",
   "execution_count": 30,
   "metadata": {},
   "outputs": [],
   "source": [
    "state = np.random.RandomState(12345)"
   ]
  },
  {
   "cell_type": "code",
   "execution_count": 31,
   "metadata": {},
   "outputs": [],
   "source": [
    "features_train, features_test, target_train, target_test = train_test_split(features, target, test_size=0.25, random_state=state)\n",
    "features_train, features_valid, target_train, target_valid = train_test_split(features_train, target_train, test_size=0.3333, random_state=state)"
   ]
  },
  {
   "cell_type": "markdown",
   "metadata": {},
   "source": [
    "Техникой OHE преобразуем категориальные признаки в численные для тренировочной выборки"
   ]
  },
  {
   "cell_type": "code",
   "execution_count": 32,
   "metadata": {},
   "outputs": [
    {
     "name": "stdout",
     "output_type": "stream",
     "text": [
      "['VehicleType', 'Gearbox', 'Model', 'FuelType', 'Brand', 'Repaired', 'DateCreated']\n"
     ]
    }
   ],
   "source": [
    "features_train = features_train.reset_index(drop=True)\n",
    "target_train = target_train.reset_index(drop=True)\n",
    "ohe_features = data.select_dtypes(include='object').columns.to_list()\n",
    "print(ohe_features)\n",
    "\n",
    "enc = OneHotEncoder(drop='first', handle_unknown='ignore', sparse=False)\n",
    "enc.fit(features_train[ohe_features])\n",
    "enc.transform(features_train[ohe_features]).shape\n",
    "tmp_df = pd.DataFrame(enc.transform(features_train[ohe_features]), columns=enc.get_feature_names_out())\n",
    "features_train = pd.concat([features_train.drop(ohe_features, axis=1), tmp_df], axis=1)"
   ]
  },
  {
   "cell_type": "code",
   "execution_count": 33,
   "metadata": {},
   "outputs": [
    {
     "data": {
      "text/html": [
       "<div>\n",
       "<style scoped>\n",
       "    .dataframe tbody tr th:only-of-type {\n",
       "        vertical-align: middle;\n",
       "    }\n",
       "\n",
       "    .dataframe tbody tr th {\n",
       "        vertical-align: top;\n",
       "    }\n",
       "\n",
       "    .dataframe thead th {\n",
       "        text-align: right;\n",
       "    }\n",
       "</style>\n",
       "<table border=\"1\" class=\"dataframe\">\n",
       "  <thead>\n",
       "    <tr style=\"text-align: right;\">\n",
       "      <th></th>\n",
       "      <th>RegistrationYear</th>\n",
       "      <th>Power</th>\n",
       "      <th>Kilometer</th>\n",
       "      <th>RegistrationMonth</th>\n",
       "      <th>VehicleType_convertible</th>\n",
       "      <th>VehicleType_coupe</th>\n",
       "      <th>VehicleType_other</th>\n",
       "      <th>VehicleType_sedan</th>\n",
       "      <th>VehicleType_small</th>\n",
       "      <th>VehicleType_suv</th>\n",
       "      <th>...</th>\n",
       "      <th>DateCreated_2016-03-29 00:00:00</th>\n",
       "      <th>DateCreated_2016-03-30 00:00:00</th>\n",
       "      <th>DateCreated_2016-03-31 00:00:00</th>\n",
       "      <th>DateCreated_2016-04-01 00:00:00</th>\n",
       "      <th>DateCreated_2016-04-02 00:00:00</th>\n",
       "      <th>DateCreated_2016-04-03 00:00:00</th>\n",
       "      <th>DateCreated_2016-04-04 00:00:00</th>\n",
       "      <th>DateCreated_2016-04-05 00:00:00</th>\n",
       "      <th>DateCreated_2016-04-06 00:00:00</th>\n",
       "      <th>DateCreated_2016-04-07 00:00:00</th>\n",
       "    </tr>\n",
       "  </thead>\n",
       "  <tbody>\n",
       "    <tr>\n",
       "      <th>0</th>\n",
       "      <td>2013</td>\n",
       "      <td>95</td>\n",
       "      <td>30000</td>\n",
       "      <td>4</td>\n",
       "      <td>0.0</td>\n",
       "      <td>0.0</td>\n",
       "      <td>0.0</td>\n",
       "      <td>0.0</td>\n",
       "      <td>0.0</td>\n",
       "      <td>0.0</td>\n",
       "      <td>...</td>\n",
       "      <td>0.0</td>\n",
       "      <td>0.0</td>\n",
       "      <td>0.0</td>\n",
       "      <td>0.0</td>\n",
       "      <td>0.0</td>\n",
       "      <td>0.0</td>\n",
       "      <td>1.0</td>\n",
       "      <td>0.0</td>\n",
       "      <td>0.0</td>\n",
       "      <td>0.0</td>\n",
       "    </tr>\n",
       "    <tr>\n",
       "      <th>1</th>\n",
       "      <td>2003</td>\n",
       "      <td>136</td>\n",
       "      <td>150000</td>\n",
       "      <td>12</td>\n",
       "      <td>0.0</td>\n",
       "      <td>0.0</td>\n",
       "      <td>0.0</td>\n",
       "      <td>0.0</td>\n",
       "      <td>0.0</td>\n",
       "      <td>0.0</td>\n",
       "      <td>...</td>\n",
       "      <td>0.0</td>\n",
       "      <td>0.0</td>\n",
       "      <td>0.0</td>\n",
       "      <td>0.0</td>\n",
       "      <td>0.0</td>\n",
       "      <td>0.0</td>\n",
       "      <td>0.0</td>\n",
       "      <td>0.0</td>\n",
       "      <td>0.0</td>\n",
       "      <td>0.0</td>\n",
       "    </tr>\n",
       "    <tr>\n",
       "      <th>2</th>\n",
       "      <td>1996</td>\n",
       "      <td>140</td>\n",
       "      <td>150000</td>\n",
       "      <td>2</td>\n",
       "      <td>0.0</td>\n",
       "      <td>0.0</td>\n",
       "      <td>0.0</td>\n",
       "      <td>0.0</td>\n",
       "      <td>0.0</td>\n",
       "      <td>0.0</td>\n",
       "      <td>...</td>\n",
       "      <td>0.0</td>\n",
       "      <td>0.0</td>\n",
       "      <td>0.0</td>\n",
       "      <td>0.0</td>\n",
       "      <td>0.0</td>\n",
       "      <td>0.0</td>\n",
       "      <td>0.0</td>\n",
       "      <td>0.0</td>\n",
       "      <td>0.0</td>\n",
       "      <td>0.0</td>\n",
       "    </tr>\n",
       "    <tr>\n",
       "      <th>3</th>\n",
       "      <td>2010</td>\n",
       "      <td>143</td>\n",
       "      <td>70000</td>\n",
       "      <td>9</td>\n",
       "      <td>0.0</td>\n",
       "      <td>0.0</td>\n",
       "      <td>0.0</td>\n",
       "      <td>0.0</td>\n",
       "      <td>0.0</td>\n",
       "      <td>0.0</td>\n",
       "      <td>...</td>\n",
       "      <td>0.0</td>\n",
       "      <td>0.0</td>\n",
       "      <td>0.0</td>\n",
       "      <td>0.0</td>\n",
       "      <td>0.0</td>\n",
       "      <td>0.0</td>\n",
       "      <td>0.0</td>\n",
       "      <td>0.0</td>\n",
       "      <td>0.0</td>\n",
       "      <td>0.0</td>\n",
       "    </tr>\n",
       "    <tr>\n",
       "      <th>4</th>\n",
       "      <td>1998</td>\n",
       "      <td>280</td>\n",
       "      <td>150000</td>\n",
       "      <td>9</td>\n",
       "      <td>0.0</td>\n",
       "      <td>1.0</td>\n",
       "      <td>0.0</td>\n",
       "      <td>0.0</td>\n",
       "      <td>0.0</td>\n",
       "      <td>0.0</td>\n",
       "      <td>...</td>\n",
       "      <td>0.0</td>\n",
       "      <td>0.0</td>\n",
       "      <td>0.0</td>\n",
       "      <td>0.0</td>\n",
       "      <td>0.0</td>\n",
       "      <td>0.0</td>\n",
       "      <td>0.0</td>\n",
       "      <td>0.0</td>\n",
       "      <td>0.0</td>\n",
       "      <td>0.0</td>\n",
       "    </tr>\n",
       "  </tbody>\n",
       "</table>\n",
       "<p>5 rows × 399 columns</p>\n",
       "</div>"
      ],
      "text/plain": [
       "   RegistrationYear  Power  Kilometer  RegistrationMonth  \\\n",
       "0              2013     95      30000                  4   \n",
       "1              2003    136     150000                 12   \n",
       "2              1996    140     150000                  2   \n",
       "3              2010    143      70000                  9   \n",
       "4              1998    280     150000                  9   \n",
       "\n",
       "   VehicleType_convertible  VehicleType_coupe  VehicleType_other  \\\n",
       "0                      0.0                0.0                0.0   \n",
       "1                      0.0                0.0                0.0   \n",
       "2                      0.0                0.0                0.0   \n",
       "3                      0.0                0.0                0.0   \n",
       "4                      0.0                1.0                0.0   \n",
       "\n",
       "   VehicleType_sedan  VehicleType_small  VehicleType_suv  ...  \\\n",
       "0                0.0                0.0              0.0  ...   \n",
       "1                0.0                0.0              0.0  ...   \n",
       "2                0.0                0.0              0.0  ...   \n",
       "3                0.0                0.0              0.0  ...   \n",
       "4                0.0                0.0              0.0  ...   \n",
       "\n",
       "   DateCreated_2016-03-29 00:00:00  DateCreated_2016-03-30 00:00:00  \\\n",
       "0                              0.0                              0.0   \n",
       "1                              0.0                              0.0   \n",
       "2                              0.0                              0.0   \n",
       "3                              0.0                              0.0   \n",
       "4                              0.0                              0.0   \n",
       "\n",
       "   DateCreated_2016-03-31 00:00:00  DateCreated_2016-04-01 00:00:00  \\\n",
       "0                              0.0                              0.0   \n",
       "1                              0.0                              0.0   \n",
       "2                              0.0                              0.0   \n",
       "3                              0.0                              0.0   \n",
       "4                              0.0                              0.0   \n",
       "\n",
       "   DateCreated_2016-04-02 00:00:00  DateCreated_2016-04-03 00:00:00  \\\n",
       "0                              0.0                              0.0   \n",
       "1                              0.0                              0.0   \n",
       "2                              0.0                              0.0   \n",
       "3                              0.0                              0.0   \n",
       "4                              0.0                              0.0   \n",
       "\n",
       "   DateCreated_2016-04-04 00:00:00  DateCreated_2016-04-05 00:00:00  \\\n",
       "0                              1.0                              0.0   \n",
       "1                              0.0                              0.0   \n",
       "2                              0.0                              0.0   \n",
       "3                              0.0                              0.0   \n",
       "4                              0.0                              0.0   \n",
       "\n",
       "   DateCreated_2016-04-06 00:00:00  DateCreated_2016-04-07 00:00:00  \n",
       "0                              0.0                              0.0  \n",
       "1                              0.0                              0.0  \n",
       "2                              0.0                              0.0  \n",
       "3                              0.0                              0.0  \n",
       "4                              0.0                              0.0  \n",
       "\n",
       "[5 rows x 399 columns]"
      ]
     },
     "execution_count": 33,
     "metadata": {},
     "output_type": "execute_result"
    }
   ],
   "source": [
    "features_train.head()"
   ]
  },
  {
   "cell_type": "markdown",
   "metadata": {},
   "source": [
    "Аналогичным образом преобразуем категориальные признаки в численные для тестовой выборки"
   ]
  },
  {
   "cell_type": "code",
   "execution_count": 34,
   "metadata": {},
   "outputs": [],
   "source": [
    "features_test = features_test.reset_index(drop=True)\n",
    "target_test = target_test.reset_index(drop=True)\n",
    "enc.transform(features_test[ohe_features]).shape\n",
    "tmp_df = pd.DataFrame(enc.transform(features_test[ohe_features]), columns=enc.get_feature_names_out())\n",
    "features_test = pd.concat([features_test.drop(ohe_features, axis=1), tmp_df], axis=1)"
   ]
  },
  {
   "cell_type": "code",
   "execution_count": 35,
   "metadata": {},
   "outputs": [
    {
     "data": {
      "text/html": [
       "<div>\n",
       "<style scoped>\n",
       "    .dataframe tbody tr th:only-of-type {\n",
       "        vertical-align: middle;\n",
       "    }\n",
       "\n",
       "    .dataframe tbody tr th {\n",
       "        vertical-align: top;\n",
       "    }\n",
       "\n",
       "    .dataframe thead th {\n",
       "        text-align: right;\n",
       "    }\n",
       "</style>\n",
       "<table border=\"1\" class=\"dataframe\">\n",
       "  <thead>\n",
       "    <tr style=\"text-align: right;\">\n",
       "      <th></th>\n",
       "      <th>RegistrationYear</th>\n",
       "      <th>Power</th>\n",
       "      <th>Kilometer</th>\n",
       "      <th>RegistrationMonth</th>\n",
       "      <th>VehicleType_convertible</th>\n",
       "      <th>VehicleType_coupe</th>\n",
       "      <th>VehicleType_other</th>\n",
       "      <th>VehicleType_sedan</th>\n",
       "      <th>VehicleType_small</th>\n",
       "      <th>VehicleType_suv</th>\n",
       "      <th>...</th>\n",
       "      <th>DateCreated_2016-03-29 00:00:00</th>\n",
       "      <th>DateCreated_2016-03-30 00:00:00</th>\n",
       "      <th>DateCreated_2016-03-31 00:00:00</th>\n",
       "      <th>DateCreated_2016-04-01 00:00:00</th>\n",
       "      <th>DateCreated_2016-04-02 00:00:00</th>\n",
       "      <th>DateCreated_2016-04-03 00:00:00</th>\n",
       "      <th>DateCreated_2016-04-04 00:00:00</th>\n",
       "      <th>DateCreated_2016-04-05 00:00:00</th>\n",
       "      <th>DateCreated_2016-04-06 00:00:00</th>\n",
       "      <th>DateCreated_2016-04-07 00:00:00</th>\n",
       "    </tr>\n",
       "  </thead>\n",
       "  <tbody>\n",
       "    <tr>\n",
       "      <th>0</th>\n",
       "      <td>2008</td>\n",
       "      <td>125</td>\n",
       "      <td>80000</td>\n",
       "      <td>9</td>\n",
       "      <td>0.0</td>\n",
       "      <td>0.0</td>\n",
       "      <td>0.0</td>\n",
       "      <td>1.0</td>\n",
       "      <td>0.0</td>\n",
       "      <td>0.0</td>\n",
       "      <td>...</td>\n",
       "      <td>0.0</td>\n",
       "      <td>0.0</td>\n",
       "      <td>0.0</td>\n",
       "      <td>0.0</td>\n",
       "      <td>0.0</td>\n",
       "      <td>0.0</td>\n",
       "      <td>1.0</td>\n",
       "      <td>0.0</td>\n",
       "      <td>0.0</td>\n",
       "      <td>0.0</td>\n",
       "    </tr>\n",
       "    <tr>\n",
       "      <th>1</th>\n",
       "      <td>2017</td>\n",
       "      <td>150</td>\n",
       "      <td>150000</td>\n",
       "      <td>6</td>\n",
       "      <td>0.0</td>\n",
       "      <td>0.0</td>\n",
       "      <td>0.0</td>\n",
       "      <td>1.0</td>\n",
       "      <td>0.0</td>\n",
       "      <td>0.0</td>\n",
       "      <td>...</td>\n",
       "      <td>0.0</td>\n",
       "      <td>0.0</td>\n",
       "      <td>0.0</td>\n",
       "      <td>0.0</td>\n",
       "      <td>0.0</td>\n",
       "      <td>0.0</td>\n",
       "      <td>0.0</td>\n",
       "      <td>0.0</td>\n",
       "      <td>0.0</td>\n",
       "      <td>0.0</td>\n",
       "    </tr>\n",
       "    <tr>\n",
       "      <th>2</th>\n",
       "      <td>1997</td>\n",
       "      <td>60</td>\n",
       "      <td>150000</td>\n",
       "      <td>5</td>\n",
       "      <td>0.0</td>\n",
       "      <td>0.0</td>\n",
       "      <td>0.0</td>\n",
       "      <td>0.0</td>\n",
       "      <td>1.0</td>\n",
       "      <td>0.0</td>\n",
       "      <td>...</td>\n",
       "      <td>0.0</td>\n",
       "      <td>0.0</td>\n",
       "      <td>0.0</td>\n",
       "      <td>0.0</td>\n",
       "      <td>0.0</td>\n",
       "      <td>0.0</td>\n",
       "      <td>0.0</td>\n",
       "      <td>1.0</td>\n",
       "      <td>0.0</td>\n",
       "      <td>0.0</td>\n",
       "    </tr>\n",
       "    <tr>\n",
       "      <th>3</th>\n",
       "      <td>2005</td>\n",
       "      <td>108</td>\n",
       "      <td>150000</td>\n",
       "      <td>9</td>\n",
       "      <td>0.0</td>\n",
       "      <td>0.0</td>\n",
       "      <td>0.0</td>\n",
       "      <td>0.0</td>\n",
       "      <td>0.0</td>\n",
       "      <td>0.0</td>\n",
       "      <td>...</td>\n",
       "      <td>0.0</td>\n",
       "      <td>0.0</td>\n",
       "      <td>0.0</td>\n",
       "      <td>0.0</td>\n",
       "      <td>0.0</td>\n",
       "      <td>0.0</td>\n",
       "      <td>0.0</td>\n",
       "      <td>0.0</td>\n",
       "      <td>0.0</td>\n",
       "      <td>0.0</td>\n",
       "    </tr>\n",
       "    <tr>\n",
       "      <th>4</th>\n",
       "      <td>2006</td>\n",
       "      <td>150</td>\n",
       "      <td>150000</td>\n",
       "      <td>2</td>\n",
       "      <td>0.0</td>\n",
       "      <td>0.0</td>\n",
       "      <td>0.0</td>\n",
       "      <td>1.0</td>\n",
       "      <td>0.0</td>\n",
       "      <td>0.0</td>\n",
       "      <td>...</td>\n",
       "      <td>0.0</td>\n",
       "      <td>0.0</td>\n",
       "      <td>0.0</td>\n",
       "      <td>0.0</td>\n",
       "      <td>0.0</td>\n",
       "      <td>0.0</td>\n",
       "      <td>0.0</td>\n",
       "      <td>0.0</td>\n",
       "      <td>0.0</td>\n",
       "      <td>0.0</td>\n",
       "    </tr>\n",
       "  </tbody>\n",
       "</table>\n",
       "<p>5 rows × 399 columns</p>\n",
       "</div>"
      ],
      "text/plain": [
       "   RegistrationYear  Power  Kilometer  RegistrationMonth  \\\n",
       "0              2008    125      80000                  9   \n",
       "1              2017    150     150000                  6   \n",
       "2              1997     60     150000                  5   \n",
       "3              2005    108     150000                  9   \n",
       "4              2006    150     150000                  2   \n",
       "\n",
       "   VehicleType_convertible  VehicleType_coupe  VehicleType_other  \\\n",
       "0                      0.0                0.0                0.0   \n",
       "1                      0.0                0.0                0.0   \n",
       "2                      0.0                0.0                0.0   \n",
       "3                      0.0                0.0                0.0   \n",
       "4                      0.0                0.0                0.0   \n",
       "\n",
       "   VehicleType_sedan  VehicleType_small  VehicleType_suv  ...  \\\n",
       "0                1.0                0.0              0.0  ...   \n",
       "1                1.0                0.0              0.0  ...   \n",
       "2                0.0                1.0              0.0  ...   \n",
       "3                0.0                0.0              0.0  ...   \n",
       "4                1.0                0.0              0.0  ...   \n",
       "\n",
       "   DateCreated_2016-03-29 00:00:00  DateCreated_2016-03-30 00:00:00  \\\n",
       "0                              0.0                              0.0   \n",
       "1                              0.0                              0.0   \n",
       "2                              0.0                              0.0   \n",
       "3                              0.0                              0.0   \n",
       "4                              0.0                              0.0   \n",
       "\n",
       "   DateCreated_2016-03-31 00:00:00  DateCreated_2016-04-01 00:00:00  \\\n",
       "0                              0.0                              0.0   \n",
       "1                              0.0                              0.0   \n",
       "2                              0.0                              0.0   \n",
       "3                              0.0                              0.0   \n",
       "4                              0.0                              0.0   \n",
       "\n",
       "   DateCreated_2016-04-02 00:00:00  DateCreated_2016-04-03 00:00:00  \\\n",
       "0                              0.0                              0.0   \n",
       "1                              0.0                              0.0   \n",
       "2                              0.0                              0.0   \n",
       "3                              0.0                              0.0   \n",
       "4                              0.0                              0.0   \n",
       "\n",
       "   DateCreated_2016-04-04 00:00:00  DateCreated_2016-04-05 00:00:00  \\\n",
       "0                              1.0                              0.0   \n",
       "1                              0.0                              0.0   \n",
       "2                              0.0                              1.0   \n",
       "3                              0.0                              0.0   \n",
       "4                              0.0                              0.0   \n",
       "\n",
       "   DateCreated_2016-04-06 00:00:00  DateCreated_2016-04-07 00:00:00  \n",
       "0                              0.0                              0.0  \n",
       "1                              0.0                              0.0  \n",
       "2                              0.0                              0.0  \n",
       "3                              0.0                              0.0  \n",
       "4                              0.0                              0.0  \n",
       "\n",
       "[5 rows x 399 columns]"
      ]
     },
     "execution_count": 35,
     "metadata": {},
     "output_type": "execute_result"
    }
   ],
   "source": [
    "features_test.head()"
   ]
  },
  {
   "cell_type": "markdown",
   "metadata": {},
   "source": [
    "Преобразуем категориальные признаки в численные для валидационной выборки"
   ]
  },
  {
   "cell_type": "code",
   "execution_count": 36,
   "metadata": {},
   "outputs": [],
   "source": [
    "features_valid = features_valid.reset_index(drop=True)\n",
    "target_valid = target_valid.reset_index(drop=True)\n",
    "enc.transform(features_valid[ohe_features]).shape\n",
    "tmp_df = pd.DataFrame(enc.transform(features_valid[ohe_features]), columns=enc.get_feature_names_out())\n",
    "features_valid = pd.concat([features_valid.drop(ohe_features, axis=1), tmp_df], axis=1)"
   ]
  },
  {
   "cell_type": "markdown",
   "metadata": {},
   "source": [
    "Проведем масштабирование численных признаков"
   ]
  },
  {
   "cell_type": "code",
   "execution_count": 37,
   "metadata": {},
   "outputs": [],
   "source": [
    "scaler = StandardScaler()\n",
    "scaler.fit(features_train)\n",
    "columns_features = features_train.columns\n",
    "features_train = pd.DataFrame(scaler.transform(features_train), columns = columns_features)\n",
    "#scaler.fit(features_test)\n",
    "columns_test = features_test.columns\n",
    "features_test = pd.DataFrame(scaler.transform(features_test), columns = columns_test)\n",
    "columns_valid = features_valid.columns\n",
    "features_valid = pd.DataFrame(scaler.transform(features_valid), columns = columns_valid)"
   ]
  },
  {
   "cell_type": "code",
   "execution_count": 38,
   "metadata": {},
   "outputs": [
    {
     "data": {
      "text/html": [
       "<div>\n",
       "<style scoped>\n",
       "    .dataframe tbody tr th:only-of-type {\n",
       "        vertical-align: middle;\n",
       "    }\n",
       "\n",
       "    .dataframe tbody tr th {\n",
       "        vertical-align: top;\n",
       "    }\n",
       "\n",
       "    .dataframe thead th {\n",
       "        text-align: right;\n",
       "    }\n",
       "</style>\n",
       "<table border=\"1\" class=\"dataframe\">\n",
       "  <thead>\n",
       "    <tr style=\"text-align: right;\">\n",
       "      <th></th>\n",
       "      <th>RegistrationYear</th>\n",
       "      <th>Power</th>\n",
       "      <th>Kilometer</th>\n",
       "      <th>RegistrationMonth</th>\n",
       "      <th>VehicleType_convertible</th>\n",
       "      <th>VehicleType_coupe</th>\n",
       "      <th>VehicleType_other</th>\n",
       "      <th>VehicleType_sedan</th>\n",
       "      <th>VehicleType_small</th>\n",
       "      <th>VehicleType_suv</th>\n",
       "      <th>...</th>\n",
       "      <th>DateCreated_2016-03-29 00:00:00</th>\n",
       "      <th>DateCreated_2016-03-30 00:00:00</th>\n",
       "      <th>DateCreated_2016-03-31 00:00:00</th>\n",
       "      <th>DateCreated_2016-04-01 00:00:00</th>\n",
       "      <th>DateCreated_2016-04-02 00:00:00</th>\n",
       "      <th>DateCreated_2016-04-03 00:00:00</th>\n",
       "      <th>DateCreated_2016-04-04 00:00:00</th>\n",
       "      <th>DateCreated_2016-04-05 00:00:00</th>\n",
       "      <th>DateCreated_2016-04-06 00:00:00</th>\n",
       "      <th>DateCreated_2016-04-07 00:00:00</th>\n",
       "    </tr>\n",
       "  </thead>\n",
       "  <tbody>\n",
       "    <tr>\n",
       "      <th>0</th>\n",
       "      <td>1.449924</td>\n",
       "      <td>-0.476935</td>\n",
       "      <td>-2.693738</td>\n",
       "      <td>-0.569025</td>\n",
       "      <td>-0.257208</td>\n",
       "      <td>-0.223052</td>\n",
       "      <td>-0.086957</td>\n",
       "      <td>-0.660821</td>\n",
       "      <td>-0.569366</td>\n",
       "      <td>-0.192829</td>\n",
       "      <td>...</td>\n",
       "      <td>-0.187597</td>\n",
       "      <td>-0.184433</td>\n",
       "      <td>-0.181607</td>\n",
       "      <td>-0.18736</td>\n",
       "      <td>-0.191144</td>\n",
       "      <td>-0.202649</td>\n",
       "      <td>5.062137</td>\n",
       "      <td>-0.106353</td>\n",
       "      <td>-0.054935</td>\n",
       "      <td>-0.038592</td>\n",
       "    </tr>\n",
       "    <tr>\n",
       "      <th>1</th>\n",
       "      <td>-0.054067</td>\n",
       "      <td>0.279113</td>\n",
       "      <td>0.591650</td>\n",
       "      <td>1.674325</td>\n",
       "      <td>-0.257208</td>\n",
       "      <td>-0.223052</td>\n",
       "      <td>-0.086957</td>\n",
       "      <td>-0.660821</td>\n",
       "      <td>-0.569366</td>\n",
       "      <td>-0.192829</td>\n",
       "      <td>...</td>\n",
       "      <td>-0.187597</td>\n",
       "      <td>-0.184433</td>\n",
       "      <td>-0.181607</td>\n",
       "      <td>-0.18736</td>\n",
       "      <td>-0.191144</td>\n",
       "      <td>-0.202649</td>\n",
       "      <td>-0.197545</td>\n",
       "      <td>-0.106353</td>\n",
       "      <td>-0.054935</td>\n",
       "      <td>-0.038592</td>\n",
       "    </tr>\n",
       "    <tr>\n",
       "      <th>2</th>\n",
       "      <td>-1.106860</td>\n",
       "      <td>0.352874</td>\n",
       "      <td>0.591650</td>\n",
       "      <td>-1.129862</td>\n",
       "      <td>-0.257208</td>\n",
       "      <td>-0.223052</td>\n",
       "      <td>-0.086957</td>\n",
       "      <td>-0.660821</td>\n",
       "      <td>-0.569366</td>\n",
       "      <td>-0.192829</td>\n",
       "      <td>...</td>\n",
       "      <td>-0.187597</td>\n",
       "      <td>-0.184433</td>\n",
       "      <td>-0.181607</td>\n",
       "      <td>-0.18736</td>\n",
       "      <td>-0.191144</td>\n",
       "      <td>-0.202649</td>\n",
       "      <td>-0.197545</td>\n",
       "      <td>-0.106353</td>\n",
       "      <td>-0.054935</td>\n",
       "      <td>-0.038592</td>\n",
       "    </tr>\n",
       "    <tr>\n",
       "      <th>3</th>\n",
       "      <td>0.998727</td>\n",
       "      <td>0.408195</td>\n",
       "      <td>-1.598608</td>\n",
       "      <td>0.833069</td>\n",
       "      <td>-0.257208</td>\n",
       "      <td>-0.223052</td>\n",
       "      <td>-0.086957</td>\n",
       "      <td>-0.660821</td>\n",
       "      <td>-0.569366</td>\n",
       "      <td>-0.192829</td>\n",
       "      <td>...</td>\n",
       "      <td>-0.187597</td>\n",
       "      <td>-0.184433</td>\n",
       "      <td>-0.181607</td>\n",
       "      <td>-0.18736</td>\n",
       "      <td>-0.191144</td>\n",
       "      <td>-0.202649</td>\n",
       "      <td>-0.197545</td>\n",
       "      <td>-0.106353</td>\n",
       "      <td>-0.054935</td>\n",
       "      <td>-0.038592</td>\n",
       "    </tr>\n",
       "    <tr>\n",
       "      <th>4</th>\n",
       "      <td>-0.806062</td>\n",
       "      <td>2.934503</td>\n",
       "      <td>0.591650</td>\n",
       "      <td>0.833069</td>\n",
       "      <td>-0.257208</td>\n",
       "      <td>4.483267</td>\n",
       "      <td>-0.086957</td>\n",
       "      <td>-0.660821</td>\n",
       "      <td>-0.569366</td>\n",
       "      <td>-0.192829</td>\n",
       "      <td>...</td>\n",
       "      <td>-0.187597</td>\n",
       "      <td>-0.184433</td>\n",
       "      <td>-0.181607</td>\n",
       "      <td>-0.18736</td>\n",
       "      <td>-0.191144</td>\n",
       "      <td>-0.202649</td>\n",
       "      <td>-0.197545</td>\n",
       "      <td>-0.106353</td>\n",
       "      <td>-0.054935</td>\n",
       "      <td>-0.038592</td>\n",
       "    </tr>\n",
       "  </tbody>\n",
       "</table>\n",
       "<p>5 rows × 399 columns</p>\n",
       "</div>"
      ],
      "text/plain": [
       "   RegistrationYear     Power  Kilometer  RegistrationMonth  \\\n",
       "0          1.449924 -0.476935  -2.693738          -0.569025   \n",
       "1         -0.054067  0.279113   0.591650           1.674325   \n",
       "2         -1.106860  0.352874   0.591650          -1.129862   \n",
       "3          0.998727  0.408195  -1.598608           0.833069   \n",
       "4         -0.806062  2.934503   0.591650           0.833069   \n",
       "\n",
       "   VehicleType_convertible  VehicleType_coupe  VehicleType_other  \\\n",
       "0                -0.257208          -0.223052          -0.086957   \n",
       "1                -0.257208          -0.223052          -0.086957   \n",
       "2                -0.257208          -0.223052          -0.086957   \n",
       "3                -0.257208          -0.223052          -0.086957   \n",
       "4                -0.257208           4.483267          -0.086957   \n",
       "\n",
       "   VehicleType_sedan  VehicleType_small  VehicleType_suv  ...  \\\n",
       "0          -0.660821          -0.569366        -0.192829  ...   \n",
       "1          -0.660821          -0.569366        -0.192829  ...   \n",
       "2          -0.660821          -0.569366        -0.192829  ...   \n",
       "3          -0.660821          -0.569366        -0.192829  ...   \n",
       "4          -0.660821          -0.569366        -0.192829  ...   \n",
       "\n",
       "   DateCreated_2016-03-29 00:00:00  DateCreated_2016-03-30 00:00:00  \\\n",
       "0                        -0.187597                        -0.184433   \n",
       "1                        -0.187597                        -0.184433   \n",
       "2                        -0.187597                        -0.184433   \n",
       "3                        -0.187597                        -0.184433   \n",
       "4                        -0.187597                        -0.184433   \n",
       "\n",
       "   DateCreated_2016-03-31 00:00:00  DateCreated_2016-04-01 00:00:00  \\\n",
       "0                        -0.181607                         -0.18736   \n",
       "1                        -0.181607                         -0.18736   \n",
       "2                        -0.181607                         -0.18736   \n",
       "3                        -0.181607                         -0.18736   \n",
       "4                        -0.181607                         -0.18736   \n",
       "\n",
       "   DateCreated_2016-04-02 00:00:00  DateCreated_2016-04-03 00:00:00  \\\n",
       "0                        -0.191144                        -0.202649   \n",
       "1                        -0.191144                        -0.202649   \n",
       "2                        -0.191144                        -0.202649   \n",
       "3                        -0.191144                        -0.202649   \n",
       "4                        -0.191144                        -0.202649   \n",
       "\n",
       "   DateCreated_2016-04-04 00:00:00  DateCreated_2016-04-05 00:00:00  \\\n",
       "0                         5.062137                        -0.106353   \n",
       "1                        -0.197545                        -0.106353   \n",
       "2                        -0.197545                        -0.106353   \n",
       "3                        -0.197545                        -0.106353   \n",
       "4                        -0.197545                        -0.106353   \n",
       "\n",
       "   DateCreated_2016-04-06 00:00:00  DateCreated_2016-04-07 00:00:00  \n",
       "0                        -0.054935                        -0.038592  \n",
       "1                        -0.054935                        -0.038592  \n",
       "2                        -0.054935                        -0.038592  \n",
       "3                        -0.054935                        -0.038592  \n",
       "4                        -0.054935                        -0.038592  \n",
       "\n",
       "[5 rows x 399 columns]"
      ]
     },
     "execution_count": 38,
     "metadata": {},
     "output_type": "execute_result"
    }
   ],
   "source": [
    "features_train.head()"
   ]
  },
  {
   "cell_type": "code",
   "execution_count": 39,
   "metadata": {},
   "outputs": [
    {
     "data": {
      "text/html": [
       "<div>\n",
       "<style scoped>\n",
       "    .dataframe tbody tr th:only-of-type {\n",
       "        vertical-align: middle;\n",
       "    }\n",
       "\n",
       "    .dataframe tbody tr th {\n",
       "        vertical-align: top;\n",
       "    }\n",
       "\n",
       "    .dataframe thead th {\n",
       "        text-align: right;\n",
       "    }\n",
       "</style>\n",
       "<table border=\"1\" class=\"dataframe\">\n",
       "  <thead>\n",
       "    <tr style=\"text-align: right;\">\n",
       "      <th></th>\n",
       "      <th>RegistrationYear</th>\n",
       "      <th>Power</th>\n",
       "      <th>Kilometer</th>\n",
       "      <th>RegistrationMonth</th>\n",
       "      <th>VehicleType_convertible</th>\n",
       "      <th>VehicleType_coupe</th>\n",
       "      <th>VehicleType_other</th>\n",
       "      <th>VehicleType_sedan</th>\n",
       "      <th>VehicleType_small</th>\n",
       "      <th>VehicleType_suv</th>\n",
       "      <th>...</th>\n",
       "      <th>DateCreated_2016-03-29 00:00:00</th>\n",
       "      <th>DateCreated_2016-03-30 00:00:00</th>\n",
       "      <th>DateCreated_2016-03-31 00:00:00</th>\n",
       "      <th>DateCreated_2016-04-01 00:00:00</th>\n",
       "      <th>DateCreated_2016-04-02 00:00:00</th>\n",
       "      <th>DateCreated_2016-04-03 00:00:00</th>\n",
       "      <th>DateCreated_2016-04-04 00:00:00</th>\n",
       "      <th>DateCreated_2016-04-05 00:00:00</th>\n",
       "      <th>DateCreated_2016-04-06 00:00:00</th>\n",
       "      <th>DateCreated_2016-04-07 00:00:00</th>\n",
       "    </tr>\n",
       "  </thead>\n",
       "  <tbody>\n",
       "    <tr>\n",
       "      <th>0</th>\n",
       "      <td>0.697929</td>\n",
       "      <td>0.076271</td>\n",
       "      <td>-1.324826</td>\n",
       "      <td>0.833069</td>\n",
       "      <td>-0.257208</td>\n",
       "      <td>-0.223052</td>\n",
       "      <td>-0.086957</td>\n",
       "      <td>1.513269</td>\n",
       "      <td>-0.569366</td>\n",
       "      <td>-0.192829</td>\n",
       "      <td>...</td>\n",
       "      <td>-0.187597</td>\n",
       "      <td>-0.184433</td>\n",
       "      <td>-0.181607</td>\n",
       "      <td>-0.18736</td>\n",
       "      <td>-0.191144</td>\n",
       "      <td>-0.202649</td>\n",
       "      <td>5.062137</td>\n",
       "      <td>-0.106353</td>\n",
       "      <td>-0.054935</td>\n",
       "      <td>-0.038592</td>\n",
       "    </tr>\n",
       "    <tr>\n",
       "      <th>1</th>\n",
       "      <td>2.051521</td>\n",
       "      <td>0.537276</td>\n",
       "      <td>0.591650</td>\n",
       "      <td>-0.008187</td>\n",
       "      <td>-0.257208</td>\n",
       "      <td>-0.223052</td>\n",
       "      <td>-0.086957</td>\n",
       "      <td>1.513269</td>\n",
       "      <td>-0.569366</td>\n",
       "      <td>-0.192829</td>\n",
       "      <td>...</td>\n",
       "      <td>-0.187597</td>\n",
       "      <td>-0.184433</td>\n",
       "      <td>-0.181607</td>\n",
       "      <td>-0.18736</td>\n",
       "      <td>-0.191144</td>\n",
       "      <td>-0.202649</td>\n",
       "      <td>-0.197545</td>\n",
       "      <td>-0.106353</td>\n",
       "      <td>-0.054935</td>\n",
       "      <td>-0.038592</td>\n",
       "    </tr>\n",
       "    <tr>\n",
       "      <th>2</th>\n",
       "      <td>-0.956461</td>\n",
       "      <td>-1.122343</td>\n",
       "      <td>0.591650</td>\n",
       "      <td>-0.288606</td>\n",
       "      <td>-0.257208</td>\n",
       "      <td>-0.223052</td>\n",
       "      <td>-0.086957</td>\n",
       "      <td>-0.660821</td>\n",
       "      <td>1.756340</td>\n",
       "      <td>-0.192829</td>\n",
       "      <td>...</td>\n",
       "      <td>-0.187597</td>\n",
       "      <td>-0.184433</td>\n",
       "      <td>-0.181607</td>\n",
       "      <td>-0.18736</td>\n",
       "      <td>-0.191144</td>\n",
       "      <td>-0.202649</td>\n",
       "      <td>-0.197545</td>\n",
       "      <td>9.402627</td>\n",
       "      <td>-0.054935</td>\n",
       "      <td>-0.038592</td>\n",
       "    </tr>\n",
       "    <tr>\n",
       "      <th>3</th>\n",
       "      <td>0.246731</td>\n",
       "      <td>-0.237213</td>\n",
       "      <td>0.591650</td>\n",
       "      <td>0.833069</td>\n",
       "      <td>-0.257208</td>\n",
       "      <td>-0.223052</td>\n",
       "      <td>-0.086957</td>\n",
       "      <td>-0.660821</td>\n",
       "      <td>-0.569366</td>\n",
       "      <td>-0.192829</td>\n",
       "      <td>...</td>\n",
       "      <td>-0.187597</td>\n",
       "      <td>-0.184433</td>\n",
       "      <td>-0.181607</td>\n",
       "      <td>-0.18736</td>\n",
       "      <td>-0.191144</td>\n",
       "      <td>-0.202649</td>\n",
       "      <td>-0.197545</td>\n",
       "      <td>-0.106353</td>\n",
       "      <td>-0.054935</td>\n",
       "      <td>-0.038592</td>\n",
       "    </tr>\n",
       "    <tr>\n",
       "      <th>4</th>\n",
       "      <td>0.397131</td>\n",
       "      <td>0.537276</td>\n",
       "      <td>0.591650</td>\n",
       "      <td>-1.129862</td>\n",
       "      <td>-0.257208</td>\n",
       "      <td>-0.223052</td>\n",
       "      <td>-0.086957</td>\n",
       "      <td>1.513269</td>\n",
       "      <td>-0.569366</td>\n",
       "      <td>-0.192829</td>\n",
       "      <td>...</td>\n",
       "      <td>-0.187597</td>\n",
       "      <td>-0.184433</td>\n",
       "      <td>-0.181607</td>\n",
       "      <td>-0.18736</td>\n",
       "      <td>-0.191144</td>\n",
       "      <td>-0.202649</td>\n",
       "      <td>-0.197545</td>\n",
       "      <td>-0.106353</td>\n",
       "      <td>-0.054935</td>\n",
       "      <td>-0.038592</td>\n",
       "    </tr>\n",
       "  </tbody>\n",
       "</table>\n",
       "<p>5 rows × 399 columns</p>\n",
       "</div>"
      ],
      "text/plain": [
       "   RegistrationYear     Power  Kilometer  RegistrationMonth  \\\n",
       "0          0.697929  0.076271  -1.324826           0.833069   \n",
       "1          2.051521  0.537276   0.591650          -0.008187   \n",
       "2         -0.956461 -1.122343   0.591650          -0.288606   \n",
       "3          0.246731 -0.237213   0.591650           0.833069   \n",
       "4          0.397131  0.537276   0.591650          -1.129862   \n",
       "\n",
       "   VehicleType_convertible  VehicleType_coupe  VehicleType_other  \\\n",
       "0                -0.257208          -0.223052          -0.086957   \n",
       "1                -0.257208          -0.223052          -0.086957   \n",
       "2                -0.257208          -0.223052          -0.086957   \n",
       "3                -0.257208          -0.223052          -0.086957   \n",
       "4                -0.257208          -0.223052          -0.086957   \n",
       "\n",
       "   VehicleType_sedan  VehicleType_small  VehicleType_suv  ...  \\\n",
       "0           1.513269          -0.569366        -0.192829  ...   \n",
       "1           1.513269          -0.569366        -0.192829  ...   \n",
       "2          -0.660821           1.756340        -0.192829  ...   \n",
       "3          -0.660821          -0.569366        -0.192829  ...   \n",
       "4           1.513269          -0.569366        -0.192829  ...   \n",
       "\n",
       "   DateCreated_2016-03-29 00:00:00  DateCreated_2016-03-30 00:00:00  \\\n",
       "0                        -0.187597                        -0.184433   \n",
       "1                        -0.187597                        -0.184433   \n",
       "2                        -0.187597                        -0.184433   \n",
       "3                        -0.187597                        -0.184433   \n",
       "4                        -0.187597                        -0.184433   \n",
       "\n",
       "   DateCreated_2016-03-31 00:00:00  DateCreated_2016-04-01 00:00:00  \\\n",
       "0                        -0.181607                         -0.18736   \n",
       "1                        -0.181607                         -0.18736   \n",
       "2                        -0.181607                         -0.18736   \n",
       "3                        -0.181607                         -0.18736   \n",
       "4                        -0.181607                         -0.18736   \n",
       "\n",
       "   DateCreated_2016-04-02 00:00:00  DateCreated_2016-04-03 00:00:00  \\\n",
       "0                        -0.191144                        -0.202649   \n",
       "1                        -0.191144                        -0.202649   \n",
       "2                        -0.191144                        -0.202649   \n",
       "3                        -0.191144                        -0.202649   \n",
       "4                        -0.191144                        -0.202649   \n",
       "\n",
       "   DateCreated_2016-04-04 00:00:00  DateCreated_2016-04-05 00:00:00  \\\n",
       "0                         5.062137                        -0.106353   \n",
       "1                        -0.197545                        -0.106353   \n",
       "2                        -0.197545                         9.402627   \n",
       "3                        -0.197545                        -0.106353   \n",
       "4                        -0.197545                        -0.106353   \n",
       "\n",
       "   DateCreated_2016-04-06 00:00:00  DateCreated_2016-04-07 00:00:00  \n",
       "0                        -0.054935                        -0.038592  \n",
       "1                        -0.054935                        -0.038592  \n",
       "2                        -0.054935                        -0.038592  \n",
       "3                        -0.054935                        -0.038592  \n",
       "4                        -0.054935                        -0.038592  \n",
       "\n",
       "[5 rows x 399 columns]"
      ]
     },
     "execution_count": 39,
     "metadata": {},
     "output_type": "execute_result"
    }
   ],
   "source": [
    "features_test.head()"
   ]
  },
  {
   "cell_type": "code",
   "execution_count": 40,
   "metadata": {},
   "outputs": [
    {
     "data": {
      "text/html": [
       "<div>\n",
       "<style scoped>\n",
       "    .dataframe tbody tr th:only-of-type {\n",
       "        vertical-align: middle;\n",
       "    }\n",
       "\n",
       "    .dataframe tbody tr th {\n",
       "        vertical-align: top;\n",
       "    }\n",
       "\n",
       "    .dataframe thead th {\n",
       "        text-align: right;\n",
       "    }\n",
       "</style>\n",
       "<table border=\"1\" class=\"dataframe\">\n",
       "  <thead>\n",
       "    <tr style=\"text-align: right;\">\n",
       "      <th></th>\n",
       "      <th>RegistrationYear</th>\n",
       "      <th>Power</th>\n",
       "      <th>Kilometer</th>\n",
       "      <th>RegistrationMonth</th>\n",
       "      <th>VehicleType_convertible</th>\n",
       "      <th>VehicleType_coupe</th>\n",
       "      <th>VehicleType_other</th>\n",
       "      <th>VehicleType_sedan</th>\n",
       "      <th>VehicleType_small</th>\n",
       "      <th>VehicleType_suv</th>\n",
       "      <th>...</th>\n",
       "      <th>DateCreated_2016-03-29 00:00:00</th>\n",
       "      <th>DateCreated_2016-03-30 00:00:00</th>\n",
       "      <th>DateCreated_2016-03-31 00:00:00</th>\n",
       "      <th>DateCreated_2016-04-01 00:00:00</th>\n",
       "      <th>DateCreated_2016-04-02 00:00:00</th>\n",
       "      <th>DateCreated_2016-04-03 00:00:00</th>\n",
       "      <th>DateCreated_2016-04-04 00:00:00</th>\n",
       "      <th>DateCreated_2016-04-05 00:00:00</th>\n",
       "      <th>DateCreated_2016-04-06 00:00:00</th>\n",
       "      <th>DateCreated_2016-04-07 00:00:00</th>\n",
       "    </tr>\n",
       "  </thead>\n",
       "  <tbody>\n",
       "    <tr>\n",
       "      <th>0</th>\n",
       "      <td>0.697929</td>\n",
       "      <td>1.403966</td>\n",
       "      <td>0.59165</td>\n",
       "      <td>-0.288606</td>\n",
       "      <td>3.887907</td>\n",
       "      <td>-0.223052</td>\n",
       "      <td>-0.086957</td>\n",
       "      <td>-0.660821</td>\n",
       "      <td>-0.569366</td>\n",
       "      <td>-0.192829</td>\n",
       "      <td>...</td>\n",
       "      <td>-0.187597</td>\n",
       "      <td>-0.184433</td>\n",
       "      <td>-0.181607</td>\n",
       "      <td>-0.18736</td>\n",
       "      <td>-0.191144</td>\n",
       "      <td>-0.202649</td>\n",
       "      <td>-0.197545</td>\n",
       "      <td>-0.106353</td>\n",
       "      <td>-0.054935</td>\n",
       "      <td>-0.038592</td>\n",
       "    </tr>\n",
       "    <tr>\n",
       "      <th>1</th>\n",
       "      <td>-0.054067</td>\n",
       "      <td>1.072042</td>\n",
       "      <td>0.59165</td>\n",
       "      <td>0.833069</td>\n",
       "      <td>-0.257208</td>\n",
       "      <td>-0.223052</td>\n",
       "      <td>-0.086957</td>\n",
       "      <td>-0.660821</td>\n",
       "      <td>-0.569366</td>\n",
       "      <td>-0.192829</td>\n",
       "      <td>...</td>\n",
       "      <td>-0.187597</td>\n",
       "      <td>-0.184433</td>\n",
       "      <td>-0.181607</td>\n",
       "      <td>-0.18736</td>\n",
       "      <td>-0.191144</td>\n",
       "      <td>-0.202649</td>\n",
       "      <td>-0.197545</td>\n",
       "      <td>-0.106353</td>\n",
       "      <td>-0.054935</td>\n",
       "      <td>-0.038592</td>\n",
       "    </tr>\n",
       "    <tr>\n",
       "      <th>2</th>\n",
       "      <td>-0.354865</td>\n",
       "      <td>-0.845740</td>\n",
       "      <td>0.59165</td>\n",
       "      <td>-1.129862</td>\n",
       "      <td>-0.257208</td>\n",
       "      <td>-0.223052</td>\n",
       "      <td>-0.086957</td>\n",
       "      <td>-0.660821</td>\n",
       "      <td>1.756340</td>\n",
       "      <td>-0.192829</td>\n",
       "      <td>...</td>\n",
       "      <td>-0.187597</td>\n",
       "      <td>-0.184433</td>\n",
       "      <td>-0.181607</td>\n",
       "      <td>-0.18736</td>\n",
       "      <td>-0.191144</td>\n",
       "      <td>-0.202649</td>\n",
       "      <td>-0.197545</td>\n",
       "      <td>-0.106353</td>\n",
       "      <td>-0.054935</td>\n",
       "      <td>-0.038592</td>\n",
       "    </tr>\n",
       "    <tr>\n",
       "      <th>3</th>\n",
       "      <td>-0.505264</td>\n",
       "      <td>-1.122343</td>\n",
       "      <td>0.59165</td>\n",
       "      <td>-0.288606</td>\n",
       "      <td>-0.257208</td>\n",
       "      <td>-0.223052</td>\n",
       "      <td>-0.086957</td>\n",
       "      <td>-0.660821</td>\n",
       "      <td>1.756340</td>\n",
       "      <td>-0.192829</td>\n",
       "      <td>...</td>\n",
       "      <td>-0.187597</td>\n",
       "      <td>-0.184433</td>\n",
       "      <td>-0.181607</td>\n",
       "      <td>-0.18736</td>\n",
       "      <td>5.231662</td>\n",
       "      <td>-0.202649</td>\n",
       "      <td>-0.197545</td>\n",
       "      <td>-0.106353</td>\n",
       "      <td>-0.054935</td>\n",
       "      <td>-0.038592</td>\n",
       "    </tr>\n",
       "    <tr>\n",
       "      <th>4</th>\n",
       "      <td>-1.106860</td>\n",
       "      <td>-1.398946</td>\n",
       "      <td>0.59165</td>\n",
       "      <td>-1.690699</td>\n",
       "      <td>-0.257208</td>\n",
       "      <td>-0.223052</td>\n",
       "      <td>-0.086957</td>\n",
       "      <td>-0.660821</td>\n",
       "      <td>1.756340</td>\n",
       "      <td>-0.192829</td>\n",
       "      <td>...</td>\n",
       "      <td>-0.187597</td>\n",
       "      <td>-0.184433</td>\n",
       "      <td>-0.181607</td>\n",
       "      <td>-0.18736</td>\n",
       "      <td>-0.191144</td>\n",
       "      <td>-0.202649</td>\n",
       "      <td>-0.197545</td>\n",
       "      <td>-0.106353</td>\n",
       "      <td>18.203195</td>\n",
       "      <td>-0.038592</td>\n",
       "    </tr>\n",
       "  </tbody>\n",
       "</table>\n",
       "<p>5 rows × 399 columns</p>\n",
       "</div>"
      ],
      "text/plain": [
       "   RegistrationYear     Power  Kilometer  RegistrationMonth  \\\n",
       "0          0.697929  1.403966    0.59165          -0.288606   \n",
       "1         -0.054067  1.072042    0.59165           0.833069   \n",
       "2         -0.354865 -0.845740    0.59165          -1.129862   \n",
       "3         -0.505264 -1.122343    0.59165          -0.288606   \n",
       "4         -1.106860 -1.398946    0.59165          -1.690699   \n",
       "\n",
       "   VehicleType_convertible  VehicleType_coupe  VehicleType_other  \\\n",
       "0                 3.887907          -0.223052          -0.086957   \n",
       "1                -0.257208          -0.223052          -0.086957   \n",
       "2                -0.257208          -0.223052          -0.086957   \n",
       "3                -0.257208          -0.223052          -0.086957   \n",
       "4                -0.257208          -0.223052          -0.086957   \n",
       "\n",
       "   VehicleType_sedan  VehicleType_small  VehicleType_suv  ...  \\\n",
       "0          -0.660821          -0.569366        -0.192829  ...   \n",
       "1          -0.660821          -0.569366        -0.192829  ...   \n",
       "2          -0.660821           1.756340        -0.192829  ...   \n",
       "3          -0.660821           1.756340        -0.192829  ...   \n",
       "4          -0.660821           1.756340        -0.192829  ...   \n",
       "\n",
       "   DateCreated_2016-03-29 00:00:00  DateCreated_2016-03-30 00:00:00  \\\n",
       "0                        -0.187597                        -0.184433   \n",
       "1                        -0.187597                        -0.184433   \n",
       "2                        -0.187597                        -0.184433   \n",
       "3                        -0.187597                        -0.184433   \n",
       "4                        -0.187597                        -0.184433   \n",
       "\n",
       "   DateCreated_2016-03-31 00:00:00  DateCreated_2016-04-01 00:00:00  \\\n",
       "0                        -0.181607                         -0.18736   \n",
       "1                        -0.181607                         -0.18736   \n",
       "2                        -0.181607                         -0.18736   \n",
       "3                        -0.181607                         -0.18736   \n",
       "4                        -0.181607                         -0.18736   \n",
       "\n",
       "   DateCreated_2016-04-02 00:00:00  DateCreated_2016-04-03 00:00:00  \\\n",
       "0                        -0.191144                        -0.202649   \n",
       "1                        -0.191144                        -0.202649   \n",
       "2                        -0.191144                        -0.202649   \n",
       "3                         5.231662                        -0.202649   \n",
       "4                        -0.191144                        -0.202649   \n",
       "\n",
       "   DateCreated_2016-04-04 00:00:00  DateCreated_2016-04-05 00:00:00  \\\n",
       "0                        -0.197545                        -0.106353   \n",
       "1                        -0.197545                        -0.106353   \n",
       "2                        -0.197545                        -0.106353   \n",
       "3                        -0.197545                        -0.106353   \n",
       "4                        -0.197545                        -0.106353   \n",
       "\n",
       "   DateCreated_2016-04-06 00:00:00  DateCreated_2016-04-07 00:00:00  \n",
       "0                        -0.054935                        -0.038592  \n",
       "1                        -0.054935                        -0.038592  \n",
       "2                        -0.054935                        -0.038592  \n",
       "3                        -0.054935                        -0.038592  \n",
       "4                        18.203195                        -0.038592  \n",
       "\n",
       "[5 rows x 399 columns]"
      ]
     },
     "execution_count": 40,
     "metadata": {},
     "output_type": "execute_result"
    }
   ],
   "source": [
    "features_valid.head()"
   ]
  },
  {
   "cell_type": "markdown",
   "metadata": {},
   "source": [
    "**Вывод:** подготовили признаки для дальнейшего построения моделей машинного обучения: преобразовали категориальные признаки в численные, произвели масштабирование признаков. "
   ]
  },
  {
   "cell_type": "markdown",
   "metadata": {},
   "source": [
    "<h3>Построение моделей </h3>"
   ]
  },
  {
   "cell_type": "markdown",
   "metadata": {},
   "source": [
    "Построим модель линейной регрессии"
   ]
  },
  {
   "cell_type": "code",
   "execution_count": 41,
   "metadata": {},
   "outputs": [
    {
     "name": "stdout",
     "output_type": "stream",
     "text": [
      "CPU times: user 30 s, sys: 33.4 s, total: 1min 3s\n",
      "Wall time: 1min 3s\n"
     ]
    },
    {
     "data": {
      "text/html": [
       "<style>#sk-container-id-1 {color: black;}#sk-container-id-1 pre{padding: 0;}#sk-container-id-1 div.sk-toggleable {background-color: white;}#sk-container-id-1 label.sk-toggleable__label {cursor: pointer;display: block;width: 100%;margin-bottom: 0;padding: 0.3em;box-sizing: border-box;text-align: center;}#sk-container-id-1 label.sk-toggleable__label-arrow:before {content: \"▸\";float: left;margin-right: 0.25em;color: #696969;}#sk-container-id-1 label.sk-toggleable__label-arrow:hover:before {color: black;}#sk-container-id-1 div.sk-estimator:hover label.sk-toggleable__label-arrow:before {color: black;}#sk-container-id-1 div.sk-toggleable__content {max-height: 0;max-width: 0;overflow: hidden;text-align: left;background-color: #f0f8ff;}#sk-container-id-1 div.sk-toggleable__content pre {margin: 0.2em;color: black;border-radius: 0.25em;background-color: #f0f8ff;}#sk-container-id-1 input.sk-toggleable__control:checked~div.sk-toggleable__content {max-height: 200px;max-width: 100%;overflow: auto;}#sk-container-id-1 input.sk-toggleable__control:checked~label.sk-toggleable__label-arrow:before {content: \"▾\";}#sk-container-id-1 div.sk-estimator input.sk-toggleable__control:checked~label.sk-toggleable__label {background-color: #d4ebff;}#sk-container-id-1 div.sk-label input.sk-toggleable__control:checked~label.sk-toggleable__label {background-color: #d4ebff;}#sk-container-id-1 input.sk-hidden--visually {border: 0;clip: rect(1px 1px 1px 1px);clip: rect(1px, 1px, 1px, 1px);height: 1px;margin: -1px;overflow: hidden;padding: 0;position: absolute;width: 1px;}#sk-container-id-1 div.sk-estimator {font-family: monospace;background-color: #f0f8ff;border: 1px dotted black;border-radius: 0.25em;box-sizing: border-box;margin-bottom: 0.5em;}#sk-container-id-1 div.sk-estimator:hover {background-color: #d4ebff;}#sk-container-id-1 div.sk-parallel-item::after {content: \"\";width: 100%;border-bottom: 1px solid gray;flex-grow: 1;}#sk-container-id-1 div.sk-label:hover label.sk-toggleable__label {background-color: #d4ebff;}#sk-container-id-1 div.sk-serial::before {content: \"\";position: absolute;border-left: 1px solid gray;box-sizing: border-box;top: 0;bottom: 0;left: 50%;z-index: 0;}#sk-container-id-1 div.sk-serial {display: flex;flex-direction: column;align-items: center;background-color: white;padding-right: 0.2em;padding-left: 0.2em;position: relative;}#sk-container-id-1 div.sk-item {position: relative;z-index: 1;}#sk-container-id-1 div.sk-parallel {display: flex;align-items: stretch;justify-content: center;background-color: white;position: relative;}#sk-container-id-1 div.sk-item::before, #sk-container-id-1 div.sk-parallel-item::before {content: \"\";position: absolute;border-left: 1px solid gray;box-sizing: border-box;top: 0;bottom: 0;left: 50%;z-index: -1;}#sk-container-id-1 div.sk-parallel-item {display: flex;flex-direction: column;z-index: 1;position: relative;background-color: white;}#sk-container-id-1 div.sk-parallel-item:first-child::after {align-self: flex-end;width: 50%;}#sk-container-id-1 div.sk-parallel-item:last-child::after {align-self: flex-start;width: 50%;}#sk-container-id-1 div.sk-parallel-item:only-child::after {width: 0;}#sk-container-id-1 div.sk-dashed-wrapped {border: 1px dashed gray;margin: 0 0.4em 0.5em 0.4em;box-sizing: border-box;padding-bottom: 0.4em;background-color: white;}#sk-container-id-1 div.sk-label label {font-family: monospace;font-weight: bold;display: inline-block;line-height: 1.2em;}#sk-container-id-1 div.sk-label-container {text-align: center;}#sk-container-id-1 div.sk-container {/* jupyter's `normalize.less` sets `[hidden] { display: none; }` but bootstrap.min.css set `[hidden] { display: none !important; }` so we also need the `!important` here to be able to override the default hidden behavior on the sphinx rendered scikit-learn.org. See: https://github.com/scikit-learn/scikit-learn/issues/21755 */display: inline-block !important;position: relative;}#sk-container-id-1 div.sk-text-repr-fallback {display: none;}</style><div id=\"sk-container-id-1\" class=\"sk-top-container\"><div class=\"sk-text-repr-fallback\"><pre>LinearRegression()</pre><b>In a Jupyter environment, please rerun this cell to show the HTML representation or trust the notebook. <br />On GitHub, the HTML representation is unable to render, please try loading this page with nbviewer.org.</b></div><div class=\"sk-container\" hidden><div class=\"sk-item\"><div class=\"sk-estimator sk-toggleable\"><input class=\"sk-toggleable__control sk-hidden--visually\" id=\"sk-estimator-id-1\" type=\"checkbox\" checked><label for=\"sk-estimator-id-1\" class=\"sk-toggleable__label sk-toggleable__label-arrow\">LinearRegression</label><div class=\"sk-toggleable__content\"><pre>LinearRegression()</pre></div></div></div></div></div>"
      ],
      "text/plain": [
       "LinearRegression()"
      ]
     },
     "execution_count": 41,
     "metadata": {},
     "output_type": "execute_result"
    }
   ],
   "source": [
    "%%time\n",
    "model_linear = LinearRegression()\n",
    "model_linear.fit(features_train, target_train)"
   ]
  },
  {
   "cell_type": "code",
   "execution_count": 42,
   "metadata": {},
   "outputs": [
    {
     "name": "stdout",
     "output_type": "stream",
     "text": [
      "CPU times: user 85.5 ms, sys: 41.7 ms, total: 127 ms\n",
      "Wall time: 113 ms\n"
     ]
    }
   ],
   "source": [
    "%%time \n",
    "pred_linear = model_linear.predict(features_valid)"
   ]
  },
  {
   "cell_type": "code",
   "execution_count": 43,
   "metadata": {},
   "outputs": [
    {
     "name": "stdout",
     "output_type": "stream",
     "text": [
      "2647.7961497144797\n"
     ]
    }
   ],
   "source": [
    "print(mean_squared_error(target_valid, pred_linear) ** 0.5)"
   ]
  },
  {
   "cell_type": "markdown",
   "metadata": {},
   "source": [
    "Получили, что для модели линейной регрессии метрика RMSE на валидационной выборке равна 2648, время обучения равно - 22 секунд, а время предсказания - 124 мс. "
   ]
  },
  {
   "cell_type": "markdown",
   "metadata": {},
   "source": [
    "Построим модель Lasso "
   ]
  },
  {
   "cell_type": "code",
   "execution_count": 44,
   "metadata": {},
   "outputs": [
    {
     "name": "stdout",
     "output_type": "stream",
     "text": [
      "Знчение метрики RMSE для alpha = 1: 2648.16293447114\n",
      "Знчение метрики RMSE для alpha = 11: 2657.1802359129497\n",
      "Знчение метрики RMSE для alpha = 21: 2669.833238761534\n",
      "Знчение метрики RMSE для alpha = 31: 2684.6063590659837\n",
      "Знчение метрики RMSE для alpha = 41: 2701.5374784610135\n",
      "Знчение метрики RMSE для alpha = 51: 2719.0946654648383\n"
     ]
    }
   ],
   "source": [
    "for alpha in range(1, 61, 10):\n",
    "    model_lasso = Lasso(alpha=alpha)\n",
    "\n",
    "    model_lasso.fit(features_train, target_train)\n",
    "    pred_train_lasso = model_lasso.predict(features_valid)\n",
    "    print(f'Знчение метрики RMSE для alpha = {alpha}:', (mean_squared_error(target_valid, pred_train_lasso) ** 0.5))"
   ]
  },
  {
   "cell_type": "markdown",
   "metadata": {},
   "source": [
    "Получили, что лучшее значение параметра alpha = 1, значение метрики RMSE при этом равно 2648.2"
   ]
  },
  {
   "cell_type": "code",
   "execution_count": 45,
   "metadata": {},
   "outputs": [],
   "source": [
    "del features_train, target_train"
   ]
  },
  {
   "cell_type": "code",
   "execution_count": 46,
   "metadata": {},
   "outputs": [],
   "source": [
    "del features_test, target_test"
   ]
  },
  {
   "cell_type": "markdown",
   "metadata": {},
   "source": [
    "Построим модель LightGBM"
   ]
  },
  {
   "cell_type": "code",
   "execution_count": 47,
   "metadata": {},
   "outputs": [],
   "source": [
    "categorical_features = ['VehicleType', 'Gearbox', 'Model', 'FuelType', 'Brand', 'Repaired']"
   ]
  },
  {
   "cell_type": "code",
   "execution_count": 48,
   "metadata": {},
   "outputs": [],
   "source": [
    "features_lgb = data.drop(columns=['Price', 'DateCreated'])\n",
    "target_lgb = data['Price']"
   ]
  },
  {
   "cell_type": "code",
   "execution_count": 49,
   "metadata": {},
   "outputs": [],
   "source": [
    "features_train_lgb, features_test_lgb, target_train_lgb, target_test_lgb = train_test_split(features_lgb, target_lgb, test_size=0.25, random_state=state)\n",
    "features_train_lgb, features_valid_lgb, target_train_lgb, target_valid_lgb = train_test_split(features_train_lgb, target_train_lgb, test_size=0.3333, random_state=state)"
   ]
  },
  {
   "cell_type": "code",
   "execution_count": 50,
   "metadata": {},
   "outputs": [],
   "source": [
    "features_train_lgb[categorical_features] = features_train_lgb[categorical_features].astype('category')\n",
    "features_test_lgb[categorical_features] = features_test_lgb[categorical_features].astype('category')\n",
    "features_valid_lgb[categorical_features] = features_valid_lgb[categorical_features].astype('category')"
   ]
  },
  {
   "cell_type": "code",
   "execution_count": 51,
   "metadata": {},
   "outputs": [
    {
     "name": "stdout",
     "output_type": "stream",
     "text": [
      "CPU times: user 6min 41s, sys: 3.13 s, total: 6min 45s\n",
      "Wall time: 6min 48s\n"
     ]
    },
    {
     "data": {
      "text/html": [
       "<style>#sk-container-id-2 {color: black;}#sk-container-id-2 pre{padding: 0;}#sk-container-id-2 div.sk-toggleable {background-color: white;}#sk-container-id-2 label.sk-toggleable__label {cursor: pointer;display: block;width: 100%;margin-bottom: 0;padding: 0.3em;box-sizing: border-box;text-align: center;}#sk-container-id-2 label.sk-toggleable__label-arrow:before {content: \"▸\";float: left;margin-right: 0.25em;color: #696969;}#sk-container-id-2 label.sk-toggleable__label-arrow:hover:before {color: black;}#sk-container-id-2 div.sk-estimator:hover label.sk-toggleable__label-arrow:before {color: black;}#sk-container-id-2 div.sk-toggleable__content {max-height: 0;max-width: 0;overflow: hidden;text-align: left;background-color: #f0f8ff;}#sk-container-id-2 div.sk-toggleable__content pre {margin: 0.2em;color: black;border-radius: 0.25em;background-color: #f0f8ff;}#sk-container-id-2 input.sk-toggleable__control:checked~div.sk-toggleable__content {max-height: 200px;max-width: 100%;overflow: auto;}#sk-container-id-2 input.sk-toggleable__control:checked~label.sk-toggleable__label-arrow:before {content: \"▾\";}#sk-container-id-2 div.sk-estimator input.sk-toggleable__control:checked~label.sk-toggleable__label {background-color: #d4ebff;}#sk-container-id-2 div.sk-label input.sk-toggleable__control:checked~label.sk-toggleable__label {background-color: #d4ebff;}#sk-container-id-2 input.sk-hidden--visually {border: 0;clip: rect(1px 1px 1px 1px);clip: rect(1px, 1px, 1px, 1px);height: 1px;margin: -1px;overflow: hidden;padding: 0;position: absolute;width: 1px;}#sk-container-id-2 div.sk-estimator {font-family: monospace;background-color: #f0f8ff;border: 1px dotted black;border-radius: 0.25em;box-sizing: border-box;margin-bottom: 0.5em;}#sk-container-id-2 div.sk-estimator:hover {background-color: #d4ebff;}#sk-container-id-2 div.sk-parallel-item::after {content: \"\";width: 100%;border-bottom: 1px solid gray;flex-grow: 1;}#sk-container-id-2 div.sk-label:hover label.sk-toggleable__label {background-color: #d4ebff;}#sk-container-id-2 div.sk-serial::before {content: \"\";position: absolute;border-left: 1px solid gray;box-sizing: border-box;top: 0;bottom: 0;left: 50%;z-index: 0;}#sk-container-id-2 div.sk-serial {display: flex;flex-direction: column;align-items: center;background-color: white;padding-right: 0.2em;padding-left: 0.2em;position: relative;}#sk-container-id-2 div.sk-item {position: relative;z-index: 1;}#sk-container-id-2 div.sk-parallel {display: flex;align-items: stretch;justify-content: center;background-color: white;position: relative;}#sk-container-id-2 div.sk-item::before, #sk-container-id-2 div.sk-parallel-item::before {content: \"\";position: absolute;border-left: 1px solid gray;box-sizing: border-box;top: 0;bottom: 0;left: 50%;z-index: -1;}#sk-container-id-2 div.sk-parallel-item {display: flex;flex-direction: column;z-index: 1;position: relative;background-color: white;}#sk-container-id-2 div.sk-parallel-item:first-child::after {align-self: flex-end;width: 50%;}#sk-container-id-2 div.sk-parallel-item:last-child::after {align-self: flex-start;width: 50%;}#sk-container-id-2 div.sk-parallel-item:only-child::after {width: 0;}#sk-container-id-2 div.sk-dashed-wrapped {border: 1px dashed gray;margin: 0 0.4em 0.5em 0.4em;box-sizing: border-box;padding-bottom: 0.4em;background-color: white;}#sk-container-id-2 div.sk-label label {font-family: monospace;font-weight: bold;display: inline-block;line-height: 1.2em;}#sk-container-id-2 div.sk-label-container {text-align: center;}#sk-container-id-2 div.sk-container {/* jupyter's `normalize.less` sets `[hidden] { display: none; }` but bootstrap.min.css set `[hidden] { display: none !important; }` so we also need the `!important` here to be able to override the default hidden behavior on the sphinx rendered scikit-learn.org. See: https://github.com/scikit-learn/scikit-learn/issues/21755 */display: inline-block !important;position: relative;}#sk-container-id-2 div.sk-text-repr-fallback {display: none;}</style><div id=\"sk-container-id-2\" class=\"sk-top-container\"><div class=\"sk-text-repr-fallback\"><pre>GridSearchCV(cv=3, estimator=LGBMRegressor(), n_jobs=-1,\n",
       "             param_grid={&#x27;max_depth&#x27;: [10, 15, 20]},\n",
       "             scoring=&#x27;neg_mean_absolute_error&#x27;)</pre><b>In a Jupyter environment, please rerun this cell to show the HTML representation or trust the notebook. <br />On GitHub, the HTML representation is unable to render, please try loading this page with nbviewer.org.</b></div><div class=\"sk-container\" hidden><div class=\"sk-item sk-dashed-wrapped\"><div class=\"sk-label-container\"><div class=\"sk-label sk-toggleable\"><input class=\"sk-toggleable__control sk-hidden--visually\" id=\"sk-estimator-id-2\" type=\"checkbox\" ><label for=\"sk-estimator-id-2\" class=\"sk-toggleable__label sk-toggleable__label-arrow\">GridSearchCV</label><div class=\"sk-toggleable__content\"><pre>GridSearchCV(cv=3, estimator=LGBMRegressor(), n_jobs=-1,\n",
       "             param_grid={&#x27;max_depth&#x27;: [10, 15, 20]},\n",
       "             scoring=&#x27;neg_mean_absolute_error&#x27;)</pre></div></div></div><div class=\"sk-parallel\"><div class=\"sk-parallel-item\"><div class=\"sk-item\"><div class=\"sk-label-container\"><div class=\"sk-label sk-toggleable\"><input class=\"sk-toggleable__control sk-hidden--visually\" id=\"sk-estimator-id-3\" type=\"checkbox\" ><label for=\"sk-estimator-id-3\" class=\"sk-toggleable__label sk-toggleable__label-arrow\">estimator: LGBMRegressor</label><div class=\"sk-toggleable__content\"><pre>LGBMRegressor()</pre></div></div></div><div class=\"sk-serial\"><div class=\"sk-item\"><div class=\"sk-estimator sk-toggleable\"><input class=\"sk-toggleable__control sk-hidden--visually\" id=\"sk-estimator-id-4\" type=\"checkbox\" ><label for=\"sk-estimator-id-4\" class=\"sk-toggleable__label sk-toggleable__label-arrow\">LGBMRegressor</label><div class=\"sk-toggleable__content\"><pre>LGBMRegressor()</pre></div></div></div></div></div></div></div></div></div></div>"
      ],
      "text/plain": [
       "GridSearchCV(cv=3, estimator=LGBMRegressor(), n_jobs=-1,\n",
       "             param_grid={'max_depth': [10, 15, 20]},\n",
       "             scoring='neg_mean_absolute_error')"
      ]
     },
     "execution_count": 51,
     "metadata": {},
     "output_type": "execute_result"
    }
   ],
   "source": [
    "%%time\n",
    "model_lgb = lgb.LGBMRegressor()\n",
    "\n",
    "params = {'max_depth': [10, 15, 20],}\n",
    "\n",
    "grid_search = GridSearchCV(estimator=model_lgb, param_grid=params, cv=3, n_jobs =-1, verbose=0, scoring='neg_mean_absolute_error')\n",
    "\n",
    "grid_search.fit(features_train_lgb, target_train_lgb)"
   ]
  },
  {
   "cell_type": "code",
   "execution_count": 52,
   "metadata": {},
   "outputs": [
    {
     "name": "stdout",
     "output_type": "stream",
     "text": [
      "Наилучшие параметры для LightGBM: {'max_depth': 10}\n"
     ]
    }
   ],
   "source": [
    "print('Наилучшие параметры для LightGBM:', grid_search.best_params_)"
   ]
  },
  {
   "cell_type": "code",
   "execution_count": 54,
   "metadata": {},
   "outputs": [],
   "source": [
    "pred_valid_lgb = grid_search.best_estimator_.predict(features_valid_lgb)"
   ]
  },
  {
   "cell_type": "code",
   "execution_count": 55,
   "metadata": {},
   "outputs": [
    {
     "name": "stdout",
     "output_type": "stream",
     "text": [
      "1619.626780859252\n"
     ]
    }
   ],
   "source": [
    "print(mean_squared_error(target_valid_lgb, pred_valid_lgb) ** 0.5)"
   ]
  },
  {
   "cell_type": "markdown",
   "metadata": {},
   "source": [
    "Построили модель линейной регрессии, модель Lasso (со значениями параметра alpha, равными 1, 11, 21, 31, 41, 51). Модель  LightGBM. Получили, что лучшей является модель - LightGBM (с глубиной - 15), значение метрики RMSE на валидационной выборке - 1619.6 (что является наименьшим показателем среди всех моделей)"
   ]
  },
  {
   "cell_type": "code",
   "execution_count": 56,
   "metadata": {},
   "outputs": [
    {
     "data": {
      "text/plain": [
       "{'mean_fit_time': array([123.31985513,   3.78812488,   4.85691214]),\n",
       " 'std_fit_time': array([110.62986265,   0.21223518,   0.40462213]),\n",
       " 'mean_score_time': array([0.56232985, 0.5168488 , 0.53634357]),\n",
       " 'std_score_time': array([0.04074518, 0.00770297, 0.03907403]),\n",
       " 'param_max_depth': masked_array(data=[10, 15, 20],\n",
       "              mask=[False, False, False],\n",
       "        fill_value='?',\n",
       "             dtype=object),\n",
       " 'params': [{'max_depth': 10}, {'max_depth': 15}, {'max_depth': 20}],\n",
       " 'split0_test_score': array([-1028.88121625, -1029.91180817, -1029.91180817]),\n",
       " 'split1_test_score': array([-1036.27710938, -1036.47095253, -1036.47095253]),\n",
       " 'split2_test_score': array([-1047.95427662, -1048.26466522, -1048.26466522]),\n",
       " 'mean_test_score': array([-1037.70420075, -1038.21580864, -1038.21580864]),\n",
       " 'std_test_score': array([7.85166014, 7.59342842, 7.59342842]),\n",
       " 'rank_test_score': array([1, 2, 2], dtype=int32)}"
      ]
     },
     "execution_count": 56,
     "metadata": {},
     "output_type": "execute_result"
    }
   ],
   "source": [
    "grid_search.cv_results_"
   ]
  },
  {
   "cell_type": "markdown",
   "metadata": {},
   "source": [
    "Получили, что время обучения модели равно 5.3 с, а время предсказания - 0.74 с. "
   ]
  },
  {
   "cell_type": "markdown",
   "metadata": {},
   "source": [
    "## Анализ моделей"
   ]
  },
  {
   "cell_type": "markdown",
   "metadata": {},
   "source": [
    "Оценим выбранную нами модель на тестовой выборке"
   ]
  },
  {
   "cell_type": "code",
   "execution_count": 57,
   "metadata": {},
   "outputs": [
    {
     "name": "stdout",
     "output_type": "stream",
     "text": [
      "Метрика RMSE для лучшей модели: 1624.3687576510818\n",
      "CPU times: user 792 ms, sys: 0 ns, total: 792 ms\n",
      "Wall time: 766 ms\n"
     ]
    }
   ],
   "source": [
    "%%time\n",
    "pred_test_lgb = grid_search.best_estimator_.predict(features_test_lgb)\n",
    "print('Метрика RMSE для лучшей модели:', mean_squared_error(target_test_lgb, pred_test_lgb) ** 0.5)"
   ]
  },
  {
   "cell_type": "markdown",
   "metadata": {},
   "source": [
    "Получили, что метрика RMSE для модели LightGBM на тестовой выборке равна 1576, время выполняения ячейки равно 735 мс."
   ]
  },
  {
   "cell_type": "markdown",
   "metadata": {},
   "source": [
    "**Вывод:** для построения модели машинного обучения провели первичную обработку данных: удалили аномальные значения, избавились от явных дубликатов, заполнинли пропуски. Также перевели категориальные признаки в численные, промасштабировали численные признаки. Построили три типа моделей МО: линейную регрессию, модель Lasso и LightGBM, подабрали для последних двух гиперпараметры. Наилучшей оказалась модель LightGBM с макисмальной глубиной, равной 10. ЕЕ метрика RMSE на тестовой выборке равна 1608.24, а время предсказывания равно 749 мс. "
   ]
  }
 ],
 "metadata": {
  "ExecuteTimeLog": [
   {
    "duration": 426,
    "start_time": "2023-09-21T14:21:50.045Z"
   },
   {
    "duration": 1461,
    "start_time": "2023-09-21T14:21:50.523Z"
   },
   {
    "duration": 28,
    "start_time": "2023-09-21T14:21:58.571Z"
   },
   {
    "duration": 421,
    "start_time": "2023-09-27T09:56:34.818Z"
   },
   {
    "duration": 2836,
    "start_time": "2023-09-27T09:56:35.663Z"
   },
   {
    "duration": 18,
    "start_time": "2023-09-27T09:56:38.501Z"
   },
   {
    "duration": 137,
    "start_time": "2023-09-27T09:57:00.429Z"
   },
   {
    "duration": 133,
    "start_time": "2023-09-27T09:57:10.468Z"
   },
   {
    "duration": 132,
    "start_time": "2023-09-27T09:58:06.226Z"
   },
   {
    "duration": 443,
    "start_time": "2023-10-06T07:09:46.161Z"
   },
   {
    "duration": 1304,
    "start_time": "2023-10-06T07:09:46.606Z"
   },
   {
    "duration": 26,
    "start_time": "2023-10-06T07:09:47.913Z"
   },
   {
    "duration": 229,
    "start_time": "2023-10-06T07:09:47.941Z"
   },
   {
    "duration": 175,
    "start_time": "2023-10-06T07:09:50.344Z"
   },
   {
    "duration": 154,
    "start_time": "2023-10-06T07:10:00.514Z"
   },
   {
    "duration": 170,
    "start_time": "2023-10-06T07:10:09.998Z"
   },
   {
    "duration": 62,
    "start_time": "2023-10-06T07:11:07.511Z"
   },
   {
    "duration": 48,
    "start_time": "2023-10-06T07:11:36.923Z"
   },
   {
    "duration": 151,
    "start_time": "2023-10-06T08:22:46.920Z"
   },
   {
    "duration": 702,
    "start_time": "2023-10-06T08:24:04.715Z"
   },
   {
    "duration": 176,
    "start_time": "2023-10-06T08:24:25.565Z"
   },
   {
    "duration": 158,
    "start_time": "2023-10-06T08:24:29.835Z"
   },
   {
    "duration": 160,
    "start_time": "2023-10-06T08:24:34.161Z"
   },
   {
    "duration": 80,
    "start_time": "2023-10-06T08:25:57.210Z"
   },
   {
    "duration": 89,
    "start_time": "2023-10-06T08:26:27.536Z"
   },
   {
    "duration": 159,
    "start_time": "2023-10-06T08:26:35.251Z"
   },
   {
    "duration": 938,
    "start_time": "2023-10-06T08:32:08.318Z"
   },
   {
    "duration": 898,
    "start_time": "2023-10-06T08:32:25.824Z"
   },
   {
    "duration": 13,
    "start_time": "2023-10-06T08:34:17.164Z"
   },
   {
    "duration": 22,
    "start_time": "2023-10-06T08:34:22.539Z"
   },
   {
    "duration": 139,
    "start_time": "2023-10-06T08:35:03.745Z"
   },
   {
    "duration": 3,
    "start_time": "2023-10-06T08:35:10.281Z"
   },
   {
    "duration": 14,
    "start_time": "2023-10-06T08:35:53.517Z"
   },
   {
    "duration": 754,
    "start_time": "2023-10-06T08:36:36.510Z"
   },
   {
    "duration": 3,
    "start_time": "2023-10-06T08:36:51.946Z"
   },
   {
    "duration": 769,
    "start_time": "2023-10-06T08:37:02.481Z"
   },
   {
    "duration": 673,
    "start_time": "2023-10-06T08:37:11.112Z"
   },
   {
    "duration": 1022,
    "start_time": "2023-10-06T08:37:24.818Z"
   },
   {
    "duration": 806,
    "start_time": "2023-10-06T08:37:34.029Z"
   },
   {
    "duration": 798,
    "start_time": "2023-10-06T08:37:42.529Z"
   },
   {
    "duration": 599,
    "start_time": "2023-10-06T08:42:21.610Z"
   },
   {
    "duration": 616,
    "start_time": "2023-10-06T08:42:41.085Z"
   },
   {
    "duration": 618,
    "start_time": "2023-10-06T08:42:46.110Z"
   },
   {
    "duration": 607,
    "start_time": "2023-10-06T08:42:52.018Z"
   },
   {
    "duration": 958,
    "start_time": "2023-10-06T08:42:58.010Z"
   },
   {
    "duration": 866,
    "start_time": "2023-10-06T08:43:15.596Z"
   },
   {
    "duration": 853,
    "start_time": "2023-10-06T08:43:48.082Z"
   },
   {
    "duration": 987,
    "start_time": "2023-10-06T08:43:57.886Z"
   },
   {
    "duration": 39,
    "start_time": "2023-10-06T08:44:20.927Z"
   },
   {
    "duration": 20,
    "start_time": "2023-10-06T08:44:28.488Z"
   },
   {
    "duration": 12,
    "start_time": "2023-10-06T08:45:12.847Z"
   },
   {
    "duration": 56,
    "start_time": "2023-10-06T08:47:01.078Z"
   },
   {
    "duration": 7,
    "start_time": "2023-10-06T08:47:05.662Z"
   },
   {
    "duration": 183,
    "start_time": "2023-10-06T08:47:29.542Z"
   },
   {
    "duration": 163,
    "start_time": "2023-10-06T08:47:35.834Z"
   },
   {
    "duration": 176,
    "start_time": "2023-10-06T08:48:00.067Z"
   },
   {
    "duration": 3,
    "start_time": "2023-10-06T08:48:39.607Z"
   },
   {
    "duration": 168,
    "start_time": "2023-10-06T08:48:43.171Z"
   },
   {
    "duration": 163,
    "start_time": "2023-10-06T08:48:58.823Z"
   },
   {
    "duration": 173,
    "start_time": "2023-10-06T08:49:24.489Z"
   },
   {
    "duration": 6,
    "start_time": "2023-10-06T08:49:31.586Z"
   },
   {
    "duration": 59,
    "start_time": "2023-10-06T08:49:32.186Z"
   },
   {
    "duration": 168,
    "start_time": "2023-10-06T08:49:41.080Z"
   },
   {
    "duration": 286,
    "start_time": "2023-10-06T08:49:52.519Z"
   },
   {
    "duration": 238,
    "start_time": "2023-10-06T08:49:58.904Z"
   },
   {
    "duration": 347,
    "start_time": "2023-10-06T08:50:03.502Z"
   },
   {
    "duration": 901,
    "start_time": "2023-10-06T08:50:09.136Z"
   },
   {
    "duration": 2352,
    "start_time": "2023-10-06T08:50:13.672Z"
   },
   {
    "duration": 3929,
    "start_time": "2023-10-06T08:50:25.636Z"
   },
   {
    "duration": 168,
    "start_time": "2023-10-06T08:50:43.327Z"
   },
   {
    "duration": 803,
    "start_time": "2023-10-06T08:51:06.470Z"
   },
   {
    "duration": 168,
    "start_time": "2023-10-06T08:51:44.857Z"
   },
   {
    "duration": 160,
    "start_time": "2023-10-06T08:52:08.422Z"
   },
   {
    "duration": 176,
    "start_time": "2023-10-06T08:52:26.664Z"
   },
   {
    "duration": 9,
    "start_time": "2023-10-06T08:52:44.824Z"
   },
   {
    "duration": 7,
    "start_time": "2023-10-06T08:53:09.619Z"
   },
   {
    "duration": 47,
    "start_time": "2023-10-06T08:56:23.462Z"
   },
   {
    "duration": 7,
    "start_time": "2023-10-06T08:56:29.484Z"
   },
   {
    "duration": 190,
    "start_time": "2023-10-06T08:56:54.093Z"
   },
   {
    "duration": 536,
    "start_time": "2023-10-06T08:56:57.904Z"
   },
   {
    "duration": 185,
    "start_time": "2023-10-06T08:57:05.075Z"
   },
   {
    "duration": 149,
    "start_time": "2023-10-06T08:57:19.171Z"
   },
   {
    "duration": 180,
    "start_time": "2023-10-06T08:57:59.166Z"
   },
   {
    "duration": 147,
    "start_time": "2023-10-06T08:58:29.133Z"
   },
   {
    "duration": 277,
    "start_time": "2023-10-06T08:58:31.991Z"
   },
   {
    "duration": 213,
    "start_time": "2023-10-06T08:58:40.247Z"
   },
   {
    "duration": 205,
    "start_time": "2023-10-06T08:58:47.581Z"
   },
   {
    "duration": 334,
    "start_time": "2023-10-06T08:58:52.804Z"
   },
   {
    "duration": 573,
    "start_time": "2023-10-06T08:58:56.659Z"
   },
   {
    "duration": 493,
    "start_time": "2023-10-06T08:59:40.302Z"
   },
   {
    "duration": 507,
    "start_time": "2023-10-06T08:59:48.614Z"
   },
   {
    "duration": 25,
    "start_time": "2023-10-06T09:00:18.845Z"
   },
   {
    "duration": 335,
    "start_time": "2023-10-06T09:00:43.064Z"
   },
   {
    "duration": 178,
    "start_time": "2023-10-06T09:00:48.878Z"
   },
   {
    "duration": 195,
    "start_time": "2023-10-06T09:00:56.898Z"
   },
   {
    "duration": 230,
    "start_time": "2023-10-06T09:01:04.161Z"
   },
   {
    "duration": 382,
    "start_time": "2023-10-06T09:01:08.517Z"
   },
   {
    "duration": 16,
    "start_time": "2023-10-06T09:01:43.348Z"
   },
   {
    "duration": 31,
    "start_time": "2023-10-06T09:01:51.991Z"
   },
   {
    "duration": 6,
    "start_time": "2023-10-06T09:03:18.949Z"
   },
   {
    "duration": 121,
    "start_time": "2023-10-06T09:04:03.453Z"
   },
   {
    "duration": 42,
    "start_time": "2023-10-06T09:04:09.234Z"
   },
   {
    "duration": 53,
    "start_time": "2023-10-06T09:04:22.963Z"
   },
   {
    "duration": 41,
    "start_time": "2023-10-06T09:04:33.769Z"
   },
   {
    "duration": 45,
    "start_time": "2023-10-06T09:04:34.633Z"
   },
   {
    "duration": 15,
    "start_time": "2023-10-06T09:04:38.254Z"
   },
   {
    "duration": 48,
    "start_time": "2023-10-06T09:04:42.686Z"
   },
   {
    "duration": 10,
    "start_time": "2023-10-06T09:04:48.553Z"
   },
   {
    "duration": 37,
    "start_time": "2023-10-06T09:04:55.155Z"
   },
   {
    "duration": 24,
    "start_time": "2023-10-06T09:05:04.076Z"
   },
   {
    "duration": 27,
    "start_time": "2023-10-06T09:05:04.989Z"
   },
   {
    "duration": 10,
    "start_time": "2023-10-06T09:05:37.565Z"
   },
   {
    "duration": 8,
    "start_time": "2023-10-06T09:05:38.403Z"
   },
   {
    "duration": 742,
    "start_time": "2023-10-06T09:06:10.147Z"
   },
   {
    "duration": 929,
    "start_time": "2023-10-06T09:06:10.892Z"
   },
   {
    "duration": 27,
    "start_time": "2023-10-06T09:06:11.823Z"
   },
   {
    "duration": 241,
    "start_time": "2023-10-06T09:06:11.853Z"
   },
   {
    "duration": 191,
    "start_time": "2023-10-06T09:06:12.096Z"
   },
   {
    "duration": 301,
    "start_time": "2023-10-06T09:06:12.289Z"
   },
   {
    "duration": 89,
    "start_time": "2023-10-06T09:06:12.592Z"
   },
   {
    "duration": 910,
    "start_time": "2023-10-06T09:06:12.683Z"
   },
   {
    "duration": 847,
    "start_time": "2023-10-06T09:06:13.595Z"
   },
   {
    "duration": 22,
    "start_time": "2023-10-06T09:06:14.446Z"
   },
   {
    "duration": 212,
    "start_time": "2023-10-06T09:06:14.469Z"
   },
   {
    "duration": 22,
    "start_time": "2023-10-06T09:06:14.683Z"
   },
   {
    "duration": 573,
    "start_time": "2023-10-06T09:06:14.706Z"
   },
   {
    "duration": 621,
    "start_time": "2023-10-06T09:06:15.282Z"
   },
   {
    "duration": 219,
    "start_time": "2023-10-06T09:06:15.906Z"
   },
   {
    "duration": 21,
    "start_time": "2023-10-06T09:06:16.127Z"
   },
   {
    "duration": 65,
    "start_time": "2023-10-06T09:06:16.149Z"
   },
   {
    "duration": 878,
    "start_time": "2023-10-06T09:06:16.216Z"
   },
   {
    "duration": 6,
    "start_time": "2023-10-06T09:06:17.097Z"
   },
   {
    "duration": 70,
    "start_time": "2023-10-06T09:06:17.105Z"
   },
   {
    "duration": 370,
    "start_time": "2023-10-06T09:06:17.177Z"
   },
   {
    "duration": 98,
    "start_time": "2023-10-06T09:06:17.549Z"
   },
   {
    "duration": 10,
    "start_time": "2023-10-06T09:06:17.648Z"
   },
   {
    "duration": 10,
    "start_time": "2023-10-06T09:06:30.275Z"
   },
   {
    "duration": 183,
    "start_time": "2023-10-06T09:08:08.521Z"
   },
   {
    "duration": 200,
    "start_time": "2023-10-06T09:08:29.337Z"
   },
   {
    "duration": 4,
    "start_time": "2023-10-06T09:13:12.588Z"
   },
   {
    "duration": 91,
    "start_time": "2023-10-06T09:13:31.865Z"
   },
   {
    "duration": 4,
    "start_time": "2023-10-06T09:13:40.362Z"
   },
   {
    "duration": 23,
    "start_time": "2023-10-06T09:13:42.876Z"
   },
   {
    "duration": 17,
    "start_time": "2023-10-06T09:13:43.743Z"
   },
   {
    "duration": 32,
    "start_time": "2023-10-06T09:14:06.841Z"
   },
   {
    "duration": 12,
    "start_time": "2023-10-06T09:14:26.718Z"
   },
   {
    "duration": 42,
    "start_time": "2023-10-06T09:14:45.645Z"
   },
   {
    "duration": 14,
    "start_time": "2023-10-06T09:14:46.368Z"
   },
   {
    "duration": 42,
    "start_time": "2023-10-06T09:15:33.683Z"
   },
   {
    "duration": 13,
    "start_time": "2023-10-06T09:15:33.920Z"
   },
   {
    "duration": 769,
    "start_time": "2023-10-06T09:18:17.500Z"
   },
   {
    "duration": 994,
    "start_time": "2023-10-06T09:18:18.271Z"
   },
   {
    "duration": 17,
    "start_time": "2023-10-06T09:18:19.267Z"
   },
   {
    "duration": 173,
    "start_time": "2023-10-06T09:18:19.286Z"
   },
   {
    "duration": 167,
    "start_time": "2023-10-06T09:18:19.460Z"
   },
   {
    "duration": 226,
    "start_time": "2023-10-06T09:18:19.629Z"
   },
   {
    "duration": 122,
    "start_time": "2023-10-06T09:18:19.857Z"
   },
   {
    "duration": 969,
    "start_time": "2023-10-06T09:18:19.981Z"
   },
   {
    "duration": 897,
    "start_time": "2023-10-06T09:18:20.952Z"
   },
   {
    "duration": 32,
    "start_time": "2023-10-06T09:18:21.852Z"
   },
   {
    "duration": 188,
    "start_time": "2023-10-06T09:18:21.887Z"
   },
   {
    "duration": 51,
    "start_time": "2023-10-06T09:18:22.077Z"
   },
   {
    "duration": 619,
    "start_time": "2023-10-06T09:18:22.130Z"
   },
   {
    "duration": 613,
    "start_time": "2023-10-06T09:18:22.751Z"
   },
   {
    "duration": 194,
    "start_time": "2023-10-06T09:18:23.366Z"
   },
   {
    "duration": 14,
    "start_time": "2023-10-06T09:18:23.562Z"
   },
   {
    "duration": 80,
    "start_time": "2023-10-06T09:18:23.578Z"
   },
   {
    "duration": 8,
    "start_time": "2023-10-06T09:18:23.660Z"
   },
   {
    "duration": 56,
    "start_time": "2023-10-06T09:18:23.670Z"
   },
   {
    "duration": 450,
    "start_time": "2023-10-06T09:18:23.729Z"
   },
   {
    "duration": 104,
    "start_time": "2023-10-06T09:18:24.181Z"
   },
   {
    "duration": 4,
    "start_time": "2023-10-06T09:18:24.286Z"
   },
   {
    "duration": 80,
    "start_time": "2023-10-06T09:18:24.293Z"
   },
   {
    "duration": 28,
    "start_time": "2023-10-06T09:18:24.374Z"
   },
   {
    "duration": 18,
    "start_time": "2023-10-06T09:18:24.404Z"
   },
   {
    "duration": 6,
    "start_time": "2023-10-06T09:19:20.224Z"
   },
   {
    "duration": 740,
    "start_time": "2023-10-06T09:20:42.171Z"
   },
   {
    "duration": 968,
    "start_time": "2023-10-06T09:20:42.913Z"
   },
   {
    "duration": 19,
    "start_time": "2023-10-06T09:20:43.883Z"
   },
   {
    "duration": 186,
    "start_time": "2023-10-06T09:20:43.905Z"
   },
   {
    "duration": 214,
    "start_time": "2023-10-06T09:20:44.093Z"
   },
   {
    "duration": 229,
    "start_time": "2023-10-06T09:20:44.309Z"
   },
   {
    "duration": 88,
    "start_time": "2023-10-06T09:20:44.541Z"
   },
   {
    "duration": 313,
    "start_time": "2023-10-06T09:20:44.630Z"
   },
   {
    "duration": 296,
    "start_time": "2023-10-06T09:20:44.945Z"
   },
   {
    "duration": 28,
    "start_time": "2023-10-06T09:20:45.247Z"
   },
   {
    "duration": 203,
    "start_time": "2023-10-06T09:20:45.278Z"
   },
   {
    "duration": 24,
    "start_time": "2023-10-06T09:20:45.484Z"
   },
   {
    "duration": 537,
    "start_time": "2023-10-06T09:20:45.510Z"
   },
   {
    "duration": 499,
    "start_time": "2023-10-06T09:20:46.049Z"
   },
   {
    "duration": 199,
    "start_time": "2023-10-06T09:20:46.550Z"
   },
   {
    "duration": 12,
    "start_time": "2023-10-06T09:20:46.751Z"
   },
   {
    "duration": 60,
    "start_time": "2023-10-06T09:20:46.765Z"
   },
   {
    "duration": 26,
    "start_time": "2023-10-06T09:20:46.827Z"
   },
   {
    "duration": 74,
    "start_time": "2023-10-06T09:20:46.855Z"
   },
   {
    "duration": 429,
    "start_time": "2023-10-06T09:20:46.931Z"
   },
   {
    "duration": 105,
    "start_time": "2023-10-06T09:20:47.361Z"
   },
   {
    "duration": 4,
    "start_time": "2023-10-06T09:20:47.468Z"
   },
   {
    "duration": 54,
    "start_time": "2023-10-06T09:20:47.474Z"
   },
   {
    "duration": 19,
    "start_time": "2023-10-06T09:20:47.529Z"
   },
   {
    "duration": 30,
    "start_time": "2023-10-06T09:20:47.550Z"
   },
   {
    "duration": 17,
    "start_time": "2023-10-06T09:20:47.582Z"
   },
   {
    "duration": 72,
    "start_time": "2023-10-06T09:28:01.320Z"
   },
   {
    "duration": 83,
    "start_time": "2023-10-06T09:36:45.050Z"
   },
   {
    "duration": 25,
    "start_time": "2023-10-06T09:36:51.051Z"
   },
   {
    "duration": 16,
    "start_time": "2023-10-06T09:40:06.018Z"
   },
   {
    "duration": 1343,
    "start_time": "2023-10-06T09:42:46.546Z"
   },
   {
    "duration": 5,
    "start_time": "2023-10-06T09:43:13.881Z"
   },
   {
    "duration": 89,
    "start_time": "2023-10-06T09:44:17.868Z"
   },
   {
    "duration": 47,
    "start_time": "2023-10-06T09:44:30.903Z"
   },
   {
    "duration": 4,
    "start_time": "2023-10-06T09:44:35.029Z"
   },
   {
    "duration": 4,
    "start_time": "2023-10-06T09:45:40.619Z"
   },
   {
    "duration": 4,
    "start_time": "2023-10-06T09:48:58.501Z"
   },
   {
    "duration": 39,
    "start_time": "2023-10-06T09:53:03.986Z"
   },
   {
    "duration": 94,
    "start_time": "2023-10-06T09:53:13.290Z"
   },
   {
    "duration": 14,
    "start_time": "2023-10-06T09:53:46.046Z"
   },
   {
    "duration": 102,
    "start_time": "2023-10-06T09:53:57.653Z"
   },
   {
    "duration": 1482,
    "start_time": "2023-10-06T09:54:51.302Z"
   },
   {
    "duration": 1504,
    "start_time": "2023-10-06T09:55:03.794Z"
   },
   {
    "duration": 26,
    "start_time": "2023-10-06T09:55:36.688Z"
   },
   {
    "duration": 3095,
    "start_time": "2023-10-06T09:55:57.605Z"
   },
   {
    "duration": 7748,
    "start_time": "2023-10-06T09:57:24.469Z"
   },
   {
    "duration": 1525,
    "start_time": "2023-10-06T09:57:40.997Z"
   },
   {
    "duration": 4,
    "start_time": "2023-10-06T09:58:10.438Z"
   },
   {
    "duration": 9,
    "start_time": "2023-10-06T09:58:21.203Z"
   },
   {
    "duration": 14,
    "start_time": "2023-10-06T09:58:35.405Z"
   },
   {
    "duration": 5,
    "start_time": "2023-10-06T09:59:15.357Z"
   },
   {
    "duration": 5,
    "start_time": "2023-10-06T09:59:54.405Z"
   },
   {
    "duration": 3091,
    "start_time": "2023-10-06T09:59:56.425Z"
   },
   {
    "duration": 5,
    "start_time": "2023-10-06T10:00:04.796Z"
   },
   {
    "duration": 1329,
    "start_time": "2023-10-06T10:00:37.495Z"
   },
   {
    "duration": 7,
    "start_time": "2023-10-06T10:00:38.827Z"
   },
   {
    "duration": 3086,
    "start_time": "2023-10-06T10:00:38.835Z"
   },
   {
    "duration": 1005,
    "start_time": "2023-10-06T10:00:41.923Z"
   },
   {
    "duration": 30,
    "start_time": "2023-10-06T10:00:42.931Z"
   },
   {
    "duration": 200,
    "start_time": "2023-10-06T10:00:42.963Z"
   },
   {
    "duration": 182,
    "start_time": "2023-10-06T10:00:43.165Z"
   },
   {
    "duration": 236,
    "start_time": "2023-10-06T10:00:43.349Z"
   },
   {
    "duration": 109,
    "start_time": "2023-10-06T10:00:43.588Z"
   },
   {
    "duration": 318,
    "start_time": "2023-10-06T10:00:43.699Z"
   },
   {
    "duration": 318,
    "start_time": "2023-10-06T10:00:44.019Z"
   },
   {
    "duration": 23,
    "start_time": "2023-10-06T10:00:44.339Z"
   },
   {
    "duration": 155,
    "start_time": "2023-10-06T10:00:44.365Z"
   },
   {
    "duration": 29,
    "start_time": "2023-10-06T10:00:44.524Z"
   },
   {
    "duration": 531,
    "start_time": "2023-10-06T10:00:44.555Z"
   },
   {
    "duration": 561,
    "start_time": "2023-10-06T10:00:45.088Z"
   },
   {
    "duration": 257,
    "start_time": "2023-10-06T10:00:45.651Z"
   },
   {
    "duration": 12,
    "start_time": "2023-10-06T10:00:45.910Z"
   },
   {
    "duration": 74,
    "start_time": "2023-10-06T10:00:45.924Z"
   },
   {
    "duration": 8,
    "start_time": "2023-10-06T10:00:45.999Z"
   },
   {
    "duration": 77,
    "start_time": "2023-10-06T10:00:46.009Z"
   },
   {
    "duration": 402,
    "start_time": "2023-10-06T10:00:46.088Z"
   },
   {
    "duration": 100,
    "start_time": "2023-10-06T10:00:46.492Z"
   },
   {
    "duration": 4,
    "start_time": "2023-10-06T10:00:46.594Z"
   },
   {
    "duration": 38,
    "start_time": "2023-10-06T10:00:46.600Z"
   },
   {
    "duration": 19,
    "start_time": "2023-10-06T10:00:46.648Z"
   },
   {
    "duration": 21,
    "start_time": "2023-10-06T10:00:46.669Z"
   },
   {
    "duration": 43,
    "start_time": "2023-10-06T10:00:46.692Z"
   },
   {
    "duration": 40,
    "start_time": "2023-10-06T10:00:46.738Z"
   },
   {
    "duration": 26,
    "start_time": "2023-10-06T10:00:46.780Z"
   },
   {
    "duration": 100,
    "start_time": "2023-10-06T10:00:46.808Z"
   },
   {
    "duration": 1587,
    "start_time": "2023-10-06T10:00:46.911Z"
   },
   {
    "duration": 22,
    "start_time": "2023-10-06T10:01:25.015Z"
   },
   {
    "duration": 5575,
    "start_time": "2023-10-06T10:01:30.209Z"
   },
   {
    "duration": 15,
    "start_time": "2023-10-06T10:04:08.790Z"
   },
   {
    "duration": 101,
    "start_time": "2023-10-06T10:04:24.939Z"
   },
   {
    "duration": 1403,
    "start_time": "2023-10-06T10:04:28.640Z"
   },
   {
    "duration": 4,
    "start_time": "2023-10-06T10:05:03.595Z"
   },
   {
    "duration": 466,
    "start_time": "2023-10-06T10:06:38.355Z"
   },
   {
    "duration": 1740,
    "start_time": "2023-10-06T12:22:12.701Z"
   },
   {
    "duration": 6,
    "start_time": "2023-10-06T12:22:14.443Z"
   },
   {
    "duration": 7537,
    "start_time": "2023-10-06T12:22:14.953Z"
   },
   {
    "duration": 6,
    "start_time": "2023-10-06T12:22:25.126Z"
   },
   {
    "duration": 1372,
    "start_time": "2023-10-06T12:22:31.219Z"
   },
   {
    "duration": 6,
    "start_time": "2023-10-06T12:22:32.593Z"
   },
   {
    "duration": 2988,
    "start_time": "2023-10-06T12:22:32.601Z"
   },
   {
    "duration": 3,
    "start_time": "2023-10-06T12:22:35.592Z"
   },
   {
    "duration": 3261,
    "start_time": "2023-10-06T12:22:35.596Z"
   },
   {
    "duration": 24,
    "start_time": "2023-10-06T12:22:38.859Z"
   },
   {
    "duration": 204,
    "start_time": "2023-10-06T12:22:38.888Z"
   },
   {
    "duration": 170,
    "start_time": "2023-10-06T12:22:39.094Z"
   },
   {
    "duration": 211,
    "start_time": "2023-10-06T12:22:39.266Z"
   },
   {
    "duration": 91,
    "start_time": "2023-10-06T12:22:39.480Z"
   },
   {
    "duration": 297,
    "start_time": "2023-10-06T12:22:39.573Z"
   },
   {
    "duration": 288,
    "start_time": "2023-10-06T12:22:39.871Z"
   },
   {
    "duration": 22,
    "start_time": "2023-10-06T12:22:40.161Z"
   },
   {
    "duration": 158,
    "start_time": "2023-10-06T12:22:40.185Z"
   },
   {
    "duration": 17,
    "start_time": "2023-10-06T12:22:40.356Z"
   },
   {
    "duration": 511,
    "start_time": "2023-10-06T12:22:40.375Z"
   },
   {
    "duration": 539,
    "start_time": "2023-10-06T12:22:40.888Z"
   },
   {
    "duration": 201,
    "start_time": "2023-10-06T12:22:41.429Z"
   },
   {
    "duration": 25,
    "start_time": "2023-10-06T12:22:41.632Z"
   },
   {
    "duration": 64,
    "start_time": "2023-10-06T12:22:41.659Z"
   },
   {
    "duration": 7,
    "start_time": "2023-10-06T12:22:41.725Z"
   },
   {
    "duration": 81,
    "start_time": "2023-10-06T12:22:41.734Z"
   },
   {
    "duration": 371,
    "start_time": "2023-10-06T12:22:41.817Z"
   },
   {
    "duration": 117,
    "start_time": "2023-10-06T12:22:42.191Z"
   },
   {
    "duration": 3,
    "start_time": "2023-10-06T12:22:42.310Z"
   },
   {
    "duration": 46,
    "start_time": "2023-10-06T12:22:42.315Z"
   },
   {
    "duration": 20,
    "start_time": "2023-10-06T12:22:42.363Z"
   },
   {
    "duration": 14,
    "start_time": "2023-10-06T12:22:42.388Z"
   },
   {
    "duration": 29,
    "start_time": "2023-10-06T12:22:42.404Z"
   },
   {
    "duration": 11,
    "start_time": "2023-10-06T12:22:42.455Z"
   },
   {
    "duration": 101,
    "start_time": "2023-10-06T12:22:42.468Z"
   },
   {
    "duration": 6986,
    "start_time": "2023-10-06T12:22:42.570Z"
   },
   {
    "duration": 1480,
    "start_time": "2023-10-06T12:22:49.558Z"
   },
   {
    "duration": 206,
    "start_time": "2023-10-06T12:22:51.040Z"
   },
   {
    "duration": 89,
    "start_time": "2023-10-06T12:23:04.959Z"
   },
   {
    "duration": 2452,
    "start_time": "2023-10-06T12:23:09.055Z"
   },
   {
    "duration": 4,
    "start_time": "2023-10-06T12:23:19.771Z"
   },
   {
    "duration": 3221,
    "start_time": "2023-10-06T12:23:52.717Z"
   },
   {
    "duration": 16,
    "start_time": "2023-10-06T12:28:23.395Z"
   },
   {
    "duration": 4,
    "start_time": "2023-10-06T12:28:42.899Z"
   },
   {
    "duration": 10,
    "start_time": "2023-10-06T12:28:53.463Z"
   },
   {
    "duration": 7,
    "start_time": "2023-10-06T12:30:55.188Z"
   },
   {
    "duration": 3,
    "start_time": "2023-10-06T12:32:19.935Z"
   },
   {
    "duration": 11,
    "start_time": "2023-10-06T12:32:33.706Z"
   },
   {
    "duration": 4,
    "start_time": "2023-10-06T12:32:49.515Z"
   },
   {
    "duration": 3263,
    "start_time": "2023-10-06T12:35:06.459Z"
   },
   {
    "duration": 112,
    "start_time": "2023-10-06T12:36:46.554Z"
   },
   {
    "duration": 3282,
    "start_time": "2023-10-06T12:37:01.813Z"
   },
   {
    "duration": 120,
    "start_time": "2023-10-06T12:39:06.823Z"
   },
   {
    "duration": 3268,
    "start_time": "2023-10-06T12:39:25.008Z"
   },
   {
    "duration": 159,
    "start_time": "2023-10-06T12:40:40.542Z"
   },
   {
    "duration": 124,
    "start_time": "2023-10-06T12:40:49.989Z"
   },
   {
    "duration": 787,
    "start_time": "2023-10-06T12:41:15.399Z"
   },
   {
    "duration": 13,
    "start_time": "2023-10-06T12:41:35.101Z"
   },
   {
    "duration": 5,
    "start_time": "2023-10-06T12:41:39.798Z"
   },
   {
    "duration": 3,
    "start_time": "2023-10-06T12:45:21.787Z"
   },
   {
    "duration": 4,
    "start_time": "2023-10-06T12:45:22.146Z"
   },
   {
    "duration": 12,
    "start_time": "2023-10-06T12:47:12.953Z"
   },
   {
    "duration": 15,
    "start_time": "2023-10-06T12:47:47.484Z"
   },
   {
    "duration": 689,
    "start_time": "2023-10-06T12:48:02.891Z"
   },
   {
    "duration": 7,
    "start_time": "2023-10-06T12:48:23.821Z"
   },
   {
    "duration": 26,
    "start_time": "2023-10-06T12:50:45.091Z"
   },
   {
    "duration": 39,
    "start_time": "2023-10-06T12:51:19.944Z"
   },
   {
    "duration": 34842,
    "start_time": "2023-10-06T12:52:40.915Z"
   },
   {
    "duration": 44999,
    "start_time": "2023-10-06T12:53:15.761Z"
   },
   {
    "duration": 5,
    "start_time": "2023-10-06T12:54:00.764Z"
   },
   {
    "duration": 201,
    "start_time": "2023-10-06T12:56:55.379Z"
   },
   {
    "duration": 346861,
    "start_time": "2023-10-06T12:57:32.498Z"
   },
   {
    "duration": 1389,
    "start_time": "2023-10-06T13:50:31.501Z"
   },
   {
    "duration": 52,
    "start_time": "2023-10-06T13:52:31.912Z"
   },
   {
    "duration": 2000,
    "start_time": "2023-10-06T13:56:52.363Z"
   },
   {
    "duration": 6,
    "start_time": "2023-10-06T13:56:54.365Z"
   },
   {
    "duration": 2917,
    "start_time": "2023-10-06T13:56:54.373Z"
   },
   {
    "duration": 4,
    "start_time": "2023-10-06T13:56:57.293Z"
   },
   {
    "duration": 3236,
    "start_time": "2023-10-06T13:56:57.299Z"
   },
   {
    "duration": 20,
    "start_time": "2023-10-06T13:57:00.538Z"
   },
   {
    "duration": 198,
    "start_time": "2023-10-06T13:57:00.560Z"
   },
   {
    "duration": 162,
    "start_time": "2023-10-06T13:57:00.760Z"
   },
   {
    "duration": 234,
    "start_time": "2023-10-06T13:57:00.925Z"
   },
   {
    "duration": 105,
    "start_time": "2023-10-06T13:57:01.163Z"
   },
   {
    "duration": 311,
    "start_time": "2023-10-06T13:57:01.271Z"
   },
   {
    "duration": 298,
    "start_time": "2023-10-06T13:57:01.585Z"
   },
   {
    "duration": 24,
    "start_time": "2023-10-06T13:57:01.885Z"
   },
   {
    "duration": 177,
    "start_time": "2023-10-06T13:57:01.911Z"
   },
   {
    "duration": 15,
    "start_time": "2023-10-06T13:57:02.090Z"
   },
   {
    "duration": 520,
    "start_time": "2023-10-06T13:57:02.107Z"
   },
   {
    "duration": 516,
    "start_time": "2023-10-06T13:57:02.629Z"
   },
   {
    "duration": 209,
    "start_time": "2023-10-06T13:57:03.147Z"
   },
   {
    "duration": 15,
    "start_time": "2023-10-06T13:57:03.358Z"
   },
   {
    "duration": 82,
    "start_time": "2023-10-06T13:57:03.375Z"
   },
   {
    "duration": 54,
    "start_time": "2023-10-06T13:57:03.459Z"
   },
   {
    "duration": 554,
    "start_time": "2023-10-06T13:57:03.515Z"
   },
   {
    "duration": 363,
    "start_time": "2023-10-06T13:57:04.072Z"
   },
   {
    "duration": 118,
    "start_time": "2023-10-06T13:57:04.437Z"
   },
   {
    "duration": 118,
    "start_time": "2023-10-06T13:57:04.557Z"
   },
   {
    "duration": 89,
    "start_time": "2023-10-06T13:57:04.677Z"
   },
   {
    "duration": 19,
    "start_time": "2023-10-06T13:57:04.768Z"
   },
   {
    "duration": 14,
    "start_time": "2023-10-06T13:57:04.791Z"
   },
   {
    "duration": 54,
    "start_time": "2023-10-06T13:57:04.807Z"
   },
   {
    "duration": 14,
    "start_time": "2023-10-06T13:57:04.863Z"
   },
   {
    "duration": 92,
    "start_time": "2023-10-06T13:57:04.879Z"
   },
   {
    "duration": 7903,
    "start_time": "2023-10-06T13:57:04.973Z"
   },
   {
    "duration": 1562,
    "start_time": "2023-10-06T13:57:12.878Z"
   },
   {
    "duration": 36519,
    "start_time": "2023-10-06T13:57:14.442Z"
   },
   {
    "duration": 132695,
    "start_time": "2023-10-06T13:57:50.963Z"
   },
   {
    "duration": 208225,
    "start_time": "2023-10-06T14:00:03.661Z"
   },
   {
    "duration": 0,
    "start_time": "2023-10-06T14:03:31.888Z"
   },
   {
    "duration": 0,
    "start_time": "2023-10-06T14:03:31.890Z"
   },
   {
    "duration": 0,
    "start_time": "2023-10-06T14:03:31.891Z"
   },
   {
    "duration": 0,
    "start_time": "2023-10-06T14:03:31.893Z"
   },
   {
    "duration": 1,
    "start_time": "2023-10-06T14:03:31.894Z"
   },
   {
    "duration": 4,
    "start_time": "2023-10-06T14:04:03.556Z"
   },
   {
    "duration": 1196,
    "start_time": "2023-10-06T14:05:24.268Z"
   },
   {
    "duration": 2098,
    "start_time": "2023-10-06T14:05:37.550Z"
   },
   {
    "duration": 11,
    "start_time": "2023-10-06T14:05:54.378Z"
   },
   {
    "duration": 392,
    "start_time": "2023-10-06T14:06:02.267Z"
   },
   {
    "duration": 650,
    "start_time": "2023-10-06T14:06:16.880Z"
   },
   {
    "duration": 431,
    "start_time": "2023-10-06T14:06:29.355Z"
   },
   {
    "duration": 660,
    "start_time": "2023-10-06T14:06:29.855Z"
   },
   {
    "duration": 11,
    "start_time": "2023-10-06T14:06:45.971Z"
   },
   {
    "duration": 11,
    "start_time": "2023-10-06T14:06:57.421Z"
   },
   {
    "duration": 5,
    "start_time": "2023-10-06T14:07:00.714Z"
   },
   {
    "duration": 1326,
    "start_time": "2023-10-06T14:07:52.863Z"
   },
   {
    "duration": 6,
    "start_time": "2023-10-06T14:07:54.191Z"
   },
   {
    "duration": 2776,
    "start_time": "2023-10-06T14:07:54.198Z"
   },
   {
    "duration": 3,
    "start_time": "2023-10-06T14:07:56.979Z"
   },
   {
    "duration": 1052,
    "start_time": "2023-10-06T14:07:56.985Z"
   },
   {
    "duration": 31,
    "start_time": "2023-10-06T14:07:58.040Z"
   },
   {
    "duration": 164,
    "start_time": "2023-10-06T14:07:58.072Z"
   },
   {
    "duration": 159,
    "start_time": "2023-10-06T14:07:58.238Z"
   },
   {
    "duration": 240,
    "start_time": "2023-10-06T14:07:58.399Z"
   },
   {
    "duration": 96,
    "start_time": "2023-10-06T14:07:58.641Z"
   },
   {
    "duration": 365,
    "start_time": "2023-10-06T14:07:58.738Z"
   },
   {
    "duration": 306,
    "start_time": "2023-10-06T14:07:59.105Z"
   },
   {
    "duration": 24,
    "start_time": "2023-10-06T14:07:59.413Z"
   },
   {
    "duration": 193,
    "start_time": "2023-10-06T14:07:59.439Z"
   },
   {
    "duration": 67,
    "start_time": "2023-10-06T14:07:59.634Z"
   },
   {
    "duration": 542,
    "start_time": "2023-10-06T14:07:59.703Z"
   },
   {
    "duration": 550,
    "start_time": "2023-10-06T14:08:00.246Z"
   },
   {
    "duration": 212,
    "start_time": "2023-10-06T14:08:00.798Z"
   },
   {
    "duration": 14,
    "start_time": "2023-10-06T14:08:01.012Z"
   },
   {
    "duration": 105,
    "start_time": "2023-10-06T14:08:01.029Z"
   },
   {
    "duration": 6,
    "start_time": "2023-10-06T14:08:01.136Z"
   },
   {
    "duration": 116,
    "start_time": "2023-10-06T14:08:01.144Z"
   },
   {
    "duration": 361,
    "start_time": "2023-10-06T14:08:01.262Z"
   },
   {
    "duration": 112,
    "start_time": "2023-10-06T14:08:01.625Z"
   },
   {
    "duration": 5,
    "start_time": "2023-10-06T14:08:01.739Z"
   },
   {
    "duration": 141,
    "start_time": "2023-10-06T14:08:01.756Z"
   },
   {
    "duration": 126,
    "start_time": "2023-10-06T14:08:01.899Z"
   },
   {
    "duration": 96,
    "start_time": "2023-10-06T14:08:02.030Z"
   },
   {
    "duration": 62,
    "start_time": "2023-10-06T14:08:02.128Z"
   },
   {
    "duration": 111,
    "start_time": "2023-10-06T14:08:02.192Z"
   },
   {
    "duration": 129,
    "start_time": "2023-10-06T14:08:02.305Z"
   },
   {
    "duration": 8173,
    "start_time": "2023-10-06T14:08:02.436Z"
   },
   {
    "duration": 1591,
    "start_time": "2023-10-06T14:08:10.611Z"
   },
   {
    "duration": 2089,
    "start_time": "2023-10-06T14:08:12.203Z"
   },
   {
    "duration": 657,
    "start_time": "2023-10-06T14:08:14.294Z"
   },
   {
    "duration": 132,
    "start_time": "2023-10-06T14:08:14.953Z"
   },
   {
    "duration": 0,
    "start_time": "2023-10-06T14:08:15.087Z"
   },
   {
    "duration": 0,
    "start_time": "2023-10-06T14:08:15.088Z"
   },
   {
    "duration": 0,
    "start_time": "2023-10-06T14:08:15.089Z"
   },
   {
    "duration": 0,
    "start_time": "2023-10-06T14:08:15.090Z"
   },
   {
    "duration": 0,
    "start_time": "2023-10-06T14:08:15.091Z"
   },
   {
    "duration": 0,
    "start_time": "2023-10-06T14:08:15.092Z"
   },
   {
    "duration": 24,
    "start_time": "2023-10-06T14:08:55.195Z"
   },
   {
    "duration": 642,
    "start_time": "2023-10-06T14:09:15.932Z"
   },
   {
    "duration": 25,
    "start_time": "2023-10-06T14:09:19.320Z"
   },
   {
    "duration": 11,
    "start_time": "2023-10-06T14:09:30.669Z"
   },
   {
    "duration": 11,
    "start_time": "2023-10-06T14:09:56.064Z"
   },
   {
    "duration": 1353,
    "start_time": "2023-10-06T14:10:08.030Z"
   },
   {
    "duration": 5,
    "start_time": "2023-10-06T14:10:09.385Z"
   },
   {
    "duration": 2888,
    "start_time": "2023-10-06T14:10:09.392Z"
   },
   {
    "duration": 3,
    "start_time": "2023-10-06T14:10:12.283Z"
   },
   {
    "duration": 1021,
    "start_time": "2023-10-06T14:10:12.288Z"
   },
   {
    "duration": 19,
    "start_time": "2023-10-06T14:10:13.311Z"
   },
   {
    "duration": 177,
    "start_time": "2023-10-06T14:10:13.332Z"
   },
   {
    "duration": 157,
    "start_time": "2023-10-06T14:10:13.511Z"
   },
   {
    "duration": 231,
    "start_time": "2023-10-06T14:10:13.670Z"
   },
   {
    "duration": 98,
    "start_time": "2023-10-06T14:10:13.904Z"
   },
   {
    "duration": 308,
    "start_time": "2023-10-06T14:10:14.004Z"
   },
   {
    "duration": 288,
    "start_time": "2023-10-06T14:10:14.314Z"
   },
   {
    "duration": 22,
    "start_time": "2023-10-06T14:10:14.604Z"
   },
   {
    "duration": 144,
    "start_time": "2023-10-06T14:10:14.629Z"
   },
   {
    "duration": 15,
    "start_time": "2023-10-06T14:10:14.774Z"
   },
   {
    "duration": 508,
    "start_time": "2023-10-06T14:10:14.790Z"
   },
   {
    "duration": 516,
    "start_time": "2023-10-06T14:10:15.300Z"
   },
   {
    "duration": 193,
    "start_time": "2023-10-06T14:10:15.818Z"
   },
   {
    "duration": 14,
    "start_time": "2023-10-06T14:10:16.013Z"
   },
   {
    "duration": 80,
    "start_time": "2023-10-06T14:10:16.029Z"
   },
   {
    "duration": 6,
    "start_time": "2023-10-06T14:10:16.111Z"
   },
   {
    "duration": 86,
    "start_time": "2023-10-06T14:10:16.119Z"
   },
   {
    "duration": 358,
    "start_time": "2023-10-06T14:10:16.207Z"
   },
   {
    "duration": 112,
    "start_time": "2023-10-06T14:10:16.567Z"
   },
   {
    "duration": 3,
    "start_time": "2023-10-06T14:10:16.681Z"
   },
   {
    "duration": 32,
    "start_time": "2023-10-06T14:10:16.686Z"
   },
   {
    "duration": 20,
    "start_time": "2023-10-06T14:10:16.720Z"
   },
   {
    "duration": 12,
    "start_time": "2023-10-06T14:10:16.758Z"
   },
   {
    "duration": 44,
    "start_time": "2023-10-06T14:10:16.772Z"
   },
   {
    "duration": 24,
    "start_time": "2023-10-06T14:10:16.818Z"
   },
   {
    "duration": 109,
    "start_time": "2023-10-06T14:10:16.844Z"
   },
   {
    "duration": 8428,
    "start_time": "2023-10-06T14:10:16.956Z"
   },
   {
    "duration": 27,
    "start_time": "2023-10-06T14:10:25.386Z"
   },
   {
    "duration": 1677,
    "start_time": "2023-10-06T14:10:25.415Z"
   },
   {
    "duration": 2079,
    "start_time": "2023-10-06T14:10:27.094Z"
   },
   {
    "duration": 653,
    "start_time": "2023-10-06T14:10:29.175Z"
   },
   {
    "duration": 114,
    "start_time": "2023-10-06T14:10:29.830Z"
   },
   {
    "duration": 0,
    "start_time": "2023-10-06T14:10:29.946Z"
   },
   {
    "duration": 0,
    "start_time": "2023-10-06T14:10:29.957Z"
   },
   {
    "duration": 0,
    "start_time": "2023-10-06T14:10:29.958Z"
   },
   {
    "duration": 0,
    "start_time": "2023-10-06T14:10:29.959Z"
   },
   {
    "duration": 0,
    "start_time": "2023-10-06T14:10:29.961Z"
   },
   {
    "duration": 0,
    "start_time": "2023-10-06T14:10:29.962Z"
   },
   {
    "duration": 26,
    "start_time": "2023-10-06T14:10:48.446Z"
   },
   {
    "duration": 1339,
    "start_time": "2023-10-06T14:11:47.562Z"
   },
   {
    "duration": 7,
    "start_time": "2023-10-06T14:11:48.903Z"
   },
   {
    "duration": 2816,
    "start_time": "2023-10-06T14:11:48.912Z"
   },
   {
    "duration": 3,
    "start_time": "2023-10-06T14:11:51.731Z"
   },
   {
    "duration": 986,
    "start_time": "2023-10-06T14:11:51.735Z"
   },
   {
    "duration": 18,
    "start_time": "2023-10-06T14:11:52.723Z"
   },
   {
    "duration": 185,
    "start_time": "2023-10-06T14:11:52.743Z"
   },
   {
    "duration": 152,
    "start_time": "2023-10-06T14:11:52.929Z"
   },
   {
    "duration": 205,
    "start_time": "2023-10-06T14:11:53.082Z"
   },
   {
    "duration": 112,
    "start_time": "2023-10-06T14:11:53.291Z"
   },
   {
    "duration": 313,
    "start_time": "2023-10-06T14:11:53.405Z"
   },
   {
    "duration": 299,
    "start_time": "2023-10-06T14:11:53.720Z"
   },
   {
    "duration": 22,
    "start_time": "2023-10-06T14:11:54.022Z"
   },
   {
    "duration": 141,
    "start_time": "2023-10-06T14:11:54.045Z"
   },
   {
    "duration": 17,
    "start_time": "2023-10-06T14:11:54.188Z"
   },
   {
    "duration": 473,
    "start_time": "2023-10-06T14:11:54.207Z"
   },
   {
    "duration": 511,
    "start_time": "2023-10-06T14:11:54.682Z"
   },
   {
    "duration": 192,
    "start_time": "2023-10-06T14:11:55.195Z"
   },
   {
    "duration": 14,
    "start_time": "2023-10-06T14:11:55.388Z"
   },
   {
    "duration": 76,
    "start_time": "2023-10-06T14:11:55.403Z"
   },
   {
    "duration": 6,
    "start_time": "2023-10-06T14:11:55.481Z"
   },
   {
    "duration": 77,
    "start_time": "2023-10-06T14:11:55.489Z"
   },
   {
    "duration": 349,
    "start_time": "2023-10-06T14:11:55.567Z"
   },
   {
    "duration": 112,
    "start_time": "2023-10-06T14:11:55.918Z"
   },
   {
    "duration": 4,
    "start_time": "2023-10-06T14:11:56.032Z"
   },
   {
    "duration": 35,
    "start_time": "2023-10-06T14:11:56.038Z"
   },
   {
    "duration": 20,
    "start_time": "2023-10-06T14:11:56.075Z"
   },
   {
    "duration": 12,
    "start_time": "2023-10-06T14:11:56.099Z"
   },
   {
    "duration": 53,
    "start_time": "2023-10-06T14:11:56.113Z"
   },
   {
    "duration": 7,
    "start_time": "2023-10-06T14:11:56.169Z"
   },
   {
    "duration": 87,
    "start_time": "2023-10-06T14:11:56.178Z"
   },
   {
    "duration": 8269,
    "start_time": "2023-10-06T14:11:56.267Z"
   },
   {
    "duration": 33,
    "start_time": "2023-10-06T14:12:04.538Z"
   },
   {
    "duration": 269,
    "start_time": "2023-10-06T14:12:04.572Z"
   },
   {
    "duration": 0,
    "start_time": "2023-10-06T14:12:04.843Z"
   },
   {
    "duration": 0,
    "start_time": "2023-10-06T14:12:04.845Z"
   },
   {
    "duration": 0,
    "start_time": "2023-10-06T14:12:04.847Z"
   },
   {
    "duration": 0,
    "start_time": "2023-10-06T14:12:04.848Z"
   },
   {
    "duration": 0,
    "start_time": "2023-10-06T14:12:04.849Z"
   },
   {
    "duration": 0,
    "start_time": "2023-10-06T14:12:04.857Z"
   },
   {
    "duration": 0,
    "start_time": "2023-10-06T14:12:04.858Z"
   },
   {
    "duration": 0,
    "start_time": "2023-10-06T14:12:04.859Z"
   },
   {
    "duration": 0,
    "start_time": "2023-10-06T14:12:04.860Z"
   },
   {
    "duration": 0,
    "start_time": "2023-10-06T14:12:04.861Z"
   },
   {
    "duration": 1544,
    "start_time": "2023-10-06T14:12:10.038Z"
   },
   {
    "duration": 2000,
    "start_time": "2023-10-06T14:12:12.114Z"
   },
   {
    "duration": 20,
    "start_time": "2023-10-06T14:12:14.116Z"
   },
   {
    "duration": 645,
    "start_time": "2023-10-06T14:12:45.331Z"
   },
   {
    "duration": 23,
    "start_time": "2023-10-06T14:12:45.979Z"
   },
   {
    "duration": 633,
    "start_time": "2023-10-06T14:12:52.602Z"
   },
   {
    "duration": 21,
    "start_time": "2023-10-06T14:12:53.654Z"
   },
   {
    "duration": 24,
    "start_time": "2023-10-06T14:12:56.822Z"
   },
   {
    "duration": 428,
    "start_time": "2023-10-06T14:12:59.597Z"
   },
   {
    "duration": 23,
    "start_time": "2023-10-06T14:13:00.420Z"
   },
   {
    "duration": 1356,
    "start_time": "2023-10-06T14:13:06.130Z"
   },
   {
    "duration": 5,
    "start_time": "2023-10-06T14:13:07.488Z"
   },
   {
    "duration": 2882,
    "start_time": "2023-10-06T14:13:07.494Z"
   },
   {
    "duration": 4,
    "start_time": "2023-10-06T14:13:10.378Z"
   },
   {
    "duration": 1163,
    "start_time": "2023-10-06T14:13:10.385Z"
   },
   {
    "duration": 23,
    "start_time": "2023-10-06T14:13:11.550Z"
   },
   {
    "duration": 195,
    "start_time": "2023-10-06T14:13:11.574Z"
   },
   {
    "duration": 156,
    "start_time": "2023-10-06T14:13:11.770Z"
   },
   {
    "duration": 205,
    "start_time": "2023-10-06T14:13:11.927Z"
   },
   {
    "duration": 105,
    "start_time": "2023-10-06T14:13:12.134Z"
   },
   {
    "duration": 309,
    "start_time": "2023-10-06T14:13:12.241Z"
   },
   {
    "duration": 288,
    "start_time": "2023-10-06T14:13:12.556Z"
   },
   {
    "duration": 27,
    "start_time": "2023-10-06T14:13:12.846Z"
   },
   {
    "duration": 145,
    "start_time": "2023-10-06T14:13:12.877Z"
   },
   {
    "duration": 15,
    "start_time": "2023-10-06T14:13:13.024Z"
   },
   {
    "duration": 479,
    "start_time": "2023-10-06T14:13:13.057Z"
   },
   {
    "duration": 521,
    "start_time": "2023-10-06T14:13:13.539Z"
   },
   {
    "duration": 197,
    "start_time": "2023-10-06T14:13:14.062Z"
   },
   {
    "duration": 16,
    "start_time": "2023-10-06T14:13:14.261Z"
   },
   {
    "duration": 84,
    "start_time": "2023-10-06T14:13:14.279Z"
   },
   {
    "duration": 8,
    "start_time": "2023-10-06T14:13:14.365Z"
   },
   {
    "duration": 75,
    "start_time": "2023-10-06T14:13:14.375Z"
   },
   {
    "duration": 384,
    "start_time": "2023-10-06T14:13:14.456Z"
   },
   {
    "duration": 114,
    "start_time": "2023-10-06T14:13:14.842Z"
   },
   {
    "duration": 3,
    "start_time": "2023-10-06T14:13:14.958Z"
   },
   {
    "duration": 37,
    "start_time": "2023-10-06T14:13:14.963Z"
   },
   {
    "duration": 45,
    "start_time": "2023-10-06T14:13:15.002Z"
   },
   {
    "duration": 38,
    "start_time": "2023-10-06T14:13:15.049Z"
   },
   {
    "duration": 66,
    "start_time": "2023-10-06T14:13:15.089Z"
   },
   {
    "duration": 59,
    "start_time": "2023-10-06T14:13:15.157Z"
   },
   {
    "duration": 106,
    "start_time": "2023-10-06T14:13:15.218Z"
   },
   {
    "duration": 8351,
    "start_time": "2023-10-06T14:13:15.326Z"
   },
   {
    "duration": 25,
    "start_time": "2023-10-06T14:13:23.678Z"
   },
   {
    "duration": 1583,
    "start_time": "2023-10-06T14:13:23.704Z"
   },
   {
    "duration": 2053,
    "start_time": "2023-10-06T14:13:25.289Z"
   },
   {
    "duration": 32,
    "start_time": "2023-10-06T14:13:27.345Z"
   },
   {
    "duration": 682,
    "start_time": "2023-10-06T14:13:27.380Z"
   },
   {
    "duration": 25,
    "start_time": "2023-10-06T14:13:28.065Z"
   },
   {
    "duration": 31574,
    "start_time": "2023-10-06T14:13:28.092Z"
   },
   {
    "duration": 643099,
    "start_time": "2023-10-06T14:13:59.757Z"
   },
   {
    "duration": 3,
    "start_time": "2023-10-06T14:24:42.863Z"
   },
   {
    "duration": 49,
    "start_time": "2023-10-06T15:16:39.092Z"
   },
   {
    "duration": 1701,
    "start_time": "2023-10-09T14:13:43.181Z"
   },
   {
    "duration": 5,
    "start_time": "2023-10-09T14:13:44.884Z"
   },
   {
    "duration": 6403,
    "start_time": "2023-10-09T14:13:44.890Z"
   },
   {
    "duration": 3,
    "start_time": "2023-10-09T14:13:51.296Z"
   },
   {
    "duration": 1158,
    "start_time": "2023-10-09T14:13:51.300Z"
   },
   {
    "duration": 20,
    "start_time": "2023-10-09T14:13:52.460Z"
   },
   {
    "duration": 173,
    "start_time": "2023-10-09T14:13:52.481Z"
   },
   {
    "duration": 144,
    "start_time": "2023-10-09T14:13:52.656Z"
   },
   {
    "duration": 189,
    "start_time": "2023-10-09T14:13:52.801Z"
   },
   {
    "duration": 93,
    "start_time": "2023-10-09T14:13:52.993Z"
   },
   {
    "duration": 250,
    "start_time": "2023-10-09T14:13:53.087Z"
   },
   {
    "duration": 249,
    "start_time": "2023-10-09T14:13:53.339Z"
   },
   {
    "duration": 19,
    "start_time": "2023-10-09T14:13:53.589Z"
   },
   {
    "duration": 120,
    "start_time": "2023-10-09T14:13:53.609Z"
   },
   {
    "duration": 23,
    "start_time": "2023-10-09T14:13:53.731Z"
   },
   {
    "duration": 400,
    "start_time": "2023-10-09T14:13:53.756Z"
   },
   {
    "duration": 373,
    "start_time": "2023-10-09T14:13:54.157Z"
   },
   {
    "duration": 161,
    "start_time": "2023-10-09T14:13:54.532Z"
   },
   {
    "duration": 11,
    "start_time": "2023-10-09T14:13:54.694Z"
   },
   {
    "duration": 74,
    "start_time": "2023-10-09T14:13:54.706Z"
   },
   {
    "duration": 7,
    "start_time": "2023-10-09T14:13:54.782Z"
   },
   {
    "duration": 66,
    "start_time": "2023-10-09T14:13:54.790Z"
   },
   {
    "duration": 388,
    "start_time": "2023-10-09T14:13:54.858Z"
   },
   {
    "duration": 80,
    "start_time": "2023-10-09T14:13:55.249Z"
   },
   {
    "duration": 3,
    "start_time": "2023-10-09T14:13:55.330Z"
   },
   {
    "duration": 34,
    "start_time": "2023-10-09T14:13:55.335Z"
   },
   {
    "duration": 15,
    "start_time": "2023-10-09T14:13:55.371Z"
   },
   {
    "duration": 12,
    "start_time": "2023-10-09T14:13:55.389Z"
   },
   {
    "duration": 26,
    "start_time": "2023-10-09T14:13:55.403Z"
   },
   {
    "duration": 20,
    "start_time": "2023-10-09T14:13:55.430Z"
   },
   {
    "duration": 68,
    "start_time": "2023-10-09T14:13:55.451Z"
   },
   {
    "duration": 2671,
    "start_time": "2023-10-09T14:13:55.521Z"
   },
   {
    "duration": 0,
    "start_time": "2023-10-09T14:13:58.194Z"
   },
   {
    "duration": 0,
    "start_time": "2023-10-09T14:13:58.194Z"
   },
   {
    "duration": 0,
    "start_time": "2023-10-09T14:13:58.195Z"
   },
   {
    "duration": 0,
    "start_time": "2023-10-09T14:13:58.196Z"
   },
   {
    "duration": 0,
    "start_time": "2023-10-09T14:13:58.198Z"
   },
   {
    "duration": 0,
    "start_time": "2023-10-09T14:13:58.199Z"
   },
   {
    "duration": 0,
    "start_time": "2023-10-09T14:13:58.200Z"
   },
   {
    "duration": 0,
    "start_time": "2023-10-09T14:13:58.201Z"
   },
   {
    "duration": 0,
    "start_time": "2023-10-09T14:13:58.202Z"
   },
   {
    "duration": 3,
    "start_time": "2023-10-09T14:14:18.661Z"
   },
   {
    "duration": 4,
    "start_time": "2023-10-09T14:14:19.159Z"
   },
   {
    "duration": 2474,
    "start_time": "2023-10-09T14:14:20.218Z"
   },
   {
    "duration": 4,
    "start_time": "2023-10-09T14:14:23.303Z"
   },
   {
    "duration": 3,
    "start_time": "2023-10-09T14:14:24.880Z"
   },
   {
    "duration": 1097,
    "start_time": "2023-10-09T14:14:37.695Z"
   },
   {
    "duration": 5,
    "start_time": "2023-10-09T14:14:38.793Z"
   },
   {
    "duration": 3,
    "start_time": "2023-10-09T14:14:49.502Z"
   },
   {
    "duration": 830,
    "start_time": "2023-10-09T14:14:50.052Z"
   },
   {
    "duration": 13,
    "start_time": "2023-10-09T14:14:50.884Z"
   },
   {
    "duration": 140,
    "start_time": "2023-10-09T14:14:51.076Z"
   },
   {
    "duration": 137,
    "start_time": "2023-10-09T14:14:52.264Z"
   },
   {
    "duration": 193,
    "start_time": "2023-10-09T14:14:52.653Z"
   },
   {
    "duration": 83,
    "start_time": "2023-10-09T14:14:53.045Z"
   },
   {
    "duration": 278,
    "start_time": "2023-10-09T14:14:53.426Z"
   },
   {
    "duration": 277,
    "start_time": "2023-10-09T14:14:53.706Z"
   },
   {
    "duration": 20,
    "start_time": "2023-10-09T14:14:54.060Z"
   },
   {
    "duration": 114,
    "start_time": "2023-10-09T14:14:54.270Z"
   },
   {
    "duration": 14,
    "start_time": "2023-10-09T14:14:54.665Z"
   },
   {
    "duration": 347,
    "start_time": "2023-10-09T14:14:55.086Z"
   },
   {
    "duration": 410,
    "start_time": "2023-10-09T14:14:55.436Z"
   },
   {
    "duration": 231,
    "start_time": "2023-10-09T14:14:55.959Z"
   },
   {
    "duration": 11,
    "start_time": "2023-10-09T14:14:56.201Z"
   },
   {
    "duration": 57,
    "start_time": "2023-10-09T14:14:56.463Z"
   },
   {
    "duration": 6,
    "start_time": "2023-10-09T14:14:56.996Z"
   },
   {
    "duration": 49,
    "start_time": "2023-10-09T14:14:57.197Z"
   },
   {
    "duration": 323,
    "start_time": "2023-10-09T14:14:57.658Z"
   },
   {
    "duration": 86,
    "start_time": "2023-10-09T14:14:57.982Z"
   },
   {
    "duration": 3,
    "start_time": "2023-10-09T14:14:58.327Z"
   },
   {
    "duration": 21,
    "start_time": "2023-10-09T14:14:58.564Z"
   },
   {
    "duration": 15,
    "start_time": "2023-10-09T14:14:58.772Z"
   },
   {
    "duration": 11,
    "start_time": "2023-10-09T14:14:58.972Z"
   },
   {
    "duration": 22,
    "start_time": "2023-10-09T14:15:00.049Z"
   },
   {
    "duration": 3,
    "start_time": "2023-10-09T14:15:00.491Z"
   },
   {
    "duration": 67,
    "start_time": "2023-10-09T14:15:00.693Z"
   },
   {
    "duration": 4623,
    "start_time": "2023-10-09T14:15:01.177Z"
   },
   {
    "duration": 20,
    "start_time": "2023-10-09T14:15:05.802Z"
   },
   {
    "duration": 1207,
    "start_time": "2023-10-09T14:15:08.290Z"
   },
   {
    "duration": 1815,
    "start_time": "2023-10-09T14:15:09.499Z"
   },
   {
    "duration": 17,
    "start_time": "2023-10-09T14:15:11.316Z"
   },
   {
    "duration": 566,
    "start_time": "2023-10-09T14:15:11.334Z"
   },
   {
    "duration": 17,
    "start_time": "2023-10-09T14:15:11.902Z"
   },
   {
    "duration": 57430,
    "start_time": "2023-10-09T14:15:13.522Z"
   },
   {
    "duration": 93,
    "start_time": "2023-10-09T14:16:10.956Z"
   },
   {
    "duration": 51821,
    "start_time": "2023-10-09T14:16:54.938Z"
   },
   {
    "duration": 50963,
    "start_time": "2023-10-09T14:18:08.990Z"
   },
   {
    "duration": 1186,
    "start_time": "2023-10-09T14:19:09.531Z"
   },
   {
    "duration": 5,
    "start_time": "2023-10-09T14:19:10.719Z"
   },
   {
    "duration": 2424,
    "start_time": "2023-10-09T14:19:10.726Z"
   },
   {
    "duration": 3,
    "start_time": "2023-10-09T14:19:13.152Z"
   },
   {
    "duration": 820,
    "start_time": "2023-10-09T14:19:13.156Z"
   },
   {
    "duration": 16,
    "start_time": "2023-10-09T14:19:13.978Z"
   },
   {
    "duration": 171,
    "start_time": "2023-10-09T14:19:13.995Z"
   },
   {
    "duration": 134,
    "start_time": "2023-10-09T14:19:14.168Z"
   },
   {
    "duration": 200,
    "start_time": "2023-10-09T14:19:14.304Z"
   },
   {
    "duration": 88,
    "start_time": "2023-10-09T14:19:14.506Z"
   },
   {
    "duration": 266,
    "start_time": "2023-10-09T14:19:14.596Z"
   },
   {
    "duration": 266,
    "start_time": "2023-10-09T14:19:14.864Z"
   },
   {
    "duration": 20,
    "start_time": "2023-10-09T14:19:15.132Z"
   },
   {
    "duration": 149,
    "start_time": "2023-10-09T14:19:15.154Z"
   },
   {
    "duration": 40,
    "start_time": "2023-10-09T14:19:15.305Z"
   },
   {
    "duration": 376,
    "start_time": "2023-10-09T14:19:15.347Z"
   },
   {
    "duration": 392,
    "start_time": "2023-10-09T14:19:15.725Z"
   },
   {
    "duration": 160,
    "start_time": "2023-10-09T14:19:16.118Z"
   },
   {
    "duration": 12,
    "start_time": "2023-10-09T14:19:16.280Z"
   },
   {
    "duration": 75,
    "start_time": "2023-10-09T14:19:16.294Z"
   },
   {
    "duration": 6,
    "start_time": "2023-10-09T14:19:16.372Z"
   },
   {
    "duration": 65,
    "start_time": "2023-10-09T14:19:16.380Z"
   },
   {
    "duration": 334,
    "start_time": "2023-10-09T14:19:16.446Z"
   },
   {
    "duration": 85,
    "start_time": "2023-10-09T14:19:16.782Z"
   },
   {
    "duration": 3,
    "start_time": "2023-10-09T14:19:16.869Z"
   },
   {
    "duration": 47,
    "start_time": "2023-10-09T14:19:16.873Z"
   },
   {
    "duration": 14,
    "start_time": "2023-10-09T14:19:16.922Z"
   },
   {
    "duration": 11,
    "start_time": "2023-10-09T14:19:16.940Z"
   },
   {
    "duration": 30,
    "start_time": "2023-10-09T14:19:16.953Z"
   },
   {
    "duration": 3,
    "start_time": "2023-10-09T14:19:16.984Z"
   },
   {
    "duration": 87,
    "start_time": "2023-10-09T14:19:16.989Z"
   },
   {
    "duration": 4050,
    "start_time": "2023-10-09T14:19:17.078Z"
   },
   {
    "duration": 22,
    "start_time": "2023-10-09T14:19:21.130Z"
   },
   {
    "duration": 1240,
    "start_time": "2023-10-09T14:19:21.154Z"
   },
   {
    "duration": 1793,
    "start_time": "2023-10-09T14:19:22.396Z"
   },
   {
    "duration": 17,
    "start_time": "2023-10-09T14:19:24.190Z"
   },
   {
    "duration": 584,
    "start_time": "2023-10-09T14:19:24.208Z"
   },
   {
    "duration": 17,
    "start_time": "2023-10-09T14:19:24.793Z"
   },
   {
    "duration": 599998,
    "start_time": "2023-10-09T14:20:18.257Z"
   },
   {
    "duration": 93,
    "start_time": "2023-10-09T14:30:18.257Z"
   },
   {
    "duration": 1337,
    "start_time": "2023-10-09T15:12:55.090Z"
   },
   {
    "duration": 7,
    "start_time": "2023-10-09T15:12:56.429Z"
   },
   {
    "duration": 2609,
    "start_time": "2023-10-09T15:12:56.438Z"
   },
   {
    "duration": 3,
    "start_time": "2023-10-09T15:12:59.048Z"
   },
   {
    "duration": 880,
    "start_time": "2023-10-09T15:12:59.054Z"
   },
   {
    "duration": 19,
    "start_time": "2023-10-09T15:12:59.936Z"
   },
   {
    "duration": 249,
    "start_time": "2023-10-09T15:12:59.957Z"
   },
   {
    "duration": 136,
    "start_time": "2023-10-09T15:13:00.208Z"
   },
   {
    "duration": 204,
    "start_time": "2023-10-09T15:13:00.346Z"
   },
   {
    "duration": 112,
    "start_time": "2023-10-09T15:13:00.552Z"
   },
   {
    "duration": 271,
    "start_time": "2023-10-09T15:13:00.665Z"
   },
   {
    "duration": 260,
    "start_time": "2023-10-09T15:13:00.938Z"
   },
   {
    "duration": 19,
    "start_time": "2023-10-09T15:13:01.200Z"
   },
   {
    "duration": 258,
    "start_time": "2023-10-09T15:13:01.222Z"
   },
   {
    "duration": 81,
    "start_time": "2023-10-09T15:13:01.481Z"
   },
   {
    "duration": 430,
    "start_time": "2023-10-09T15:13:01.564Z"
   },
   {
    "duration": 426,
    "start_time": "2023-10-09T15:13:01.996Z"
   },
   {
    "duration": 169,
    "start_time": "2023-10-09T15:13:02.424Z"
   },
   {
    "duration": 10,
    "start_time": "2023-10-09T15:13:02.595Z"
   },
   {
    "duration": 79,
    "start_time": "2023-10-09T15:13:02.607Z"
   },
   {
    "duration": 6,
    "start_time": "2023-10-09T15:13:02.688Z"
   },
   {
    "duration": 66,
    "start_time": "2023-10-09T15:13:02.696Z"
   },
   {
    "duration": 316,
    "start_time": "2023-10-09T15:13:02.764Z"
   },
   {
    "duration": 88,
    "start_time": "2023-10-09T15:13:03.081Z"
   },
   {
    "duration": 3,
    "start_time": "2023-10-09T15:13:03.171Z"
   },
   {
    "duration": 50,
    "start_time": "2023-10-09T15:13:03.176Z"
   },
   {
    "duration": 15,
    "start_time": "2023-10-09T15:13:03.228Z"
   },
   {
    "duration": 31,
    "start_time": "2023-10-09T15:13:03.244Z"
   },
   {
    "duration": 52,
    "start_time": "2023-10-09T15:13:03.276Z"
   },
   {
    "duration": 11,
    "start_time": "2023-10-09T15:13:03.329Z"
   },
   {
    "duration": 87,
    "start_time": "2023-10-09T15:13:03.341Z"
   },
   {
    "duration": 4487,
    "start_time": "2023-10-09T15:13:03.429Z"
   },
   {
    "duration": 22,
    "start_time": "2023-10-09T15:13:07.917Z"
   },
   {
    "duration": 1227,
    "start_time": "2023-10-09T15:13:07.950Z"
   },
   {
    "duration": 1847,
    "start_time": "2023-10-09T15:13:09.179Z"
   },
   {
    "duration": 21,
    "start_time": "2023-10-09T15:13:11.028Z"
   },
   {
    "duration": 579,
    "start_time": "2023-10-09T15:13:11.051Z"
   },
   {
    "duration": 20,
    "start_time": "2023-10-09T15:13:11.632Z"
   },
   {
    "duration": 54199,
    "start_time": "2023-10-09T15:13:11.653Z"
   },
   {
    "duration": 1252,
    "start_time": "2023-10-09T15:15:00.125Z"
   },
   {
    "duration": 5,
    "start_time": "2023-10-09T15:15:01.378Z"
   },
   {
    "duration": 2678,
    "start_time": "2023-10-09T15:15:01.384Z"
   },
   {
    "duration": 4,
    "start_time": "2023-10-09T15:15:04.065Z"
   },
   {
    "duration": 847,
    "start_time": "2023-10-09T15:15:04.070Z"
   },
   {
    "duration": 15,
    "start_time": "2023-10-09T15:15:04.919Z"
   },
   {
    "duration": 149,
    "start_time": "2023-10-09T15:15:04.936Z"
   },
   {
    "duration": 185,
    "start_time": "2023-10-09T15:15:05.087Z"
   },
   {
    "duration": 172,
    "start_time": "2023-10-09T15:15:05.274Z"
   },
   {
    "duration": 73,
    "start_time": "2023-10-09T15:15:05.448Z"
   },
   {
    "duration": 263,
    "start_time": "2023-10-09T15:15:05.523Z"
   },
   {
    "duration": 262,
    "start_time": "2023-10-09T15:15:05.788Z"
   },
   {
    "duration": 24,
    "start_time": "2023-10-09T15:15:06.052Z"
   },
   {
    "duration": 166,
    "start_time": "2023-10-09T15:15:06.078Z"
   },
   {
    "duration": 36,
    "start_time": "2023-10-09T15:15:06.246Z"
   },
   {
    "duration": 426,
    "start_time": "2023-10-09T15:15:06.283Z"
   },
   {
    "duration": 411,
    "start_time": "2023-10-09T15:15:06.711Z"
   },
   {
    "duration": 167,
    "start_time": "2023-10-09T15:15:07.123Z"
   },
   {
    "duration": 10,
    "start_time": "2023-10-09T15:15:07.291Z"
   },
   {
    "duration": 92,
    "start_time": "2023-10-09T15:15:07.302Z"
   },
   {
    "duration": 5,
    "start_time": "2023-10-09T15:15:07.396Z"
   },
   {
    "duration": 61,
    "start_time": "2023-10-09T15:15:07.403Z"
   },
   {
    "duration": 300,
    "start_time": "2023-10-09T15:15:07.465Z"
   },
   {
    "duration": 86,
    "start_time": "2023-10-09T15:15:07.767Z"
   },
   {
    "duration": 3,
    "start_time": "2023-10-09T15:15:07.854Z"
   },
   {
    "duration": 27,
    "start_time": "2023-10-09T15:15:07.859Z"
   },
   {
    "duration": 40,
    "start_time": "2023-10-09T15:15:07.888Z"
   },
   {
    "duration": 22,
    "start_time": "2023-10-09T15:15:07.932Z"
   },
   {
    "duration": 29,
    "start_time": "2023-10-09T15:15:07.955Z"
   },
   {
    "duration": 6,
    "start_time": "2023-10-09T15:15:07.985Z"
   },
   {
    "duration": 79,
    "start_time": "2023-10-09T15:15:07.993Z"
   },
   {
    "duration": 4373,
    "start_time": "2023-10-09T15:15:08.074Z"
   },
   {
    "duration": 22,
    "start_time": "2023-10-09T15:15:12.449Z"
   },
   {
    "duration": 1221,
    "start_time": "2023-10-09T15:15:12.472Z"
   },
   {
    "duration": 1841,
    "start_time": "2023-10-09T15:15:13.695Z"
   },
   {
    "duration": 21,
    "start_time": "2023-10-09T15:15:15.538Z"
   },
   {
    "duration": 713,
    "start_time": "2023-10-09T15:15:15.561Z"
   },
   {
    "duration": 21,
    "start_time": "2023-10-09T15:15:16.276Z"
   },
   {
    "duration": 50350,
    "start_time": "2023-10-09T15:15:16.299Z"
   },
   {
    "duration": 1287,
    "start_time": "2023-10-09T15:16:25.523Z"
   },
   {
    "duration": 6,
    "start_time": "2023-10-09T15:16:26.812Z"
   },
   {
    "duration": 2577,
    "start_time": "2023-10-09T15:16:26.820Z"
   },
   {
    "duration": 4,
    "start_time": "2023-10-09T15:16:29.399Z"
   },
   {
    "duration": 845,
    "start_time": "2023-10-09T15:16:29.404Z"
   },
   {
    "duration": 19,
    "start_time": "2023-10-09T15:16:30.251Z"
   },
   {
    "duration": 214,
    "start_time": "2023-10-09T15:16:30.271Z"
   },
   {
    "duration": 138,
    "start_time": "2023-10-09T15:16:30.487Z"
   },
   {
    "duration": 268,
    "start_time": "2023-10-09T15:16:30.626Z"
   },
   {
    "duration": 404,
    "start_time": "2023-10-09T15:16:30.897Z"
   },
   {
    "duration": 709,
    "start_time": "2023-10-09T15:16:31.303Z"
   },
   {
    "duration": 638,
    "start_time": "2023-10-09T15:16:32.014Z"
   },
   {
    "duration": 19,
    "start_time": "2023-10-09T15:16:32.653Z"
   },
   {
    "duration": 135,
    "start_time": "2023-10-09T15:16:32.674Z"
   },
   {
    "duration": 13,
    "start_time": "2023-10-09T15:16:32.810Z"
   },
   {
    "duration": 359,
    "start_time": "2023-10-09T15:16:32.824Z"
   },
   {
    "duration": 390,
    "start_time": "2023-10-09T15:16:33.184Z"
   },
   {
    "duration": 163,
    "start_time": "2023-10-09T15:16:33.575Z"
   },
   {
    "duration": 12,
    "start_time": "2023-10-09T15:16:33.740Z"
   },
   {
    "duration": 173,
    "start_time": "2023-10-09T15:16:33.753Z"
   },
   {
    "duration": 5,
    "start_time": "2023-10-09T15:16:33.928Z"
   },
   {
    "duration": 64,
    "start_time": "2023-10-09T15:16:33.934Z"
   },
   {
    "duration": 290,
    "start_time": "2023-10-09T15:16:34.000Z"
   },
   {
    "duration": 88,
    "start_time": "2023-10-09T15:16:34.291Z"
   },
   {
    "duration": 3,
    "start_time": "2023-10-09T15:16:34.381Z"
   },
   {
    "duration": 34,
    "start_time": "2023-10-09T15:16:34.385Z"
   },
   {
    "duration": 16,
    "start_time": "2023-10-09T15:16:34.421Z"
   },
   {
    "duration": 23,
    "start_time": "2023-10-09T15:16:34.440Z"
   },
   {
    "duration": 43,
    "start_time": "2023-10-09T15:16:34.465Z"
   },
   {
    "duration": 27,
    "start_time": "2023-10-09T15:16:34.510Z"
   },
   {
    "duration": 89,
    "start_time": "2023-10-09T15:16:34.538Z"
   },
   {
    "duration": 4500,
    "start_time": "2023-10-09T15:16:34.628Z"
   },
   {
    "duration": 25,
    "start_time": "2023-10-09T15:16:39.129Z"
   },
   {
    "duration": 1249,
    "start_time": "2023-10-09T15:16:39.156Z"
   },
   {
    "duration": 1829,
    "start_time": "2023-10-09T15:16:40.406Z"
   },
   {
    "duration": 22,
    "start_time": "2023-10-09T15:16:42.237Z"
   },
   {
    "duration": 583,
    "start_time": "2023-10-09T15:16:42.261Z"
   },
   {
    "duration": 23,
    "start_time": "2023-10-09T15:16:42.845Z"
   },
   {
    "duration": 103781,
    "start_time": "2023-10-09T15:16:42.870Z"
   },
   {
    "duration": 1240,
    "start_time": "2023-10-09T15:19:16.463Z"
   },
   {
    "duration": 5,
    "start_time": "2023-10-09T15:19:17.704Z"
   },
   {
    "duration": 2435,
    "start_time": "2023-10-09T15:19:17.710Z"
   },
   {
    "duration": 3,
    "start_time": "2023-10-09T15:19:20.146Z"
   },
   {
    "duration": 835,
    "start_time": "2023-10-09T15:19:20.151Z"
   },
   {
    "duration": 14,
    "start_time": "2023-10-09T15:19:20.988Z"
   },
   {
    "duration": 169,
    "start_time": "2023-10-09T15:19:21.004Z"
   },
   {
    "duration": 229,
    "start_time": "2023-10-09T15:19:21.175Z"
   },
   {
    "duration": 174,
    "start_time": "2023-10-09T15:19:21.406Z"
   },
   {
    "duration": 86,
    "start_time": "2023-10-09T15:19:21.581Z"
   },
   {
    "duration": 268,
    "start_time": "2023-10-09T15:19:21.669Z"
   },
   {
    "duration": 246,
    "start_time": "2023-10-09T15:19:21.939Z"
   },
   {
    "duration": 19,
    "start_time": "2023-10-09T15:19:22.186Z"
   },
   {
    "duration": 130,
    "start_time": "2023-10-09T15:19:22.208Z"
   },
   {
    "duration": 50,
    "start_time": "2023-10-09T15:19:22.339Z"
   },
   {
    "duration": 421,
    "start_time": "2023-10-09T15:19:22.391Z"
   },
   {
    "duration": 427,
    "start_time": "2023-10-09T15:19:22.813Z"
   },
   {
    "duration": 158,
    "start_time": "2023-10-09T15:19:23.241Z"
   },
   {
    "duration": 10,
    "start_time": "2023-10-09T15:19:23.400Z"
   },
   {
    "duration": 121,
    "start_time": "2023-10-09T15:19:23.411Z"
   },
   {
    "duration": 31,
    "start_time": "2023-10-09T15:19:23.533Z"
   },
   {
    "duration": 91,
    "start_time": "2023-10-09T15:19:23.566Z"
   },
   {
    "duration": 289,
    "start_time": "2023-10-09T15:19:23.659Z"
   },
   {
    "duration": 77,
    "start_time": "2023-10-09T15:19:23.950Z"
   },
   {
    "duration": 3,
    "start_time": "2023-10-09T15:19:24.029Z"
   },
   {
    "duration": 63,
    "start_time": "2023-10-09T15:19:24.033Z"
   },
   {
    "duration": 16,
    "start_time": "2023-10-09T15:19:24.098Z"
   },
   {
    "duration": 33,
    "start_time": "2023-10-09T15:19:24.116Z"
   },
   {
    "duration": 46,
    "start_time": "2023-10-09T15:19:24.151Z"
   },
   {
    "duration": 75,
    "start_time": "2023-10-09T15:19:24.199Z"
   },
   {
    "duration": 90,
    "start_time": "2023-10-09T15:19:24.276Z"
   },
   {
    "duration": 4619,
    "start_time": "2023-10-09T15:19:24.368Z"
   },
   {
    "duration": 20,
    "start_time": "2023-10-09T15:19:28.988Z"
   },
   {
    "duration": 1250,
    "start_time": "2023-10-09T15:19:29.009Z"
   },
   {
    "duration": 1777,
    "start_time": "2023-10-09T15:19:30.260Z"
   },
   {
    "duration": 19,
    "start_time": "2023-10-09T15:19:32.039Z"
   },
   {
    "duration": 593,
    "start_time": "2023-10-09T15:19:32.060Z"
   },
   {
    "duration": 18,
    "start_time": "2023-10-09T15:19:32.654Z"
   },
   {
    "duration": 229,
    "start_time": "2023-10-09T15:19:32.673Z"
   },
   {
    "duration": 1216,
    "start_time": "2023-10-09T15:24:13.083Z"
   },
   {
    "duration": 5,
    "start_time": "2023-10-09T15:24:14.301Z"
   },
   {
    "duration": 2560,
    "start_time": "2023-10-09T15:24:14.308Z"
   },
   {
    "duration": 3,
    "start_time": "2023-10-09T15:24:16.870Z"
   },
   {
    "duration": 797,
    "start_time": "2023-10-09T15:24:16.875Z"
   },
   {
    "duration": 14,
    "start_time": "2023-10-09T15:24:17.674Z"
   },
   {
    "duration": 186,
    "start_time": "2023-10-09T15:24:17.689Z"
   },
   {
    "duration": 136,
    "start_time": "2023-10-09T15:24:17.877Z"
   },
   {
    "duration": 183,
    "start_time": "2023-10-09T15:24:18.014Z"
   },
   {
    "duration": 89,
    "start_time": "2023-10-09T15:24:18.199Z"
   },
   {
    "duration": 265,
    "start_time": "2023-10-09T15:24:18.289Z"
   },
   {
    "duration": 249,
    "start_time": "2023-10-09T15:24:18.556Z"
   },
   {
    "duration": 19,
    "start_time": "2023-10-09T15:24:18.806Z"
   },
   {
    "duration": 130,
    "start_time": "2023-10-09T15:24:18.828Z"
   },
   {
    "duration": 11,
    "start_time": "2023-10-09T15:24:18.960Z"
   },
   {
    "duration": 382,
    "start_time": "2023-10-09T15:24:18.973Z"
   },
   {
    "duration": 393,
    "start_time": "2023-10-09T15:24:19.357Z"
   },
   {
    "duration": 163,
    "start_time": "2023-10-09T15:24:19.752Z"
   },
   {
    "duration": 11,
    "start_time": "2023-10-09T15:24:19.917Z"
   },
   {
    "duration": 139,
    "start_time": "2023-10-09T15:24:19.929Z"
   },
   {
    "duration": 5,
    "start_time": "2023-10-09T15:24:20.070Z"
   },
   {
    "duration": 79,
    "start_time": "2023-10-09T15:24:20.077Z"
   },
   {
    "duration": 294,
    "start_time": "2023-10-09T15:24:20.157Z"
   },
   {
    "duration": 84,
    "start_time": "2023-10-09T15:24:20.453Z"
   },
   {
    "duration": 12,
    "start_time": "2023-10-09T15:24:20.538Z"
   },
   {
    "duration": 40,
    "start_time": "2023-10-09T15:24:20.552Z"
   },
   {
    "duration": 15,
    "start_time": "2023-10-09T15:24:20.594Z"
   },
   {
    "duration": 20,
    "start_time": "2023-10-09T15:24:20.610Z"
   },
   {
    "duration": 39,
    "start_time": "2023-10-09T15:24:20.631Z"
   },
   {
    "duration": 37,
    "start_time": "2023-10-09T15:24:20.672Z"
   },
   {
    "duration": 91,
    "start_time": "2023-10-09T15:24:20.711Z"
   },
   {
    "duration": 4794,
    "start_time": "2023-10-09T15:24:20.803Z"
   },
   {
    "duration": 21,
    "start_time": "2023-10-09T15:24:25.599Z"
   },
   {
    "duration": 1300,
    "start_time": "2023-10-09T15:24:25.621Z"
   },
   {
    "duration": 1805,
    "start_time": "2023-10-09T15:24:26.923Z"
   },
   {
    "duration": 22,
    "start_time": "2023-10-09T15:24:28.729Z"
   },
   {
    "duration": 603,
    "start_time": "2023-10-09T15:24:28.752Z"
   },
   {
    "duration": 18,
    "start_time": "2023-10-09T15:24:29.357Z"
   },
   {
    "duration": 26984,
    "start_time": "2023-10-09T15:24:29.376Z"
   },
   {
    "duration": 88,
    "start_time": "2023-10-09T15:24:56.362Z"
   },
   {
    "duration": 168,
    "start_time": "2023-10-09T15:24:56.455Z"
   },
   {
    "duration": 0,
    "start_time": "2023-10-09T15:24:56.625Z"
   },
   {
    "duration": 18,
    "start_time": "2023-10-09T15:25:34.563Z"
   },
   {
    "duration": 16,
    "start_time": "2023-10-09T15:27:27.721Z"
   },
   {
    "duration": 68,
    "start_time": "2023-10-09T15:27:28.195Z"
   },
   {
    "duration": 10,
    "start_time": "2023-10-09T15:27:39.996Z"
   },
   {
    "duration": 13,
    "start_time": "2023-10-09T15:27:43.955Z"
   },
   {
    "duration": 161,
    "start_time": "2023-10-09T15:28:05.134Z"
   },
   {
    "duration": 2262,
    "start_time": "2023-10-09T15:28:31.443Z"
   },
   {
    "duration": 4,
    "start_time": "2023-10-09T15:28:33.707Z"
   },
   {
    "duration": 2489,
    "start_time": "2023-10-09T15:28:33.713Z"
   },
   {
    "duration": 3,
    "start_time": "2023-10-09T15:28:36.204Z"
   },
   {
    "duration": 1261,
    "start_time": "2023-10-09T15:28:36.210Z"
   },
   {
    "duration": 14,
    "start_time": "2023-10-09T15:28:37.473Z"
   },
   {
    "duration": 136,
    "start_time": "2023-10-09T15:28:37.490Z"
   },
   {
    "duration": 124,
    "start_time": "2023-10-09T15:28:37.628Z"
   },
   {
    "duration": 173,
    "start_time": "2023-10-09T15:28:37.753Z"
   },
   {
    "duration": 79,
    "start_time": "2023-10-09T15:28:37.928Z"
   },
   {
    "duration": 257,
    "start_time": "2023-10-09T15:28:38.008Z"
   },
   {
    "duration": 251,
    "start_time": "2023-10-09T15:28:38.267Z"
   },
   {
    "duration": 20,
    "start_time": "2023-10-09T15:28:38.520Z"
   },
   {
    "duration": 268,
    "start_time": "2023-10-09T15:28:38.552Z"
   },
   {
    "duration": 136,
    "start_time": "2023-10-09T15:28:38.822Z"
   },
   {
    "duration": 393,
    "start_time": "2023-10-09T15:28:38.959Z"
   },
   {
    "duration": 395,
    "start_time": "2023-10-09T15:28:39.354Z"
   },
   {
    "duration": 163,
    "start_time": "2023-10-09T15:28:39.751Z"
   },
   {
    "duration": 10,
    "start_time": "2023-10-09T15:28:39.916Z"
   },
   {
    "duration": 62,
    "start_time": "2023-10-09T15:28:39.928Z"
   },
   {
    "duration": 5,
    "start_time": "2023-10-09T15:28:39.992Z"
   },
   {
    "duration": 63,
    "start_time": "2023-10-09T15:28:39.999Z"
   },
   {
    "duration": 305,
    "start_time": "2023-10-09T15:28:40.064Z"
   },
   {
    "duration": 92,
    "start_time": "2023-10-09T15:28:40.371Z"
   },
   {
    "duration": 3,
    "start_time": "2023-10-09T15:28:40.465Z"
   },
   {
    "duration": 51,
    "start_time": "2023-10-09T15:28:40.470Z"
   },
   {
    "duration": 15,
    "start_time": "2023-10-09T15:28:40.522Z"
   },
   {
    "duration": 10,
    "start_time": "2023-10-09T15:28:40.539Z"
   },
   {
    "duration": 35,
    "start_time": "2023-10-09T15:28:40.550Z"
   },
   {
    "duration": 16,
    "start_time": "2023-10-09T15:28:40.587Z"
   },
   {
    "duration": 99,
    "start_time": "2023-10-09T15:28:40.605Z"
   },
   {
    "duration": 4742,
    "start_time": "2023-10-09T15:28:40.707Z"
   },
   {
    "duration": 21,
    "start_time": "2023-10-09T15:28:45.451Z"
   },
   {
    "duration": 1287,
    "start_time": "2023-10-09T15:28:45.473Z"
   },
   {
    "duration": 1834,
    "start_time": "2023-10-09T15:28:46.761Z"
   },
   {
    "duration": 18,
    "start_time": "2023-10-09T15:28:48.596Z"
   },
   {
    "duration": 577,
    "start_time": "2023-10-09T15:28:48.615Z"
   },
   {
    "duration": 17,
    "start_time": "2023-10-09T15:28:49.193Z"
   },
   {
    "duration": 26139,
    "start_time": "2023-10-09T15:28:49.212Z"
   },
   {
    "duration": 96,
    "start_time": "2023-10-09T15:29:15.354Z"
   },
   {
    "duration": 15,
    "start_time": "2023-10-09T15:29:15.453Z"
   },
   {
    "duration": 86,
    "start_time": "2023-10-09T15:29:15.470Z"
   },
   {
    "duration": 168,
    "start_time": "2023-10-09T15:29:15.557Z"
   },
   {
    "duration": 6987,
    "start_time": "2023-10-09T15:29:15.726Z"
   },
   {
    "duration": 7579,
    "start_time": "2023-10-09T15:29:47.283Z"
   },
   {
    "duration": 1560,
    "start_time": "2023-10-10T10:26:12.457Z"
   },
   {
    "duration": 6,
    "start_time": "2023-10-10T10:26:14.020Z"
   },
   {
    "duration": 6879,
    "start_time": "2023-10-10T10:26:14.028Z"
   },
   {
    "duration": 4,
    "start_time": "2023-10-10T10:26:20.910Z"
   },
   {
    "duration": 1208,
    "start_time": "2023-10-10T10:26:20.917Z"
   },
   {
    "duration": 19,
    "start_time": "2023-10-10T10:26:22.127Z"
   },
   {
    "duration": 161,
    "start_time": "2023-10-10T10:26:22.147Z"
   },
   {
    "duration": 145,
    "start_time": "2023-10-10T10:26:22.310Z"
   },
   {
    "duration": 199,
    "start_time": "2023-10-10T10:26:22.457Z"
   },
   {
    "duration": 94,
    "start_time": "2023-10-10T10:26:22.657Z"
   },
   {
    "duration": 297,
    "start_time": "2023-10-10T10:26:22.753Z"
   },
   {
    "duration": 299,
    "start_time": "2023-10-10T10:26:23.051Z"
   },
   {
    "duration": 21,
    "start_time": "2023-10-10T10:26:23.353Z"
   },
   {
    "duration": 139,
    "start_time": "2023-10-10T10:26:23.377Z"
   },
   {
    "duration": 16,
    "start_time": "2023-10-10T10:26:23.518Z"
   },
   {
    "duration": 419,
    "start_time": "2023-10-10T10:26:23.536Z"
   },
   {
    "duration": 443,
    "start_time": "2023-10-10T10:26:23.957Z"
   },
   {
    "duration": 183,
    "start_time": "2023-10-10T10:26:24.402Z"
   },
   {
    "duration": 11,
    "start_time": "2023-10-10T10:26:24.586Z"
   },
   {
    "duration": 64,
    "start_time": "2023-10-10T10:26:24.599Z"
   },
   {
    "duration": 5,
    "start_time": "2023-10-10T10:26:24.665Z"
   },
   {
    "duration": 64,
    "start_time": "2023-10-10T10:26:24.671Z"
   },
   {
    "duration": 421,
    "start_time": "2023-10-10T10:26:24.737Z"
   },
   {
    "duration": 85,
    "start_time": "2023-10-10T10:26:25.160Z"
   },
   {
    "duration": 3,
    "start_time": "2023-10-10T10:26:25.247Z"
   },
   {
    "duration": 39,
    "start_time": "2023-10-10T10:26:25.251Z"
   },
   {
    "duration": 15,
    "start_time": "2023-10-10T10:26:25.291Z"
   },
   {
    "duration": 11,
    "start_time": "2023-10-10T10:26:25.307Z"
   },
   {
    "duration": 32,
    "start_time": "2023-10-10T10:26:25.324Z"
   },
   {
    "duration": 6,
    "start_time": "2023-10-10T10:26:25.358Z"
   },
   {
    "duration": 78,
    "start_time": "2023-10-10T10:26:25.365Z"
   },
   {
    "duration": 2718,
    "start_time": "2023-10-10T10:26:25.445Z"
   },
   {
    "duration": 0,
    "start_time": "2023-10-10T10:26:28.165Z"
   },
   {
    "duration": 0,
    "start_time": "2023-10-10T10:26:28.166Z"
   },
   {
    "duration": 0,
    "start_time": "2023-10-10T10:26:28.167Z"
   },
   {
    "duration": 0,
    "start_time": "2023-10-10T10:26:28.168Z"
   },
   {
    "duration": 0,
    "start_time": "2023-10-10T10:26:28.169Z"
   },
   {
    "duration": 0,
    "start_time": "2023-10-10T10:26:28.171Z"
   },
   {
    "duration": 0,
    "start_time": "2023-10-10T10:26:28.172Z"
   },
   {
    "duration": 0,
    "start_time": "2023-10-10T10:26:28.173Z"
   },
   {
    "duration": 0,
    "start_time": "2023-10-10T10:26:28.175Z"
   },
   {
    "duration": 0,
    "start_time": "2023-10-10T10:26:28.176Z"
   },
   {
    "duration": 0,
    "start_time": "2023-10-10T10:26:28.178Z"
   },
   {
    "duration": 0,
    "start_time": "2023-10-10T10:26:28.180Z"
   },
   {
    "duration": 1248,
    "start_time": "2023-10-10T10:27:48.649Z"
   },
   {
    "duration": 7,
    "start_time": "2023-10-10T10:27:49.899Z"
   },
   {
    "duration": 2549,
    "start_time": "2023-10-10T10:27:49.907Z"
   },
   {
    "duration": 4,
    "start_time": "2023-10-10T10:27:52.457Z"
   },
   {
    "duration": 875,
    "start_time": "2023-10-10T10:27:52.462Z"
   },
   {
    "duration": 16,
    "start_time": "2023-10-10T10:27:53.338Z"
   },
   {
    "duration": 162,
    "start_time": "2023-10-10T10:27:53.356Z"
   },
   {
    "duration": 134,
    "start_time": "2023-10-10T10:27:53.523Z"
   },
   {
    "duration": 187,
    "start_time": "2023-10-10T10:27:53.658Z"
   },
   {
    "duration": 83,
    "start_time": "2023-10-10T10:27:53.847Z"
   },
   {
    "duration": 268,
    "start_time": "2023-10-10T10:27:53.932Z"
   },
   {
    "duration": 265,
    "start_time": "2023-10-10T10:27:54.202Z"
   },
   {
    "duration": 20,
    "start_time": "2023-10-10T10:27:54.468Z"
   },
   {
    "duration": 135,
    "start_time": "2023-10-10T10:27:54.490Z"
   },
   {
    "duration": 13,
    "start_time": "2023-10-10T10:27:54.627Z"
   },
   {
    "duration": 409,
    "start_time": "2023-10-10T10:27:54.641Z"
   },
   {
    "duration": 414,
    "start_time": "2023-10-10T10:27:55.052Z"
   },
   {
    "duration": 171,
    "start_time": "2023-10-10T10:27:55.468Z"
   },
   {
    "duration": 10,
    "start_time": "2023-10-10T10:27:55.641Z"
   },
   {
    "duration": 50,
    "start_time": "2023-10-10T10:27:55.653Z"
   },
   {
    "duration": 21,
    "start_time": "2023-10-10T10:27:55.705Z"
   },
   {
    "duration": 51,
    "start_time": "2023-10-10T10:27:55.728Z"
   },
   {
    "duration": 405,
    "start_time": "2023-10-10T10:27:55.780Z"
   },
   {
    "duration": 92,
    "start_time": "2023-10-10T10:27:56.186Z"
   },
   {
    "duration": 3,
    "start_time": "2023-10-10T10:27:56.280Z"
   },
   {
    "duration": 35,
    "start_time": "2023-10-10T10:27:56.284Z"
   },
   {
    "duration": 15,
    "start_time": "2023-10-10T10:27:56.321Z"
   },
   {
    "duration": 11,
    "start_time": "2023-10-10T10:27:56.338Z"
   },
   {
    "duration": 24,
    "start_time": "2023-10-10T10:27:56.351Z"
   },
   {
    "duration": 16,
    "start_time": "2023-10-10T10:27:56.376Z"
   },
   {
    "duration": 83,
    "start_time": "2023-10-10T10:27:56.393Z"
   },
   {
    "duration": 5603,
    "start_time": "2023-10-10T10:27:56.477Z"
   },
   {
    "duration": 24,
    "start_time": "2023-10-10T10:28:02.082Z"
   },
   {
    "duration": 1691,
    "start_time": "2023-10-10T10:28:02.108Z"
   },
   {
    "duration": 1876,
    "start_time": "2023-10-10T10:28:03.801Z"
   },
   {
    "duration": 19,
    "start_time": "2023-10-10T10:28:05.679Z"
   },
   {
    "duration": 635,
    "start_time": "2023-10-10T10:28:05.700Z"
   },
   {
    "duration": 19,
    "start_time": "2023-10-10T10:28:06.337Z"
   },
   {
    "duration": 27672,
    "start_time": "2023-10-10T10:28:06.358Z"
   },
   {
    "duration": 648000,
    "start_time": "2023-10-10T10:28:34.032Z"
   },
   {
    "duration": 3,
    "start_time": "2023-10-10T10:39:22.127Z"
   },
   {
    "duration": 181,
    "start_time": "2023-10-10T10:39:22.131Z"
   },
   {
    "duration": 181,
    "start_time": "2023-10-10T10:39:22.314Z"
   },
   {
    "duration": 171,
    "start_time": "2023-10-10T10:39:22.496Z"
   },
   {
    "duration": 4,
    "start_time": "2023-10-10T10:39:22.668Z"
   },
   {
    "duration": 36,
    "start_time": "2023-10-10T10:39:22.673Z"
   },
   {
    "duration": 1346189,
    "start_time": "2023-10-10T10:40:49.308Z"
   },
   {
    "duration": 1292,
    "start_time": "2023-10-10T11:11:07.256Z"
   },
   {
    "duration": 5,
    "start_time": "2023-10-10T11:11:08.551Z"
   },
   {
    "duration": 2994,
    "start_time": "2023-10-10T11:11:08.558Z"
   },
   {
    "duration": 4,
    "start_time": "2023-10-10T11:11:11.554Z"
   },
   {
    "duration": 981,
    "start_time": "2023-10-10T11:11:11.561Z"
   },
   {
    "duration": 18,
    "start_time": "2023-10-10T11:11:12.544Z"
   },
   {
    "duration": 173,
    "start_time": "2023-10-10T11:11:12.563Z"
   },
   {
    "duration": 151,
    "start_time": "2023-10-10T11:11:12.740Z"
   },
   {
    "duration": 251,
    "start_time": "2023-10-10T11:11:12.893Z"
   },
   {
    "duration": 96,
    "start_time": "2023-10-10T11:11:13.146Z"
   },
   {
    "duration": 317,
    "start_time": "2023-10-10T11:11:13.245Z"
   },
   {
    "duration": 294,
    "start_time": "2023-10-10T11:11:13.563Z"
   },
   {
    "duration": 20,
    "start_time": "2023-10-10T11:11:13.859Z"
   },
   {
    "duration": 149,
    "start_time": "2023-10-10T11:11:13.882Z"
   },
   {
    "duration": 18,
    "start_time": "2023-10-10T11:11:14.033Z"
   },
   {
    "duration": 486,
    "start_time": "2023-10-10T11:11:14.052Z"
   },
   {
    "duration": 521,
    "start_time": "2023-10-10T11:11:14.540Z"
   },
   {
    "duration": 227,
    "start_time": "2023-10-10T11:11:15.063Z"
   },
   {
    "duration": 12,
    "start_time": "2023-10-10T11:11:15.292Z"
   },
   {
    "duration": 77,
    "start_time": "2023-10-10T11:11:15.306Z"
   },
   {
    "duration": 8,
    "start_time": "2023-10-10T11:11:15.385Z"
   },
   {
    "duration": 67,
    "start_time": "2023-10-10T11:11:15.395Z"
   },
   {
    "duration": 430,
    "start_time": "2023-10-10T11:11:15.464Z"
   },
   {
    "duration": 115,
    "start_time": "2023-10-10T11:11:15.897Z"
   },
   {
    "duration": 12,
    "start_time": "2023-10-10T11:11:16.014Z"
   },
   {
    "duration": 82,
    "start_time": "2023-10-10T11:11:16.028Z"
   },
   {
    "duration": 16,
    "start_time": "2023-10-10T11:11:16.113Z"
   },
   {
    "duration": 27,
    "start_time": "2023-10-10T11:11:16.133Z"
   },
   {
    "duration": 30,
    "start_time": "2023-10-10T11:11:16.163Z"
   },
   {
    "duration": 9,
    "start_time": "2023-10-10T11:11:16.196Z"
   },
   {
    "duration": 104,
    "start_time": "2023-10-10T11:11:16.208Z"
   },
   {
    "duration": 5265,
    "start_time": "2023-10-10T11:11:16.314Z"
   },
   {
    "duration": 24,
    "start_time": "2023-10-10T11:11:21.581Z"
   },
   {
    "duration": 1304,
    "start_time": "2023-10-10T11:11:21.607Z"
   },
   {
    "duration": 1916,
    "start_time": "2023-10-10T11:11:22.913Z"
   },
   {
    "duration": 25,
    "start_time": "2023-10-10T11:11:24.832Z"
   },
   {
    "duration": 714,
    "start_time": "2023-10-10T11:11:24.858Z"
   },
   {
    "duration": 25,
    "start_time": "2023-10-10T11:11:25.574Z"
   },
   {
    "duration": 74925,
    "start_time": "2023-10-10T11:11:25.601Z"
   },
   {
    "duration": 1710,
    "start_time": "2023-10-10T15:51:54.371Z"
   },
   {
    "duration": 6,
    "start_time": "2023-10-10T15:52:04.883Z"
   },
   {
    "duration": 1442,
    "start_time": "2023-10-10T15:52:12.229Z"
   },
   {
    "duration": 6,
    "start_time": "2023-10-10T15:52:13.673Z"
   },
   {
    "duration": 6952,
    "start_time": "2023-10-10T15:52:13.681Z"
   },
   {
    "duration": 4,
    "start_time": "2023-10-10T15:52:20.635Z"
   },
   {
    "duration": 1371,
    "start_time": "2023-10-10T15:52:20.640Z"
   },
   {
    "duration": 19,
    "start_time": "2023-10-10T15:52:22.012Z"
   },
   {
    "duration": 163,
    "start_time": "2023-10-10T15:52:22.033Z"
   },
   {
    "duration": 153,
    "start_time": "2023-10-10T15:52:22.202Z"
   },
   {
    "duration": 227,
    "start_time": "2023-10-10T15:52:22.356Z"
   },
   {
    "duration": 99,
    "start_time": "2023-10-10T15:52:22.585Z"
   },
   {
    "duration": 302,
    "start_time": "2023-10-10T15:52:22.686Z"
   },
   {
    "duration": 292,
    "start_time": "2023-10-10T15:52:22.990Z"
   },
   {
    "duration": 26,
    "start_time": "2023-10-10T15:52:23.284Z"
   },
   {
    "duration": 190,
    "start_time": "2023-10-10T15:52:23.312Z"
   },
   {
    "duration": 14,
    "start_time": "2023-10-10T15:52:23.504Z"
   },
   {
    "duration": 490,
    "start_time": "2023-10-10T15:52:23.520Z"
   },
   {
    "duration": 504,
    "start_time": "2023-10-10T15:52:24.011Z"
   },
   {
    "duration": 276,
    "start_time": "2023-10-10T15:52:24.517Z"
   },
   {
    "duration": 18,
    "start_time": "2023-10-10T15:52:24.796Z"
   },
   {
    "duration": 101,
    "start_time": "2023-10-10T15:52:24.816Z"
   },
   {
    "duration": 7,
    "start_time": "2023-10-10T15:52:24.919Z"
   },
   {
    "duration": 103,
    "start_time": "2023-10-10T15:52:24.927Z"
   },
   {
    "duration": 496,
    "start_time": "2023-10-10T15:52:25.032Z"
   },
   {
    "duration": 99,
    "start_time": "2023-10-10T15:52:25.530Z"
   },
   {
    "duration": 3,
    "start_time": "2023-10-10T15:52:25.631Z"
   },
   {
    "duration": 58,
    "start_time": "2023-10-10T15:52:25.636Z"
   },
   {
    "duration": 26,
    "start_time": "2023-10-10T15:52:25.696Z"
   },
   {
    "duration": 26,
    "start_time": "2023-10-10T15:52:25.725Z"
   },
   {
    "duration": 37,
    "start_time": "2023-10-10T15:52:25.753Z"
   },
   {
    "duration": 28,
    "start_time": "2023-10-10T15:52:25.792Z"
   },
   {
    "duration": 109,
    "start_time": "2023-10-10T15:52:25.822Z"
   },
   {
    "duration": 2984,
    "start_time": "2023-10-10T15:52:25.933Z"
   },
   {
    "duration": 0,
    "start_time": "2023-10-10T15:52:28.919Z"
   },
   {
    "duration": 0,
    "start_time": "2023-10-10T15:52:28.921Z"
   },
   {
    "duration": 1,
    "start_time": "2023-10-10T15:52:28.922Z"
   },
   {
    "duration": 0,
    "start_time": "2023-10-10T15:52:28.924Z"
   },
   {
    "duration": 0,
    "start_time": "2023-10-10T15:52:28.926Z"
   },
   {
    "duration": 0,
    "start_time": "2023-10-10T15:52:28.927Z"
   },
   {
    "duration": 0,
    "start_time": "2023-10-10T15:52:28.928Z"
   },
   {
    "duration": 0,
    "start_time": "2023-10-10T15:52:28.930Z"
   },
   {
    "duration": 0,
    "start_time": "2023-10-10T15:52:28.931Z"
   },
   {
    "duration": 0,
    "start_time": "2023-10-10T15:52:28.933Z"
   },
   {
    "duration": 0,
    "start_time": "2023-10-10T15:52:28.934Z"
   },
   {
    "duration": 0,
    "start_time": "2023-10-10T15:52:28.935Z"
   },
   {
    "duration": 0,
    "start_time": "2023-10-10T15:52:28.937Z"
   },
   {
    "duration": 0,
    "start_time": "2023-10-10T15:52:28.939Z"
   },
   {
    "duration": 0,
    "start_time": "2023-10-10T15:52:28.940Z"
   },
   {
    "duration": 0,
    "start_time": "2023-10-10T15:52:28.941Z"
   },
   {
    "duration": 0,
    "start_time": "2023-10-10T15:52:28.943Z"
   },
   {
    "duration": 0,
    "start_time": "2023-10-10T15:52:28.944Z"
   },
   {
    "duration": 0,
    "start_time": "2023-10-10T15:52:28.946Z"
   },
   {
    "duration": 0,
    "start_time": "2023-10-10T15:52:28.947Z"
   },
   {
    "duration": 3,
    "start_time": "2023-10-10T15:52:36.054Z"
   },
   {
    "duration": 2948,
    "start_time": "2023-10-10T15:52:37.799Z"
   },
   {
    "duration": 5,
    "start_time": "2023-10-10T15:52:40.749Z"
   },
   {
    "duration": 1277,
    "start_time": "2023-10-10T15:52:45.853Z"
   },
   {
    "duration": 7,
    "start_time": "2023-10-10T15:52:47.132Z"
   },
   {
    "duration": 2925,
    "start_time": "2023-10-10T15:52:47.141Z"
   },
   {
    "duration": 4,
    "start_time": "2023-10-10T15:52:50.069Z"
   },
   {
    "duration": 1079,
    "start_time": "2023-10-10T15:52:50.076Z"
   },
   {
    "duration": 18,
    "start_time": "2023-10-10T15:52:51.157Z"
   },
   {
    "duration": 177,
    "start_time": "2023-10-10T15:52:51.177Z"
   },
   {
    "duration": 150,
    "start_time": "2023-10-10T15:52:51.356Z"
   },
   {
    "duration": 202,
    "start_time": "2023-10-10T15:52:51.507Z"
   },
   {
    "duration": 525,
    "start_time": "2023-10-10T15:52:51.711Z"
   },
   {
    "duration": 392,
    "start_time": "2023-10-10T15:52:52.238Z"
   },
   {
    "duration": 294,
    "start_time": "2023-10-10T15:52:52.632Z"
   },
   {
    "duration": 24,
    "start_time": "2023-10-10T15:52:52.928Z"
   },
   {
    "duration": 179,
    "start_time": "2023-10-10T15:52:52.956Z"
   },
   {
    "duration": 247,
    "start_time": "2023-10-10T15:52:53.137Z"
   },
   {
    "duration": 616,
    "start_time": "2023-10-10T15:52:53.386Z"
   },
   {
    "duration": 521,
    "start_time": "2023-10-10T15:52:54.004Z"
   },
   {
    "duration": 238,
    "start_time": "2023-10-10T15:52:54.527Z"
   },
   {
    "duration": 15,
    "start_time": "2023-10-10T15:52:54.767Z"
   },
   {
    "duration": 81,
    "start_time": "2023-10-10T15:52:54.784Z"
   },
   {
    "duration": 8,
    "start_time": "2023-10-10T15:52:54.867Z"
   },
   {
    "duration": 94,
    "start_time": "2023-10-10T15:52:54.877Z"
   },
   {
    "duration": 378,
    "start_time": "2023-10-10T15:52:54.973Z"
   },
   {
    "duration": 105,
    "start_time": "2023-10-10T15:52:55.353Z"
   },
   {
    "duration": 3,
    "start_time": "2023-10-10T15:52:55.460Z"
   },
   {
    "duration": 81,
    "start_time": "2023-10-10T15:52:55.465Z"
   },
   {
    "duration": 153,
    "start_time": "2023-10-10T15:52:55.547Z"
   },
   {
    "duration": 186,
    "start_time": "2023-10-10T15:52:55.703Z"
   },
   {
    "duration": 51,
    "start_time": "2023-10-10T15:52:55.892Z"
   },
   {
    "duration": 40,
    "start_time": "2023-10-10T15:52:55.944Z"
   },
   {
    "duration": 123,
    "start_time": "2023-10-10T15:52:55.986Z"
   },
   {
    "duration": 7336,
    "start_time": "2023-10-10T15:52:56.111Z"
   },
   {
    "duration": 25,
    "start_time": "2023-10-10T15:53:03.448Z"
   },
   {
    "duration": 1695,
    "start_time": "2023-10-10T15:53:03.475Z"
   },
   {
    "duration": 2115,
    "start_time": "2023-10-10T15:53:05.172Z"
   },
   {
    "duration": 25,
    "start_time": "2023-10-10T15:53:07.289Z"
   },
   {
    "duration": 658,
    "start_time": "2023-10-10T15:53:07.315Z"
   },
   {
    "duration": 27,
    "start_time": "2023-10-10T15:53:07.975Z"
   },
   {
    "duration": 29406,
    "start_time": "2023-10-10T15:53:08.004Z"
   },
   {
    "duration": 756498,
    "start_time": "2023-10-10T15:53:37.502Z"
   },
   {
    "duration": 3,
    "start_time": "2023-10-10T16:06:14.005Z"
   },
   {
    "duration": 163,
    "start_time": "2023-10-10T16:06:14.010Z"
   },
   {
    "duration": 0,
    "start_time": "2023-10-10T16:06:14.175Z"
   },
   {
    "duration": 0,
    "start_time": "2023-10-10T16:06:14.177Z"
   },
   {
    "duration": 0,
    "start_time": "2023-10-10T16:06:14.178Z"
   },
   {
    "duration": 0,
    "start_time": "2023-10-10T16:06:14.180Z"
   },
   {
    "duration": 0,
    "start_time": "2023-10-10T16:06:14.182Z"
   },
   {
    "duration": 0,
    "start_time": "2023-10-10T16:06:14.183Z"
   },
   {
    "duration": 0,
    "start_time": "2023-10-10T16:06:14.202Z"
   },
   {
    "duration": 0,
    "start_time": "2023-10-10T16:06:14.203Z"
   },
   {
    "duration": 0,
    "start_time": "2023-10-10T16:06:14.205Z"
   },
   {
    "duration": 0,
    "start_time": "2023-10-10T16:06:14.206Z"
   },
   {
    "duration": 3,
    "start_time": "2023-10-10T16:07:01.535Z"
   },
   {
    "duration": 3,
    "start_time": "2023-10-10T16:07:02.927Z"
   },
   {
    "duration": 19,
    "start_time": "2023-10-10T16:07:03.486Z"
   },
   {
    "duration": 80,
    "start_time": "2023-10-10T16:07:04.246Z"
   },
   {
    "duration": 186,
    "start_time": "2023-10-10T16:07:04.973Z"
   },
   {
    "duration": 62231,
    "start_time": "2023-10-10T16:07:05.881Z"
   },
   {
    "duration": 82,
    "start_time": "2023-10-10T16:08:14.892Z"
   },
   {
    "duration": 5,
    "start_time": "2023-10-10T16:08:24.703Z"
   },
   {
    "duration": 3,
    "start_time": "2023-10-10T16:08:30.820Z"
   },
   {
    "duration": 48,
    "start_time": "2023-10-10T16:09:11.504Z"
   },
   {
    "duration": 93,
    "start_time": "2023-10-10T16:09:17.891Z"
   },
   {
    "duration": 118,
    "start_time": "2023-10-10T16:10:22.859Z"
   },
   {
    "duration": 830,
    "start_time": "2023-10-10T16:10:28.972Z"
   },
   {
    "duration": 1819,
    "start_time": "2023-10-11T08:09:15.162Z"
   },
   {
    "duration": 6,
    "start_time": "2023-10-11T08:09:16.983Z"
   },
   {
    "duration": 7138,
    "start_time": "2023-10-11T08:09:16.990Z"
   },
   {
    "duration": 4,
    "start_time": "2023-10-11T08:09:24.132Z"
   },
   {
    "duration": 3190,
    "start_time": "2023-10-11T08:09:24.139Z"
   },
   {
    "duration": 19,
    "start_time": "2023-10-11T08:09:27.331Z"
   },
   {
    "duration": 162,
    "start_time": "2023-10-11T08:09:27.352Z"
   },
   {
    "duration": 161,
    "start_time": "2023-10-11T08:09:27.516Z"
   },
   {
    "duration": 224,
    "start_time": "2023-10-11T08:09:27.679Z"
   },
   {
    "duration": 107,
    "start_time": "2023-10-11T08:09:27.907Z"
   },
   {
    "duration": 328,
    "start_time": "2023-10-11T08:09:28.016Z"
   },
   {
    "duration": 300,
    "start_time": "2023-10-11T08:09:28.346Z"
   },
   {
    "duration": 237,
    "start_time": "2023-10-11T08:09:28.648Z"
   },
   {
    "duration": 466,
    "start_time": "2023-10-11T08:09:28.888Z"
   },
   {
    "duration": 16,
    "start_time": "2023-10-11T08:09:29.355Z"
   },
   {
    "duration": 548,
    "start_time": "2023-10-11T08:09:29.373Z"
   },
   {
    "duration": 549,
    "start_time": "2023-10-11T08:09:29.923Z"
   },
   {
    "duration": 231,
    "start_time": "2023-10-11T08:09:30.474Z"
   },
   {
    "duration": 14,
    "start_time": "2023-10-11T08:09:30.707Z"
   },
   {
    "duration": 102,
    "start_time": "2023-10-11T08:09:30.724Z"
   },
   {
    "duration": 85,
    "start_time": "2023-10-11T08:09:30.829Z"
   },
   {
    "duration": 207,
    "start_time": "2023-10-11T08:09:30.916Z"
   },
   {
    "duration": 534,
    "start_time": "2023-10-11T08:09:31.125Z"
   },
   {
    "duration": 113,
    "start_time": "2023-10-11T08:09:31.661Z"
   },
   {
    "duration": 5,
    "start_time": "2023-10-11T08:09:31.776Z"
   },
   {
    "duration": 106,
    "start_time": "2023-10-11T08:09:31.783Z"
   },
   {
    "duration": 88,
    "start_time": "2023-10-11T08:09:31.891Z"
   },
   {
    "duration": 53,
    "start_time": "2023-10-11T08:09:31.983Z"
   },
   {
    "duration": 111,
    "start_time": "2023-10-11T08:09:32.038Z"
   },
   {
    "duration": 135,
    "start_time": "2023-10-11T08:09:32.151Z"
   },
   {
    "duration": 205,
    "start_time": "2023-10-11T08:09:32.292Z"
   },
   {
    "duration": 3115,
    "start_time": "2023-10-11T08:09:32.501Z"
   },
   {
    "duration": 0,
    "start_time": "2023-10-11T08:09:35.618Z"
   },
   {
    "duration": 0,
    "start_time": "2023-10-11T08:09:35.621Z"
   },
   {
    "duration": 0,
    "start_time": "2023-10-11T08:09:35.623Z"
   },
   {
    "duration": 0,
    "start_time": "2023-10-11T08:09:35.625Z"
   },
   {
    "duration": 0,
    "start_time": "2023-10-11T08:09:35.626Z"
   },
   {
    "duration": 0,
    "start_time": "2023-10-11T08:09:35.627Z"
   },
   {
    "duration": 0,
    "start_time": "2023-10-11T08:09:35.629Z"
   },
   {
    "duration": 0,
    "start_time": "2023-10-11T08:09:35.630Z"
   },
   {
    "duration": 0,
    "start_time": "2023-10-11T08:09:35.631Z"
   },
   {
    "duration": 0,
    "start_time": "2023-10-11T08:09:35.632Z"
   },
   {
    "duration": 0,
    "start_time": "2023-10-11T08:09:35.656Z"
   },
   {
    "duration": 0,
    "start_time": "2023-10-11T08:09:35.659Z"
   },
   {
    "duration": 0,
    "start_time": "2023-10-11T08:09:35.660Z"
   },
   {
    "duration": 0,
    "start_time": "2023-10-11T08:09:35.661Z"
   },
   {
    "duration": 0,
    "start_time": "2023-10-11T08:09:35.662Z"
   },
   {
    "duration": 0,
    "start_time": "2023-10-11T08:09:35.663Z"
   },
   {
    "duration": 0,
    "start_time": "2023-10-11T08:09:35.664Z"
   },
   {
    "duration": 0,
    "start_time": "2023-10-11T08:09:35.665Z"
   },
   {
    "duration": 0,
    "start_time": "2023-10-11T08:09:35.666Z"
   },
   {
    "duration": 5,
    "start_time": "2023-10-11T08:10:28.238Z"
   },
   {
    "duration": 2995,
    "start_time": "2023-10-11T08:10:31.673Z"
   },
   {
    "duration": 5,
    "start_time": "2023-10-11T08:10:34.671Z"
   },
   {
    "duration": 1465,
    "start_time": "2023-10-11T08:10:42.927Z"
   },
   {
    "duration": 7,
    "start_time": "2023-10-11T08:10:44.394Z"
   },
   {
    "duration": 2975,
    "start_time": "2023-10-11T08:10:44.403Z"
   },
   {
    "duration": 4,
    "start_time": "2023-10-11T08:10:47.381Z"
   },
   {
    "duration": 1105,
    "start_time": "2023-10-11T08:10:47.387Z"
   },
   {
    "duration": 20,
    "start_time": "2023-10-11T08:10:48.494Z"
   },
   {
    "duration": 192,
    "start_time": "2023-10-11T08:10:48.515Z"
   },
   {
    "duration": 191,
    "start_time": "2023-10-11T08:10:48.709Z"
   },
   {
    "duration": 255,
    "start_time": "2023-10-11T08:10:48.902Z"
   },
   {
    "duration": 82,
    "start_time": "2023-10-11T08:10:49.161Z"
   },
   {
    "duration": 305,
    "start_time": "2023-10-11T08:10:49.246Z"
   },
   {
    "duration": 292,
    "start_time": "2023-10-11T08:10:49.553Z"
   },
   {
    "duration": 27,
    "start_time": "2023-10-11T08:10:49.847Z"
   },
   {
    "duration": 154,
    "start_time": "2023-10-11T08:10:49.876Z"
   },
   {
    "duration": 37,
    "start_time": "2023-10-11T08:10:50.031Z"
   },
   {
    "duration": 488,
    "start_time": "2023-10-11T08:10:50.070Z"
   },
   {
    "duration": 529,
    "start_time": "2023-10-11T08:10:50.560Z"
   },
   {
    "duration": 206,
    "start_time": "2023-10-11T08:10:51.091Z"
   },
   {
    "duration": 14,
    "start_time": "2023-10-11T08:10:51.299Z"
   },
   {
    "duration": 75,
    "start_time": "2023-10-11T08:10:51.315Z"
   },
   {
    "duration": 7,
    "start_time": "2023-10-11T08:10:51.391Z"
   },
   {
    "duration": 84,
    "start_time": "2023-10-11T08:10:51.400Z"
   },
   {
    "duration": 371,
    "start_time": "2023-10-11T08:10:51.486Z"
   },
   {
    "duration": 102,
    "start_time": "2023-10-11T08:10:51.859Z"
   },
   {
    "duration": 3,
    "start_time": "2023-10-11T08:10:51.963Z"
   },
   {
    "duration": 46,
    "start_time": "2023-10-11T08:10:51.968Z"
   },
   {
    "duration": 18,
    "start_time": "2023-10-11T08:10:52.017Z"
   },
   {
    "duration": 20,
    "start_time": "2023-10-11T08:10:52.039Z"
   },
   {
    "duration": 57,
    "start_time": "2023-10-11T08:10:52.061Z"
   },
   {
    "duration": 27,
    "start_time": "2023-10-11T08:10:52.120Z"
   },
   {
    "duration": 100,
    "start_time": "2023-10-11T08:10:52.149Z"
   },
   {
    "duration": 7316,
    "start_time": "2023-10-11T08:10:52.251Z"
   },
   {
    "duration": 40,
    "start_time": "2023-10-11T08:10:59.569Z"
   },
   {
    "duration": 238,
    "start_time": "2023-10-11T08:10:59.611Z"
   },
   {
    "duration": 0,
    "start_time": "2023-10-11T08:10:59.851Z"
   },
   {
    "duration": 0,
    "start_time": "2023-10-11T08:10:59.856Z"
   },
   {
    "duration": 0,
    "start_time": "2023-10-11T08:10:59.857Z"
   },
   {
    "duration": 0,
    "start_time": "2023-10-11T08:10:59.859Z"
   },
   {
    "duration": 0,
    "start_time": "2023-10-11T08:10:59.861Z"
   },
   {
    "duration": 0,
    "start_time": "2023-10-11T08:10:59.862Z"
   },
   {
    "duration": 0,
    "start_time": "2023-10-11T08:10:59.863Z"
   },
   {
    "duration": 0,
    "start_time": "2023-10-11T08:10:59.864Z"
   },
   {
    "duration": 0,
    "start_time": "2023-10-11T08:10:59.865Z"
   },
   {
    "duration": 0,
    "start_time": "2023-10-11T08:10:59.866Z"
   },
   {
    "duration": 0,
    "start_time": "2023-10-11T08:10:59.868Z"
   },
   {
    "duration": 0,
    "start_time": "2023-10-11T08:10:59.869Z"
   },
   {
    "duration": 0,
    "start_time": "2023-10-11T08:10:59.871Z"
   },
   {
    "duration": 0,
    "start_time": "2023-10-11T08:10:59.872Z"
   },
   {
    "duration": 0,
    "start_time": "2023-10-11T08:10:59.873Z"
   },
   {
    "duration": 0,
    "start_time": "2023-10-11T08:10:59.876Z"
   },
   {
    "duration": 13,
    "start_time": "2023-10-11T08:12:14.191Z"
   },
   {
    "duration": 1557,
    "start_time": "2023-10-11T08:14:11.268Z"
   },
   {
    "duration": 0,
    "start_time": "2023-10-11T08:14:12.827Z"
   },
   {
    "duration": 1503,
    "start_time": "2023-10-11T08:14:19.125Z"
   },
   {
    "duration": 6,
    "start_time": "2023-10-11T08:14:20.630Z"
   },
   {
    "duration": 3075,
    "start_time": "2023-10-11T08:14:20.638Z"
   },
   {
    "duration": 3,
    "start_time": "2023-10-11T08:14:23.717Z"
   },
   {
    "duration": 1076,
    "start_time": "2023-10-11T08:14:23.722Z"
   },
   {
    "duration": 20,
    "start_time": "2023-10-11T08:14:24.800Z"
   },
   {
    "duration": 191,
    "start_time": "2023-10-11T08:14:24.822Z"
   },
   {
    "duration": 172,
    "start_time": "2023-10-11T08:14:25.015Z"
   },
   {
    "duration": 213,
    "start_time": "2023-10-11T08:14:25.189Z"
   },
   {
    "duration": 107,
    "start_time": "2023-10-11T08:14:25.406Z"
   },
   {
    "duration": 303,
    "start_time": "2023-10-11T08:14:25.515Z"
   },
   {
    "duration": 296,
    "start_time": "2023-10-11T08:14:25.821Z"
   },
   {
    "duration": 23,
    "start_time": "2023-10-11T08:14:26.119Z"
   },
   {
    "duration": 148,
    "start_time": "2023-10-11T08:14:26.156Z"
   },
   {
    "duration": 15,
    "start_time": "2023-10-11T08:14:26.306Z"
   },
   {
    "duration": 491,
    "start_time": "2023-10-11T08:14:26.322Z"
   },
   {
    "duration": 541,
    "start_time": "2023-10-11T08:14:26.815Z"
   },
   {
    "duration": 194,
    "start_time": "2023-10-11T08:14:27.358Z"
   },
   {
    "duration": 15,
    "start_time": "2023-10-11T08:14:27.557Z"
   },
   {
    "duration": 82,
    "start_time": "2023-10-11T08:14:27.574Z"
   },
   {
    "duration": 8,
    "start_time": "2023-10-11T08:14:27.659Z"
   },
   {
    "duration": 70,
    "start_time": "2023-10-11T08:14:27.669Z"
   },
   {
    "duration": 415,
    "start_time": "2023-10-11T08:14:27.741Z"
   },
   {
    "duration": 111,
    "start_time": "2023-10-11T08:14:28.158Z"
   },
   {
    "duration": 3,
    "start_time": "2023-10-11T08:14:28.271Z"
   },
   {
    "duration": 34,
    "start_time": "2023-10-11T08:14:28.275Z"
   },
   {
    "duration": 20,
    "start_time": "2023-10-11T08:14:28.311Z"
   },
   {
    "duration": 31,
    "start_time": "2023-10-11T08:14:28.336Z"
   },
   {
    "duration": 34,
    "start_time": "2023-10-11T08:14:28.369Z"
   },
   {
    "duration": 70,
    "start_time": "2023-10-11T08:14:28.405Z"
   },
   {
    "duration": 118,
    "start_time": "2023-10-11T08:14:28.478Z"
   },
   {
    "duration": 8505,
    "start_time": "2023-10-11T08:14:28.598Z"
   },
   {
    "duration": 24,
    "start_time": "2023-10-11T08:14:37.105Z"
   },
   {
    "duration": 27,
    "start_time": "2023-10-11T08:14:37.131Z"
   },
   {
    "duration": 1921,
    "start_time": "2023-10-11T08:14:37.160Z"
   },
   {
    "duration": 35,
    "start_time": "2023-10-11T08:14:39.084Z"
   },
   {
    "duration": 3598,
    "start_time": "2023-10-11T08:14:39.121Z"
   },
   {
    "duration": 0,
    "start_time": "2023-10-11T08:14:42.721Z"
   },
   {
    "duration": 0,
    "start_time": "2023-10-11T08:14:42.722Z"
   },
   {
    "duration": 1,
    "start_time": "2023-10-11T08:14:42.723Z"
   },
   {
    "duration": 0,
    "start_time": "2023-10-11T08:14:42.724Z"
   },
   {
    "duration": 0,
    "start_time": "2023-10-11T08:14:42.725Z"
   },
   {
    "duration": 0,
    "start_time": "2023-10-11T08:14:42.727Z"
   },
   {
    "duration": 0,
    "start_time": "2023-10-11T08:14:42.728Z"
   },
   {
    "duration": 0,
    "start_time": "2023-10-11T08:14:42.729Z"
   },
   {
    "duration": 0,
    "start_time": "2023-10-11T08:14:42.730Z"
   },
   {
    "duration": 0,
    "start_time": "2023-10-11T08:14:42.731Z"
   },
   {
    "duration": 0,
    "start_time": "2023-10-11T08:14:42.732Z"
   },
   {
    "duration": 0,
    "start_time": "2023-10-11T08:14:42.757Z"
   },
   {
    "duration": 0,
    "start_time": "2023-10-11T08:14:42.759Z"
   },
   {
    "duration": 0,
    "start_time": "2023-10-11T08:14:42.760Z"
   },
   {
    "duration": 2227,
    "start_time": "2023-10-11T08:15:11.464Z"
   },
   {
    "duration": 23,
    "start_time": "2023-10-11T08:15:14.312Z"
   },
   {
    "duration": 30,
    "start_time": "2023-10-11T08:15:17.169Z"
   },
   {
    "duration": 125,
    "start_time": "2023-10-11T09:11:37.184Z"
   },
   {
    "duration": 5,
    "start_time": "2023-10-11T09:11:57.969Z"
   },
   {
    "duration": 89448,
    "start_time": "2023-10-11T09:12:24.413Z"
   },
   {
    "duration": 1828,
    "start_time": "2023-10-11T09:14:33.371Z"
   },
   {
    "duration": 5,
    "start_time": "2023-10-11T09:14:35.201Z"
   },
   {
    "duration": 3081,
    "start_time": "2023-10-11T09:14:35.209Z"
   },
   {
    "duration": 4,
    "start_time": "2023-10-11T09:14:38.292Z"
   },
   {
    "duration": 3174,
    "start_time": "2023-10-11T09:14:38.299Z"
   },
   {
    "duration": 20,
    "start_time": "2023-10-11T09:14:41.475Z"
   },
   {
    "duration": 178,
    "start_time": "2023-10-11T09:14:41.497Z"
   },
   {
    "duration": 167,
    "start_time": "2023-10-11T09:14:41.677Z"
   },
   {
    "duration": 213,
    "start_time": "2023-10-11T09:14:41.846Z"
   },
   {
    "duration": 106,
    "start_time": "2023-10-11T09:14:42.061Z"
   },
   {
    "duration": 316,
    "start_time": "2023-10-11T09:14:42.169Z"
   },
   {
    "duration": 326,
    "start_time": "2023-10-11T09:14:42.487Z"
   },
   {
    "duration": 25,
    "start_time": "2023-10-11T09:14:42.815Z"
   },
   {
    "duration": 169,
    "start_time": "2023-10-11T09:14:42.845Z"
   },
   {
    "duration": 16,
    "start_time": "2023-10-11T09:14:43.016Z"
   },
   {
    "duration": 496,
    "start_time": "2023-10-11T09:14:43.035Z"
   },
   {
    "duration": 535,
    "start_time": "2023-10-11T09:14:43.533Z"
   },
   {
    "duration": 216,
    "start_time": "2023-10-11T09:14:44.071Z"
   },
   {
    "duration": 15,
    "start_time": "2023-10-11T09:14:44.289Z"
   },
   {
    "duration": 81,
    "start_time": "2023-10-11T09:14:44.306Z"
   },
   {
    "duration": 7,
    "start_time": "2023-10-11T09:14:44.389Z"
   },
   {
    "duration": 78,
    "start_time": "2023-10-11T09:14:44.397Z"
   },
   {
    "duration": 390,
    "start_time": "2023-10-11T09:14:44.477Z"
   },
   {
    "duration": 112,
    "start_time": "2023-10-11T09:14:44.869Z"
   },
   {
    "duration": 4,
    "start_time": "2023-10-11T09:14:44.983Z"
   },
   {
    "duration": 37,
    "start_time": "2023-10-11T09:14:44.989Z"
   },
   {
    "duration": 69,
    "start_time": "2023-10-11T09:14:45.028Z"
   },
   {
    "duration": 37,
    "start_time": "2023-10-11T09:14:45.099Z"
   },
   {
    "duration": 47,
    "start_time": "2023-10-11T09:14:45.138Z"
   },
   {
    "duration": 4,
    "start_time": "2023-10-11T09:14:45.187Z"
   },
   {
    "duration": 99,
    "start_time": "2023-10-11T09:14:45.193Z"
   },
   {
    "duration": 6563,
    "start_time": "2023-10-11T09:14:45.294Z"
   },
   {
    "duration": 26,
    "start_time": "2023-10-11T09:14:51.860Z"
   },
   {
    "duration": 59,
    "start_time": "2023-10-11T09:14:51.888Z"
   },
   {
    "duration": 1722,
    "start_time": "2023-10-11T09:14:51.949Z"
   },
   {
    "duration": 28,
    "start_time": "2023-10-11T09:14:53.674Z"
   },
   {
    "duration": 2811,
    "start_time": "2023-10-11T09:14:53.704Z"
   },
   {
    "duration": 26,
    "start_time": "2023-10-11T09:14:56.517Z"
   },
   {
    "duration": 48,
    "start_time": "2023-10-11T09:14:56.557Z"
   },
   {
    "duration": 2455,
    "start_time": "2023-10-11T09:15:13.896Z"
   },
   {
    "duration": 7,
    "start_time": "2023-10-11T09:15:16.354Z"
   },
   {
    "duration": 4195,
    "start_time": "2023-10-11T09:15:16.363Z"
   },
   {
    "duration": 3,
    "start_time": "2023-10-11T09:15:20.562Z"
   },
   {
    "duration": 2064,
    "start_time": "2023-10-11T09:15:20.567Z"
   },
   {
    "duration": 19,
    "start_time": "2023-10-11T09:15:22.634Z"
   },
   {
    "duration": 179,
    "start_time": "2023-10-11T09:15:22.656Z"
   },
   {
    "duration": 156,
    "start_time": "2023-10-11T09:15:22.837Z"
   },
   {
    "duration": 223,
    "start_time": "2023-10-11T09:15:22.995Z"
   },
   {
    "duration": 96,
    "start_time": "2023-10-11T09:15:23.221Z"
   },
   {
    "duration": 338,
    "start_time": "2023-10-11T09:15:23.319Z"
   },
   {
    "duration": 303,
    "start_time": "2023-10-11T09:15:23.659Z"
   },
   {
    "duration": 23,
    "start_time": "2023-10-11T09:15:23.964Z"
   },
   {
    "duration": 161,
    "start_time": "2023-10-11T09:15:23.990Z"
   },
   {
    "duration": 16,
    "start_time": "2023-10-11T09:15:24.157Z"
   },
   {
    "duration": 608,
    "start_time": "2023-10-11T09:15:24.175Z"
   },
   {
    "duration": 622,
    "start_time": "2023-10-11T09:15:24.785Z"
   },
   {
    "duration": 204,
    "start_time": "2023-10-11T09:15:25.409Z"
   },
   {
    "duration": 16,
    "start_time": "2023-10-11T09:15:25.616Z"
   },
   {
    "duration": 95,
    "start_time": "2023-10-11T09:15:25.634Z"
   },
   {
    "duration": 7,
    "start_time": "2023-10-11T09:15:25.731Z"
   },
   {
    "duration": 69,
    "start_time": "2023-10-11T09:15:25.740Z"
   },
   {
    "duration": 408,
    "start_time": "2023-10-11T09:15:25.811Z"
   },
   {
    "duration": 113,
    "start_time": "2023-10-11T09:15:26.221Z"
   },
   {
    "duration": 4,
    "start_time": "2023-10-11T09:15:26.336Z"
   },
   {
    "duration": 39,
    "start_time": "2023-10-11T09:15:26.342Z"
   },
   {
    "duration": 20,
    "start_time": "2023-10-11T09:15:26.383Z"
   },
   {
    "duration": 15,
    "start_time": "2023-10-11T09:15:26.408Z"
   },
   {
    "duration": 51,
    "start_time": "2023-10-11T09:15:26.424Z"
   },
   {
    "duration": 13,
    "start_time": "2023-10-11T09:15:26.477Z"
   },
   {
    "duration": 121,
    "start_time": "2023-10-11T09:15:26.492Z"
   },
   {
    "duration": 6363,
    "start_time": "2023-10-11T09:15:26.615Z"
   },
   {
    "duration": 29,
    "start_time": "2023-10-11T09:15:32.980Z"
   },
   {
    "duration": 24,
    "start_time": "2023-10-11T09:15:33.011Z"
   },
   {
    "duration": 1610,
    "start_time": "2023-10-11T09:15:33.037Z"
   },
   {
    "duration": 34,
    "start_time": "2023-10-11T09:15:34.648Z"
   },
   {
    "duration": 2922,
    "start_time": "2023-10-11T09:15:34.684Z"
   },
   {
    "duration": 24,
    "start_time": "2023-10-11T09:15:37.608Z"
   },
   {
    "duration": 84,
    "start_time": "2023-10-11T09:15:37.634Z"
   },
   {
    "duration": 2001,
    "start_time": "2023-10-11T09:55:33.759Z"
   },
   {
    "duration": 7,
    "start_time": "2023-10-11T09:55:35.762Z"
   },
   {
    "duration": 3100,
    "start_time": "2023-10-11T09:55:35.771Z"
   },
   {
    "duration": 4,
    "start_time": "2023-10-11T09:55:38.874Z"
   },
   {
    "duration": 2414,
    "start_time": "2023-10-11T09:55:38.882Z"
   },
   {
    "duration": 18,
    "start_time": "2023-10-11T09:55:41.298Z"
   },
   {
    "duration": 171,
    "start_time": "2023-10-11T09:55:41.318Z"
   },
   {
    "duration": 171,
    "start_time": "2023-10-11T09:55:41.491Z"
   },
   {
    "duration": 209,
    "start_time": "2023-10-11T09:55:41.664Z"
   },
   {
    "duration": 109,
    "start_time": "2023-10-11T09:55:41.875Z"
   },
   {
    "duration": 316,
    "start_time": "2023-10-11T09:55:41.987Z"
   },
   {
    "duration": 309,
    "start_time": "2023-10-11T09:55:42.305Z"
   },
   {
    "duration": 23,
    "start_time": "2023-10-11T09:55:42.616Z"
   },
   {
    "duration": 156,
    "start_time": "2023-10-11T09:55:42.643Z"
   },
   {
    "duration": 20,
    "start_time": "2023-10-11T09:55:42.801Z"
   },
   {
    "duration": 493,
    "start_time": "2023-10-11T09:55:42.823Z"
   },
   {
    "duration": 525,
    "start_time": "2023-10-11T09:55:43.318Z"
   },
   {
    "duration": 205,
    "start_time": "2023-10-11T09:55:43.845Z"
   },
   {
    "duration": 15,
    "start_time": "2023-10-11T09:55:44.052Z"
   },
   {
    "duration": 62,
    "start_time": "2023-10-11T09:55:44.068Z"
   },
   {
    "duration": 27,
    "start_time": "2023-10-11T09:55:44.132Z"
   },
   {
    "duration": 57,
    "start_time": "2023-10-11T09:55:44.161Z"
   },
   {
    "duration": 367,
    "start_time": "2023-10-11T09:55:44.220Z"
   },
   {
    "duration": 108,
    "start_time": "2023-10-11T09:55:44.589Z"
   },
   {
    "duration": 3,
    "start_time": "2023-10-11T09:55:44.699Z"
   },
   {
    "duration": 45,
    "start_time": "2023-10-11T09:55:44.703Z"
   },
   {
    "duration": 37,
    "start_time": "2023-10-11T09:55:44.750Z"
   },
   {
    "duration": 15,
    "start_time": "2023-10-11T09:55:44.790Z"
   },
   {
    "duration": 34,
    "start_time": "2023-10-11T09:55:44.806Z"
   },
   {
    "duration": 27,
    "start_time": "2023-10-11T09:55:44.842Z"
   },
   {
    "duration": 90,
    "start_time": "2023-10-11T09:55:44.871Z"
   },
   {
    "duration": 6517,
    "start_time": "2023-10-11T09:55:44.963Z"
   },
   {
    "duration": 26,
    "start_time": "2023-10-11T09:55:51.482Z"
   },
   {
    "duration": 12,
    "start_time": "2023-10-11T09:55:51.510Z"
   },
   {
    "duration": 1536,
    "start_time": "2023-10-11T09:55:51.524Z"
   },
   {
    "duration": 29,
    "start_time": "2023-10-11T09:55:53.063Z"
   },
   {
    "duration": 2878,
    "start_time": "2023-10-11T09:55:53.094Z"
   },
   {
    "duration": 25,
    "start_time": "2023-10-11T09:55:55.974Z"
   },
   {
    "duration": 34,
    "start_time": "2023-10-11T09:55:56.001Z"
   },
   {
    "duration": 67018,
    "start_time": "2023-10-11T09:55:56.038Z"
   },
   {
    "duration": 1473,
    "start_time": "2023-10-11T14:34:09.195Z"
   },
   {
    "duration": 5,
    "start_time": "2023-10-11T14:34:10.670Z"
   },
   {
    "duration": 6624,
    "start_time": "2023-10-11T14:34:10.677Z"
   },
   {
    "duration": 3,
    "start_time": "2023-10-11T14:34:17.303Z"
   },
   {
    "duration": 1199,
    "start_time": "2023-10-11T14:34:17.308Z"
   },
   {
    "duration": 22,
    "start_time": "2023-10-11T14:34:18.508Z"
   },
   {
    "duration": 164,
    "start_time": "2023-10-11T14:34:18.532Z"
   },
   {
    "duration": 134,
    "start_time": "2023-10-11T14:34:18.698Z"
   },
   {
    "duration": 215,
    "start_time": "2023-10-11T14:34:18.834Z"
   },
   {
    "duration": 82,
    "start_time": "2023-10-11T14:34:19.052Z"
   },
   {
    "duration": 278,
    "start_time": "2023-10-11T14:34:19.135Z"
   },
   {
    "duration": 280,
    "start_time": "2023-10-11T14:34:19.415Z"
   },
   {
    "duration": 29,
    "start_time": "2023-10-11T14:34:19.697Z"
   },
   {
    "duration": 131,
    "start_time": "2023-10-11T14:34:19.728Z"
   },
   {
    "duration": 19,
    "start_time": "2023-10-11T14:34:19.861Z"
   },
   {
    "duration": 388,
    "start_time": "2023-10-11T14:34:19.881Z"
   },
   {
    "duration": 433,
    "start_time": "2023-10-11T14:34:20.270Z"
   },
   {
    "duration": 176,
    "start_time": "2023-10-11T14:34:20.704Z"
   },
   {
    "duration": 12,
    "start_time": "2023-10-11T14:34:20.882Z"
   },
   {
    "duration": 67,
    "start_time": "2023-10-11T14:34:20.896Z"
   },
   {
    "duration": 7,
    "start_time": "2023-10-11T14:34:20.964Z"
   },
   {
    "duration": 82,
    "start_time": "2023-10-11T14:34:20.972Z"
   },
   {
    "duration": 433,
    "start_time": "2023-10-11T14:34:21.056Z"
   },
   {
    "duration": 90,
    "start_time": "2023-10-11T14:34:21.491Z"
   },
   {
    "duration": 3,
    "start_time": "2023-10-11T14:34:21.583Z"
   },
   {
    "duration": 45,
    "start_time": "2023-10-11T14:34:21.588Z"
   },
   {
    "duration": 30,
    "start_time": "2023-10-11T14:34:21.636Z"
   },
   {
    "duration": 29,
    "start_time": "2023-10-11T14:34:21.669Z"
   },
   {
    "duration": 45,
    "start_time": "2023-10-11T14:34:21.700Z"
   },
   {
    "duration": 30,
    "start_time": "2023-10-11T14:34:21.746Z"
   },
   {
    "duration": 103,
    "start_time": "2023-10-11T14:34:21.777Z"
   },
   {
    "duration": 162,
    "start_time": "2023-10-11T14:34:21.882Z"
   },
   {
    "duration": 0,
    "start_time": "2023-10-11T14:34:22.045Z"
   },
   {
    "duration": 0,
    "start_time": "2023-10-11T14:34:22.046Z"
   },
   {
    "duration": 0,
    "start_time": "2023-10-11T14:34:22.047Z"
   },
   {
    "duration": 0,
    "start_time": "2023-10-11T14:34:22.049Z"
   },
   {
    "duration": 0,
    "start_time": "2023-10-11T14:34:22.050Z"
   },
   {
    "duration": 0,
    "start_time": "2023-10-11T14:34:22.051Z"
   },
   {
    "duration": 0,
    "start_time": "2023-10-11T14:34:22.053Z"
   },
   {
    "duration": 0,
    "start_time": "2023-10-11T14:34:22.054Z"
   },
   {
    "duration": 0,
    "start_time": "2023-10-11T14:34:22.055Z"
   },
   {
    "duration": 0,
    "start_time": "2023-10-11T14:34:22.056Z"
   },
   {
    "duration": 0,
    "start_time": "2023-10-11T14:34:22.058Z"
   },
   {
    "duration": 0,
    "start_time": "2023-10-11T14:34:22.059Z"
   },
   {
    "duration": 0,
    "start_time": "2023-10-11T14:34:22.060Z"
   },
   {
    "duration": 0,
    "start_time": "2023-10-11T14:34:22.062Z"
   },
   {
    "duration": 0,
    "start_time": "2023-10-11T14:34:22.063Z"
   },
   {
    "duration": 0,
    "start_time": "2023-10-11T14:34:22.064Z"
   },
   {
    "duration": 0,
    "start_time": "2023-10-11T14:34:22.065Z"
   },
   {
    "duration": 0,
    "start_time": "2023-10-11T14:34:22.066Z"
   },
   {
    "duration": 0,
    "start_time": "2023-10-11T14:34:22.067Z"
   },
   {
    "duration": 1240,
    "start_time": "2023-10-11T14:34:43.913Z"
   },
   {
    "duration": 6,
    "start_time": "2023-10-11T14:34:45.155Z"
   },
   {
    "duration": 2905,
    "start_time": "2023-10-11T14:34:45.162Z"
   },
   {
    "duration": 4,
    "start_time": "2023-10-11T14:34:48.069Z"
   },
   {
    "duration": 886,
    "start_time": "2023-10-11T14:34:48.075Z"
   },
   {
    "duration": 15,
    "start_time": "2023-10-11T14:34:48.963Z"
   },
   {
    "duration": 210,
    "start_time": "2023-10-11T14:34:48.980Z"
   },
   {
    "duration": 147,
    "start_time": "2023-10-11T14:34:49.192Z"
   },
   {
    "duration": 199,
    "start_time": "2023-10-11T14:34:49.340Z"
   },
   {
    "duration": 91,
    "start_time": "2023-10-11T14:34:49.542Z"
   },
   {
    "duration": 294,
    "start_time": "2023-10-11T14:34:49.635Z"
   },
   {
    "duration": 272,
    "start_time": "2023-10-11T14:34:49.930Z"
   },
   {
    "duration": 21,
    "start_time": "2023-10-11T14:34:50.204Z"
   },
   {
    "duration": 163,
    "start_time": "2023-10-11T14:34:50.230Z"
   },
   {
    "duration": 38,
    "start_time": "2023-10-11T14:34:50.395Z"
   },
   {
    "duration": 420,
    "start_time": "2023-10-11T14:34:50.435Z"
   },
   {
    "duration": 456,
    "start_time": "2023-10-11T14:34:50.857Z"
   },
   {
    "duration": 165,
    "start_time": "2023-10-11T14:34:51.316Z"
   },
   {
    "duration": 11,
    "start_time": "2023-10-11T14:34:51.482Z"
   },
   {
    "duration": 79,
    "start_time": "2023-10-11T14:34:51.494Z"
   },
   {
    "duration": 6,
    "start_time": "2023-10-11T14:34:51.574Z"
   },
   {
    "duration": 93,
    "start_time": "2023-10-11T14:34:51.582Z"
   },
   {
    "duration": 313,
    "start_time": "2023-10-11T14:34:51.676Z"
   },
   {
    "duration": 83,
    "start_time": "2023-10-11T14:34:51.991Z"
   },
   {
    "duration": 4,
    "start_time": "2023-10-11T14:34:52.076Z"
   },
   {
    "duration": 90,
    "start_time": "2023-10-11T14:34:52.081Z"
   },
   {
    "duration": 23,
    "start_time": "2023-10-11T14:34:52.173Z"
   },
   {
    "duration": 20,
    "start_time": "2023-10-11T14:34:52.200Z"
   },
   {
    "duration": 56,
    "start_time": "2023-10-11T14:34:52.221Z"
   },
   {
    "duration": 35,
    "start_time": "2023-10-11T14:34:52.278Z"
   },
   {
    "duration": 98,
    "start_time": "2023-10-11T14:34:52.315Z"
   },
   {
    "duration": 4721,
    "start_time": "2023-10-11T14:34:52.415Z"
   },
   {
    "duration": 26,
    "start_time": "2023-10-11T14:34:57.138Z"
   },
   {
    "duration": 25,
    "start_time": "2023-10-11T14:34:57.166Z"
   },
   {
    "duration": 1489,
    "start_time": "2023-10-11T14:34:57.192Z"
   },
   {
    "duration": 21,
    "start_time": "2023-10-11T14:34:58.683Z"
   },
   {
    "duration": 4508,
    "start_time": "2023-10-11T14:34:58.705Z"
   },
   {
    "duration": 18,
    "start_time": "2023-10-11T14:35:03.214Z"
   },
   {
    "duration": 59,
    "start_time": "2023-10-11T14:35:03.234Z"
   },
   {
    "duration": 72258,
    "start_time": "2023-10-11T14:35:03.295Z"
   },
   {
    "duration": 2066,
    "start_time": "2023-10-11T14:38:16.044Z"
   },
   {
    "duration": 5,
    "start_time": "2023-10-11T14:38:18.112Z"
   },
   {
    "duration": 3366,
    "start_time": "2023-10-11T14:38:18.118Z"
   },
   {
    "duration": 3,
    "start_time": "2023-10-11T14:38:21.486Z"
   },
   {
    "duration": 904,
    "start_time": "2023-10-11T14:38:21.491Z"
   },
   {
    "duration": 15,
    "start_time": "2023-10-11T14:38:22.397Z"
   },
   {
    "duration": 162,
    "start_time": "2023-10-11T14:38:22.413Z"
   },
   {
    "duration": 137,
    "start_time": "2023-10-11T14:38:22.577Z"
   },
   {
    "duration": 187,
    "start_time": "2023-10-11T14:38:22.716Z"
   },
   {
    "duration": 88,
    "start_time": "2023-10-11T14:38:22.905Z"
   },
   {
    "duration": 273,
    "start_time": "2023-10-11T14:38:22.995Z"
   },
   {
    "duration": 253,
    "start_time": "2023-10-11T14:38:23.270Z"
   },
   {
    "duration": 26,
    "start_time": "2023-10-11T14:38:23.524Z"
   },
   {
    "duration": 119,
    "start_time": "2023-10-11T14:38:23.551Z"
   },
   {
    "duration": 11,
    "start_time": "2023-10-11T14:38:23.672Z"
   },
   {
    "duration": 385,
    "start_time": "2023-10-11T14:38:23.684Z"
   },
   {
    "duration": 430,
    "start_time": "2023-10-11T14:38:24.070Z"
   },
   {
    "duration": 176,
    "start_time": "2023-10-11T14:38:24.501Z"
   },
   {
    "duration": 11,
    "start_time": "2023-10-11T14:38:24.678Z"
   },
   {
    "duration": 64,
    "start_time": "2023-10-11T14:38:24.690Z"
   },
   {
    "duration": 5,
    "start_time": "2023-10-11T14:38:24.756Z"
   },
   {
    "duration": 46,
    "start_time": "2023-10-11T14:38:24.763Z"
   },
   {
    "duration": 304,
    "start_time": "2023-10-11T14:38:24.810Z"
   },
   {
    "duration": 82,
    "start_time": "2023-10-11T14:38:25.116Z"
   },
   {
    "duration": 3,
    "start_time": "2023-10-11T14:38:25.200Z"
   },
   {
    "duration": 55,
    "start_time": "2023-10-11T14:38:25.204Z"
   },
   {
    "duration": 14,
    "start_time": "2023-10-11T14:38:25.261Z"
   },
   {
    "duration": 17,
    "start_time": "2023-10-11T14:38:25.278Z"
   },
   {
    "duration": 33,
    "start_time": "2023-10-11T14:38:25.297Z"
   },
   {
    "duration": 21,
    "start_time": "2023-10-11T14:38:25.332Z"
   },
   {
    "duration": 80,
    "start_time": "2023-10-11T14:38:25.354Z"
   },
   {
    "duration": 4522,
    "start_time": "2023-10-11T14:38:25.436Z"
   },
   {
    "duration": 22,
    "start_time": "2023-10-11T14:38:29.959Z"
   },
   {
    "duration": 55,
    "start_time": "2023-10-11T14:38:29.982Z"
   },
   {
    "duration": 1281,
    "start_time": "2023-10-11T14:38:30.039Z"
   },
   {
    "duration": 21,
    "start_time": "2023-10-11T14:38:31.322Z"
   },
   {
    "duration": 2451,
    "start_time": "2023-10-11T14:38:31.349Z"
   },
   {
    "duration": 18,
    "start_time": "2023-10-11T14:38:33.802Z"
   },
   {
    "duration": 35,
    "start_time": "2023-10-11T14:38:33.821Z"
   },
   {
    "duration": 2197,
    "start_time": "2023-10-11T14:38:49.235Z"
   },
   {
    "duration": 4,
    "start_time": "2023-10-11T14:38:51.434Z"
   },
   {
    "duration": 3226,
    "start_time": "2023-10-11T14:38:51.440Z"
   },
   {
    "duration": 3,
    "start_time": "2023-10-11T14:38:54.669Z"
   },
   {
    "duration": 1150,
    "start_time": "2023-10-11T14:38:54.673Z"
   },
   {
    "duration": 15,
    "start_time": "2023-10-11T14:38:55.824Z"
   },
   {
    "duration": 176,
    "start_time": "2023-10-11T14:38:55.840Z"
   },
   {
    "duration": 177,
    "start_time": "2023-10-11T14:38:56.018Z"
   },
   {
    "duration": 206,
    "start_time": "2023-10-11T14:38:56.197Z"
   },
   {
    "duration": 89,
    "start_time": "2023-10-11T14:38:56.405Z"
   },
   {
    "duration": 280,
    "start_time": "2023-10-11T14:38:56.496Z"
   },
   {
    "duration": 257,
    "start_time": "2023-10-11T14:38:56.778Z"
   },
   {
    "duration": 23,
    "start_time": "2023-10-11T14:38:57.037Z"
   },
   {
    "duration": 138,
    "start_time": "2023-10-11T14:38:57.061Z"
   },
   {
    "duration": 16,
    "start_time": "2023-10-11T14:38:57.201Z"
   },
   {
    "duration": 392,
    "start_time": "2023-10-11T14:38:57.218Z"
   },
   {
    "duration": 381,
    "start_time": "2023-10-11T14:38:57.611Z"
   },
   {
    "duration": 161,
    "start_time": "2023-10-11T14:38:57.993Z"
   },
   {
    "duration": 11,
    "start_time": "2023-10-11T14:38:58.156Z"
   },
   {
    "duration": 47,
    "start_time": "2023-10-11T14:38:58.168Z"
   },
   {
    "duration": 6,
    "start_time": "2023-10-11T14:38:58.216Z"
   },
   {
    "duration": 71,
    "start_time": "2023-10-11T14:38:58.223Z"
   },
   {
    "duration": 312,
    "start_time": "2023-10-11T14:38:58.296Z"
   },
   {
    "duration": 82,
    "start_time": "2023-10-11T14:38:58.609Z"
   },
   {
    "duration": 3,
    "start_time": "2023-10-11T14:38:58.692Z"
   },
   {
    "duration": 26,
    "start_time": "2023-10-11T14:38:58.696Z"
   },
   {
    "duration": 26,
    "start_time": "2023-10-11T14:38:58.724Z"
   },
   {
    "duration": 14,
    "start_time": "2023-10-11T14:38:58.755Z"
   },
   {
    "duration": 40,
    "start_time": "2023-10-11T14:38:58.771Z"
   },
   {
    "duration": 5,
    "start_time": "2023-10-11T14:38:58.813Z"
   },
   {
    "duration": 83,
    "start_time": "2023-10-11T14:38:58.819Z"
   },
   {
    "duration": 4679,
    "start_time": "2023-10-11T14:38:58.904Z"
   },
   {
    "duration": 22,
    "start_time": "2023-10-11T14:39:03.584Z"
   },
   {
    "duration": 13,
    "start_time": "2023-10-11T14:39:03.607Z"
   },
   {
    "duration": 1256,
    "start_time": "2023-10-11T14:39:03.622Z"
   },
   {
    "duration": 21,
    "start_time": "2023-10-11T14:39:04.880Z"
   },
   {
    "duration": 2437,
    "start_time": "2023-10-11T14:39:04.903Z"
   },
   {
    "duration": 21,
    "start_time": "2023-10-11T14:39:07.342Z"
   },
   {
    "duration": 29,
    "start_time": "2023-10-11T14:39:07.365Z"
   },
   {
    "duration": 76157,
    "start_time": "2023-10-11T14:39:07.396Z"
   },
   {
    "duration": 1574,
    "start_time": "2023-10-11T14:41:43.506Z"
   },
   {
    "duration": 5,
    "start_time": "2023-10-11T14:41:45.082Z"
   },
   {
    "duration": 3224,
    "start_time": "2023-10-11T14:41:45.089Z"
   },
   {
    "duration": 3,
    "start_time": "2023-10-11T14:41:48.316Z"
   },
   {
    "duration": 993,
    "start_time": "2023-10-11T14:41:48.320Z"
   },
   {
    "duration": 15,
    "start_time": "2023-10-11T14:41:49.315Z"
   },
   {
    "duration": 138,
    "start_time": "2023-10-11T14:41:49.332Z"
   },
   {
    "duration": 133,
    "start_time": "2023-10-11T14:41:49.471Z"
   },
   {
    "duration": 183,
    "start_time": "2023-10-11T14:41:49.606Z"
   },
   {
    "duration": 83,
    "start_time": "2023-10-11T14:41:49.792Z"
   },
   {
    "duration": 262,
    "start_time": "2023-10-11T14:41:49.876Z"
   },
   {
    "duration": 252,
    "start_time": "2023-10-11T14:41:50.139Z"
   },
   {
    "duration": 20,
    "start_time": "2023-10-11T14:41:50.392Z"
   },
   {
    "duration": 147,
    "start_time": "2023-10-11T14:41:50.414Z"
   },
   {
    "duration": 18,
    "start_time": "2023-10-11T14:41:50.563Z"
   },
   {
    "duration": 429,
    "start_time": "2023-10-11T14:41:50.583Z"
   },
   {
    "duration": 404,
    "start_time": "2023-10-11T14:41:51.013Z"
   },
   {
    "duration": 175,
    "start_time": "2023-10-11T14:41:51.419Z"
   },
   {
    "duration": 13,
    "start_time": "2023-10-11T14:41:51.596Z"
   },
   {
    "duration": 84,
    "start_time": "2023-10-11T14:41:51.610Z"
   },
   {
    "duration": 7,
    "start_time": "2023-10-11T14:41:51.697Z"
   },
   {
    "duration": 107,
    "start_time": "2023-10-11T14:41:51.706Z"
   },
   {
    "duration": 293,
    "start_time": "2023-10-11T14:41:51.815Z"
   },
   {
    "duration": 94,
    "start_time": "2023-10-11T14:41:52.110Z"
   },
   {
    "duration": 3,
    "start_time": "2023-10-11T14:41:52.205Z"
   },
   {
    "duration": 67,
    "start_time": "2023-10-11T14:41:52.210Z"
   },
   {
    "duration": 36,
    "start_time": "2023-10-11T14:41:52.279Z"
   },
   {
    "duration": 27,
    "start_time": "2023-10-11T14:41:52.319Z"
   },
   {
    "duration": 44,
    "start_time": "2023-10-11T14:41:52.348Z"
   },
   {
    "duration": 49,
    "start_time": "2023-10-11T14:41:52.393Z"
   },
   {
    "duration": 111,
    "start_time": "2023-10-11T14:41:52.445Z"
   },
   {
    "duration": 5168,
    "start_time": "2023-10-11T14:41:52.558Z"
   },
   {
    "duration": 26,
    "start_time": "2023-10-11T14:41:57.728Z"
   },
   {
    "duration": 38,
    "start_time": "2023-10-11T14:41:57.755Z"
   },
   {
    "duration": 1256,
    "start_time": "2023-10-11T14:41:57.795Z"
   },
   {
    "duration": 24,
    "start_time": "2023-10-11T14:41:59.052Z"
   },
   {
    "duration": 2498,
    "start_time": "2023-10-11T14:41:59.078Z"
   },
   {
    "duration": 20,
    "start_time": "2023-10-11T14:42:01.578Z"
   },
   {
    "duration": 210,
    "start_time": "2023-10-11T14:42:01.599Z"
   },
   {
    "duration": 283,
    "start_time": "2023-10-11T14:42:01.811Z"
   },
   {
    "duration": 1385,
    "start_time": "2023-10-11T14:52:07.541Z"
   },
   {
    "duration": 5,
    "start_time": "2023-10-11T14:52:08.928Z"
   },
   {
    "duration": 2647,
    "start_time": "2023-10-11T14:52:08.935Z"
   },
   {
    "duration": 3,
    "start_time": "2023-10-11T14:52:11.585Z"
   },
   {
    "duration": 860,
    "start_time": "2023-10-11T14:52:11.590Z"
   },
   {
    "duration": 23,
    "start_time": "2023-10-11T14:52:12.452Z"
   },
   {
    "duration": 210,
    "start_time": "2023-10-11T14:52:12.478Z"
   },
   {
    "duration": 139,
    "start_time": "2023-10-11T14:52:12.690Z"
   },
   {
    "duration": 196,
    "start_time": "2023-10-11T14:52:12.831Z"
   },
   {
    "duration": 99,
    "start_time": "2023-10-11T14:52:13.030Z"
   },
   {
    "duration": 304,
    "start_time": "2023-10-11T14:52:13.132Z"
   },
   {
    "duration": 261,
    "start_time": "2023-10-11T14:52:13.437Z"
   },
   {
    "duration": 21,
    "start_time": "2023-10-11T14:52:13.700Z"
   },
   {
    "duration": 134,
    "start_time": "2023-10-11T14:52:13.723Z"
   },
   {
    "duration": 16,
    "start_time": "2023-10-11T14:52:13.858Z"
   },
   {
    "duration": 444,
    "start_time": "2023-10-11T14:52:13.877Z"
   },
   {
    "duration": 434,
    "start_time": "2023-10-11T14:52:14.322Z"
   },
   {
    "duration": 181,
    "start_time": "2023-10-11T14:52:14.758Z"
   },
   {
    "duration": 19,
    "start_time": "2023-10-11T14:52:14.941Z"
   },
   {
    "duration": 52,
    "start_time": "2023-10-11T14:52:14.962Z"
   },
   {
    "duration": 8,
    "start_time": "2023-10-11T14:52:15.016Z"
   },
   {
    "duration": 110,
    "start_time": "2023-10-11T14:52:15.026Z"
   },
   {
    "duration": 315,
    "start_time": "2023-10-11T14:52:15.138Z"
   },
   {
    "duration": 116,
    "start_time": "2023-10-11T14:52:15.456Z"
   },
   {
    "duration": 4,
    "start_time": "2023-10-11T14:52:15.575Z"
   },
   {
    "duration": 60,
    "start_time": "2023-10-11T14:52:15.581Z"
   },
   {
    "duration": 29,
    "start_time": "2023-10-11T14:52:15.645Z"
   },
   {
    "duration": 17,
    "start_time": "2023-10-11T14:52:15.680Z"
   },
   {
    "duration": 38,
    "start_time": "2023-10-11T14:52:15.699Z"
   },
   {
    "duration": 22,
    "start_time": "2023-10-11T14:52:15.740Z"
   },
   {
    "duration": 110,
    "start_time": "2023-10-11T14:52:15.764Z"
   },
   {
    "duration": 4772,
    "start_time": "2023-10-11T14:52:15.876Z"
   },
   {
    "duration": 21,
    "start_time": "2023-10-11T14:52:20.651Z"
   },
   {
    "duration": 32,
    "start_time": "2023-10-11T14:52:20.673Z"
   },
   {
    "duration": 1269,
    "start_time": "2023-10-11T14:52:20.708Z"
   },
   {
    "duration": 22,
    "start_time": "2023-10-11T14:52:21.979Z"
   },
   {
    "duration": 2416,
    "start_time": "2023-10-11T14:52:22.003Z"
   },
   {
    "duration": 29,
    "start_time": "2023-10-11T14:52:24.420Z"
   },
   {
    "duration": 50,
    "start_time": "2023-10-11T14:52:24.452Z"
   },
   {
    "duration": 257,
    "start_time": "2023-10-11T14:52:39.612Z"
   },
   {
    "duration": 3509,
    "start_time": "2023-10-11T14:52:48.868Z"
   },
   {
    "duration": 6,
    "start_time": "2023-10-11T14:52:52.380Z"
   },
   {
    "duration": 4228,
    "start_time": "2023-10-11T14:52:52.388Z"
   },
   {
    "duration": 4,
    "start_time": "2023-10-11T14:52:56.618Z"
   },
   {
    "duration": 1199,
    "start_time": "2023-10-11T14:52:56.624Z"
   },
   {
    "duration": 17,
    "start_time": "2023-10-11T14:52:57.825Z"
   },
   {
    "duration": 140,
    "start_time": "2023-10-11T14:52:57.844Z"
   },
   {
    "duration": 131,
    "start_time": "2023-10-11T14:52:57.986Z"
   },
   {
    "duration": 228,
    "start_time": "2023-10-11T14:52:58.118Z"
   },
   {
    "duration": 99,
    "start_time": "2023-10-11T14:52:58.347Z"
   },
   {
    "duration": 294,
    "start_time": "2023-10-11T14:52:58.449Z"
   },
   {
    "duration": 270,
    "start_time": "2023-10-11T14:52:58.745Z"
   },
   {
    "duration": 18,
    "start_time": "2023-10-11T14:52:59.017Z"
   },
   {
    "duration": 142,
    "start_time": "2023-10-11T14:52:59.038Z"
   },
   {
    "duration": 40,
    "start_time": "2023-10-11T14:52:59.182Z"
   },
   {
    "duration": 431,
    "start_time": "2023-10-11T14:52:59.224Z"
   },
   {
    "duration": 468,
    "start_time": "2023-10-11T14:52:59.657Z"
   },
   {
    "duration": 187,
    "start_time": "2023-10-11T14:53:00.127Z"
   },
   {
    "duration": 12,
    "start_time": "2023-10-11T14:53:00.316Z"
   },
   {
    "duration": 84,
    "start_time": "2023-10-11T14:53:00.329Z"
   },
   {
    "duration": 12,
    "start_time": "2023-10-11T14:53:00.415Z"
   },
   {
    "duration": 93,
    "start_time": "2023-10-11T14:53:00.429Z"
   },
   {
    "duration": 306,
    "start_time": "2023-10-11T14:53:00.523Z"
   },
   {
    "duration": 95,
    "start_time": "2023-10-11T14:53:00.830Z"
   },
   {
    "duration": 3,
    "start_time": "2023-10-11T14:53:00.926Z"
   },
   {
    "duration": 98,
    "start_time": "2023-10-11T14:53:00.930Z"
   },
   {
    "duration": 76,
    "start_time": "2023-10-11T14:53:01.029Z"
   },
   {
    "duration": 68,
    "start_time": "2023-10-11T14:53:01.107Z"
   },
   {
    "duration": 161,
    "start_time": "2023-10-11T14:53:01.177Z"
   },
   {
    "duration": 65,
    "start_time": "2023-10-11T14:53:01.340Z"
   },
   {
    "duration": 198,
    "start_time": "2023-10-11T14:53:01.406Z"
   },
   {
    "duration": 5600,
    "start_time": "2023-10-11T14:53:01.606Z"
   },
   {
    "duration": 21,
    "start_time": "2023-10-11T14:53:07.208Z"
   },
   {
    "duration": 20,
    "start_time": "2023-10-11T14:53:07.231Z"
   },
   {
    "duration": 1309,
    "start_time": "2023-10-11T14:53:07.252Z"
   },
   {
    "duration": 23,
    "start_time": "2023-10-11T14:53:08.564Z"
   },
   {
    "duration": 2554,
    "start_time": "2023-10-11T14:53:08.589Z"
   },
   {
    "duration": 23,
    "start_time": "2023-10-11T14:53:11.144Z"
   },
   {
    "duration": 57,
    "start_time": "2023-10-11T14:53:11.169Z"
   },
   {
    "duration": 1904,
    "start_time": "2023-10-11T14:53:55.060Z"
   },
   {
    "duration": 6,
    "start_time": "2023-10-11T14:53:56.966Z"
   },
   {
    "duration": 4821,
    "start_time": "2023-10-11T14:53:56.973Z"
   },
   {
    "duration": 3,
    "start_time": "2023-10-11T14:54:01.797Z"
   },
   {
    "duration": 1340,
    "start_time": "2023-10-11T14:54:01.802Z"
   },
   {
    "duration": 16,
    "start_time": "2023-10-11T14:54:03.143Z"
   },
   {
    "duration": 144,
    "start_time": "2023-10-11T14:54:03.160Z"
   },
   {
    "duration": 144,
    "start_time": "2023-10-11T14:54:03.306Z"
   },
   {
    "duration": 261,
    "start_time": "2023-10-11T14:54:03.451Z"
   },
   {
    "duration": 82,
    "start_time": "2023-10-11T14:54:03.714Z"
   },
   {
    "duration": 365,
    "start_time": "2023-10-11T14:54:03.798Z"
   },
   {
    "duration": 261,
    "start_time": "2023-10-11T14:54:04.165Z"
   },
   {
    "duration": 32,
    "start_time": "2023-10-11T14:54:04.427Z"
   },
   {
    "duration": 137,
    "start_time": "2023-10-11T14:54:04.461Z"
   },
   {
    "duration": 61,
    "start_time": "2023-10-11T14:54:04.600Z"
   },
   {
    "duration": 432,
    "start_time": "2023-10-11T14:54:04.663Z"
   },
   {
    "duration": 426,
    "start_time": "2023-10-11T14:54:05.096Z"
   },
   {
    "duration": 169,
    "start_time": "2023-10-11T14:54:05.524Z"
   },
   {
    "duration": 12,
    "start_time": "2023-10-11T14:54:05.694Z"
   },
   {
    "duration": 69,
    "start_time": "2023-10-11T14:54:05.707Z"
   },
   {
    "duration": 16,
    "start_time": "2023-10-11T14:54:05.777Z"
   },
   {
    "duration": 69,
    "start_time": "2023-10-11T14:54:05.795Z"
   },
   {
    "duration": 408,
    "start_time": "2023-10-11T14:54:05.866Z"
   },
   {
    "duration": 103,
    "start_time": "2023-10-11T14:54:06.276Z"
   },
   {
    "duration": 2,
    "start_time": "2023-10-11T14:54:06.381Z"
   },
   {
    "duration": 31,
    "start_time": "2023-10-11T14:54:06.385Z"
   },
   {
    "duration": 26,
    "start_time": "2023-10-11T14:54:06.418Z"
   },
   {
    "duration": 12,
    "start_time": "2023-10-11T14:54:06.447Z"
   },
   {
    "duration": 32,
    "start_time": "2023-10-11T14:54:06.460Z"
   },
   {
    "duration": 18,
    "start_time": "2023-10-11T14:54:06.494Z"
   },
   {
    "duration": 85,
    "start_time": "2023-10-11T14:54:06.514Z"
   },
   {
    "duration": 5084,
    "start_time": "2023-10-11T14:54:06.600Z"
   },
   {
    "duration": 22,
    "start_time": "2023-10-11T14:54:11.685Z"
   },
   {
    "duration": 37,
    "start_time": "2023-10-11T14:54:11.708Z"
   },
   {
    "duration": 1289,
    "start_time": "2023-10-11T14:54:11.746Z"
   },
   {
    "duration": 23,
    "start_time": "2023-10-11T14:54:13.036Z"
   },
   {
    "duration": 2435,
    "start_time": "2023-10-11T14:54:13.061Z"
   },
   {
    "duration": 19,
    "start_time": "2023-10-11T14:54:15.498Z"
   },
   {
    "duration": 42,
    "start_time": "2023-10-11T14:54:15.519Z"
   },
   {
    "duration": 81889,
    "start_time": "2023-10-11T14:54:15.562Z"
   },
   {
    "duration": 1802,
    "start_time": "2023-10-11T14:56:10.642Z"
   },
   {
    "duration": 6,
    "start_time": "2023-10-11T14:56:12.447Z"
   },
   {
    "duration": 3531,
    "start_time": "2023-10-11T14:56:12.455Z"
   },
   {
    "duration": 4,
    "start_time": "2023-10-11T14:56:15.989Z"
   },
   {
    "duration": 1065,
    "start_time": "2023-10-11T14:56:15.994Z"
   },
   {
    "duration": 16,
    "start_time": "2023-10-11T14:56:17.060Z"
   },
   {
    "duration": 158,
    "start_time": "2023-10-11T14:56:17.077Z"
   },
   {
    "duration": 143,
    "start_time": "2023-10-11T14:56:17.237Z"
   },
   {
    "duration": 179,
    "start_time": "2023-10-11T14:56:17.382Z"
   },
   {
    "duration": 127,
    "start_time": "2023-10-11T14:56:17.563Z"
   },
   {
    "duration": 273,
    "start_time": "2023-10-11T14:56:17.691Z"
   },
   {
    "duration": 257,
    "start_time": "2023-10-11T14:56:17.965Z"
   },
   {
    "duration": 18,
    "start_time": "2023-10-11T14:56:18.224Z"
   },
   {
    "duration": 123,
    "start_time": "2023-10-11T14:56:18.249Z"
   },
   {
    "duration": 45,
    "start_time": "2023-10-11T14:56:18.374Z"
   },
   {
    "duration": 419,
    "start_time": "2023-10-11T14:56:18.420Z"
   },
   {
    "duration": 416,
    "start_time": "2023-10-11T14:56:18.840Z"
   },
   {
    "duration": 169,
    "start_time": "2023-10-11T14:56:19.258Z"
   },
   {
    "duration": 20,
    "start_time": "2023-10-11T14:56:19.429Z"
   },
   {
    "duration": 54,
    "start_time": "2023-10-11T14:56:19.451Z"
   },
   {
    "duration": 5,
    "start_time": "2023-10-11T14:56:19.507Z"
   },
   {
    "duration": 67,
    "start_time": "2023-10-11T14:56:19.514Z"
   },
   {
    "duration": 306,
    "start_time": "2023-10-11T14:56:19.583Z"
   },
   {
    "duration": 96,
    "start_time": "2023-10-11T14:56:19.891Z"
   },
   {
    "duration": 2,
    "start_time": "2023-10-11T14:56:19.989Z"
   },
   {
    "duration": 54,
    "start_time": "2023-10-11T14:56:19.993Z"
   },
   {
    "duration": 17,
    "start_time": "2023-10-11T14:56:20.048Z"
   },
   {
    "duration": 12,
    "start_time": "2023-10-11T14:56:20.069Z"
   },
   {
    "duration": 28,
    "start_time": "2023-10-11T14:56:20.082Z"
   },
   {
    "duration": 15,
    "start_time": "2023-10-11T14:56:20.112Z"
   },
   {
    "duration": 83,
    "start_time": "2023-10-11T14:56:20.129Z"
   },
   {
    "duration": 4754,
    "start_time": "2023-10-11T14:56:20.214Z"
   },
   {
    "duration": 24,
    "start_time": "2023-10-11T14:56:24.970Z"
   },
   {
    "duration": 36,
    "start_time": "2023-10-11T14:56:24.996Z"
   },
   {
    "duration": 1350,
    "start_time": "2023-10-11T14:56:25.034Z"
   },
   {
    "duration": 23,
    "start_time": "2023-10-11T14:56:26.385Z"
   },
   {
    "duration": 2497,
    "start_time": "2023-10-11T14:56:26.409Z"
   },
   {
    "duration": 21,
    "start_time": "2023-10-11T14:56:28.907Z"
   },
   {
    "duration": 42,
    "start_time": "2023-10-11T14:56:28.929Z"
   },
   {
    "duration": 214,
    "start_time": "2023-10-11T14:57:54.944Z"
   },
   {
    "duration": 1658,
    "start_time": "2023-10-11T14:58:06.897Z"
   },
   {
    "duration": 6,
    "start_time": "2023-10-11T14:58:08.557Z"
   },
   {
    "duration": 4196,
    "start_time": "2023-10-11T14:58:08.564Z"
   },
   {
    "duration": 3,
    "start_time": "2023-10-11T14:58:12.763Z"
   },
   {
    "duration": 1151,
    "start_time": "2023-10-11T14:58:12.767Z"
   },
   {
    "duration": 15,
    "start_time": "2023-10-11T14:58:13.920Z"
   },
   {
    "duration": 168,
    "start_time": "2023-10-11T14:58:13.936Z"
   },
   {
    "duration": 133,
    "start_time": "2023-10-11T14:58:14.106Z"
   },
   {
    "duration": 220,
    "start_time": "2023-10-11T14:58:14.241Z"
   },
   {
    "duration": 77,
    "start_time": "2023-10-11T14:58:14.464Z"
   },
   {
    "duration": 269,
    "start_time": "2023-10-11T14:58:14.542Z"
   },
   {
    "duration": 256,
    "start_time": "2023-10-11T14:58:14.812Z"
   },
   {
    "duration": 18,
    "start_time": "2023-10-11T14:58:15.070Z"
   },
   {
    "duration": 152,
    "start_time": "2023-10-11T14:58:15.089Z"
   },
   {
    "duration": 18,
    "start_time": "2023-10-11T14:58:15.243Z"
   },
   {
    "duration": 393,
    "start_time": "2023-10-11T14:58:15.262Z"
   },
   {
    "duration": 422,
    "start_time": "2023-10-11T14:58:15.657Z"
   },
   {
    "duration": 223,
    "start_time": "2023-10-11T14:58:16.081Z"
   },
   {
    "duration": 11,
    "start_time": "2023-10-11T14:58:16.305Z"
   },
   {
    "duration": 92,
    "start_time": "2023-10-11T14:58:16.318Z"
   },
   {
    "duration": 7,
    "start_time": "2023-10-11T14:58:16.413Z"
   },
   {
    "duration": 76,
    "start_time": "2023-10-11T14:58:16.423Z"
   },
   {
    "duration": 327,
    "start_time": "2023-10-11T14:58:16.501Z"
   },
   {
    "duration": 89,
    "start_time": "2023-10-11T14:58:16.831Z"
   },
   {
    "duration": 3,
    "start_time": "2023-10-11T14:58:16.922Z"
   },
   {
    "duration": 34,
    "start_time": "2023-10-11T14:58:16.926Z"
   },
   {
    "duration": 16,
    "start_time": "2023-10-11T14:58:16.962Z"
   },
   {
    "duration": 11,
    "start_time": "2023-10-11T14:58:16.982Z"
   },
   {
    "duration": 26,
    "start_time": "2023-10-11T14:58:16.994Z"
   },
   {
    "duration": 18,
    "start_time": "2023-10-11T14:58:17.022Z"
   },
   {
    "duration": 77,
    "start_time": "2023-10-11T14:58:17.042Z"
   },
   {
    "duration": 4664,
    "start_time": "2023-10-11T14:58:17.121Z"
   },
   {
    "duration": 22,
    "start_time": "2023-10-11T14:58:21.787Z"
   },
   {
    "duration": 84,
    "start_time": "2023-10-11T14:58:21.811Z"
   },
   {
    "duration": 1321,
    "start_time": "2023-10-11T14:58:21.897Z"
   },
   {
    "duration": 29,
    "start_time": "2023-10-11T14:58:23.220Z"
   },
   {
    "duration": 2460,
    "start_time": "2023-10-11T14:58:23.251Z"
   },
   {
    "duration": 17,
    "start_time": "2023-10-11T14:58:25.713Z"
   },
   {
    "duration": 31,
    "start_time": "2023-10-11T14:58:25.732Z"
   },
   {
    "duration": 34897,
    "start_time": "2023-10-11T14:58:25.764Z"
   },
   {
    "duration": 995804,
    "start_time": "2023-10-11T14:59:00.751Z"
   },
   {
    "duration": 0,
    "start_time": "2023-10-11T15:15:36.556Z"
   },
   {
    "duration": 0,
    "start_time": "2023-10-11T15:15:36.557Z"
   },
   {
    "duration": 1,
    "start_time": "2023-10-11T15:15:36.558Z"
   },
   {
    "duration": 0,
    "start_time": "2023-10-11T15:15:36.560Z"
   },
   {
    "duration": 0,
    "start_time": "2023-10-11T15:15:36.561Z"
   },
   {
    "duration": 0,
    "start_time": "2023-10-11T15:15:36.562Z"
   },
   {
    "duration": 0,
    "start_time": "2023-10-11T15:15:36.563Z"
   },
   {
    "duration": 0,
    "start_time": "2023-10-11T15:15:36.564Z"
   },
   {
    "duration": 0,
    "start_time": "2023-10-11T15:15:36.566Z"
   },
   {
    "duration": 0,
    "start_time": "2023-10-11T15:15:36.566Z"
   },
   {
    "duration": 1446,
    "start_time": "2023-10-11T15:22:35.614Z"
   },
   {
    "duration": 6,
    "start_time": "2023-10-11T15:22:37.062Z"
   },
   {
    "duration": 2610,
    "start_time": "2023-10-11T15:22:37.070Z"
   },
   {
    "duration": 3,
    "start_time": "2023-10-11T15:22:39.683Z"
   },
   {
    "duration": 860,
    "start_time": "2023-10-11T15:22:39.687Z"
   },
   {
    "duration": 15,
    "start_time": "2023-10-11T15:22:40.549Z"
   },
   {
    "duration": 155,
    "start_time": "2023-10-11T15:22:40.565Z"
   },
   {
    "duration": 146,
    "start_time": "2023-10-11T15:22:40.721Z"
   },
   {
    "duration": 181,
    "start_time": "2023-10-11T15:22:40.869Z"
   },
   {
    "duration": 82,
    "start_time": "2023-10-11T15:22:41.052Z"
   },
   {
    "duration": 276,
    "start_time": "2023-10-11T15:22:41.136Z"
   },
   {
    "duration": 252,
    "start_time": "2023-10-11T15:22:41.414Z"
   },
   {
    "duration": 19,
    "start_time": "2023-10-11T15:22:41.667Z"
   },
   {
    "duration": 124,
    "start_time": "2023-10-11T15:22:41.688Z"
   },
   {
    "duration": 14,
    "start_time": "2023-10-11T15:22:41.814Z"
   },
   {
    "duration": 381,
    "start_time": "2023-10-11T15:22:41.830Z"
   },
   {
    "duration": 414,
    "start_time": "2023-10-11T15:22:42.213Z"
   },
   {
    "duration": 159,
    "start_time": "2023-10-11T15:22:42.629Z"
   },
   {
    "duration": 12,
    "start_time": "2023-10-11T15:22:42.790Z"
   },
   {
    "duration": 86,
    "start_time": "2023-10-11T15:22:42.803Z"
   },
   {
    "duration": 5,
    "start_time": "2023-10-11T15:22:42.891Z"
   },
   {
    "duration": 80,
    "start_time": "2023-10-11T15:22:42.898Z"
   },
   {
    "duration": 301,
    "start_time": "2023-10-11T15:22:42.980Z"
   },
   {
    "duration": 92,
    "start_time": "2023-10-11T15:22:43.283Z"
   },
   {
    "duration": 3,
    "start_time": "2023-10-11T15:22:43.376Z"
   },
   {
    "duration": 63,
    "start_time": "2023-10-11T15:22:43.380Z"
   },
   {
    "duration": 16,
    "start_time": "2023-10-11T15:22:43.445Z"
   },
   {
    "duration": 23,
    "start_time": "2023-10-11T15:22:43.464Z"
   },
   {
    "duration": 44,
    "start_time": "2023-10-11T15:22:43.488Z"
   },
   {
    "duration": 18,
    "start_time": "2023-10-11T15:22:43.534Z"
   },
   {
    "duration": 148,
    "start_time": "2023-10-11T15:22:43.553Z"
   },
   {
    "duration": 3193,
    "start_time": "2023-10-11T15:22:43.703Z"
   },
   {
    "duration": 21,
    "start_time": "2023-10-11T15:22:46.897Z"
   },
   {
    "duration": 1329,
    "start_time": "2023-10-11T15:22:46.920Z"
   },
   {
    "duration": 20,
    "start_time": "2023-10-11T15:22:48.251Z"
   },
   {
    "duration": 1431,
    "start_time": "2023-10-11T15:22:48.273Z"
   },
   {
    "duration": 1711,
    "start_time": "2023-10-11T15:22:49.706Z"
   },
   {
    "duration": 18,
    "start_time": "2023-10-11T15:22:51.419Z"
   },
   {
    "duration": 47,
    "start_time": "2023-10-11T15:22:51.438Z"
   },
   {
    "duration": 76,
    "start_time": "2023-10-11T15:22:51.486Z"
   },
   {
    "duration": 21988,
    "start_time": "2023-10-11T15:22:51.564Z"
   },
   {
    "duration": 197,
    "start_time": "2023-10-11T15:23:13.554Z"
   },
   {
    "duration": 6,
    "start_time": "2023-10-11T15:23:13.753Z"
   },
   {
    "duration": 1188,
    "start_time": "2023-10-11T15:23:43.706Z"
   },
   {
    "duration": 5,
    "start_time": "2023-10-11T15:23:44.896Z"
   },
   {
    "duration": 2584,
    "start_time": "2023-10-11T15:23:44.902Z"
   },
   {
    "duration": 3,
    "start_time": "2023-10-11T15:23:47.489Z"
   },
   {
    "duration": 832,
    "start_time": "2023-10-11T15:23:47.493Z"
   },
   {
    "duration": 23,
    "start_time": "2023-10-11T15:23:48.327Z"
   },
   {
    "duration": 155,
    "start_time": "2023-10-11T15:23:48.352Z"
   },
   {
    "duration": 144,
    "start_time": "2023-10-11T15:23:48.509Z"
   },
   {
    "duration": 177,
    "start_time": "2023-10-11T15:23:48.655Z"
   },
   {
    "duration": 88,
    "start_time": "2023-10-11T15:23:48.835Z"
   },
   {
    "duration": 295,
    "start_time": "2023-10-11T15:23:48.925Z"
   },
   {
    "duration": 265,
    "start_time": "2023-10-11T15:23:49.222Z"
   },
   {
    "duration": 19,
    "start_time": "2023-10-11T15:23:49.489Z"
   },
   {
    "duration": 140,
    "start_time": "2023-10-11T15:23:49.510Z"
   },
   {
    "duration": 12,
    "start_time": "2023-10-11T15:23:49.651Z"
   },
   {
    "duration": 408,
    "start_time": "2023-10-11T15:23:49.665Z"
   },
   {
    "duration": 430,
    "start_time": "2023-10-11T15:23:50.075Z"
   },
   {
    "duration": 174,
    "start_time": "2023-10-11T15:23:50.507Z"
   },
   {
    "duration": 12,
    "start_time": "2023-10-11T15:23:50.683Z"
   },
   {
    "duration": 125,
    "start_time": "2023-10-11T15:23:50.697Z"
   },
   {
    "duration": 6,
    "start_time": "2023-10-11T15:23:50.824Z"
   },
   {
    "duration": 140,
    "start_time": "2023-10-11T15:23:50.832Z"
   },
   {
    "duration": 306,
    "start_time": "2023-10-11T15:23:50.974Z"
   },
   {
    "duration": 97,
    "start_time": "2023-10-11T15:23:51.281Z"
   },
   {
    "duration": 2,
    "start_time": "2023-10-11T15:23:51.380Z"
   },
   {
    "duration": 100,
    "start_time": "2023-10-11T15:23:51.384Z"
   },
   {
    "duration": 31,
    "start_time": "2023-10-11T15:23:51.486Z"
   },
   {
    "duration": 20,
    "start_time": "2023-10-11T15:23:51.520Z"
   },
   {
    "duration": 44,
    "start_time": "2023-10-11T15:23:51.541Z"
   },
   {
    "duration": 31,
    "start_time": "2023-10-11T15:23:51.586Z"
   },
   {
    "duration": 159,
    "start_time": "2023-10-11T15:23:51.618Z"
   },
   {
    "duration": 3157,
    "start_time": "2023-10-11T15:23:51.779Z"
   },
   {
    "duration": 24,
    "start_time": "2023-10-11T15:23:54.938Z"
   },
   {
    "duration": 1333,
    "start_time": "2023-10-11T15:23:54.964Z"
   },
   {
    "duration": 22,
    "start_time": "2023-10-11T15:23:56.298Z"
   },
   {
    "duration": 1437,
    "start_time": "2023-10-11T15:23:56.321Z"
   },
   {
    "duration": 1695,
    "start_time": "2023-10-11T15:23:57.759Z"
   },
   {
    "duration": 20,
    "start_time": "2023-10-11T15:23:59.456Z"
   },
   {
    "duration": 48,
    "start_time": "2023-10-11T15:23:59.478Z"
   },
   {
    "duration": 29,
    "start_time": "2023-10-11T15:23:59.527Z"
   },
   {
    "duration": 25105,
    "start_time": "2023-10-11T15:23:59.557Z"
   },
   {
    "duration": 187,
    "start_time": "2023-10-11T15:24:24.665Z"
   },
   {
    "duration": 6,
    "start_time": "2023-10-11T15:24:24.854Z"
   },
   {
    "duration": 1185,
    "start_time": "2023-10-11T15:27:47.117Z"
   },
   {
    "duration": 5,
    "start_time": "2023-10-11T15:27:48.304Z"
   },
   {
    "duration": 2626,
    "start_time": "2023-10-11T15:27:48.310Z"
   },
   {
    "duration": 3,
    "start_time": "2023-10-11T15:27:50.938Z"
   },
   {
    "duration": 818,
    "start_time": "2023-10-11T15:27:50.943Z"
   },
   {
    "duration": 16,
    "start_time": "2023-10-11T15:27:51.763Z"
   },
   {
    "duration": 149,
    "start_time": "2023-10-11T15:27:51.782Z"
   },
   {
    "duration": 136,
    "start_time": "2023-10-11T15:27:51.932Z"
   },
   {
    "duration": 175,
    "start_time": "2023-10-11T15:27:52.070Z"
   },
   {
    "duration": 74,
    "start_time": "2023-10-11T15:27:52.249Z"
   },
   {
    "duration": 265,
    "start_time": "2023-10-11T15:27:52.324Z"
   },
   {
    "duration": 244,
    "start_time": "2023-10-11T15:27:52.590Z"
   },
   {
    "duration": 20,
    "start_time": "2023-10-11T15:27:52.835Z"
   },
   {
    "duration": 143,
    "start_time": "2023-10-11T15:27:52.858Z"
   },
   {
    "duration": 12,
    "start_time": "2023-10-11T15:27:53.003Z"
   },
   {
    "duration": 398,
    "start_time": "2023-10-11T15:27:53.016Z"
   },
   {
    "duration": 425,
    "start_time": "2023-10-11T15:27:53.416Z"
   },
   {
    "duration": 161,
    "start_time": "2023-10-11T15:27:53.842Z"
   },
   {
    "duration": 10,
    "start_time": "2023-10-11T15:27:54.005Z"
   },
   {
    "duration": 68,
    "start_time": "2023-10-11T15:27:54.017Z"
   },
   {
    "duration": 7,
    "start_time": "2023-10-11T15:27:54.086Z"
   },
   {
    "duration": 86,
    "start_time": "2023-10-11T15:27:54.095Z"
   },
   {
    "duration": 311,
    "start_time": "2023-10-11T15:27:54.182Z"
   },
   {
    "duration": 91,
    "start_time": "2023-10-11T15:27:54.494Z"
   },
   {
    "duration": 3,
    "start_time": "2023-10-11T15:27:54.586Z"
   },
   {
    "duration": 62,
    "start_time": "2023-10-11T15:27:54.590Z"
   },
   {
    "duration": 19,
    "start_time": "2023-10-11T15:27:54.654Z"
   },
   {
    "duration": 23,
    "start_time": "2023-10-11T15:27:54.675Z"
   },
   {
    "duration": 43,
    "start_time": "2023-10-11T15:27:54.700Z"
   },
   {
    "duration": 12,
    "start_time": "2023-10-11T15:27:54.745Z"
   },
   {
    "duration": 152,
    "start_time": "2023-10-11T15:27:54.759Z"
   },
   {
    "duration": 3042,
    "start_time": "2023-10-11T15:27:54.913Z"
   },
   {
    "duration": 23,
    "start_time": "2023-10-11T15:27:57.957Z"
   },
   {
    "duration": 1306,
    "start_time": "2023-10-11T15:27:57.981Z"
   },
   {
    "duration": 20,
    "start_time": "2023-10-11T15:27:59.289Z"
   },
   {
    "duration": 1431,
    "start_time": "2023-10-11T15:27:59.310Z"
   },
   {
    "duration": 1707,
    "start_time": "2023-10-11T15:28:00.743Z"
   },
   {
    "duration": 30,
    "start_time": "2023-10-11T15:28:02.452Z"
   },
   {
    "duration": 49,
    "start_time": "2023-10-11T15:28:02.484Z"
   },
   {
    "duration": 60,
    "start_time": "2023-10-11T15:28:02.535Z"
   },
   {
    "duration": 21555,
    "start_time": "2023-10-11T15:28:02.600Z"
   },
   {
    "duration": 193,
    "start_time": "2023-10-11T15:28:24.158Z"
   },
   {
    "duration": 94,
    "start_time": "2023-10-11T15:28:24.354Z"
   },
   {
    "duration": 360818,
    "start_time": "2023-10-11T15:28:24.450Z"
   },
   {
    "duration": 3,
    "start_time": "2023-10-11T15:34:25.351Z"
   },
   {
    "duration": 100,
    "start_time": "2023-10-11T15:34:25.356Z"
   },
   {
    "duration": 16,
    "start_time": "2023-10-11T15:34:25.457Z"
   },
   {
    "duration": 33,
    "start_time": "2023-10-11T15:34:25.475Z"
   },
   {
    "duration": 65,
    "start_time": "2023-10-11T15:34:25.509Z"
   },
   {
    "duration": 160,
    "start_time": "2023-10-11T15:34:25.576Z"
   },
   {
    "duration": 54719,
    "start_time": "2023-10-11T15:34:25.738Z"
   },
   {
    "duration": 3,
    "start_time": "2023-10-11T15:35:20.459Z"
   },
   {
    "duration": 39,
    "start_time": "2023-10-11T15:35:20.464Z"
   },
   {
    "duration": 755,
    "start_time": "2023-10-11T15:35:20.505Z"
   },
   {
    "duration": 139,
    "start_time": "2023-10-11T15:39:27.937Z"
   },
   {
    "duration": 6,
    "start_time": "2023-10-11T15:39:31.473Z"
   },
   {
    "duration": 2,
    "start_time": "2023-10-11T15:39:47.042Z"
   },
   {
    "duration": 1135,
    "start_time": "2023-10-11T19:21:34.688Z"
   },
   {
    "duration": 5,
    "start_time": "2023-10-11T19:21:35.825Z"
   },
   {
    "duration": 2532,
    "start_time": "2023-10-11T19:21:35.831Z"
   },
   {
    "duration": 2,
    "start_time": "2023-10-11T19:21:38.366Z"
   },
   {
    "duration": 845,
    "start_time": "2023-10-11T19:21:38.369Z"
   },
   {
    "duration": 16,
    "start_time": "2023-10-11T19:21:39.216Z"
   },
   {
    "duration": 161,
    "start_time": "2023-10-11T19:21:39.233Z"
   },
   {
    "duration": 137,
    "start_time": "2023-10-11T19:21:39.395Z"
   },
   {
    "duration": 181,
    "start_time": "2023-10-11T19:21:39.534Z"
   },
   {
    "duration": 88,
    "start_time": "2023-10-11T19:21:39.718Z"
   },
   {
    "duration": 270,
    "start_time": "2023-10-11T19:21:39.807Z"
   },
   {
    "duration": 276,
    "start_time": "2023-10-11T19:21:40.079Z"
   },
   {
    "duration": 19,
    "start_time": "2023-10-11T19:21:40.357Z"
   },
   {
    "duration": 140,
    "start_time": "2023-10-11T19:21:40.378Z"
   },
   {
    "duration": 13,
    "start_time": "2023-10-11T19:21:40.520Z"
   },
   {
    "duration": 389,
    "start_time": "2023-10-11T19:21:40.535Z"
   },
   {
    "duration": 407,
    "start_time": "2023-10-11T19:21:40.926Z"
   },
   {
    "duration": 171,
    "start_time": "2023-10-11T19:21:41.334Z"
   },
   {
    "duration": 12,
    "start_time": "2023-10-11T19:21:41.506Z"
   },
   {
    "duration": 64,
    "start_time": "2023-10-11T19:21:41.520Z"
   },
   {
    "duration": 6,
    "start_time": "2023-10-11T19:21:41.585Z"
   },
   {
    "duration": 66,
    "start_time": "2023-10-11T19:21:41.592Z"
   },
   {
    "duration": 294,
    "start_time": "2023-10-11T19:21:41.660Z"
   },
   {
    "duration": 82,
    "start_time": "2023-10-11T19:21:41.956Z"
   },
   {
    "duration": 2,
    "start_time": "2023-10-11T19:21:42.049Z"
   },
   {
    "duration": 47,
    "start_time": "2023-10-11T19:21:42.053Z"
   },
   {
    "duration": 17,
    "start_time": "2023-10-11T19:21:42.102Z"
   },
   {
    "duration": 11,
    "start_time": "2023-10-11T19:21:42.122Z"
   },
   {
    "duration": 43,
    "start_time": "2023-10-11T19:21:42.135Z"
   },
   {
    "duration": 12,
    "start_time": "2023-10-11T19:21:42.179Z"
   },
   {
    "duration": 131,
    "start_time": "2023-10-11T19:21:42.192Z"
   },
   {
    "duration": 3112,
    "start_time": "2023-10-11T19:21:42.324Z"
   },
   {
    "duration": 24,
    "start_time": "2023-10-11T19:21:45.438Z"
   },
   {
    "duration": 1320,
    "start_time": "2023-10-11T19:21:45.464Z"
   },
   {
    "duration": 19,
    "start_time": "2023-10-11T19:21:46.786Z"
   },
   {
    "duration": 1387,
    "start_time": "2023-10-11T19:21:46.806Z"
   },
   {
    "duration": 1723,
    "start_time": "2023-10-11T19:21:48.194Z"
   },
   {
    "duration": 18,
    "start_time": "2023-10-11T19:21:49.918Z"
   },
   {
    "duration": 34,
    "start_time": "2023-10-11T19:21:49.937Z"
   },
   {
    "duration": 36,
    "start_time": "2023-10-11T19:21:49.973Z"
   },
   {
    "duration": 22242,
    "start_time": "2023-10-11T19:21:50.010Z"
   },
   {
    "duration": 196,
    "start_time": "2023-10-11T19:22:12.254Z"
   },
   {
    "duration": 8,
    "start_time": "2023-10-11T19:22:12.452Z"
   },
   {
    "duration": 578708,
    "start_time": "2023-10-11T19:22:12.461Z"
   },
   {
    "duration": 4,
    "start_time": "2023-10-11T19:31:51.250Z"
   },
   {
    "duration": 109,
    "start_time": "2023-10-11T19:31:51.256Z"
   },
   {
    "duration": 16,
    "start_time": "2023-10-11T19:31:51.366Z"
   },
   {
    "duration": 37,
    "start_time": "2023-10-11T19:31:51.384Z"
   },
   {
    "duration": 66,
    "start_time": "2023-10-11T19:31:51.423Z"
   },
   {
    "duration": 169,
    "start_time": "2023-10-11T19:31:51.490Z"
   },
   {
    "duration": 828098,
    "start_time": "2023-10-11T19:31:51.661Z"
   },
   {
    "duration": 3,
    "start_time": "2023-10-11T19:45:39.760Z"
   },
   {
    "duration": 146,
    "start_time": "2023-10-11T19:45:39.764Z"
   },
   {
    "duration": 0,
    "start_time": "2023-10-11T19:45:39.911Z"
   },
   {
    "duration": 0,
    "start_time": "2023-10-11T19:45:39.913Z"
   },
   {
    "duration": 0,
    "start_time": "2023-10-11T19:45:39.914Z"
   },
   {
    "duration": 110,
    "start_time": "2023-10-11T19:46:00.297Z"
   },
   {
    "duration": 159,
    "start_time": "2023-10-11T19:46:01.022Z"
   },
   {
    "duration": 642,
    "start_time": "2023-10-11T19:46:07.727Z"
   },
   {
    "duration": 5,
    "start_time": "2023-10-11T19:46:12.029Z"
   },
   {
    "duration": 6,
    "start_time": "2023-10-11T19:47:08.031Z"
   },
   {
    "duration": 699,
    "start_time": "2023-10-11T19:47:30.465Z"
   },
   {
    "duration": 4020,
    "start_time": "2023-10-11T20:31:37.926Z"
   },
   {
    "duration": 6,
    "start_time": "2023-10-11T20:31:41.948Z"
   },
   {
    "duration": 7981,
    "start_time": "2023-10-11T20:31:41.956Z"
   },
   {
    "duration": 4,
    "start_time": "2023-10-11T20:31:49.939Z"
   },
   {
    "duration": 3428,
    "start_time": "2023-10-11T20:31:49.945Z"
   },
   {
    "duration": 20,
    "start_time": "2023-10-11T20:31:53.375Z"
   },
   {
    "duration": 167,
    "start_time": "2023-10-11T20:31:53.397Z"
   },
   {
    "duration": 161,
    "start_time": "2023-10-11T20:31:53.567Z"
   },
   {
    "duration": 221,
    "start_time": "2023-10-11T20:31:53.729Z"
   },
   {
    "duration": 101,
    "start_time": "2023-10-11T20:31:53.956Z"
   },
   {
    "duration": 315,
    "start_time": "2023-10-11T20:31:54.059Z"
   },
   {
    "duration": 305,
    "start_time": "2023-10-11T20:31:54.377Z"
   },
   {
    "duration": 22,
    "start_time": "2023-10-11T20:31:54.683Z"
   },
   {
    "duration": 165,
    "start_time": "2023-10-11T20:31:54.709Z"
   },
   {
    "duration": 15,
    "start_time": "2023-10-11T20:31:54.875Z"
   },
   {
    "duration": 498,
    "start_time": "2023-10-11T20:31:54.892Z"
   },
   {
    "duration": 542,
    "start_time": "2023-10-11T20:31:55.391Z"
   },
   {
    "duration": 202,
    "start_time": "2023-10-11T20:31:55.935Z"
   },
   {
    "duration": 22,
    "start_time": "2023-10-11T20:31:56.139Z"
   },
   {
    "duration": 65,
    "start_time": "2023-10-11T20:31:56.164Z"
   },
   {
    "duration": 31,
    "start_time": "2023-10-11T20:31:56.231Z"
   },
   {
    "duration": 61,
    "start_time": "2023-10-11T20:31:56.264Z"
   },
   {
    "duration": 485,
    "start_time": "2023-10-11T20:31:56.328Z"
   },
   {
    "duration": 130,
    "start_time": "2023-10-11T20:31:56.815Z"
   },
   {
    "duration": 3,
    "start_time": "2023-10-11T20:31:56.948Z"
   },
   {
    "duration": 45,
    "start_time": "2023-10-11T20:31:56.956Z"
   },
   {
    "duration": 18,
    "start_time": "2023-10-11T20:31:57.003Z"
   },
   {
    "duration": 15,
    "start_time": "2023-10-11T20:31:57.023Z"
   },
   {
    "duration": 40,
    "start_time": "2023-10-11T20:31:57.040Z"
   },
   {
    "duration": 13,
    "start_time": "2023-10-11T20:31:57.082Z"
   },
   {
    "duration": 185,
    "start_time": "2023-10-11T20:31:57.097Z"
   },
   {
    "duration": 156,
    "start_time": "2023-10-11T20:31:57.283Z"
   },
   {
    "duration": 0,
    "start_time": "2023-10-11T20:31:57.441Z"
   },
   {
    "duration": 0,
    "start_time": "2023-10-11T20:31:57.442Z"
   },
   {
    "duration": 0,
    "start_time": "2023-10-11T20:31:57.444Z"
   },
   {
    "duration": 0,
    "start_time": "2023-10-11T20:31:57.456Z"
   },
   {
    "duration": 0,
    "start_time": "2023-10-11T20:31:57.458Z"
   },
   {
    "duration": 0,
    "start_time": "2023-10-11T20:31:57.460Z"
   },
   {
    "duration": 0,
    "start_time": "2023-10-11T20:31:57.462Z"
   },
   {
    "duration": 0,
    "start_time": "2023-10-11T20:31:57.463Z"
   },
   {
    "duration": 0,
    "start_time": "2023-10-11T20:31:57.465Z"
   },
   {
    "duration": 0,
    "start_time": "2023-10-11T20:31:57.466Z"
   },
   {
    "duration": 0,
    "start_time": "2023-10-11T20:31:57.468Z"
   },
   {
    "duration": 0,
    "start_time": "2023-10-11T20:31:57.470Z"
   },
   {
    "duration": 0,
    "start_time": "2023-10-11T20:31:57.472Z"
   },
   {
    "duration": 0,
    "start_time": "2023-10-11T20:31:57.473Z"
   },
   {
    "duration": 0,
    "start_time": "2023-10-11T20:31:57.474Z"
   },
   {
    "duration": 0,
    "start_time": "2023-10-11T20:31:57.475Z"
   },
   {
    "duration": 0,
    "start_time": "2023-10-11T20:31:57.477Z"
   },
   {
    "duration": 0,
    "start_time": "2023-10-11T20:31:57.478Z"
   },
   {
    "duration": 0,
    "start_time": "2023-10-11T20:31:57.480Z"
   },
   {
    "duration": 0,
    "start_time": "2023-10-11T20:31:57.481Z"
   },
   {
    "duration": 0,
    "start_time": "2023-10-11T20:31:57.482Z"
   },
   {
    "duration": 0,
    "start_time": "2023-10-11T20:31:57.483Z"
   },
   {
    "duration": 0,
    "start_time": "2023-10-11T20:31:57.484Z"
   },
   {
    "duration": 0,
    "start_time": "2023-10-11T20:31:57.485Z"
   },
   {
    "duration": 3098,
    "start_time": "2023-10-11T20:32:12.875Z"
   },
   {
    "duration": 1407,
    "start_time": "2023-10-11T20:32:17.328Z"
   },
   {
    "duration": 6,
    "start_time": "2023-10-11T20:32:18.737Z"
   },
   {
    "duration": 2958,
    "start_time": "2023-10-11T20:32:21.293Z"
   },
   {
    "duration": 4,
    "start_time": "2023-10-11T20:32:24.255Z"
   },
   {
    "duration": 1056,
    "start_time": "2023-10-11T20:32:24.273Z"
   },
   {
    "duration": 26,
    "start_time": "2023-10-11T20:32:25.331Z"
   },
   {
    "duration": 175,
    "start_time": "2023-10-11T20:32:25.359Z"
   },
   {
    "duration": 162,
    "start_time": "2023-10-11T20:32:25.536Z"
   },
   {
    "duration": 213,
    "start_time": "2023-10-11T20:32:25.700Z"
   },
   {
    "duration": 95,
    "start_time": "2023-10-11T20:32:25.914Z"
   },
   {
    "duration": 299,
    "start_time": "2023-10-11T20:32:26.011Z"
   },
   {
    "duration": 299,
    "start_time": "2023-10-11T20:32:26.313Z"
   },
   {
    "duration": 22,
    "start_time": "2023-10-11T20:32:26.613Z"
   },
   {
    "duration": 163,
    "start_time": "2023-10-11T20:32:26.637Z"
   },
   {
    "duration": 26,
    "start_time": "2023-10-11T20:32:26.802Z"
   },
   {
    "duration": 497,
    "start_time": "2023-10-11T20:32:26.830Z"
   },
   {
    "duration": 520,
    "start_time": "2023-10-11T20:32:27.329Z"
   },
   {
    "duration": 226,
    "start_time": "2023-10-11T20:32:27.850Z"
   },
   {
    "duration": 14,
    "start_time": "2023-10-11T20:32:28.078Z"
   },
   {
    "duration": 87,
    "start_time": "2023-10-11T20:32:28.094Z"
   },
   {
    "duration": 6,
    "start_time": "2023-10-11T20:32:28.183Z"
   },
   {
    "duration": 78,
    "start_time": "2023-10-11T20:32:28.191Z"
   },
   {
    "duration": 375,
    "start_time": "2023-10-11T20:32:28.272Z"
   },
   {
    "duration": 116,
    "start_time": "2023-10-11T20:32:28.649Z"
   },
   {
    "duration": 4,
    "start_time": "2023-10-11T20:32:28.768Z"
   },
   {
    "duration": 48,
    "start_time": "2023-10-11T20:32:28.773Z"
   },
   {
    "duration": 18,
    "start_time": "2023-10-11T20:32:28.823Z"
   },
   {
    "duration": 27,
    "start_time": "2023-10-11T20:32:28.844Z"
   },
   {
    "duration": 39,
    "start_time": "2023-10-11T20:32:28.874Z"
   },
   {
    "duration": 16,
    "start_time": "2023-10-11T20:32:28.918Z"
   },
   {
    "duration": 185,
    "start_time": "2023-10-11T20:32:28.936Z"
   },
   {
    "duration": 3722,
    "start_time": "2023-10-11T20:32:29.123Z"
   },
   {
    "duration": 38,
    "start_time": "2023-10-11T20:32:32.847Z"
   },
   {
    "duration": 1375,
    "start_time": "2023-10-11T20:32:32.888Z"
   },
   {
    "duration": 28,
    "start_time": "2023-10-11T20:32:34.266Z"
   },
   {
    "duration": 1525,
    "start_time": "2023-10-11T20:32:34.296Z"
   },
   {
    "duration": 1999,
    "start_time": "2023-10-11T20:32:35.823Z"
   },
   {
    "duration": 22,
    "start_time": "2023-10-11T20:32:37.824Z"
   },
   {
    "duration": 26,
    "start_time": "2023-10-11T20:32:37.856Z"
   },
   {
    "duration": 20,
    "start_time": "2023-10-11T20:32:37.885Z"
   },
   {
    "duration": 24670,
    "start_time": "2023-10-11T20:32:37.907Z"
   },
   {
    "duration": 205,
    "start_time": "2023-10-11T20:33:02.656Z"
   },
   {
    "duration": 10,
    "start_time": "2023-10-11T20:33:02.863Z"
   },
   {
    "duration": 459080,
    "start_time": "2023-10-11T20:33:02.878Z"
   },
   {
    "duration": 4,
    "start_time": "2023-10-11T20:40:41.962Z"
   },
   {
    "duration": 6,
    "start_time": "2023-10-11T20:40:42.057Z"
   },
   {
    "duration": 24,
    "start_time": "2023-10-11T20:40:42.065Z"
   },
   {
    "duration": 40,
    "start_time": "2023-10-11T20:40:42.091Z"
   },
   {
    "duration": 129,
    "start_time": "2023-10-11T20:40:42.133Z"
   },
   {
    "duration": 183,
    "start_time": "2023-10-11T20:40:42.264Z"
   },
   {
    "duration": 41816,
    "start_time": "2023-10-11T20:40:42.449Z"
   },
   {
    "duration": 4,
    "start_time": "2023-10-11T20:41:24.267Z"
   },
   {
    "duration": 796,
    "start_time": "2023-10-11T20:41:24.272Z"
   },
   {
    "duration": 5,
    "start_time": "2023-10-11T20:41:25.157Z"
   },
   {
    "duration": 24,
    "start_time": "2023-10-11T20:41:25.164Z"
   },
   {
    "duration": 782,
    "start_time": "2023-10-11T20:41:25.190Z"
   },
   {
    "duration": 7,
    "start_time": "2023-10-11T20:41:51.964Z"
   },
   {
    "duration": 29,
    "start_time": "2023-10-11T20:41:57.188Z"
   },
   {
    "duration": 6,
    "start_time": "2023-10-11T20:42:10.439Z"
   },
   {
    "duration": 727,
    "start_time": "2023-10-11T20:43:01.148Z"
   },
   {
    "duration": 5,
    "start_time": "2023-10-11T20:43:01.958Z"
   },
   {
    "duration": 728,
    "start_time": "2023-10-11T20:43:11.447Z"
   },
   {
    "duration": 732,
    "start_time": "2023-10-11T20:43:18.544Z"
   },
   {
    "duration": 3,
    "start_time": "2023-10-11T20:43:38.137Z"
   },
   {
    "duration": 21,
    "start_time": "2023-10-11T20:43:38.387Z"
   },
   {
    "duration": 126,
    "start_time": "2023-10-11T20:43:38.593Z"
   },
   {
    "duration": 201,
    "start_time": "2023-10-11T20:43:38.877Z"
   },
   {
    "duration": 404,
    "start_time": "2023-10-11T20:43:40.850Z"
   },
   {
    "duration": 11,
    "start_time": "2023-10-11T20:43:41.257Z"
   },
   {
    "duration": 11,
    "start_time": "2023-10-11T20:43:41.565Z"
   },
   {
    "duration": 18,
    "start_time": "2023-10-11T20:43:54.582Z"
   },
   {
    "duration": 122,
    "start_time": "2023-10-11T20:43:54.877Z"
   },
   {
    "duration": 14,
    "start_time": "2023-10-11T20:44:01.586Z"
   },
   {
    "duration": 27,
    "start_time": "2023-10-11T20:44:05.903Z"
   },
   {
    "duration": 116,
    "start_time": "2023-10-11T20:44:06.241Z"
   },
   {
    "duration": 147,
    "start_time": "2023-10-11T20:44:06.465Z"
   },
   {
    "duration": 37000,
    "start_time": "2023-10-11T20:44:06.869Z"
   },
   {
    "duration": 3,
    "start_time": "2023-10-11T20:44:43.871Z"
   },
   {
    "duration": 880,
    "start_time": "2023-10-11T20:44:43.876Z"
   },
   {
    "duration": 4,
    "start_time": "2023-10-11T20:44:44.759Z"
   },
   {
    "duration": 4,
    "start_time": "2023-10-11T20:44:47.766Z"
   },
   {
    "duration": 779,
    "start_time": "2023-10-11T20:44:47.980Z"
   },
   {
    "duration": 5,
    "start_time": "2023-10-11T20:44:48.762Z"
   },
   {
    "duration": 37600,
    "start_time": "2023-10-11T20:45:18.256Z"
   },
   {
    "duration": 4,
    "start_time": "2023-10-11T20:45:55.858Z"
   },
   {
    "duration": 702,
    "start_time": "2023-10-11T20:45:55.864Z"
   },
   {
    "duration": 5,
    "start_time": "2023-10-11T20:45:56.568Z"
   },
   {
    "duration": 7,
    "start_time": "2023-10-11T20:46:01.138Z"
   },
   {
    "duration": 688,
    "start_time": "2023-10-11T20:46:05.982Z"
   },
   {
    "duration": 24,
    "start_time": "2023-10-11T20:46:12.388Z"
   },
   {
    "duration": 24,
    "start_time": "2023-10-11T20:46:14.683Z"
   },
   {
    "duration": 5,
    "start_time": "2023-10-11T20:46:34.787Z"
   },
   {
    "duration": 5,
    "start_time": "2023-10-11T20:46:36.230Z"
   },
   {
    "duration": 1614,
    "start_time": "2023-10-11T20:57:18.155Z"
   },
   {
    "duration": 5,
    "start_time": "2023-10-11T20:57:19.771Z"
   },
   {
    "duration": 7211,
    "start_time": "2023-10-11T20:57:19.777Z"
   },
   {
    "duration": 3,
    "start_time": "2023-10-11T20:57:26.991Z"
   },
   {
    "duration": 1277,
    "start_time": "2023-10-11T20:57:26.995Z"
   },
   {
    "duration": 16,
    "start_time": "2023-10-11T20:57:28.274Z"
   },
   {
    "duration": 171,
    "start_time": "2023-10-11T20:57:28.292Z"
   },
   {
    "duration": 167,
    "start_time": "2023-10-11T20:57:28.465Z"
   },
   {
    "duration": 205,
    "start_time": "2023-10-11T20:57:28.635Z"
   },
   {
    "duration": 97,
    "start_time": "2023-10-11T20:57:28.844Z"
   },
   {
    "duration": 306,
    "start_time": "2023-10-11T20:57:28.943Z"
   },
   {
    "duration": 322,
    "start_time": "2023-10-11T20:57:29.250Z"
   },
   {
    "duration": 19,
    "start_time": "2023-10-11T20:57:29.574Z"
   },
   {
    "duration": 143,
    "start_time": "2023-10-11T20:57:29.594Z"
   },
   {
    "duration": 13,
    "start_time": "2023-10-11T20:57:29.739Z"
   },
   {
    "duration": 425,
    "start_time": "2023-10-11T20:57:29.754Z"
   },
   {
    "duration": 483,
    "start_time": "2023-10-11T20:57:30.181Z"
   },
   {
    "duration": 192,
    "start_time": "2023-10-11T20:57:30.666Z"
   },
   {
    "duration": 11,
    "start_time": "2023-10-11T20:57:30.860Z"
   },
   {
    "duration": 88,
    "start_time": "2023-10-11T20:57:30.873Z"
   },
   {
    "duration": 6,
    "start_time": "2023-10-11T20:57:30.963Z"
   },
   {
    "duration": 107,
    "start_time": "2023-10-11T20:57:30.970Z"
   },
   {
    "duration": 472,
    "start_time": "2023-10-11T20:57:31.078Z"
   },
   {
    "duration": 99,
    "start_time": "2023-10-11T20:57:31.553Z"
   },
   {
    "duration": 3,
    "start_time": "2023-10-11T20:57:31.653Z"
   },
   {
    "duration": 51,
    "start_time": "2023-10-11T20:57:31.658Z"
   },
   {
    "duration": 27,
    "start_time": "2023-10-11T20:57:31.711Z"
   },
   {
    "duration": 24,
    "start_time": "2023-10-11T20:57:31.743Z"
   },
   {
    "duration": 85,
    "start_time": "2023-10-11T20:57:31.770Z"
   },
   {
    "duration": 45,
    "start_time": "2023-10-11T20:57:31.857Z"
   },
   {
    "duration": 182,
    "start_time": "2023-10-11T20:57:31.904Z"
   },
   {
    "duration": 159,
    "start_time": "2023-10-11T20:57:32.088Z"
   },
   {
    "duration": 0,
    "start_time": "2023-10-11T20:57:32.249Z"
   },
   {
    "duration": 0,
    "start_time": "2023-10-11T20:57:32.250Z"
   },
   {
    "duration": 0,
    "start_time": "2023-10-11T20:57:32.252Z"
   },
   {
    "duration": 0,
    "start_time": "2023-10-11T20:57:32.253Z"
   },
   {
    "duration": 0,
    "start_time": "2023-10-11T20:57:32.255Z"
   },
   {
    "duration": 0,
    "start_time": "2023-10-11T20:57:32.256Z"
   },
   {
    "duration": 0,
    "start_time": "2023-10-11T20:57:32.258Z"
   },
   {
    "duration": 0,
    "start_time": "2023-10-11T20:57:32.259Z"
   },
   {
    "duration": 0,
    "start_time": "2023-10-11T20:57:32.260Z"
   },
   {
    "duration": 0,
    "start_time": "2023-10-11T20:57:32.262Z"
   },
   {
    "duration": 0,
    "start_time": "2023-10-11T20:57:32.264Z"
   },
   {
    "duration": 0,
    "start_time": "2023-10-11T20:57:32.268Z"
   },
   {
    "duration": 0,
    "start_time": "2023-10-11T20:57:32.270Z"
   },
   {
    "duration": 0,
    "start_time": "2023-10-11T20:57:32.271Z"
   },
   {
    "duration": 0,
    "start_time": "2023-10-11T20:57:32.276Z"
   },
   {
    "duration": 0,
    "start_time": "2023-10-11T20:57:32.278Z"
   },
   {
    "duration": 0,
    "start_time": "2023-10-11T20:57:32.279Z"
   },
   {
    "duration": 1,
    "start_time": "2023-10-11T20:57:32.279Z"
   },
   {
    "duration": 0,
    "start_time": "2023-10-11T20:57:32.281Z"
   },
   {
    "duration": 0,
    "start_time": "2023-10-11T20:57:32.282Z"
   },
   {
    "duration": 0,
    "start_time": "2023-10-11T20:57:32.331Z"
   },
   {
    "duration": 0,
    "start_time": "2023-10-11T20:57:32.332Z"
   },
   {
    "duration": 0,
    "start_time": "2023-10-11T20:57:32.334Z"
   },
   {
    "duration": 0,
    "start_time": "2023-10-11T20:57:32.335Z"
   },
   {
    "duration": 1236,
    "start_time": "2023-10-11T20:58:12.334Z"
   },
   {
    "duration": 7,
    "start_time": "2023-10-11T20:58:13.573Z"
   },
   {
    "duration": 2713,
    "start_time": "2023-10-11T20:58:13.582Z"
   },
   {
    "duration": 3,
    "start_time": "2023-10-11T20:58:16.297Z"
   },
   {
    "duration": 946,
    "start_time": "2023-10-11T20:58:16.302Z"
   },
   {
    "duration": 16,
    "start_time": "2023-10-11T20:58:17.249Z"
   },
   {
    "duration": 171,
    "start_time": "2023-10-11T20:58:17.266Z"
   },
   {
    "duration": 137,
    "start_time": "2023-10-11T20:58:17.439Z"
   },
   {
    "duration": 197,
    "start_time": "2023-10-11T20:58:17.578Z"
   },
   {
    "duration": 84,
    "start_time": "2023-10-11T20:58:17.776Z"
   },
   {
    "duration": 282,
    "start_time": "2023-10-11T20:58:17.862Z"
   },
   {
    "duration": 278,
    "start_time": "2023-10-11T20:58:18.146Z"
   },
   {
    "duration": 26,
    "start_time": "2023-10-11T20:58:18.426Z"
   },
   {
    "duration": 130,
    "start_time": "2023-10-11T20:58:18.455Z"
   },
   {
    "duration": 12,
    "start_time": "2023-10-11T20:58:18.587Z"
   },
   {
    "duration": 400,
    "start_time": "2023-10-11T20:58:18.600Z"
   },
   {
    "duration": 443,
    "start_time": "2023-10-11T20:58:19.002Z"
   },
   {
    "duration": 191,
    "start_time": "2023-10-11T20:58:19.447Z"
   },
   {
    "duration": 10,
    "start_time": "2023-10-11T20:58:19.641Z"
   },
   {
    "duration": 64,
    "start_time": "2023-10-11T20:58:19.653Z"
   },
   {
    "duration": 10,
    "start_time": "2023-10-11T20:58:19.719Z"
   },
   {
    "duration": 57,
    "start_time": "2023-10-11T20:58:19.731Z"
   },
   {
    "duration": 328,
    "start_time": "2023-10-11T20:58:19.790Z"
   },
   {
    "duration": 77,
    "start_time": "2023-10-11T20:58:20.126Z"
   },
   {
    "duration": 166,
    "start_time": "2023-10-11T20:58:20.205Z"
   },
   {
    "duration": 98,
    "start_time": "2023-10-11T20:58:20.373Z"
   },
   {
    "duration": 46,
    "start_time": "2023-10-11T20:58:20.473Z"
   },
   {
    "duration": 48,
    "start_time": "2023-10-11T20:58:20.521Z"
   },
   {
    "duration": 95,
    "start_time": "2023-10-11T20:58:20.571Z"
   },
   {
    "duration": 83,
    "start_time": "2023-10-11T20:58:20.668Z"
   },
   {
    "duration": 238,
    "start_time": "2023-10-11T20:58:20.753Z"
   },
   {
    "duration": 2912,
    "start_time": "2023-10-11T20:58:20.993Z"
   },
   {
    "duration": 31,
    "start_time": "2023-10-11T20:58:23.907Z"
   },
   {
    "duration": 1293,
    "start_time": "2023-10-11T20:58:23.940Z"
   },
   {
    "duration": 24,
    "start_time": "2023-10-11T20:58:25.235Z"
   },
   {
    "duration": 1449,
    "start_time": "2023-10-11T20:58:25.261Z"
   },
   {
    "duration": 1768,
    "start_time": "2023-10-11T20:58:26.712Z"
   },
   {
    "duration": 19,
    "start_time": "2023-10-11T20:58:28.482Z"
   },
   {
    "duration": 56,
    "start_time": "2023-10-11T20:58:28.502Z"
   },
   {
    "duration": 46,
    "start_time": "2023-10-11T20:58:28.560Z"
   },
   {
    "duration": 36126,
    "start_time": "2023-10-11T20:58:28.610Z"
   },
   {
    "duration": 106,
    "start_time": "2023-10-11T20:59:04.823Z"
   },
   {
    "duration": 8,
    "start_time": "2023-10-11T20:59:04.932Z"
   },
   {
    "duration": 1692,
    "start_time": "2023-10-12T05:49:16.198Z"
   },
   {
    "duration": 7,
    "start_time": "2023-10-12T05:49:17.892Z"
   },
   {
    "duration": 7205,
    "start_time": "2023-10-12T05:49:17.902Z"
   },
   {
    "duration": 3,
    "start_time": "2023-10-12T05:49:25.110Z"
   },
   {
    "duration": 1210,
    "start_time": "2023-10-12T05:49:25.115Z"
   },
   {
    "duration": 21,
    "start_time": "2023-10-12T05:49:26.327Z"
   },
   {
    "duration": 168,
    "start_time": "2023-10-12T05:49:26.349Z"
   },
   {
    "duration": 140,
    "start_time": "2023-10-12T05:49:26.520Z"
   },
   {
    "duration": 198,
    "start_time": "2023-10-12T05:49:26.662Z"
   },
   {
    "duration": 97,
    "start_time": "2023-10-12T05:49:26.863Z"
   },
   {
    "duration": 291,
    "start_time": "2023-10-12T05:49:26.963Z"
   },
   {
    "duration": 276,
    "start_time": "2023-10-12T05:49:27.255Z"
   },
   {
    "duration": 23,
    "start_time": "2023-10-12T05:49:27.533Z"
   },
   {
    "duration": 156,
    "start_time": "2023-10-12T05:49:27.558Z"
   },
   {
    "duration": 37,
    "start_time": "2023-10-12T05:49:27.715Z"
   },
   {
    "duration": 398,
    "start_time": "2023-10-12T05:49:27.754Z"
   },
   {
    "duration": 428,
    "start_time": "2023-10-12T05:49:28.154Z"
   },
   {
    "duration": 216,
    "start_time": "2023-10-12T05:49:28.584Z"
   },
   {
    "duration": 12,
    "start_time": "2023-10-12T05:49:28.803Z"
   },
   {
    "duration": 89,
    "start_time": "2023-10-12T05:49:28.817Z"
   },
   {
    "duration": 9,
    "start_time": "2023-10-12T05:49:28.909Z"
   },
   {
    "duration": 100,
    "start_time": "2023-10-12T05:49:28.921Z"
   },
   {
    "duration": 611,
    "start_time": "2023-10-12T05:49:29.024Z"
   },
   {
    "duration": 95,
    "start_time": "2023-10-12T05:49:29.636Z"
   },
   {
    "duration": 11,
    "start_time": "2023-10-12T05:49:29.733Z"
   },
   {
    "duration": 38,
    "start_time": "2023-10-12T05:49:29.746Z"
   },
   {
    "duration": 16,
    "start_time": "2023-10-12T05:49:29.785Z"
   },
   {
    "duration": 22,
    "start_time": "2023-10-12T05:49:29.805Z"
   },
   {
    "duration": 43,
    "start_time": "2023-10-12T05:49:29.828Z"
   },
   {
    "duration": 37,
    "start_time": "2023-10-12T05:49:29.873Z"
   },
   {
    "duration": 172,
    "start_time": "2023-10-12T05:49:29.912Z"
   },
   {
    "duration": 169,
    "start_time": "2023-10-12T05:49:30.086Z"
   },
   {
    "duration": 0,
    "start_time": "2023-10-12T05:49:30.257Z"
   },
   {
    "duration": 0,
    "start_time": "2023-10-12T05:49:30.259Z"
   },
   {
    "duration": 0,
    "start_time": "2023-10-12T05:49:30.260Z"
   },
   {
    "duration": 0,
    "start_time": "2023-10-12T05:49:30.261Z"
   },
   {
    "duration": 0,
    "start_time": "2023-10-12T05:49:30.263Z"
   },
   {
    "duration": 0,
    "start_time": "2023-10-12T05:49:30.264Z"
   },
   {
    "duration": 0,
    "start_time": "2023-10-12T05:49:30.266Z"
   },
   {
    "duration": 0,
    "start_time": "2023-10-12T05:49:30.267Z"
   },
   {
    "duration": 0,
    "start_time": "2023-10-12T05:49:30.269Z"
   },
   {
    "duration": 0,
    "start_time": "2023-10-12T05:49:30.270Z"
   },
   {
    "duration": 0,
    "start_time": "2023-10-12T05:49:30.272Z"
   },
   {
    "duration": 0,
    "start_time": "2023-10-12T05:49:30.274Z"
   },
   {
    "duration": 0,
    "start_time": "2023-10-12T05:49:30.276Z"
   },
   {
    "duration": 0,
    "start_time": "2023-10-12T05:49:30.277Z"
   },
   {
    "duration": 0,
    "start_time": "2023-10-12T05:49:30.278Z"
   },
   {
    "duration": 0,
    "start_time": "2023-10-12T05:49:30.280Z"
   },
   {
    "duration": 0,
    "start_time": "2023-10-12T05:49:30.281Z"
   },
   {
    "duration": 0,
    "start_time": "2023-10-12T05:49:30.283Z"
   },
   {
    "duration": 0,
    "start_time": "2023-10-12T05:49:30.284Z"
   },
   {
    "duration": 0,
    "start_time": "2023-10-12T05:49:30.286Z"
   },
   {
    "duration": 0,
    "start_time": "2023-10-12T05:49:30.287Z"
   },
   {
    "duration": 0,
    "start_time": "2023-10-12T05:49:30.289Z"
   },
   {
    "duration": 0,
    "start_time": "2023-10-12T05:49:30.343Z"
   },
   {
    "duration": 0,
    "start_time": "2023-10-12T05:49:30.345Z"
   },
   {
    "duration": 0,
    "start_time": "2023-10-12T05:49:30.347Z"
   },
   {
    "duration": 1386,
    "start_time": "2023-10-12T05:50:50.674Z"
   },
   {
    "duration": 7,
    "start_time": "2023-10-12T05:50:52.063Z"
   },
   {
    "duration": 3036,
    "start_time": "2023-10-12T05:50:52.071Z"
   },
   {
    "duration": 3,
    "start_time": "2023-10-12T05:50:55.110Z"
   },
   {
    "duration": 1137,
    "start_time": "2023-10-12T05:50:55.115Z"
   },
   {
    "duration": 24,
    "start_time": "2023-10-12T05:50:56.256Z"
   },
   {
    "duration": 220,
    "start_time": "2023-10-12T05:50:56.282Z"
   },
   {
    "duration": 174,
    "start_time": "2023-10-12T05:50:56.504Z"
   },
   {
    "duration": 213,
    "start_time": "2023-10-12T05:50:56.680Z"
   },
   {
    "duration": 96,
    "start_time": "2023-10-12T05:50:56.896Z"
   },
   {
    "duration": 330,
    "start_time": "2023-10-12T05:50:56.994Z"
   },
   {
    "duration": 310,
    "start_time": "2023-10-12T05:50:57.326Z"
   },
   {
    "duration": 34,
    "start_time": "2023-10-12T05:50:57.638Z"
   },
   {
    "duration": 191,
    "start_time": "2023-10-12T05:50:57.674Z"
   },
   {
    "duration": 14,
    "start_time": "2023-10-12T05:50:57.867Z"
   },
   {
    "duration": 476,
    "start_time": "2023-10-12T05:50:57.882Z"
   },
   {
    "duration": 471,
    "start_time": "2023-10-12T05:50:58.363Z"
   },
   {
    "duration": 226,
    "start_time": "2023-10-12T05:50:58.836Z"
   },
   {
    "duration": 14,
    "start_time": "2023-10-12T05:50:59.065Z"
   },
   {
    "duration": 84,
    "start_time": "2023-10-12T05:50:59.083Z"
   },
   {
    "duration": 7,
    "start_time": "2023-10-12T05:50:59.169Z"
   },
   {
    "duration": 109,
    "start_time": "2023-10-12T05:50:59.178Z"
   },
   {
    "duration": 407,
    "start_time": "2023-10-12T05:50:59.289Z"
   },
   {
    "duration": 95,
    "start_time": "2023-10-12T05:50:59.698Z"
   },
   {
    "duration": 3,
    "start_time": "2023-10-12T05:50:59.795Z"
   },
   {
    "duration": 82,
    "start_time": "2023-10-12T05:50:59.799Z"
   },
   {
    "duration": 15,
    "start_time": "2023-10-12T05:50:59.883Z"
   },
   {
    "duration": 12,
    "start_time": "2023-10-12T05:50:59.902Z"
   },
   {
    "duration": 64,
    "start_time": "2023-10-12T05:50:59.915Z"
   },
   {
    "duration": 75,
    "start_time": "2023-10-12T05:50:59.981Z"
   },
   {
    "duration": 216,
    "start_time": "2023-10-12T05:51:00.058Z"
   },
   {
    "duration": 3390,
    "start_time": "2023-10-12T05:51:00.275Z"
   },
   {
    "duration": 33,
    "start_time": "2023-10-12T05:51:03.666Z"
   },
   {
    "duration": 1715,
    "start_time": "2023-10-12T05:51:03.701Z"
   },
   {
    "duration": 31,
    "start_time": "2023-10-12T05:51:05.417Z"
   },
   {
    "duration": 1962,
    "start_time": "2023-10-12T05:51:05.450Z"
   },
   {
    "duration": 4611,
    "start_time": "2023-10-12T05:51:07.414Z"
   },
   {
    "duration": 31,
    "start_time": "2023-10-12T05:51:12.027Z"
   },
   {
    "duration": 24,
    "start_time": "2023-10-12T05:51:12.060Z"
   },
   {
    "duration": 55,
    "start_time": "2023-10-12T05:51:12.086Z"
   },
   {
    "duration": 63504,
    "start_time": "2023-10-12T05:51:12.154Z"
   },
   {
    "duration": 183,
    "start_time": "2023-10-12T05:52:15.666Z"
   },
   {
    "duration": 9,
    "start_time": "2023-10-12T05:52:15.862Z"
   },
   {
    "duration": 1000905,
    "start_time": "2023-10-12T05:52:15.946Z"
   },
   {
    "duration": 4,
    "start_time": "2023-10-12T06:08:56.854Z"
   },
   {
    "duration": 25,
    "start_time": "2023-10-12T06:08:56.945Z"
   },
   {
    "duration": 24,
    "start_time": "2023-10-12T06:08:56.972Z"
   },
   {
    "duration": 30,
    "start_time": "2023-10-12T06:08:56.998Z"
   },
   {
    "duration": 112,
    "start_time": "2023-10-12T06:08:57.030Z"
   },
   {
    "duration": 153,
    "start_time": "2023-10-12T06:08:57.144Z"
   },
   {
    "duration": 408661,
    "start_time": "2023-10-12T06:08:57.299Z"
   },
   {
    "duration": 3,
    "start_time": "2023-10-12T06:15:45.962Z"
   },
   {
    "duration": 76,
    "start_time": "2023-10-12T06:15:45.967Z"
   },
   {
    "duration": 714,
    "start_time": "2023-10-12T06:15:46.046Z"
   },
   {
    "duration": 84,
    "start_time": "2023-10-12T06:15:46.762Z"
   },
   {
    "duration": 9,
    "start_time": "2023-10-12T06:15:46.848Z"
   },
   {
    "duration": 796,
    "start_time": "2023-10-12T06:15:46.858Z"
   }
  ],
  "kernelspec": {
   "display_name": "Python 3 (ipykernel)",
   "language": "python",
   "name": "python3"
  },
  "language_info": {
   "codemirror_mode": {
    "name": "ipython",
    "version": 3
   },
   "file_extension": ".py",
   "mimetype": "text/x-python",
   "name": "python",
   "nbconvert_exporter": "python",
   "pygments_lexer": "ipython3",
   "version": "3.9.17"
  },
  "toc": {
   "base_numbering": 1,
   "nav_menu": {},
   "number_sections": true,
   "sideBar": true,
   "skip_h1_title": true,
   "title_cell": "Table of Contents",
   "title_sidebar": "Contents",
   "toc_cell": false,
   "toc_position": {},
   "toc_section_display": true,
   "toc_window_display": false
  }
 },
 "nbformat": 4,
 "nbformat_minor": 2
}
